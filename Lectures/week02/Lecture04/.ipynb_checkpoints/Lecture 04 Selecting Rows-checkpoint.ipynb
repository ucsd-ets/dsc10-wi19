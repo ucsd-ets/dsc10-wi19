{
 "cells": [
  {
   "cell_type": "markdown",
   "metadata": {
    "slideshow": {
     "slide_type": "slide"
    }
   },
   "source": [
    "# Lecture 4 - Selecting Rows\n",
    "\n",
    "### Announcements\n",
    "\n",
    "- Lab 02 due tomorrow\n",
    "- HW 02 out tonight.  Due Sunday.\n",
    "- Project 01 out Friday (hopefully)\n",
    "- No class on Monday due to holiday, but Lab 03 will release\n",
    "- Waitlist issues should be sorted"
   ]
  },
  {
   "cell_type": "markdown",
   "metadata": {
    "slideshow": {
     "slide_type": "slide"
    }
   },
   "source": [
    "# The datascience module\n",
    "* see documentation here: http://data8.org/datascience/tables.html\n",
    "* similar to Pandas dataframes, R data.frame, Spark dataframes"
   ]
  },
  {
   "cell_type": "markdown",
   "metadata": {
    "slideshow": {
     "slide_type": "slide"
    }
   },
   "source": [
    "## Why not use a \"real\" library for tables?\n",
    "* production libraries contain ugly warts and bloat.\n",
    "* The datascience module highlights only what's important.\n",
    "* Easy to transition to production libraries (do it, if you're movtivated!)."
   ]
  },
  {
   "cell_type": "markdown",
   "metadata": {},
   "source": [
    "# Anatomy of a table"
   ]
  },
  {
   "cell_type": "code",
   "execution_count": null,
   "metadata": {
    "slideshow": {
     "slide_type": "slide"
    }
   },
   "outputs": [],
   "source": [
    "#: the usual imports\n",
    "from datascience import *\n",
    "import numpy as np"
   ]
  },
  {
   "cell_type": "code",
   "execution_count": null,
   "metadata": {},
   "outputs": [],
   "source": [
    "# read './minard.csv'\n",
    "minard = Table.read_table('minard.csv')\n",
    "minard"
   ]
  },
  {
   "cell_type": "markdown",
   "metadata": {
    "slideshow": {
     "slide_type": "slide"
    }
   },
   "source": [
    "### Shape of a table:\n",
    "* number of columns,\n",
    "* number of rows"
   ]
  },
  {
   "cell_type": "code",
   "execution_count": null,
   "metadata": {},
   "outputs": [],
   "source": [
    "minard.num_columns"
   ]
  },
  {
   "cell_type": "code",
   "execution_count": null,
   "metadata": {},
   "outputs": [],
   "source": [
    "minard.num_rows"
   ]
  },
  {
   "cell_type": "markdown",
   "metadata": {
    "slideshow": {
     "slide_type": "slide"
    }
   },
   "source": [
    "### labels and relabeling columns\n",
    "* `.labels` and `.relabeled(old_name, new_name)`\n",
    "* `.relabeled` returns a new table (doesn't change the current one)"
   ]
  },
  {
   "cell_type": "code",
   "execution_count": null,
   "metadata": {},
   "outputs": [],
   "source": [
    "minard.labels"
   ]
  },
  {
   "cell_type": "code",
   "execution_count": null,
   "metadata": {},
   "outputs": [],
   "source": [
    "minard.relabeled('City', 'City Name')"
   ]
  },
  {
   "cell_type": "markdown",
   "metadata": {
    "slideshow": {
     "slide_type": "slide"
    }
   },
   "source": [
    "### Selecting columns and table elements\n",
    "* `.column()` takes a column name/index; returns an array.\n",
    "* `.select()` takes column(s) (name/index); returns a table."
   ]
  },
  {
   "cell_type": "code",
   "execution_count": null,
   "metadata": {},
   "outputs": [],
   "source": [
    "# access a column (array)\n",
    "minard.column('City Name')"
   ]
  },
  {
   "cell_type": "code",
   "execution_count": null,
   "metadata": {},
   "outputs": [],
   "source": [
    "# access an element of the table\n",
    "minard.column('City Name').item(0)"
   ]
  },
  {
   "cell_type": "code",
   "execution_count": null,
   "metadata": {},
   "outputs": [],
   "source": [
    "minard.select('City Name', 'Latitude')"
   ]
  },
  {
   "cell_type": "code",
   "execution_count": null,
   "metadata": {},
   "outputs": [],
   "source": [
    "lat_long_cols = ['Latitude', 'Longitude']\n",
    "minard.select(lat_long_cols)"
   ]
  },
  {
   "cell_type": "markdown",
   "metadata": {
    "slideshow": {
     "slide_type": "slide"
    }
   },
   "source": [
    "### Adding columns: percentage of surviving troops at step k\n",
    "* use `.with_column(col_name, array)`\n",
    "* use `PercentFormatter` using `.set_format(col, formatter)`"
   ]
  },
  {
   "cell_type": "code",
   "execution_count": null,
   "metadata": {},
   "outputs": [],
   "source": [
    "initial = minard.column('Survivors').item(0)\n",
    "minard = minard.with_column(\n",
    "    'Percent Surviving', minard.column('Survivors')/initial\n",
    ")\n",
    "minard"
   ]
  },
  {
   "cell_type": "code",
   "execution_count": null,
   "metadata": {},
   "outputs": [],
   "source": [
    "# format the percent column\n",
    "minard.set_format('Percent Surviving', PercentFormatter)"
   ]
  },
  {
   "cell_type": "markdown",
   "metadata": {
    "slideshow": {
     "slide_type": "slide"
    }
   },
   "source": [
    "### Dropping columns\n",
    "* `.drop(cols)`"
   ]
  },
  {
   "cell_type": "code",
   "execution_count": null,
   "metadata": {},
   "outputs": [],
   "source": [
    "minard.drop(lat_long_cols)"
   ]
  },
  {
   "cell_type": "code",
   "execution_count": null,
   "metadata": {},
   "outputs": [],
   "source": [
    "minard"
   ]
  },
  {
   "cell_type": "markdown",
   "metadata": {
    "slideshow": {
     "slide_type": "slide"
    }
   },
   "source": [
    "### Discussion Question\n",
    "\n",
    "|How would you calculate the average of the numbers in last column of `minard`?|\n",
    "|---|\n",
    "|`A. sum(minard.select('Survivors')) / minard.num_rows`|\n",
    "|`B. sum(minard.column('Survivors')) / minard.num_rows`|\n",
    "|`C.                                Both A and B work.`|\n",
    "|`D.                             Neither A nor B work.`|"
   ]
  },
  {
   "cell_type": "markdown",
   "metadata": {
    "slideshow": {
     "slide_type": "slide"
    }
   },
   "source": [
    "# Summary of Table methods\n",
    "\n",
    "Description|datascience module methods\n",
    "---|---\n",
    "Creating and extending tables:| `Table.read_table` and `Table().with_columns`\n",
    "Finding the size| `num_rows` and `num_columns`\n",
    "Referring to columns: labels, relabeling, and indices | `labels` and `relabeled`; column indices start at 0\n",
    "Accessing data in a column|`column` takes a label or index and returns an array\n",
    "Using array methods to work with data in columns|`item, sum, min, max`, and so on\n",
    "Creating new tables containing some of the original columns:| `select, drop`"
   ]
  },
  {
   "cell_type": "markdown",
   "metadata": {
    "slideshow": {
     "slide_type": "slide"
    }
   },
   "source": [
    "# Sorting Tables\n",
    "\n",
    "* The `sort` method creates a new table with the same rows in a different order (the original table is unaffected).\n",
    "\n",
    "* The `show` method displays the first rows of a table"
   ]
  },
  {
   "cell_type": "code",
   "execution_count": null,
   "metadata": {},
   "outputs": [],
   "source": [
    "# Larger tables have rows omitted\n",
    "# read in ./nba_salaries.csv\n",
    "nba = Table.read_table('nba_salaries.csv')\n",
    "nba"
   ]
  },
  {
   "cell_type": "markdown",
   "metadata": {
    "slideshow": {
     "slide_type": "slide"
    }
   },
   "source": [
    "### In 2015-16, what was the total payroll for all NBA teams combined?"
   ]
  },
  {
   "cell_type": "code",
   "execution_count": null,
   "metadata": {},
   "outputs": [],
   "source": [
    "sum(nba.column(\"'15-'16 SALARY\"))"
   ]
  },
  {
   "cell_type": "markdown",
   "metadata": {
    "slideshow": {
     "slide_type": "slide"
    }
   },
   "source": [
    "### What's the largest salary in the NBA in 2015-16? Who earned it?"
   ]
  },
  {
   "cell_type": "code",
   "execution_count": null,
   "metadata": {},
   "outputs": [],
   "source": [
    "nba.column(\"'15-'16 SALARY\").max()"
   ]
  },
  {
   "cell_type": "code",
   "execution_count": null,
   "metadata": {},
   "outputs": [],
   "source": [
    "nba.sort(\"'15-'16 SALARY\", descending=True).show(5)"
   ]
  },
  {
   "cell_type": "markdown",
   "metadata": {
    "slideshow": {
     "slide_type": "slide"
    }
   },
   "source": [
    "### What are the optional arguments for `sort`?\n",
    "\n",
    "* `descending=True`, sorts the column in descending order (default: ascending order).\n",
    "* `distinct=True`, omits repeated values of the column, keeping the only the first. "
   ]
  },
  {
   "cell_type": "markdown",
   "metadata": {
    "slideshow": {
     "slide_type": "slide"
    }
   },
   "source": [
    "# Discussion Question\n",
    "\n",
    "|Which line of code creates a table of the highest-paid players in each position?|\n",
    "|---|\n",
    "|`A.  nba.sort(3, descending=True).sort(1, distinct=False)`|\n",
    "|`B.  nba.sort(3, descending=False).sort(1, distinct=True)`|\n",
    "|`C. nba.sort(3, descending=False).sort(1, distinct=False)`|\n",
    "|`D.   nba.sort(3, descending=True).sort(1, distinct=True)`|"
   ]
  },
  {
   "cell_type": "markdown",
   "metadata": {
    "slideshow": {
     "slide_type": "slide"
    }
   },
   "source": [
    "# Digression: Lists"
   ]
  },
  {
   "cell_type": "markdown",
   "metadata": {
    "slideshow": {
     "slide_type": "slide"
    }
   },
   "source": [
    "Let's make an array, but have it hold objects of different types:"
   ]
  },
  {
   "cell_type": "code",
   "execution_count": null,
   "metadata": {
    "slideshow": {
     "slide_type": "-"
    }
   },
   "outputs": [],
   "source": [
    "data = make_array(1, 3.1415, 'n/a')\n",
    "data"
   ]
  },
  {
   "cell_type": "markdown",
   "metadata": {
    "slideshow": {
     "slide_type": "fragment"
    }
   },
   "source": [
    "Wait, what is the type of the first element?"
   ]
  },
  {
   "cell_type": "code",
   "execution_count": null,
   "metadata": {},
   "outputs": [],
   "source": [
    "type(data.item(0))"
   ]
  },
  {
   "cell_type": "markdown",
   "metadata": {
    "slideshow": {
     "slide_type": "slide"
    }
   },
   "source": [
    "## Lists are generic sequences\n",
    "\n",
    "- Arrays should only hold objects of one type.\n",
    "- But `list`s can hold things of different types."
   ]
  },
  {
   "cell_type": "code",
   "execution_count": null,
   "metadata": {},
   "outputs": [],
   "source": [
    "[1, 3.1415, 'hey']"
   ]
  },
  {
   "cell_type": "markdown",
   "metadata": {
    "slideshow": {
     "slide_type": "slide"
    }
   },
   "source": [
    "## Why use arrays instead of lists?"
   ]
  },
  {
   "cell_type": "markdown",
   "metadata": {},
   "source": [
    "Big reason: arrays are fast."
   ]
  },
  {
   "cell_type": "code",
   "execution_count": null,
   "metadata": {},
   "outputs": [],
   "source": [
    "#: an array and a list with the same data\n",
    "n = 9_999_999\n",
    "arr = np.arange(n)\n",
    "lst = list(range(n))"
   ]
  },
  {
   "cell_type": "code",
   "execution_count": null,
   "metadata": {},
   "outputs": [],
   "source": [
    "%timeit arr.sum()"
   ]
  },
  {
   "cell_type": "code",
   "execution_count": null,
   "metadata": {},
   "outputs": [],
   "source": [
    "%timeit sum(lst)"
   ]
  },
  {
   "cell_type": "markdown",
   "metadata": {
    "slideshow": {
     "slide_type": "slide"
    }
   },
   "source": [
    "## Creating tables from lists"
   ]
  },
  {
   "cell_type": "markdown",
   "metadata": {},
   "source": [
    "Passing a list to `.with_column` converts it to an array implicity."
   ]
  },
  {
   "cell_type": "code",
   "execution_count": null,
   "metadata": {},
   "outputs": [],
   "source": [
    "data = Table().with_column('Stuff', [1, 3.1415, 'hey'])\n",
    "data"
   ]
  },
  {
   "cell_type": "markdown",
   "metadata": {
    "slideshow": {
     "slide_type": "fragment"
    }
   },
   "source": [
    "But look at the types..."
   ]
  },
  {
   "cell_type": "code",
   "execution_count": null,
   "metadata": {},
   "outputs": [],
   "source": [
    "data.column('Stuff')"
   ]
  },
  {
   "cell_type": "markdown",
   "metadata": {
    "slideshow": {
     "slide_type": "slide"
    }
   },
   "source": [
    "# Getting rows"
   ]
  },
  {
   "cell_type": "code",
   "execution_count": null,
   "metadata": {},
   "outputs": [],
   "source": [
    "#: let's have some data to work with\n",
    "nba = Table.read_table('nba_salaries.csv')\n",
    "nba"
   ]
  },
  {
   "cell_type": "markdown",
   "metadata": {
    "slideshow": {
     "slide_type": "slide"
    }
   },
   "source": [
    "## Another `.take()`...\n",
    "\n",
    "- We know that `.select()` returns a table with the requested columns.\n",
    "- To get a *table* with requested rows, use `.take()`\n",
    "- As with `.item()`, counting starts with 0!"
   ]
  },
  {
   "cell_type": "code",
   "execution_count": null,
   "metadata": {
    "slideshow": {
     "slide_type": "-"
    }
   },
   "outputs": [],
   "source": [
    "nba"
   ]
  },
  {
   "cell_type": "code",
   "execution_count": null,
   "metadata": {},
   "outputs": [],
   "source": [
    "# get the first element\n",
    "nba.take(0)"
   ]
  },
  {
   "cell_type": "markdown",
   "metadata": {
    "slideshow": {
     "slide_type": "slide"
    }
   },
   "source": [
    "## Multiple rows\n",
    "\n",
    "Take multiple rows by providing a list:"
   ]
  },
  {
   "cell_type": "code",
   "execution_count": null,
   "metadata": {},
   "outputs": [],
   "source": [
    "nba.take([0, 5, 6])"
   ]
  },
  {
   "cell_type": "code",
   "execution_count": null,
   "metadata": {
    "slideshow": {
     "slide_type": "fragment"
    }
   },
   "outputs": [],
   "source": [
    "#: indices have to be in a list!\n",
    "nba.take(0, 5, 6)"
   ]
  },
  {
   "cell_type": "markdown",
   "metadata": {
    "slideshow": {
     "slide_type": "slide"
    }
   },
   "source": [
    "## Discuss\n",
    "\n",
    "For columns, we have:\n",
    "\n",
    "- `.select()`: returns a table\n",
    "- `.column()`: returns and array\n",
    "\n",
    "For rows, we just have:\n",
    "\n",
    "- `.take()`: returns a table\n",
    "\n",
    "Why don't we have something that returns a row as an array?"
   ]
  },
  {
   "cell_type": "markdown",
   "metadata": {
    "slideshow": {
     "slide_type": "slide"
    }
   },
   "source": [
    "# Retrieving rows conditionally"
   ]
  },
  {
   "cell_type": "markdown",
   "metadata": {
    "slideshow": {
     "slide_type": "slide"
    }
   },
   "source": [
    "- We want to grab a subset of rows conditionally.\n",
    "- Examples:\n",
    "    - All NBA players who make over 20 million / year.\n",
    "    - All point guards (PGs) and centers (Cs).\n",
    "    - Any player with more than 20 letters in their name"
   ]
  },
  {
   "cell_type": "markdown",
   "metadata": {
    "slideshow": {
     "slide_type": "slide"
    }
   },
   "source": [
    "## Predicates\n",
    "\n",
    "- A predicate is a function that returns `True` or `False`.\n",
    "- Apply predicate to each item in a column.\n",
    "- Keep entries for which it is `True`.\n",
    "- Discard those for which it is `False`."
   ]
  },
  {
   "cell_type": "markdown",
   "metadata": {
    "slideshow": {
     "slide_type": "slide"
    }
   },
   "source": [
    "## The `.where()` method\n",
    "\n",
    "- Applies a predicate over a column.\n",
    "- Returns new table.\n",
    "- Many predicates are provided."
   ]
  },
  {
   "cell_type": "code",
   "execution_count": null,
   "metadata": {},
   "outputs": [],
   "source": [
    "nba.where(\"'15-'16 SALARY\", are.above(20))"
   ]
  },
  {
   "cell_type": "markdown",
   "metadata": {
    "slideshow": {
     "slide_type": "slide"
    }
   },
   "source": [
    "## Provided predicates\n",
    "\n",
    "|Predicate|Description|\n",
    "|---------|-----------|\n",
    "|`are.above(y)`|Greater than y|\n",
    "|`are.above_or_equal_to(y)`|Greater than or equal to y|\n",
    "|`are.below(y)`|Less than y|\n",
    "|`are.below_or_equal_to(y)`|Less than or equal to y|\n",
    "|`are.between(y, z)`|Greater than or equal to y and less than z|\n",
    "|`are.between_or_equal_to(y, z)`|Greater than or equal to y and less than or equal to z|\n",
    "|`are.contained_in(superstring)`|A string that is part of the given superstring|\n",
    "|`are.containing(substring)`|A string that contains within it the given substring|\n",
    "|`are.equal_to(y)`|Equal to y|\n",
    "|`are.not_above(y)`|Is not above |\n",
    "|`are.not_above_or_equal_to(y)`|Is neither above y nor equal to |\n",
    "|`are.not_below(y)`|Is not below |\n",
    "|`are.not_below_or_equal_to(y)`|Is neither below y nor equal to |\n",
    "|`are.not_between(y, z)`|Is equal to y or less than y or greater than |\n",
    "|`are.not_between_or_equal_to(y, z)`|Is less than y or greater than |\n",
    "|`are.not_contained_in(superstring)`|A string that is not contained within the superstrin|\n",
    "|`are.not_containing(substring)`|A string that does not contain substrin|\n",
    "|`are.not_equal_to(y)`|Is not equal to |\n",
    "|`are.not_strictly_between(y, z)`|Is equal to y or equal to z or less than y or greater than |\n",
    "|`are.strictly_between(y, z)`|Greater than y and less than z|"
   ]
  },
  {
   "cell_type": "markdown",
   "metadata": {
    "slideshow": {
     "slide_type": "slide"
    }
   },
   "source": [
    "## Example\n",
    "\n",
    "Get Lebron's row."
   ]
  },
  {
   "cell_type": "code",
   "execution_count": null,
   "metadata": {},
   "outputs": [],
   "source": [
    "nba.where('PLAYER', are.equal_to('LeBron James'))"
   ]
  },
  {
   "cell_type": "markdown",
   "metadata": {
    "slideshow": {
     "slide_type": "fragment"
    }
   },
   "source": [
    "`are.equal_to` is the default behavior:"
   ]
  },
  {
   "cell_type": "code",
   "execution_count": null,
   "metadata": {},
   "outputs": [],
   "source": [
    "nba.where('PLAYER', 'LeBron James')"
   ]
  },
  {
   "cell_type": "markdown",
   "metadata": {
    "slideshow": {
     "slide_type": "slide"
    }
   },
   "source": [
    "## Example\n",
    "\n",
    "Grab all players with a salary between 5 and 6 million."
   ]
  },
  {
   "cell_type": "code",
   "execution_count": null,
   "metadata": {},
   "outputs": [],
   "source": [
    "nba.where(\"'15-'16 SALARY\", are.between(5, 6))"
   ]
  },
  {
   "cell_type": "markdown",
   "metadata": {
    "slideshow": {
     "slide_type": "slide"
    }
   },
   "source": [
    "## Example\n",
    "\n",
    "Grab all of the Golden State Warriors players."
   ]
  },
  {
   "cell_type": "code",
   "execution_count": null,
   "metadata": {},
   "outputs": [],
   "source": [
    "nba.where('TEAM', are.containing('Golden State'))"
   ]
  },
  {
   "cell_type": "markdown",
   "metadata": {
    "slideshow": {
     "slide_type": "slide"
    }
   },
   "source": [
    "## Example\n",
    "\n",
    "Find all teammates of LeBron James."
   ]
  },
  {
   "cell_type": "code",
   "execution_count": null,
   "metadata": {},
   "outputs": [],
   "source": [
    "lebron = nba.where('PLAYER', are.containing('LeBron'))\n",
    "team = lebron.column('TEAM').item(0)\n",
    "nba.where('TEAM', team)"
   ]
  },
  {
   "cell_type": "markdown",
   "metadata": {
    "slideshow": {
     "slide_type": "slide"
    }
   },
   "source": [
    "## Predicates are functions!"
   ]
  },
  {
   "cell_type": "code",
   "execution_count": null,
   "metadata": {},
   "outputs": [],
   "source": [
    "# this creates a new function, f\n",
    "f = are.above(30)"
   ]
  },
  {
   "cell_type": "code",
   "execution_count": null,
   "metadata": {},
   "outputs": [],
   "source": [
    "f(31)"
   ]
  },
  {
   "cell_type": "code",
   "execution_count": null,
   "metadata": {},
   "outputs": [],
   "source": [
    "f(29)"
   ]
  },
  {
   "cell_type": "markdown",
   "metadata": {
    "slideshow": {
     "slide_type": "slide"
    }
   },
   "source": [
    "## Looking ahead: creating own predicates"
   ]
  },
  {
   "cell_type": "markdown",
   "metadata": {},
   "source": [
    "In Python, as in most languages, you can create your own functions."
   ]
  },
  {
   "cell_type": "code",
   "execution_count": null,
   "metadata": {},
   "outputs": [],
   "source": [
    "#: we can define our own predicates...\n",
    "def name_is_20_or_more_letters(name):\n",
    "    return len(name) >= 20"
   ]
  },
  {
   "cell_type": "code",
   "execution_count": null,
   "metadata": {},
   "outputs": [],
   "source": [
    "nba.where('PLAYER', name_is_20_or_more_letters)"
   ]
  },
  {
   "cell_type": "markdown",
   "metadata": {
    "slideshow": {
     "slide_type": "slide"
    }
   },
   "source": [
    "# Discussion Question\n",
    "\n",
    "`.with_row()` works like `.with_column()`...\n",
    "\n",
    "The table `nba` has columns `PLAYER`, `POSITION`, `TEAM`, `SALARY`.\n",
    "\n",
    "What is the output when we execute a cell containing these two lines of code?\n",
    "\n",
    "```\n",
    "nba.with_row(['Jazz Bear', 'Mascot', 'Utah Jazz', 100])\n",
    "nba.where('PLAYER', are.containing('Bear'))\n",
    "```\n",
    "\n",
    "* A. A table with one row for Jazz Bear\n",
    "* B. An empty table with no rows\n",
    "* C. An error message"
   ]
  },
  {
   "cell_type": "markdown",
   "metadata": {
    "slideshow": {
     "slide_type": "slide"
    }
   },
   "source": [
    "# Practice: Census data\n",
    "\n",
    "- Every ten years, the U.S. Census Bureau counts the number of people in the U.S.\n",
    "- On other years, the bureau *estimates* the population\n",
    "- Data is published online"
   ]
  },
  {
   "cell_type": "markdown",
   "metadata": {
    "slideshow": {
     "slide_type": "slide"
    }
   },
   "source": [
    "## What does the file look like?"
   ]
  },
  {
   "cell_type": "code",
   "execution_count": null,
   "metadata": {},
   "outputs": [],
   "source": [
    "# prints the first few lines of the file\n",
    "!head census.csv"
   ]
  },
  {
   "cell_type": "markdown",
   "metadata": {
    "slideshow": {
     "slide_type": "slide"
    }
   },
   "source": [
    "## Read the data from disk"
   ]
  },
  {
   "cell_type": "code",
   "execution_count": null,
   "metadata": {},
   "outputs": [],
   "source": [
    "#: the usual code...\n",
    "census = Table.read_table('census.csv')\n",
    "census"
   ]
  },
  {
   "cell_type": "markdown",
   "metadata": {
    "slideshow": {
     "slide_type": "slide"
    }
   },
   "source": [
    "## Or, read the data from a URL directly"
   ]
  },
  {
   "cell_type": "code",
   "execution_count": null,
   "metadata": {},
   "outputs": [],
   "source": [
    "#: the url to the data file\n",
    "url = 'http://inferentialthinking.com/notebooks/nc-est2015-agesex-res.csv'"
   ]
  },
  {
   "cell_type": "code",
   "execution_count": null,
   "metadata": {},
   "outputs": [],
   "source": [
    "# download the data from the World Wide Web\n",
    "census = Table.read_table(url)\n",
    "census"
   ]
  },
  {
   "cell_type": "markdown",
   "metadata": {
    "slideshow": {
     "slide_type": "slide"
    }
   },
   "source": [
    "## What do we have?\n",
    "\n",
    "A description of the dataset is available at [census.gov](https://www2.census.gov/programs-surveys/popest/datasets/2010-2015/national/asrh/nc-est2015-agesex-res.pdf)."
   ]
  },
  {
   "cell_type": "markdown",
   "metadata": {
    "slideshow": {
     "slide_type": "fragment"
    }
   },
   "source": [
    "Unfortunately...\n",
    "\n",
    "<center>\n",
    "<img src=\"./moved.png\" width=50%>\n",
    "</center>"
   ]
  },
  {
   "cell_type": "markdown",
   "metadata": {
    "slideshow": {
     "slide_type": "slide"
    }
   },
   "source": [
    "## What are the column labels?"
   ]
  },
  {
   "cell_type": "code",
   "execution_count": null,
   "metadata": {},
   "outputs": [],
   "source": [
    "census.labels"
   ]
  },
  {
   "cell_type": "markdown",
   "metadata": {
    "slideshow": {
     "slide_type": "slide"
    }
   },
   "source": [
    "## What values occur in each column?\n",
    "\n",
    "Use `np.unique` to get the unique values."
   ]
  },
  {
   "cell_type": "code",
   "execution_count": null,
   "metadata": {},
   "outputs": [],
   "source": [
    "# what ages occur in the data?\n",
    "np.unique(census.column('AGE'))"
   ]
  },
  {
   "cell_type": "markdown",
   "metadata": {
    "slideshow": {
     "slide_type": "fragment"
    }
   },
   "source": [
    "Wait, `999`?"
   ]
  },
  {
   "cell_type": "markdown",
   "metadata": {
    "slideshow": {
     "slide_type": "slide"
    }
   },
   "source": [
    "## What is `999` used for?"
   ]
  },
  {
   "cell_type": "code",
   "execution_count": null,
   "metadata": {},
   "outputs": [],
   "source": [
    "census.where('AGE', 999)"
   ]
  },
  {
   "cell_type": "markdown",
   "metadata": {
    "slideshow": {
     "slide_type": "fragment"
    }
   },
   "source": [
    "- It looks like `999` means *all ages together*.\n",
    "- Similarly, a `SEX` of `0` means *all sexes together*."
   ]
  },
  {
   "cell_type": "markdown",
   "metadata": {
    "slideshow": {
     "slide_type": "slide"
    }
   },
   "source": [
    "## Discuss\n",
    "\n",
    "Using the data alone, how might we make an educated guess as to which value of `SEX` means \"male\" and which means \"female\"?"
   ]
  },
  {
   "cell_type": "code",
   "execution_count": null,
   "metadata": {},
   "outputs": [],
   "source": [
    "census.where('AGE', 87)"
   ]
  },
  {
   "cell_type": "markdown",
   "metadata": {
    "slideshow": {
     "slide_type": "fragment"
    }
   },
   "source": [
    "- Women tend to live longer. This suggests that `1` is \"male\" and `2` is \"female\"."
   ]
  },
  {
   "cell_type": "markdown",
   "metadata": {
    "slideshow": {
     "slide_type": "slide"
    }
   },
   "source": [
    "## Analyzing population trends\n",
    "\n",
    "Let's look at how the population changed between 2010 and 2015."
   ]
  },
  {
   "cell_type": "code",
   "execution_count": null,
   "metadata": {},
   "outputs": [],
   "source": [
    "# we only need a few columns\n",
    "us_pop = census.select('SEX', 'AGE', 'POPESTIMATE2010', 'POPESTIMATE2015')"
   ]
  },
  {
   "cell_type": "code",
   "execution_count": null,
   "metadata": {},
   "outputs": [],
   "source": [
    "# we don't like to type POPESTIMATE2010. something shorter...\n",
    "us_pop = us_pop.relabeled('POPESTIMATE2010', '2010').relabeled('POPESTIMATE2015', '2015')\n",
    "us_pop"
   ]
  },
  {
   "cell_type": "markdown",
   "metadata": {
    "slideshow": {
     "slide_type": "slide"
    }
   },
   "source": [
    "## Population changes\n",
    "\n",
    "Compute absolute and percentage changes."
   ]
  },
  {
   "cell_type": "code",
   "execution_count": null,
   "metadata": {},
   "outputs": [],
   "source": [
    "us_pop = us_pop.with_column(\n",
    "    'CHANGE',\n",
    "    us_pop.column('2015') - us_pop.column('2010')\n",
    ")"
   ]
  },
  {
   "cell_type": "code",
   "execution_count": null,
   "metadata": {},
   "outputs": [],
   "source": [
    "us_pop = us_pop.with_column(\n",
    "    'PCT CHANGE',\n",
    "    us_pop.column('CHANGE') / us_pop.column('2010')\n",
    "    )\n",
    "us_pop"
   ]
  },
  {
   "cell_type": "markdown",
   "metadata": {
    "slideshow": {
     "slide_type": "slide"
    }
   },
   "source": [
    "## Display percentages nicely"
   ]
  },
  {
   "cell_type": "code",
   "execution_count": null,
   "metadata": {},
   "outputs": [],
   "source": [
    "us_pop.set_format('PCT CHANGE', PercentFormatter)"
   ]
  },
  {
   "cell_type": "markdown",
   "metadata": {
    "slideshow": {
     "slide_type": "slide"
    }
   },
   "source": [
    "## Discussion Question"
   ]
  },
  {
   "cell_type": "code",
   "execution_count": null,
   "metadata": {},
   "outputs": [],
   "source": [
    "#: Given this data...\n",
    "us_pop.where('AGE', 999).where('SEX', 0)"
   ]
  },
  {
   "cell_type": "markdown",
   "metadata": {},
   "source": [
    "What does this code calculate?\n",
    "\n",
    "`(321418820 / 309346863) ** (1/5) - 1`\n",
    "\n",
    "|Responses|\n",
    "|---------|\n",
    "|A. The ratio of the population in 2015 to the population in 2010.|\n",
    "|B. The precentage by which the population changed from 2010 to 2015.|\n",
    "|C. The annual growth rate for the population from 2010 to 2015.|\n",
    "|D. It doesn't compute anything meaningful.|"
   ]
  },
  {
   "cell_type": "markdown",
   "metadata": {
    "slideshow": {
     "slide_type": "slide"
    }
   },
   "source": [
    "## What age group(s) grew the most in size?\n",
    "\n",
    "1. Any guesses?\n",
    "2. How could we find out?"
   ]
  },
  {
   "cell_type": "code",
   "execution_count": null,
   "metadata": {
    "slideshow": {
     "slide_type": "fragment"
    }
   },
   "outputs": [],
   "source": [
    "us_pop.sort('CHANGE', descending=True)"
   ]
  },
  {
   "cell_type": "markdown",
   "metadata": {
    "slideshow": {
     "slide_type": "slide"
    }
   },
   "source": [
    "## Why?"
   ]
  },
  {
   "cell_type": "code",
   "execution_count": null,
   "metadata": {},
   "outputs": [],
   "source": [
    "2010 - 68"
   ]
  },
  {
   "cell_type": "code",
   "execution_count": null,
   "metadata": {},
   "outputs": [],
   "source": [
    "2015 - 68"
   ]
  },
  {
   "cell_type": "markdown",
   "metadata": {
    "slideshow": {
     "slide_type": "fragment"
    }
   },
   "source": [
    "The post-WWII baby boom."
   ]
  },
  {
   "cell_type": "markdown",
   "metadata": {
    "slideshow": {
     "slide_type": "slide"
    }
   },
   "source": [
    "## How does female:male ratio change with age?\n",
    "\n",
    "General approach:\n",
    "\n",
    "1. Keep data for only one year (say, 2015).\n",
    "2. Make a table of females and a table of males.\n",
    "3. Divide # of females at age by # of males at age"
   ]
  },
  {
   "cell_type": "markdown",
   "metadata": {
    "slideshow": {
     "slide_type": "slide"
    }
   },
   "source": [
    "## 1. Keep data for only 2015"
   ]
  },
  {
   "cell_type": "code",
   "execution_count": null,
   "metadata": {},
   "outputs": [],
   "source": [
    "us_pop_2015 = us_pop.select('SEX', 'AGE', '2015')\n",
    "us_pop"
   ]
  },
  {
   "cell_type": "markdown",
   "metadata": {
    "slideshow": {
     "slide_type": "slide"
    }
   },
   "source": [
    "## 2. Make a table of females and a table of males"
   ]
  },
  {
   "cell_type": "code",
   "execution_count": null,
   "metadata": {},
   "outputs": [],
   "source": [
    "females = us_pop_2015.where('SEX', 2).where('AGE', are.not_equal_to(999))"
   ]
  },
  {
   "cell_type": "code",
   "execution_count": null,
   "metadata": {},
   "outputs": [],
   "source": [
    "males = us_pop_2015.where('SEX', 1).where('AGE', are.not_equal_to(999))"
   ]
  },
  {
   "cell_type": "markdown",
   "metadata": {
    "slideshow": {
     "slide_type": "slide"
    }
   },
   "source": [
    "## 3. Divide # of females at age by # of males at same age"
   ]
  },
  {
   "cell_type": "code",
   "execution_count": null,
   "metadata": {},
   "outputs": [],
   "source": [
    "# we have to \"align\" the data first (if it isn't already aligned)\n",
    "females = females.sort('AGE')\n",
    "males = males.sort('AGE')"
   ]
  },
  {
   "cell_type": "code",
   "execution_count": null,
   "metadata": {},
   "outputs": [],
   "source": [
    "ratios = Table().with_columns(\n",
    "    'AGE', females.column('AGE'),\n",
    "    'F:M RATIO', females.column('2015') / males.column('2015')\n",
    ")\n",
    "ratios"
   ]
  },
  {
   "cell_type": "markdown",
   "metadata": {
    "slideshow": {
     "slide_type": "slide"
    }
   },
   "source": [
    "## Visualize"
   ]
  },
  {
   "cell_type": "code",
   "execution_count": null,
   "metadata": {},
   "outputs": [],
   "source": [
    "#: a few new imports\n",
    "import matplotlib.pyplot as plt\n",
    "plt.style.use('fivethirtyeight')\n",
    "%matplotlib inline"
   ]
  },
  {
   "cell_type": "code",
   "execution_count": null,
   "metadata": {},
   "outputs": [],
   "source": [
    "ratios.plot('AGE')"
   ]
  }
 ],
 "metadata": {
  "celltoolbar": "Slideshow",
  "kernelspec": {
   "display_name": "Python 3",
   "language": "python",
   "name": "python3"
  },
  "language_info": {
   "codemirror_mode": {
    "name": "ipython",
    "version": 3
   },
   "file_extension": ".py",
   "mimetype": "text/x-python",
   "name": "python",
   "nbconvert_exporter": "python",
   "pygments_lexer": "ipython3",
   "version": "3.6.6"
  },
  "livereveal": {
   "scroll": true
  }
 },
 "nbformat": 4,
 "nbformat_minor": 2
}
