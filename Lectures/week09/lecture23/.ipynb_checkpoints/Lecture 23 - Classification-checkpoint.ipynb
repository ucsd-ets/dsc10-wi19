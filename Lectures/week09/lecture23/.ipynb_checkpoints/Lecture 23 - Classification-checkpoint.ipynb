{
 "cells": [
  {
   "cell_type": "markdown",
   "metadata": {},
   "source": [
    "# Final\n",
    "\n",
    "- If you need an alternate time and haven't gotten the time and location from me in an email at 12:30 today, panic."
   ]
  },
  {
   "cell_type": "code",
   "execution_count": null,
   "metadata": {},
   "outputs": [],
   "source": [
    "#: the usual imports\n",
    "from datascience import *\n",
    "import numpy as np\n",
    "\n",
    "%matplotlib inline\n",
    "import matplotlib.pyplot as plt\n",
    "import warnings; warnings.simplefilter('ignore')\n",
    "\n",
    "plt.style.use('fivethirtyeight')"
   ]
  },
  {
   "cell_type": "code",
   "execution_count": null,
   "metadata": {},
   "outputs": [],
   "source": [
    "def standard_units(arr):\n",
    "    return (arr - arr.mean())/arr.std()"
   ]
  },
  {
   "cell_type": "markdown",
   "metadata": {},
   "source": [
    "# Classification\n",
    "\n",
    "Machine learning is a class of techniques for automatically finding patterns in data and using it to draw inferences or make predictions\n",
    "\n",
    "- Linear regression is one kind\n",
    "- Classification is another\n",
    "\n",
    "Classification examples:\n",
    "\n",
    "- For each order Amazon receives, Amazon would like to predict: is this order fraudulent?\n",
    "- Online dating sites would like to predict: are these two people compatible? \n",
    "- Doctors would like to know: does this patient have cancer?\n",
    "- Politicians would like to predict: are you going to vote for them? \n",
    "\n",
    "In each case there is lots of data to make the prediction.\n",
    "\n",
    "Types of classification:\n",
    "- binary, meaning two options\n",
    "- supervised, meaning you have labeled training data"
   ]
  },
  {
   "cell_type": "markdown",
   "metadata": {},
   "source": [
    "# Nearest Neighbor\n",
    "\n",
    "Goal is to diagnose chronic kidney disease (CKD)\n",
    "\n",
    " Each row in the data set represents a single patient who was treated in the past and whose diagnosis is known"
   ]
  },
  {
   "cell_type": "code",
   "execution_count": null,
   "metadata": {},
   "outputs": [],
   "source": [
    "ckd = Table.read_table('ckd.csv').relabeled('Blood Glucose Random', 'Glucose')\n",
    "ckd"
   ]
  },
  {
   "cell_type": "markdown",
   "metadata": {},
   "source": [
    "Some of the variables are categorical (words like “abnormal”), and some quantitative.\n",
    "\n",
    "To simplify let’s select just a few of the variables and work in standard units"
   ]
  },
  {
   "cell_type": "code",
   "execution_count": null,
   "metadata": {},
   "outputs": [],
   "source": [
    "ckd = Table().with_columns(\n",
    "    'Hemoglobin', standard_units(ckd.column('Hemoglobin')),\n",
    "    'Glucose', standard_units(ckd.column('Glucose')),\n",
    "    'White Blood Cell Count', standard_units(ckd.column('White Blood Cell Count')),\n",
    "    'Class', ckd.column('Class')\n",
    ")"
   ]
  },
  {
   "cell_type": "code",
   "execution_count": null,
   "metadata": {},
   "outputs": [],
   "source": [
    "ckd"
   ]
  },
  {
   "cell_type": "markdown",
   "metadata": {},
   "source": [
    "Let’s look at two columns in particular: \n",
    "- hemoglobin level (in the patient’s blood)\n",
    "- blood glucose level (at a random time in the day; without fasting specially for the blood test)"
   ]
  },
  {
   "cell_type": "code",
   "execution_count": null,
   "metadata": {},
   "outputs": [],
   "source": [
    "color_table = Table().with_columns(\n",
    "    'Class', make_array(1, 0),\n",
    "    'Color', make_array('darkblue', 'gold')\n",
    ")\n",
    "ckd = ckd.join('Class', color_table)\n"
   ]
  },
  {
   "cell_type": "code",
   "execution_count": null,
   "metadata": {},
   "outputs": [],
   "source": [
    "# Blue dots are patients with CKD; gold dots are patients without CKD\n",
    "ckd.scatter('Hemoglobin', 'Glucose', colors='Color')"
   ]
  },
  {
   "cell_type": "markdown",
   "metadata": {},
   "source": [
    "### Discussion Question\n",
    "\n",
    "Suppose Alice is a new patient who is not in the data set. If I tell you Alice’s hemoglobin level and blood glucose level, could you predict whether she has CKD?\n",
    "\n",
    "A) Yes\n",
    "\n",
    "B) No\n",
    "\n",
    "C) Not sure"
   ]
  },
  {
   "cell_type": "markdown",
   "metadata": {},
   "source": [
    "## Nearest Neighbor\n",
    "\n",
    "There are many algorithms for binary supervised classification.\n",
    "\n",
    "Nearest neighbor is very simple, but surprisingly effective.\n",
    "\n",
    "Nearest neighbor = predict the label of the closest data point"
   ]
  },
  {
   "cell_type": "markdown",
   "metadata": {},
   "source": [
    "![nn1.png](nn1.png)"
   ]
  },
  {
   "cell_type": "markdown",
   "metadata": {},
   "source": [
    "Thus our nearest neighbor classifier works like this:\n",
    "\n",
    "- Find the point in the training set that is nearest to the new point.\n",
    "- If that nearest point is a “CKD” point, classify the new point as “CKD”. If the nearest point is a “not CKD” point, classify the new point as “not CKD”.\n"
   ]
  },
  {
   "cell_type": "markdown",
   "metadata": {},
   "source": [
    "![nn1.png](nn2.png)"
   ]
  },
  {
   "cell_type": "markdown",
   "metadata": {},
   "source": [
    "## Decision Boundary\n",
    "\n",
    "![nn1.png](nn3.png)\n",
    "\n",
    "Each point has a nearest neighbor.  What if we label them all?\n",
    "\n",
    "![nn1.png](nn4.png)"
   ]
  },
  {
   "cell_type": "markdown",
   "metadata": {},
   "source": [
    "# More difficult cases\n",
    "\n",
    "What about cases where the separation isn't so clean?"
   ]
  },
  {
   "cell_type": "code",
   "execution_count": null,
   "metadata": {},
   "outputs": [],
   "source": [
    "ckd.scatter('White Blood Cell Count', 'Glucose', colors='Color')"
   ]
  },
  {
   "cell_type": "markdown",
   "metadata": {},
   "source": [
    "How would nearest neighbor do on this data set?  \n",
    "\n",
    "What mistakes might it make?"
   ]
  },
  {
   "cell_type": "markdown",
   "metadata": {},
   "source": [
    "# Training and Testing\n",
    "\n",
    "How good is our nearest neighbor classifier?\n",
    "\n",
    "Errors = guessing the wrong label.\n",
    "\n",
    "If the patient is in the training set, we can just check the result!\n",
    "\n",
    "\n",
    "### Discussion question\n",
    "\n",
    "With a nearest neighbor classifier, will we ever have classification errors on our training data?\n",
    "\n",
    "A) Yes\n",
    "\n",
    "B) No\n",
    "\n",
    "C) Depends\n",
    "\n",
    "D) Not sure"
   ]
  },
  {
   "cell_type": "code",
   "execution_count": null,
   "metadata": {},
   "outputs": [],
   "source": [
    "ckd.scatter('White Blood Cell Count', 'Glucose', colors='Color')"
   ]
  },
  {
   "cell_type": "markdown",
   "metadata": {},
   "source": [
    "### Testing (the wrong way)\n",
    "\n",
    "**If we use our training set to \"test\" our 1-nearest neighbor classifier, the classifier will pass the test 100% of the time.**\n",
    "\n",
    "Woo!  We did it!  Perfect accuracy!\n",
    "\n",
    "But *real* classifier accuracy is for *new* patients.  No reason to expect this \"perfect\" performance to generalize.\n",
    "\n",
    "So what to do?\n",
    "\n",
    "We could make predictions and then wait for results, but that is very slow (and doesn't help the current patients)."
   ]
  },
  {
   "cell_type": "markdown",
   "metadata": {},
   "source": [
    "### Generating a test set\n",
    "\n",
    "We will use random assignment to create two samples from the original training set:\n",
    "\n",
    "\n",
    "- a training set on which we can do any amount of exploration to build our classifier;\n",
    "- a separate testing set on which to try out our classifier and see what fraction of times it classifies correctly;\n",
    "\n",
    "We also have a third group:\n",
    "\n",
    "- the underlying population of individuals for whom we don’t know the true classes; the hope is that our classifier will succeed about as well for these individuals as it did for our testing set."
   ]
  },
  {
   "cell_type": "code",
   "execution_count": null,
   "metadata": {},
   "outputs": [],
   "source": [
    "shuffled_ckd = ckd.sample(with_replacement=False)\n",
    "training = shuffled_ckd.take(np.arange(79))\n",
    "testing = shuffled_ckd.take(np.arange(79, 158))"
   ]
  },
  {
   "cell_type": "code",
   "execution_count": null,
   "metadata": {},
   "outputs": [],
   "source": [
    "training.scatter('White Blood Cell Count', 'Glucose', colors='Color')\n",
    "plt.xlim(-2, 6)\n",
    "plt.ylim(-2, 6);"
   ]
  },
  {
   "cell_type": "markdown",
   "metadata": {},
   "source": [
    "We get the decision boundary\n",
    "\n",
    "![nn1.png](nn5.png)\n",
    "\n",
    "We can then put the *test* data on this graph to see what mistakes are made\n",
    "\n",
    "![nn1.png](nn6.png)"
   ]
  },
  {
   "cell_type": "markdown",
   "metadata": {},
   "source": [
    "# k-Nearest Neighbors\n",
    "\n",
    "KNN is an extension of Nearest Neighbor where we grab some number of neighbors (usually odd) and let them vote."
   ]
  },
  {
   "cell_type": "code",
   "execution_count": null,
   "metadata": {},
   "outputs": [],
   "source": [
    "ckd = Table.read_table('ckd.csv').relabeled('Blood Glucose Random', 'Glucose')"
   ]
  },
  {
   "cell_type": "markdown",
   "metadata": {},
   "source": [
    "### New data type: row object\n",
    "\n",
    "- Not an array!\n",
    "- Includes labels\n",
    "- Has to be one data type"
   ]
  },
  {
   "cell_type": "code",
   "execution_count": null,
   "metadata": {},
   "outputs": [],
   "source": [
    "ckd.row(0)"
   ]
  },
  {
   "cell_type": "code",
   "execution_count": null,
   "metadata": {},
   "outputs": [],
   "source": [
    "# Can index with item\n",
    "ckd.row(0).item(3)"
   ]
  },
  {
   "cell_type": "markdown",
   "metadata": {},
   "source": [
    "### Converting rows to arrays"
   ]
  },
  {
   "cell_type": "code",
   "execution_count": null,
   "metadata": {},
   "outputs": [],
   "source": [
    "ckd = Table().with_columns(\n",
    "    'Hemoglobin', standard_units(ckd.column('Hemoglobin')),\n",
    "    'Glucose', standard_units(ckd.column('Glucose')),\n",
    "    'Class', ckd.column('Class')\n",
    ")\n",
    "\n",
    "color_table = Table().with_columns(\n",
    "    'Class', make_array(1, 0),\n",
    "    'Color', make_array('darkblue', 'gold')\n",
    ")\n",
    "ckd = ckd.join('Class', color_table)\n",
    "ckd"
   ]
  },
  {
   "cell_type": "code",
   "execution_count": null,
   "metadata": {},
   "outputs": [],
   "source": [
    "alice = make_array(0, 1.1)\n",
    "ckd.scatter('Hemoglobin', 'Glucose', colors='Color')\n",
    "plt.scatter(alice.item(0), alice.item(1), color='red', s=30);"
   ]
  },
  {
   "cell_type": "code",
   "execution_count": null,
   "metadata": {},
   "outputs": [],
   "source": [
    "ckd_attributes = ckd.select('Hemoglobin', 'Glucose')"
   ]
  },
  {
   "cell_type": "code",
   "execution_count": null,
   "metadata": {},
   "outputs": [],
   "source": [
    "ckd_attributes"
   ]
  },
  {
   "cell_type": "markdown",
   "metadata": {},
   "source": [
    "Good news!  The rows are only numerical, so we can convert them to arrays."
   ]
  },
  {
   "cell_type": "code",
   "execution_count": null,
   "metadata": {},
   "outputs": [],
   "source": [
    "ckd_attributes.row(3)"
   ]
  },
  {
   "cell_type": "code",
   "execution_count": null,
   "metadata": {},
   "outputs": [],
   "source": [
    "np.array(ckd_attributes.row(3))"
   ]
  },
  {
   "cell_type": "markdown",
   "metadata": {},
   "source": [
    "## Distance between points\n",
    "\n",
    "Pythogorean Theorem.\n",
    "\n",
    "With two attributes:\n",
    "\n",
    "$$D=\\sqrt{(x_0-x_1)^2+(y_0-y_1)^2}$$"
   ]
  },
  {
   "cell_type": "code",
   "execution_count": null,
   "metadata": {},
   "outputs": [],
   "source": [
    "patient3 = np.array(ckd_attributes.row(3))\n",
    "alice, patient3"
   ]
  },
  {
   "cell_type": "code",
   "execution_count": null,
   "metadata": {},
   "outputs": [],
   "source": [
    "distance = np.sqrt(np.sum((alice - patient3)**2))\n",
    "distance"
   ]
  },
  {
   "cell_type": "code",
   "execution_count": null,
   "metadata": {},
   "outputs": [],
   "source": [
    "def distance(point1, point2):\n",
    "    \"\"\"Returns the Euclidean distance between point1 and point2.\n",
    "    \n",
    "    Each argument is an array containing the coordinates of a point.\"\"\"\n",
    "    return np.sqrt(np.sum((point1 - point2)**2))"
   ]
  },
  {
   "cell_type": "code",
   "execution_count": null,
   "metadata": {},
   "outputs": [],
   "source": [
    "distance(alice, patient3)"
   ]
  },
  {
   "cell_type": "markdown",
   "metadata": {},
   "source": [
    "### Using apply on a row\n",
    "\n",
    "imagine you wanted to know how unusual each patients' most unusual attribute is."
   ]
  },
  {
   "cell_type": "code",
   "execution_count": null,
   "metadata": {},
   "outputs": [],
   "source": [
    "t = ckd_attributes.take(np.arange(5))\n",
    "t\n"
   ]
  },
  {
   "cell_type": "code",
   "execution_count": null,
   "metadata": {},
   "outputs": [],
   "source": [
    "def max_abs(row):\n",
    "    return np.max(np.abs(np.array(row)))"
   ]
  },
  {
   "cell_type": "code",
   "execution_count": null,
   "metadata": {},
   "outputs": [],
   "source": [
    "max_abs(t.row(4))"
   ]
  },
  {
   "cell_type": "code",
   "execution_count": null,
   "metadata": {},
   "outputs": [],
   "source": [
    "t.apply(max_abs)"
   ]
  },
  {
   "cell_type": "markdown",
   "metadata": {},
   "source": [
    "## Alice's k Nearest neighbors\n",
    "\n",
    "If we want to classify Alice using a k-nearest neighbor classifier, we have to identify her k nearest neighbors. \n",
    "\n",
    "\n",
    "1. Find the distance between Alice and each point in the training sample.\n",
    "2. Sort the data table in increasing order of the distances.\n",
    "3. Take the top k rows of the sorted table."
   ]
  },
  {
   "cell_type": "markdown",
   "metadata": {},
   "source": [
    "### Step 1: Find the distance between Alice and each point in the training sample."
   ]
  },
  {
   "cell_type": "code",
   "execution_count": null,
   "metadata": {},
   "outputs": [],
   "source": [
    "alice"
   ]
  },
  {
   "cell_type": "code",
   "execution_count": null,
   "metadata": {},
   "outputs": [],
   "source": [
    "def distance_from_alice(row):\n",
    "    \"\"\"Returns distance between Alice and a row of the attributes table\"\"\"\n",
    "    return distance(alice, np.array(row))"
   ]
  },
  {
   "cell_type": "code",
   "execution_count": null,
   "metadata": {},
   "outputs": [],
   "source": [
    "distance_from_alice(ckd_attributes.row(3))"
   ]
  },
  {
   "cell_type": "code",
   "execution_count": null,
   "metadata": {},
   "outputs": [],
   "source": [
    "distances = ckd_attributes.apply(distance_from_alice)\n",
    "ckd_with_distances = ckd.with_column('Distance from Alice', distances)"
   ]
  },
  {
   "cell_type": "code",
   "execution_count": null,
   "metadata": {},
   "outputs": [],
   "source": [
    "ckd_with_distances"
   ]
  },
  {
   "cell_type": "markdown",
   "metadata": {},
   "source": [
    "### Step 2: Sort the data table in increasing order of the distances."
   ]
  },
  {
   "cell_type": "code",
   "execution_count": null,
   "metadata": {},
   "outputs": [],
   "source": [
    "sorted_by_distance = ckd_with_distances.sort('Distance from Alice')\n",
    "sorted_by_distance"
   ]
  },
  {
   "cell_type": "markdown",
   "metadata": {},
   "source": [
    "### Step 3: Take the top k rows of the sorted table."
   ]
  },
  {
   "cell_type": "code",
   "execution_count": null,
   "metadata": {},
   "outputs": [],
   "source": [
    "alice_5_nearest_neighbors = sorted_by_distance.take(np.arange(5))\n",
    "alice_5_nearest_neighbors"
   ]
  },
  {
   "cell_type": "markdown",
   "metadata": {},
   "source": [
    "### Discussion question:\n",
    "\n",
    "What does this classifier predict for Alice:\n",
    "\n",
    "A) gold\n",
    "\n",
    "B) darkblue\n",
    "\n",
    "C) red"
   ]
  },
  {
   "cell_type": "markdown",
   "metadata": {},
   "source": [
    "![nn7.png](nn7.png)"
   ]
  },
  {
   "cell_type": "markdown",
   "metadata": {},
   "source": [
    "# Implementing KNN\n",
    "\n",
    "### Banknote authentication\n",
    "\n",
    "Question: \"Is a $20 bill counterfeit or legitimate?\"\n",
    "\n",
    "Features: four numerical scores from scans of bills.\n",
    "\n",
    "Note: more than two attributes!  (we did two for easy visualization)"
   ]
  },
  {
   "cell_type": "code",
   "execution_count": null,
   "metadata": {},
   "outputs": [],
   "source": [
    "banknotes = Table.read_table('banknote.csv')\n",
    "banknotes"
   ]
  },
  {
   "cell_type": "code",
   "execution_count": null,
   "metadata": {},
   "outputs": [],
   "source": [
    "color_table = Table().with_columns(\n",
    "    'Class', make_array(1, 0),\n",
    "    'Color', make_array('darkblue', 'gold')\n",
    ")"
   ]
  },
  {
   "cell_type": "code",
   "execution_count": null,
   "metadata": {},
   "outputs": [],
   "source": [
    "banknotes = banknotes.join('Class', color_table)"
   ]
  },
  {
   "cell_type": "code",
   "execution_count": null,
   "metadata": {},
   "outputs": [],
   "source": [
    "banknotes.scatter('WaveletVar', 'WaveletCurt', colors='Color')"
   ]
  },
  {
   "cell_type": "markdown",
   "metadata": {},
   "source": [
    "### Discussion Question\n",
    "\n",
    "Imagine we use a NN classifier with these two features.  What sort of error rate might you expect on the testing data?\n",
    "\n",
    "A) 0%\n",
    "\n",
    "B) 1%\n",
    "\n",
    "C) 10%\n",
    "\n",
    "D) 100%"
   ]
  },
  {
   "cell_type": "code",
   "execution_count": null,
   "metadata": {},
   "outputs": [],
   "source": [
    "banknotes.scatter('WaveletSkew', 'Entropy', colors='Color')"
   ]
  },
  {
   "cell_type": "markdown",
   "metadata": {},
   "source": [
    "## Multiple attributes\n",
    "\n",
    "N-Dimensional space is no problem for the computer.\n",
    "\n",
    "![nn8.png](nn8.png)\n",
    "\n",
    "Look how much the cluster overlap has reduced!\n",
    "\n",
    "### Approach for classification\n",
    "\n",
    "1. Identify some attributes that you think might help you predict the answer to the question.\n",
    "2. Gather a training set of examples where you know the values of the attributes as well as the correct prediction.\n",
    "3. To make predictions in the future, measure the value of the attributes and then use k-nearest neighbor classification to predict the answer to the question.\n",
    "\n",
    "\n",
    "### Distance in multiple dimensions\n",
    "\n",
    "$$D=\\sqrt{(x_0-x_1)^2+(y_0-y_1)^2}$$\n",
    "\n",
    "becomes\n",
    "\n",
    "$$D=\\sqrt{(x_0-x_1)^2+(y_0-y_1)^2+(z_0-z_1)^2}$$"
   ]
  },
  {
   "cell_type": "code",
   "execution_count": null,
   "metadata": {},
   "outputs": [],
   "source": [
    "# No change needed for our distance formula\n",
    "\n",
    "def distance(point1, point2):\n",
    "    \"\"\"Returns the distance between point1 and point2\n",
    "    where each argument is an array \n",
    "    consisting of the coordinates of the point\"\"\"\n",
    "    return np.sqrt(np.sum((point1 - point2)**2))"
   ]
  },
  {
   "cell_type": "markdown",
   "metadata": {},
   "source": [
    "# N=3 is boring."
   ]
  },
  {
   "cell_type": "code",
   "execution_count": null,
   "metadata": {},
   "outputs": [],
   "source": [
    "wine = Table.read_table('wine.csv')\n",
    "\n",
    "# For converting Class to binary\n",
    "\n",
    "def is_one(x):\n",
    "    if x == 1:\n",
    "        return 1\n",
    "    else:\n",
    "        return 0\n",
    "    \n",
    "wine = wine.with_column('Class', wine.apply(is_one, 0))"
   ]
  },
  {
   "cell_type": "code",
   "execution_count": null,
   "metadata": {},
   "outputs": [],
   "source": [
    "wine"
   ]
  },
  {
   "cell_type": "markdown",
   "metadata": {},
   "source": [
    "The first two wines are both in Class 1. To find the distance between them, we first need a table of just the attributes:"
   ]
  },
  {
   "cell_type": "code",
   "execution_count": null,
   "metadata": {},
   "outputs": [],
   "source": [
    "wine_attributes = wine.drop('Class')"
   ]
  },
  {
   "cell_type": "code",
   "execution_count": null,
   "metadata": {},
   "outputs": [],
   "source": [
    "distance(np.array(wine_attributes.row(0)), np.array(wine_attributes.row(1)))"
   ]
  },
  {
   "cell_type": "markdown",
   "metadata": {},
   "source": [
    "The last wine in the table is of Class 0. Its distance from the first wine is:"
   ]
  },
  {
   "cell_type": "code",
   "execution_count": null,
   "metadata": {},
   "outputs": [],
   "source": [
    "distance(np.array(wine_attributes.row(0)), np.array(wine_attributes.row(177)))"
   ]
  },
  {
   "cell_type": "code",
   "execution_count": null,
   "metadata": {},
   "outputs": [],
   "source": [
    "wine_with_colors = wine.join('Class', color_table)"
   ]
  },
  {
   "cell_type": "code",
   "execution_count": null,
   "metadata": {},
   "outputs": [],
   "source": [
    "wine_with_colors.scatter('Flavanoids', 'Alcohol', colors='Color')"
   ]
  },
  {
   "cell_type": "code",
   "execution_count": null,
   "metadata": {},
   "outputs": [],
   "source": [
    "wine_with_colors.scatter('Alcalinity of ash', 'Ash', colors='Color')"
   ]
  },
  {
   "cell_type": "code",
   "execution_count": null,
   "metadata": {},
   "outputs": [],
   "source": [
    "wine_with_colors.scatter('Magnesium', 'Total phenols', colors='Color')"
   ]
  },
  {
   "cell_type": "markdown",
   "metadata": {},
   "source": [
    "# Plan the implementation\n",
    "\n",
    "For big projects it is helpful to sketch out a plan and make the code match that.\n",
    "\n",
    "1. Find the closest k neighbors of point, i.e., the k wines from the training set that are most similar to point.\n",
    "2. Look at the classes of those k neighbors, and take the majority vote to find the most-common class of wine. Use that as our predicted class for point."
   ]
  },
  {
   "cell_type": "code",
   "execution_count": null,
   "metadata": {},
   "outputs": [],
   "source": [
    "def closest(training, p, k):\n",
    "    ...\n",
    "\n",
    "def majority(topkclasses):\n",
    "    ...\n",
    "\n",
    "def classify(training, p, k):\n",
    "    kclosest = closest(training, p, k)\n",
    "    kclosest.classes = kclosest.select('Class')\n",
    "    return majority(kclosest)"
   ]
  },
  {
   "cell_type": "markdown",
   "metadata": {},
   "source": [
    "## Implementation Step 1"
   ]
  },
  {
   "cell_type": "code",
   "execution_count": null,
   "metadata": {},
   "outputs": [],
   "source": [
    "def distance(point1, point2):\n",
    "    \"\"\"Returns the distance between point1 and point2\n",
    "    where each argument is an array \n",
    "    consisting of the coordinates of the point\"\"\"\n",
    "    return np.sqrt(np.sum((point1 - point2)**2))\n",
    "\n",
    "def all_distances(training, new_point):\n",
    "    \"\"\"Returns an array of distances\n",
    "    between each point in the training set\n",
    "    and the new point (which is a row of attributes)\"\"\"\n",
    "    attributes = training.drop('Class')\n",
    "    def distance_from_point(row):\n",
    "        return distance(np.array(new_point), np.array(row))\n",
    "    return attributes.apply(distance_from_point)\n",
    "\n",
    "def table_with_distances(training, new_point):\n",
    "    \"\"\"Augments the training table \n",
    "    with a column of distances from new_point\"\"\"\n",
    "    return training.with_column('Distance', all_distances(training, new_point))\n",
    "\n",
    "def closest(training, new_point, k):\n",
    "    \"\"\"Returns a table of the k rows of the augmented table\n",
    "    corresponding to the k smallest distances\"\"\"\n",
    "    with_dists = table_with_distances(training, new_point)\n",
    "    sorted_by_distance = with_dists.sort('Distance')\n",
    "    topk = sorted_by_distance.take(np.arange(k))\n",
    "    return topk"
   ]
  },
  {
   "cell_type": "code",
   "execution_count": null,
   "metadata": {},
   "outputs": [],
   "source": [
    "special_wine = wine.drop('Class').row(0)"
   ]
  },
  {
   "cell_type": "code",
   "execution_count": null,
   "metadata": {},
   "outputs": [],
   "source": [
    "closest(wine, special_wine, 5)"
   ]
  },
  {
   "cell_type": "markdown",
   "metadata": {},
   "source": [
    "## Implementation Steps 2 and 3"
   ]
  },
  {
   "cell_type": "code",
   "execution_count": null,
   "metadata": {},
   "outputs": [],
   "source": [
    "def majority(topkclasses):\n",
    "    ones = topkclasses.where('Class', are.equal_to(1)).num_rows\n",
    "    zeros = topkclasses.where('Class', are.equal_to(0)).num_rows\n",
    "    if ones > zeros:\n",
    "        return 1\n",
    "    else:\n",
    "        return 0\n",
    "\n",
    "def classify(training, new_point, k):\n",
    "    closestk = closest(training, new_point, k)\n",
    "    topkclasses = closestk.select('Class')\n",
    "    return majority(topkclasses)"
   ]
  },
  {
   "cell_type": "code",
   "execution_count": null,
   "metadata": {},
   "outputs": [],
   "source": [
    "classify(wine, special_wine, 5)"
   ]
  },
  {
   "cell_type": "code",
   "execution_count": null,
   "metadata": {},
   "outputs": [],
   "source": [
    "special_wine = wine.drop('Class').row(177)\n",
    "classify(wine, special_wine, 5)"
   ]
  },
  {
   "cell_type": "markdown",
   "metadata": {},
   "source": [
    "# Accuracy of the Classifier\n",
    "\n",
    "- Split into training set and test set (sometimes called holdout)\n",
    "- We will do 50/50 today\n",
    "- Must be careful!  Easy to contaminate machine learning."
   ]
  },
  {
   "cell_type": "code",
   "execution_count": null,
   "metadata": {},
   "outputs": [],
   "source": [
    "shuffled_wine = wine.sample(with_replacement=False) \n",
    "training_set = shuffled_wine.take(np.arange(89))\n",
    "test_set  = shuffled_wine.take(np.arange(89, 178))"
   ]
  },
  {
   "cell_type": "code",
   "execution_count": null,
   "metadata": {},
   "outputs": [],
   "source": [
    "def count_zero(array):\n",
    "    \"\"\"Counts the number of 0's in an array\"\"\"\n",
    "    return len(array) - np.count_nonzero(array)\n",
    "\n",
    "def count_equal(array1, array2):\n",
    "    \"\"\"Takes two numerical arrays of equal length\n",
    "    and counts the indices where the two are equal\"\"\"\n",
    "    return count_zero(array1 - array2)\n",
    "\n",
    "def evaluate_accuracy(training, test, k):\n",
    "    test_attributes = test.drop('Class')\n",
    "    def classify_testrow(row):\n",
    "        return classify(training, row, k)\n",
    "    c = test_attributes.apply(classify_testrow)\n",
    "    return count_equal(c, test.column('Class')) / test.num_rows"
   ]
  },
  {
   "cell_type": "code",
   "execution_count": null,
   "metadata": {},
   "outputs": [],
   "source": [
    "evaluate_accuracy(training_set, test_set, 5)"
   ]
  },
  {
   "cell_type": "code",
   "execution_count": null,
   "metadata": {},
   "outputs": [],
   "source": []
  }
 ],
 "metadata": {
  "kernelspec": {
   "display_name": "Python 3",
   "language": "python",
   "name": "python3"
  },
  "language_info": {
   "codemirror_mode": {
    "name": "ipython",
    "version": 3
   },
   "file_extension": ".py",
   "mimetype": "text/x-python",
   "name": "python",
   "nbconvert_exporter": "python",
   "pygments_lexer": "ipython3",
   "version": "3.7.1"
  }
 },
 "nbformat": 4,
 "nbformat_minor": 2
}
