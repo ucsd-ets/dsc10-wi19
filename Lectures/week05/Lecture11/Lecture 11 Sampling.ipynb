{
 "cells": [
  {
   "cell_type": "markdown",
   "metadata": {
    "slideshow": {
     "slide_type": "slide"
    }
   },
   "source": [
    "# Lecture 11\n",
    "\n",
    "Sampling"
   ]
  },
  {
   "cell_type": "markdown",
   "metadata": {
    "slideshow": {
     "slide_type": "slide"
    }
   },
   "source": [
    "### Deterministic sample:\n",
    "* Sampling scheme doesn’t involve chance\n",
    "\n",
    "### Probability (random) sample:\n",
    "* Before the sample is drawn, you have to know the probability of selecting each group of people in the population\n",
    "* Not all individuals need to have an equal chance of being selected"
   ]
  },
  {
   "cell_type": "markdown",
   "metadata": {
    "slideshow": {
     "slide_type": "slide"
    }
   },
   "source": [
    "### Example: deterministic sample\n",
    "\n",
    "Sample of students: take 50% of students, alphabetically by last name\n",
    "\n",
    "### Example: probability sample\n",
    "\n",
    "Sample of students: flip a coin for each student in class (heads, keep; tails, leave)"
   ]
  },
  {
   "cell_type": "markdown",
   "metadata": {
    "slideshow": {
     "slide_type": "slide"
    }
   },
   "source": [
    "### Example: a probability sample\n",
    "* Population: 3 individuals (A, B, C)\n",
    "* Select a sample of 2\n",
    "    - A chosen with probability 1\n",
    "    - Choose B or C based on coin toss\n",
    "* Possible samples: AB, AC, BC\n",
    "    - Chance of AB: ½\n",
    "    - Chance of AC: ½\n",
    "    - Chance of BC = 0"
   ]
  },
  {
   "cell_type": "code",
   "execution_count": null,
   "metadata": {
    "slideshow": {
     "slide_type": "slide"
    }
   },
   "outputs": [],
   "source": [
    "#:\n",
    "from datascience import *\n",
    "import numpy as np\n",
    "\n",
    "%matplotlib inline\n",
    "import matplotlib.pyplot as plt\n",
    "import warnings; warnings.simplefilter('ignore')\n",
    "\n",
    "plt.style.use('fivethirtyeight')"
   ]
  },
  {
   "cell_type": "code",
   "execution_count": null,
   "metadata": {},
   "outputs": [],
   "source": [
    "#:\n",
    "top = Table.read_table('top_movies.csv')\n",
    "top = top.with_column('Row Index', np.arange(top.num_rows))\n",
    "top = top.move_to_start('Row Index')\n",
    "\n",
    "top"
   ]
  },
  {
   "cell_type": "markdown",
   "metadata": {
    "slideshow": {
     "slide_type": "slide"
    }
   },
   "source": [
    "### Example: deterministic or probabilistic sample?\n",
    "* a sample of 3 specific rows"
   ]
  },
  {
   "cell_type": "code",
   "execution_count": null,
   "metadata": {},
   "outputs": [],
   "source": [
    "top.take(make_array(3,5,8))"
   ]
  },
  {
   "cell_type": "markdown",
   "metadata": {
    "slideshow": {
     "slide_type": "slide"
    }
   },
   "source": [
    "### Example: deterministic or probabilistic sample?\n",
    "* a sample via a where statement"
   ]
  },
  {
   "cell_type": "code",
   "execution_count": null,
   "metadata": {},
   "outputs": [],
   "source": [
    "top.where('Title', are.containing('and the'))"
   ]
  },
  {
   "cell_type": "markdown",
   "metadata": {
    "slideshow": {
     "slide_type": "slide"
    }
   },
   "source": [
    "### Discussion question\n",
    "Is the following sampling scheme a deterministic or probabilistic sample?\n",
    "* Start with a random number; take every tenth row thereafter.\n",
    "\n",
    "|Option|Answer|\n",
    "|---|---|\n",
    "|A| Deterministic|\n",
    "|B| Probabilitstic|"
   ]
  },
  {
   "cell_type": "markdown",
   "metadata": {
    "slideshow": {
     "slide_type": "slide"
    }
   },
   "source": [
    "###  Answer\n",
    "* Start with a random number; take every tenth row thereafter.\n",
    "* Any given row is equally likely to be picked! (But not true for groups of rows!)"
   ]
  },
  {
   "cell_type": "code",
   "execution_count": null,
   "metadata": {
    "slideshow": {
     "slide_type": "-"
    }
   },
   "outputs": [],
   "source": [
    "start = np.random.choice(np.arange(10))\n",
    "top.take(np.arange(start, 200, 10))"
   ]
  },
  {
   "cell_type": "markdown",
   "metadata": {
    "slideshow": {
     "slide_type": "slide"
    }
   },
   "source": [
    "### Example: samples uniformly at random with(out) replacement\n",
    "* `Table.sample` method\n",
    "* `with_replacement=True` is default."
   ]
  },
  {
   "cell_type": "code",
   "execution_count": null,
   "metadata": {},
   "outputs": [],
   "source": [
    "# with replacement\n",
    "top.sample(5)"
   ]
  },
  {
   "cell_type": "code",
   "execution_count": null,
   "metadata": {},
   "outputs": [],
   "source": [
    "# without replacement\n",
    "top.sample(5, with_replacement=False)"
   ]
  },
  {
   "cell_type": "markdown",
   "metadata": {
    "slideshow": {
     "slide_type": "slide"
    }
   },
   "source": [
    "## Sample of Convenience\n",
    "* Example: sample consists of whoever walks by\n",
    "    - Just because you think you’re sampling “at random”, doesn’t mean you are.\n",
    "* If you can’t figure out ahead of time \n",
    "    * what’s the population\n",
    "    * what’s the chance of selection, for each group in the population\n",
    "\n",
    "then you don’t have a random sample!"
   ]
  },
  {
   "cell_type": "markdown",
   "metadata": {
    "slideshow": {
     "slide_type": "slide"
    }
   },
   "source": [
    "### Examples: sample of convenience\n",
    "\n",
    "* Voluntary internet surveys\n",
    "* Interviewing people on Library Walk\n",
    "* The first 100 visits to a website after an email campaign begins."
   ]
  },
  {
   "cell_type": "markdown",
   "metadata": {
    "slideshow": {
     "slide_type": "slide"
    }
   },
   "source": [
    "### Samples of convenience: pros and cons\n",
    "* Pros: \n",
    "    - Easy and inexpensive\n",
    "    - Most common type of sample\n",
    "* Cons: \n",
    "    - Results won't generalize to the population as a whole\n",
    "    - Results are likely biased"
   ]
  },
  {
   "cell_type": "markdown",
   "metadata": {},
   "source": [
    "### Example: sample of convenience\n",
    "\n",
    "* Study: determine the average age and sex of gamblers at a casino \n",
    "* Methodology: conducted for three hours on a weekday afternoon \n",
    "* Bias: Might overrepresent elderly people who have retired and underrepresented by people of working age"
   ]
  },
  {
   "cell_type": "markdown",
   "metadata": {
    "slideshow": {
     "slide_type": "slide"
    }
   },
   "source": [
    "# Distributions"
   ]
  },
  {
   "cell_type": "markdown",
   "metadata": {
    "slideshow": {
     "slide_type": "slide"
    }
   },
   "source": [
    "## Probability Distribution\n",
    "* Random quantity with various possible values\n",
    "* “Probability distribution”:\n",
    "    - All the possible values of the quantity\n",
    "    - The probability of each of those values"
   ]
  },
  {
   "cell_type": "markdown",
   "metadata": {},
   "source": [
    "## Empirical Distribution\n",
    "\n",
    "* Based on observations\n",
    "* Observations can be from repetitions of an experiment\n",
    "* “Empirical Distribution”\n",
    "    - All observed values\n",
    "    - The proportion of counts of each value"
   ]
  },
  {
   "cell_type": "markdown",
   "metadata": {
    "slideshow": {
     "slide_type": "slide"
    }
   },
   "source": [
    "### Example: Dice\n",
    "* simulate a roll as a sample from a table"
   ]
  },
  {
   "cell_type": "code",
   "execution_count": null,
   "metadata": {},
   "outputs": [],
   "source": [
    "#:\n",
    "die =  (\n",
    "    Table()\n",
    "    .with_column('face', np.arange(1, 7, 1))\n",
    ")\n",
    "die"
   ]
  },
  {
   "cell_type": "code",
   "execution_count": null,
   "metadata": {},
   "outputs": [],
   "source": [
    "# row a single die!\n",
    "die.sample(1)"
   ]
  },
  {
   "cell_type": "markdown",
   "metadata": {
    "slideshow": {
     "slide_type": "slide"
    }
   },
   "source": [
    "### The true distribution is uniform"
   ]
  },
  {
   "cell_type": "code",
   "execution_count": null,
   "metadata": {},
   "outputs": [],
   "source": [
    "#\n",
    "bins =  np.arange(0.5, 6.6, 1)\n",
    "die.hist('face', bins=bins)"
   ]
  },
  {
   "cell_type": "markdown",
   "metadata": {
    "slideshow": {
     "slide_type": "slide"
    }
   },
   "source": [
    "### Roll the die and plot the empirical distribution\n",
    "* Try it for 10, 100, 1000, etc\n",
    "* What does it converge to?"
   ]
  },
  {
   "cell_type": "code",
   "execution_count": null,
   "metadata": {},
   "outputs": [],
   "source": [
    "die.sample(10)"
   ]
  },
  {
   "cell_type": "code",
   "execution_count": null,
   "metadata": {},
   "outputs": [],
   "source": [
    "die.sample(10).hist('face', bins=bins)"
   ]
  },
  {
   "cell_type": "markdown",
   "metadata": {
    "slideshow": {
     "slide_type": "slide"
    }
   },
   "source": [
    "# Large Random Samples"
   ]
  },
  {
   "cell_type": "markdown",
   "metadata": {
    "slideshow": {
     "slide_type": "slide"
    }
   },
   "source": [
    "## Law of Averages\n",
    "\n",
    "* If a chance experiment is repeated \n",
    "    - many times,\n",
    "    - independently,\n",
    "    - under the same conditions,\n",
    "    \n",
    "then the proportion of times that an event occurs gets closer to the theoretical probability of the event.\n"
   ]
  },
  {
   "cell_type": "markdown",
   "metadata": {
    "slideshow": {
     "slide_type": "fragment"
    }
   },
   "source": [
    "Example: As you roll a die repeatedly, the proportion of times you roll a 5 gets closer to 1/6."
   ]
  },
  {
   "cell_type": "markdown",
   "metadata": {
    "slideshow": {
     "slide_type": "slide"
    }
   },
   "source": [
    "## Large Random Samples\n",
    "\n",
    "If the sample size is large, then the empirical distribution of a uniform random sample matches the distribution of the population, with high probability."
   ]
  },
  {
   "cell_type": "markdown",
   "metadata": {
    "slideshow": {
     "slide_type": "slide"
    }
   },
   "source": [
    "### Example: distribution of flight delays\n",
    "* All united flights leaving SFO between 6/1/15 and 8/9/15.\n",
    "* The underlying distribution is not known.\n",
    "* All we have is the observed data!"
   ]
  },
  {
   "cell_type": "code",
   "execution_count": null,
   "metadata": {},
   "outputs": [],
   "source": [
    "#:\n",
    "united = Table().read_table('united_summer2015.csv')\n",
    "united"
   ]
  },
  {
   "cell_type": "markdown",
   "metadata": {
    "slideshow": {
     "slide_type": "slide"
    }
   },
   "source": [
    "### Empirical distribution of flight delays\n",
    "* What is the population?"
   ]
  },
  {
   "cell_type": "code",
   "execution_count": null,
   "metadata": {},
   "outputs": [],
   "source": [
    "#: Plot empirical distribution of flight delays\n",
    "bins = np.arange(-20, 300, 10)\n",
    "united.hist('Delay', bins=bins, unit='minute')"
   ]
  },
  {
   "cell_type": "code",
   "execution_count": null,
   "metadata": {},
   "outputs": [],
   "source": [
    "#:\n",
    "N = 10**2\n",
    "united.sample(N).hist('Delay', bins=bins, unit='minute')"
   ]
  },
  {
   "cell_type": "markdown",
   "metadata": {
    "slideshow": {
     "slide_type": "slide"
    }
   },
   "source": [
    "### Estimating a statistic: mean\n",
    "* Calculate the mean of all delays\n",
    "* Compare to the mean of uniform samples"
   ]
  },
  {
   "cell_type": "code",
   "execution_count": null,
   "metadata": {},
   "outputs": [],
   "source": [
    "# calculate the mean\n",
    "united_mean = united.column('Delay').mean()"
   ]
  },
  {
   "cell_type": "code",
   "execution_count": null,
   "metadata": {},
   "outputs": [],
   "source": [
    "#:\n",
    "for n in np.arange(100, 10000, 200):\n",
    "    m = united.sample(n).column('Delay').mean()\n",
    "    print('number of flights: ', n, 'mean of sample: ', m)"
   ]
  },
  {
   "cell_type": "markdown",
   "metadata": {
    "slideshow": {
     "slide_type": "slide"
    }
   },
   "source": [
    "### Distribution of means from uniform samples with replacement\n",
    "* Nice curve around the mean.\n",
    "* Does the histogram skew one direction?"
   ]
  },
  {
   "cell_type": "code",
   "execution_count": null,
   "metadata": {},
   "outputs": [],
   "source": [
    "#:\n",
    "n_experiments = 10000\n",
    "means = make_array()\n",
    "for n in np.arange(n_experiments):\n",
    "    m = united.sample(100).column('Delay').mean()\n",
    "    means = np.append(m, means)\n",
    "\n",
    "Table().with_columns('mean', means).hist(bins=np.arange(0,40))\n",
    "plt.axvline(x=united_mean, c='r');"
   ]
  },
  {
   "cell_type": "markdown",
   "metadata": {
    "slideshow": {
     "slide_type": "slide"
    }
   },
   "source": [
    "### Distribution of means from uniform samples without replacement\n",
    "* When sample size << population, sampling without replacement is similar to sampling with replacement.\n",
    "* When sample size ~ population, this is *not* true."
   ]
  },
  {
   "cell_type": "code",
   "execution_count": null,
   "metadata": {},
   "outputs": [],
   "source": [
    "#:\n",
    "n_experiments = 10000\n",
    "means = make_array()\n",
    "for n in np.arange(n_experiments):\n",
    "    m = united.sample(100, with_replacement=False).column('Delay').mean()\n",
    "    means = np.append(m, means)\n",
    "\n",
    "Table().with_columns('mean', means).hist(bins=np.arange(0,40))\n",
    "plt.axvline(x=united_mean, c='r');"
   ]
  },
  {
   "cell_type": "markdown",
   "metadata": {
    "slideshow": {
     "slide_type": "slide"
    }
   },
   "source": [
    "### Distribution of means from uniform samples of flights from Denver\n",
    "* This sample is a probability sample.\n",
    "* Estimation of the mean is highly biased!"
   ]
  },
  {
   "cell_type": "code",
   "execution_count": null,
   "metadata": {},
   "outputs": [],
   "source": [
    "#:\n",
    "n_experiments = 10000\n",
    "means = make_array()\n",
    "\n",
    "den = united.where('Destination', 'DEN')\n",
    "for n in np.arange(n_experiments):\n",
    "    m = den.sample(100).column('Delay').mean()\n",
    "    means = np.append(m, means)\n",
    "\n",
    "Table().with_columns('mean', means).hist(bins=np.arange(0,40))\n",
    "plt.axvline(x=united_mean, c='r');"
   ]
  },
  {
   "cell_type": "markdown",
   "metadata": {
    "slideshow": {
     "slide_type": "slide"
    }
   },
   "source": [
    "### Distribution of means from evenly-spaced random samples\n",
    "* This sample is a probability sample.\n",
    "* Why does the histogram look this way?"
   ]
  },
  {
   "cell_type": "code",
   "execution_count": null,
   "metadata": {},
   "outputs": [],
   "source": [
    "#:\n",
    "n_experiments = 10000\n",
    "means = make_array()\n",
    "for n in np.arange(n_experiments):\n",
    "    start = np.random.choice(np.arange(20))\n",
    "    m = united.take(np.arange(start, united.num_rows, 50)).column('Delay').mean()\n",
    "    means = np.append(m, means)\n",
    "\n",
    "Table().with_columns('mean', means).hist(bins=np.arange(0,40))\n",
    "plt.axvline(x=united_mean, c='r');"
   ]
  },
  {
   "cell_type": "markdown",
   "metadata": {
    "slideshow": {
     "slide_type": "slide"
    }
   },
   "source": [
    "### Distribution of means from repeated samples of the first 100 rows\n",
    "* Low variation and very high bias!"
   ]
  },
  {
   "cell_type": "code",
   "execution_count": null,
   "metadata": {},
   "outputs": [],
   "source": [
    "#:\n",
    "n_experiments = 10000\n",
    "means = make_array()\n",
    "for n in np.arange(n_experiments):\n",
    "    m = united.take(np.arange(100)).column('Delay').mean()\n",
    "    means = np.append(m, means)\n",
    "\n",
    "Table().with_columns('mean', means).hist(bins=np.arange(0,40))\n",
    "plt.axvline(x=united_mean, c='r');"
   ]
  },
  {
   "cell_type": "markdown",
   "metadata": {
    "slideshow": {
     "slide_type": "slide"
    }
   },
   "source": [
    "### Estimating probability: rolling a die $N$ times"
   ]
  },
  {
   "cell_type": "markdown",
   "metadata": {
    "slideshow": {
     "slide_type": "slide"
    }
   },
   "source": [
    "### Discussion Question\n",
    "\n",
    "If you roll a die 4 times. What's P(at least one 6)?\n",
    "\n",
    "|Option|Answer|\n",
    "|---|---|\n",
    "|A| $5/6$|\n",
    "|B| $1-5/6$|\n",
    "|C| $1-(5/6)^4$|\n",
    "|D| $1-(1/6)^4$|\n",
    "|E| None of the above|\n"
   ]
  },
  {
   "cell_type": "markdown",
   "metadata": {
    "slideshow": {
     "slide_type": "slide"
    }
   },
   "source": [
    "### Answer for 4 rolls\n",
    "* P(at least one 6) = 1 - P(no 6) = 1 - (5/6)\\**4"
   ]
  },
  {
   "cell_type": "markdown",
   "metadata": {
    "slideshow": {
     "slide_type": "fragment"
    }
   },
   "source": [
    "### Answer for N rolls\n",
    "* P(at least one 6) = 1 - P(no 6) = 1 - (5/6)\\**N"
   ]
  },
  {
   "cell_type": "markdown",
   "metadata": {
    "slideshow": {
     "slide_type": "slide"
    }
   },
   "source": [
    "### Plot the true distribution for each N"
   ]
  },
  {
   "cell_type": "code",
   "execution_count": null,
   "metadata": {},
   "outputs": [],
   "source": [
    "#:\n",
    "rolls = np.arange(1, 51)\n",
    "at_least_one = Table().with_columns('roll', rolls, 'Chance of getting at least one 6', 1-(5/6)**rolls)\n",
    "at_least_one.scatter('roll')"
   ]
  },
  {
   "cell_type": "markdown",
   "metadata": {
    "slideshow": {
     "slide_type": "slide"
    }
   },
   "source": [
    "### Simulate the probability for N=20\n",
    "* What is the chance of getting at least one 6 in 20 rolls?"
   ]
  },
  {
   "cell_type": "code",
   "execution_count": null,
   "metadata": {},
   "outputs": [],
   "source": [
    "faces = np.arange(1, 7)\n",
    "outcomes = np.random.choice(faces, 20) # pick random number from faces, 20 times\n",
    "outcomes"
   ]
  },
  {
   "cell_type": "code",
   "execution_count": null,
   "metadata": {},
   "outputs": [],
   "source": [
    "# number of positive outcomes\n",
    "np.count_nonzero(outcomes == 6)"
   ]
  },
  {
   "cell_type": "code",
   "execution_count": null,
   "metadata": {},
   "outputs": [],
   "source": [
    "rolled6 = 0\n",
    "trials = 100000\n",
    "for i in np.arange(trials):\n",
    "    outcomes = np.random.choice(faces, 20)\n",
    "    if np.count_nonzero(outcomes == 6) >=1:\n",
    "        rolled6 = rolled6 + 1\n",
    "        \n",
    "#estimate the probability\n",
    "rolled6/trials"
   ]
  },
  {
   "cell_type": "markdown",
   "metadata": {
    "slideshow": {
     "slide_type": "slide"
    }
   },
   "source": [
    "### Simulate the probability for N=20\n",
    "* wrap the experiment in a function\n",
    "* run the experiment many times"
   ]
  },
  {
   "cell_type": "code",
   "execution_count": null,
   "metadata": {},
   "outputs": [],
   "source": [
    "#:\n",
    "def roll_20(trials):\n",
    "    rolled6 = 0\n",
    "    for i in np.arange(trials):\n",
    "        outcomes = np.random.choice(faces, 20)\n",
    "        if np.count_nonzero(outcomes == 6) >=1:\n",
    "            rolled6 = rolled6 + 1\n",
    "\n",
    "    return rolled6/trials\n",
    "\n",
    "roll_20(1000)"
   ]
  },
  {
   "cell_type": "code",
   "execution_count": null,
   "metadata": {},
   "outputs": [],
   "source": [
    "#:\n",
    "estimates = make_array()\n",
    "for i in np.arange(500):\n",
    "    estimates = np.append(roll_20(1000), estimates)\n",
    "    \n",
    "probs = Table().with_column('estimates', estimates)"
   ]
  },
  {
   "cell_type": "code",
   "execution_count": null,
   "metadata": {},
   "outputs": [],
   "source": [
    "#:\n",
    "probs.hist()\n",
    "true_prob = 1 - (5/6)**20\n",
    "plt.axvline(x=true_prob, c='r');"
   ]
  },
  {
   "cell_type": "code",
   "execution_count": null,
   "metadata": {},
   "outputs": [],
   "source": []
  }
 ],
 "metadata": {
  "celltoolbar": "Slideshow",
  "kernelspec": {
   "display_name": "Python 3",
   "language": "python",
   "name": "python3"
  },
  "language_info": {
   "codemirror_mode": {
    "name": "ipython",
    "version": 3
   },
   "file_extension": ".py",
   "mimetype": "text/x-python",
   "name": "python",
   "nbconvert_exporter": "python",
   "pygments_lexer": "ipython3",
   "version": "3.6.6"
  },
  "livereveal": {
   "scroll": true,
   "transition": "none"
  }
 },
 "nbformat": 4,
 "nbformat_minor": 2
}
