{
 "cells": [
  {
   "cell_type": "code",
   "execution_count": 1,
   "metadata": {},
   "outputs": [],
   "source": [
    "#: the usual imports\n",
    "from datascience import *\n",
    "import numpy as np\n",
    "\n",
    "%matplotlib inline\n",
    "import matplotlib.pyplot as plt\n",
    "import warnings; warnings.simplefilter('ignore')\n",
    "\n",
    "plt.style.use('fivethirtyeight')"
   ]
  },
  {
   "cell_type": "markdown",
   "metadata": {},
   "source": [
    "# Lecture 25: Decisions\n",
    "\n",
    "### Updating Predictions\n",
    "\n",
    "* New information changes our knowledge of the world.\n",
    "\n",
    "Or, in data science\n",
    "\n",
    "* New data leads us to update our predictions.\n",
    "\n",
    "The updating method we will learn today can be generalized to work in complex settings and is one of the most powerful tools used in data science."
   ]
  },
  {
   "cell_type": "markdown",
   "metadata": {},
   "source": [
    "## A “More Likely Than Not” Binary Classifier\n",
    "\n",
    "Start with a toy example.\n",
    "\n",
    "Suppose there is a university class with the following composition:\n",
    "\n",
    "* 60% of the students are Second Years and the remaining 40% are Third Years\n",
    "* 50% of the Second Years have declared their major\n",
    "* 80% of the Third Years have declared their major\n",
    "\n",
    "Pick a student at random from the class. \n",
    "\n",
    "### Discussion Question\n",
    "\n",
    "Can you classify the student as Second Year or Third Year, using a “more likely than not” criterion?\n",
    "\n",
    "* A) Yes\n",
    "* B) No\n",
    "* C) Not sure\n",
    "\n",
    "The information about the majors is irrelevant, as we already know the proportions of Second and Third Years in the class.\n",
    "\n",
    "We have a pretty simple classifier!"
   ]
  },
  {
   "cell_type": "markdown",
   "metadata": {},
   "source": [
    "But now suppose I give you some additional information about the student who was picked:\n",
    "\n",
    "**The student has declared a major.**\n",
    "\n",
    "Would this knowledge change your classification?\n",
    "\n",
    "### Updating the Prediction Based on New Information\n",
    "\n",
    "Need to look at the relation between year and major declaration.\n",
    "\n",
    "* More students are Second Years than Third Years.\n",
    "* But also among the Third Years, a much higher percent have declared their major than among the Second Years. \n",
    "\n",
    "Our classifier has to take both of these observations into account.\n",
    "\n",
    "To visualize this, we will use a table students that consists of one row for each of 100 students whose years and majors have the same proportions as given in the data."
   ]
  },
  {
   "cell_type": "code",
   "execution_count": 2,
   "metadata": {},
   "outputs": [
    {
     "data": {
      "text/html": [
       "<table border=\"1\" class=\"dataframe\">\n",
       "    <thead>\n",
       "        <tr>\n",
       "            <th>Year</th> <th>Major</th>\n",
       "        </tr>\n",
       "    </thead>\n",
       "    <tbody>\n",
       "        <tr>\n",
       "            <td>Second</td> <td>Declared</td>\n",
       "        </tr>\n",
       "        <tr>\n",
       "            <td>Second</td> <td>Declared</td>\n",
       "        </tr>\n",
       "        <tr>\n",
       "            <td>Second</td> <td>Declared</td>\n",
       "        </tr>\n",
       "    </tbody>\n",
       "</table>\n",
       "<p>... (97 rows omitted)</p>"
      ],
      "text/plain": [
       "<IPython.core.display.HTML object>"
      ]
     },
     "metadata": {},
     "output_type": "display_data"
    }
   ],
   "source": [
    "# np.array(list) converts list to an array\n",
    "# provided all the elements of list are of the same type\n",
    "\n",
    "n = 100\n",
    "second = round(n * 0.6)\n",
    "third = round(n * 0.4)\n",
    "\n",
    "year = np.array(['Second'] * second + ['Third'] * third)\n",
    "major = np.array(['Declared'] * (round(second * 0.5)) + ['Undeclared'] * (round(second * 0.5)) + \\\n",
    "                 ['Declared'] * (round(third * 0.8))  + ['Undeclared'] * (round(third * 0.2)))\n",
    "                 \n",
    "students = Table().with_columns(\n",
    "    'Year', year,\n",
    "    'Major', major\n",
    ")\n",
    "students.show(3)"
   ]
  },
  {
   "cell_type": "code",
   "execution_count": 3,
   "metadata": {},
   "outputs": [
    {
     "data": {
      "text/html": [
       "<table border=\"1\" class=\"dataframe\">\n",
       "    <thead>\n",
       "        <tr>\n",
       "            <th>Year</th> <th>Major</th>\n",
       "        </tr>\n",
       "    </thead>\n",
       "    <tbody>\n",
       "        <tr>\n",
       "            <td>Second</td> <td>Declared</td>\n",
       "        </tr>\n",
       "        <tr>\n",
       "            <td>Second</td> <td>Declared</td>\n",
       "        </tr>\n",
       "        <tr>\n",
       "            <td>Second</td> <td>Declared</td>\n",
       "        </tr>\n",
       "    </tbody>\n",
       "</table>\n",
       "<p>... (97 rows omitted)</p>"
      ],
      "text/plain": [
       "<IPython.core.display.HTML object>"
      ]
     },
     "metadata": {},
     "output_type": "display_data"
    }
   ],
   "source": [
    "students.show(3)"
   ]
  },
  {
   "cell_type": "code",
   "execution_count": 4,
   "metadata": {},
   "outputs": [
    {
     "data": {
      "text/html": [
       "<table border=\"1\" class=\"dataframe\">\n",
       "    <thead>\n",
       "        <tr>\n",
       "            <th>Year</th> <th>Declared</th> <th>Undeclared</th>\n",
       "        </tr>\n",
       "    </thead>\n",
       "    <tbody>\n",
       "        <tr>\n",
       "            <td>Second</td> <td>30      </td> <td>30        </td>\n",
       "        </tr>\n",
       "        <tr>\n",
       "            <td>Third </td> <td>32      </td> <td>8         </td>\n",
       "        </tr>\n",
       "    </tbody>\n",
       "</table>"
      ],
      "text/plain": [
       "Year   | Declared | Undeclared\n",
       "Second | 30       | 30\n",
       "Third  | 32       | 8"
      ]
     },
     "execution_count": 4,
     "metadata": {},
     "output_type": "execute_result"
    }
   ],
   "source": [
    "students.pivot('Major', 'Year')"
   ]
  },
  {
   "cell_type": "markdown",
   "metadata": {},
   "source": [
    "We have to pick which row the student is most likely to be in. \n",
    "\n",
    "When we knew nothing more about the student:\n",
    "\n",
    "* they could be in any of the four cells\n",
    "* therefore were more likely to be in the top row (Second Year) because that contains more students.\n",
    "\n",
    "But now we know that the student has declared a major:\n",
    "\n",
    "* space of possible outcomes has decreased\n",
    "* now the student can only be in one of the two Declared cells.\n",
    "\n",
    "we have to update our prediction and now classify the student as a Third Year\n",
    "\n",
    "What is the chance that our classification is correct?"
   ]
  },
  {
   "cell_type": "code",
   "execution_count": 5,
   "metadata": {},
   "outputs": [
    {
     "data": {
      "text/plain": [
       "0.5161290322580645"
      ]
     },
     "execution_count": 5,
     "metadata": {},
     "output_type": "execute_result"
    }
   ],
   "source": [
    "32/(30+32)"
   ]
  },
  {
   "cell_type": "markdown",
   "metadata": {},
   "source": [
    "## Tree Diagram\n",
    "\n",
    "the calculation depends only on the proportions in the different categories, not on the counts"
   ]
  },
  {
   "cell_type": "code",
   "execution_count": 6,
   "metadata": {},
   "outputs": [
    {
     "data": {
      "text/html": [
       "<table border=\"1\" class=\"dataframe\">\n",
       "    <thead>\n",
       "        <tr>\n",
       "            <th>Year</th> <th>Declared</th> <th>Undeclared</th>\n",
       "        </tr>\n",
       "    </thead>\n",
       "    <tbody>\n",
       "        <tr>\n",
       "            <td>Second</td> <td>30      </td> <td>30        </td>\n",
       "        </tr>\n",
       "        <tr>\n",
       "            <td>Third </td> <td>32      </td> <td>8         </td>\n",
       "        </tr>\n",
       "    </tbody>\n",
       "</table>"
      ],
      "text/plain": [
       "Year   | Declared | Undeclared\n",
       "Second | 30       | 30\n",
       "Third  | 32       | 8"
      ]
     },
     "execution_count": 6,
     "metadata": {},
     "output_type": "execute_result"
    }
   ],
   "source": [
    "students.pivot('Major', 'Year')"
   ]
  },
  {
   "cell_type": "markdown",
   "metadata": {},
   "source": [
    "Can visualize ith a tree diagram.\n",
    "\n",
    "![tree_students.png](tree_students.png)\n",
    "\n",
    "this diagram partitions the students into four distinct groups known as “branches”\n",
    "\n",
    "* “Third Year, Declared” branch contains the proportion 0.4 x 0.8 = 0.32 of the students\n",
    "* “Second Year, Declared” branch contains 0.6 x 0.5 = 0.3 of the students\n",
    "\n",
    "the proportion of Third Years among students who are Declared"
   ]
  },
  {
   "cell_type": "code",
   "execution_count": 7,
   "metadata": {},
   "outputs": [
    {
     "data": {
      "text/plain": [
       "0.5161290322580645"
      ]
     },
     "execution_count": 7,
     "metadata": {},
     "output_type": "execute_result"
    }
   ],
   "source": [
    "(0.4 * 0.8)/(0.6 * 0.5  +  0.4 * 0.8)"
   ]
  },
  {
   "cell_type": "markdown",
   "metadata": {},
   "source": [
    "# Bayes' Rule\n",
    "\n",
    "The method that we have just used is due to the Reverend Thomas Bayes (1701-1761).\n",
    "\n",
    "We will state the rule in the context of our population of students. First, some terminology:\n",
    "\n",
    "#### Prior probabilities. \n",
    "\n",
    "Before we knew the chosen student’s major declaration status, the chance that the student was a Second Year was 60% and the chance that the student was a Third Year was 40%. These are the prior probabilities of the two categories.\n",
    "\n",
    "#### Likelihoods. \n",
    "\n",
    "These are the chances of the Major status, given the category of student; thus they can be read off the tree diagram. For example, the likelihood of Declared status given that the student is a Second Year is 0.5.\n",
    "\n",
    "#### Posterior probabilities. \n",
    "\n",
    "These are the chances of the two Year categories, after we have taken into account information about the Major declaration status. We computed one of these:\n",
    "\n",
    "* The posterior probability that the student is a Third Year, given that the student has Declared, is denoted $$P(Third\\ Year ∣ Declared)$$ and is calculated as follows.\n",
    "$$P(Third\\ Year ∣ Declared) = \\frac{0.4×0.8}{0.6×0.5 + 0.4×0.8}$$\n",
    "\n",
    "$$= \\frac{(prior\\ probability\\ of\\ Third\\ Year)×(likelihood\\ of\\ Declared\\ given\\ Third\\ Year)}{total\\ probability\\ of\\ Declared}$$\n",
    "\n",
    "* The other posterior probability is $$P(Second\\ Year ∣ Declared) = \\frac{0.6×0.5}{0.6×0.5 + 0.4×0.8}$$\n",
    "\n",
    "$$= \\frac{(prior\\ probability\\ of\\ Second\\ Year)×(likelihood\\ of\\ Declared\\ given\\ Second\\ Year)}{total\\ probability\\ of\\ Declared}$$\n",
    "\n",
    "Notice that both the posterior probabilities have the same denominator: the chance of the new information, which is that the student has Declared.\n",
    "\n",
    "Because of this, Bayes’ method is sometimes summarized as a statement about proportionality:\n",
    "\n",
    "$$posterior ∝ prior×likelihood$$"
   ]
  },
  {
   "cell_type": "markdown",
   "metadata": {},
   "source": [
    "# Making Decisions\n",
    "\n",
    "**Bayes' rule lets us make decisions based on incomplete information, incorporating new information as it comes in.**\n",
    "\n",
    "Many medical tests for diseases return Positive or Negative results. \n",
    "\n",
    "* Positive result means that according to the test, the patient has the disease.\n",
    "* Negative result means the test concludes that the patient doesn’t have the disease.\n",
    "\n",
    "Medical tests are carefully designed to be very accurate. But few tests are accurate 100% of the time. Almost all tests make errors of two kinds:\n",
    "\n",
    "* A false positive is an error in which the test concludes Positive but the patient doesn’t have the disease.\n",
    "* A false negative is an error in which the test concludes Negative but the patient does have the disease.\n",
    "\n",
    "These errors can affect people’s decisions. \n",
    "\n",
    "* False positives can cause anxiety and unnecessary treatment (which in some cases is expensive or dangerous). \n",
    "* False negatives can have even more serious consequences if the patient doesn’t receive treatment because of their Negative test result.\n",
    "\n",
    "### A Test for a Rare Disease\n",
    "\n",
    "Suppose there is a large population and a disease that strikes a tiny proportion of the population. The tree diagram below summarizes information about such a disease and about a medical test for it.\n",
    "\n",
    "![tree_disease_rare.png](tree_disease_rare.png)\n",
    "\n",
    "* Overall, only 4 in 1000 of the population has the disease. \n",
    "* The test is quite accurate: it has a very small false positive rate of 5 in 1000, and a somewhat larger (though still small) false negative rate of 1 in 100.\n",
    "* Individuals might or might not know whether they have the disease; typically, people get tested to find out whether they have it.\n",
    "* So suppose a person is picked at random from the population and tested. If the test result is Positive, how would you classify them: Disease, or No disease?\n",
    "\n",
    "We can answer this by applying Bayes’ Rule and using our “more likely than not” classifier. Given that the person has tested Positive, the chance that he or she has the disease is the proportion in the top branch, relative to the total proportion in the Test Positive branches."
   ]
  },
  {
   "cell_type": "code",
   "execution_count": 8,
   "metadata": {},
   "outputs": [
    {
     "data": {
      "text/plain": [
       "0.44295302013422816"
      ]
     },
     "execution_count": 8,
     "metadata": {},
     "output_type": "execute_result"
    }
   ],
   "source": [
    "(0.004 * 0.99)/(0.004 * 0.99  +  0.996*0.005 )"
   ]
  },
  {
   "cell_type": "markdown",
   "metadata": {},
   "source": [
    "Given that the person has tested Positive, the chance that he or she has the disease is about 44%. So we will classify them as: No disease.\n",
    "\n",
    "This is a strange conclusion. We have a pretty accurate test, and a person who has tested Positive, and our classification is … that they don’t have the disease? That doesn’t seem to make any sense."
   ]
  },
  {
   "cell_type": "code",
   "execution_count": 9,
   "metadata": {},
   "outputs": [
    {
     "data": {
      "text/html": [
       "<table border=\"1\" class=\"dataframe\">\n",
       "    <thead>\n",
       "        <tr>\n",
       "            <th>Status</th> <th>Test Result</th>\n",
       "        </tr>\n",
       "    </thead>\n",
       "    <tbody>\n",
       "        <tr>\n",
       "            <td>Disease</td> <td>Test +     </td>\n",
       "        </tr>\n",
       "        <tr>\n",
       "            <td>Disease</td> <td>Test +     </td>\n",
       "        </tr>\n",
       "        <tr>\n",
       "            <td>Disease</td> <td>Test +     </td>\n",
       "        </tr>\n",
       "    </tbody>\n",
       "</table>\n",
       "<p>... (9997 rows omitted)</p>"
      ],
      "text/plain": [
       "<IPython.core.display.HTML object>"
      ]
     },
     "metadata": {},
     "output_type": "display_data"
    }
   ],
   "source": [
    "n = 10000\n",
    "disease = round(n * 0.001)\n",
    "no_disease = round(n * 0.999)\n",
    "\n",
    "status = np.array(['Disease'] * disease + ['No disease'] * no_disease)\n",
    "result = np.array(['Test +'] * (disease) + ['Test +'] * (round(no_disease * 0.05))  + \\\n",
    "                 ['Test -'] * (round(no_disease * 0.95)))\n",
    "                 \n",
    "persons = Table().with_columns(\n",
    "    'Status', status,\n",
    "    'Test Result', result\n",
    ")\n",
    "persons.show(3)"
   ]
  },
  {
   "cell_type": "code",
   "execution_count": 10,
   "metadata": {},
   "outputs": [
    {
     "data": {
      "text/html": [
       "<table border=\"1\" class=\"dataframe\">\n",
       "    <thead>\n",
       "        <tr>\n",
       "            <th>Status</th> <th>Test +</th> <th>Test -</th>\n",
       "        </tr>\n",
       "    </thead>\n",
       "    <tbody>\n",
       "        <tr>\n",
       "            <td>Disease   </td> <td>10    </td> <td>0     </td>\n",
       "        </tr>\n",
       "        <tr>\n",
       "            <td>No disease</td> <td>500   </td> <td>9490  </td>\n",
       "        </tr>\n",
       "    </tbody>\n",
       "</table>"
      ],
      "text/plain": [
       "Status     | Test + | Test -\n",
       "Disease    | 10     | 0\n",
       "No disease | 500    | 9490"
      ]
     },
     "execution_count": 10,
     "metadata": {},
     "output_type": "execute_result"
    }
   ],
   "source": [
    "persons.pivot('Test Result', 'Status')"
   ]
  },
  {
   "cell_type": "markdown",
   "metadata": {},
   "source": [
    "# More about Bayes\n",
    "\n",
    "![frequentists_vs_bayesians.png](frequentists_vs_bayesians.png)\n",
    "\n",
    "* Original proof (pool tables)\n",
    "* Laplace's Rule\n",
    "* Frequentists (Randomness and Uncertainty)\n",
    "* Relationship to propositional Logic\n"
   ]
  },
  {
   "cell_type": "code",
   "execution_count": null,
   "metadata": {},
   "outputs": [],
   "source": []
  }
 ],
 "metadata": {
  "kernelspec": {
   "display_name": "Python 3",
   "language": "python",
   "name": "python3"
  },
  "language_info": {
   "codemirror_mode": {
    "name": "ipython",
    "version": 3
   },
   "file_extension": ".py",
   "mimetype": "text/x-python",
   "name": "python",
   "nbconvert_exporter": "python",
   "pygments_lexer": "ipython3",
   "version": "3.7.1"
  }
 },
 "nbformat": 4,
 "nbformat_minor": 2
}
