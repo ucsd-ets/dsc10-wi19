{
 "cells": [
  {
   "cell_type": "code",
   "execution_count": null,
   "metadata": {
    "collapsed": true
   },
   "outputs": [],
   "source": [
    "from datascience import *\n",
    "import numpy as np\n",
    "import matplotlib\n",
    "from mpl_toolkits.mplot3d import Axes3D\n",
    "%matplotlib inline\n",
    "import matplotlib.pyplot as plots\n",
    "plots.style.use('fivethirtyeight')"
   ]
  },
  {
   "cell_type": "markdown",
   "metadata": {},
   "source": [
    "## Classification ##"
   ]
  },
  {
   "cell_type": "code",
   "execution_count": null,
   "metadata": {
    "collapsed": true
   },
   "outputs": [],
   "source": [
    "def distance(pt1, pt2):\n",
    "    \"\"\"Return the distance between two points, represented as arrays\"\"\"\n",
    "    return np.sqrt(sum((pt1 - pt2)**2))\n",
    "\n",
    "def row_distance(row1, row2):\n",
    "    \"\"\"Return the distance between two numerical rows of a table\"\"\"\n",
    "    return distance(np.array(row1), np.array(row2))\n",
    "\n",
    "def distances(training, example):\n",
    "    \"\"\"Compute distance between example and every row in training.\n",
    "    Return training augmented with Distance column\"\"\"\n",
    "    distances = make_array()\n",
    "    attributes = training.drop('Class')\n",
    "    for row in attributes.rows:\n",
    "        distances = np.append(distances, row_distance(row, example))\n",
    "    return training.with_column('Distance', distances)\n",
    "\n",
    "def closest(training, example, k):\n",
    "    \"\"\"Return a table of the k closest neighbors to example\"\"\"\n",
    "    return distances(training, example).sort('Distance').take(np.arange(k))\n",
    "\n",
    "def majority_class(topk):\n",
    "    \"\"\"Return the class with the highest count\"\"\"\n",
    "    return topk.group('Class').sort('count', descending=True).column(0).item(0)\n",
    "\n",
    "def classify(training, example, k):\n",
    "    \"Return the majority class among the k nearest neighbors of example\"\n",
    "    return majority_class(closest(training, example, k))"
   ]
  },
  {
   "cell_type": "code",
   "execution_count": null,
   "metadata": {},
   "outputs": [],
   "source": [
    "credit = Table.read_table('credit.csv')\n",
    "credit.show(3)"
   ]
  },
  {
   "cell_type": "code",
   "execution_count": null,
   "metadata": {
    "collapsed": true
   },
   "outputs": [],
   "source": [
    "credit_payments = credit.drop('LIMIT_BAL')"
   ]
  },
  {
   "cell_type": "code",
   "execution_count": null,
   "metadata": {},
   "outputs": [],
   "source": [
    "example123 = credit_payments.drop('Class').row(123)\n",
    "example123"
   ]
  },
  {
   "cell_type": "code",
   "execution_count": null,
   "metadata": {},
   "outputs": [],
   "source": [
    "classify(credit_payments.exclude(123), example123, 5)"
   ]
  },
  {
   "cell_type": "code",
   "execution_count": null,
   "metadata": {},
   "outputs": [],
   "source": [
    "credit_payments.row(123)"
   ]
  },
  {
   "cell_type": "markdown",
   "metadata": {},
   "source": [
    "## Evaluation ##"
   ]
  },
  {
   "cell_type": "code",
   "execution_count": null,
   "metadata": {},
   "outputs": [],
   "source": [
    "credit_payments.num_rows"
   ]
  },
  {
   "cell_type": "code",
   "execution_count": null,
   "metadata": {
    "collapsed": true
   },
   "outputs": [],
   "source": [
    "training_set = credit_payments.take(np.arange(500))\n",
    "test_set = credit_payments.take(np.arange(500, 1000))"
   ]
  },
  {
   "cell_type": "code",
   "execution_count": null,
   "metadata": {
    "collapsed": true
   },
   "outputs": [],
   "source": [
    "def evaluate_accuracy(training, test, k):\n",
    "    \"\"\"Return the proportion of correctly classified examples \n",
    "    in the test set\"\"\"\n",
    "    test_attributes = test.drop('Class')\n",
    "    num_correct = 0\n",
    "    for i in np.arange(test.num_rows):\n",
    "        c = classify(training, test_attributes.row(i), k)\n",
    "        num_correct = num_correct + (c == test.column('Class').item(i))\n",
    "    return num_correct / test.num_rows"
   ]
  },
  {
   "cell_type": "code",
   "execution_count": null,
   "metadata": {},
   "outputs": [],
   "source": [
    "evaluate_accuracy(training_set, test_set, 3)"
   ]
  },
  {
   "cell_type": "code",
   "execution_count": null,
   "metadata": {
    "scrolled": true
   },
   "outputs": [],
   "source": [
    "credit_payments.column('Class')"
   ]
  },
  {
   "cell_type": "code",
   "execution_count": null,
   "metadata": {
    "collapsed": true
   },
   "outputs": [],
   "source": [
    "shuffled = credit_payments.sample(with_replacement=False)\n",
    "training_set = shuffled.take(np.arange(500))\n",
    "test_set = shuffled.take(np.arange(500, 1000))"
   ]
  },
  {
   "cell_type": "code",
   "execution_count": null,
   "metadata": {},
   "outputs": [],
   "source": [
    "evaluate_accuracy(training_set, test_set, 3)"
   ]
  },
  {
   "cell_type": "code",
   "execution_count": null,
   "metadata": {},
   "outputs": [],
   "source": [
    "evaluate_accuracy(training_set, test_set, 5)"
   ]
  },
  {
   "cell_type": "code",
   "execution_count": null,
   "metadata": {},
   "outputs": [],
   "source": [
    "evaluate_accuracy(training_set, training_set, 3)"
   ]
  },
  {
   "cell_type": "markdown",
   "metadata": {},
   "source": [
    "## Decisions ##"
   ]
  },
  {
   "cell_type": "code",
   "execution_count": null,
   "metadata": {},
   "outputs": [],
   "source": [
    "# np.array(list) converts list to an array\n",
    "# provided all the elements of list are of the same type\n",
    "\n",
    "n = 100\n",
    "second = round(n * 0.6)\n",
    "third = round(n * 0.4)\n",
    "\n",
    "year = np.array(['Second'] * second + ['Third'] * third)\n",
    "major = np.array(['Declared'] * (round(second * 0.5)) + ['Undeclared'] * (round(second * 0.5)) + \\\n",
    "                 ['Declared'] * (round(third * 0.8))  + ['Undeclared'] * (round(third * 0.2)))\n",
    "                 \n",
    "students = Table().with_columns(\n",
    "    'Year', year,\n",
    "    'Major', major\n",
    ")\n",
    "students.show(3)"
   ]
  },
  {
   "cell_type": "code",
   "execution_count": null,
   "metadata": {},
   "outputs": [],
   "source": [
    "students.pivot('Major', 'Year')"
   ]
  },
  {
   "cell_type": "code",
   "execution_count": null,
   "metadata": {},
   "outputs": [],
   "source": [
    "# Chance of junior, given that they have declared\n",
    "# P(third year | declared)\n",
    "\n",
    "32 / 62"
   ]
  },
  {
   "cell_type": "code",
   "execution_count": null,
   "metadata": {},
   "outputs": [],
   "source": [
    "# P(second year | declared)\n",
    "\n",
    "30 / 62"
   ]
  },
  {
   "cell_type": "code",
   "execution_count": null,
   "metadata": {},
   "outputs": [],
   "source": [
    "(0.6 * 0.5) / ((0.6 * 0.5) + (0.4 * 0.8))"
   ]
  },
  {
   "cell_type": "code",
   "execution_count": null,
   "metadata": {},
   "outputs": [],
   "source": [
    "(0.001 * 1) / ((0.001 * 1) + (0.999 * 0.05))"
   ]
  },
  {
   "cell_type": "code",
   "execution_count": null,
   "metadata": {},
   "outputs": [],
   "source": [
    "n = 10000\n",
    "disease = round(n * 0.001)\n",
    "no_disease = round(n * 0.999)\n",
    "\n",
    "status = np.array(['Disease'] * disease + ['No disease'] * no_disease)\n",
    "result = np.array(['Test +'] * (disease) + ['Test +'] * (round(no_disease * 0.05))  + \\\n",
    "                 ['Test -'] * (round(no_disease * 0.95)))\n",
    "                 \n",
    "persons = Table().with_columns(\n",
    "    'Status', status,\n",
    "    'Test Result', result\n",
    ")\n",
    "persons.show(3)"
   ]
  },
  {
   "cell_type": "code",
   "execution_count": null,
   "metadata": {},
   "outputs": [],
   "source": [
    "persons.pivot('Test Result', 'Status')"
   ]
  },
  {
   "cell_type": "code",
   "execution_count": null,
   "metadata": {},
   "outputs": [],
   "source": [
    "500 + 9490"
   ]
  },
  {
   "cell_type": "markdown",
   "metadata": {},
   "source": [
    "## Using Subjective Prior Probabilities ##"
   ]
  },
  {
   "cell_type": "code",
   "execution_count": null,
   "metadata": {},
   "outputs": [],
   "source": [
    "(0.1 * 1) / ((0.1 * 1) + (0.999 * 0.05))"
   ]
  },
  {
   "cell_type": "code",
   "execution_count": null,
   "metadata": {},
   "outputs": [],
   "source": [
    "(0.5 * 1) / ((0.5 * 1) + (0.5 * 0.05))"
   ]
  },
  {
   "cell_type": "code",
   "execution_count": null,
   "metadata": {
    "collapsed": true
   },
   "outputs": [],
   "source": [
    "def create_population(prior_disease_prob, n):\n",
    "    disease = round(n * prior_disease_prob)\n",
    "    no_disease = round(n * (1 - prior_disease_prob))\n",
    "\n",
    "    status = np.array(['Disease'] * disease  +  ['No disease'] * no_disease)\n",
    "    result = np.array(['Test +'] * (disease) + ['Test +'] * (round(no_disease * 0.05))  + \\\n",
    "                 ['Test -'] * (round(no_disease * 0.95)))\n",
    "                 \n",
    "    t = Table().with_columns(\n",
    "    'Status', status,\n",
    "    'Test Result', result\n",
    "    )\n",
    "    return t.pivot('Test Result', 'Status')"
   ]
  },
  {
   "cell_type": "code",
   "execution_count": null,
   "metadata": {},
   "outputs": [],
   "source": [
    "create_population(0.5, 10000)"
   ]
  },
  {
   "cell_type": "code",
   "execution_count": null,
   "metadata": {},
   "outputs": [],
   "source": [
    "5000 / (5000 + 250)"
   ]
  },
  {
   "cell_type": "code",
   "execution_count": null,
   "metadata": {
    "collapsed": true
   },
   "outputs": [],
   "source": []
  }
 ],
 "metadata": {
  "kernelspec": {
   "display_name": "Python 3",
   "language": "python",
   "name": "python3"
  },
  "language_info": {
   "codemirror_mode": {
    "name": "ipython",
    "version": 3
   },
   "file_extension": ".py",
   "mimetype": "text/x-python",
   "name": "python",
   "nbconvert_exporter": "python",
   "pygments_lexer": "ipython3",
   "version": "3.7.1"
  }
 },
 "nbformat": 4,
 "nbformat_minor": 2
}
