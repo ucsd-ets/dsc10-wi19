{
 "cells": [
  {
   "cell_type": "code",
   "execution_count": null,
   "metadata": {},
   "outputs": [],
   "source": [
    "#: the usual imports\n",
    "from datascience import *\n",
    "import numpy as np\n",
    "\n",
    "%matplotlib inline\n",
    "import matplotlib.pyplot as plt\n",
    "import warnings; warnings.simplefilter('ignore')\n",
    "plt.style.use('fivethirtyeight')"
   ]
  },
  {
   "cell_type": "markdown",
   "metadata": {
    "slideshow": {
     "slide_type": "slide"
    }
   },
   "source": [
    "# Lecture 19\n",
    "\n",
    "### Experiment Design and Correlation"
   ]
  },
  {
   "cell_type": "markdown",
   "metadata": {
    "slideshow": {
     "slide_type": "slide"
    }
   },
   "source": [
    "# Experiment Design"
   ]
  },
  {
   "cell_type": "markdown",
   "metadata": {
    "slideshow": {
     "slide_type": "slide"
    }
   },
   "source": [
    "## Example: Polling\n",
    "\n",
    "- You are conducting a campus poll:\n",
    "    - Yes/No: Does Eleanor Roosevelt College exist?\n",
    "- You want to estimate the proportion in population who believe \"Yes\".\n",
    "- Need to be accurate to within $\\pm$ 3%, 95% of the time.\n",
    "- i.e., your 95% confidence interval should be 6% wide.\n",
    "- How big of a sample do you need?"
   ]
  },
  {
   "cell_type": "markdown",
   "metadata": {
    "slideshow": {
     "slide_type": "slide"
    }
   },
   "source": [
    "## Proportions are just means\n",
    "\n",
    "- When polling, we'll write 1 if a person answers \"Yes\", 0 otherwise.\n",
    "- The sample proportion in favor of A = mean of 0's and 1's\n",
    "- I.e., it is the mean of random sample.\n",
    "- Hence the CLT applies."
   ]
  },
  {
   "cell_type": "markdown",
   "metadata": {
    "slideshow": {
     "slide_type": "slide"
    }
   },
   "source": [
    "## Our strategy\n",
    "\n",
    "1. We will poll a random sample of $n$ people\n",
    "2. Compute sample mean (i.e., proportion in favor of A)\n",
    "3. Compute sample standard deviation\n",
    "4. Construct 95% confidence interval:\n",
    "$$\n",
    "\\left[\n",
    "\\text{sample mean} - 2\\cdot \\frac{\\text{sample SD}}{\\sqrt{n}},\n",
    "\\text{sample mean} + 2\\cdot \\frac{\\text{sample SD}}{\\sqrt{n}}\n",
    "\\right]\n",
    "$$"
   ]
  },
  {
   "cell_type": "markdown",
   "metadata": {
    "slideshow": {
     "slide_type": "slide"
    }
   },
   "source": [
    "## Our strategy\n",
    "\n",
    "- We want a CI whose width is 4% or less.\n",
    "- The width of our confidence interval depends on two things:\n",
    "    - sample SD\n",
    "    - $\\sqrt{n}$\n",
    "- If we know SD, we can pick $n$ to make CI the right size.\n",
    "- But before polling, we don't know the sample SD (we don't have a sample!)"
   ]
  },
  {
   "cell_type": "markdown",
   "metadata": {
    "slideshow": {
     "slide_type": "slide"
    }
   },
   "source": [
    "## Bounding the sample SD\n",
    "\n",
    "- How big could the sample SD be?\n",
    "- This is a simple calculation, but...\n",
    "- Let's try to get the answer from a plot."
   ]
  },
  {
   "cell_type": "markdown",
   "metadata": {
    "slideshow": {
     "slide_type": "slide"
    }
   },
   "source": [
    "## Create a population"
   ]
  },
  {
   "cell_type": "code",
   "execution_count": null,
   "metadata": {},
   "outputs": [],
   "source": [
    "#: construct an array of zeros/ones\n",
    "def polling_population(size, number_of_ones):\n",
    "    count = np.arange(size)\n",
    "    return np.where(count < number_of_ones, 1, 0)"
   ]
  },
  {
   "cell_type": "code",
   "execution_count": null,
   "metadata": {},
   "outputs": [],
   "source": [
    "polling_population(10, 3)"
   ]
  },
  {
   "cell_type": "markdown",
   "metadata": {
    "slideshow": {
     "slide_type": "slide"
    }
   },
   "source": [
    "## Compute standard deviations"
   ]
  },
  {
   "cell_type": "code",
   "execution_count": null,
   "metadata": {},
   "outputs": [],
   "source": [
    "#: compute SD for each proportion\n",
    "size = 100\n",
    "proportions = np.arange(0, size+1, 10)\n",
    "sds = make_array()\n",
    "\n",
    "for proportion in proportions:\n",
    "    population = polling_population(size, proportion)\n",
    "    sd = np.std(population)\n",
    "    sds = np.append(sds, sd)"
   ]
  },
  {
   "cell_type": "code",
   "execution_count": null,
   "metadata": {},
   "outputs": [],
   "source": [
    "Table().with_columns(\n",
    "    'Proportion', proportions,\n",
    "    'SD', sds\n",
    ").scatter('Proportion')"
   ]
  },
  {
   "cell_type": "markdown",
   "metadata": {
    "slideshow": {
     "slide_type": "slide"
    }
   },
   "source": [
    "## Bounding the sample SD\n",
    "\n",
    "- The most the sample SD can be is 0.5.\n",
    "- Doesn't depend on size of sample.\n",
    "- True for the population, too!\n",
    "- Using 0.5 in place of SD results in a conservative confidence interval."
   ]
  },
  {
   "cell_type": "markdown",
   "metadata": {
    "slideshow": {
     "slide_type": "slide"
    }
   },
   "source": [
    "## Constructing the 95% confidence interval\n",
    "\n",
    "- The interval is:\n",
    "\n",
    "$$\n",
    "\\left[\n",
    "\\text{sample mean} - 2\\cdot \\frac{\\text{sample SD}}{\\sqrt{n}},\n",
    "\\text{sample mean} + 2\\cdot \\frac{\\text{sample SD}}{\\sqrt{n}}\n",
    "\\right]\n",
    "$$\n",
    "\n",
    "- The width is:\n",
    "\n",
    "$$\n",
    "4 \\cdot \\frac{\\text{sample SD}}{\\sqrt{n}}\n",
    "$$\n",
    "\n",
    "- Use 0.5 instead of sample SD:\n",
    "\n",
    "$$\n",
    "4 \\cdot \\frac{0.5}{\\sqrt{n}} = \\frac{2}{\\sqrt{n}}\n",
    "$$"
   ]
  },
  {
   "cell_type": "markdown",
   "metadata": {
    "slideshow": {
     "slide_type": "slide"
    }
   },
   "source": [
    "## Constructing the 95% confidence interval\n",
    "\n",
    "- Upper bound on CI width: $2 / \\sqrt{n}$\n",
    "- Want our sample mean to be within $\\pm$ 3%.\n",
    "- I.e., want our CI to be smaller than 6% = .06.\n",
    "- Solve for $n$:\n",
    "\n",
    "$$\n",
    "\\sqrt{n} = \\frac{2}{0.06}\n",
    "$$"
   ]
  },
  {
   "cell_type": "code",
   "execution_count": null,
   "metadata": {},
   "outputs": [],
   "source": [
    "(2/.06)**2"
   ]
  },
  {
   "cell_type": "markdown",
   "metadata": {
    "slideshow": {
     "slide_type": "slide"
    }
   },
   "source": [
    "## Answer\n",
    "\n",
    "- We must poll $\\approx$ 1111 people to get a 95% CI which is 6% wide."
   ]
  },
  {
   "cell_type": "markdown",
   "metadata": {
    "slideshow": {
     "slide_type": "slide"
    }
   },
   "source": [
    "## Discussion question\n",
    "\n",
    "We must poll 1111 people to get a 95% CI which is 6% wide.\n",
    "Suppose we instead want a CI that is 3% wide. How many people do we need to poll?\n",
    "\n",
    "- A) 555\n",
    "- B) 2222\n",
    "- C) 4444\n",
    "- D) 8888"
   ]
  },
  {
   "cell_type": "markdown",
   "metadata": {
    "slideshow": {
     "slide_type": "slide"
    }
   },
   "source": [
    "## Answer: the $\\sqrt{\\quad}$ rule\n",
    "\n",
    "- We need 4444 samples.\n",
    "- To double our accuracy, we must *quadruple* our sample size."
   ]
  },
  {
   "cell_type": "markdown",
   "metadata": {
    "slideshow": {
     "slide_type": "slide"
    }
   },
   "source": [
    "## Experiment\n",
    "\n",
    "- Let's see how accurate this is.\n",
    "- Code below chooses some true proportion in favor of A. Don't peek!"
   ]
  },
  {
   "cell_type": "code",
   "execution_count": null,
   "metadata": {},
   "outputs": [],
   "source": [
    "#: don't peek\n",
    "population_proportion = np.random.choice(np.arange(.3, .7, .01))"
   ]
  },
  {
   "cell_type": "markdown",
   "metadata": {
    "slideshow": {
     "slide_type": "slide"
    }
   },
   "source": [
    "## Conduct a poll"
   ]
  },
  {
   "cell_type": "code",
   "execution_count": null,
   "metadata": {},
   "outputs": [],
   "source": [
    "#:\n",
    "poll_results = sample_proportions(1111, [population_proportion, 1-population_proportion])\n",
    "poll_results"
   ]
  },
  {
   "cell_type": "markdown",
   "metadata": {
    "slideshow": {
     "slide_type": "slide"
    }
   },
   "source": [
    "## Repeat the poll"
   ]
  },
  {
   "cell_type": "code",
   "execution_count": null,
   "metadata": {},
   "outputs": [],
   "source": [
    "#: simulate 5000 polls\n",
    "distribution = make_array()\n",
    "\n",
    "for i in np.arange(5000):\n",
    "    poll_results = sample_proportions(1111, [population_proportion, 1-population_proportion])\n",
    "    distribution = np.append(distribution, poll_results.item(0))"
   ]
  },
  {
   "cell_type": "markdown",
   "metadata": {
    "slideshow": {
     "slide_type": "slide"
    }
   },
   "source": [
    "## Visualize"
   ]
  },
  {
   "cell_type": "code",
   "execution_count": null,
   "metadata": {},
   "outputs": [],
   "source": [
    "#: draw histogram\n",
    "Table().with_column('Sampled Proportions', distribution).hist(bins=20)\n",
    "\n",
    "plt.scatter(population_proportion, 0, marker='^', zorder=3, s=100)\n",
    "plt.plot([population_proportion - .03, population_proportion + .03], [0, 0], color='C1', linewidth=5)"
   ]
  },
  {
   "cell_type": "code",
   "execution_count": null,
   "metadata": {},
   "outputs": [],
   "source": [
    "np.count_nonzero((population_proportion - .03 <= distribution) & (distribution <= population_proportion + .03)) / 5000"
   ]
  },
  {
   "cell_type": "code",
   "execution_count": null,
   "metadata": {},
   "outputs": [],
   "source": [
    "population_proportion"
   ]
  },
  {
   "cell_type": "markdown",
   "metadata": {},
   "source": [
    "# Correlation "
   ]
  },
  {
   "cell_type": "markdown",
   "metadata": {
    "slideshow": {
     "slide_type": "slide"
    }
   },
   "source": [
    "## Relations between two variables\n",
    "* Association\n",
    "* Trend\n",
    "    - Positive association\n",
    "    - Negative association\n",
    "* Pattern\n",
    "    - Any discernible \"shape\"\n",
    "    - Linear\n",
    "    - Non-Linear"
   ]
  },
  {
   "cell_type": "markdown",
   "metadata": {
    "slideshow": {
     "slide_type": "slide"
    }
   },
   "source": [
    "## Variable relationships: hybrid cars"
   ]
  },
  {
   "cell_type": "code",
   "execution_count": null,
   "metadata": {},
   "outputs": [],
   "source": [
    "#:\n",
    "hybrid = Table.read_table('hybrid.csv')\n",
    "hybrid"
   ]
  },
  {
   "cell_type": "markdown",
   "metadata": {
    "slideshow": {
     "slide_type": "slide"
    }
   },
   "source": [
    "### Acceleration and price\n",
    "* Is there an association?\n",
    "* What kind of association?"
   ]
  },
  {
   "cell_type": "code",
   "execution_count": null,
   "metadata": {},
   "outputs": [],
   "source": [
    "hybrid.scatter('acceleration', 'msrp')"
   ]
  },
  {
   "cell_type": "markdown",
   "metadata": {
    "slideshow": {
     "slide_type": "slide"
    }
   },
   "source": [
    "### Discussion Question\n",
    "\n",
    "This scatter plot shows that people are generally:\n",
    "\n",
    "|Option|Answer|\n",
    "|---|---|\n",
    "|A.|Willing to pay more for cars that accelerate faster|\n",
    "|B.|Willing to pay more for certain cars because they accelerate faster|\n",
    "|C.|Not willing to pay more for cars that accelerate faster|\n",
    "|D.|More than one of the above|"
   ]
  },
  {
   "cell_type": "code",
   "execution_count": null,
   "metadata": {},
   "outputs": [],
   "source": [
    "#:\n",
    "hybrid.scatter('acceleration', 'msrp')"
   ]
  },
  {
   "cell_type": "markdown",
   "metadata": {
    "slideshow": {
     "slide_type": "slide"
    }
   },
   "source": [
    "### Fuel economy and price\n",
    "\n",
    "* Is there an association?\n",
    "* What kind of association?"
   ]
  },
  {
   "cell_type": "code",
   "execution_count": null,
   "metadata": {},
   "outputs": [],
   "source": [
    "hybrid.scatter('mpg', 'msrp')"
   ]
  },
  {
   "cell_type": "markdown",
   "metadata": {
    "slideshow": {
     "slide_type": "fragment"
    }
   },
   "source": [
    "### Observations\n",
    "* There is an association:\n",
    "    - Are people more willing to pay less for certain cars because they want poor fuel economy?\n",
    "* The association looks more curved than linear, like $~\\frac{1}{x}$"
   ]
  },
  {
   "cell_type": "markdown",
   "metadata": {
    "slideshow": {
     "slide_type": "slide"
    }
   },
   "source": [
    "### Understanding units \n",
    "* A linear change in units doesn't change the shape of the plot.\n",
    "* The scale *does* change with the units."
   ]
  },
  {
   "cell_type": "code",
   "execution_count": null,
   "metadata": {},
   "outputs": [],
   "source": [
    "hybrid.scatter('mpg', 'msrp')"
   ]
  },
  {
   "cell_type": "code",
   "execution_count": null,
   "metadata": {},
   "outputs": [],
   "source": [
    "hybrid.with_columns(\n",
    "        'km_per_liter', hybrid.column('mpg') * 0.425144,\n",
    "        'eur', hybrid.column('msrp') * 0.88 \n",
    ").scatter('km_per_liter', 'eur')"
   ]
  },
  {
   "cell_type": "markdown",
   "metadata": {
    "slideshow": {
     "slide_type": "slide"
    }
   },
   "source": [
    "### Converting columns to standard units\n",
    "* makes different scatterplots comparable\n",
    "* allows x and y axis to be \"similarly scaled\"\n",
    "    - both axes measure standard deviations from their means\n",
    "* doesn't change shape of the scatterplot (conversion is linear)"
   ]
  },
  {
   "cell_type": "code",
   "execution_count": null,
   "metadata": {},
   "outputs": [],
   "source": [
    "def standard_units(any_numbers):\n",
    "    \"Convert any array of numbers to standard units.\"\n",
    "    return (any_numbers - np.mean(any_numbers))/np.std(any_numbers)"
   ]
  },
  {
   "cell_type": "code",
   "execution_count": null,
   "metadata": {},
   "outputs": [],
   "source": [
    "def standardize(t):\n",
    "    \"\"\"Return a table in which all columns of t are converted to standard units.\"\"\"\n",
    "    t_su = Table()\n",
    "    for label in t.labels:\n",
    "        t_su = t_su.with_column(label + ' (su)', standard_units(t.column(label)))\n",
    "    return t_su"
   ]
  },
  {
   "cell_type": "markdown",
   "metadata": {
    "slideshow": {
     "slide_type": "slide"
    }
   },
   "source": [
    "### Standard units: hybrid cars\n",
    "* For a given pair of variables:\n",
    "    - which cars are average from both perspectives?\n",
    "    - which cars are both well above/below average?"
   ]
  },
  {
   "cell_type": "code",
   "execution_count": null,
   "metadata": {},
   "outputs": [],
   "source": [
    "hybrid_su = standardize(hybrid.select('msrp', 'acceleration','mpg'))\n",
    "hybrid_su"
   ]
  },
  {
   "cell_type": "code",
   "execution_count": null,
   "metadata": {},
   "outputs": [],
   "source": [
    "hybrid_su.scatter('mpg (su)', 'msrp (su)')\n",
    "plt.xlim(-3, 3)\n",
    "plt.ylim(-3, 3);"
   ]
  },
  {
   "cell_type": "code",
   "execution_count": null,
   "metadata": {},
   "outputs": [],
   "source": [
    "(\n",
    "    hybrid_su\n",
    "    .with_column('vehicle', hybrid.column('vehicle'))\n",
    "    .where('mpg (su)', are.between(-0.2, 0.2))\n",
    "    .where('msrp (su)', are.between(-0.2, 0.2))\n",
    ")"
   ]
  },
  {
   "cell_type": "code",
   "execution_count": null,
   "metadata": {
    "slideshow": {
     "slide_type": "slide"
    }
   },
   "outputs": [],
   "source": [
    "hybrid_su.scatter('acceleration (su)', 'msrp (su)')\n",
    "plt.xlim(-3, 3)\n",
    "plt.ylim(-3, 3);"
   ]
  },
  {
   "cell_type": "code",
   "execution_count": null,
   "metadata": {},
   "outputs": [],
   "source": [
    "(\n",
    "    hybrid_su\n",
    "    .with_column('vehicle', hybrid.column('vehicle'))\n",
    "    .where('acceleration (su)', are.above(2))\n",
    "    .where('msrp (su)', are.above(2))\n",
    ")"
   ]
  },
  {
   "cell_type": "markdown",
   "metadata": {
    "slideshow": {
     "slide_type": "slide"
    }
   },
   "source": [
    "### Observation on associations in standard units\n",
    "* If two attributes are positively associated,\n",
    "    - their high, positive values in standard units are typically seen together,\n",
    "    - their low, negative values are seen together as well.\n",
    "* If two attributes are negatively associated,\n",
    "    - high, positive values of one are typically coupled with low, negative values of the other.\n",
    "* If two attributes aren't associated, there shouldn't be pattern in their relative sizes."
   ]
  },
  {
   "cell_type": "markdown",
   "metadata": {
    "slideshow": {
     "slide_type": "slide"
    }
   },
   "source": [
    "## Definition: Correlation Coefficient\n",
    "\n",
    "**Definition**: The correlation coefficient $r$ of two attributes $x$ and $y$ is the average value of the product of $x$ and $y$ when measured in standard units.\n",
    "\n",
    "* If `x` and `y` are arrays (i.e. columns in a table): \n",
    "```\n",
    "r = np.mean(x_su * y_su)\n",
    "```\n",
    "where `x_su` and `y_su` are `x` and `y` converted to standard units.\n"
   ]
  },
  {
   "cell_type": "markdown",
   "metadata": {
    "slideshow": {
     "slide_type": "slide"
    }
   },
   "source": [
    "### Calculate the $r$ for `acceleration` and `msrp`"
   ]
  },
  {
   "cell_type": "code",
   "execution_count": null,
   "metadata": {},
   "outputs": [],
   "source": [
    "hybrid_su.scatter('acceleration (su)', 'msrp (su)')\n",
    "plt.xlim(-3, 3)\n",
    "plt.ylim(-3, 3);"
   ]
  },
  {
   "cell_type": "code",
   "execution_count": null,
   "metadata": {},
   "outputs": [],
   "source": [
    "#:\n",
    "(\n",
    "    hybrid_su\n",
    "    .select('acceleration (su)', 'msrp (su)')\n",
    "    .with_column('product of su', hybrid_su.column('acceleration (su)') * hybrid_su.column('msrp (su)'))\n",
    ")"
   ]
  },
  {
   "cell_type": "code",
   "execution_count": null,
   "metadata": {},
   "outputs": [],
   "source": [
    "#:\n",
    "r = np.mean(hybrid_su.column('acceleration (su)') * hybrid_su.column('msrp (su)'))\n",
    "r"
   ]
  },
  {
   "cell_type": "markdown",
   "metadata": {
    "slideshow": {
     "slide_type": "slide"
    }
   },
   "source": [
    "## The Correlation Coefficient $r$\n",
    "\n",
    "* Measures how clustered points are around a straight line (linear association)\n",
    "* Based on standard units\n",
    "* $-1 \\leq r \\leq 1$\n",
    "    - $r = 1$: scatterplot is a line of slope 1.\n",
    "    - $r = -1$: scatterplot is a line of slope -1.\n",
    "* $r = 0$: no linear association; *uncorrelated*."
   ]
  },
  {
   "cell_type": "markdown",
   "metadata": {
    "slideshow": {
     "slide_type": "slide"
    }
   },
   "source": [
    "### Calculate the $r$ for `mpg` and `msrp`"
   ]
  },
  {
   "cell_type": "code",
   "execution_count": null,
   "metadata": {},
   "outputs": [],
   "source": [
    "hybrid_su.scatter('mpg (su)', 'msrp (su)')\n",
    "plt.axhline(color='C2', zorder=0)\n",
    "plt.axvline(color='C2', zorder=0)"
   ]
  },
  {
   "cell_type": "code",
   "execution_count": null,
   "metadata": {},
   "outputs": [],
   "source": [
    "#:\n",
    "(\n",
    "    hybrid_su\n",
    "    .select('mpg (su)', 'msrp (su)')\n",
    "    .with_column('product of su', hybrid_su.column('mpg (su)') * hybrid_su.column('msrp (su)'))\n",
    ")"
   ]
  },
  {
   "cell_type": "code",
   "execution_count": null,
   "metadata": {},
   "outputs": [],
   "source": [
    "#:\n",
    "r = np.mean(hybrid_su.column('mpg (su)') * hybrid_su.column('msrp (su)'))\n",
    "r"
   ]
  },
  {
   "cell_type": "markdown",
   "metadata": {
    "slideshow": {
     "slide_type": "slide"
    }
   },
   "source": [
    "## Scatterplots with given correlation coefficients"
   ]
  },
  {
   "cell_type": "code",
   "execution_count": null,
   "metadata": {},
   "outputs": [],
   "source": [
    "#:\n",
    "def r_scatter(r):\n",
    "    plt.figure(figsize=(5,5))\n",
    "    \"Generate a scatter plot with a correlation approximately r\"\n",
    "    x = np.random.normal(0, 1, 1000)\n",
    "    z = np.random.normal(0, 1, 1000)\n",
    "    y = r*x + (np.sqrt(1-r**2))*z\n",
    "    plt.scatter(x, y)\n",
    "    plt.xlim(-4, 4)\n",
    "    plt.ylim(-4, 4)\n",
    "    plt.suptitle('r = %f' %r, fontsize=14)"
   ]
  },
  {
   "cell_type": "code",
   "execution_count": null,
   "metadata": {
    "scrolled": false
   },
   "outputs": [],
   "source": [
    "#:\n",
    "for r in np.linspace(1, -1, 7):\n",
    "    r_scatter(r)"
   ]
  },
  {
   "cell_type": "markdown",
   "metadata": {
    "slideshow": {
     "slide_type": "slide"
    }
   },
   "source": [
    "### Discussion Question\n",
    "Does the following scatter plot show:\n",
    "\n",
    "- A. Association and correlation\n",
    "- B. Association but not correlation\n",
    "- C. Correlation but not association\n",
    "- D. Neither association nor correlation"
   ]
  },
  {
   "cell_type": "code",
   "execution_count": null,
   "metadata": {},
   "outputs": [],
   "source": [
    "x2 = Table().with_columns(\n",
    "    'x', np.arange(-6, 6.1, 0.5), \n",
    "    'y', np.arange(-6, 6.1, 0.5)**2)\n",
    "x2.scatter('x', 'y')"
   ]
  },
  {
   "cell_type": "markdown",
   "metadata": {
    "slideshow": {
     "slide_type": "slide"
    }
   },
   "source": [
    "### Answer"
   ]
  },
  {
   "cell_type": "code",
   "execution_count": null,
   "metadata": {},
   "outputs": [],
   "source": [
    "products = standard_units(x2.column('x')) * standard_units(x2.column('y'))\n",
    "products"
   ]
  },
  {
   "cell_type": "code",
   "execution_count": null,
   "metadata": {},
   "outputs": [],
   "source": [
    "np.mean(products)"
   ]
  },
  {
   "cell_type": "code",
   "execution_count": null,
   "metadata": {
    "scrolled": true
   },
   "outputs": [],
   "source": [
    "plt.hist(products);"
   ]
  },
  {
   "cell_type": "markdown",
   "metadata": {},
   "source": [
    "## Effects of outliers"
   ]
  },
  {
   "cell_type": "code",
   "execution_count": null,
   "metadata": {},
   "outputs": [],
   "source": [
    "def correlation(t, label_x, label_y):\n",
    "    x_in_standard_units = standard_units(t.column(label_x))\n",
    "    y_in_standard_units = standard_units(t.column(label_y))\n",
    "    return np.mean(x_in_standard_units * y_in_standard_units)"
   ]
  },
  {
   "cell_type": "code",
   "execution_count": null,
   "metadata": {},
   "outputs": [],
   "source": [
    "line = Table().with_columns(\n",
    "        'x', make_array(1, 2, 3, 4),\n",
    "        'y', make_array(1, 2, 3, 4)\n",
    "    )\n",
    "line.scatter('x', 'y', s=30, color='r')"
   ]
  },
  {
   "cell_type": "code",
   "execution_count": null,
   "metadata": {},
   "outputs": [],
   "source": [
    "correlation(line, 'x', 'y')"
   ]
  },
  {
   "cell_type": "code",
   "execution_count": null,
   "metadata": {},
   "outputs": [],
   "source": [
    "outlier = Table().with_columns(\n",
    "        'x', make_array(1, 2, 3, 4, 5),\n",
    "        'y', make_array(1, 2, 3, 4, 0)\n",
    "    )\n",
    "outlier.scatter('x', 'y', s=30, color='r')"
   ]
  },
  {
   "cell_type": "code",
   "execution_count": null,
   "metadata": {},
   "outputs": [],
   "source": [
    "correlation(outlier, 'x', 'y')"
   ]
  },
  {
   "cell_type": "markdown",
   "metadata": {},
   "source": [
    "# Examples\n",
    "\n",
    "### Hybrids"
   ]
  },
  {
   "cell_type": "code",
   "execution_count": null,
   "metadata": {},
   "outputs": [],
   "source": [
    "hybrid.scatter('mpg', 'msrp')"
   ]
  },
  {
   "cell_type": "code",
   "execution_count": null,
   "metadata": {},
   "outputs": [],
   "source": [
    "correlation(hybrid, 'mpg', 'msrp')"
   ]
  },
  {
   "cell_type": "code",
   "execution_count": null,
   "metadata": {},
   "outputs": [],
   "source": [
    "hybrid.scatter('acceleration', 'msrp')"
   ]
  },
  {
   "cell_type": "code",
   "execution_count": null,
   "metadata": {},
   "outputs": [],
   "source": [
    "correlation(hybrid, 'acceleration', 'msrp')"
   ]
  },
  {
   "cell_type": "markdown",
   "metadata": {},
   "source": [
    "### Ecological Correlations\n",
    "\n",
    "Careful!  correlation of populations does not reflect the strength of the relationship for individuals."
   ]
  },
  {
   "cell_type": "code",
   "execution_count": null,
   "metadata": {
    "scrolled": true
   },
   "outputs": [],
   "source": [
    "sat2014 = Table.read_table('sat2014.csv').sort('State')\n",
    "sat2014"
   ]
  },
  {
   "cell_type": "code",
   "execution_count": null,
   "metadata": {},
   "outputs": [],
   "source": [
    "sat2014.scatter('Critical Reading', 'Math')"
   ]
  },
  {
   "cell_type": "code",
   "execution_count": null,
   "metadata": {},
   "outputs": [],
   "source": [
    "correlation(sat2014, 'Critical Reading', 'Math')"
   ]
  },
  {
   "cell_type": "code",
   "execution_count": null,
   "metadata": {},
   "outputs": [],
   "source": []
  }
 ],
 "metadata": {
  "celltoolbar": "Slideshow",
  "kernelspec": {
   "display_name": "Python 3",
   "language": "python",
   "name": "python3"
  },
  "language_info": {
   "codemirror_mode": {
    "name": "ipython",
    "version": 3
   },
   "file_extension": ".py",
   "mimetype": "text/x-python",
   "name": "python",
   "nbconvert_exporter": "python",
   "pygments_lexer": "ipython3",
   "version": "3.7.1"
  },
  "livereveal": {
   "scroll": true,
   "transition": "none"
  }
 },
 "nbformat": 4,
 "nbformat_minor": 2
}
