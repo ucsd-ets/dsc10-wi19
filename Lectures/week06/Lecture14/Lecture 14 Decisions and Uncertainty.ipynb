{
 "cells": [
  {
   "cell_type": "markdown",
   "metadata": {
    "slideshow": {
     "slide_type": "slide"
    }
   },
   "source": [
    "# Lecture 14\n",
    "\n",
    "### Decisions and Uncertainty"
   ]
  },
  {
   "cell_type": "markdown",
   "metadata": {
    "slideshow": {
     "slide_type": "slide"
    }
   },
   "source": [
    "## Incomplete Information\n",
    "\n",
    "* We try to choose between two views of the world, based on data in a sample.\n",
    "* It's not always clear whether the data are consistent with one view or the other (unlike examples last time).\n",
    "* Random samples can turn out quite extreme. It is unlikely, but possible.\n"
   ]
  },
  {
   "cell_type": "markdown",
   "metadata": {
    "slideshow": {
     "slide_type": "slide"
    }
   },
   "source": [
    "## Testing Hypotheses\n",
    "* A test chooses between two views of how data were generated\n",
    "* The views are called **hypotheses**\n",
    "* The test picks the hypothesis that is better supported by the observed data\n"
   ]
  },
  {
   "cell_type": "markdown",
   "metadata": {
    "slideshow": {
     "slide_type": "slide"
    }
   },
   "source": [
    "## Null and Alternative\n",
    "* The method only works if we can simulate data under one of the hypotheses.\n",
    "* **Null hypothesis**\n",
    "    - A well defined chance model about how the data were generated\n",
    "    - We can simulate data under the assumptions of this model – “under the null hypothesis”\n",
    "* **Alternative hypothesis**\n",
    "    - A different view about the origin of the data"
   ]
  },
  {
   "cell_type": "markdown",
   "metadata": {
    "slideshow": {
     "slide_type": "slide"
    }
   },
   "source": [
    "## Conclusion of the Test\n",
    "Resolve choice between null and alternative hypotheses\n",
    "* Compare the **observed test statistic** and its empirical distribution under the null hypothesis\n",
    "* If the observed value is **not consistent** with the distribution, then the test favors the alternative – “rejects the null hypothesis”\n",
    "\n",
    "Whether a value is consistent with a distribution:\n",
    "* A visualization may be sufficient\n",
    "* If not, there are conventions about “consistency”\n"
   ]
  },
  {
   "cell_type": "markdown",
   "metadata": {
    "slideshow": {
     "slide_type": "slide"
    }
   },
   "source": [
    "## Performing a Test"
   ]
  },
  {
   "cell_type": "markdown",
   "metadata": {
    "slideshow": {
     "slide_type": "slide"
    }
   },
   "source": [
    "## Test Statistic\n",
    "* The statistic that we choose to simulate, to decide between the two hypotheses\n",
    "\n",
    "Questions before choosing the statistic:\n",
    "* What values of the statistic will make us lean towards the null hypothesis?\n",
    "* What values will make us lean towards the alternative?\n",
    "    - Preferably, the answer should be just “high”. Try to avoid “both high and low”.\n"
   ]
  },
  {
   "cell_type": "markdown",
   "metadata": {
    "slideshow": {
     "slide_type": "slide"
    }
   },
   "source": [
    "## Prediction Under the Null Hypothesis\n",
    "* Simulate the test statistic under the null hypothesis; draw the histogram of the simulated values\n",
    "* This displays the **empirical distribution of the statistic under the null hypothesis**\n",
    "* It is a prediction about the statistic, made by the null hypothesis \n",
    "    - It shows all the likely values of the statistic\n",
    "    - Also how likely they are (if the null hypothesis is true)\n",
    "* The probabilities are approximate, because we can’t generate all the possible random samples\n"
   ]
  },
  {
   "cell_type": "markdown",
   "metadata": {},
   "source": [
    "# Example Time!"
   ]
  },
  {
   "cell_type": "markdown",
   "metadata": {
    "slideshow": {
     "slide_type": "slide"
    }
   },
   "source": [
    "### The Problem\n",
    "\n",
    "* Large Statistics class divided into 12 discussion sections\n",
    "* TAs lead the sections\n",
    "\n",
    "* After the midterm, students in Section 3 notice that the average score in their section is lower than in others.\n",
    "\n",
    "\n"
   ]
  },
  {
   "cell_type": "markdown",
   "metadata": {},
   "source": [
    "### The TA's Defense\n",
    "\n",
    "GSI’s position (Null Hypothesis):\n",
    "* If we had picked my section at random from the whole class, we could have got an average like this one.\n",
    "\n",
    "Alternative:\n",
    "* No, the average score is too low. Randomness is not the only reason for the low scores.\n"
   ]
  },
  {
   "cell_type": "code",
   "execution_count": null,
   "metadata": {
    "slideshow": {
     "slide_type": "-"
    }
   },
   "outputs": [],
   "source": [
    "#: the usual imports\n",
    "from datascience import *\n",
    "import numpy as np\n",
    "\n",
    "%matplotlib inline\n",
    "import matplotlib.pyplot as plt\n",
    "import warnings; warnings.simplefilter('ignore')\n",
    "\n",
    "plt.style.use('fivethirtyeight')"
   ]
  },
  {
   "cell_type": "code",
   "execution_count": null,
   "metadata": {},
   "outputs": [],
   "source": [
    "#:\n",
    "scores = Table.read_table('scores_by_section.csv')\n",
    "scores"
   ]
  },
  {
   "cell_type": "code",
   "execution_count": null,
   "metadata": {},
   "outputs": [],
   "source": [
    "scores.group('Section')"
   ]
  },
  {
   "cell_type": "code",
   "execution_count": null,
   "metadata": {},
   "outputs": [],
   "source": [
    "# Calculate the average midterm score per section\n",
    "scores.group('Section', np.average).show()"
   ]
  },
  {
   "cell_type": "markdown",
   "metadata": {
    "slideshow": {
     "slide_type": "slide"
    }
   },
   "source": [
    "### What are the observed characteristics of section 3?\n",
    "* Size of section? (`section_size`)\n",
    "* Average of section? (`observed_avg`)"
   ]
  },
  {
   "cell_type": "code",
   "execution_count": null,
   "metadata": {},
   "outputs": [],
   "source": [
    "#:\n",
    "section_size = scores.group('Section').where('Section', 3).column('count').item(0)\n",
    "observed_avg = scores.group('Section', np.average).where('Section', 3).column('Midterm average').item(0)\n",
    "print(section_size, observed_avg, sep='\\n')"
   ]
  },
  {
   "cell_type": "markdown",
   "metadata": {
    "slideshow": {
     "slide_type": "slide"
    }
   },
   "source": [
    "### Testing the null hypothesis\n",
    "* Model: Sample uniformly (w/o replacement) 27 students from the class.\n",
    "* Statistic: Calculate the average midterm score of \"random\" section.\n"
   ]
  },
  {
   "cell_type": "code",
   "execution_count": null,
   "metadata": {},
   "outputs": [],
   "source": [
    "#:\n",
    "averages = make_array()\n",
    "\n",
    "for i in np.arange(50000):\n",
    "    random_sample = scores.sample(section_size, with_replacement = False)\n",
    "    new_average = np.average(random_sample.column('Midterm'))\n",
    "    averages = np.append(averages, new_average)"
   ]
  },
  {
   "cell_type": "code",
   "execution_count": null,
   "metadata": {},
   "outputs": [],
   "source": [
    "Table().with_column('Random Sample Average', averages).hist(bins = 25)\n",
    "plt.scatter(observed_avg, 0, color = 'red', s=40);"
   ]
  },
  {
   "cell_type": "markdown",
   "metadata": {
    "slideshow": {
     "slide_type": "slide"
    }
   },
   "source": [
    "## The Verdict?\n",
    "* Not as obvious as previous examples!\n",
    "* Need a concept to capture the uncertainty of the conclusion."
   ]
  },
  {
   "cell_type": "markdown",
   "metadata": {
    "slideshow": {
     "slide_type": "slide"
    }
   },
   "source": [
    "### Question\n",
    "* What is the probability that under the Null Hypothesis, a result *at least* as extreme as our observation holds?\n",
    "* This quantity is called a **p-value**"
   ]
  },
  {
   "cell_type": "code",
   "execution_count": null,
   "metadata": {},
   "outputs": [],
   "source": [
    "#:\n",
    "np.count_nonzero(averages <= observed_avg) / 50000"
   ]
  },
  {
   "cell_type": "code",
   "execution_count": null,
   "metadata": {},
   "outputs": [],
   "source": [
    "#:\n",
    "Table().with_column('Random Sample Average', averages).hist(bins = 25)\n",
    "plt.scatter(observed_avg, 0, color='red', s=30)\n",
    "plt.plot([13.6, 13.6], [0, 0.35], color='gold', lw=2);"
   ]
  },
  {
   "cell_type": "markdown",
   "metadata": {
    "slideshow": {
     "slide_type": "slide"
    }
   },
   "source": [
    "# Statistical Significance"
   ]
  },
  {
   "cell_type": "markdown",
   "metadata": {
    "slideshow": {
     "slide_type": "slide"
    }
   },
   "source": [
    "## Conventions About Inconsistency\n",
    "\n",
    "* **“Inconsistent”**: The test statistic is in the tail of the empirical distribution under the null hypothesis\n",
    "\n",
    "* **“In the tail,” first convention**:\n",
    "    - The area in the tail is less than 5%\n",
    "    - The result is “statistically significant”\n",
    "\n",
    "* **“In the tail,” second convention**:\n",
    "    - The area in the tail is less than 1%\n",
    "    - The result is “highly statistically significant”\n"
   ]
  },
  {
   "cell_type": "markdown",
   "metadata": {
    "slideshow": {
     "slide_type": "slide"
    }
   },
   "source": [
    "## Definition of the P-value\n",
    "\n",
    "Formal name: **observed significance level**\n",
    "\n",
    "The P-value is the chance, under the null hypothesis, that the test statistic is equal to the value that was observed in the data or is even further in the direction of the alternative."
   ]
  },
  {
   "cell_type": "markdown",
   "metadata": {},
   "source": [
    "## An Error Probability\n",
    "\n",
    "The cutoff for the P-value is an error probability.\n",
    "\n",
    "* If:\n",
    "    - your cutoff is 5%\n",
    "    - and the null hypothesis happens to be true\n",
    "\n",
    "* then there is about a 5% chance that your test will reject the null hypothesis.\n"
   ]
  },
  {
   "cell_type": "markdown",
   "metadata": {
    "slideshow": {
     "slide_type": "slide"
    }
   },
   "source": [
    "# A/B Testing\n",
    "\n",
    "- So far, we've been assessing models given a single random sample.\n",
    "    - We flip a coin 400 times. Are the flips consistent with the coin being fair?\n",
    "    - Did the jury panel in the Swain case look like a random sample from the eligible population?\n",
    "    - Are the test scores for the GSI's section a random sample from the class's scores?\n",
    "- But we often have *two* random samples we wish to compare.\n",
    "    - Outcomes of patients assigned to control group and treatment group in a pharmaceutical study.\n",
    "    - Number of clicks from people who saw version A of an advertisement vs. version B\n",
    "- **A/B testing**: decide whether two random samples come from the same distribution.\n",
    "- The \"exciting\" outcome is typically that which *rejects* the null hypothesis."
   ]
  },
  {
   "cell_type": "markdown",
   "metadata": {
    "slideshow": {
     "slide_type": "slide"
    }
   },
   "source": [
    "# Example 1: Birth Weight and Smoking"
   ]
  },
  {
   "cell_type": "markdown",
   "metadata": {
    "slideshow": {
     "slide_type": "slide"
    }
   },
   "source": [
    "## Smoking and birth weight\n",
    "\n",
    "- Is there a significant difference in the weight of babies born to mothers who smoke, vs. non-smokers?\n",
    "- Two groups:\n",
    "    - babies whose mothers smoke\n",
    "    - babies whose mothers do not smoke"
   ]
  },
  {
   "cell_type": "code",
   "execution_count": null,
   "metadata": {
    "slideshow": {
     "slide_type": "slide"
    }
   },
   "outputs": [],
   "source": [
    "#: our data\n",
    "baby = Table.read_table('babby.csv')\n",
    "baby"
   ]
  },
  {
   "cell_type": "code",
   "execution_count": null,
   "metadata": {
    "slideshow": {
     "slide_type": "slide"
    }
   },
   "outputs": [],
   "source": [
    "#: we only need \"Birth Weight\" and \"Maternal Smoker\"\n",
    "smoking_and_birthweight = baby.select('Maternal Smoker', 'Birth Weight')\n",
    "smoking_and_birthweight"
   ]
  },
  {
   "cell_type": "markdown",
   "metadata": {
    "slideshow": {
     "slide_type": "slide"
    }
   },
   "source": [
    "## First, some exploratory analysis"
   ]
  },
  {
   "cell_type": "code",
   "execution_count": null,
   "metadata": {},
   "outputs": [],
   "source": [
    "# how many are in each group?\n",
    "smoking_and_birthweight.group('Maternal Smoker')"
   ]
  },
  {
   "cell_type": "code",
   "execution_count": null,
   "metadata": {},
   "outputs": [],
   "source": [
    "# what is the average weight within each group?\n",
    "smoking_and_birthweight.group('Maternal Smoker', np.mean)"
   ]
  },
  {
   "cell_type": "markdown",
   "metadata": {
    "slideshow": {
     "slide_type": "slide"
    }
   },
   "source": [
    "## Visualizing the distribution of each group\n",
    "\n",
    "- `.hist()` has a `group` keyword argument."
   ]
  },
  {
   "cell_type": "code",
   "execution_count": null,
   "metadata": {},
   "outputs": [],
   "source": [
    "# visualize distribution of 'Birth Weight', grouped by 'Maternal Smoker'\n",
    "smoking_and_birthweight.hist('Birth Weight', group='Maternal Smoker', unit='ounce')"
   ]
  },
  {
   "cell_type": "markdown",
   "metadata": {
    "slideshow": {
     "slide_type": "slide"
    }
   },
   "source": [
    "## The question..."
   ]
  },
  {
   "cell_type": "code",
   "execution_count": null,
   "metadata": {},
   "outputs": [],
   "source": [
    "#::\n",
    "smoking_and_birthweight.hist('Birth Weight', group='Maternal Smoker', unit='ounce')"
   ]
  },
  {
   "cell_type": "markdown",
   "metadata": {},
   "source": [
    "- Does the difference we see reflect a real difference in the population?\n",
    "- Or is it just due to random chance?"
   ]
  },
  {
   "cell_type": "markdown",
   "metadata": {
    "slideshow": {
     "slide_type": "slide"
    }
   },
   "source": [
    "## Testing the hypotheses\n",
    "\n",
    "- **Null hypothesis**: In the population, birth weights of smokers and non-smokers have the same distribution.\n",
    "    - I.e., what we saw is due to random chance.\n",
    "- **Alternative hypothesis**: In the population, babies born to smokers typically have lower birth weight."
   ]
  },
  {
   "cell_type": "markdown",
   "metadata": {
    "slideshow": {
     "slide_type": "slide"
    }
   },
   "source": [
    "## Discussion question\n",
    "\n",
    "- What is a reasonable statistic to compute in order to test the null hypothesis?"
   ]
  },
  {
   "cell_type": "markdown",
   "metadata": {
    "slideshow": {
     "slide_type": "slide"
    }
   },
   "source": [
    "## Answer: difference between means"
   ]
  },
  {
   "cell_type": "code",
   "execution_count": null,
   "metadata": {},
   "outputs": [],
   "source": [
    "#:: the means\n",
    "means_table = smoking_and_birthweight.group('Maternal Smoker', np.mean)\n",
    "means_table"
   ]
  },
  {
   "cell_type": "code",
   "execution_count": null,
   "metadata": {},
   "outputs": [],
   "source": [
    "#: difference between them\n",
    "means = means_table.column('Birth Weight mean')\n",
    "observed_difference = means.item(1) - means.item(0)\n",
    "observed_difference"
   ]
  },
  {
   "cell_type": "markdown",
   "metadata": {
    "slideshow": {
     "slide_type": "slide"
    }
   },
   "source": [
    "## Testing through simulation\n",
    "\n",
    "- **Statistic**: Difference between means.\n",
    "- **Null hypothesis**: The two groups are sampled from the same distribution.\n",
    "- Note that the null hypothesis doesn't say *what* the distribution is.\n",
    "    - Different from jury panel example, fair coin example, etc.\n",
    "    - We can't draw directly from the distribution!\n",
    "- We have to do something a bit more clever."
   ]
  },
  {
   "cell_type": "markdown",
   "metadata": {
    "slideshow": {
     "slide_type": "slide"
    }
   },
   "source": [
    "## Implications of the null hypothesis\n",
    "\n",
    "- Under the null hypothesis, both groups are sampled from the same distribution.\n",
    "- If true, then the group label (`Maternal Smoker`) has no effect on the birth weight.\n",
    "- We saw one assignment of group labels:"
   ]
  },
  {
   "cell_type": "code",
   "execution_count": null,
   "metadata": {},
   "outputs": [],
   "source": [
    "#:: the data\n",
    "smoking_and_birthweight.show(4)"
   ]
  },
  {
   "cell_type": "markdown",
   "metadata": {},
   "source": [
    "- But (under the null hypothesis) we were just as likely to see *any other* assignment."
   ]
  },
  {
   "cell_type": "markdown",
   "metadata": {
    "slideshow": {
     "slide_type": "slide"
    }
   },
   "source": [
    "## Permutation tests\n",
    "\n",
    "- Perhaps the difference in means we saw is due to random chance in assignment.\n",
    "- **Permutation test**: Shuffle the group labels a bunch of times; how often do we see a statistic this extreme?\n",
    "- Randomly permuting labels is equivalent to randomly assigning birth weights to groups (without changing group sizes)\n",
    "- If we *rarely* see something this extreme, then the null hypothesis doesn't look likely."
   ]
  },
  {
   "cell_type": "markdown",
   "metadata": {
    "slideshow": {
     "slide_type": "slide"
    }
   },
   "source": [
    "## Permutation tests with tables\n",
    "\n",
    "- We want to randomly shuffle the `Maternal Smoker` column.\n",
    "- We can use `.sample(with_replacement=False)`.\n",
    "- By default, draws as many times as there are rows (i.e., shuffles)"
   ]
  },
  {
   "cell_type": "code",
   "execution_count": null,
   "metadata": {},
   "outputs": [],
   "source": [
    "#: starting with this data...\n",
    "data = Table(['x', 'y']).with_rows([['a', 1], ['b', 2], ['c', 3]])\n",
    "data"
   ]
  },
  {
   "cell_type": "code",
   "execution_count": null,
   "metadata": {},
   "outputs": [],
   "source": [
    "#: we shuffle the rows using `.sample()`\n",
    "data.sample(with_replacement=False)"
   ]
  },
  {
   "cell_type": "markdown",
   "metadata": {},
   "source": [
    "- Notice: Both rows are shuffled together (i.e., not independently)!"
   ]
  },
  {
   "cell_type": "markdown",
   "metadata": {
    "slideshow": {
     "slide_type": "slide"
    }
   },
   "source": [
    "## Discussion Question\n",
    "\n",
    "In the birthweight example, we want to shuffle only one column. For the purpose of permutation testing, \n",
    "does it matter which column we shuffle -- the `Maternal Smoker` column or the `Birth Weight` column?\n",
    "\n",
    "- A) Yes\n",
    "- B) No"
   ]
  },
  {
   "cell_type": "markdown",
   "metadata": {
    "slideshow": {
     "slide_type": "slide"
    }
   },
   "source": [
    "## Shuffling the groups"
   ]
  },
  {
   "cell_type": "code",
   "execution_count": null,
   "metadata": {},
   "outputs": [],
   "source": [
    "#: it doesn't matter which column we shuffle, but it will be more convenient to shuffle weights\n",
    "shuffled_weights = smoking_and_birthweight.sample(with_replacement=False).column('Birth Weight')\n",
    "original_and_shuffled = smoking_and_birthweight.with_column('Shuffled Birth Weight', shuffled_weights)\n",
    "original_and_shuffled"
   ]
  },
  {
   "cell_type": "markdown",
   "metadata": {
    "slideshow": {
     "slide_type": "slide"
    }
   },
   "source": [
    "## How close are the means of the shuffled groups?"
   ]
  },
  {
   "cell_type": "code",
   "execution_count": null,
   "metadata": {},
   "outputs": [],
   "source": [
    "#: shuffling the weights makes it easier to do this...\n",
    "original_and_shuffled.group('Maternal Smoker', np.mean)"
   ]
  },
  {
   "cell_type": "code",
   "execution_count": null,
   "metadata": {},
   "outputs": [],
   "source": [
    "#: the distribution of the shuffled groups\n",
    "original_and_shuffled.hist('Shuffled Birth Weight', group='Maternal Smoker')"
   ]
  },
  {
   "cell_type": "markdown",
   "metadata": {
    "slideshow": {
     "slide_type": "slide"
    }
   },
   "source": [
    "## Simulation\n",
    "\n",
    "- This was just one random shuffle.\n",
    "- How likely is it that a random shuffle results in a 9+ ounce difference in means?\n",
    "- We have to repeat the shuffling a bunch of times. On each iteration:\n",
    "    1. Shuffle the weights.\n",
    "    2. Put them in a table.\n",
    "    3. Compute difference in group means."
   ]
  },
  {
   "cell_type": "code",
   "execution_count": null,
   "metadata": {},
   "outputs": [],
   "source": [
    "n_repetitions = 500\n",
    "\n",
    "differences = make_array()\n",
    "for i in np.arange(n_repetitions):\n",
    "    # shuffle the weights\n",
    "    shuffled_weights = (\n",
    "        smoking_and_birthweight\n",
    "        .sample(with_replacement=False)\n",
    "        .column('Birth Weight')\n",
    "    )\n",
    "    \n",
    "    # put them in a table\n",
    "    shuffled = smoking_and_birthweight.with_column(\n",
    "        'Shuffled Birth Weights', \n",
    "        shuffled_weights\n",
    "    )\n",
    "    \n",
    "    # compute the group differences\n",
    "    group_means = (\n",
    "        shuffled\n",
    "        .group('Maternal Smoker', np.mean)\n",
    "        .column('Shuffled Birth Weights mean')\n",
    "    )\n",
    "    difference = group_means.item(1) - group_means.item(0)\n",
    "    \n",
    "    # add it to our array storing the results\n",
    "    differences = np.append(differences, difference)"
   ]
  },
  {
   "cell_type": "markdown",
   "metadata": {
    "slideshow": {
     "slide_type": "slide"
    }
   },
   "source": [
    "## Conclusion of the test"
   ]
  },
  {
   "cell_type": "code",
   "execution_count": null,
   "metadata": {},
   "outputs": [],
   "source": [
    "#: visualize\n",
    "Table().with_columns('Difference in means', differences).hist(unit='ounce')\n",
    "plt.scatter(observed_difference, 0, color='red', s=40)"
   ]
  },
  {
   "cell_type": "markdown",
   "metadata": {},
   "source": [
    "- Under the null hypothesis, we rarely see differences as large as this.\n",
    "- Therefore, we reject the null hypothesis: the two groups do not come from the same distribution."
   ]
  },
  {
   "cell_type": "markdown",
   "metadata": {},
   "source": [
    "## Caution!\n",
    "\n",
    "- We **cannot** conclude that smoking *causes* lower birth weight!\n",
    "- This was an observational study; there may be confounding factors.\n",
    "    - Maybe smokers are more likely to drink caffeine, and caffeine causes lower birth weight.\n",
    "- But it suggests that it is worth studying with a randomized controlled trial."
   ]
  },
  {
   "cell_type": "markdown",
   "metadata": {
    "slideshow": {
     "slide_type": "slide"
    }
   },
   "source": [
    "## A slightly different example\n",
    "\n",
    "- Is there a difference in birthweight between babies born to:\n",
    "    - Group A: Mothers over 25\n",
    "    - Group B: Mothers 25 or under"
   ]
  },
  {
   "cell_type": "code",
   "execution_count": null,
   "metadata": {},
   "outputs": [],
   "source": [
    "#: construct the data set\n",
    "over_25 = baby.column('Maternal Age') > 25\n",
    "age_and_birthweight = (\n",
    "    baby\n",
    "    .select('Birth Weight')\n",
    "    .with_column('Over 25', over_25)\n",
    ")\n",
    "age_and_birthweight"
   ]
  },
  {
   "cell_type": "code",
   "execution_count": null,
   "metadata": {},
   "outputs": [],
   "source": [
    "#: the group means\n",
    "group_means = age_and_birthweight.group('Over 25', np.mean)\n",
    "group_means"
   ]
  },
  {
   "cell_type": "code",
   "execution_count": null,
   "metadata": {},
   "outputs": [],
   "source": [
    "#: the difference between them\n",
    "means = group_means.column('Birth Weight mean')\n",
    "observed_difference = means.item(0) - means.item(1)\n",
    "observed_difference"
   ]
  },
  {
   "cell_type": "markdown",
   "metadata": {
    "slideshow": {
     "slide_type": "slide"
    }
   },
   "source": [
    "## The permutation test\n",
    "\n",
    "- **Null hypothesis**: Birth weights for both groups come from the same distribution.\n",
    "- **Alternative hypothesis**: No, mothers below 25 have heavier babies.\n",
    "- We run a permutation test with the difference in means as the statistic."
   ]
  },
  {
   "cell_type": "markdown",
   "metadata": {
    "slideshow": {
     "slide_type": "slide"
    }
   },
   "source": [
    "## Simulation"
   ]
  },
  {
   "cell_type": "code",
   "execution_count": null,
   "metadata": {},
   "outputs": [],
   "source": [
    "#: similar code to before\n",
    "\n",
    "np.random.seed(424242)\n",
    "n_repetitions = 500\n",
    "\n",
    "differences = make_array()\n",
    "for i in np.arange(n_repetitions):\n",
    "    # shuffle the weights\n",
    "    shuffled_weights = (\n",
    "        age_and_birthweight\n",
    "        .sample(with_replacement=False)\n",
    "        .column('Birth Weight')\n",
    "    )\n",
    "    \n",
    "    # put them in a table\n",
    "    shuffled = age_and_birthweight.with_column(\n",
    "        'Shuffled Birth Weights', \n",
    "        shuffled_weights\n",
    "    )\n",
    "    \n",
    "    # compute the group differences\n",
    "    group_means = (\n",
    "        shuffled\n",
    "        .group('Over 25', np.mean)\n",
    "        .column('Shuffled Birth Weights mean')\n",
    "    )\n",
    "    difference = group_means.item(1) - group_means.item(0)\n",
    "    \n",
    "    # add it to our array storing results\n",
    "    differences = np.append(differences, difference)"
   ]
  },
  {
   "cell_type": "markdown",
   "metadata": {
    "slideshow": {
     "slide_type": "slide"
    }
   },
   "source": [
    "## Conclusion of the test"
   ]
  },
  {
   "cell_type": "code",
   "execution_count": null,
   "metadata": {},
   "outputs": [],
   "source": [
    "#: visualize\n",
    "Table().with_column('differences', differences).hist()\n",
    "plt.scatter(observed_difference, 0, color='red', s=40)"
   ]
  },
  {
   "cell_type": "markdown",
   "metadata": {},
   "source": [
    "- Do we reject the null hypothesis?\n",
    "- What can we compute to tell us the degree of uncertainty here?"
   ]
  },
  {
   "cell_type": "markdown",
   "metadata": {
    "slideshow": {
     "slide_type": "slide"
    }
   },
   "source": [
    "## The p-value\n",
    "\n",
    "- The probability of seeing a difference of means $\\leq$ the observed, under the null hypothesis."
   ]
  },
  {
   "cell_type": "code",
   "execution_count": null,
   "metadata": {},
   "outputs": [],
   "source": [
    "np.count_nonzero(differences <= observed_difference) / n_repetitions"
   ]
  },
  {
   "cell_type": "markdown",
   "metadata": {
    "slideshow": {
     "slide_type": "slide"
    }
   },
   "source": [
    "# Example 2: Deflategate"
   ]
  },
  {
   "cell_type": "markdown",
   "metadata": {
    "slideshow": {
     "slide_type": "slide"
    }
   },
   "source": [
    "## Did the New England Patriots cheat?\n",
    "\n",
    "<img height=\"30%\" src=\"./deflate.jpg\">\n",
    "\n",
    "- On January 18, 2015, the Patriots played the Indianapolis Colts for a spot in the Super Bowl\n",
    "- The Patriots won, 45 -- 7. They went on to win the Super Bowl\n",
    "- After the game, it was alleged that the Patriots intentionally deflated footballs (making them easier to catch)"
   ]
  },
  {
   "cell_type": "markdown",
   "metadata": {
    "slideshow": {
     "slide_type": "slide"
    }
   },
   "source": [
    "## Background\n",
    "\n",
    "- Each team brings 12 footballs to the game.\n",
    "- NFL rules stipulate: each ball must be inflated to between 12.5 and 13.5 pounds per square inch (psi).\n",
    "- Before the game, officials found that all of the Patriot's balls were at about 12.5 psi, all of the Colts were about 13.0 psi.\n",
    "- In the second quarter, Colts intercepted a Patriots ball and notified officials that it felt under-inflated.\n",
    "- At halftime, two officials (Blakeman and Prioleau) each measured the pressure again.\n",
    "- They ran out of time, and couldn't measure the pressure of all of the footballs."
   ]
  },
  {
   "cell_type": "markdown",
   "metadata": {
    "slideshow": {
     "slide_type": "slide"
    }
   },
   "source": [
    "## The measurements"
   ]
  },
  {
   "cell_type": "code",
   "execution_count": null,
   "metadata": {},
   "outputs": [],
   "source": [
    "#: all of the measurements\n",
    "footballs = Table.read_table('./deflategate.csv')\n",
    "footballs.show()"
   ]
  },
  {
   "cell_type": "markdown",
   "metadata": {
    "slideshow": {
     "slide_type": "slide"
    }
   },
   "source": [
    "## Combining the measurements\n",
    "\n",
    "- Both officials measured each ball.\n",
    "- Their measurements are slightly different.\n",
    "- We average them to get a combined weight."
   ]
  },
  {
   "cell_type": "code",
   "execution_count": null,
   "metadata": {},
   "outputs": [],
   "source": [
    "#: a combined measurement\n",
    "footballs = footballs.with_column(\n",
    "    'Combined',\n",
    "    (footballs.column('Blakeman') + footballs.column('Prioleau')) / 2\n",
    ")\n",
    "footballs.show()"
   ]
  },
  {
   "cell_type": "markdown",
   "metadata": {
    "slideshow": {
     "slide_type": "slide"
    }
   },
   "source": [
    "## Differences in average pressure\n",
    "\n",
    "- At first glance, it looks as though the Patriots footballs are at a lower pressure."
   ]
  },
  {
   "cell_type": "code",
   "execution_count": null,
   "metadata": {
    "slideshow": {
     "slide_type": ""
    }
   },
   "outputs": [],
   "source": [
    "#:: group means\n",
    "footballs.group('Team', np.mean)"
   ]
  },
  {
   "cell_type": "markdown",
   "metadata": {},
   "source": [
    "- We could do a permutation test for difference in mean pressure.\n",
    "- But that wouldn't point towards cheating.\n",
    "    - The Patriot's balls *started* at a lower psi.\n",
    "- The allegations were that the Patriots *deflated* the balls.\n",
    "    - We want to check to see if the Patriots balls lost more pressure than the Colts'."
   ]
  },
  {
   "cell_type": "markdown",
   "metadata": {
    "slideshow": {
     "slide_type": "slide"
    }
   },
   "source": [
    "## Calculating the pressure drop\n",
    "\n",
    "- We therefore calculate the drop in pressure for each ball.\n",
    "- Patriots' started at 12.5 psi, Colts' started at 13.\n",
    "- We make an array with starting pressure for each ball.\n",
    "- Handy function: `np.where(array_of_true_and_false, true_value, false_value)`.\n",
    "    - Replaces `True` in the array with `true_value`, and `False` with `false_value`."
   ]
  },
  {
   "cell_type": "code",
   "execution_count": null,
   "metadata": {},
   "outputs": [],
   "source": [
    "#...starting_pressure\n",
    "starting_pressure = np.where(\n",
    "    footballs.column('Team') == 'Patriots',\n",
    "    12.5,\n",
    "    13\n",
    ")\n",
    "starting_pressure"
   ]
  },
  {
   "cell_type": "markdown",
   "metadata": {
    "slideshow": {
     "slide_type": "slide"
    }
   },
   "source": [
    "## Calculating the pressure drop"
   ]
  },
  {
   "cell_type": "code",
   "execution_count": null,
   "metadata": {},
   "outputs": [],
   "source": [
    "#: add the drop to the table\n",
    "footballs = footballs.with_column(\n",
    "    'Pressure Drop',\n",
    "    starting_pressure - footballs.column('Combined')\n",
    ")\n",
    "footballs.show()"
   ]
  },
  {
   "cell_type": "markdown",
   "metadata": {
    "slideshow": {
     "slide_type": "slide"
    }
   },
   "source": [
    "## The question\n",
    "\n",
    "- Did the Patriots' footballs drop in pressure more than the Colts'?\n",
    "- A/B test!\n",
    "- **Null hypothesis**: The drop in pressures for both teams came from the same distribution.\n",
    "    - By chance, the Patriots' footballs deflated more.\n",
    "- **Alternative hypothesis**: No, the Patriots' footballs deflated more than one would expect due to random chance alone."
   ]
  },
  {
   "cell_type": "markdown",
   "metadata": {
    "slideshow": {
     "slide_type": "slide"
    }
   },
   "source": [
    "## The statistic\n",
    "\n",
    "- Difference between teams' average pressure drops."
   ]
  },
  {
   "cell_type": "code",
   "execution_count": null,
   "metadata": {},
   "outputs": [],
   "source": [
    "#: the group means\n",
    "means = footballs.group('Team', np.mean).select('Team', 'Pressure Drop mean')\n",
    "means"
   ]
  },
  {
   "cell_type": "code",
   "execution_count": null,
   "metadata": {},
   "outputs": [],
   "source": [
    "#: the observed difference\n",
    "mean_drop = means.column('Pressure Drop mean')\n",
    "observed_difference = mean_drop.item(1) - mean_drop.item(0)\n",
    "observed_difference"
   ]
  },
  {
   "cell_type": "markdown",
   "metadata": {},
   "source": [
    "- The average pressure drop for the Patriots was 0.73 psi more than the Colts."
   ]
  },
  {
   "cell_type": "markdown",
   "metadata": {
    "slideshow": {
     "slide_type": "slide"
    }
   },
   "source": [
    "## Permutation test\n",
    "\n",
    "- We run a permutation test to see if this is a significant difference.\n",
    "- Permute the drop in pressure (or the team column), many times."
   ]
  },
  {
   "cell_type": "code",
   "execution_count": null,
   "metadata": {},
   "outputs": [],
   "source": [
    "#: run a permutation test\n",
    "n_repetitions = 5000\n",
    "\n",
    "differences = make_array()\n",
    "for i in np.arange(n_repetitions):\n",
    "    # shuffle the weights\n",
    "    shuffled_drops = (\n",
    "        footballs\n",
    "        .sample(with_replacement=False)\n",
    "        .column('Pressure Drop')\n",
    "    )\n",
    "    \n",
    "    # put them in a table\n",
    "    shuffled = footballs.with_column(\n",
    "        'Shuffled Pressure Drop', \n",
    "        shuffled_drops\n",
    "    )\n",
    "    \n",
    "    # compute the group differences\n",
    "    group_means = (\n",
    "        shuffled\n",
    "        .group('Team', np.mean)\n",
    "        .column('Shuffled Pressure Drop mean')\n",
    "    )\n",
    "    difference = group_means.item(1) - group_means.item(0)\n",
    "    \n",
    "    # add it to our array storing results\n",
    "    differences = np.append(differences, difference)"
   ]
  },
  {
   "cell_type": "markdown",
   "metadata": {
    "slideshow": {
     "slide_type": "slide"
    }
   },
   "source": [
    "## Conclusion"
   ]
  },
  {
   "cell_type": "code",
   "execution_count": null,
   "metadata": {},
   "outputs": [],
   "source": [
    "#:: visualize\n",
    "Table().with_column('Difference in mean', differences).hist(unit='psi')\n",
    "plt.scatter(observed_difference, 0, color='red', s=40)"
   ]
  },
  {
   "cell_type": "markdown",
   "metadata": {},
   "source": [
    "- It doesn't look good for the Patriots. What is the p-value?"
   ]
  },
  {
   "cell_type": "code",
   "execution_count": null,
   "metadata": {},
   "outputs": [],
   "source": [
    "#: p-value\n",
    "np.count_nonzero(differences >= observed_difference) / n_repetitions"
   ]
  },
  {
   "cell_type": "markdown",
   "metadata": {
    "slideshow": {
     "slide_type": "slide"
    }
   },
   "source": [
    "## Caution!\n",
    "\n",
    "- We conclude that it is unlikely that the difference in mean pressure drop is due to chance alone.\n",
    "- But this doesn't establish *causation*.\n",
    "- That is, did the Patriots *deliberately* deflate their footballs?\n",
    "- This was an *observational* study; to establish causation, we need an RCT (Randomized Controlled Trial)."
   ]
  },
  {
   "cell_type": "markdown",
   "metadata": {
    "slideshow": {
     "slide_type": "slide"
    }
   },
   "source": [
    "# Causality"
   ]
  },
  {
   "cell_type": "markdown",
   "metadata": {
    "slideshow": {
     "slide_type": "slide"
    }
   },
   "source": [
    "## Recap\n",
    "\n",
    "- We have used A/B testing to assess group differences.\n",
    "- Example:\n",
    "    - Study: Babies born to mothers who smoke typically weigh less.\n",
    "    - Permutation test conclusion: this is unlikely to be due to random chance.\n",
    "- Rejecting the null hypothesis **does not** establish causality.\n",
    "    - Tempting to think that smoking causes lower birthweight.\n",
    "    - But there could be **confounding factors**...\n",
    "    - Maybe *caffeine* causes lower birthweight, and caffeine intake is correlated with smoking."
   ]
  },
  {
   "cell_type": "markdown",
   "metadata": {
    "slideshow": {
     "slide_type": "slide"
    }
   },
   "source": [
    "## Randomized Controlled Trial\n",
    "\n",
    "- This was an **observational study**.\n",
    "- We've seen that randomizing groups then applying \"treatment\" avoids confounding factors.\n",
    "- This is known as a **Randomized Controlled Trial** (RCT).\n",
    "- An A/B test in a RCT *does* support causality."
   ]
  },
  {
   "cell_type": "markdown",
   "metadata": {
    "slideshow": {
     "slide_type": "slide"
    }
   },
   "source": [
    "## Why?\n",
    "\n",
    "- Suppose we want to examine the link between chocolate and heart health.\n",
    "- We do an observational study and see that chocolate-eaters have healthier hearts."
   ]
  },
  {
   "cell_type": "code",
   "execution_count": null,
   "metadata": {},
   "outputs": [],
   "source": [
    "#: chocolate and heart health\n",
    "Table.read_table('coffee_observational.csv').select('Chocolate', 'Good Heart')"
   ]
  },
  {
   "cell_type": "markdown",
   "metadata": {
    "slideshow": {
     "slide_type": ""
    }
   },
   "source": [
    "- We want to say that eating chocolate *causes* good heart health.\n",
    "- But it turns out that chocolate-eaters are more likely to consume caffeine.\n",
    "- And suppose it is *caffeine* which actually helps heart health."
   ]
  },
  {
   "cell_type": "code",
   "execution_count": null,
   "metadata": {},
   "outputs": [],
   "source": [
    "#: chocolate, caffeine, and heart health\n",
    "Table.read_table('coffee_observational.csv')"
   ]
  },
  {
   "cell_type": "markdown",
   "metadata": {
    "slideshow": {
     "slide_type": "slide"
    }
   },
   "source": [
    "## Why?\n",
    "\n",
    "- The chocolate-eating group had better health because it had more caffeine consumers.\n",
    "- Now suppose we do an RCT and select random groups.\n",
    "- *Then* we apply the treatment (chocolate)."
   ]
  },
  {
   "cell_type": "code",
   "execution_count": null,
   "metadata": {},
   "outputs": [],
   "source": [
    "#: the rct results\n",
    "Table.read_table('coffee_rct.csv')"
   ]
  },
  {
   "cell_type": "markdown",
   "metadata": {},
   "source": [
    "- Randomization ensures that the caffeine consumers are (roughly) divided between the treatment and control group.\n",
    "- The effect of the confounding factor is mitigated."
   ]
  },
  {
   "cell_type": "markdown",
   "metadata": {
    "slideshow": {
     "slide_type": "slide"
    }
   },
   "source": [
    "## Example: Chronic Back Pain"
   ]
  },
  {
   "cell_type": "code",
   "execution_count": null,
   "metadata": {},
   "outputs": [],
   "source": [
    "#: the usual imports\n",
    "from datascience import *\n",
    "import numpy as np\n",
    "\n",
    "%matplotlib inline\n",
    "import matplotlib.pyplot as plt\n",
    "import warnings; warnings.simplefilter('ignore')\n",
    "\n",
    "plt.style.use('fivethirtyeight')"
   ]
  },
  {
   "cell_type": "markdown",
   "metadata": {
    "slideshow": {
     "slide_type": "slide"
    }
   },
   "source": [
    "## Treatment with botulinum toxin\n",
    "\n",
    "- Botulinum Toxin A is the \"most acutely lethal toxin known\" (Wikipedia).\n",
    "    - About 100 *nanograms* injected intravenously is lethal to a human.\n",
    "- Used for treating muscle disorders and for cosmetic reasons (Botox).\n",
    "- A randomized controlled study examined the use of Botulinum Toxin A in the treatment of lower back pain.\n",
    "    - 31 patients with pain were randomly assigned to control and treatment groups.\n",
    "    - Control group received placebo (saline).\n",
    "    - Treatment group received botulinism toxin.\n",
    "    - After eight weeks, the number of people who experienced relief was counted."
   ]
  },
  {
   "cell_type": "markdown",
   "metadata": {
    "slideshow": {
     "slide_type": "slide"
    }
   },
   "source": [
    "## The data"
   ]
  },
  {
   "cell_type": "code",
   "execution_count": null,
   "metadata": {},
   "outputs": [],
   "source": [
    "#: 1 means \"experienced relief\", 0 means \"no relief\"\n",
    "back = Table.read_table('./bta.csv')\n",
    "back.show()"
   ]
  },
  {
   "cell_type": "markdown",
   "metadata": {
    "slideshow": {
     "slide_type": "slide"
    }
   },
   "source": [
    "## The results"
   ]
  },
  {
   "cell_type": "code",
   "execution_count": null,
   "metadata": {},
   "outputs": [],
   "source": [
    "#:: the distribution of outcomes\n",
    "back.pivot('Group', 'Result')"
   ]
  },
  {
   "cell_type": "markdown",
   "metadata": {},
   "source": [
    "- It looks like there was a clear benefit to treatment.\n",
    "- Can this just be due to chance?"
   ]
  },
  {
   "cell_type": "markdown",
   "metadata": {
    "slideshow": {
     "slide_type": "slide"
    }
   },
   "source": [
    "## An A/B test\n",
    "\n",
    "- Group A = Control, Group B = Treatment\n",
    "- **Null hypothesis**: Results for both groups come from the same distribution.\n",
    "- **Test statistic**: difference in proportion experiencing relief."
   ]
  },
  {
   "cell_type": "code",
   "execution_count": null,
   "metadata": {},
   "outputs": [],
   "source": [
    "#: proportion experiencing relief\n",
    "relief = back.group('Group', np.mean)\n",
    "relief"
   ]
  },
  {
   "cell_type": "code",
   "execution_count": null,
   "metadata": {},
   "outputs": [],
   "source": [
    "#: the observed group difference\n",
    "reliefs = relief.column('Result mean')\n",
    "observed_difference = reliefs.item(1) - reliefs.item(0)\n",
    "observed_difference"
   ]
  },
  {
   "cell_type": "markdown",
   "metadata": {
    "slideshow": {
     "slide_type": "slide"
    }
   },
   "source": [
    "## The simulation"
   ]
  },
  {
   "cell_type": "code",
   "execution_count": null,
   "metadata": {},
   "outputs": [],
   "source": [
    "#: run a permutation test\n",
    "n_repetitions = 500\n",
    "\n",
    "differences = make_array()\n",
    "\n",
    "for i in np.arange(n_repetitions):\n",
    "    # permute the results\n",
    "    shuffled_results = (\n",
    "        back\n",
    "        .sample(with_replacement=False)\n",
    "        .column('Result')\n",
    "    )\n",
    "    \n",
    "    shuffled = back.with_column('Result', shuffled_results)\n",
    "    \n",
    "    # compute the statistic\n",
    "    relief = shuffled.group('Group', np.mean).column('Result mean')\n",
    "    difference = relief.item(1) - relief.item(0)\n",
    "    differences = np.append(differences, difference)"
   ]
  },
  {
   "cell_type": "markdown",
   "metadata": {
    "slideshow": {
     "slide_type": "slide"
    }
   },
   "source": [
    "## Conclusion"
   ]
  },
  {
   "cell_type": "code",
   "execution_count": null,
   "metadata": {},
   "outputs": [],
   "source": [
    "#: draw a histogram\n",
    "Table().with_column('Differences', differences).hist()\n",
    "plt.scatter(observed_difference, 0, color='red', s=40)"
   ]
  },
  {
   "cell_type": "code",
   "execution_count": null,
   "metadata": {},
   "outputs": [],
   "source": [
    "#: compute a p-value\n",
    "np.count_nonzero(differences >= observed_difference) / n_repetitions"
   ]
  },
  {
   "cell_type": "markdown",
   "metadata": {
    "slideshow": {
     "slide_type": "slide"
    }
   },
   "source": [
    "## Conclusion\n",
    "\n",
    "- We reject the null hypothesis with a high degree of confidence.\n",
    "- This is evidence that the treatment *caused* improvement.\n",
    "    - *Because* this was an *randomized controlled trial*."
   ]
  }
 ],
 "metadata": {
  "celltoolbar": "Slideshow",
  "kernelspec": {
   "display_name": "Python 3",
   "language": "python",
   "name": "python3"
  },
  "language_info": {
   "codemirror_mode": {
    "name": "ipython",
    "version": 3
   },
   "file_extension": ".py",
   "mimetype": "text/x-python",
   "name": "python",
   "nbconvert_exporter": "python",
   "pygments_lexer": "ipython3",
   "version": "3.7.1"
  },
  "livereveal": {
   "scroll": true,
   "transition": "none"
  }
 },
 "nbformat": 4,
 "nbformat_minor": 2
}
