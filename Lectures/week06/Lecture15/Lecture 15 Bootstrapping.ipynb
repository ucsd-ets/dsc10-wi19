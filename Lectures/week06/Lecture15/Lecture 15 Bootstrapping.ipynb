{
 "cells": [
  {
   "cell_type": "markdown",
   "metadata": {
    "slideshow": {
     "slide_type": "slide"
    }
   },
   "source": [
    "# Lecture 15\n",
    "\n",
    "### A/B Testing, Randomized Controlled Trials, and Bootstrapping"
   ]
  },
  {
   "cell_type": "markdown",
   "metadata": {},
   "source": [
    "# No class Monday\n",
    "\n",
    "* HW05 still due Sunday\n",
    "* Check Piazza for office hour updates\n",
    "\n",
    "According to California law, the official name of the holiday is:\n",
    "\n",
    "* A. Valentine's Day (Observed)\n",
    "* B. Washington's Birthday\n",
    "* C. Presidents' Day\n",
    "* D. The third Monday in February\n",
    "\n",
    "http://leginfo.legislature.ca.gov/faces/codes_displaySection.xhtml?lawCode=GOV&sectionNum=6700."
   ]
  },
  {
   "cell_type": "markdown",
   "metadata": {
    "slideshow": {
     "slide_type": "slide"
    }
   },
   "source": [
    "# Final A/B Testing Example: Deflategate"
   ]
  },
  {
   "cell_type": "markdown",
   "metadata": {
    "slideshow": {
     "slide_type": "slide"
    }
   },
   "source": [
    "## Did the New England Patriots cheat?\n",
    "\n",
    "<img height=\"30%\" src=\"./deflate.jpg\">\n",
    "\n",
    "- On January 18, 2015, the Patriots played the Indianapolis Colts for a spot in the Super Bowl\n",
    "- The Patriots won, 45 -- 7. They went on to win the Super Bowl\n",
    "- After the game, it was alleged that the Patriots intentionally deflated footballs (making them easier to catch)"
   ]
  },
  {
   "cell_type": "markdown",
   "metadata": {
    "slideshow": {
     "slide_type": "slide"
    }
   },
   "source": [
    "## Background\n",
    "\n",
    "- Each team brings 12 footballs to the game.\n",
    "- NFL rules stipulate: each ball must be inflated to between 12.5 and 13.5 pounds per square inch (psi).\n",
    "- Before the game, officials found that all of the Patriot's balls were at about 12.5 psi, all of the Colts were about 13.0 psi.\n",
    "- In the second quarter, Colts intercepted a Patriots ball and notified officials that it felt under-inflated.\n",
    "- At halftime, two officials (Blakeman and Prioleau) each measured the pressure again.\n",
    "- They ran out of time, and couldn't measure the pressure of all of the footballs."
   ]
  },
  {
   "cell_type": "markdown",
   "metadata": {
    "slideshow": {
     "slide_type": "slide"
    }
   },
   "source": [
    "## The measurements"
   ]
  },
  {
   "cell_type": "code",
   "execution_count": 1,
   "metadata": {},
   "outputs": [],
   "source": [
    "#: the usual imports\n",
    "from datascience import *\n",
    "import numpy as np\n",
    "\n",
    "%matplotlib inline\n",
    "import matplotlib.pyplot as plt\n",
    "import warnings; warnings.simplefilter('ignore')\n",
    "\n",
    "plt.style.use('fivethirtyeight')"
   ]
  },
  {
   "cell_type": "code",
   "execution_count": 2,
   "metadata": {},
   "outputs": [
    {
     "data": {
      "text/html": [
       "<table border=\"1\" class=\"dataframe\">\n",
       "    <thead>\n",
       "        <tr>\n",
       "            <th>Team</th> <th>Blakeman</th> <th>Prioleau</th>\n",
       "        </tr>\n",
       "    </thead>\n",
       "    <tbody>\n",
       "        <tr>\n",
       "            <td>Patriots</td> <td>11.5    </td> <td>11.8    </td>\n",
       "        </tr>\n",
       "        <tr>\n",
       "            <td>Patriots</td> <td>10.85   </td> <td>11.2    </td>\n",
       "        </tr>\n",
       "        <tr>\n",
       "            <td>Patriots</td> <td>11.15   </td> <td>11.5    </td>\n",
       "        </tr>\n",
       "        <tr>\n",
       "            <td>Patriots</td> <td>10.7    </td> <td>11      </td>\n",
       "        </tr>\n",
       "        <tr>\n",
       "            <td>Patriots</td> <td>11.1    </td> <td>11.45   </td>\n",
       "        </tr>\n",
       "        <tr>\n",
       "            <td>Patriots</td> <td>11.6    </td> <td>11.95   </td>\n",
       "        </tr>\n",
       "        <tr>\n",
       "            <td>Patriots</td> <td>11.85   </td> <td>12.3    </td>\n",
       "        </tr>\n",
       "        <tr>\n",
       "            <td>Patriots</td> <td>11.1    </td> <td>11.55   </td>\n",
       "        </tr>\n",
       "        <tr>\n",
       "            <td>Patriots</td> <td>10.95   </td> <td>11.35   </td>\n",
       "        </tr>\n",
       "        <tr>\n",
       "            <td>Patriots</td> <td>10.5    </td> <td>10.9    </td>\n",
       "        </tr>\n",
       "        <tr>\n",
       "            <td>Patriots</td> <td>10.9    </td> <td>11.35   </td>\n",
       "        </tr>\n",
       "        <tr>\n",
       "            <td>Colts   </td> <td>12.7    </td> <td>12.35   </td>\n",
       "        </tr>\n",
       "        <tr>\n",
       "            <td>Colts   </td> <td>12.75   </td> <td>12.3    </td>\n",
       "        </tr>\n",
       "        <tr>\n",
       "            <td>Colts   </td> <td>12.5    </td> <td>12.95   </td>\n",
       "        </tr>\n",
       "        <tr>\n",
       "            <td>Colts   </td> <td>12.55   </td> <td>12.15   </td>\n",
       "        </tr>\n",
       "    </tbody>\n",
       "</table>"
      ],
      "text/plain": [
       "<IPython.core.display.HTML object>"
      ]
     },
     "metadata": {},
     "output_type": "display_data"
    }
   ],
   "source": [
    "#: all of the measurements\n",
    "footballs = Table.read_table('./deflategate.csv')\n",
    "footballs.show()"
   ]
  },
  {
   "cell_type": "markdown",
   "metadata": {
    "slideshow": {
     "slide_type": "slide"
    }
   },
   "source": [
    "## Combining the measurements\n",
    "\n",
    "- Both officials measured each ball.\n",
    "- Their measurements are slightly different.\n",
    "- We average them to get a combined weight."
   ]
  },
  {
   "cell_type": "code",
   "execution_count": 3,
   "metadata": {},
   "outputs": [
    {
     "data": {
      "text/html": [
       "<table border=\"1\" class=\"dataframe\">\n",
       "    <thead>\n",
       "        <tr>\n",
       "            <th>Team</th> <th>Blakeman</th> <th>Prioleau</th> <th>Combined</th>\n",
       "        </tr>\n",
       "    </thead>\n",
       "    <tbody>\n",
       "        <tr>\n",
       "            <td>Patriots</td> <td>11.5    </td> <td>11.8    </td> <td>11.65   </td>\n",
       "        </tr>\n",
       "        <tr>\n",
       "            <td>Patriots</td> <td>10.85   </td> <td>11.2    </td> <td>11.025  </td>\n",
       "        </tr>\n",
       "        <tr>\n",
       "            <td>Patriots</td> <td>11.15   </td> <td>11.5    </td> <td>11.325  </td>\n",
       "        </tr>\n",
       "        <tr>\n",
       "            <td>Patriots</td> <td>10.7    </td> <td>11      </td> <td>10.85   </td>\n",
       "        </tr>\n",
       "        <tr>\n",
       "            <td>Patriots</td> <td>11.1    </td> <td>11.45   </td> <td>11.275  </td>\n",
       "        </tr>\n",
       "        <tr>\n",
       "            <td>Patriots</td> <td>11.6    </td> <td>11.95   </td> <td>11.775  </td>\n",
       "        </tr>\n",
       "        <tr>\n",
       "            <td>Patriots</td> <td>11.85   </td> <td>12.3    </td> <td>12.075  </td>\n",
       "        </tr>\n",
       "        <tr>\n",
       "            <td>Patriots</td> <td>11.1    </td> <td>11.55   </td> <td>11.325  </td>\n",
       "        </tr>\n",
       "        <tr>\n",
       "            <td>Patriots</td> <td>10.95   </td> <td>11.35   </td> <td>11.15   </td>\n",
       "        </tr>\n",
       "        <tr>\n",
       "            <td>Patriots</td> <td>10.5    </td> <td>10.9    </td> <td>10.7    </td>\n",
       "        </tr>\n",
       "        <tr>\n",
       "            <td>Patriots</td> <td>10.9    </td> <td>11.35   </td> <td>11.125  </td>\n",
       "        </tr>\n",
       "        <tr>\n",
       "            <td>Colts   </td> <td>12.7    </td> <td>12.35   </td> <td>12.525  </td>\n",
       "        </tr>\n",
       "        <tr>\n",
       "            <td>Colts   </td> <td>12.75   </td> <td>12.3    </td> <td>12.525  </td>\n",
       "        </tr>\n",
       "        <tr>\n",
       "            <td>Colts   </td> <td>12.5    </td> <td>12.95   </td> <td>12.725  </td>\n",
       "        </tr>\n",
       "        <tr>\n",
       "            <td>Colts   </td> <td>12.55   </td> <td>12.15   </td> <td>12.35   </td>\n",
       "        </tr>\n",
       "    </tbody>\n",
       "</table>"
      ],
      "text/plain": [
       "<IPython.core.display.HTML object>"
      ]
     },
     "metadata": {},
     "output_type": "display_data"
    }
   ],
   "source": [
    "#: a combined measurement\n",
    "footballs = footballs.with_column(\n",
    "    'Combined',\n",
    "    (footballs.column('Blakeman') + footballs.column('Prioleau')) / 2\n",
    ")\n",
    "footballs.show()"
   ]
  },
  {
   "cell_type": "markdown",
   "metadata": {
    "slideshow": {
     "slide_type": "slide"
    }
   },
   "source": [
    "## Differences in average pressure\n",
    "\n",
    "- At first glance, it looks as though the Patriots footballs are at a lower pressure."
   ]
  },
  {
   "cell_type": "code",
   "execution_count": 4,
   "metadata": {
    "slideshow": {
     "slide_type": ""
    }
   },
   "outputs": [
    {
     "data": {
      "text/html": [
       "<table border=\"1\" class=\"dataframe\">\n",
       "    <thead>\n",
       "        <tr>\n",
       "            <th>Team</th> <th>Blakeman mean</th> <th>Prioleau mean</th> <th>Combined mean</th>\n",
       "        </tr>\n",
       "    </thead>\n",
       "    <tbody>\n",
       "        <tr>\n",
       "            <td>Colts   </td> <td>12.625       </td> <td>12.4375      </td> <td>12.5312      </td>\n",
       "        </tr>\n",
       "        <tr>\n",
       "            <td>Patriots</td> <td>11.1091      </td> <td>11.4864      </td> <td>11.2977      </td>\n",
       "        </tr>\n",
       "    </tbody>\n",
       "</table>"
      ],
      "text/plain": [
       "Team     | Blakeman mean | Prioleau mean | Combined mean\n",
       "Colts    | 12.625        | 12.4375       | 12.5312\n",
       "Patriots | 11.1091       | 11.4864       | 11.2977"
      ]
     },
     "execution_count": 4,
     "metadata": {},
     "output_type": "execute_result"
    }
   ],
   "source": [
    "#:: group means\n",
    "footballs.group('Team', np.mean)"
   ]
  },
  {
   "cell_type": "markdown",
   "metadata": {},
   "source": [
    "- We could do a permutation test for difference in mean pressure.\n",
    "- But that wouldn't point towards cheating.\n",
    "    - The Patriot's balls *started* at a lower psi.\n",
    "- The allegations were that the Patriots *deflated* the balls.\n",
    "    - We want to check to see if the Patriots balls lost more pressure than the Colts'."
   ]
  },
  {
   "cell_type": "markdown",
   "metadata": {
    "slideshow": {
     "slide_type": "slide"
    }
   },
   "source": [
    "## Calculating the pressure drop\n",
    "\n",
    "- We therefore calculate the drop in pressure for each ball.\n",
    "- Patriots' started at 12.5 psi, Colts' started at 13.\n",
    "- We make an array with starting pressure for each ball.\n",
    "- Handy function: `np.where(array_of_true_and_false, true_value, false_value)`.\n",
    "    - Replaces `True` in the array with `true_value`, and `False` with `false_value`."
   ]
  },
  {
   "cell_type": "code",
   "execution_count": 5,
   "metadata": {},
   "outputs": [
    {
     "data": {
      "text/plain": [
       "array([12.5, 12.5, 12.5, 12.5, 12.5, 12.5, 12.5, 12.5, 12.5, 12.5, 12.5,\n",
       "       13. , 13. , 13. , 13. ])"
      ]
     },
     "execution_count": 5,
     "metadata": {},
     "output_type": "execute_result"
    }
   ],
   "source": [
    "#...starting_pressure\n",
    "starting_pressure = np.where(\n",
    "    footballs.column('Team') == 'Patriots',\n",
    "    12.5,\n",
    "    13\n",
    ")\n",
    "starting_pressure"
   ]
  },
  {
   "cell_type": "markdown",
   "metadata": {
    "slideshow": {
     "slide_type": "slide"
    }
   },
   "source": [
    "## Calculating the pressure drop"
   ]
  },
  {
   "cell_type": "code",
   "execution_count": 6,
   "metadata": {},
   "outputs": [
    {
     "data": {
      "text/html": [
       "<table border=\"1\" class=\"dataframe\">\n",
       "    <thead>\n",
       "        <tr>\n",
       "            <th>Team</th> <th>Blakeman</th> <th>Prioleau</th> <th>Combined</th> <th>Pressure Drop</th>\n",
       "        </tr>\n",
       "    </thead>\n",
       "    <tbody>\n",
       "        <tr>\n",
       "            <td>Patriots</td> <td>11.5    </td> <td>11.8    </td> <td>11.65   </td> <td>0.85         </td>\n",
       "        </tr>\n",
       "        <tr>\n",
       "            <td>Patriots</td> <td>10.85   </td> <td>11.2    </td> <td>11.025  </td> <td>1.475        </td>\n",
       "        </tr>\n",
       "        <tr>\n",
       "            <td>Patriots</td> <td>11.15   </td> <td>11.5    </td> <td>11.325  </td> <td>1.175        </td>\n",
       "        </tr>\n",
       "        <tr>\n",
       "            <td>Patriots</td> <td>10.7    </td> <td>11      </td> <td>10.85   </td> <td>1.65         </td>\n",
       "        </tr>\n",
       "        <tr>\n",
       "            <td>Patriots</td> <td>11.1    </td> <td>11.45   </td> <td>11.275  </td> <td>1.225        </td>\n",
       "        </tr>\n",
       "        <tr>\n",
       "            <td>Patriots</td> <td>11.6    </td> <td>11.95   </td> <td>11.775  </td> <td>0.725        </td>\n",
       "        </tr>\n",
       "        <tr>\n",
       "            <td>Patriots</td> <td>11.85   </td> <td>12.3    </td> <td>12.075  </td> <td>0.425        </td>\n",
       "        </tr>\n",
       "        <tr>\n",
       "            <td>Patriots</td> <td>11.1    </td> <td>11.55   </td> <td>11.325  </td> <td>1.175        </td>\n",
       "        </tr>\n",
       "        <tr>\n",
       "            <td>Patriots</td> <td>10.95   </td> <td>11.35   </td> <td>11.15   </td> <td>1.35         </td>\n",
       "        </tr>\n",
       "        <tr>\n",
       "            <td>Patriots</td> <td>10.5    </td> <td>10.9    </td> <td>10.7    </td> <td>1.8          </td>\n",
       "        </tr>\n",
       "        <tr>\n",
       "            <td>Patriots</td> <td>10.9    </td> <td>11.35   </td> <td>11.125  </td> <td>1.375        </td>\n",
       "        </tr>\n",
       "        <tr>\n",
       "            <td>Colts   </td> <td>12.7    </td> <td>12.35   </td> <td>12.525  </td> <td>0.475        </td>\n",
       "        </tr>\n",
       "        <tr>\n",
       "            <td>Colts   </td> <td>12.75   </td> <td>12.3    </td> <td>12.525  </td> <td>0.475        </td>\n",
       "        </tr>\n",
       "        <tr>\n",
       "            <td>Colts   </td> <td>12.5    </td> <td>12.95   </td> <td>12.725  </td> <td>0.275        </td>\n",
       "        </tr>\n",
       "        <tr>\n",
       "            <td>Colts   </td> <td>12.55   </td> <td>12.15   </td> <td>12.35   </td> <td>0.65         </td>\n",
       "        </tr>\n",
       "    </tbody>\n",
       "</table>"
      ],
      "text/plain": [
       "<IPython.core.display.HTML object>"
      ]
     },
     "metadata": {},
     "output_type": "display_data"
    }
   ],
   "source": [
    "#: add the drop to the table\n",
    "footballs = footballs.with_column(\n",
    "    'Pressure Drop',\n",
    "    starting_pressure - footballs.column('Combined')\n",
    ")\n",
    "footballs.show()"
   ]
  },
  {
   "cell_type": "markdown",
   "metadata": {
    "slideshow": {
     "slide_type": "slide"
    }
   },
   "source": [
    "## The question\n",
    "\n",
    "- Did the Patriots' footballs drop in pressure more than the Colts'?\n",
    "- A/B test!\n",
    "- **Null hypothesis**: The drop in pressures for both teams came from the same distribution.\n",
    "    - By chance, the Patriots' footballs deflated more.\n",
    "- **Alternative hypothesis**: No, the Patriots' footballs deflated more than one would expect due to random chance alone."
   ]
  },
  {
   "cell_type": "markdown",
   "metadata": {
    "slideshow": {
     "slide_type": "slide"
    }
   },
   "source": [
    "## The statistic\n",
    "\n",
    "- Difference between teams' average pressure drops."
   ]
  },
  {
   "cell_type": "code",
   "execution_count": 7,
   "metadata": {},
   "outputs": [
    {
     "data": {
      "text/html": [
       "<table border=\"1\" class=\"dataframe\">\n",
       "    <thead>\n",
       "        <tr>\n",
       "            <th>Team</th> <th>Pressure Drop mean</th>\n",
       "        </tr>\n",
       "    </thead>\n",
       "    <tbody>\n",
       "        <tr>\n",
       "            <td>Colts   </td> <td>0.46875           </td>\n",
       "        </tr>\n",
       "        <tr>\n",
       "            <td>Patriots</td> <td>1.20227           </td>\n",
       "        </tr>\n",
       "    </tbody>\n",
       "</table>"
      ],
      "text/plain": [
       "Team     | Pressure Drop mean\n",
       "Colts    | 0.46875\n",
       "Patriots | 1.20227"
      ]
     },
     "execution_count": 7,
     "metadata": {},
     "output_type": "execute_result"
    }
   ],
   "source": [
    "#: the group means\n",
    "means = footballs.group('Team', np.mean).select('Team', 'Pressure Drop mean')\n",
    "means"
   ]
  },
  {
   "cell_type": "code",
   "execution_count": 8,
   "metadata": {},
   "outputs": [
    {
     "data": {
      "text/plain": [
       "0.733522727272728"
      ]
     },
     "execution_count": 8,
     "metadata": {},
     "output_type": "execute_result"
    }
   ],
   "source": [
    "#: the observed difference\n",
    "mean_drop = means.column('Pressure Drop mean')\n",
    "observed_difference = mean_drop.item(1) - mean_drop.item(0)\n",
    "observed_difference"
   ]
  },
  {
   "cell_type": "markdown",
   "metadata": {},
   "source": [
    "- The average pressure drop for the Patriots was 0.73 psi more than the Colts."
   ]
  },
  {
   "cell_type": "markdown",
   "metadata": {
    "slideshow": {
     "slide_type": "slide"
    }
   },
   "source": [
    "## Permutation test\n",
    "\n",
    "- We run a permutation test to see if this is a significant difference.\n",
    "- Permute the drop in pressure (or the team column), many times."
   ]
  },
  {
   "cell_type": "code",
   "execution_count": 9,
   "metadata": {},
   "outputs": [],
   "source": [
    "#: run a permutation test\n",
    "n_repetitions = 5000\n",
    "\n",
    "differences = make_array()\n",
    "for i in np.arange(n_repetitions):\n",
    "    # shuffle the weights\n",
    "    shuffled_drops = (\n",
    "        footballs\n",
    "        .sample(with_replacement=False)\n",
    "        .column('Pressure Drop')\n",
    "    )\n",
    "    \n",
    "    # put them in a table\n",
    "    shuffled = footballs.with_column(\n",
    "        'Shuffled Pressure Drop', \n",
    "        shuffled_drops\n",
    "    )\n",
    "    \n",
    "    # compute the group differences\n",
    "    group_means = (\n",
    "        shuffled\n",
    "        .group('Team', np.mean)\n",
    "        .column('Shuffled Pressure Drop mean')\n",
    "    )\n",
    "    difference = group_means.item(1) - group_means.item(0)\n",
    "    \n",
    "    # add it to our array storing results\n",
    "    differences = np.append(differences, difference)"
   ]
  },
  {
   "cell_type": "markdown",
   "metadata": {
    "slideshow": {
     "slide_type": "slide"
    }
   },
   "source": [
    "## Conclusion"
   ]
  },
  {
   "cell_type": "code",
   "execution_count": 10,
   "metadata": {},
   "outputs": [
    {
     "data": {
      "text/plain": [
       "<matplotlib.collections.PathCollection at 0x26584f08c18>"
      ]
     },
     "execution_count": 10,
     "metadata": {},
     "output_type": "execute_result"
    },
    {
     "data": {
      "image/png": "[encoded data removed]",
      "text/plain": [
       "<Figure size 432x288 with 1 Axes>"
      ]
     },
     "metadata": {},
     "output_type": "display_data"
    }
   ],
   "source": [
    "#:: visualize\n",
    "Table().with_column('Difference in mean', differences).hist(unit='psi')\n",
    "plt.scatter(observed_difference, 0, color='red', s=40)"
   ]
  },
  {
   "cell_type": "markdown",
   "metadata": {},
   "source": [
    "- It doesn't look good for the Patriots. What is the p-value?"
   ]
  },
  {
   "cell_type": "code",
   "execution_count": 11,
   "metadata": {},
   "outputs": [
    {
     "data": {
      "text/plain": [
       "0.0022"
      ]
     },
     "execution_count": 11,
     "metadata": {},
     "output_type": "execute_result"
    }
   ],
   "source": [
    "#: p-value\n",
    "np.count_nonzero(differences >= observed_difference) / n_repetitions"
   ]
  },
  {
   "cell_type": "markdown",
   "metadata": {
    "slideshow": {
     "slide_type": "slide"
    }
   },
   "source": [
    "## Caution!\n",
    "\n",
    "- We conclude that it is unlikely that the difference in mean pressure drop is due to chance alone.\n",
    "- But this doesn't establish *causation*.\n",
    "- That is, did the Patriots *deliberately* deflate their footballs?\n",
    "- This was an *observational* study; to establish causation, we need an RCT (Randomized Controlled Trial)."
   ]
  },
  {
   "cell_type": "markdown",
   "metadata": {
    "slideshow": {
     "slide_type": "slide"
    }
   },
   "source": [
    "# Causality"
   ]
  },
  {
   "cell_type": "markdown",
   "metadata": {
    "slideshow": {
     "slide_type": "slide"
    }
   },
   "source": [
    "## Recap\n",
    "\n",
    "- We have used A/B testing to assess group differences.\n",
    "- Example:\n",
    "    - Study: Babies born to mothers who smoke typically weigh less.\n",
    "    - Permutation test conclusion: this is unlikely to be due to random chance.\n",
    "- Rejecting the null hypothesis **does not** establish causality.\n",
    "    - Tempting to think that smoking causes lower birthweight.\n",
    "    - But there could be **confounding factors**...\n",
    "    - Maybe *caffeine* causes lower birthweight, and caffeine intake is correlated with smoking."
   ]
  },
  {
   "cell_type": "markdown",
   "metadata": {
    "slideshow": {
     "slide_type": "slide"
    }
   },
   "source": [
    "## Randomized Controlled Trial\n",
    "\n",
    "- This was an **observational study**.\n",
    "- We've seen that randomizing groups then applying \"treatment\" avoids confounding factors.\n",
    "- This is known as a **Randomized Controlled Trial** (RCT).\n",
    "- An A/B test in a RCT *does* support causality."
   ]
  },
  {
   "cell_type": "markdown",
   "metadata": {
    "slideshow": {
     "slide_type": "slide"
    }
   },
   "source": [
    "## Why?\n",
    "\n",
    "- Suppose we want to examine the link between chocolate and heart health.\n",
    "- We do an observational study and see that chocolate-eaters have healthier hearts."
   ]
  },
  {
   "cell_type": "code",
   "execution_count": 12,
   "metadata": {},
   "outputs": [
    {
     "data": {
      "text/html": [
       "<table border=\"1\" class=\"dataframe\">\n",
       "    <thead>\n",
       "        <tr>\n",
       "            <th>Chocolate</th> <th>Good Heart</th>\n",
       "        </tr>\n",
       "    </thead>\n",
       "    <tbody>\n",
       "        <tr>\n",
       "            <td>1        </td> <td>1         </td>\n",
       "        </tr>\n",
       "        <tr>\n",
       "            <td>1        </td> <td>0         </td>\n",
       "        </tr>\n",
       "        <tr>\n",
       "            <td>1        </td> <td>1         </td>\n",
       "        </tr>\n",
       "        <tr>\n",
       "            <td>1        </td> <td>1         </td>\n",
       "        </tr>\n",
       "        <tr>\n",
       "            <td>1        </td> <td>1         </td>\n",
       "        </tr>\n",
       "        <tr>\n",
       "            <td>0        </td> <td>0         </td>\n",
       "        </tr>\n",
       "        <tr>\n",
       "            <td>0        </td> <td>0         </td>\n",
       "        </tr>\n",
       "        <tr>\n",
       "            <td>0        </td> <td>1         </td>\n",
       "        </tr>\n",
       "        <tr>\n",
       "            <td>0        </td> <td>0         </td>\n",
       "        </tr>\n",
       "        <tr>\n",
       "            <td>0        </td> <td>0         </td>\n",
       "        </tr>\n",
       "    </tbody>\n",
       "</table>"
      ],
      "text/plain": [
       "Chocolate | Good Heart\n",
       "1         | 1\n",
       "1         | 0\n",
       "1         | 1\n",
       "1         | 1\n",
       "1         | 1\n",
       "0         | 0\n",
       "0         | 0\n",
       "0         | 1\n",
       "0         | 0\n",
       "0         | 0"
      ]
     },
     "execution_count": 12,
     "metadata": {},
     "output_type": "execute_result"
    }
   ],
   "source": [
    "#: chocolate and heart health\n",
    "Table.read_table('coffee_observational.csv').select('Chocolate', 'Good Heart')"
   ]
  },
  {
   "cell_type": "markdown",
   "metadata": {
    "slideshow": {
     "slide_type": ""
    }
   },
   "source": [
    "- We want to say that eating chocolate *causes* good heart health.\n",
    "- But it turns out that chocolate-eaters are more likely to consume caffeine.\n",
    "- And suppose it is *caffeine* which actually helps heart health."
   ]
  },
  {
   "cell_type": "code",
   "execution_count": null,
   "metadata": {},
   "outputs": [],
   "source": [
    "#: chocolate, caffeine, and heart health\n",
    "Table.read_table('coffee_observational.csv')"
   ]
  },
  {
   "cell_type": "markdown",
   "metadata": {
    "slideshow": {
     "slide_type": "slide"
    }
   },
   "source": [
    "## Why?\n",
    "\n",
    "- The chocolate-eating group had better health because it had more caffeine consumers.\n",
    "- Now suppose we do an RCT and select random groups.\n",
    "- *Then* we apply the treatment (chocolate)."
   ]
  },
  {
   "cell_type": "code",
   "execution_count": 13,
   "metadata": {},
   "outputs": [
    {
     "data": {
      "text/html": [
       "<table border=\"1\" class=\"dataframe\">\n",
       "    <thead>\n",
       "        <tr>\n",
       "            <th>Caffeine</th> <th>Chocolate</th> <th> Good Heart</th>\n",
       "        </tr>\n",
       "    </thead>\n",
       "    <tbody>\n",
       "        <tr>\n",
       "            <td>1       </td> <td>1        </td> <td>1          </td>\n",
       "        </tr>\n",
       "        <tr>\n",
       "            <td>0       </td> <td>1        </td> <td>0          </td>\n",
       "        </tr>\n",
       "        <tr>\n",
       "            <td>1       </td> <td>1        </td> <td>1          </td>\n",
       "        </tr>\n",
       "        <tr>\n",
       "            <td>0       </td> <td>1        </td> <td>0          </td>\n",
       "        </tr>\n",
       "        <tr>\n",
       "            <td>0       </td> <td>1        </td> <td>1          </td>\n",
       "        </tr>\n",
       "        <tr>\n",
       "            <td>1       </td> <td>0        </td> <td>1          </td>\n",
       "        </tr>\n",
       "        <tr>\n",
       "            <td>0       </td> <td>0        </td> <td>0          </td>\n",
       "        </tr>\n",
       "        <tr>\n",
       "            <td>0       </td> <td>0        </td> <td>0          </td>\n",
       "        </tr>\n",
       "        <tr>\n",
       "            <td>1       </td> <td>0        </td> <td>1          </td>\n",
       "        </tr>\n",
       "        <tr>\n",
       "            <td>1       </td> <td>0        </td> <td>1          </td>\n",
       "        </tr>\n",
       "    </tbody>\n",
       "</table>"
      ],
      "text/plain": [
       "Caffeine | Chocolate |  Good Heart\n",
       "1        | 1         | 1\n",
       "0        | 1         | 0\n",
       "1        | 1         | 1\n",
       "0        | 1         | 0\n",
       "0        | 1         | 1\n",
       "1        | 0         | 1\n",
       "0        | 0         | 0\n",
       "0        | 0         | 0\n",
       "1        | 0         | 1\n",
       "1        | 0         | 1"
      ]
     },
     "execution_count": 13,
     "metadata": {},
     "output_type": "execute_result"
    }
   ],
   "source": [
    "#: the rct results\n",
    "Table.read_table('coffee_rct.csv')"
   ]
  },
  {
   "cell_type": "markdown",
   "metadata": {},
   "source": [
    "- Randomization ensures that the caffeine consumers are (roughly) divided between the treatment and control group.\n",
    "- The effect of the confounding factor is mitigated."
   ]
  },
  {
   "cell_type": "markdown",
   "metadata": {
    "slideshow": {
     "slide_type": "slide"
    }
   },
   "source": [
    "## Example: Chronic Back Pain"
   ]
  },
  {
   "cell_type": "markdown",
   "metadata": {
    "slideshow": {
     "slide_type": "slide"
    }
   },
   "source": [
    "## Treatment with botulinum toxin\n",
    "\n",
    "- Botulinum Toxin A is the \"most acutely lethal toxin known\" (Wikipedia).\n",
    "    - About 100 *nanograms* injected intravenously is lethal to a human.\n",
    "- Used for treating muscle disorders and for cosmetic reasons (Botox).\n",
    "- A randomized controlled study examined the use of Botulinum Toxin A in the treatment of lower back pain.\n",
    "    - 31 patients with pain were randomly assigned to control and treatment groups.\n",
    "    - Control group received placebo (saline).\n",
    "    - Treatment group received botulinism toxin.\n",
    "    - After eight weeks, the number of people who experienced relief was counted."
   ]
  },
  {
   "cell_type": "markdown",
   "metadata": {
    "slideshow": {
     "slide_type": "slide"
    }
   },
   "source": [
    "## The data"
   ]
  },
  {
   "cell_type": "code",
   "execution_count": 14,
   "metadata": {},
   "outputs": [
    {
     "data": {
      "text/html": [
       "<table border=\"1\" class=\"dataframe\">\n",
       "    <thead>\n",
       "        <tr>\n",
       "            <th>Group</th> <th>Result</th>\n",
       "        </tr>\n",
       "    </thead>\n",
       "    <tbody>\n",
       "        <tr>\n",
       "            <td>Control  </td> <td>1     </td>\n",
       "        </tr>\n",
       "        <tr>\n",
       "            <td>Control  </td> <td>1     </td>\n",
       "        </tr>\n",
       "        <tr>\n",
       "            <td>Control  </td> <td>0     </td>\n",
       "        </tr>\n",
       "        <tr>\n",
       "            <td>Control  </td> <td>0     </td>\n",
       "        </tr>\n",
       "        <tr>\n",
       "            <td>Control  </td> <td>0     </td>\n",
       "        </tr>\n",
       "        <tr>\n",
       "            <td>Control  </td> <td>0     </td>\n",
       "        </tr>\n",
       "        <tr>\n",
       "            <td>Control  </td> <td>0     </td>\n",
       "        </tr>\n",
       "        <tr>\n",
       "            <td>Control  </td> <td>0     </td>\n",
       "        </tr>\n",
       "        <tr>\n",
       "            <td>Control  </td> <td>0     </td>\n",
       "        </tr>\n",
       "        <tr>\n",
       "            <td>Control  </td> <td>0     </td>\n",
       "        </tr>\n",
       "        <tr>\n",
       "            <td>Control  </td> <td>0     </td>\n",
       "        </tr>\n",
       "        <tr>\n",
       "            <td>Control  </td> <td>0     </td>\n",
       "        </tr>\n",
       "        <tr>\n",
       "            <td>Control  </td> <td>0     </td>\n",
       "        </tr>\n",
       "        <tr>\n",
       "            <td>Control  </td> <td>0     </td>\n",
       "        </tr>\n",
       "        <tr>\n",
       "            <td>Control  </td> <td>0     </td>\n",
       "        </tr>\n",
       "        <tr>\n",
       "            <td>Control  </td> <td>0     </td>\n",
       "        </tr>\n",
       "        <tr>\n",
       "            <td>Treatment</td> <td>1     </td>\n",
       "        </tr>\n",
       "        <tr>\n",
       "            <td>Treatment</td> <td>1     </td>\n",
       "        </tr>\n",
       "        <tr>\n",
       "            <td>Treatment</td> <td>1     </td>\n",
       "        </tr>\n",
       "        <tr>\n",
       "            <td>Treatment</td> <td>1     </td>\n",
       "        </tr>\n",
       "        <tr>\n",
       "            <td>Treatment</td> <td>1     </td>\n",
       "        </tr>\n",
       "        <tr>\n",
       "            <td>Treatment</td> <td>1     </td>\n",
       "        </tr>\n",
       "        <tr>\n",
       "            <td>Treatment</td> <td>1     </td>\n",
       "        </tr>\n",
       "        <tr>\n",
       "            <td>Treatment</td> <td>1     </td>\n",
       "        </tr>\n",
       "        <tr>\n",
       "            <td>Treatment</td> <td>1     </td>\n",
       "        </tr>\n",
       "        <tr>\n",
       "            <td>Treatment</td> <td>0     </td>\n",
       "        </tr>\n",
       "        <tr>\n",
       "            <td>Treatment</td> <td>0     </td>\n",
       "        </tr>\n",
       "        <tr>\n",
       "            <td>Treatment</td> <td>0     </td>\n",
       "        </tr>\n",
       "        <tr>\n",
       "            <td>Treatment</td> <td>0     </td>\n",
       "        </tr>\n",
       "        <tr>\n",
       "            <td>Treatment</td> <td>0     </td>\n",
       "        </tr>\n",
       "        <tr>\n",
       "            <td>Treatment</td> <td>0     </td>\n",
       "        </tr>\n",
       "    </tbody>\n",
       "</table>"
      ],
      "text/plain": [
       "<IPython.core.display.HTML object>"
      ]
     },
     "metadata": {},
     "output_type": "display_data"
    }
   ],
   "source": [
    "#: 1 means \"experienced relief\", 0 means \"no relief\"\n",
    "back = Table.read_table('./bta.csv')\n",
    "back.show()"
   ]
  },
  {
   "cell_type": "markdown",
   "metadata": {
    "slideshow": {
     "slide_type": "slide"
    }
   },
   "source": [
    "## The results"
   ]
  },
  {
   "cell_type": "code",
   "execution_count": 15,
   "metadata": {},
   "outputs": [
    {
     "data": {
      "text/html": [
       "<table border=\"1\" class=\"dataframe\">\n",
       "    <thead>\n",
       "        <tr>\n",
       "            <th>Result</th> <th>Control</th> <th>Treatment</th>\n",
       "        </tr>\n",
       "    </thead>\n",
       "    <tbody>\n",
       "        <tr>\n",
       "            <td>0     </td> <td>14     </td> <td>6        </td>\n",
       "        </tr>\n",
       "        <tr>\n",
       "            <td>1     </td> <td>2      </td> <td>9        </td>\n",
       "        </tr>\n",
       "    </tbody>\n",
       "</table>"
      ],
      "text/plain": [
       "Result | Control | Treatment\n",
       "0      | 14      | 6\n",
       "1      | 2       | 9"
      ]
     },
     "execution_count": 15,
     "metadata": {},
     "output_type": "execute_result"
    }
   ],
   "source": [
    "#:: the distribution of outcomes\n",
    "back.pivot('Group', 'Result')"
   ]
  },
  {
   "cell_type": "markdown",
   "metadata": {},
   "source": [
    "- It looks like there was a clear benefit to treatment.\n",
    "- Can this just be due to chance?"
   ]
  },
  {
   "cell_type": "markdown",
   "metadata": {
    "slideshow": {
     "slide_type": "slide"
    }
   },
   "source": [
    "## An A/B test\n",
    "\n",
    "- Group A = Control, Group B = Treatment\n",
    "- **Null hypothesis**: Results for both groups come from the same distribution.\n",
    "- **Test statistic**: difference in proportion experiencing relief."
   ]
  },
  {
   "cell_type": "code",
   "execution_count": 16,
   "metadata": {},
   "outputs": [
    {
     "data": {
      "text/html": [
       "<table border=\"1\" class=\"dataframe\">\n",
       "    <thead>\n",
       "        <tr>\n",
       "            <th>Group</th> <th>Result mean</th>\n",
       "        </tr>\n",
       "    </thead>\n",
       "    <tbody>\n",
       "        <tr>\n",
       "            <td>Control  </td> <td>0.125      </td>\n",
       "        </tr>\n",
       "        <tr>\n",
       "            <td>Treatment</td> <td>0.6        </td>\n",
       "        </tr>\n",
       "    </tbody>\n",
       "</table>"
      ],
      "text/plain": [
       "Group     | Result mean\n",
       "Control   | 0.125\n",
       "Treatment | 0.6"
      ]
     },
     "execution_count": 16,
     "metadata": {},
     "output_type": "execute_result"
    }
   ],
   "source": [
    "#: proportion experiencing relief\n",
    "relief = back.group('Group', np.mean)\n",
    "relief"
   ]
  },
  {
   "cell_type": "code",
   "execution_count": 17,
   "metadata": {},
   "outputs": [
    {
     "data": {
      "text/plain": [
       "0.475"
      ]
     },
     "execution_count": 17,
     "metadata": {},
     "output_type": "execute_result"
    }
   ],
   "source": [
    "#: the observed group difference\n",
    "reliefs = relief.column('Result mean')\n",
    "observed_difference = reliefs.item(1) - reliefs.item(0)\n",
    "observed_difference"
   ]
  },
  {
   "cell_type": "markdown",
   "metadata": {
    "slideshow": {
     "slide_type": "slide"
    }
   },
   "source": [
    "## The simulation"
   ]
  },
  {
   "cell_type": "code",
   "execution_count": 18,
   "metadata": {},
   "outputs": [],
   "source": [
    "#: run a permutation test\n",
    "n_repetitions = 500\n",
    "\n",
    "differences = make_array()\n",
    "\n",
    "for i in np.arange(n_repetitions):\n",
    "    # permute the results\n",
    "    shuffled_results = (\n",
    "        back\n",
    "        .sample(with_replacement=False)\n",
    "        .column('Result')\n",
    "    )\n",
    "    \n",
    "    shuffled = back.with_column('Result', shuffled_results)\n",
    "    \n",
    "    # compute the statistic\n",
    "    relief = shuffled.group('Group', np.mean).column('Result mean')\n",
    "    difference = relief.item(1) - relief.item(0)\n",
    "    differences = np.append(differences, difference)"
   ]
  },
  {
   "cell_type": "markdown",
   "metadata": {
    "slideshow": {
     "slide_type": "slide"
    }
   },
   "source": [
    "## Conclusion"
   ]
  },
  {
   "cell_type": "code",
   "execution_count": 19,
   "metadata": {},
   "outputs": [
    {
     "data": {
      "text/plain": [
       "<matplotlib.collections.PathCollection at 0x265861e4c18>"
      ]
     },
     "execution_count": 19,
     "metadata": {},
     "output_type": "execute_result"
    },
    {
     "data": {
      "image/png": "[encoded data removed]",
      "text/plain": [
       "<Figure size 432x288 with 1 Axes>"
      ]
     },
     "metadata": {},
     "output_type": "display_data"
    }
   ],
   "source": [
    "#: draw a histogram\n",
    "Table().with_column('Differences', differences).hist()\n",
    "plt.scatter(observed_difference, 0, color='red', s=40)"
   ]
  },
  {
   "cell_type": "code",
   "execution_count": 20,
   "metadata": {},
   "outputs": [
    {
     "data": {
      "text/plain": [
       "0.006"
      ]
     },
     "execution_count": 20,
     "metadata": {},
     "output_type": "execute_result"
    }
   ],
   "source": [
    "#: compute a p-value\n",
    "np.count_nonzero(differences >= observed_difference) / n_repetitions"
   ]
  },
  {
   "cell_type": "markdown",
   "metadata": {
    "slideshow": {
     "slide_type": "slide"
    }
   },
   "source": [
    "## Conclusion\n",
    "\n",
    "- We reject the null hypothesis with a high degree of confidence.\n",
    "- This is evidence that the treatment *caused* improvement.\n",
    "    - *Because* this was an *randomized controlled trial*."
   ]
  },
  {
   "cell_type": "markdown",
   "metadata": {},
   "source": [
    "# Bootstrap Method"
   ]
  },
  {
   "cell_type": "markdown",
   "metadata": {
    "slideshow": {
     "slide_type": "slide"
    }
   },
   "source": [
    "## Question\n",
    "\n",
    "- What is the median salary of San Diego city employees?\n",
    "- All city employee salary data is public."
   ]
  },
  {
   "cell_type": "code",
   "execution_count": 21,
   "metadata": {},
   "outputs": [
    {
     "data": {
      "text/html": [
       "<table border=\"1\" class=\"dataframe\">\n",
       "    <thead>\n",
       "        <tr>\n",
       "            <th>Employee Name</th> <th>Job Title</th> <th>Base Pay</th> <th>Overtime Pay</th> <th>Other Pay</th> <th>Benefits</th> <th>Total Pay</th> <th>Total Pay & Benefits</th> <th>Year</th> <th>Notes</th> <th>Agency</th> <th>Status</th>\n",
       "        </tr>\n",
       "    </thead>\n",
       "    <tbody>\n",
       "        <tr>\n",
       "            <td>David P Gerboth  </td> <td>Fire Battalion Chief    </td> <td>81917   </td> <td>172590      </td> <td>68870    </td> <td>5194    </td> <td>323377   </td> <td>328571              </td> <td>2017</td> <td>nan  </td> <td>San Diego</td> <td>FT    </td>\n",
       "        </tr>\n",
       "        <tr>\n",
       "            <td>Glen A Bartolome </td> <td>Fire Captain            </td> <td>85904   </td> <td>120682      </td> <td>99408    </td> <td>10107   </td> <td>305994   </td> <td>316101              </td> <td>2017</td> <td>nan  </td> <td>San Diego</td> <td>FT    </td>\n",
       "        </tr>\n",
       "        <tr>\n",
       "            <td>Scott C Chadwick </td> <td>Chief Operating Officer </td> <td>255000  </td> <td>0           </td> <td>31164    </td> <td>22688   </td> <td>286164   </td> <td>308852              </td> <td>2017</td> <td>nan  </td> <td>San Diego</td> <td>FT    </td>\n",
       "        </tr>\n",
       "        <tr>\n",
       "            <td>David W Pilkerton</td> <td>Fire Battalion Chief    </td> <td>100110  </td> <td>118798      </td> <td>62895    </td> <td>18746   </td> <td>281803   </td> <td>300549              </td> <td>2017</td> <td>nan  </td> <td>San Diego</td> <td>FT    </td>\n",
       "        </tr>\n",
       "        <tr>\n",
       "            <td>Daniel S Reeves  </td> <td>Fire Captain            </td> <td>41389   </td> <td>196284      </td> <td>42027    </td> <td>20125   </td> <td>279700   </td> <td>299825              </td> <td>2017</td> <td>nan  </td> <td>San Diego</td> <td>PT    </td>\n",
       "        </tr>\n",
       "        <tr>\n",
       "            <td>Edward S Jones   </td> <td>Fire Captain            </td> <td>46020   </td> <td>171896      </td> <td>59944    </td> <td>19669   </td> <td>277860   </td> <td>297529              </td> <td>2017</td> <td>nan  </td> <td>San Diego</td> <td>PT    </td>\n",
       "        </tr>\n",
       "        <tr>\n",
       "            <td>Richard L Ballard</td> <td>Fire Battalion Chief    </td> <td>99629   </td> <td>93528       </td> <td>61055    </td> <td>16630   </td> <td>254212   </td> <td>270842              </td> <td>2017</td> <td>nan  </td> <td>San Diego</td> <td>FT    </td>\n",
       "        </tr>\n",
       "        <tr>\n",
       "            <td>Mark A Hovey     </td> <td>Retirement Administrator</td> <td>240000  </td> <td>0           </td> <td>6190     </td> <td>21909   </td> <td>246190   </td> <td>268099              </td> <td>2017</td> <td>nan  </td> <td>San Diego</td> <td>FT    </td>\n",
       "        </tr>\n",
       "        <tr>\n",
       "            <td>Adrian A Blackson</td> <td>Fire Captain            </td> <td>44280   </td> <td>196978      </td> <td>16933    </td> <td>8304    </td> <td>258191   </td> <td>266495              </td> <td>2017</td> <td>nan  </td> <td>San Diego</td> <td>PT    </td>\n",
       "        </tr>\n",
       "        <tr>\n",
       "            <td>Stacey D Lomedico</td> <td>Asst Chief Oper Ofcr    </td> <td>215000  </td> <td>0           </td> <td>20352    </td> <td>30087   </td> <td>235352   </td> <td>265439              </td> <td>2017</td> <td>nan  </td> <td>San Diego</td> <td>FT    </td>\n",
       "        </tr>\n",
       "    </tbody>\n",
       "</table>\n",
       "<p>... (11174 rows omitted)</p>"
      ],
      "text/plain": [
       "Employee Name     | Job Title                | Base Pay | Overtime Pay | Other Pay | Benefits | Total Pay | Total Pay & Benefits | Year | Notes | Agency    | Status\n",
       "David P Gerboth   | Fire Battalion Chief     | 81917    | 172590       | 68870     | 5194     | 323377    | 328571               | 2017 | nan   | San Diego | FT\n",
       "Glen A Bartolome  | Fire Captain             | 85904    | 120682       | 99408     | 10107    | 305994    | 316101               | 2017 | nan   | San Diego | FT\n",
       "Scott C Chadwick  | Chief Operating Officer  | 255000   | 0            | 31164     | 22688    | 286164    | 308852               | 2017 | nan   | San Diego | FT\n",
       "David W Pilkerton | Fire Battalion Chief     | 100110   | 118798       | 62895     | 18746    | 281803    | 300549               | 2017 | nan   | San Diego | FT\n",
       "Daniel S Reeves   | Fire Captain             | 41389    | 196284       | 42027     | 20125    | 279700    | 299825               | 2017 | nan   | San Diego | PT\n",
       "Edward S Jones    | Fire Captain             | 46020    | 171896       | 59944     | 19669    | 277860    | 297529               | 2017 | nan   | San Diego | PT\n",
       "Richard L Ballard | Fire Battalion Chief     | 99629    | 93528        | 61055     | 16630    | 254212    | 270842               | 2017 | nan   | San Diego | FT\n",
       "Mark A Hovey      | Retirement Administrator | 240000   | 0            | 6190      | 21909    | 246190    | 268099               | 2017 | nan   | San Diego | FT\n",
       "Adrian A Blackson | Fire Captain             | 44280    | 196978       | 16933     | 8304     | 258191    | 266495               | 2017 | nan   | San Diego | PT\n",
       "Stacey D Lomedico | Asst Chief Oper Ofcr     | 215000   | 0            | 20352     | 30087    | 235352    | 265439               | 2017 | nan   | San Diego | FT\n",
       "... (11174 rows omitted)"
      ]
     },
     "execution_count": 21,
     "metadata": {},
     "output_type": "execute_result"
    }
   ],
   "source": [
    "#: read in the data\n",
    "population = Table.read_table('salaries.csv')\n",
    "population"
   ]
  },
  {
   "cell_type": "markdown",
   "metadata": {
    "slideshow": {
     "slide_type": "slide"
    }
   },
   "source": [
    "## The median salary\n",
    "\n",
    "- We can use `np.median()`:"
   ]
  },
  {
   "cell_type": "code",
   "execution_count": 22,
   "metadata": {},
   "outputs": [
    {
     "data": {
      "text/plain": [
       "66665.5"
      ]
     },
     "execution_count": 22,
     "metadata": {},
     "output_type": "execute_result"
    }
   ],
   "source": [
    "#...population_median\n",
    "# the median of the \"Total Pay\" column\n",
    "population_median = np.median(population.column('Total Pay'))\n",
    "population_median"
   ]
  },
  {
   "cell_type": "markdown",
   "metadata": {
    "slideshow": {
     "slide_type": "slide"
    }
   },
   "source": [
    "## But now...\n",
    "\n",
    "- ...suppose we don't have access to this data.\n",
    "- It is costly and time-consuming to survey *all* 11,000+ employees.\n",
    "- So we gather salaries for a random sample of, say, 500 people.\n",
    "- Hope the median of the sample $\\approx$ median of the population."
   ]
  },
  {
   "cell_type": "markdown",
   "metadata": {
    "slideshow": {
     "slide_type": "slide"
    }
   },
   "source": [
    "## In the language of statistics...\n",
    "\n",
    "- The full table of salaries is the **population**.\n",
    "- We observe a **sample** of 500 salaries from the population.\n",
    "- We really want the population median, but we don't have the whole population.\n",
    "- So we compute sample median as an **estimate**.\n",
    "- Hopefully the sample median is close to the population median."
   ]
  },
  {
   "cell_type": "markdown",
   "metadata": {
    "slideshow": {
     "slide_type": "slide"
    }
   },
   "source": [
    "## The sample median\n",
    "\n",
    "- Let's survey 500 employees at random.\n",
    "- We can use `.sample()`:"
   ]
  },
  {
   "cell_type": "code",
   "execution_count": 29,
   "metadata": {},
   "outputs": [],
   "source": [
    "#: take a sample of size 500\n",
    "sample = population.sample(500, with_replacement=False)"
   ]
  },
  {
   "cell_type": "code",
   "execution_count": 30,
   "metadata": {},
   "outputs": [
    {
     "data": {
      "text/plain": [
       "63990.0"
      ]
     },
     "execution_count": 30,
     "metadata": {},
     "output_type": "execute_result"
    }
   ],
   "source": [
    "#: compute the sample median\n",
    "sample_median = np.median(sample.column('Total Pay'))\n",
    "sample_median"
   ]
  },
  {
   "cell_type": "markdown",
   "metadata": {
    "slideshow": {
     "slide_type": "slide"
    }
   },
   "source": [
    "## How confident are we?\n",
    "\n",
    "- Our estimate depended on a random sample.\n",
    "- If our sample was different, our estimate would've been different, too.\n",
    "- **How different could the estimate have been?**\n",
    "- Our confidence in the estimate depends on the answer."
   ]
  },
  {
   "cell_type": "markdown",
   "metadata": {
    "slideshow": {
     "slide_type": "slide"
    }
   },
   "source": [
    "## The sample median is random\n",
    "\n",
    "- The sample median is a random number.\n",
    "- It comes from some distribution, which we don't know.\n",
    "- How different could the estimate have been?\n",
    "    - \"Narrow\" distribution $\\Rightarrow$ not too different\n",
    "    - \"Wide\" distribution $\\Rightarrow$ quite different\n",
    "- **What is the distribution of the sample median?**"
   ]
  },
  {
   "cell_type": "markdown",
   "metadata": {
    "slideshow": {
     "slide_type": "slide"
    }
   },
   "source": [
    "## A (costly) approach\n",
    "\n",
    "- Every sample of 500 people gives me one observation of the sample median.\n",
    "- So draw a bunch of samples, compute medians."
   ]
  },
  {
   "cell_type": "code",
   "execution_count": 31,
   "metadata": {},
   "outputs": [],
   "source": [
    "#: imports for animation\n",
    "from lecture import sampling_animation\n",
    "from IPython.display import HTML"
   ]
  },
  {
   "cell_type": "code",
   "execution_count": 32,
   "metadata": {},
   "outputs": [],
   "source": [
    "%%capture\n",
    "anim, sample_medians = sampling_animation(population)"
   ]
  },
  {
   "cell_type": "code",
   "execution_count": 33,
   "metadata": {},
   "outputs": [
    {
     "data": {
      "text/html": [
       "\n",
       "<link rel=\"stylesheet\"\n",
       "href=\"https://maxcdn.bootstrapcdn.com/font-awesome/4.4.0/\n",
       "css/font-awesome.min.css\">\n",
       "<script language=\"javascript\">\n",
       "  /* Define the Animation class */\n",
       "  function Animation(frames, img_id, slider_id, interval, loop_select_id){\n",
       "    this.img_id = img_id;\n",
       "    this.slider_id = slider_id;\n",
       "    this.loop_select_id = loop_select_id;\n",
       "    this.interval = interval;\n",
       "    this.current_frame = 0;\n",
       "    this.direction = 0;\n",
       "    this.timer = null;\n",
       "    this.frames = new Array(frames.length);\n",
       "\n",
       "    for (var i=0; i<frames.length; i++)\n",
       "    {\n",
       "     this.frames[i] = new Image();\n",
       "     this.frames[i].src = frames[i];\n",
       "    }\n",
       "    document.getElementById(this.slider_id).max = this.frames.length - 1;\n",
       "    this.set_frame(this.current_frame);\n",
       "  }\n",
       "\n",
       "  Animation.prototype.get_loop_state = function(){\n",
       "    var button_group = document[this.loop_select_id].state;\n",
       "    for (var i = 0; i < button_group.length; i++) {\n",
       "        var button = button_group[i];\n",
       "        if (button.checked) {\n",
       "            return button.value;\n",
       "        }\n",
       "    }\n",
       "    return undefined;\n",
       "  }\n",
       "\n",
       "  Animation.prototype.set_frame = function(frame){\n",
       "    this.current_frame = frame;\n",
       "    document.getElementById(this.img_id).src =\n",
       "            this.frames[this.current_frame].src;\n",
       "    document.getElementById(this.slider_id).value = this.current_frame;\n",
       "  }\n",
       "\n",
       "  Animation.prototype.next_frame = function()\n",
       "  {\n",
       "    this.set_frame(Math.min(this.frames.length - 1, this.current_frame + 1));\n",
       "  }\n",
       "\n",
       "  Animation.prototype.previous_frame = function()\n",
       "  {\n",
       "    this.set_frame(Math.max(0, this.current_frame - 1));\n",
       "  }\n",
       "\n",
       "  Animation.prototype.first_frame = function()\n",
       "  {\n",
       "    this.set_frame(0);\n",
       "  }\n",
       "\n",
       "  Animation.prototype.last_frame = function()\n",
       "  {\n",
       "    this.set_frame(this.frames.length - 1);\n",
       "  }\n",
       "\n",
       "  Animation.prototype.slower = function()\n",
       "  {\n",
       "    this.interval /= 0.7;\n",
       "    if(this.direction > 0){this.play_animation();}\n",
       "    else if(this.direction < 0){this.reverse_animation();}\n",
       "  }\n",
       "\n",
       "  Animation.prototype.faster = function()\n",
       "  {\n",
       "    this.interval *= 0.7;\n",
       "    if(this.direction > 0){this.play_animation();}\n",
       "    else if(this.direction < 0){this.reverse_animation();}\n",
       "  }\n",
       "\n",
       "  Animation.prototype.anim_step_forward = function()\n",
       "  {\n",
       "    this.current_frame += 1;\n",
       "    if(this.current_frame < this.frames.length){\n",
       "      this.set_frame(this.current_frame);\n",
       "    }else{\n",
       "      var loop_state = this.get_loop_state();\n",
       "      if(loop_state == \"loop\"){\n",
       "        this.first_frame();\n",
       "      }else if(loop_state == \"reflect\"){\n",
       "        this.last_frame();\n",
       "        this.reverse_animation();\n",
       "      }else{\n",
       "        this.pause_animation();\n",
       "        this.last_frame();\n",
       "      }\n",
       "    }\n",
       "  }\n",
       "\n",
       "  Animation.prototype.anim_step_reverse = function()\n",
       "  {\n",
       "    this.current_frame -= 1;\n",
       "    if(this.current_frame >= 0){\n",
       "      this.set_frame(this.current_frame);\n",
       "    }else{\n",
       "      var loop_state = this.get_loop_state();\n",
       "      if(loop_state == \"loop\"){\n",
       "        this.last_frame();\n",
       "      }else if(loop_state == \"reflect\"){\n",
       "        this.first_frame();\n",
       "        this.play_animation();\n",
       "      }else{\n",
       "        this.pause_animation();\n",
       "        this.first_frame();\n",
       "      }\n",
       "    }\n",
       "  }\n",
       "\n",
       "  Animation.prototype.pause_animation = function()\n",
       "  {\n",
       "    this.direction = 0;\n",
       "    if (this.timer){\n",
       "      clearInterval(this.timer);\n",
       "      this.timer = null;\n",
       "    }\n",
       "  }\n",
       "\n",
       "  Animation.prototype.play_animation = function()\n",
       "  {\n",
       "    this.pause_animation();\n",
       "    this.direction = 1;\n",
       "    var t = this;\n",
       "    if (!this.timer) this.timer = setInterval(function() {\n",
       "        t.anim_step_forward();\n",
       "    }, this.interval);\n",
       "  }\n",
       "\n",
       "  Animation.prototype.reverse_animation = function()\n",
       "  {\n",
       "    this.pause_animation();\n",
       "    this.direction = -1;\n",
       "    var t = this;\n",
       "    if (!this.timer) this.timer = setInterval(function() {\n",
       "        t.anim_step_reverse();\n",
       "    }, this.interval);\n",
       "  }\n",
       "</script>\n",
       "\n",
       "<div class=\"animation\" align=\"center\">\n",
       "    <img id=\"_anim_img3e426e2a597d441890304b4998051e71\">\n",
       "    <br>\n",
       "    <input id=\"_anim_slider3e426e2a597d441890304b4998051e71\" type=\"range\" style=\"width:350px\"\n",
       "           name=\"points\" min=\"0\" max=\"1\" step=\"1\" value=\"0\"\n",
       "           onchange=\"anim3e426e2a597d441890304b4998051e71.set_frame(parseInt(this.value));\"></input>\n",
       "    <br>\n",
       "    <button onclick=\"anim3e426e2a597d441890304b4998051e71.slower()\"><i class=\"fa fa-minus\"></i></button>\n",
       "    <button onclick=\"anim3e426e2a597d441890304b4998051e71.first_frame()\"><i class=\"fa fa-fast-backward\">\n",
       "        </i></button>\n",
       "    <button onclick=\"anim3e426e2a597d441890304b4998051e71.previous_frame()\">\n",
       "        <i class=\"fa fa-step-backward\"></i></button>\n",
       "    <button onclick=\"anim3e426e2a597d441890304b4998051e71.reverse_animation()\">\n",
       "        <i class=\"fa fa-play fa-flip-horizontal\"></i></button>\n",
       "    <button onclick=\"anim3e426e2a597d441890304b4998051e71.pause_animation()\"><i class=\"fa fa-pause\">\n",
       "        </i></button>\n",
       "    <button onclick=\"anim3e426e2a597d441890304b4998051e71.play_animation()\"><i class=\"fa fa-play\"></i>\n",
       "        </button>\n",
       "    <button onclick=\"anim3e426e2a597d441890304b4998051e71.next_frame()\"><i class=\"fa fa-step-forward\">\n",
       "        </i></button>\n",
       "    <button onclick=\"anim3e426e2a597d441890304b4998051e71.last_frame()\"><i class=\"fa fa-fast-forward\">\n",
       "        </i></button>\n",
       "    <button onclick=\"anim3e426e2a597d441890304b4998051e71.faster()\"><i class=\"fa fa-plus\"></i></button>\n",
       "  <form action=\"#n\" name=\"_anim_loop_select3e426e2a597d441890304b4998051e71\" class=\"anim_control\">\n",
       "    <input type=\"radio\" name=\"state\"\n",
       "           value=\"once\" > Once </input>\n",
       "    <input type=\"radio\" name=\"state\"\n",
       "           value=\"loop\" checked> Loop </input>\n",
       "    <input type=\"radio\" name=\"state\"\n",
       "           value=\"reflect\" > Reflect </input>\n",
       "  </form>\n",
       "</div>\n",
       "\n",
       "\n",
       "<script language=\"javascript\">\n",
       "  /* Instantiate the Animation class. */\n",
       "  /* The IDs given should match those used in the template above. */\n",
       "  (function() {\n",
       "    var img_id = \"_anim_img3e426e2a597d441890304b4998051e71\";\n",
       "    var slider_id = \"_anim_slider3e426e2a597d441890304b4998051e71\";\n",
       "    var loop_select_id = \"_anim_loop_select3e426e2a597d441890304b4998051e71\";\n",
       "    var frames = new Array(9);\n",
       "    \n",
       "  frames[0] = \"data:image/png;base64,iVBORw0KGgoAAAANSUhEUgAAAbAAAAEgCAYAAADVKCZpAAAABHNCSVQICAgIfAhkiAAAAAlwSFlz\\\n",
       "AAALEgAACxIB0t1+/AAAADl0RVh0U29mdHdhcmUAbWF0cGxvdGxpYiB2ZXJzaW9uIDMuMC4yLCBo\\\n",
       "dHRwOi8vbWF0cGxvdGxpYi5vcmcvOIA7rQAAHKRJREFUeJzt3XtUVWX+x/EPctc0kABRQUZEGC9I\\\n",
       "moKGltFEWmaW4axkxlyKNtrN0dLSMi8z6FhamTNd1Cldak3aCIyOloWGQGgXvKaiDabmLeKQmBfA\\\n",
       "/fvDH2c4goITCI+8X2uxZrXP4z7PF1u8zz5n0zjZbDZLAAAYplFdbwAAgP8FAQMAGImAAQCMRMAA\\\n",
       "AEYiYAAAIxEwAICRCBgAwEgEDABgJAIGADASAQMAGImAAQCMRMAAAEYiYAAAIxEwoB5JSkqSl5eX\\\n",
       "0tPT63orQL1HwABcc8XFxfrb3/6mMWPGKCYmRr6+vvLy8tLixYvremswiEtdbwBAw3P69Gk9++yz\\\n",
       "kiQ/Pz/5+/vr8OHDdbwrmIYrMADXXOPGjfXBBx9oz5492rdvn4YOHVrXW4KBCBhq3MGDB+Xl5aV7\\\n",
       "7rlH+fn5evLJJxUWFiY/Pz9FR0dryZIlv+j86enpGjJkiDp27Cg/Pz+1a9dOt99+uyZPnizL+u//\\\n",
       "wfjRo0c1a9Ys3XXXXWrfvr18fX0VHh6uESNG6Jtvvrnivk+cOKGxY8cqNDRULVu21F133aWMjAxJ\\\n",
       "UlFRkZ577jl16tRJfn5+ioqK0urVqyucb9myZfLy8lJSUpK2bNmigQMHKjAwUIGBgRo8eLBycnKu\\\n",
       "au5vv/1Wjz/+uP15Q0JCNHTo0ErPU1hYqNmzZ6tnz54KDAxUq1atFBERoYSEhHrx+Zqbm5t+85vf\\\n",
       "qEWLFnW9FRiMtxBRawoLCxUXFyc3Nzfdd999OnfunJKTk/XEE0+oUaNGSkhIuOpzfvTRRxoyZIia\\\n",
       "Nm2qfv36qVWrVrLZbDpw4IDefPNNTZs2TS4uF/+1zszM1KuvvqrevXvrvvvuU+PGjXXgwAElJyfr\\\n",
       "3//+t9atW6eIiIjL7tvb21sPPfSQvv/+eyUnJ+vBBx/URx99pKeeeko///yz+vfvr1OnTmnVqlUa\\\n",
       "Pny4WrVqpe7du1c435dffql58+apb9++SkxM1IEDB5SamqqMjAytXr1aUVFRVc69adMmDR06VGfP\\\n",
       "nlVcXJxCQkJ09OhRpaamasOGDVq+fLliY2MlSZZlafDgwdq6dau6deumhIQEubm56ejRo8rMzNSm\\\n",
       "TZvUu3fvq/7eA/UNAUOt2blzpx555BG9/PLLcnZ2liSNGTNGt956q1577bX/KWBLliyRZVlKTU1V\\\n",
       "ly5dHB778ccf7fGSpD59+mjfvn1q2rSpw7qcnBz1799f06ZN06pVqyrd9+jRozVr1iw5OTlJkubO\\\n",
       "navp06fr3nvvVd++fbVw4UK5urpKku644w4lJibqlVde0bJlyyqcb8OGDZozZ44SExPtx5KTkzVs\\\n",
       "2DA99thj2rJli/15KlNYWKjhw4fL1dVVGzZsUHh4uP2xvXv3KjY2VmPHjtW2bdvk7u6uXbt2aevW\\\n",
       "rerXr59WrFjhcC7LslRQUHDZ5ypv+/btWrNmTbXWlnn44YfVpk2bq/ozwP+KgKHWNG7cWDNnzrTH\\\n",
       "S5LCw8MVHR2tjIwMnTp1qkJcqtKoUSP7uS/VvHlzh3/29fWt9ByRkZHq3bu3Nm7cqOLiYnuIyjRp\\\n",
       "0kQvvPCCQ1Ti4+M1ffp0/fTTT5o5c6bDn3nggQc0ZswY7dixo9Lna9u2rUaMGOFwbODAgYqKilJ2\\\n",
       "drays7MVHR192Znfe+89/fjjj5o1a5ZDvCQpLCxMv//97/XXv/5VGzduVFxc3BW/R05OThW+T5ez\\\n",
       "Y8cOzZ49u1pry8TExBAwXDMEDLUmJCREN9xwQ4XjrVq1knTxyuJqAxYfH6+UlBTFxsZq0KBB6t27\\\n",
       "t7p3737ZH5rr16/X4sWLlZOTo/z8fJWUlDg8np+fX+FzmJCQEDVp0sThWNkaLy8vBQYGOjzm7Ows\\\n",
       "X19fff/995XuoWfPnvaolNerVy9lZ2dr+/btVwxYdna2JGnXrl1KSkqq8Pj+/fslSfv27VNcXJzC\\\n",
       "wsIUGRmpVatW6bvvvlP//v0VFRWlrl27ysPD47LPc6mhQ4dycwXqNQKGWtOsWbNKj5ddkZWWll71\\\n",
       "Oe+9916tWrVK8+fP14oVK/Tuu+9Kkjp06KCJEydq4MCB9rVvvPGGJk2aJC8vL/Xt21eBgYHy8PCQ\\\n",
       "k5OT1qxZo507d+rcuXMVnqOyqJa9NXm54Do7O1eIYxk/P79Kj5ddIf70009XmPjiW6OStHTp0iuu\\\n",
       "O336tH0vq1ev1ssvv6zVq1dr2rRpki5ekQ0aNEjTp0+Xj4/PFc8FmICAwTixsbGKjY3VmTNn9OWX\\\n",
       "X2rDhg1atGiRHnnkEaWmpiomJkYlJSVKSkqSv7+/Nm3aVOEqa+vWrddsvydOnKj0+MmTJyVdPvRl\\\n",
       "yh7fuHGjIiMjq/WcXl5emjFjhmbMmKG8vDxlZmZq6dKlWrZsmQ4dOqSUlJQqz8FnYKjvCBiM5enp\\\n",
       "qZiYGMXExCg4OFhPPfWU1q5dq5iYGOXn56uwsFB9+vSpEK+ioiJt27btmu3z888/14ULFyq8jZiZ\\\n",
       "mSlJld4JWV737t2VkpKirKysagesvODgYAUHBys+Pl6RkZH67LPPVFhYqBtvvPGKf47PwFDf8Xtg\\\n",
       "MMrGjRv1888/Vzh+/PhxSbJ/xuPr66vGjRvr66+/VlFRkX1dcXGxJk2apPz8/GuzYUkHDhzQokWL\\\n",
       "HI4lJycrOztboaGhVd5Gn5CQIC8vL82ZM0dbtmyp8LhlWcrKytL58+clSXl5edq9e3eFdUVFRTp9\\\n",
       "+rRcXFwc7ta8nKFDh8pms13VF7fn41riCgxGmTJlir777jvdeuutCgoKkoeHh3bt2qVPPvlEzZs3\\\n",
       "17BhwyRdvFtx9OjRmjdvnnr16qX+/furuLhY6enpKigoUO/eva/ZL/TeeeedmjJlijZs2KCOHTva\\\n",
       "fw/M09NT8+fPv+It9JLk7e2tJUuWKCEhQXfddZf69Omj8PBwubq66siRI/riiy90+PBh5eXlyc3N\\\n",
       "TTt37lRCQoIiIiLUoUMHBQQEyGazaf369SooKNDYsWMr3KRSF+bNm6d9+/ZJkv0OzhUrVtjf3m3f\\\n",
       "vr3GjRtXZ/tD/UfAYJTx48drzZo1+vrrr+0Batmypf7whz9ozJgxat26tX3t5MmT5ePjo6VLl+qd\\\n",
       "d95Rs2bNdPvtt2vKlCmV3s1XW7p166ZnnnlGM2fO1FtvvSVJ6tu3r55//vlqvyXYp08fZWRk6PXX\\\n",
       "X9cnn3yiLVu2yMXFRf7+/urevbumTp1q/6zs5ptv1vjx47V582alpaWpoKBAzZs3V/v27fXnP/9Z\\\n",
       "999/f63NejU2bNhg/6+blNm6das9YLfeeisBwxU52Ww2q+plAK7WsmXLNHbsWE2cONH+H64FUHP4\\\n",
       "DAwAYCQCBgAwEp+BoU4dPHhQy5cvr9ZafscIQHl8BoY6lZ6ergEDBlRrbWpqKrdpA7AjYAAAI/EZ\\\n",
       "GADASAQMAGAkAvb/cnNz63oLdaahzt5Q55Ya7uwNdW7p+pydgAEAjETAAABGImAAACMRMACAkQgY\\\n",
       "AMBIBAwAYCQCBgAwEgEDABiJgAEAjETAAABGImAAACMRMACAkQgYAMBIBAwAYCQCBgAwEgEDABiJ\\\n",
       "gAEAjETAAABGImAAACMRMACAkQgYAMBIBAwAYCQCBgAwEgEDABiJgAEAjETAAABGImAAACMRMACA\\\n",
       "kZxsNptV15u4VG5ubl1vAQBQA0JDQ2vt3PUyYHUhNze3Vr/R9VlDnb2hzi013Nkb6tzS9Tk7byEC\\\n",
       "AIxEwAAARiJgAAAjETAAgJEIGADASAQMAGAkAgYAMBIBAwAYiYABAIxEwAAARiJgAAAjETAAgJEI\\\n",
       "GADASAQMAGAkAgYAMBIBAwAYiYABAIxEwAAARiJgAAAjETAAgJEIGADASAQMAGAkAgYAMBIBAwAY\\\n",
       "iYABAIxEwAAARiJgAAAjETAAgJEIGADASAQMAGAkAgYAMBIBAwAYiYABAIxEwAAARiJgAAAjETAA\\\n",
       "gJEIGADASAQMAGAkAgYAMBIBAwAYiYABAIzkZLPZrLrexKVyc3PregsAgBoQGhpaa+eulwGrC7m5\\\n",
       "ubX6ja7PGursDXVuqeHO3lDnlq7P2XkLEQBgJAIGADASAQMAGImAAQCMRMAAAEYiYAAAIxEwAICR\\\n",
       "CBgAwEgEDABgJAIGADASAQMAGImAAQCMRMAAAEYiYAAAIxEwAICRCBgAwEgEDABgJAIGADASAQMA\\\n",
       "GImAAQCMRMAAAEYiYAAAIxEwAICRCBgAwEgEDABgJAIGADASAQMAGImAAQCMRMAAAEYiYAAAIxEw\\\n",
       "AICRCBgAwEgEDABgJAIGADASAQNqSf7Z0qs6DuDqEDCgFmQfP6eFe05rd0Gxw/HdBcVauOe0so+f\\\n",
       "q6OdAdcPl7reAHC9yT5+Tp9+fzFQKXlnJEkdvF21u6BYKXlnZEn2x6P83etqm4DxCBhQg/LPlmrj\\\n",
       "0f9eXVm6GLFvCoqVW1giq9zajUfPqd2NLvLxcL7m+wSuB7yFCNQgHw9nDWjjKadyxyxJ+y6Jl5Ok\\\n",
       "AW08iRfwCxAwoIZ18HbVfcGOESvPSdJ9wZ7q4O16LbcFXHecbDabVfWyays3N7eutwD8Yh+ddFbe\\\n",
       "zxVfIwY3vqC7fLkTEQ1DaGhorZ27Xn4GVpsDX05ubm6dPG990FBnr825dxcU61TRGTX3rPjYKUnF\\\n",
       "N9XtFRh/5w3P9Tg7byECNaz83YaVKbux49Jb7AFcHQIG1KD8s6VKPXimwg0b7W90qXBjR+rBM/xS\\\n",
       "M/ALEDCgBvl4OOv2gP/+blfZDRsPtm1c4caO2wPcuQsR+AXq5WdggMnKfjl549FzGtDmv591lf1v\\\n",
       "6sEzuj3AnV9iBn4hAgbUgih/90p/SbmDt6v8PRtx5QXUAN5CBGrJ5SJFvICaQcAAAEYiYAAAIxEw\\\n",
       "AICRCBgAwEgEDABgJAIGADASAQMAGImAAQCMRMAAAEYiYAAAIxEwAICRCBgAwEgEDABgJAIGADAS\\\n",
       "AQMAGImAAQCMRMAAAEYiYAAAIxEwAICRCBgAwEgEDABgJAIGADASAQMAGImAAQCMRMAAAEYiYAAA\\\n",
       "IxEwAICRCBgAwEgEDABgJAIGADASAQMAGImAAQCMRMAAAEYiYAAAIxEwAICRnGw2m1XXm7hUbm5u\\\n",
       "XW8BAFADQkNDa+3c9TJgdSE3N7dWv9H1WUOdvaHOLTXc2Rvq3NL1OTtvIQIAjETAAABGImAAACMR\\\n",
       "MACAkQgYAMBIBAwAYCQCBgAwEgEDABiJgAEAjETAAABGImAAACMRMACAkQgYAMBIBAwAYCQCBgAw\\\n",
       "EgEDABiJgAEAjETAAABGImAAACMRMACAkQgYAMBIBAwAYCQCBgAwEgEDABiJgAEAjETAAABGImAA\\\n",
       "ACMRMACAkQgYAMBIBAwAYCQCBgAwEgEDABiJgAEAjETAAABGImAAACMRMACAkQgYAMBIBAwAYCQC\\\n",
       "BgAwEgEDABjJyWazWXW9iUvl5ubW9RYAADUgNDS01s5dLwNWF3Jzc2v1G12fNdTZG+rcUsOdvaHO\\\n",
       "LV2fs/MWIgDASAQMAGAkAgYAMBIBAwAYiYABAIxEwAAARiJgAAAjETAAgJEIGADASAQMAGAkAgYA\\\n",
       "MBIBAwAYiYABAIxEwAAARiJgAAAjETAAgJEIGADASAQMAGAkAgYAMBIBAwAYiYABAIxEwAAARiJg\\\n",
       "AAAjETAAgJEIGADASAQMAGAkAgYAMBIBAwAYiYABAIzkZLPZrLreBAAAV4srMACAkQgYAMBIBAwA\\\n",
       "YCQCBgAwkrEBO3bsmB599FGFhITI399fUVFR2rx5sySpuLhYU6dOVa9evdSyZUuFhYVp5MiROnTo\\\n",
       "kMM5zp07p6efflpt27ZVy5Yt9dvf/lZHjhxxWHPo0CENGTJELVu2VNu2bfXMM8/o/PnzDms2b96s\\\n",
       "2267Tf7+/urSpYsWL15cZ7Nf6sknn5SXl5fmz5/vcNzE2asz9/79+5WQkKCgoCAFBASoT58+2rt3\\\n",
       "r9FzS1XPXlRUpKefflodOnRQixYtdMstt2jBggUO5zBx9s6dO8vLy6vCV3x8vH3NwoULFRERIX9/\\\n",
       "f912223KzMy87ueeO3eu+vbtq8DAQIWEhGjIkCHavXu3wzksy1JSUpLCw8PVokUL3XPPPfrmm28c\\\n",
       "1thsNo0aNUpBQUEKCgrSqFGjZLPZHNbs2rVL/fv3V4sWLfTrX/9as2fPlmXVj3v/jAyYzWZTXFyc\\\n",
       "LMvSP/7xD2VnZ+svf/mLfH19JUk///yztm3bpgkTJmjTpk1avny5jhw5osGDB6ukpMR+nmeffVap\\\n",
       "qalatGiR1q5dq1OnTmnIkCEqLS2VJJWWlmrIkCEqKirS2rVrtWjRIqWkpGjy5Mn2c+Tl5Sk+Pl49\\\n",
       "evTQZ599pj/+8Y965plnlJycXCezl5ecnKyvvvpKAQEBFR4zbfbqzJ2Xl6e4uDi1adNGKSkpysrK\\\n",
       "0pQpU9SkSRNj567u7JMnT9ZHH32kN954Q9nZ2Ro/frymTZum9957z+jZ09LStHfvXvvXpk2b5OTk\\\n",
       "pPvvv1+S9OGHH2rSpEkaP368PvvsM/Xo0UMPPfSQw4vV63HuzZs3a8SIEVq/fr1SUlLk4uKi+++/\\\n",
       "XwUFBfZzvPrqq1qwYIFmz56tTz/9VL6+vho0aJBOnTplXzNy5Eht375dH3zwgVauXKnt27dr9OjR\\\n",
       "9sd/+uknDRo0SH5+fvr00081a9YszZ8/X6+//nqtzH21jLyNfvr06crIyND69eur/Wf27Nmj6Oho\\\n",
       "ZWRkqGPHjiosLFS7du20YMEC+6uaw4cPq3Pnzlq5cqViY2P18ccfKz4+Xjt27FDr1q0lSe+//76e\\\n",
       "eOIJ5ebmqlmzZpo6dapSU1P11Vdf2Z/r8ccf1549e/Txxx/X7OCq/uzfffed4uLitHr1ag0ePFij\\\n",
       "Ro3S448/LklGzl6duUeOHCknJye9/fbblT5u4txS9Wbv2bOnBgwYoOeee85+rH///urYsaPmzJlj\\\n",
       "7OyXeumll/Taa69pz549aty4sWJjY9WxY0e99tpr9jVdu3bVwIEDNXXq1Ot27ksVFRUpKChIy5Yt\\\n",
       "U79+/WRZlsLDw5WYmKgJEyZIks6cOaPQ0FDNmDFDw4cP1969exUVFaV169YpOjpakpSVlaV+/fpp\\\n",
       "69atCg0N1aJFi/Tiiy9q37598vT0lCTNmTNHixcv1u7du+Xk5FTrs1+JkVdga9asUbdu3TR8+HC1\\\n",
       "a9dOMTExeuutt654WVv2qsPLy0uSlJOTo+LiYt1xxx32Na1bt1ZYWJiys7MlSVu2bFFYWJj9X2pJ\\\n",
       "io2N1blz55STk2NfU/4cZWu+/vprFRcX18zA5VRn9pKSEo0cOVITJkxQWFhYhXOYOHtVc1+4cEHr\\\n",
       "1q1TWFiYHnzwQYWEhKhv37768MMPjZ67OrNLUnR0tNatW6fDhw9LkrKzs7Vz507FxsYaPXt5lmVp\\\n",
       "6dKlGjJkiBo3bqzz588rJyenwn7uuOMO+0zX49yVKSoq0oULF+w/3w4ePKjjx4877NnT01O9evVy\\\n",
       "mPuGG25QVFSUfU10dLSaNGnisKZnz572eEkX5z569KgOHjxY47NeLSMDlpeXp0WLFik4OFirVq3S\\\n",
       "o48+qmnTpl32lff58+c1ZcoU3X333WrVqpUk6cSJE3J2dpaPj4/DWl9fX504ccK+5tK35nx8fOTs\\\n",
       "7HzFNb6+viopKVF+fn6NzFtedWZPSkqSt7e3RowYUek5TJy9qrlPnjypoqIi+2cD//znP/Xggw8q\\\n",
       "MTFR69atM3bu6swuSbNnz1bnzp3VqVMn3XTTTbrnnnv04osv6u677zZ69vLS0tJ08OBB/e53v5Mk\\\n",
       "5efnq7S0tNL9lN/v9TZ3ZSZNmqTOnTurR48ekqTjx4/b91jepXP7+Pg4XEU5OTnppptuqnLussfq\\\n",
       "mktdb+B/ceHCBd18882aOnWqJKlLly769ttvtXDhQo0aNcphbUlJiUaNGqXCwkKtWLGiynNbllXh\\\n",
       "L7QyV1pT9sq4Ni6vq5p98+bNWr58udLT06/63PV59qrmvnDhgqSLb5s99thjkqSIiAjl5ORo4cKF\\\n",
       "9h/klanPc0vV+/f9zTffVHZ2tlasWKHAwEBlZmbq+eefV1BQkO68887Lnru+z17eu+++q65duyoi\\\n",
       "IuKyeyvbT1V7uR7mLvPcc8/p888/17p16+Ts7OzwWFXfm8r2XtWaazV3dRh5Bebv71/hrbH27dvb\\\n",
       "3z4pU1JSohEjRmjXrl1KTk5W8+bN7Y/5+fmptLS0wqunH374wf4Kw8/Pr8KrjEtf9VW25ocffpCL\\\n",
       "i4vD89WUqmZPT0/XsWPHFBYWJh8fH/n4+OjQoUOaOnWqOnToYN+zabNXNbePj49cXFyuuMbEuaWq\\\n",
       "Zz9z5oymT5+uadOmqV+/furUqZNGjRqlBx54wH73qamzlzl58qTWrl2rYcOG2Y9depVUfj/l93u9\\\n",
       "zV3es88+q1WrViklJUXBwcH24/7+/pIqXiVdOvcPP/zg8Fa0ZVnKz8+vcm6p4tVdXTAyYNHR0dq/\\\n",
       "f7/Dsf379yswMND+z8XFxRo+fLh27dql1NRU+19omcjISLm6uiotLc1+7MiRI/YPNiWpR48e2rt3\\\n",
       "r8Mtt2lpaXJ3d1dkZKR9zcaNGx3OnZaWpptvvlmurq41Mm95Vc0+cuRIZWRkKD093f4VEBCgMWPG\\\n",
       "2O+YMnH2quZ2c3NT165dlZube9k1Js4tVT17cXGxiouLK7z6dnZ2tl+Zmjp7mWXLlsnd3V0PPPCA\\\n",
       "/Zibm5siIyMdZirbT9lM1+PcZSZOnKiVK1cqJSVF7du3d3isTZs28vf3d5j77NmzysrKcpi7qKhI\\\n",
       "W7Zssa/ZsmWLTp8+7bAmKytLZ8+eta9JS0tTQECA2rRpU6Oz/i+cJ02a9GJdb+JqtW7dWrNnz1aj\\\n",
       "Ro3UokULbdq0STNnztS4cePUrVs3lZSUaNiwYfrqq6+0ZMkSNW3aVKdPn9bp06fl7OwsV1dXeXh4\\\n",
       "6NixY3r77bfVqVMnFRYWaty4cWrWrJmmTZumRo0aKTg4WKmpqfr000/VsWNH7dmzRxMmTNBDDz2k\\\n",
       "AQMGSJJ+9atf6ZVXXtHJkycVGBiotWvX6uWXX9bMmTMVHh5+zWdv0qSJfH19Hb7efPNN3XbbberX\\\n",
       "r58kGTl7VXNLkre3t2bNmiU/Pz81a9ZMKSkpevXVV/WnP/1J7dq1M3Lu6szu7u6u9PR0+00slmVp\\\n",
       "zZo1mjt3rkaPHq1bbrnF2Nmli1cFY8eOVVxcnP028jJNmzZVUlKSWrRoIQ8PD82ZM0eZmZl6/fXX\\\n",
       "deONN163c0+YMEHvvfee3nnnHbVu3dr+8026GHYnJyeVlpZq3rx5ateunUpLSzV58mQdP35cr7zy\\\n",
       "itzd3XXTTTfpiy++0MqVKxUREaEjR45o3Lhx6tq1q/1W+pCQEP3973/Xjh07FBoaqqysLL3wwgt6\\\n",
       "6qmnHG7+qDM2m80y8ev999+3OnbsaLm7u1shISHWrFmzrIKCAstms1nbtm2zJFX6tWDBAvs5jh07\\\n",
       "ZiUmJlre3t6Wp6enFRcXZ+3cudPheXbs2GHFxcVZnp6elre3t5WYmGgdP37cYc2//vUvKyIiwnJz\\\n",
       "c7OCgoKsuXPn1tnslX0FBgZaM2bMcDhm4uzVmXvBggVWSEiI5eHhYXXo0MFauHCh8XNXZ/a9e/da\\\n",
       "Dz/8sBUQEGB5eHhYoaGh1owZMxzWmDp7SkqKJcn65JNPKn38pZdesgIDAy03NzerS5cu1po1a66L\\\n",
       "v/MrzX25n28TJ060rykoKLAmTpxo+fv7W+7u7lavXr2szMxMh/P85z//seLj462mTZtaTZs2teLj\\\n",
       "4628vDyHNRkZGVbPnj0td3d3y9/f35o0adIVf95cyy8jfw8MAAAjPwMDAICAAQCMRMAAAEYiYAAA\\\n",
       "IxEwAICR/g+2IY5d1S6LAwAAAABJRU5ErkJggg==\\\n",
       "\"\n",
       "  frames[1] = \"data:image/png;base64,iVBORw0KGgoAAAANSUhEUgAAAbAAAAEgCAYAAADVKCZpAAAABHNCSVQICAgIfAhkiAAAAAlwSFlz\\\n",
       "AAALEgAACxIB0t1+/AAAADl0RVh0U29mdHdhcmUAbWF0cGxvdGxpYiB2ZXJzaW9uIDMuMC4yLCBo\\\n",
       "dHRwOi8vbWF0cGxvdGxpYi5vcmcvOIA7rQAAHaRJREFUeJzt3XlU1XX+x/EXsmsaiIAb6oSI44Ko\\\n",
       "KWhqIZ1QytQ0nEka8whampVpaWmZy6SOZYs5p0Wb0uNSo41AOlqaGoKhLbimoQ1k5hZxScyF5fv7\\\n",
       "wx93vIICjSwfeT7O4czp3k/f+3l/9dznXb40TjabzRIAAIapU90bAADg9yBgAAAjETAAgJEIGADA\\\n",
       "SAQMAGAkAgYAMBIBAwAYiYABAIxEwAAARiJgAAAjETAAgJEIGADASAQMAGAkAgbUIHPmzJGXl5eS\\\n",
       "k5OreytAjedS3RsAUPt8//33+vjjj7V582YdOXJEJ0+eVIMGDRQaGqpRo0YpOjq6urcIAxAwAFVu\\\n",
       "9uzZ+uijjxQUFKSIiAg1atRIWVlZ9qiNHz9es2bNqu5tooYjYACqXN++fTV+/Hh17tzZ4fYDBw6o\\\n",
       "X79+WrhwoYYMGaLQ0NBq2iFMwHdguO6ysrLk5eWlu+++W9nZ2Xr88ccVHBwsPz8/hYeHa+nSpf/T\\\n",
       "8ZOTkzVs2DC1b99efn5+at26te644w5NnTpVlvXf/4Px48ePa+7cubrrrrvUpk0b+fr6qm3btho1\\\n",
       "apS+/fbba+771KlTGjdunIKCgtS0aVPdddddSklJkSTl5eXp2WefVYcOHeTn56ewsDCtXbu2xPGW\\\n",
       "L18uLy8vzZkzRzt37tTAgQMVEBCggIAADR06VOnp6RWa+/vvv9f48ePtjxsYGKjhw4eXepzc3FzN\\\n",
       "mzdPPXr0UEBAgJo1a6aQkBDFxsbWiO/XYmNjS8RLktq1a6fBgwdLUo3YJ2o23oGh0uTm5ioqKkpu\\\n",
       "bm669957deHCBSUkJOixxx5TnTp1FBsbW+FjfvLJJxo2bJjq16+v/v37q1mzZrLZbDpy5Ijeeust\\\n",
       "zZgxQy4ul/5ap6am6rXXXlPv3r117733qm7dujpy5IgSEhL073//Wxs2bFBISMhV9+3t7a37779f\\\n",
       "P/30kxISEjRkyBB98skneuKJJ/Tbb78pOjpaZ86c0Zo1azRy5Eg1a9ZM3bp1K3G8r776Sq+88ooi\\\n",
       "IiIUHx+vI0eOKCkpSSkpKVq7dq3CwsLKnHvbtm0aPny4zp8/r6ioKAUGBur48eNKSkrSpk2btGLF\\\n",
       "CkVGRkqSLMvS0KFDtWvXLnXt2lWxsbFyc3PT8ePHlZqaqm3btql3794VPvdVxc3NTZLsf47A1fA3\\\n",
       "BJVm3759euihh/Tyyy/L2dlZkjR27Fjddtttev31139XwJYuXSrLspSUlKROnTo53PfLL784POn1\\\n",
       "6dNH3333nerXr++wLj09XdHR0ZoxY4bWrFlT6r7HjBmjuXPnysnJSZK0YMECzZw5U/fcc48iIiK0\\\n",
       "ePFiubq6Srr0cVh8fLxeffVVLV++vMTxNm3apPnz5ys+Pt5+W0JCgkaMGKFHH31UO3futD9OaXJz\\\n",
       "czVy5Ei5urpq06ZNatu2rf2+Q4cOKTIyUuPGjdPu3bvl7u6u/fv3a9euXerfv79WrlzpcCzLspST\\\n",
       "k3PVx7rcnj17tG7dunKtLfbAAw+oZcuWFfp3Lpebm6uEhAQ5OTmpb9++v/s4qB0IGCpN3bp1NXv2\\\n",
       "bHu8JKlt27YKDw9XSkqKzpw5UyIuZalTp4792Fdq2LChwz/7+vqWeozQ0FD17t1bW7duVX5+vj1E\\\n",
       "xerVq6fnn3/eISoxMTGaOXOmfv31V82ePdvh37nvvvs0duxY7d27t9THu+WWWzRq1CiH2wYOHKiw\\\n",
       "sDClpaUpLS1N4eHhV5151apV+uWXXzR37lyHeElScHCw/vKXv+jvf/+7tm7dqqioqGueIycnpxLn\\\n",
       "6Wr27t2refPmlWttsV69ev3ugBUVFenRRx/VqVOnFBcXp+Dg4N91HNQeBAyVJjAwUDfddFOJ25s1\\\n",
       "aybp0qvtigYsJiZGiYmJioyM1ODBg9W7d29169btqk+aGzdu1Lvvvqv09HRlZ2eroKDA4f7s7Gw1\\\n",
       "bty4xL7r1avncFvxGi8vLwUEBDjc5+zsLF9fX/3000+l7qFHjx72qFyuZ8+eSktL0549e64ZsLS0\\\n",
       "NEnS/v37NWfOnBL3Hz58WJL03XffKSoqSsHBwQoNDdWaNWv0ww8/KDo6WmFhYerSpYs8PDyu+jhX\\\n",
       "Gj58uIYPH17u9f8Ly7L05JNPKikpSb169dKLL75YJY8LsxEwVJoGDRqUenvxO7LCwsIKH/Oee+7R\\\n",
       "mjVrtHDhQq1cuVLvv/++pEtf/k+ePFkDBw60r33zzTc1ZcoUeXl5KSIiQgEBAfLw8JCTk5PWrVun\\\n",
       "ffv26cKFCyUeo7SoFn80ebXgOjs7l4hjMT8/v1JvL36H+Ouvv15j4ksfjUrSsmXLrrnu7Nmz9r2s\\\n",
       "XbtWL7/8stauXasZM2ZIuvSObPDgwZo5c6Z8fHyueayqVFRUpMcff1zLli1T7969tWrVKvv3YMC1\\\n",
       "EDAYJzIyUpGRkTp37py++uorbdq0SUuWLNFDDz1kfwVfUFCgOXPmyN/fX9u2bSvxLmvXrl1Vtt9T\\\n",
       "p06Vevvp06clXT30xYrv37p1a7kvK/fy8tKsWbM0a9YsZWZmKjU1VcuWLdPy5ct19OhRJSYmlnmM\\\n",
       "qvgOrLCwUI888og+/PBDRUREaMWKFfL09KzQY6L2ImAwlqenp3r16qVevXqpVatWeuKJJ7R+/Xr1\\\n",
       "6tVL2dnZys3NVZ8+fUrEKy8vT7t3766yfX7xxRcqKioq8TFiamqqJJV6JeTlunXrpsTERO3YseN3\\\n",
       "/V5Uq1at1KpVK8XExCg0NFSff/65cnNzdfPNN1/z36vs78Dy8/MVFxenhIQE9evXT++//77c3d0r\\\n",
       "9Hio3fg9MBhl69at+u2330rcfvLkSUmyf8fj6+urunXr6ptvvlFeXp59XX5+vqZMmaLs7Oyq2bCk\\\n",
       "I0eOaMmSJQ63JSQkKC0tTUFBQWVeRh8bGysvLy/Nnz9fO3fuLHG/ZVnasWOHLl68KEnKzMzUgQMH\\\n",
       "SqzLy8vT2bNn5eLiUq5L1IcPHy6bzVahn/Jenn/hwgU9+OCDSkhI0KBBg7Rs2TLihQrjHRiMMm3a\\\n",
       "NP3www+67bbb1KJFC3l4eGj//v3avHmzGjZsqBEjRki6dLXimDFj9Morr6hnz56Kjo5Wfn6+kpOT\\\n",
       "lZOTo969e1fZL8reeeedmjZtmjZt2qT27dvbfw/M09NTCxcuvOYl9JLk7e2tpUuXKjY2VnfddZf6\\\n",
       "9Omjtm3bytXVVceOHdOXX36pH3/8UZmZmXJzc9O+ffsUGxurkJAQtWvXTk2aNJHNZtPGjRuVk5Oj\\\n",
       "cePGlbhIpapNmDBBGzZsUIMGDdS6dWu99NJLJdZ07NhR99xzTzXsDqYgYDDKxIkTtW7dOn3zzTf2\\\n",
       "ADVt2lSPPPKIxo4dq+bNm9vXTp06VT4+Plq2bJnee+89NWjQQHfccYemTZtW6tV8laVr1656+umn\\\n",
       "NXv2bL399tuSpIiICD333HPl/kiwT58+SklJ0RtvvKHNmzdr586dcnFxkb+/v7p166bp06fbvyvr\\\n",
       "3LmzJk6cqO3bt2vLli3KyclRw4YN1aZNG7344osaNGhQpc1aXllZWZIuXcBSWrwk6c9//jMBwzU5\\\n",
       "2Ww2q+xlACpq+fLlGjdunCZPnqxnnnmmurcD3HD4DgwAYCQCBgAwEt+BoVplZWVpxYoV5Vr7v/53\\\n",
       "9gDcWPgODNUqOTlZAwYMKNfapKSkGv1fUQdQtQgYAMBIfAcGADASAQMAGImA/b+MjIzq3kK1qa2z\\\n",
       "19a5pdo7e22dW7oxZydgAAAjETAAgJEIGADASAQMAGAkAgYAMBIBAwAYiYABAIxEwAAARiJgAAAj\\\n",
       "ETAAgJEIGADASAQMAGAkAgYAMBIBAwAYiYABAIxEwAAARiJgAAAjETAAgJEIGADASAQMAGAkAgYA\\\n",
       "MBIBAwAYiYABAIxEwAAARiJgAAAjETAAgJEIGADASAQMAGAkJ5vNZlX3Jq6UkZFR3VsAAFwHQUFB\\\n",
       "lXbsGhmw6pCRkVGpJ7omq62z19a5pdo7e22dW7oxZ+cjRACAkQgYAMBIBAwAYCQCBgAwEgEDABiJ\\\n",
       "gAEAjETAAABGImAAACMRMACAkQgYAMBIBAwAYCQCBgAwEgEDABiJgAEAjETAAABGImAAACMRMACA\\\n",
       "kQgYAMBIBAwAYCQCBgAwEgEDABiJgAEAjETAAABGImAAACMRMACAkQgYAMBIBAwAYCQCBgAwEgED\\\n",
       "ABiJgAEAjETAAABGImAAACMRMACAkQgYAMBIBAwAYCQCBgAwEgEDABiJgAEAjETAAABGImAAACMR\\\n",
       "MACAkZxsNptV3Zu4UkZGRnVvAQBwHQQFBVXasWtkwKpDRkZGpZ7omqy2zl5b55Zq7+y1dW7pxpyd\\\n",
       "jxABAEYiYAAAIxEwAICRCBgAwEgEDABgJAIGADASAQMAGImAAQCMRMAAAEYiYAAAIxEwAICRCBgA\\\n",
       "wEgEDABgJAIGADASAQMAGImAAQCMRMAAAEYiYAAAIxEwAICRCBgAwEgEDABgJAIGADASAQMAGImA\\\n",
       "AQCMRMAAAEYiYAAAIxEwAICRCBgAwEgEDABgJAIGADASAQMAGImAAQCMRMAAAEYiYAAAIxEwVFj2\\\n",
       "+cIK3V5bcZ6AykXAUCFpJy9o8cGzOpCT73D7gZx8LT54VmknL1TTzmoWzhNQ+VyqewMwR9rJC/rs\\\n",
       "p0tPvImZ5yRJ7bxddSAnX4mZ52RJ9vvD/N2ra5vVjvMEVA0ChnLJPl+orcf/+67B0qUn529z8pWR\\\n",
       "WyDrsrVbj19Q65td5OPhXOX7rG6cJ6Dq8BEiysXHw1kDWnrK6bLbLEnfXfGk7CRpQEvPWvukzHkC\\\n",
       "qg4BQ7m183bVva0cn5wv5yTp3laeauftWpXbqnE4T0DVcLLZbFbZy6pWRkZGdW8B1/DJaWdl/lby\\\n",
       "tU+rukW6y5cr7IpxngApKCio0o5dI78Dq8yBryYjI6NaHrcmqMjsB3LydSbvnBp6lrzvjKT8Rua8\\\n",
       "s6jMP/Oafp5q69/32jq3dGPOzkeIKLfLr6IrTfEFC1deOl7bcJ6AqkHAUC7Z5wuVlHWuxIUIbW52\\\n",
       "KXHBQlLWuVr7y7qcJ6DqEDCUi4+Hs+5o8t/fWSq+EGHILXVLXLBwRxP3Wnt1HecJqDo18jsw1EzF\\\n",
       "v3S79fgFDWj53+9wiv83Keuc7mjiXut/OZfzBFQNAoYKCfN3L/WXb9t5u8rfsw7vKP4f5wmofHyE\\\n",
       "iAq72pMvT8qOOE9A5SJgAAAjETAAgJEIGADASAQMAGAkAgYAMBIBAwAYiYABAIxEwAAARiJgAAAj\\\n",
       "ETAAgJEIGADASAQMAGAkAgYAMBIBAwAYiYABAIxEwAAARiJgAAAjETAAgJEIGADASAQMAGAkAgYA\\\n",
       "MBIBAwAYiYABAIxEwAAARiJgAAAjETAAgJEIGADASAQMAGAkAgYAMBIBAwAYiYABAIxEwAAARiJg\\\n",
       "AAAjETAAgJEIGADASE42m82q7k1cKSMjo7q3AAC4DoKCgirt2DUyYNUhIyOjUk90TVZbZ6+tc0u1\\\n",
       "d/baOrd0Y87OR4gAACMRMACAkQgYAMBIBAwAYCQCBgAwEgEDABiJgAEAjETAAABGImAAACMRMACA\\\n",
       "kQgYAMBIBAwAYCQCBgAwEgEDABiJgAEAjETAAABGImAAACMRMACAkQgYAMBIBAwAYCQCBgAwEgED\\\n",
       "ABiJgAEAjETAAABGImAAACMRMACAkQgYAMBIBAwAYCQCBgAwEgEDABiJgAEAjETAAABGImAAACMR\\\n",
       "MACAkQgYAMBIBAwAYCQCBgAwEgEDABiJgAEAjETAAABGcrLZbFZ1b+JKGRkZ1b0FAMB1EBQUVGnH\\\n",
       "rpEBqw4ZGRmVeqJrsto6e22dW6q9s9fWuaUbc3Y+QgQAGImAAQCMRMAAAEYiYAAAIxEwAICRCBgA\\\n",
       "wEgEDABgJAIGADASAQMAGImAAQCMRMAAAEYiYAAAIxEwAICRCBgAwEgEDABgJAIGADASAQMAGImA\\\n",
       "AQCMRMAAAEYiYAAAIxEwAICRCBgAwEgEDABgJAIGADASAQMAGImAAQCMRMAAAEYiYAAAIxEwAICR\\\n",
       "nGw2m1XdmwAAoKJ4BwYAMBIBAwAYiYABAIxEwAAARjI2YCdOnNDDDz+swMBA+fv7KywsTNu3b5ck\\\n",
       "5efna/r06erZs6eaNm2q4OBgxcXF6ejRow7HuHDhgp566indcsstatq0qf70pz/p2LFjDmuOHj2q\\\n",
       "YcOGqWnTprrlllv09NNP6+LFiw5rtm/frttvv13+/v7q1KmT3n333Wqb/UqPP/64vLy8tHDhQofb\\\n",
       "TZy9PHMfPnxYsbGxatGihZo0aaI+ffro0KFDRs8tlT17Xl6ennrqKbVr106NGzfWrbfeqkWLFjkc\\\n",
       "w8TZO3bsKC8vrxI/MTEx9jWLFy9WSEiI/P39dfvttys1NfWGn3vBggWKiIhQQECAAgMDNWzYMB04\\\n",
       "cMDhGJZlac6cOWrbtq0aN26su+++W99++63DGpvNptGjR6tFixZq0aKFRo8eLZvN5rBm//79io6O\\\n",
       "VuPGjfXHP/5R8+bNk2XVjGv/jAyYzWZTVFSULMvShx9+qLS0NP3tb3+Tr6+vJOm3337T7t27NWnS\\\n",
       "JG3btk0rVqzQsWPHNHToUBUUFNiP88wzzygpKUlLlizR+vXrdebMGQ0bNkyFhYWSpMLCQg0bNkx5\\\n",
       "eXlav369lixZosTERE2dOtV+jMzMTMXExKh79+76/PPP9eSTT+rpp59WQkJCtcx+uYSEBH399ddq\\\n",
       "0qRJiftMm708c2dmZioqKkotW7ZUYmKiduzYoWnTpqlevXrGzl3e2adOnapPPvlEb775ptLS0jRx\\\n",
       "4kTNmDFDq1atMnr2LVu26NChQ/afbdu2ycnJSYMGDZIkffTRR5oyZYomTpyozz//XN27d9f999/v\\\n",
       "8GL1Rpx7+/btGjVqlDZu3KjExES5uLho0KBBysnJsR/jtdde06JFizRv3jx99tln8vX11eDBg3Xm\\\n",
       "zBn7mri4OO3Zs0f//Oc/tXr1au3Zs0djxoyx3//rr79q8ODB8vPz02effaa5c+dq4cKFeuONNypl\\\n",
       "7ooy8jL6mTNnKiUlRRs3biz3v3Pw4EGFh4crJSVF7du3V25urlq3bq1FixbZX9X8+OOP6tixo1av\\\n",
       "Xq3IyEh9+umniomJ0d69e9W8eXNJ0gcffKDHHntMGRkZatCggaZPn66kpCR9/fXX9scaP368Dh48\\\n",
       "qE8//fT6Dq7yz/7DDz8oKipKa9eu1dChQzV69GiNHz9ekoycvTxzx8XFycnJSe+8806p95s4t1S+\\\n",
       "2Xv06KEBAwbo2Weftd8WHR2t9u3ba/78+cbOfqWXXnpJr7/+ug4ePKi6desqMjJS7du31+uvv25f\\\n",
       "06VLFw0cOFDTp0+/Yee+Ul5enlq0aKHly5erf//+sixLbdu2VXx8vCZNmiRJOnfunIKCgjRr1iyN\\\n",
       "HDlShw4dUlhYmDZs2KDw8HBJ0o4dO9S/f3/t2rVLQUFBWrJkiV544QV999138vT0lCTNnz9f7777\\\n",
       "rg4cOCAnJ6dKn/1ajHwHtm7dOnXt2lUjR45U69at1atXL7399tvXfFtb/KrDy8tLkpSenq78/Hz1\\\n",
       "7dvXvqZ58+YKDg5WWlqaJGnnzp0KDg62/6WWpMjISF24cEHp6en2NZcfo3jNN998o/z8/Osz8GXK\\\n",
       "M3tBQYHi4uI0adIkBQcHlziGibOXNXdRUZE2bNig4OBgDRkyRIGBgYqIiNBHH31k9NzlmV2SwsPD\\\n",
       "tWHDBv3444+SpLS0NO3bt0+RkZFGz345y7K0bNkyDRs2THXr1tXFixeVnp5eYj99+/a1z3Qjzl2a\\\n",
       "vLw8FRUV2Z/fsrKydPLkSYc9e3p6qmfPng5z33TTTQoLC7OvCQ8PV7169RzW9OjRwx4v6dLcx48f\\\n",
       "V1ZW1nWftaKMDFhmZqaWLFmiVq1aac2aNXr44Yc1Y8aMq77yvnjxoqZNm6Z+/fqpWbNmkqRTp07J\\\n",
       "2dlZPj4+Dmt9fX116tQp+5orP5rz8fGRs7PzNdf4+vqqoKBA2dnZ12Xey5Vn9jlz5sjb21ujRo0q\\\n",
       "9Rgmzl7W3KdPn1ZeXp79u4F//etfGjJkiOLj47VhwwZj5y7P7JI0b948dezYUR06dFCjRo109913\\\n",
       "64UXXlC/fv2Mnv1yW7ZsUVZWlh588EFJUnZ2tgoLC0vdz+X7vdHmLs2UKVPUsWNHde/eXZJ08uRJ\\\n",
       "+x4vd+XcPj4+Du+inJyc1KhRozLnLr6vurlU9wZ+j6KiInXu3FnTp0+XJHXq1Enff/+9Fi9erNGj\\\n",
       "RzusLSgo0OjRo5Wbm6uVK1eWeWzLskr8gZbmWmuKXxlXxtvrsmbfvn27VqxYoeTk5AofuybPXtbc\\\n",
       "RUVFki59bPboo49KkkJCQpSenq7Fixfbn8hLU5Pnlsr39/2tt95SWlqaVq5cqYCAAKWmpuq5555T\\\n",
       "ixYtdOedd1712DV99su9//776tKli0JCQq66t+L9lLWXG2HuYs8++6y++OILbdiwQc7Ozg73lXVu\\\n",
       "Stt7WWuqau7yMPIdmL+/f4mPxtq0aWP/+KRYQUGBRo0apf379yshIUENGza03+fn56fCwsISr55+\\\n",
       "/vln+ysMPz+/Eq8yrnzVV9qan3/+WS4uLg6Pd72UNXtycrJOnDih4OBg+fj4yMfHR0ePHtX06dPV\\\n",
       "rl07+55Nm72suX18fOTi4nLNNSbOLZU9+7lz5zRz5kzNmDFD/fv3V4cOHTR69Gjdd9999qtPTZ29\\\n",
       "2OnTp7V+/XqNGDHCftuV75Iu38/l+73R5r7cM888ozVr1igxMVGtWrWy3+7v7y+p5LukK+f++eef\\\n",
       "HT6KtixL2dnZZc4tlXx3Vx2MDFh4eLgOHz7scNvhw4cVEBBg/+f8/HyNHDlS+/fvV1JSkv0PtFho\\\n",
       "aKhcXV21ZcsW+23Hjh2zf7EpSd27d9ehQ4ccLrndsmWL3N3dFRoaal+zdetWh2Nv2bJFnTt3lqur\\\n",
       "63WZ93JlzR4XF6eUlBQlJyfbf5o0aaKxY8far5gycfay5nZzc1OXLl2UkZFx1TUmzi2VPXt+fr7y\\\n",
       "8/NLvPp2dna2vzM1dfZiy5cvl7u7u+677z77bW5ubgoNDXWYqXg/xTPdiHMXmzx5slavXq3ExES1\\\n",
       "adPG4b6WLVvK39/fYe7z589rx44dDnPn5eVp586d9jU7d+7U2bNnHdbs2LFD58+ft6/ZsmWLmjRp\\\n",
       "opYtW17XWX8P5ylTprxQ3ZuoqObNm2vevHmqU6eOGjdurG3btmn27NmaMGGCunbtqoKCAo0YMUJf\\\n",
       "f/21li5dqvr16+vs2bM6e/asnJ2d5erqKg8PD504cULvvPOOOnTooNzcXE2YMEENGjTQjBkzVKdO\\\n",
       "HbVq1UpJSUn67LPP1L59ex08eFCTJk3S/fffrwEDBkiS/vCHP+jVV1/V6dOnFRAQoPXr1+vll1/W\\\n",
       "7Nmz1bZt2yqfvV69evL19XX4eeutt3T77berf//+kmTk7GXNLUne3t6aO3eu/Pz81KBBAyUmJuq1\\\n",
       "117TX//6V7Vu3drIucszu7u7u5KTk+0XsViWpXXr1mnBggUaM2aMbr31VmNnly69Kxg3bpyioqLs\\\n",
       "l5EXq1+/vubMmaPGjRvLw8ND8+fPV2pqqt544w3dfPPNN+zckyZN0qpVq/Tee++pefPm9uc36VLY\\\n",
       "nZycVFhYqFdeeUWtW7dWYWGhpk6dqpMnT+rVV1+Vu7u7GjVqpC+//FKrV69WSEiIjh07pgkTJqhL\\\n",
       "ly72S+kDAwP1j3/8Q3v37lVQUJB27Nih559/Xk888YTDxR/VxmazWSb+fPDBB1b79u0td3d3KzAw\\\n",
       "0Jo7d66Vk5Nj2Ww2a/fu3ZakUn8WLVpkP8aJEyes+Ph4y9vb2/L09LSioqKsffv2OTzO3r17raio\\\n",
       "KMvT09Py9va24uPjrZMnTzqs+fjjj62QkBDLzc3NatGihbVgwYJqm720n4CAAGvWrFkOt5k4e3nm\\\n",
       "XrRokRUYGGh5eHhY7dq1sxYvXmz83OWZ/dChQ9YDDzxgNWnSxPLw8LCCgoKsWbNmOawxdfbExERL\\\n",
       "krV58+ZS73/ppZesgIAAy83NzerUqZO1bt26G+LP/FpzX+35bfLkyfY1OTk51uTJky1/f3/L3d3d\\\n",
       "6tmzp5WamupwnP/85z9WTEyMVb9+fat+/fpWTEyMlZmZ6bAmJSXF6tGjh+Xu7m75+/tbU6ZMuebz\\\n",
       "TVX+GPl7YAAAGPkdGAAABAwAYCQCBgAwEgEDABiJgAEAjPR/v6xHW8DVIkcAAAAASUVORK5CYII=\\\n",
       "\"\n",
       "  frames[2] = \"data:image/png;base64,iVBORw0KGgoAAAANSUhEUgAAAbAAAAEgCAYAAADVKCZpAAAABHNCSVQICAgIfAhkiAAAAAlwSFlz\\\n",
       "AAALEgAACxIB0t1+/AAAADl0RVh0U29mdHdhcmUAbWF0cGxvdGxpYiB2ZXJzaW9uIDMuMC4yLCBo\\\n",
       "dHRwOi8vbWF0cGxvdGxpYi5vcmcvOIA7rQAAHgRJREFUeJzt3Xt0jVfCx/Ff5E6RSJO4JbQRMULc\\\n",
       "SkLRkq6mqKqWpKsyo8atQy/60tLSajAjRktLzeqFTstCO6WVZBhUBZFo6CWupaGNutM0J0Rdknje\\\n",
       "P7w540hI4hXJlu9nrfNHn7Pts3+bdX7nec5zZpxsNpslAAAMU6OyFwAAwI2gwAAARqLAAABGosAA\\\n",
       "AEaiwAAARqLAAABGosAAAEaiwAAARqLAAABGosAAAEaiwAAARqLAAABGosAAAEaiwIAqZPr06fLy\\\n",
       "8lJKSkplLwWo8lwqewEAqp+ff/5Zc+bMUUZGhg4fPqzc3FzVq1dPd911l2JjYxUdHS1XV9fKXiaq\\\n",
       "OAoMwC23b98+ff7557rnnnvUrl07eXl5KTs7W+vWrdPo0aO1ZMkSJSQkyMWFtyhcG/86ANxyPXv2\\\n",
       "VFZWlpycnByOX7x4Uf3791dqaqq++OILDRw4sJJWCBPwHRhuuoMHD8rLy0t9+vRRdna2nn/+eYWE\\\n",
       "hMjPz08RERFauHDh/2v+lJQUxcTEKDQ0VH5+fmrWrJnuv/9+TZw4UZb13/+D8WPHjik+Pl4PPvig\\\n",
       "mjdvLl9fX7Vo0UJDhw7VDz/8cN11nzx5UqNHj1ZwcLAaNmyoBx98UKmpqZKkvLw8vfLKK2rVqpX8\\\n",
       "/PwUHh6uFStWFJtv8eLF8vLy0vTp07V161b169dPAQEBCggI0IABA5SRkVGu3D/99JOeffZZ++sG\\\n",
       "BQVp0KBBJc6Tm5urGTNmqHPnzgoICFCjRo0UFham2NjYKvH9mpubW7HyKjr+8MMPS5IOHDhwq5cF\\\n",
       "w3AGhgqTm5urqKgoubm56ZFHHtGFCxeUkJCg5557TjVq1FBsbGy551y7dq1iYmJUu3Zt9erVS40a\\\n",
       "NZLNZtOBAwf03nvvKS4uzn7ZKS0tTW+//ba6deumRx55RDVr1tSBAweUkJCg//znP1q9erXCwsKu\\\n",
       "uW5vb28NHDhQR48eVUJCgh5//HGtXbtWY8aM0e+//67evXvrzJkzWr58uYYMGaJGjRqpY8eOxeb7\\\n",
       "9ttvNXv2bPXo0UPDhw/XgQMHlJSUpNTUVK1YsULh4eGl5t64caMGDRqk8+fPKyoqSkFBQTp27JiS\\\n",
       "kpK0bt06LVmyRJGRkZIky7I0YMAAbdu2TR06dFBsbKzc3Nx07NgxpaWlaePGjerWrVu59/5WKCws\\\n",
       "1JdffilJat26dSWvBlUdBYYKs2vXLj311FN688035ezsLEkaNWqU7r33Xs2ZM+eGCmzhwoWyLEtJ\\\n",
       "SUlq06aNw3O//fabw3cm3bt3148//qjatWs7jMvIyFDv3r0VFxen5cuXl7jukSNHKj4+3n6WMGvW\\\n",
       "LE2ZMkUPP/ywevToofnz59tvMujZs6eGDx+ut956S4sXLy4237p16zRz5kwNHz7cfiwhIUGDBw/W\\\n",
       "M888o61bt5Z4NlIkNzdXQ4YMkaurq9atW6cWLVrYn9u3b58iIyM1evRobd++Xe7u7tq9e7e2bdum\\\n",
       "Xr16aenSpQ5zWZalnJyca77WlXbs2KGVK1eWaWyRJ598Uk2aNCnz+GPHjumjjz7SpUuX9Ntvv2n9\\\n",
       "+vX6+eef9cQTT6hPnz7lem1UPxQYKkzNmjU1bdo0e3lJUosWLRQREaHU1FSdOXOmWLmUpkaNGva5\\\n",
       "r1avXj2H//b19S1xjrZt26pbt27asGGD8vPzi93tVqtWLb322msOpRIdHa0pU6bo9OnTmjZtmsOf\\\n",
       "eeyxxzRq1Cjt3LmzxNe7++67NXToUIdj/fr1U3h4uNLT05Wenq6IiIhrZv7kk0/022+/KT4+3qG8\\\n",
       "JCkkJER/+tOf9I9//EMbNmxQVFTUdffIycmp2D5dy86dOzVjxowyjS3StWvXchXY8ePHHV6jRo0a\\\n",
       "GjNmjCZOnFiu10X1RIGhwgQFBemOO+4odrxRo0aSLp9ZlLfAoqOjlZiYqMjISPXv31/dunVTx44d\\\n",
       "r/mmuWbNGn344YfKyMhQdna2CgoKHJ7Pzs5W/fr1i627Vq1aDseKxnh5eSkgIMDhOWdnZ/n6+uro\\\n",
       "0aMlrqFz5872UrlSly5dlJ6erh07dly3wNLT0yVJu3fv1vTp04s9v3//fknSjz/+qKioKIWEhKht\\\n",
       "27Zavny5fvnlF/Xu3Vvh4eFq3769PDw8rvk6Vxs0aJAGDRpU5vE3ol27drLZbCosLNTRo0eVlJSk\\\n",
       "+Ph4paSk6LPPPitz2aJ6osBQYerUqVPi8aIzssLCwnLP+fDDD2v58uWaO3euli5dqo8//liS1LJl\\\n",
       "S40fP179+vWzj3333Xc1YcIEeXl5qUePHgoICJCHh4ecnJy0cuVK7dq1SxcuXCj2GiWVatGlyWsV\\\n",
       "rrOzc7FyLOLn51fi8aIzxNOnT18n8eVLo5K0aNGi6447e/asfS0rVqzQm2++qRUrViguLk7S5TOy\\\n",
       "/v37a8qUKfLx8bnuXLeas7OzAgICNGrUKNWvX19//vOfNXXqVM2ePbuyl4YqjAKDcSIjIxUZGalz\\\n",
       "587p22+/1bp167RgwQI99dRTSkpKUteuXVVQUKDp06fL399fGzduLHaWtW3btlu23pMnT5Z4/NSp\\\n",
       "U5KuXfRFip7fsGGD2rZtW6bX9PLy0tSpUzV16lRlZWUpLS1NixYt0uLFi3Xo0CElJiaWOset+A6s\\\n",
       "JEU3o2zevPn/NQ9ufxQYjOXp6amuXbuqa9euatq0qcaMGaNVq1apa9euys7OVm5urrp3716svPLy\\\n",
       "8rR9+/Zbts6vv/5aly5dKnYZMS0tTZJKvBPySh07dlRiYqK2bNlS5gK7UtOmTdW0aVNFR0erbdu2\\\n",
       "2rRpk3Jzc1W3bt3r/rlb8R1YSYouxfIjZpSG34HBKBs2bNDvv/9e7PiJEyckyf4dj6+vr2rWrKnv\\\n",
       "v/9eeXl59nH5+fmaMGGCsrOzb82Cdfn3TAsWLHA4lpCQoPT0dAUHB5d6G31sbKy8vLw0c+ZMbd26\\\n",
       "tdjzlmVpy5YtunjxoiQpKytLe/bsKTYuLy9PZ8+elYuLS5nKYdCgQbLZbOV6lPX2/PT09BIv3+bl\\\n",
       "5enll1+WJEVFRZVpLlRffMSBUSZNmqRffvlF9957rwIDA+Xh4aHdu3frq6++Ur169TR48GBJl+9m\\\n",
       "GzlypGbPnq0uXbqod+/eys/PV0pKinJyctStW7db9oPeBx54QJMmTdK6desUGhpq/x2Yp6en5s6d\\\n",
       "e91b6CXJ29tbCxcuVGxsrB588EF1795dLVq0kKurq44cOaJvvvlGhw8fVlZWltzc3LRr1y7FxsYq\\\n",
       "LCxMLVu2VIMGDWSz2bRmzRrl5ORo9OjRxW5SudWmTJmiPXv2qEuXLmrUqJE8PDx09OhRrV27VqdP\\\n",
       "n1anTp00bty4Sl0jqj4KDEYZO3asVq5cqe+//95eQA0bNtRf/vIXjRo1So0bN7aPnThxonx8fLRo\\\n",
       "0SJ99NFHqlOnju6//35NmjSpxLv5KkqHDh300ksvadq0aXr//fclST169NCrr75a5kuC3bt3V2pq\\\n",
       "qt555x199dVX2rp1q1xcXOTv76+OHTtq8uTJ9u/K2rVrp7Fjx2rz5s1KTk5WTk6O6tWrp+bNm+tv\\\n",
       "f/ubHn300QrLWlYjRoxQQkKCMjIytGnTJp07d05eXl5q3769+vfvr0GDBnEJEaVystlsVunDAJTX\\\n",
       "4sWLNXr0aI0fP95+WQzAzcN3YAAAI1FgAAAjcZEZlergwYNasmRJmcbejN8YAbh98B0YKlVKSor6\\\n",
       "9u1bprFJSUlV9n9FHcCtR4EBAIzEd2AAACNRYAAAI1Fg/yczM7Oyl1Bpqmv26ppbqr7Zq2tu6fbM\\\n",
       "ToEBAIxEgQEAjESBAQCMRIEBAIxEgQEAjESBAQCMRIEBAIxEgQEAjESBAQCMRIEBAIxEgQEAjESB\\\n",
       "AQCMRIEBAIxEgQEAjESBAQCMRIEBAIxEgQEAjESBAQCMRIEBAIxEgQEAjESBAQCMRIEBAIxEgQEA\\\n",
       "jESBAQCMRIEBAIxEgQEAjESBAQCMRIEBAIzkZLPZrMpexNUyMzMrewkAgJsgODi4wuaukgVWGTIz\\\n",
       "Myt0o6uy6pq9uuaWqm/26ppbuj2zcwkRAGAkCgwAYCQKDABgJAoMAGAkCgwAYCQKDABgJAoMAGAk\\\n",
       "CgwAYCQKDABgJAoMAGAkCgwAYCQKDABgJAoMAGAkCgwAYCQKDABgJAoMAGAkCgwAYCQKDABgJAoM\\\n",
       "AGAkCgwAYCQKDABgJAoMAGAkCgwAYCQKDABgJAoMAGAkCgwAYCQKDABgJAoMAGAkCgwAYCQKDABg\\\n",
       "JAoMAGAkCgwAYCQKDABgJAoMAGAkCgwAYCQKDABgJAoMAGAkCgwAYCQKDABgJAoMAGAkCgwAYCQn\\\n",
       "m81mVfYirpaZmVnZSwAA3ATBwcEVNneVLLDKkJmZWaEbXZVV1+zVNbdUfbNX19zS7ZmdS4gAACNR\\\n",
       "YAAAI1FgAAAjUWAAACNRYAAAI1FgAAAjUWAAACNRYAAAI1FgAAAjUWAAACNRYAAAI1FgAAAjUWAA\\\n",
       "ACNRYAAAI1FgAAAjUWAAACNRYAAAI1FgAAAjUWAAACNRYAAAI1FgAAAjUWAAACNRYAAAI1FgAAAj\\\n",
       "UWAAACNRYAAAI1FgAAAjUWAAACNRYAAAI1FgAAAjUWAAACNRYAAAI1FgAAAjUWAAACNRYCi37POF\\\n",
       "5TpeXZV3n9hXoHwoMJRL+okLmr/3rPbk5Dsc35OTr/l7zyr9xIVKWlnVUt59Yl+B8nOp7AXAHOkn\\\n",
       "Lmj90ctvpIlZ5yRJLb1dtScnX4lZ52RJ9ufD/d0ra5mVrrz7xL4CN4YCQ5lkny/UhmP/PQuwdPnN\\\n",
       "9oecfGXmFsi6YuyGYxfUrK6LfDycb/k6K1t596meRw32FbhBXEJEmfh4OKtvE085XXHMkvTjVW+y\\\n",
       "TpL6NvGstm+y5d2n4Lqu7CtwgygwlFlLb1c90tTxzfZKTpIeaeqplt6ut3JZVU5594l9BW6Mk81m\\\n",
       "s0ofdmtlZmZW9hJwHWtPOSvr9+KffZrWvKQHfbljrkh594l9xe0oODi4wuaukt+BVWTga8nMzKyU\\\n",
       "160KypN9T06+zuSdUz3P4s+dkZR/pzlnChX5d17efbrV+1pd/71X19zS7ZmdS4gosyvviitJ0Q0I\\\n",
       "V98KXt2Ud5/YV+DGUGAok+zzhUo6eK7YjQXN67oUuwEh6eC5avvj2/LuU2ZuPvsK3CAKDGXi4+Gs\\\n",
       "+xv89zdIRTcWPH53zWI3INzfwL3a3i1X3n0KruvKvgI3qEp+B4aqqehHtBuOXVDfJo530UmXzxDu\\\n",
       "b+Be7X9sW959Yl+BG0OBoVzC/d1L/DFtS29X+XvW4Azh/5R3n9hXoPy4hIhyu9abKW+yjsq7T+wr\\\n",
       "UD4UGADASBQYAMBIFBgAwEgUGADASBQYAMBIFBgAwEgUGADASBQYAMBIFBgAwEgUGADASBQYAMBI\\\n",
       "FBgAwEgUGADASBQYAMBIFBgAwEgUGADASBQYAMBIFBgAwEgUGADASBQYAMBIFBgAwEgUGADASBQY\\\n",
       "AMBIFBgAwEgUGADASBQYAMBIFBgAwEgUGADASBQYAMBIFBgAwEgUGADASBQYAMBIFBgAwEgUGADA\\\n",
       "SBQYAMBITjabzarsRVwtMzOzspcAALgJgoODK2zuKllglSEzM7NCN7oqq67Zq2tuqfpmr665pdsz\\\n",
       "O5cQAQBGosAAAEaiwAAARqLAAABGosAAAEaiwAAARqLAAABGosAAAEaiwAAARqLAAABGosAAAEai\\\n",
       "wAAARqLAAABGosAAAEaiwAAARqLAAABGosAAAEaiwAAARqLAAABGosAAAEaiwAAARqLAAABGosAA\\\n",
       "AEaiwAAARqLAAABGosAAAEaiwAAARqLAAABGosAAAEaiwAAARqLAAABGosAAAEaiwAAARqLAAABG\\\n",
       "osAAAEaiwAAARqLAAABGosAAAEaiwAAARqLAAABGcrLZbFZlL+JqmZmZlb0EAMBNEBwcXGFzV8kC\\\n",
       "qwyZmZkVutFVWXXNXl1zS9U3e3XNLd2e2bmECAAwEgUGADASBQYAMBIFBgAwEgUGADASBQYAMBIF\\\n",
       "BgAwEgUGADASBQYAMBIFBgAwEgUGADASBQYAMBIFBgAwEgUGADASBQYAMBIFBgAwEgUGADASBQYA\\\n",
       "MBIFBgAwEgUGADASBQYAMBIFBgAwEgUGADASBQYAMBIFBgAwEgUGADASBQYAMBIFBgAwEgUGADCS\\\n",
       "k81msyp7EQAAlBdnYAAAI1FgAAAjUWAAACNRYAAAIxlbYMePH9fTTz+toKAg+fv7Kzw8XJs3b5Yk\\\n",
       "5efna/LkyerSpYsaNmyokJAQDRs2TIcOHXKY48KFC3rxxRd19913q2HDhnriiSd05MgRhzGHDh1S\\\n",
       "TEyMGjZsqLvvvlsvvfSSLl686DBm8+bNuu++++Tv7682bdroww8/rLTsV3v++efl5eWluXPnOhw3\\\n",
       "MXtZcu/fv1+xsbEKDAxUgwYN1L17d+3bt8/o3FLp2fPy8vTiiy+qZcuWql+/vu655x7NmzfPYQ4T\\\n",
       "s7du3VpeXl7FHtHR0fYx8+fPV1hYmPz9/XXfffcpLS3tts89a9Ys9ejRQwEBAQoKClJMTIz27Nnj\\\n",
       "MIdlWZo+fbpatGih+vXrq0+fPvrhhx8cxthsNo0YMUKBgYEKDAzUiBEjZLPZHMbs3r1bvXv3Vv36\\\n",
       "9fWHP/xBM2bMkGVVjXv/jCwwm82mqKgoWZalf/3rX0pPT9ff//53+fr6SpJ+//13bd++XePGjdPG\\\n",
       "jRu1ZMkSHTlyRAMGDFBBQYF9npdffllJSUlasGCBVq1apTNnzigmJkaFhYWSpMLCQsXExCgvL0+r\\\n",
       "Vq3SggULlJiYqIkTJ9rnyMrKUnR0tDp16qRNmzbpf/7nf/TSSy8pISGhUrJfKSEhQd99950aNGhQ\\\n",
       "7DnTspcld1ZWlqKiotSkSRMlJiZqy5YtmjRpkmrVqmVs7rJmnzhxotauXat3331X6enpGjt2rOLi\\\n",
       "4vTJJ58YnT05OVn79u2zPzZu3CgnJyc9+uijkqTPP/9cEyZM0NixY7Vp0yZ16tRJAwcOdPiwejvm\\\n",
       "3rx5s4YOHao1a9YoMTFRLi4uevTRR5WTk2Of4+2339a8efM0Y8YMrV+/Xr6+vurfv7/OnDljHzNs\\\n",
       "2DDt2LFDn332mZYtW6YdO3Zo5MiR9udPnz6t/v37y8/PT+vXr1d8fLzmzp2rd955p0Jyl5eRt9FP\\\n",
       "mTJFqampWrNmTZn/zN69exUREaHU1FSFhoYqNzdXzZo107x58+yfag4fPqzWrVtr2bJlioyM1Jdf\\\n",
       "fqno6Gjt3LlTjRs3liR9+umneu6555SZmak6depo8uTJSkpK0nfffWd/rWeffVZ79+7Vl19+eXOD\\\n",
       "q+zZf/nlF0VFRWnFihUaMGCARowYoWeffVaSjMxeltzDhg2Tk5OTPvjggxKfNzG3VLbsnTt3Vt++\\\n",
       "ffXKK6/Yj/Xu3VuhoaGaOXOmsdmv9sYbb2jOnDnau3evatasqcjISIWGhmrOnDn2Me3bt1e/fv00\\\n",
       "efLk2zb31fLy8hQYGKjFixerV69esixLLVq00PDhwzVu3DhJ0rlz5xQcHKypU6dqyJAh2rdvn8LD\\\n",
       "w7V69WpFRERIkrZs2aJevXpp27ZtCg4O1oIFC/T666/rxx9/lKenpyRp5syZ+vDDD7Vnzx45OTlV\\\n",
       "ePbrMfIMbOXKlerQoYOGDBmiZs2aqWvXrnr//feve1pb9KnDy8tLkpSRkaH8/Hz17NnTPqZx48YK\\\n",
       "CQlRenq6JGnr1q0KCQmx/6OWpMjISF24cEEZGRn2MVfOUTTm+++/V35+/s0JfIWyZC8oKNCwYcM0\\\n",
       "btw4hYSEFJvDxOyl5b506ZJWr16tkJAQPf744woKClKPHj30+eefG527LNklKSIiQqtXr9bhw4cl\\\n",
       "Senp6dq1a5ciIyONzn4ly7K0aNEixcTEqGbNmrp48aIyMjKKradnz572TLdj7pLk5eXp0qVL9ve3\\\n",
       "gwcP6sSJEw5r9vT0VJcuXRxy33HHHQoPD7ePiYiIUK1atRzGdO7c2V5e0uXcx44d08GDB2961vIy\\\n",
       "ssCysrK0YMECNW3aVMuXL9fTTz+tuLi4a37yvnjxoiZNmqSHHnpIjRo1kiSdPHlSzs7O8vHxcRjr\\\n",
       "6+urkydP2sdcfWnOx8dHzs7O1x3j6+urgoICZWdn35S8VypL9unTp8vb21tDhw4tcQ4Ts5eW+9Sp\\\n",
       "U8rLy7N/N/DFF1/o8ccf1/Dhw7V69Wpjc5cluyTNmDFDrVu3VqtWrXTnnXeqT58+ev311/XQQw8Z\\\n",
       "nf1KycnJOnjwoP74xz9KkrKzs1VYWFjieq5c7+2WuyQTJkxQ69at1alTJ0nSiRMn7Gu80tW5fXx8\\\n",
       "HM6inJycdOedd5aau+i5yuZS2Qu4EZcuXVK7du00efJkSVKbNm30008/af78+RoxYoTD2IKCAo0Y\\\n",
       "MUK5ublaunRpqXNbllXsL7Qk1xtT9Mm4Ik6vS8u+efNmLVmyRCkpKeWeuypnLy33pUuXJF2+bPbM\\\n",
       "M89IksLCwpSRkaH58+fb38hLUpVzS2X79/7ee+8pPT1dS5cuVUBAgNLS0vTqq68qMDBQDzzwwDXn\\\n",
       "rurZr/Txxx+rffv2CgsLu+baitZT2lpuh9xFXnnlFX399ddavXq1nJ2dHZ4rbW9KWntpY25V7rIw\\\n",
       "8gzM39+/2KWx5s2b2y+fFCkoKNDQoUO1e/duJSQkqF69evbn/Pz8VFhYWOzT06+//mr/hOHn51fs\\\n",
       "U8bVn/pKGvPrr7/KxcXF4fVultKyp6Sk6Pjx4woJCZGPj498fHx06NAhTZ48WS1btrSv2bTspeX2\\\n",
       "8fGRi4vLdceYmFsqPfu5c+c0ZcoUxcXFqVevXmrVqpVGjBihxx57zH73qanZi5w6dUqrVq3S4MGD\\\n",
       "7ceuPku6cj1Xrvd2y32ll19+WcuXL1diYqKaNm1qP+7v7y+p+FnS1bl//fVXh0vRlmUpOzu71NxS\\\n",
       "8bO7ymBkgUVERGj//v0Ox/bv36+AgAD7f+fn52vIkCHavXu3kpKS7H+hRdq2bStXV1clJyfbjx05\\\n",
       "csT+xaYkderUSfv27XO45TY5OVnu7u5q27atfcyGDRsc5k5OTla7du3k6up6U/JeqbTsw4YNU2pq\\\n",
       "qlJSUuyPBg0aaNSoUfY7pkzMXlpuNzc3tW/fXpmZmdccY2JuqfTs+fn5ys/PL/bp29nZ2X5mamr2\\\n",
       "IosXL5a7u7see+wx+zE3Nze1bdvWIVPReooy3Y65i4wfP17Lli1TYmKimjdv7vBckyZN5O/v75D7\\\n",
       "/Pnz2rJli0PuvLw8bd261T5m69atOnv2rMOYLVu26Pz58/YxycnJatCggZo0aXJTs94I5wkTJrxe\\\n",
       "2Ysor8aNG2vGjBmqUaOG6tevr40bN2ratGl64YUX1KFDBxUUFGjw4MH67rvvtHDhQtWuXVtnz57V\\\n",
       "2bNn5ezsLFdXV3l4eOj48eP64IMP1KpVK+Xm5uqFF15QnTp1FBcXpxo1aqhp06ZKSkrS+vXrFRoa\\\n",
       "qr1792rcuHEaOHCg+vbtK0m666679NZbb+nUqVMKCAjQqlWr9Oabb2ratGlq0aLFLc9eq1Yt+fr6\\\n",
       "Ojzee+893XffferVq5ckGZm9tNyS5O3trfj4ePn5+alOnTpKTEzU22+/rb/+9a9q1qyZkbnLkt3d\\\n",
       "3V0pKSn2m1gsy9LKlSs1a9YsjRw5Uvfcc4+x2aXLZwWjR49WVFSU/TbyIrVr19b06dNVv359eXh4\\\n",
       "aObMmUpLS9M777yjunXr3ra5x40bp08++UQfffSRGjdubH9/ky4Xu5OTkwoLCzV79mw1a9ZMhYWF\\\n",
       "mjhxok6cOKG33npL7u7uuvPOO/XNN99o2bJlCgsL05EjR/TCCy+offv29lvpg4KC9M9//lM7d+5U\\\n",
       "cHCwtmzZotdee01jxoxxuPmj0thsNsvEx6effmqFhoZa7u7uVlBQkBUfH2/l5ORYNpvN2r59uyWp\\\n",
       "xMe8efPscxw/ftwaPny45e3tbXl6elpRUVHWrl27HF5n586dVlRUlOXp6Wl5e3tbw4cPt06cOOEw\\\n",
       "5t///rcVFhZmubm5WYGBgdasWbMqLXtJj4CAAGvq1KkOx0zMXpbc8+bNs4KCgiwPDw+rZcuW1vz5\\\n",
       "843PXZbs+/bts5588kmrQYMGloeHhxUcHGxNnTrVYYyp2RMTEy1J1ldffVXi82+88YYVEBBgubm5\\\n",
       "WW3atLFWrlx5W/ydXy/3td7fxo8fbx+Tk5NjjR8/3vL397fc3d2tLl26WGlpaQ7z/Pzzz1Z0dLRV\\\n",
       "u3Ztq3bt2lZ0dLSVlZXlMCY1NdXq3Lmz5e7ubvn7+1sTJky47vvNrXwY+TswAACM/A4MAAAKDABg\\\n",
       "JAoMAGAkCgwAYCQKDABgpP8FMkrOfo2byWMAAAAASUVORK5CYII=\\\n",
       "\"\n",
       "  frames[3] = \"data:image/png;base64,iVBORw0KGgoAAAANSUhEUgAAAbAAAAEgCAYAAADVKCZpAAAABHNCSVQICAgIfAhkiAAAAAlwSFlz\\\n",
       "AAALEgAACxIB0t1+/AAAADl0RVh0U29mdHdhcmUAbWF0cGxvdGxpYiB2ZXJzaW9uIDMuMC4yLCBo\\\n",
       "dHRwOi8vbWF0cGxvdGxpYi5vcmcvOIA7rQAAHeFJREFUeJzt3XtUVXX+//EXctdUlABRQUdEGC9I\\\n",
       "moLmJaMVqZlZhrPSxlyKlnYdLTUt8zIpY9pFbXWRpnTUmtFGYXSwLDQEQyvvpSENZuaVOCjeAty/\\\n",
       "P/xyxiMoMD/o8IHnY63zh3t/+OzP+3Nov87e+3PIxWazWQIAwDD1nD0AAAD+FwQYAMBIBBgAwEgE\\\n",
       "GADASAQYAMBIBBgAwEgEGADASAQYAMBIBBgAwEgEGADASAQYAMBIBBgAwEgEGADASAQYUIPMnTtX\\\n",
       "Pj4+SktLc/ZQgBqPAANQIyQkJMjHx0c+Pj7atGmTs4cDAxBgAJxu586dmj9/vm666SZnDwUGIcAA\\\n",
       "ONX58+c1duxY3XrrrRo4cKCzhwODEGCococPH5aPj48GDhyo3NxcPfXUUwoLC5O/v7+io6O1bNmy\\\n",
       "/6/+09LSNGzYMHXo0EH+/v5q27atbr/9dk2bNk2W9d//wfixY8c0b9483XXXXWrXrp38/PwUHh6u\\\n",
       "0aNH67vvvrvhuE+ePKkJEyYoNDRUzZs311133aX09HRJUkFBgZ5//nl17NhR/v7+ioqK0tq1a0v1\\\n",
       "t2LFCvn4+Gju3Lnavn27Bg8erKCgIAUFBWno0KHatWtXper+4Ycf9MQTT9iPGxISouHDh5fZT35+\\\n",
       "vhISEtSjRw8FBQWpRYsWioiI0IgRI2rc87UXXnhBR48e1Ztvvql69TgloeLcnD0A1F75+fmKjY2V\\\n",
       "h4eH7r33Xl26dEnr1q3Tk08+qXr16mnEiBGV7vOTTz7RsGHD1LBhQ/Xv318tWrSQzWZTdna23n77\\\n",
       "bc2cOVNubld+rTMyMvT666+rd+/euvfee1W/fn1lZ2dr3bp1+ve//62UlBRFRERcd9xNmjTRgw8+\\\n",
       "qJ9//lnr1q3TAw88oE8++URPP/20zp8/rwEDBujs2bNas2aNRo0apRYtWqhbt26l+vv666/16quv\\\n",
       "ql+/foqPj1d2draSk5OVnp6utWvXKioqqty6t2zZouHDh+vixYuKjY1VSEiIjh07puTkZG3atEkr\\\n",
       "V65UTEyMJMmyLA0dOlQ7duxQ165dNWLECHl4eOjYsWPKyMjQli1b1Lt370rPfXX49NNPlZiYqPnz\\\n",
       "56tNmzbOHg4MQ4Ch2uzbt0+PPPKIFixYIFdXV0nS+PHjddttt+mNN974nwJs2bJlsixLycnJ6ty5\\\n",
       "s8O+X375xR5ektSnTx99//33atiwoUO7Xbt2acCAAZo5c6bWrFlT5rjHjRunefPmycXFRZK0cOFC\\\n",
       "zZo1S/fcc4/69eunpUuXyt3dXZJ0xx13KD4+Xq+99ppWrFhRqr9NmzZp/vz5io+Pt29bt26dRo4c\\\n",
       "qccff1zbt2+3H6cs+fn5GjVqlNzd3bVp0yaFh4fb9x08eFAxMTGaMGGCdu/eLU9PT+3fv187duxQ\\\n",
       "//79tWrVKoe+LMtSXl7edY91tT179mj9+vUValvioYceUqtWrSrU9pdfftHjjz+uvn37asyYMZU6\\\n",
       "DiARYKhG9evX15w5c+zhJUnh4eGKjo5Wenq6zp49WypcylNyi6l+/fql9jVt2tTh335+fmX2ERkZ\\\n",
       "qd69e2vz5s0qLCy0B1GJBg0a6MUXX3QIlbi4OM2aNUtnzpzRnDlzHH7m/vvv1/jx47V3794yj9em\\\n",
       "TRuNHj3aYdvgwYMVFRWlzMxMZWZmKjo6+ro1f/jhh/rll180b948h/CSpLCwMP3xj3/Um2++qc2b\\\n",
       "Nys2NvaGc+Ti4lJqnq5n7969SkhIqFDbEr169apwgD311FO6cOGCFi9efMMAB66HAEO1CQkJKXNV\\\n",
       "WYsWLSRdubKobIDFxcUpKSlJMTExGjJkiHr37q1u3bpd96S5ceNGvffee9q1a5dyc3NVVFTksD83\\\n",
       "N1fNmjUrNe4GDRo4bCtp4+Pjo6CgIId9rq6u8vPz088//1zmGHr06FHms52ePXsqMzNTe/bsuWGA\\\n",
       "ZWZmSpL279+vuXPnltp/6NAhSdL333+v2NhYhYWFKTIyUmvWrNGPP/6oAQMGKCoqSl26dJGXl9d1\\\n",
       "j3Ot4cOHa/jw4RVuXxl/+9vflJycrMWLF5eaT6CiCDBUm0aNGpW5veSKrLi4uNJ93nPPPVqzZo0W\\\n",
       "LVqkVatW6YMPPpAktW/fXpMnT9bgwYPtbd966y1NmTJFPj4+6tevn4KCguTl5SUXFxetX79e+/bt\\\n",
       "06VLl0odo6xQLbk1eb3AdXV1LRWOJfz9/cvcXnKFeObMmRtUfOVWmyQtX778hu3OnTtnH8vatWu1\\\n",
       "YMECrV27VjNnzpR05YpsyJAhmjVrlnx9fW/YV3X6+eefNXXqVN19993/021koAQBBuPExMQoJiZG\\\n",
       "Fy5c0Ndff61NmzYpMTFRjzzyiJKTk9WrVy8VFRVp7ty5CggI0JYtW0pdZe3YseM3G+/JkyfL3H7q\\\n",
       "1ClJ1w/6EiX7N2/erMjIyAod08fHR7Nnz9bs2bOVk5OjjIwMLV++XCtWrNCRI0eUlJRUbh/V9Qws\\\n",
       "OztbZ8+eVUpKinx8fMpsM3ToUEnSyy+/rPHjx1dqDKg7CDAYy9vbW7169VKvXr3UunVrPf3009qw\\\n",
       "YYN69eql3Nxc5efnq0+fPqXCq6CgQLt37/7Nxvnll1/q8uXLpW4jZmRkSFKZKyGv1q1bNyUlJWnb\\\n",
       "tm0VDrCrtW7dWq1bt1ZcXJwiIyP1xRdfKD8/X40bN77hz1XXM7BmzZrp4YcfLnNfRkaGsrOzFRMT\\\n",
       "o+bNm6t9+/aVOj7qFgIMRtm8ebO6d+9eaoHCiRMnJMn+jMfPz0/169fXzp07VVBQYH8WV1hYqClT\\\n",
       "pig3N/c3G3N2drYSExNLrULMzMxUaGhoucvoR4wYoQULFmj+/Pnq2rWrunfv7rDfsix9+eWX6tq1\\\n",
       "qzw8PJSTk6Pz58+XOvkXFBTo3LlzcnNzc1iteT3V9QwsNDRUixYtKnPfY489puzsbD322GO68847\\\n",
       "q/zYqF0IMBhl+vTp+vHHH3XbbbcpODhYXl5e2r9/vz777DM1bdpUI0eOlHRlteK4ceP06quvqmfP\\\n",
       "nhowYIAKCwuVlpamvLw89e7d+zf7Qu+dd96p6dOna9OmTerQoYP9e2De3t5atGhRuSvwmjRpomXL\\\n",
       "lmnEiBG666671KdPH4WHh8vd3V1Hjx7VV199pZ9++kk5OTny8PDQvn37NGLECEVERKh9+/YKDAyU\\\n",
       "zWbTxo0blZeXpwkTJpRapAKYiACDUSZOnKj169dr586d9gBq3ry5HnvsMY0fP14tW7a0t502bZp8\\\n",
       "fX21fPlyvf/++2rUqJFuv/12TZ8+vczVfNWla9eueu655zRnzhy98847kqR+/frphRdeqPAtwT59\\\n",
       "+ig9PV2LFy/WZ599pu3bt8vNzU0BAQHq1q2bZsyYYX9Wdsstt2jixInaunWrUlNTlZeXp6ZNm6pd\\\n",
       "u3Z6+eWXdd9991VbrcBvycVms1nlNwNQWStWrNCECRM0efJkTZ061dnDAWod/vAYAMBIBBgAwEg8\\\n",
       "A4NTHT58WCtXrqxQ28r8nT0AtR/PwOBUaWlpGjRoUIXaJicn15i/og7A+QgwAICReAYGADASAQYA\\\n",
       "MBIB9n+ysrKcPQSnqau119W6pbpbe12tW6qdtRNgAAAjEWAAACMRYAAAIxFgAAAjEWAAACMRYAAA\\\n",
       "IxFgAAAjEWAAACMRYAAAIxFgAAAjEWAAACMRYAAAIxFgAAAjEWAAACMRYAAAIxFgAAAjEWAAACMR\\\n",
       "YAAAIxFgAAAjEWAAACMRYAAAIxFgAAAjEWAAACMRYAAAIxFgAAAjEWAAACMRYAAAIxFgAAAjudhs\\\n",
       "NsvZg7hWVlaWs4cAAKgCoaGh1dZ3jQwwZ8jKyqrWia7J6mrtdbVuqe7WXlfrlmpn7dxCBAAYiQAD\\\n",
       "ABiJAAMAGIkAAwAYiQADABiJAAMAGIkAAwAYiQADABiJAAMAGIkAAwAYiQADABiJAAMAGIkAAwAY\\\n",
       "iQADABiJAAMAGIkAAwAYiQADABiJAAMAGIkAAwAYiQADABiJAAMAGIkAAwAYiQADABiJAAMAGIkA\\\n",
       "AwAYiQADABiJAAMAGIkAAwAYiQADABiJAAMAGIkAAwAYiQADABiJAAMAGIkAAwAYiQADABiJAAMA\\\n",
       "GIkAAwAYiQADABiJAAMAGIkAAwAYiQADABjJxWazWc4exLWysrKcPQQAQBUIDQ2ttr5rZIA5Q1ZW\\\n",
       "VrVOdE1WV2uvq3VLdbf2ulq3VDtr5xYiAMBIBBgAwEgEGADASAQYAMBIBBgAwEgEGADASAQYAMBI\\\n",
       "BBgAwEgEGADASAQYAMBIBBgAwEgEGADASAQYAMBIBBgAwEgEGADASAQYAMBIBBgAwEgEGADASAQY\\\n",
       "AMBIBBgAwEgEGADASAQYAMBIBBgAwEgEGADASAQYAMBIBBgAwEgEGADASAQYAMBIBBgAwEgEGADA\\\n",
       "SAQYAMBIBBgAwEgEGADASAQYAMBIBBgqLfdicaW211WVnaeqnFfeI9QFBBgqJfPEJS09cE7f5hU6\\\n",
       "bP82r1BLD5xT5olLThpZzVLZearKeeU9Ql3h5uwBwByZJy7p85+vnPySci5Ikto3cde3eYVKyrkg\\\n",
       "S7LvjwrwdNYwna6y81SV81rRvkIv11NoVRYNOAEBhgrJvViszcf++8nd0pUT5Hd5hcrKL5J1VdvN\\\n",
       "xy6pbWM3+Xq5/ubjdLbKzlNTr3pVNq+VOfZ2Wz31u1hcJ98j1B7cQkSF+Hq5alArb7lctc2S9P01\\\n",
       "J0YXSYNaedfZE2Nl5ym0sXuVzWtljt3Pl/CC+bgCQ4W1b+IuSfZbUddykXRva297u7qqsvNUlfNa\\\n",
       "0b7cT5e1FzCLi81mq3G/yVlZWc4eAm7gk1Ouyjlf+uK9df3LusuPVW4lKjtPVTmvvEeoKUJDq+9p\\\n",
       "a428AqvOgq8nKyvLKcetCSpT+7d5hTpbcEFNvUvvOyup8GZzrsCq8z2v7DxV5bxWpC/30zl18ved\\\n",
       "/85rV+08A0OFXb2SrSwliwauXb5d11R2nqpyXiva16FzLtdpAZiDAEOF5F4sVvLhC6UWA7Rr7FZq\\\n",
       "0UDy4Qt19guzlZ2nrPzCKpvXyhw7Nde1zr5HqD0IMFSIr5erbg/873eQShYDPNCmvu5t7bjy7fZA\\\n",
       "zzq7wq2y8xTa2L3K5rUyx+7uc7nOvkeoPWrkMzDUTCVfot187JIGtSq9ii758AXdHuhZp7/ELFV+\\\n",
       "nqpyXivaV9Mzl6ukVsCZCDBUSlSAZ5lfpm3fxF0B3vX4VP9/KjtPVTmvFekr60wlCwJqIG4hotKu\\\n",
       "dzIlvBxVdp6qcl55j1AXEGAAACMRYAAAIxFgAAAjEWAAACMRYAAAIxFgAAAjEWAAACMRYAAAIxFg\\\n",
       "AAAjEWAAACMRYAAAIxFgAAAjEWAAACMRYAAAIxFgAAAjEWAAACMRYAAAIxFgAAAjEWAAACMRYAAA\\\n",
       "IxFgAAAjEWAAACMRYAAAIxFgAAAjEWAAACMRYAAAIxFgAAAjEWAAACMRYAAAIxFgAAAjEWAAACMR\\\n",
       "YAAAIxFgAAAjEWAAACMRYAAAI7nYbDbL2YO4VlZWlrOHAACoAqGhodXWd40MMGfIysqq1omuyepq\\\n",
       "7XW1bqnu1l5X65ZqZ+3cQgQAGIkAAwAYiQADABiJAAMAGIkAAwAYiQADABiJAAMAGIkAAwAYiQAD\\\n",
       "ABiJAAMAGIkAAwAYiQADABiJAAMAGIkAAwAYiQADABiJAAMAGIkAAwAYiQADABiJAAMAGIkAAwAY\\\n",
       "iQADABiJAAMAGIkAAwAYiQADABiJAAMAGIkAAwAYiQADABiJAAMAGIkAAwAYiQADABiJAAMAGIkA\\\n",
       "AwAYiQADABiJAAMAGIkAAwAYiQADABiJAAMAGIkAAwAYiQADABiJAAMAGMnFZrNZzh7EtbKyspw9\\\n",
       "BABAFQgNDa22vmtkgDlDVlZWtU50TVZXa6+rdUt1t/a6WrdUO2vnFiIAwEgEGADASAQYAMBIBBgA\\\n",
       "wEgEGADASAQYAMBIBBgAwEgEGADASAQYAMBIBBgAwEgEGADASAQYAMBIBBgAwEgEGADASAQYAMBI\\\n",
       "BBgAwEgEGADASAQYAMBIBBgAwEgEGADASAQYAMBIBBgAwEgEGADASAQYAMBIBBgAwEgEGADASAQY\\\n",
       "AMBIBBgAwEgEGADASC42m81y9iAAAKgsrsAAAEYiwAAARiLAAABGIsAAAEYyNsCOHz+uRx99VCEh\\\n",
       "IQoICFBUVJS2bt0qSSosLNSMGTPUs2dPNW/eXGFhYRozZoyOHDni0MelS5f07LPPqk2bNmrevLn+\\\n",
       "8Ic/6OjRow5tjhw5omHDhql58+Zq06aNnnvuOf36668ObbZu3aq+ffsqICBAnTt31nvvvee02q/1\\\n",
       "1FNPycfHR4sWLXLYbmLtFan70KFDGjFihIKDgxUYGKg+ffro4MGDRtctlV97QUGBnn32WbVv317N\\\n",
       "mjXTrbfeqiVLljj0YWLtnTp1ko+PT6lXXFycvc3SpUsVERGhgIAA9e3bVxkZGbW+7oULF6pfv34K\\\n",
       "CgpSSEiIhg0bpm+//dahD8uyNHfuXIWHh6tZs2YaOHCgvvvuO4c2NptNY8eOVXBwsIKDgzV27FjZ\\\n",
       "bDaHNvv379eAAQPUrFkz/f73v1dCQoIsq2as/TMywGw2m2JjY2VZlv7+978rMzNTf/nLX+Tn5ydJ\\\n",
       "On/+vHbv3q1JkyZpy5YtWrlypY4ePaqhQ4eqqKjI3s/UqVOVnJysxMREbdiwQWfPntWwYcNUXFws\\\n",
       "SSouLtawYcNUUFCgDRs2KDExUUlJSZo2bZq9j5ycHMXFxal79+764osv9Kc//UnPPfec1q1b55Ta\\\n",
       "r7Zu3Tp98803CgwMLLXPtNorUndOTo5iY2PVqlUrJSUladu2bZo+fboaNGhgbN0VrX3atGn65JNP\\\n",
       "9NZbbykzM1MTJ07UzJkz9eGHHxpde2pqqg4ePGh/bdmyRS4uLrrvvvskSR9//LGmTJmiiRMn6osv\\\n",
       "vlD37t314IMPOnxYrY11b926VaNHj9bGjRuVlJQkNzc33XfffcrLy7P38frrr2vJkiVKSEjQ559/\\\n",
       "Lj8/Pw0ZMkRnz561txkzZoz27Nmjf/zjH1q9erX27NmjcePG2fefOXNGQ4YMkb+/vz7//HPNmzdP\\\n",
       "ixYt0uLFi6ul7soychn9rFmzlJ6ero0bN1b4Zw4cOKDo6Gilp6erQ4cOys/PV9u2bbVkyRL7p5qf\\\n",
       "fvpJnTp10urVqxUTE6NPP/1UcXFx2rt3r1q2bClJ+uijj/Tkk08qKytLjRo10owZM5ScnKxvvvnG\\\n",
       "fqwnnnhCBw4c0Kefflq1havitf/444+KjY3V2rVrNXToUI0dO1ZPPPGEJBlZe0XqHjNmjFxcXPTu\\\n",
       "u++Wud/EuqWK1d6jRw8NGjRIzz//vH3bgAED1KFDB82fP9/Y2q/1yiuv6I033tCBAwdUv359xcTE\\\n",
       "qEOHDnrjjTfsbbp06aLBgwdrxowZtbbuaxUUFCg4OFgrVqxQ//79ZVmWwsPDFR8fr0mTJkmSLly4\\\n",
       "oNDQUM2ePVujRo3SwYMHFRUVpZSUFEVHR0uStm3bpv79+2vHjh0KDQ1VYmKiXnrpJX3//ffy9vaW\\\n",
       "JM2fP1/vvfeevv32W7m4uFR77Tdi5BXY+vXr1bVrV40aNUpt27ZVr1699M4779zwsrbkU4ePj48k\\\n",
       "adeuXSosLNQdd9xhb9OyZUuFhYUpMzNTkrR9+3aFhYXZf6klKSYmRpcuXdKuXbvsba7uo6TNzp07\\\n",
       "VVhYWDUFX6UitRcVFWnMmDGaNGmSwsLCSvVhYu3l1X358mWlpKQoLCxMDzzwgEJCQtSvXz99/PHH\\\n",
       "RtddkdolKTo6WikpKfrpp58kSZmZmdq3b59iYmKMrv1qlmVp+fLlGjZsmOrXr69ff/1Vu3btKjWe\\\n",
       "O+64w15Tbay7LAUFBbp8+bL9/Hb48GGdOHHCYcze3t7q2bOnQ9033XSToqKi7G2io6PVoEEDhzY9\\\n",
       "evSwh5d0pe5jx47p8OHDVV5rZRkZYDk5OUpMTFTr1q21Zs0aPfroo5o5c+Z1P3n/+uuvmj59uu6+\\\n",
       "+261aNFCknTy5Em5urrK19fXoa2fn59Onjxpb3PtrTlfX1+5urresI2fn5+KioqUm5tbJfVerSK1\\\n",
       "z507V02aNNHo0aPL7MPE2sur+9SpUyooKLA/G/jnP/+pBx54QPHx8UpJSTG27orULkkJCQnq1KmT\\\n",
       "OnbsqJtvvlkDBw7USy+9pLvvvtvo2q+Wmpqqw4cP6+GHH5Yk5ebmqri4uMzxXD3e2lZ3WaZMmaJO\\\n",
       "nTqpe/fukqQTJ07Yx3i1a+v29fV1uIpycXHRzTffXG7dJfuczc3ZA/hfXL58WbfccotmzJghSerc\\\n",
       "ubN++OEHLV26VGPHjnVoW1RUpLFjxyo/P1+rVq0qt2/Lskq9oWW5UZuST8bVcXldXu1bt27VypUr\\\n",
       "lZaWVum+a3Lt5dV9+fJlSVdumz3++OOSpIiICO3atUtLly61n8jLUpPrlir2+/72228rMzNTq1at\\\n",
       "UlBQkDIyMvTCCy8oODhYd95553X7rum1X+2DDz5Qly5dFBERcd2xlYynvLHUhrpLPP/88/ryyy+V\\\n",
       "kpIiV1dXh33lzU1ZYy+vzW9Vd0UYeQUWEBBQ6tZYu3bt7LdPShQVFWn06NHav3+/1q1bp6ZNm9r3\\\n",
       "+fv7q7i4uNSnp9OnT9s/Yfj7+5f6lHHtp76y2pw+fVpubm4Ox6sq5dWelpam48ePKywsTL6+vvL1\\\n",
       "9dWRI0c0Y8YMtW/f3j5m02ovr25fX1+5ubndsI2JdUvl137hwgXNmjVLM2fOVP/+/dWxY0eNHTtW\\\n",
       "999/v331qam1lzh16pQ2bNigkSNH2rdde5V09XiuHm9tq/tqU6dO1Zo1a5SUlKTWrVvbtwcEBEgq\\\n",
       "fZV0bd2nT592uBVtWZZyc3PLrVsqfXXnDEYGWHR0tA4dOuSw7dChQwoKCrL/u7CwUKNGjdL+/fuV\\\n",
       "nJxsf0NLREZGyt3dXampqfZtR48etT/YlKTu3bvr4MGDDktuU1NT5enpqcjISHubzZs3O/Sdmpqq\\\n",
       "W265Re7u7lVS79XKq33MmDFKT09XWlqa/RUYGKjx48fbV0yZWHt5dXt4eKhLly7Kysq6bhsT65bK\\\n",
       "r72wsFCFhYWlPn27urrar0xNrb3EihUr5Onpqfvvv9++zcPDQ5GRkQ41lYynpKbaWHeJyZMna/Xq\\\n",
       "1UpKSlK7du0c9rVq1UoBAQEOdV+8eFHbtm1zqLugoEDbt2+3t9m+fbvOnTvn0Gbbtm26ePGivU1q\\\n",
       "aqoCAwPVqlWrKq31f+E6ZcqUl5w9iMpq2bKlEhISVK9ePTVr1kxbtmzRnDlz9Mwzz6hr164qKirS\\\n",
       "yJEj9c0332jZsmVq2LChzp07p3PnzsnV1VXu7u7y8vLS8ePH9e6776pjx47Kz8/XM888o0aNGmnm\\\n",
       "zJmqV6+eWrdureTkZH3++efq0KGDDhw4oEmTJunBBx/UoEGDJEm/+93v9Nprr+nUqVMKCgrShg0b\\\n",
       "tGDBAs2ZM0fh4eG/ee0NGjSQn5+fw+vtt99W37591b9/f0kysvby6pakJk2aaN68efL391ejRo2U\\\n",
       "lJSk119/XX/+85/Vtm1bI+uuSO2enp5KS0uzL2KxLEvr16/XwoULNW7cON16663G1i5duSqYMGGC\\\n",
       "YmNj7cvISzRs2FBz585Vs2bN5OXlpfnz5ysjI0OLFy9W48aNa23dkyZN0ocffqj3339fLVu2tJ/f\\\n",
       "pCvB7uLiouLiYr366qtq27atiouLNW3aNJ04cUKvvfaaPD09dfPNN+urr77S6tWrFRERoaNHj+qZ\\\n",
       "Z55Rly5d7EvpQ0JC9Ne//lV79+5VaGiotm3bphdffFFPP/20w+IPp7HZbJaJr48++sjq0KGD5enp\\\n",
       "aYWEhFjz5s2z8vLyLJvNZu3evduSVOZryZIl9j6OHz9uxcfHW02aNLG8vb2t2NhYa9++fQ7H2bt3\\\n",
       "rxUbG2t5e3tbTZo0seLj460TJ044tPnXv/5lRUREWB4eHlZwcLC1cOFCp9Ve1isoKMiaPXu2wzYT\\\n",
       "a69I3UuWLLFCQkIsLy8vq3379tbSpUuNr7sitR88eNB66KGHrMDAQMvLy8sKDQ21Zs+e7dDG1NqT\\\n",
       "kpIsSdZnn31W5v5XXnnFCgoKsjw8PKzOnTtb69evrxXv+Y3qvt75bfLkyfY2eXl51uTJk62AgADL\\\n",
       "09PT6tmzp5WRkeHQz3/+8x8rLi7OatiwodWwYUMrLi7OysnJcWiTnp5u9ejRw/L09LQCAgKsKVOm\\\n",
       "3PB881u+jPweGAAARj4DAwCAAAMAGIkAAwAYiQADABiJAAMAGOn/AYzj7KnHHxjcAAAAAElFTkSu\\\n",
       "QmCC\\\n",
       "\"\n",
       "  frames[4] = \"data:image/png;base64,iVBORw0KGgoAAAANSUhEUgAAAbAAAAEgCAYAAADVKCZpAAAABHNCSVQICAgIfAhkiAAAAAlwSFlz\\\n",
       "AAALEgAACxIB0t1+/AAAADl0RVh0U29mdHdhcmUAbWF0cGxvdGxpYiB2ZXJzaW9uIDMuMC4yLCBo\\\n",
       "dHRwOi8vbWF0cGxvdGxpYi5vcmcvOIA7rQAAIABJREFUeJzt3XlUVeX+x/EPAjI4oQioiXpDxJxT\\\n",
       "EzRyoitpjmnYSu81l1NpVl4tTS1zuKFpZpl3NWiDZjZoKaRLzRmV0Eock7DCzBwJUBwZ9u8PL+d6\\\n",
       "BOXgTzw88n6txVq197Of5/vl0PmcPZyVS3p6uiUAAAxTxtkFAABwMwgwAICRCDAAgJEIMACAkQgw\\\n",
       "AICRCDAAgJEIMACAkQgwAICRCDAAgJEIMACAkQgwAICRCDAAgJEIMACAkQgwoASJjo6Wj4+P4uLi\\\n",
       "nF0KUOIRYACc4uLFi5o/f74iIiJUt25d1ahRQy1bttTIkSOVlJTk7PJgADdnFwCg9MnOzlaPHj2U\\\n",
       "kJCgoKAg9erVS15eXtq3b58++eQTffHFF/ryyy/Vtm1bZ5eKEowAA3DbffPNN0pISFB4eLhWrFgh\\\n",
       "V1dX274PP/xQo0aN0syZMwkw3BCXEHHLHT58WD4+Pnr44YeVmpqqZ599ViEhIfL391dYWJgWLlz4\\\n",
       "/5o/Li5Offv2VcOGDeXv76+6deuqffv2mjBhgizrf/+D8WPHjmn69Onq1KmT6tWrJz8/P9WvX1+D\\\n",
       "Bg3STz/9dMO6T548qREjRig4OFg1atRQp06dtG3bNklSZmamxo8fr0aNGsnf31+hoaFavnx5vvkW\\\n",
       "L14sHx8fRUdHa8eOHerRo4cCAwMVGBioPn36KDExsUh9//rrrxo5cqRt3aCgIPXr16/AeTIyMjRj\\\n",
       "xgy1bt1agYGBuuuuu9SkSRP179+/RNxfS0lJkSR16tTJLrwkqWvXrpKk1NTU210WDEOAodhkZGQo\\\n",
       "MjJSO3fuVPfu3fXYY4/p2LFjeuaZZ/TJJ5/c1Jxr165V9+7dFR8fr/DwcD399NPq3r27KlWqpHff\\\n",
       "fVc5OTm2sdu3b9ebb74pHx8fde/eXU899ZRatGihFStWKCIiQnv27Llh3T/99JMeffRRderUSTt3\\\n",
       "7lTv3r21Z88ede/eXRs2bFCXLl3Uu3dv/fbbbxo4cKB27txZ4Hw//PCDunbtKk9PTw0ZMkQdO3bU\\\n",
       "hg0b1LlzZyUkJDjU9+bNm9W2bVstWbJETZs21ZNPPqmOHTtq/fr1ioyM1Pr1621jLctSnz59FB0d\\\n",
       "LW9vb/Xv31+DBw9WWFiYEhMTtXnz5iL8xotH/fr1JV15Pa9+zaQrZ2eS1L59+9tdFgzDJUQUm337\\\n",
       "9umJJ57Q66+/bvuUPXz4cN1///1666231L9//yLPuXDhQlmWpdjYWDVt2tRu319//SU3t//9Sbdt\\\n",
       "21Y///yzKlSoYDcuMTFRXbp00eTJk7Vs2bIC6x42bJimT58uFxcXSdLs2bM1ZcoUde3aVR06dND8\\\n",
       "+fPl7u4uSerYsaOGDBmiOXPmaPHixfnmW7dunWbOnKkhQ4bYtq1YsUIDBgzQ008/rR07dtjWKUhG\\\n",
       "RoYGDhwod3d3rVu3zvbmL0lJSUmKiIjQiBEjtHv3bnl4eGj//v3auXOnOnfurCVLltjNZVmW0tLS\\\n",
       "rrvW1fbs2aOVK1c6NDbP448/rtq1axc6LjIyUt26dVNsbKxCQ0PVoUMHeXt7a+/evdqyZYuioqI0\\\n",
       "YcKEIq2N0ocAQ7Hx9vbWtGnT7C4R1a9fX2FhYdq2bZvOnj2bL1wKU6ZMGdvc16pSpYrdv/v5+RU4\\\n",
       "R7NmzfTAAw9o06ZNysrKsgVRnnLlyunll1+2C5WoqChNmTJFZ86c0bRp0+yOeeSRRzR8+HDt3bu3\\\n",
       "wPXuvvtuDRo0yG5bjx49FBoaqoSEBCUkJCgsLOy6PX/22Wf666+/NH36dLvwkqSQkBD985//1H/+\\\n",
       "8x9t2rRJkZGRN/wdubi45Ps9Xc/evXs1Y8YMh8bmCQ8PdyjAXFxctHDhQs2aNUvTp0/XoUOHbPta\\\n",
       "tmyp/v37q1y5ckVaG6UPAYZiExQUpPLly+fbftddd0m6cmZR1ACLiopSTEyMIiIi1KtXLz3wwAO6\\\n",
       "7777rvumuWbNGn3wwQdKTExUamqqsrOz7fanpqaqWrVq+eq+9s0zb4yPj48CAwPt9rm6usrPz09/\\\n",
       "/vlngTW0bt3aFipXa9OmjRISErRnz54bBljeZcb9+/crOjo63/68N/+ff/5ZkZGRCgkJUbNmzbRs\\\n",
       "2TL9/vvv6tKli0JDQ9W8eXN5enped51r9evXT/369XN4fFFcvHhRTz31lNauXavp06erW7duKl++\\\n",
       "vBITEzV+/Hj17NlT7733nvr06VMs6+POQICh2FSsWLHA7XlnZNfe+3BE165dtWzZMs2dO1dLlizR\\\n",
       "xx9/LElq0KCBxo4dqx49etjGvvPOOxo3bpx8fHzUoUMHBQYGytPTUy4uLlq5cqX27dunS5cu5Vuj\\\n",
       "oFDNuzR5vcB1dXXNF455/P39C9yed4Z45syZG3R85dKoJC1atOiG486dO2erZfny5Xr99de1fPly\\\n",
       "TZ48WdKVM7JevXppypQp8vX1veFcxW327Nn6+uuv9eqrr9pdWg0PD9cXX3yhZs2aafz48erdu/cN\\\n",
       "L6+idCPAYJyIiAhFRETowoUL+uGHH7Ru3TotWLBATzzxhGJjYxUeHq7s7GxFR0crICBAmzdvzneW\\\n",
       "db0HLorDyZMnC9x+6tQpSdcP+jx5+zdt2qRmzZo5tKaPj4+mTp2qqVOnKiUlRdu3b9eiRYu0ePFi\\\n",
       "HTlyRDExMYXOUZz3wNasWSNJateuXb591apVU7169bRnzx79+eeftjN24FoEGIzl5eWl8PBwhYeH\\\n",
       "q06dOnruuee0atUqhYeHKzU1VRkZGWrbtm2+8MrMzNTu3btvW53fffedcnNz811G3L59uySpSZMm\\\n",
       "Nzz+vvvuU0xMjOLj4x0OsKvVqVNHderUUVRUlJo1a6YtW7YoIyNDlSpVuuFxxXkPLCsrS5J0+vTp\\\n",
       "AvfnPULv4eFRpPVRuvAYPYyyadMmnT9/Pt/2EydOSJLtHo+fn5+8vb21a9cuZWZm2sZlZWVp3Lhx\\\n",
       "t/U7Rr/88osWLFhgt23FihVKSEhQcHCwQkNDb3h8//795ePjo5kzZ2rHjh359luWpfj4eF2+fFnS\\\n",
       "le9YHThwIN+4zMxMnTt3Tm5ubnZPa15Pv379lJ6eXqSfBx54oNB5pSv3BSVp1qxZunjxot2+999/\\\n",
       "X0ePHlWDBg1UtWpVh+ZD6cQZGIwyceJE/f7777r//vtVq1YteXp6av/+/Vq/fr2qVKmiAQMGSLry\\\n",
       "tOKwYcP0xhtvqE2bNurSpYuysrIUFxentLQ0PfDAA7ftC70PPvigJk6cqHXr1qlhw4b65ZdfFBsb\\\n",
       "Ky8vL82dO7fQezyVK1fWwoUL1b9/f3Xq1Elt27ZV/fr15e7urqNHj+r777/XH3/8oZSUFJUtW1b7\\\n",
       "9u1T//791aRJEzVo0EDVq1dXenq61qxZo7S0NI0YMcLpT/iNHj1aq1evVlxcnFq2bKm///3vKleu\\\n",
       "nHbt2qVt27bJw8NDr732mlNrRMlHgMEoo0eP1sqVK7Vr1y5bANWoUUNPPfWUhg8frpo1a9rGTpgw\\\n",
       "Qb6+vlq0aJE++ugjVaxYUe3bt9fEiRMLfJqvuLRo0UIvvPCCpk2bpvfee0+S1KFDB7300ksOXxJs\\\n",
       "27attm3bprffflvr16/Xjh075ObmpoCAAN13332aNGmS7V7Zvffeq9GjR2vr1q3auHGj0tLSVKVK\\\n",
       "FdWrV0+vvvqqevbsWWy9OqpGjRravHmz5syZo7Vr12rJkiXKyclRQECA+vbtq+eee0733HOPs8tE\\\n",
       "CeeSnp5uFT4MQFEtXrxYI0aM0NixY/Xiiy86uxzgjsM9MACAkQgwAICRuAcGpzp8+LA+/fRTh8Y6\\\n",
       "+h0jAKUD98DgVHFxcerWrZtDY2NjYx1+TBvAnY8AAwAYiXtgAAAjEWAAACMRYP+VnJzs7BKcprT2\\\n",
       "Xlr7lkpv76W1b+nO7J0AAwAYiQADABiJAAMAGIkAAwAYiQADABiJAAMAGIkAAwAYiQADABiJAAMA\\\n",
       "GIkAAwAYiQADABiJAAMAGIkAAwAYiQADABiJAAMAGIkAAwAYiQADABiJAAMAGIkAAwAYiQADABiJ\\\n",
       "AAMAGIkAAwAYiQADABiJAAMAGIkAAwAYiQADABiJAAMAGIkAAwAYySU9Pd1ydhHXSk5OdnYJAIBb\\\n",
       "IDg4uNjmLpEB5gzJycnF+osuyUpr76W1b6n09l5a+5buzN65hAgAMBIBBgAwEgEGADASAQYAMBIB\\\n",
       "BgAwEgEGADASAQYAMBIBBgAwEgEGADASAQYAMBIBBgAwEgEGADASAQYAMBIBBgAwEgEGADASAQYA\\\n",
       "MBIBBgAwEgEGADASAQYAMBIBBgAwEgEGADASAQYAMBIBBgAwEgEGADASAQYAMBIBBgAwEgEGADAS\\\n",
       "AQYAMBIBBgAwEgEGADASAQYAMBIBBgAwEgEGADASAQYAMBIBBgAwEgEGADASAQYAMBIBBgAwEgEG\\\n",
       "ADASAQYAMBIBBgAwkkt6errl7CKulZyc7OwSAAC3QHBwcLHNXSIDzBmSk5OL9RddkpXW3ktr31Lp\\\n",
       "7b209i3dmb1zCREAYCQCDABgJAIMAGAkAgwAYCQCDABgJAIMAGAkAgwAYCQCDABgJAIMAGAkAgwA\\\n",
       "YCQCDABgJAIMAGAkAgwAYCQCDABgJAIMAGAkAgwAYCQCDABgJAIMAGAkAgwAYCQCDABgJAIMAGAk\\\n",
       "AgwAYCQCDABgJAIMAGAkAgwAYCQCDABgJAIMAGAkAgwAYCQCDABgJAIMAGAkAgwAYCQCDABgJAIM\\\n",
       "AGAkAgwAYCQCzCCpF3OKtP1Or+NGaxZ3LY6sW9TabraXgvanXsy57nbgTkGAGSLhxCXNP3hOB9Ky\\\n",
       "7LYfSMvS/IPnlHDiUqmqw5m1OLJuUWu72V4KOi7hxCVF7zqj6F1n7Y5zxmsEFCc3ZxeAwiWcuKQN\\\n",
       "f15504lJuSBJalDZXQfSshSTckGWZNsfGuBxx9fhzFocWXfRz+dkubioZjlXh2q72V4KOu7s5Vx9\\\n",
       "/st5JWVkS5b0+S+WJKlC2TJ2cwXnllHwLfutAM5BgJVwqRdztOnY/z4xW7ryZvVTWpaSM7JlXTV2\\\n",
       "07FLqlvJTb6erndsHc6sxZF1L2TnKiXzymW6Kh4u8nYrc8PaqniWualeCqrl80PnlZKZrdMXc5V3\\\n",
       "YFJ6tv6zP1O1K7jKy+1/F1x2pJdRh4s5xfYaAbcDlxBLOF9PV3Wr7SWXq7ZZkn6+5s3NRVK32l7F\\\n",
       "9oZUUupwZi2OrOvlVkYhPu4KqeQm7/8Gxo1qC67kflO9FFSLp5uLfD3K6NoDfT3L2IWXi6QOvoQX\\\n",
       "zMcZmAEaVHaXJNsloGu5SOpex8s27k6vw5m1OLLuoPrlilTbzfZS0HF+XldCKSk9W3KRQiq52bZd\\\n",
       "PZf76YJWAsxSIgMsOTm5VK3rCHdJFS64KuV8/pPmOt65cj+do+TTNz+/o70Xdx1FcStquZnX3JF1\\\n",
       "VcTabraXgo5zleSRfeXczPW8pb/OF1xfSf57L06ltW/JOb0HBxff3dYSGWDF2fD1JCcnO2VdRx1I\\\n",
       "y9LZzAuq4pV/31lJWVVv/myjKL0XZx1F9f+t5WZfc0fWlVSk2m62l4KOO3UhR5cuXzkDy/G2PwPL\\\n",
       "m8v9dEqJ/nsvLiX9v/PidCf2XiIDDPaufhqtIHk3/iUVa3iUlDqcWYsj6y44eE6yLFX1Kvge07W1\\\n",
       "3WwvBR136kLOlcuH/z0wKePKP+eFWN5cTV1ceAoRxuMhjhIu9WKOYg9fyHdDv14lt3w3/mMPXyi2\\\n",
       "L6qWlDqcWYsj617IzlVSepaSMrJ1Pju30NqSM7JuqpeCarmYbSn1Uq6uPTD1Yq4u/LeWvLk2prry\\\n",
       "pWYYjwAr4Xw9XdW++v+++5N3E7733d7qXsf+KbT21T2K9SnEklCHM2txZF0vtzKqU95VtStceQqx\\\n",
       "sNqCK7nfVC8F1dK3rreGNyivkEputhAL8XHT8Ibl9VjdcnZztfLJ5SlEGI9LiAbI+/LqpmOX1K12\\\n",
       "/qfXYg9fUPvqHsX+5eGSUocza3Fk3X/UK1ek2m62l+sdJ0lf/npekosevdvL7ri8uaqcyRVgOgLM\\\n",
       "EKEBHgV+IbdBZXcFeJW5bZ+mS0odzqzF0XWLUtvN9lLQcXnbJNltv3qu5DNFbBoogQgwg1zvTex2\\\n",
       "XwoqKXXcaM3irsWRdYta2832UtD+kvQaAcWFe2AAACMRYAAAIxFgAAAjEWAAACMRYAAAIxFgAAAj\\\n",
       "EWAAACMRYAAAIxFgAAAjEWAAACMRYAAAIxFgAAAjEWAAACMRYAAAIxFgAAAjEWAAACMRYAAAIxFg\\\n",
       "AAAjEWAAACMRYAAAIxFgAAAjEWAAACMRYAAAIxFgAAAjEWAAACMRYAAAIxFgAAAjEWAAACMRYAAA\\\n",
       "IxFgAAAjEWAAACMRYAAAIxFgAAAjEWAAACMRYAAAI7mkp6dbzi7iWsnJyc4uAQBwCwQHBxfb3CUy\\\n",
       "wJwhOTm5WH/RJVlp7b209i2V3t5La9/Sndk7lxABAEYiwAAARiLAAABGIsAAAEYiwAAARiLAAABG\\\n",
       "IsAAAEYiwAAARiLAAABGIsAAAEYiwAAARiLAAABGIsAAAEYiwAAARiLAAABGIsAAAEYiwAAARiLA\\\n",
       "AABGIsAAAEYiwAAARiLAAABGIsAAAEYiwAAARiLAAABGIsAAAEYiwAAARiLAAABGIsAAAEYiwAAA\\\n",
       "RiLAAABGIsAAAEYiwAAARiLAAABGIsAAAEYiwAAARiLAAABGIsAAAEYiwAAARiLAAABGIsAAAEZy\\\n",
       "SU9Pt5xdxLWSk5OdXQIA4BYIDg4utrlLZIA5Q3JycrH+okuy0tp7ae1bKr29l9a+pTuzdy4hAgCM\\\n",
       "RIABAIxEgAEAjESAAQCMRIABAIxEgAEAjESAAQCMRIABAIxEgAEAjESAAQCMRIABAIxEgAEAjESA\\\n",
       "AQCMRIABAIxEgAEAjESAAQCMRIABAIxEgAEAjESAAQCMRIABAIxEgAEAjESAAQCMRIABAIxEgAEA\\\n",
       "jESAAQCMRIABAIxEgAEAjESAAQCMRIABAIzkkp6ebjm7CAAAioozMACAkQgwAICRCDAAgJEIMACA\\\n",
       "kYwNsOPHj+vJJ59UUFCQAgICFBoaqq1bt0qSsrKyNGnSJLVp00Y1atRQSEiIBg8erCNHjtjNcenS\\\n",
       "JT3//PO6++67VaNGDT322GM6evSo3ZgjR46ob9++qlGjhu6++2698MILunz5st2YrVu3ql27dgoI\\\n",
       "CFDTpk31wQcfOK33az377LPy8fHR3Llz7bab2LsjfR86dEj9+/dXrVq1VL16dbVt21ZJSUlG9y0V\\\n",
       "3ntmZqaef/55NWjQQNWqVVPLli01b948uzlM7L1x48by8fHJ9xMVFWUbM3/+fDVp0kQBAQFq166d\\\n",
       "tm/ffsf3PXv2bHXo0EGBgYEKCgpS3759deDAAbs5LMtSdHS06tevr2rVqunhhx/WTz/9ZDcmPT1d\\\n",
       "Q4cOVa1atVSrVi0NHTpU6enpdmP279+vLl26qFq1arrnnns0Y8YMWVbJePbPyABLT09XZGSkLMvS\\\n",
       "F198oYSEBL322mvy8/OTJJ0/f167d+/WmDFjtHnzZn366ac6evSo+vTpo+zsbNs8L774omJjY7Vg\\\n",
       "wQKtWrVKZ8+eVd++fZWTkyNJysnJUd++fZWZmalVq1ZpwYIFiomJ0YQJE2xzpKSkKCoqSq1atdKW\\\n",
       "LVv0r3/9Sy+88IJWrFjhlN6vtmLFCv3444+qXr16vn2m9e5I3ykpKYqMjFTt2rUVExOj+Ph4TZw4\\\n",
       "UeXKlTO2b0d7nzBhgtauXat33nlHCQkJGj16tCZPnqzPPvvM6N43btyopKQk28/mzZvl4uKinj17\\\n",
       "SpK++uorjRs3TqNHj9aWLVvUqlUrPfroo3YfVu/Evrdu3apBgwZpzZo1iomJkZubm3r27Km0tDTb\\\n",
       "HG+++abmzZunGTNmaMOGDfLz81OvXr109uxZ25jBgwdrz549+vLLL7V06VLt2bNHw4YNs+0/c+aM\\\n",
       "evXqJX9/f23YsEHTp0/X3Llz9fbbbxdL30Vl5GP0U6ZM0bZt27RmzRqHjzl48KDCwsK0bds2NWzY\\\n",
       "UBkZGapbt67mzZtn+1Tzxx9/qHHjxlq6dKkiIiL07bffKioqSnv37lXNmjUlSZ9//rmeeeYZJScn\\\n",
       "q2LFipo0aZJiY2P1448/2tYaOXKkDh48qG+//fbWNi7He//9998VGRmp5cuXq0+fPho6dKhGjhwp\\\n",
       "SUb27kjfgwcPlouLi95///0C95vYt+RY761bt1a3bt00fvx427YuXbqoYcOGmjlzprG9X2vWrFl6\\\n",
       "6623dPDgQXl7eysiIkINGzbUW2+9ZRvTvHlz9ejRQ5MmTbpj+75WZmamatWqpcWLF6tz586yLEv1\\\n",
       "69fXkCFDNGbMGEnShQsXFBwcrKlTp2rgwIFKSkpSaGioVq9erbCwMElSfHy8OnfurJ07dyo4OFgL\\\n",
       "FizQK6+8op9//lleXl6SpJkzZ+qDDz7QgQMH5OLiUuy934iRZ2ArV65UixYtNHDgQNWtW1fh4eF6\\\n",
       "7733bnham/epw8fHR5KUmJiorKwsdezY0TamZs2aCgkJUUJCgiRpx44dCgkJsf1RS1JERIQuXbqk\\\n",
       "xMRE25ir58gbs2vXLmVlZd2ahq/iSO/Z2dkaPHiwxowZo5CQkHxzmNh7YX3n5uZq9erVCgkJUe/e\\\n",
       "vRUUFKQOHTroq6++MrpvR3qXpLCwMK1evVp//PGHJCkhIUH79u1TRESE0b1fzbIsLVq0SH379pW3\\\n",
       "t7cuX76sxMTEfPV07NjR1tOd2HdBMjMzlZuba3t/O3z4sE6cOGFXs5eXl9q0aWPXd/ny5RUaGmob\\\n",
       "ExYWpnLlytmNad26tS28pCt9Hzt2TIcPH77lvRaVkQGWkpKiBQsWqE6dOlq2bJmefPJJTZ48+bqf\\\n",
       "vC9fvqyJEyfqoYce0l133SVJOnnypFxdXeXr62s31s/PTydPnrSNufbSnK+vr1xdXW84xs/PT9nZ\\\n",
       "2UpNTb0l/V7Nkd6jo6NVuXJlDRo0qMA5TOy9sL5PnTqlzMxM272Br7/+Wr1799aQIUO0evVqY/t2\\\n",
       "pHdJmjFjhho3bqxGjRqpatWqevjhh/XKK6/ooYceMrr3q23cuFGHDx/WP/7xD0lSamqqcnJyCqzn\\\n",
       "6nrvtL4LMm7cODVu3FitWrWSJJ04ccJW49Wu7dvX19fuLMrFxUVVq1YttO+8fc7m5uwCbkZubq7u\\\n",
       "vfdeTZo0SZLUtGlT/frrr5o/f76GDh1qNzY7O1tDhw5VRkaGlixZUujclmXle0ELcqMxeZ+Mi+P0\\\n",
       "urDet27dqk8//VRxcXFFnrsk915Y37m5uZKuXDZ7+umnJUlNmjRRYmKi5s+fb3sjL0hJ7lty7O/9\\\n",
       "3XffVUJCgpYsWaLAwEBt375dL730kmrVqqUHH3zwunOX9N6v9vHHH6t58+Zq0qTJdWvLq6ewWu6E\\\n",
       "vvOMHz9e3333nVavXi1XV1e7fYX9bgqqvbAxt6tvRxh5BhYQEJDv0li9evVsl0/yZGdna9CgQdq/\\\n",
       "f79WrFihKlWq2Pb5+/srJycn36en06dP2z5h+Pv75/uUce2nvoLGnD59Wm5ubnbr3SqF9R4XF6fj\\\n",
       "x48rJCREvr6+8vX11ZEjRzRp0iQ1aNDAVrNpvRfWt6+vr9zc3G44xsS+pcJ7v3DhgqZMmaLJkyer\\\n",
       "c+fOatSokYYOHapHHnnE9vSpqb3nOXXqlFatWqUBAwbYtl17lnR1PVfXe6f1fbUXX3xRy5YtU0xM\\\n",
       "jOrUqWPbHhAQICn/WdK1fZ8+fdruUrRlWUpNTS20byn/2Z0zGBlgYWFhOnTokN22Q4cOKTAw0Pbv\\\n",
       "WVlZGjhwoPbv36/Y2FjbC5qnWbNmcnd318aNG23bjh49aruxKUmtWrVSUlKS3SO3GzdulIeHh5o1\\\n",
       "a2Ybs2nTJru5N27cqHvvvVfu7u63pN+rFdb74MGDtW3bNsXFxdl+qlevruHDh9uemDKx98L6Llu2\\\n",
       "rJo3b67k5OTrjjGxb6nw3rOyspSVlZXv07erq6vtzNTU3vMsXrxYHh4eeuSRR2zbypYtq2bNmtn1\\\n",
       "lFdPXk93Yt95xo4dq6VLlyomJkb16tWz21e7dm0FBATY9X3x4kXFx8fb9Z2ZmakdO3bYxuzYsUPn\\\n",
       "zp2zGxMfH6+LFy/axmzcuFHVq1dX7dq1b2mvN8N13Lhxrzi7iKKqWbOmZsyYoTJlyqhatWravHmz\\\n",
       "pk2bplGjRqlFixbKzs7WgAED9OOPP2rhwoWqUKGCzp07p3PnzsnV1VXu7u7y9PTU8ePH9f7776tR\\\n",
       "o0bKyMjQqFGjVLFiRU2ePFllypRRnTp1FBsbqw0bNqhhw4Y6ePCgxowZo0cffVTdunWTJP3tb3/T\\\n",
       "nDlzdOrUKQUGBmrVqlV6/fXXNW3aNNWvX/+2916uXDn5+fnZ/bz77rtq166dOnfuLElG9l5Y35JU\\\n",
       "uXJlTZ8+Xf7+/qpYsaJiYmL05ptv6t///rfq1q1rZN+O9O7h4aG4uDjbQyyWZWnlypWaPXu2hg0b\\\n",
       "ppYtWxrbu3TlrGDEiBGKjIy0PUaep0KFCoqOjla1atXk6empmTNnavv27Xr77bdVqVKlO7bvMWPG\\\n",
       "6LPPPtNHH32kmjVr2t7fpCvB7uLiopycHL3xxhuqW7eucnJyNGHCBJ04cUJz5syRh4eHqlatqu+/\\\n",
       "/15Lly5VkyZNdPToUY0aNUrNmze3PUofFBSkDz/8UHv37lVwcLDi4+P18ssv67nnnrN7+MNp0tPT\\\n",
       "LRN/Pv/8c6thw4aWh4eHFRQUZE2fPt1KS0uz0tPTrd27d1uSCvyZN2+ebY7jx49bQ4YMsSpXrmx5\\\n",
       "eXlZkZGR1r59++zW2bt3rxUZGWl5eXlZlStXtoYMGWKdOHHCbsw333xjNWnSxCpbtqxVq1Yta/bs\\\n",
       "2U7rvaCfwMBAa+rUqXbbTOzdkb7nzZtnBQUFWZ6enlaDBg2s+fPnG9+3I70nJSVZjz/+uFW9enXL\\\n",
       "09PTCg4OtqZOnWo3xtTeY2JiLEnW+vXrC9w/a9YsKzAw0CpbtqzVtGlTa+XKlXfEa36jvq/3/jZ2\\\n",
       "7FjbmLS0NGvs2LFWQECA5eGJILheAAAAZElEQVThYbVp08bavn273Ty//fabFRUVZVWoUMGqUKGC\\\n",
       "FRUVZaWkpNiN2bZtm9W6dWvLw8PDCggIsMaNG3fD95vb+WPk98AAADDyHhgAAAQYAMBIBBgAwEgE\\\n",
       "GADASAQYAMBI/wcKEfCPmplZxAAAAABJRU5ErkJggg==\\\n",
       "\"\n",
       "  frames[5] = \"data:image/png;base64,iVBORw0KGgoAAAANSUhEUgAAAbAAAAEgCAYAAADVKCZpAAAABHNCSVQICAgIfAhkiAAAAAlwSFlz\\\n",
       "AAALEgAACxIB0t1+/AAAADl0RVh0U29mdHdhcmUAbWF0cGxvdGxpYiB2ZXJzaW9uIDMuMC4yLCBo\\\n",
       "dHRwOi8vbWF0cGxvdGxpYi5vcmcvOIA7rQAAIABJREFUeJzt3XlcVPX+P/DXmQUYFmXfQRMRcsFd\\\n",
       "1NQkupGWmmVwb9I1v25dbTM1Le2aSxe9lkvmvS3qLf2pddOuQpqahaZCaLlr6mhhairroGzDLOf3\\\n",
       "BzIxrEOBzAdfz8eDR5dzPvM57/ecYV5zlvFKOp1OBhERkWAUzV0AERHR78EAIyIiITHAiIhISAww\\\n",
       "IiISEgOMiIiExAAjIiIhMcCIiEhIDDAiIhISA4yIiITEACMiIiExwIiISEgMMCIiEhIDjIiIhMQA\\\n",
       "I7rDkpKS4O7ujv379zd3KURCY4ARUZMwGAz497//jcmTJ2PAgAHw8fGBu7s71q5dW+9j9Xo9Vq5c\\\n",
       "iZiYGISEhCAwMBA9e/bEs88+i5ycnDtQPYlA1dwFEFHLVFRUhFdffRUA4OvrCz8/P1y5cqXex924\\\n",
       "cQMjR47EmTNn0L17dyQmJkKtVuPq1atITU1FVlYWvL29m7p8EgADjIiahLOzMz777DN06dIF/v7+\\\n",
       "SEpKwuLFi+t8jNlsxjPPPIMzZ85g5cqVePrpp63Wy7IMs9nclGWTQHgKkX6XS5cuwd3dHY888ghy\\\n",
       "c3Px4osvIiIiAr6+vujbty/WrVv3h+bfv38/EhIS0KlTJ/j6+qJ9+/YYPHgwZs+eDVn+7f9E/Nq1\\\n",
       "a1i0aBEeeughdOjQAT4+PoiMjMS4cePw448/1ll3VlYWpkyZgvDwcAQGBuKhhx7CwYMHAQCFhYV4\\\n",
       "7bXX0LlzZ/j6+iI6Ohpbt26tNt+GDRvg7u6OpKQkHDp0CCNGjEBISAhCQkIwatQoHDt2rEF9//TT\\\n",
       "T3j++ect2w0LC8Po0aNrnKegoACLFy9Gv379EBISgqCgIERFRSExMdEurq85ODjgT3/6E/z9/W1+\\\n",
       "zBdffIH09HQkJCRUCy8AkCQJSqWyMcskgfEIjP6QgoICxMXFwcHBAcOHD4der8e2bdvwwgsvQKFQ\\\n",
       "IDExscFz7t69GwkJCXBzc8OQIUMQFBQEnU6Hixcv4v3338e8efOgUpW/dNPS0rBixQoMHDgQw4cP\\\n",
       "h7OzMy5evIht27bhyy+/xM6dOxEVFVVr3R4eHnjyySfx66+/Ytu2bXjiiSewe/duvPTSSyguLsbQ\\\n",
       "oUNx69YtbNmyBWPHjkVQUBB69+5dbb4ffvgBy5YtQ0xMDCZMmICLFy8iJSUFBw8exNatWxEdHV1v\\\n",
       "3/v27cPo0aNRWlqKuLg4hIWF4dq1a0hJScGePXuwceNGxMbGAig/Ehk1ahQOHz6Mnj17IjExEQ4O\\\n",
       "Drh27RrS0tKwb98+DBw4sMHPfXPbvHkzACAxMRHXr1/H7t27kZ2dDX9/f8TExCAwMLCZKyR7wgCj\\\n",
       "P+TUqVN45pln8Pbbb1s+GU+ePBn33Xcf3nnnnd8VYOvWrYMsy0hJSUHXrl2t1uXl5VnCCwAGDRqE\\\n",
       "8+fPw83NzWrcsWPHMHToUMybNw9btmypse5JkyZh0aJFkCQJALB06VLMnz8fjz76KGJiYrB69Wqo\\\n",
       "1WoAwAMPPIAJEyZg+fLl2LBhQ7X59uzZgyVLlmDChAmWZdu2bcOYMWPw3HPP4dChQ5bt1KSgoABj\\\n",
       "x46FWq3Gnj17EBkZaVl37tw5xMbGYsqUKTh+/DgcHR1x+vRpHD58GEOGDMGmTZus5pJlGfn5+bVu\\\n",
       "q7ITJ05g+/btNo2t8NRTT6FNmzYNeoytjhw5AgA4ffo04uPjUVJSYlnn4OCAGTNmYMaMGU2ybRIP\\\n",
       "A4z+EGdnZyxcuNDqtE5kZCT69u2LgwcP4tatW9XCpT4KhcIyd1Wenp5Wv/v4+NQ4R7du3TBw4EDs\\\n",
       "3bsXBoPBEkQVXFxc8Pe//90qVOLj4zF//nzcvHkTCxcutHrM448/jsmTJ+PkyZM1bq9du3YYN26c\\\n",
       "1bIRI0YgOjoaGRkZyMjIQN++fWvt+ZNPPkFeXh4WLVpkFV4AEBERgb/+9a/417/+hb179yIuLq7O\\\n",
       "50iSpGrPU21OnjxZ73WpqgYMGNBkAVZxh+Frr72Gp59+GlOnToWHhwf27duHadOm4c0330RAQMDv\\\n",
       "+mBELQ8DjP6QsLAwuLq6VlseFBQEoPzIoqEBFh8fj+TkZMTGxmLkyJEYOHAgevfuXeub5q5du7B2\\\n",
       "7VocO3YMubm5MBqNVutzc3OrXYcJCwuDi4uL1bKKMe7u7ggJCbFap1Qq4ePjg19//bXGGvr162cJ\\\n",
       "lcr69++PjIwMnDhxos4Ay8jIAFB+5JGUlFRt/YULFwAA58+fR1xcHCIiItCtWzds2bIFv/zyC4YO\\\n",
       "HYro6Gj06NEDTk5OtW6nqtGjR2P06NE2j29qFTdoREdHY8WKFZblw4cPh1qtxl/+8hcsX76cAUYA\\\n",
       "GGD0B7Vq1arG5RVHZCaTqcFzPvroo9iyZQtWrlyJTZs24eOPPwYAdOzYETNnzsSIESMsY9977z3M\\\n",
       "mjUL7u7ulu8MOTk5QZIkbN++HadOnYJer6+2jZpCteLUZG2Bq1Qqq4VjBV9f3xqXVxwh3rx5s46O\\\n",
       "y0+NAsD69evrHFdUVGSpZevWrXj77bexdetWzJs3D0D5EdnIkSMxf/58eHl51TmXPWrdujWys7Mx\\\n",
       "dOjQausqrrVeuHABBQUFaN26dTNUSPaEAUZ2KTY2FrGxsSgpKcEPP/yAPXv2YM2aNXjmmWeQkpKC\\\n",
       "AQMGwGg0IikpCX5+fti3b1+1o6zDhw/fsXqzsrJqXJ6dnQ2g9qCvULF+79696Natm03bdHd3x4IF\\\n",
       "C7BgwQJkZmYiLS0N69evx4YNG3D58mUkJyfXO4e9XQNr3749srOzawwnhUIBNzc35ObmorS0lAFG\\\n",
       "DDCybxqNBgMGDMCAAQPQtm1bvPTSS9ixYwcGDBiA3NxcFBQUYNCgQdXCq7CwEMePH79jdX733Xcw\\\n",
       "m83VTiOmpaUBQI13QlbWu3dvJCcnIz093eYAq6xt27Zo27Yt4uPj0a1bN3z77bc2HaXY2zWwwYMH\\\n",
       "Iz09HWfPnq22LisrC7m5uXB1dRXy6JIaH78HRnZn7969KC4urrb8xo0bAGC5xuPj4wNnZ2ccPXoU\\\n",
       "hYWFlnEGgwGzZs1Cbm7unSkYwMWLF7FmzRqrZdu2bUNGRgbCw8PrvY0+MTER7u7uWLJkCQ4dOlRt\\\n",
       "vSzLSE9PR1lZGQAgMzMTZ86cqTausLAQRUVFUKlUVndr1mb06NHQ6XQN+mnK2/MTExPh7OyM9evX\\\n",
       "W677AeWnol9//XUA5TfH2NIbtXx8FZDdmTNnDn755Rfcd999CA0NhZOTE06fPo2vv/4anp6eGDNm\\\n",
       "DIDyU0qTJk3CsmXL0L9/fwwdOhQGgwH79+9Hfn4+Bg4ceMe+0Pvggw9izpw52LNnDzp16mT5HphG\\\n",
       "o8HKlSvrvIUeADw8PLBu3TokJibioYcewqBBgxAZGWn5J5S+//57XLlyBZmZmXBwcMCpU6eQmJiI\\\n",
       "qKgodOzYEQEBAdDpdNi1axfy8/MxZcqUajepNIdly5bh/PnzAGC5g3PTpk2W07sdOnTA1KlTLeOD\\\n",
       "goLw1ltvYcqUKRg8eDAeffRReHp64sCBAzhx4gTat2+P+fPn3/lGyC4xwMjuTJs2Ddu3b8fRo0ct\\\n",
       "ARQYGIi//e1vmDx5MoKDgy1jZ8+eDS8vL6xfvx4fffQRWrVqhcGDB2POnDk13s3XVHr27IlXXnkF\\\n",
       "CxcuxAcffAAAiImJweuvv27zKcFBgwbh4MGDePfdd/H111/j0KFDUKlU8PPzQ+/evTF37lzLtbLu\\\n",
       "3btj2rRpOHDgAFJTU5Gfnw9PT0906NAB//jHP/DYY481Wa8NsWfPHsu/blLh8OHDlgC77777rAIM\\\n",
       "KL/GFhISguXLl+PLL79EcXExgoOD8cILL+Dll1+Gu7v7Hauf7Juk0+nk+ocRUU02bNiAKVOmYObM\\\n",
       "mZZ/uJaI7gxeAyMiIiExwIiISEi8BkZN7tKlS9i4caNNY5vyO0ZE1LLwGhg1uf3792PYsGE2jU1J\\\n",
       "SRHyX1EnojuPAUZERELiNTAiIhISA4yIiITEALtNq9U2dwnN5m7t/W7tG7h7e79b+wZaZu8MMCIi\\\n",
       "EhIDjIiIhMQAIyIiITHAiIhISAwwIiISEgOMiIiExAAjIiIhMcCIiEhIDDAiIhISA4yIiITEACMi\\\n",
       "IiExwIiISEgMMCIiEhIDjIiIhMQAIyIiITHAiIhISAwwIiISEgOMiIiExAAjIiIhMcCIiEhIDDAi\\\n",
       "IhISA4yIiITEACMiIiExwIiISEgMMCIiEhIDjIiIhMQAIyIiITHAiIhISJJOp5Obu4iqtFptc5dA\\\n",
       "RESNIDw8vMnmtssAaw5arbZJn2h7drf2frf2Ddy9vd+tfQMts3eeQiQiIiExwIiISEgMMCIiEhID\\\n",
       "jIiIhMQAIyIiITHAiIhISAwwIiISEgOMiIiExAAjIiIhMcCIiEhIDDAiIhISA4yIiITEACMiIiEx\\\n",
       "wIiISEgMMCIiEhIDjIiIhMQAIyIiITHAiIhISAwwIiISEgOMiIiExAAjIiIhMcCIiEhIDDAiIhIS\\\n",
       "A4yIiITEACMiIiExwIiISEgMMCIiEhIDjIiIhMQAIyIiITHAiIhISAwwIiISEgOMiIiExAAjIiIh\\\n",
       "McCIiEhIDDAiIhISA4yIiITEACMiIiExwIiISEgMMCIiEhIDjIiIhMQAIyIiIUk6nU5u7iKq0mq1\\\n",
       "zV0CERE1gvDw8Cab2y4DrDlotdomfaLt2d3a+93aN3D39n639g20zN55CpGIiITEACMiIiExwIiI\\\n",
       "SEgMMCIiEhIDjIiIhMQAIyIiITHAiIhISAwwIiISEgOMiIiExAAjIiIhMcCIiEhIDDAiIhISA4yI\\\n",
       "iITEACMiIiExwIiISEgMMCIiEhIDjIiIhMQAIyIiITHAiIhISAwwIiISEgOMiIiExAAjIiIhMcCI\\\n",
       "iEhIDDAiIhISA4yIiITEACMiIiExwIiISEgMMCIiEhIDjIiIhMQAIyIiITHAiIhISAwwIiISEgOM\\\n",
       "iIiExAAjIiIhMcAEkltqatDyptpuxe+1Lb+TatumtsBQ47ja/lvffFXH1DSu6vKG7q/6lte2/nCW\\\n",
       "vsbHVH0OKs+hq76qzm0Q2SPlrFmz3mjuIuxBXl4evLy8mruMWmXc0OPzzBJ4Oirgo1Falp/JN+CT\\\n",
       "i8VQS0Cwq+p3zV1X71W3W/F7vt6MXVdKLdttjDoaqrbn5NMLxVhy/BaUEtDZ06Fazed1Bhy4Xobr\\\n",
       "N0uQVqBuUA8ZN/R451Qh0m/oEeyqsmz3TL4BK08V4uureng5KnC1yNSg/VXf/q2ouer6N48U4B9H\\\n",
       "b6HYZEZ/P0fLXEnHbuL/aYthkmV093aoNte3v5YiyMO10V9L9s7e/86bUkvsnQF2mz3v3Iwbenzz\\\n",
       "qx4ygPM6Izydyt/EzuQbkJxZAhnAz7dMcFD8vjee2nqvut2rRUYcyTUgq8SE3VdK4aSUkFVqxq9F\\\n",
       "JmRklf3hOhqitufk0wvFWHe+CDKA43kGXLplRGahyVJzQZmMozkG3NSb8V2uCa6ODjb3kHFDj/Xn\\\n",
       "i/DzLRNy9GZcvmVEiKsK2aVmrDlbhLP5BuTrzfghWw/tLRPc1Aqb9ld9+/dykQnp18ugAHCt2GxZ\\\n",
       "/+aRAnxyoQSAjGM5BpSYZCgBvHemEN/nGFBsMENbYIRZBhyVktVcJqMR+SZVo7+W7J09/503tZbY\\\n",
       "u6TT6eTmLsIeaLVahIeHN3cZ1eSWmrD6bBHMlfaSBCC8tQraAiMq7zyFBIyPdIGXk7LqNHWqqfeq\\\n",
       "2y0xmnEkxwAPRwXy9GZUbNjLqfz37t5qOKsUf6gOW9X2nPg7K7D5pxLIt5cbzDKul5hxr7sKhQbZ\\\n",
       "8ruTEig1Ae5SGdycNTb1kFtqwspThfg+u8wyPyTAy1Fxe73ZapsBzgr08XWAs0pR5/56/B4NPv+5\\\n",
       "pNb9W2Q042iOAbIMSBLQ43aNbmoJ7/9YBFn+7YFmSPB2lJBXJgOVlruoFBgY4AAnlWSZq6SkBANC\\\n",
       "W8FZpWjU15K9s9e/8zuhJfbOa2B2zstJiWFtNJAqLZMBnK/yhiMBGNZG02hvOFW3q1Ep0KG1Cnml\\\n",
       "v4UXAOTqzejQWmV542/sOmypDSgv6VpxeS0VK9QKCT291Sg0ypbfPR0llBhleDpKUEm29+DlpER8\\\n",
       "mDMi3NVWG80tNVvCCwDUSgk9fRzQ2eO3MKxrf4W3Vte5f51vP++SBHRorYJGpYAM4KZBRk9vtdWM\\\n",
       "Pk4SJAlW4QVJwr0eKng6Ka3musfZbJmrqV9LRE2FASaAjh5qDG9r/SZXmQRgeFsNOnqoaxnRONv1\\\n",
       "0SgR4V7ptJIERLT+7TpQU9VhS20VfDRKRNx+k45wV6GDuxoRlULNRaVALx8HuNwOl4b00NFDjXGR\\\n",
       "LoisrT8JiGytwoyubhh3r6vN+6u+/eurUWJSR1f4aqwDpYO7Gr18HCBJErycJLioFHBRKeDlVNGb\\\n",
       "hF7eanSoFLoVc3k51Hzi5U7uQ6I/yi5Pcmu12rtqu7ZQA3ArUSKzuPpnjrbOZqhzTNDm/P75a+u9\\\n",
       "6naVAByNEnQGCe5qGcpiGXnFjVdHQ9T2nCgBBEmAshjIK75ds+G3mr1NMgqMEkogwdFQ3KAe1ADa\\\n",
       "yUr8bFRCZ7COHHe1jHYwQZ1T/uCG7K/69m9kmQm/1LDeG0CQSoLeIKHk9p2FCgBKswQXpQxvUyny\\\n",
       "cmuYS6NEZm6eTbW1NPb8d97UmqP3pjxtaZcB1hznae39/PCZfANuFZbAU1N93S0ABu/f/6m5rt6r\\\n",
       "bje7xAR9mREaFaCXAJPzb0cvf7SOhqrtOckuMeFqgREut2vLLjFBb7hdM4AcpQJ6lRkwlECvdm5Q\\\n",
       "D2fyDfgppwh6lQGaKn89egn4CSoYvF3L52rA/qpv/551UOOWxlBt/XmdAVeNBng6SpajyiKjGSaT\\\n",
       "GTchIUdpfQRWMdelkuvw9PK0qbaWxN7/zptSS+zdLgOMrFW+Q6wmMoDkzBIAaNQ3nqrbzS4x4ZzO\\\n",
       "aLXhcwXlv/tolE1Why21VcguMZXXJAPndEbk683IqnTdrshoxvfZRng5KcrPnzeghzP5BsvdhjWS\\\n",
       "gbMFRiw5fgueDhK8NTVfQ6q6jfr2b1aJCQfO6NGh0qlOoDy8vs8uAwDklgJwMt/+37evyckyvs8p\\\n",
       "r7UixCrm8oMEDxtqI7JnvAZm53JLTUi5VFLtInuH1qpqF/5TLpU02hdRq263xGjG+YLyW7wrb9jL\\\n",
       "UYHzBUYUG81NUocttQHlJQU4l9dSscJglvFDjgGut+/WMJhl5OllaFQS8vQyjBV3UtrQQ26pCf+9\\\n",
       "WIxzlb8BLJXfhWm55gTAYJLxQ3YZTuUbLPPVtb+0BYY692/x7eddlstvtigxmiEBaKWW8EOOwWrG\\\n",
       "7FK5/P4NqdKWZBk/5huRV2qymuvnYoVlrqZ+LRE1FX4P7DZ7/Y6Es0oBtVT+3Rzgt4vs9wc6wdOp\\\n",
       "/HtGFWICHRHu3vBPzTX1XnW7DgoJ9wc4QqWQoFFKyNObEeGuQhs3FQYHOKHI+Ntb8O+tw1a1PSd/\\\n",
       "CtZAKUk4nlv+xq5USBga4oQAFxU0Kgm6MhmhriooJQltXZUoLitDJ2+NTT04qxTQKCX8cssIXZls\\\n",
       "uWHjhS5uGBDgiMtFJuSUmqGUJAQ5KxDspoaXk7Le/RXl5VDn/v35pgmSJEGnN+MeNyW8nJQY3laD\\\n",
       "R9pokKc34VTeb/ONjXTBuEhX/Fpkwq8l5eHp5aTA/0W6YFhbZ6u5/FQGBLV2bvTXkr2z17/zO6El\\\n",
       "9s4Au82ed26wqwoOCuBSocnqDjEfjRKeTgpoC4yICXRE9O1/iaGhauu96nZjgpzgoABy9GYMCdWg\\\n",
       "xCQjJtARcaGaRqmjIWp7Tjp7qqGSJJzMM+DpcGf8rZObVc0KCejl4wBXBwV6ORVC6exqcw/Brip4\\\n",
       "OSlwucgEf2cFxt3rio4eavholAhxVeJKkQmtHBSY1NEVXb3UNu+v+vbvjRITevk4QKWUrNYPCnBC\\\n",
       "vt6E0/lGPBPpgmlRrRDsqkKAsxLXik0wmIGnO7jg/yJdq82lLylCwr1ejf5asnf2/Hfe1Fpi7/wi\\\n",
       "820iXODMLTXV+N2c2pbbqr7eq85f8Xtty++k2rapLTAgvLW62rjK/827/BM8Q9o1uIeKU2tVx1Vd\\\n",
       "3tD9Vd/y2tYfztKjt69jtcfk6c1Wz0HluQ6f0aJ3x+r7vDn24Z0kwt95U2mJvfMmDoHU9sbS1G84\\\n",
       "Veev+L225XdSbdus+sZdtWYvJyXyani8LT3Yuh8aur/qW17b+qrhVTG2pvEVy2o7O9iSw4taHt7E\\\n",
       "QUREQmKAERGRkBhgREQkJAYYEREJiQFGRERCYoAREZGQGGBERCQkBhgREQmJAUZEREJigBERkZAY\\\n",
       "YEREJCQGGBERCYkBRkREQmKAERGRkBhgREQkJAYYEREJiQFGRERCYoAREZGQGGBERCQkBhgREQmJ\\\n",
       "AUZEREJigBERkZAYYEREJCQGGBERCYkBRkREQmKAERGRkBhgREQkJAYYEREJiQFGRERCYoAREZGQ\\\n",
       "GGBERCQkBhgREQmJAUZEREJigBERkZAYYEREJCRJp9PJzV1EVVqttrlLICKiRhAeHt5kc9tlgDUH\\\n",
       "rVbbpE+0Pbtbe79b+wbu3t7v1r6Bltk7TyESEZGQGGBERCQkBhgREQmJAUZEREJigBERkZAYYERE\\\n",
       "JCQGGBERCYkBRkREQmKAERGRkBhgREQkJAYYEREJiQFGRERCYoAREZGQGGBERCQkBhgREQmJAUZE\\\n",
       "REJigBERkZAYYEREJCQGGBERCYkBRkREQmKAERGRkBhgREQkJAYYEREJiQFGRERCYoAREZGQGGBE\\\n",
       "RCQkBhgREQmJAUZEREJigBERkZAYYEREJCQGGBERCYkBRkREQmKAERGRkBhgREQkJAYYEREJiQFG\\\n",
       "RERCYoAREZGQGGBERCQkBhgREQmJAUZEREKSdDqd3NxFVKXVapu7BCIiagTh4eFNNrddBlhz0Gq1\\\n",
       "TfpE27O7tfe7tW/g7u39bu0baJm98xQiEREJiQFGRERCYoAREZGQGGBERCQkBhgREQmJAUZEREJi\\\n",
       "gBERkZAYYEREJCQGGBERCYkBRkREQmKAERGRkBhgREQkJAYYEREJiQFGRERCYoAREZGQGGBERCQk\\\n",
       "BhgREQmJAUZEREJigBERkZAYYEREJCQGGBERCYkBRkREQmKAERGRkBhgREQkJAYYEREJiQFGRERC\\\n",
       "YoAREZGQGGBERCQkBhgREQlJ0ul0cnMXQURE1FA8AiMiIiExwIiISEgMMCIiEhIDjIiIhCRsgF2/\\\n",
       "fh3PPvsswsLC4Ofnh+joaBw4cAAAYDAYMHfuXPTv3x+BgYGIiIjA+PHjcfnyZas59Ho9ZsyYgXbt\\\n",
       "2iEwMBB//vOfcfXqVasxly9fRkJCAgIDA9GuXTu88sorKCsrsxpz4MAB3H///fDz80PXrl2xdu3a\\\n",
       "Zuu9qhdffBHu7u5YuXKl1XIRe7el7wsXLiAxMRGhoaEICAjAoEGDcO7cOaH7BurvvbCwEDNmzEDH\\\n",
       "jh3h7++PXr16YdWqVVZziNh7ly5d4O7uXu0nPj7eMmb16tWIioqCn58f7r//fqSlpbX4vpcuXYqY\\\n",
       "mBiEhIQgLCwMCQkJOHPmjNUcsiwjKSkJkZGR8Pf3xyOPPIIff/zRaoxOp8PEiRMRGhqK0NBQTJw4\\\n",
       "ETqdzmrM6dOnMXToUPj7++Pee+/F4sWLIcv2ce+fkAGm0+kQFxcHWZbx3//+FxkZGfjnP/8JHx8f\\\n",
       "AEBxcTGOHz+O6dOnY9++fdi4cSOuXr2KUaNGwWg0WuZ59dVXkZKSgjVr1mDHjh24desWEhISYDKZ\\\n",
       "AAAmkwkJCQkoLCzEjh07sGbNGiQnJ2P27NmWOTIzMxEfH48+ffrg22+/xcsvv4xXXnkF27Zta5be\\\n",
       "K9u2bRuOHDmCgICAautE692WvjMzMxEXF4c2bdogOTkZ6enpmDNnDlxcXITt29beZ8+ejd27d+O9\\\n",
       "995DRkYGpk2bhnnz5uGTTz4RuvfU1FScO3fO8rNv3z5IkoTHHnsMAPD5559j1qxZmDZtGr799lv0\\\n",
       "6dMHTz75pNWH1ZbY94EDBzBu3Djs2rULycnJUKlUeOyxx5Cfn2+ZY8WKFVi1ahUWL16Mb775Bj4+\\\n",
       "Phg5ciRu3bplGTN+/HicOHECn332GTZv3owTJ05g0qRJlvU3b97EyJEj4evri2+++QaLFi3CypUr\\\n",
       "8e677zZJ3w0l5G308+fPx8GDB7Fr1y6bH3P27Fn07dsXBw8eRKdOnVBQUID27dtj1apVlk81V65c\\\n",
       "QZcuXbB582bExsbiq6++Qnx8PE6ePIng4GAAwKeffooXXngBWq0WrVq1wty5c5GSkoIjR45YtvX8\\\n",
       "88/j7Nmz+Oqrrxq3cdje+y+//IK4uDhs3boVo0aNwsSJE/H8888DgJC929L3+PHjIUkSPvzwwxrX\\\n",
       "i9g3YFvv/fr1w7Bhw/Daa69Zlg0dOhSdOnXCkiVLhO29qrfeegvvvPMOzp49C2dnZ8TGxqJTp054\\\n",
       "5513LGN69OiBESNGYO7cuS2276oKCwsRGhqKDRs2YMiQIZBlGZGRkZgwYQKmT58OACgpKUF4eDgW\\\n",
       "LFiAsWPH4ty5c4iOjsbOnTvRt29fAEB6ejqGDBmCw4cPIzw8HGvWrMEbb7yB8+fPQ6PRAACWLFmC\\\n",
       "tWvX4syZM5Akqcl7r4uQR2Dbt29Hz549MXbsWLRv3x4DBgzABx98UOdhbcWnDnd3dwDAsWPHYDAY\\\n",
       "8MADD1jGBAcHIyIiAhkZGQCAQ4cOISIiwvKiBoDY2Fjo9XocO3bMMqbyHBVjjh49CoPB0DgNV2JL\\\n",
       "70ajEePHj8f06dMRERFRbQ4Re6+vb7PZjJ07dyIiIgJPPPEEwsLCEBMTg88//1zovm3pHQD69u2L\\\n",
       "nTt34sqVKwCAjIwMnDp1CrGxsUL3Xpksy1i/fj0SEhLg7OyMsrIyHDt2rFo9DzzwgKWnlth3TQoL\\\n",
       "C2E2my3vb5cuXcKNGzesatZoNOjfv79V366uroiOjraM6du3L1xcXKzG9OvXzxJeQHnf165dw6VL\\\n",
       "lxq914YSMsAyMzOxZs0atG3jmrtpAAAGoUlEQVTbFlu2bMGzzz6LefPm1frJu6ysDHPmzMHDDz+M\\\n",
       "oKAgAEBWVhaUSiW8vLysxvr4+CArK8sypuqpOS8vLyiVyjrH+Pj4wGg0Ijc3t1H6rcyW3pOSkuDh\\\n",
       "4YFx48bVOIeIvdfXd3Z2NgoLCy3XBv73v//hiSeewIQJE7Bz505h+7aldwBYvHgxunTpgs6dO8Pb\\\n",
       "2xuPPPII3njjDTz88MNC915ZamoqLl26hKeffhoAkJubC5PJVGM9lettaX3XZNasWejSpQv69OkD\\\n",
       "ALhx44alxsqq9u3l5WV1FCVJEry9vevtu2Jdc1M1dwG/h9lsRvfu3TF37lwAQNeuXfHTTz9h9erV\\\n",
       "mDhxotVYo9GIiRMnoqCgAJs2bap3blmWq+3QmtQ1puKTcVMcXtfX+4EDB7Bx40bs37+/wXPbc+/1\\\n",
       "9W02mwGUnzZ77rnnAABRUVE4duwYVq9ebXkjr4k99w3Y9np///33kZGRgU2bNiEkJARpaWl4/fXX\\\n",
       "ERoaigcffLDWue2998o+/vhj9OjRA1FRUbXWVlFPfbW0hL4rvPbaa/juu++wc+dOKJVKq3X1PTc1\\\n",
       "1V7fmDvVty2EPALz8/OrdmqsQ4cOltMnFYxGI8aNG4fTp09j27Zt8PT0tKzz9fWFyWSq9ukpJyfH\\\n",
       "8gnD19e32qeMqp/6ahqTk5MDlUpltb3GUl/v+/fvx/Xr1xEREQEvLy94eXnh8uXLmDt3Ljp27Gip\\\n",
       "WbTe6+vby8sLKpWqzjEi9g3U33tJSQnmz5+PefPmYciQIejcuTMmTpyIxx9/3HL3qai9V8jOzsaO\\\n",
       "HTswZswYy7KqR0mV66lcb0vru7JXX30VW7ZsQXJyMtq2bWtZ7ufnB6D6UVLVvnNycqxORcuyjNzc\\\n",
       "3Hr7Bqof3TUHIQOsb9++uHDhgtWyCxcuICQkxPK7wWDA2LFjcfr0aaSkpFh2aIVu3bpBrVYjNTXV\\\n",
       "suzq1auWC5sA0KdPH5w7d87qltvU1FQ4OjqiW7duljF79+61mjs1NRXdu3eHWq1ulH4rq6/38ePH\\\n",
       "4+DBg9i/f7/lJyAgAJMnT7bcMSVi7/X17eDggB49ekCr1dY6RsS+gfp7NxgMMBgM1T59K5VKy5Gp\\\n",
       "qL1X2LBhAxwdHfH4449bljk4OKBbt25WPVXUU9FTS+y7wsyZM7F582YkJyejQ4cOVuvatGkDPz8/\\\n",
       "q75LS0uRnp5u1XdhYSEOHTpkGXPo0CEUFRVZjUlPT0dpaallTGpqKgICAtCmTZtG7fX3UM6aNeuN\\\n",
       "5i6ioYKDg7F48WIoFAr4+/tj3759WLhwIaZOnYqePXvCaDRizJgxOHLkCNatWwc3NzcUFRWhqKgI\\\n",
       "SqUSarUaTk5OuH79Oj788EN07twZBQUFmDp1Klq1aoV58+ZBoVCgbdu2SElJwTfffINOnTrh7Nmz\\\n",
       "mD59Op588kkMGzYMAHDPPfdg+fLlyM7ORkhICHbs2IG3334bCxcuRGRk5B3v3cXFBT4+PlY/77//\\\n",
       "Pu6//34MGTIEAITsvb6+AcDDwwOLFi2Cr68vWrVqheTkZKxYsQJvvvkm2rdvL2TftvTu6OiI/fv3\\\n",
       "W25ikWUZ27dvx9KlSzFp0iT06tVL2N6B8qOCKVOmIC4uznIbeQU3NzckJSXB398fTk5OWLJkCdLS\\\n",
       "0vDuu++idevWLbbv6dOn45NPPsFHH32E4OBgy/sbUB7skiTBZDJh2bJlaN++PUwmE2bPno0bN25g\\\n",
       "+fLlcHR0hLe3N77//nts3rwZUVFRuHr1KqZOnYoePXpYbqUPCwvDf/7zH5w8eRLh4eFIT0/H3//+\\\n",
       "d7z00ktWN380G51OJ4v48+mnn8qdOnWSHR0d5bCwMHnRokVyfn6+rNPp5OPHj8sAavxZtWqVZY7r\\\n",
       "16/LEyZMkD08PGSNRiPHxcXJp06dstrOyZMn5bi4OFmj0cgeHh7yhAkT5Bs3bliN+eKLL+SoqCjZ\\\n",
       "wcFBDg0NlZcuXdpsvdf0ExISIi9YsMBqmYi929L3qlWr5LCwMNnJyUnu2LGjvHr1auH7tqX3c+fO\\\n",
       "yU899ZQcEBAgOzk5yeHh4fKCBQusxojae3JysgxA/vrrr2tc/9Zbb8khISGyg4OD3LVrV3n79u0t\\\n",
       "Yp/X1Xdt728zZ860jMnPz5dnzpwp+/n5yY6OjnL//v3ltLQ0q3l+/vlnOT4+XnZzc5Pd3Nzk+Ph4\\\n",
       "OTMz02rMwYMH5X79+smOjo6yn5+fPGvWrDrfb+7kj5DfAyMiIhLyGhgREREDjIiIhMQAIyIiITHA\\\n",
       "iIhISAwwIiIS0v8HkAR5OnlpEnkAAAAASUVORK5CYII=\\\n",
       "\"\n",
       "  frames[6] = \"data:image/png;base64,iVBORw0KGgoAAAANSUhEUgAAAbAAAAEgCAYAAADVKCZpAAAABHNCSVQICAgIfAhkiAAAAAlwSFlz\\\n",
       "AAALEgAACxIB0t1+/AAAADl0RVh0U29mdHdhcmUAbWF0cGxvdGxpYiB2ZXJzaW9uIDMuMC4yLCBo\\\n",
       "dHRwOi8vbWF0cGxvdGxpYi5vcmcvOIA7rQAAIABJREFUeJzt3Xl8VOW9P/DPmX2ykYUkBEiIhJAY\\\n",
       "dmQvoEivKaAVVEJvobVctgq1aqGCgiJLBS51l75qC16LP0BbsSS5cBFRwLAYcAmrhLCEfUkmmUkm\\\n",
       "mcxy5vz+mMyQyUKCZHvC5/165aVzznOe83xnjucz55xnWslsNisgIiISjKqlB0BERPRjMMCIiEhI\\\n",
       "DDAiIhISA4yIiITEACMiIiExwIiISEgMMCIiEhIDjIiIhMQAIyIiITHAiIhISAwwIiISEgOMiIiE\\\n",
       "xAAjIiIhMcCImtmKFSsQGhqKrKyslh4KkdA0LT0AImqbzp07h7fffhs5OTm4dOkSLBYLwsPDcc89\\\n",
       "92DKlClIS0uDVqv12+brr7/G9u3bkZWVhQsXLsBsNiM6OhrDhg3D008/jV69erVQNdQaMcCIqEnk\\\n",
       "5ubi008/xYABA9CvXz+EhobCZDJh586dmDNnDjZu3Ij09HRoNDdPQ7/+9a9RWFiIAQMGYMKECTAY\\\n",
       "DDhy5Aj++c9/4tNPP8UHH3yAhx9+uAWrotaEAUZETeLBBx9Efn4+JEnyW+5wODBhwgTs27cP//73\\\n",
       "vzFx4kTfuqeeegppaWno1KmT3zabNm3CU089hWeeeQYPPfQQdDpds9RArRufgdGPcv78eYSGhmLc\\\n",
       "uHEwmUx45plnkJSUhKioKAwZMgTr16+/o/6zsrIwadIk9OjRA1FRUejWrRseeOABLFy4EIpy8/9E\\\n",
       "/OrVq1i5ciUeeughdO/eHZGRkUhOTsa0adPwww8/3HLcN27cwJw5c5CYmIiOHTvioYcewr59+wAA\\\n",
       "VqsVL774Inr27ImoqCgMHjwYW7ZsqdHfhg0bEBoaihUrVuDgwYN49NFHERsbi9jYWDzxxBPIycm5\\\n",
       "rbrPnj2Lp59+2rffhIQETJ48udZ+LBYLVq1ahaFDhyI2NhadOnVC7969MWXKlFbxfE2n09UIL+9y\\\n",
       "71XUmTNn/NY999xzNcILAP7zP/8TCQkJMJlMOHHiRNMMmITDKzC6IxaLBampqdDpdPj5z38Ou92O\\\n",
       "9PR0/P73v4dKpcKUKVNuu88dO3Zg0qRJCA4OxpgxY9CpUyeYzWacOXMG7733HpYsWeK77bR//368\\\n",
       "9dZbGDFiBH7+858jICAAZ86cQXp6Ov7v//4P27dvR+/evescd1hYGCZOnIgrV64gPT0djz/+OHbs\\\n",
       "2IFnn30W5eXlGDt2LEpLS7F582ZMnToVnTp1wsCBA2v09+233+KNN97AqFGjMGPGDJw5cwaZmZnY\\\n",
       "t28ftmzZgsGDB9db9549ezB58mRUVFQgNTUVCQkJuHr1KjIzM7Fz505s3LgRo0ePBgAoioInnngC\\\n",
       "hw4dwn333YcpU6ZAp9Ph6tWr2L9/P/bs2YMRI0bc9nvfHGRZxueffw4At/VMy3vVpVarm2RcJB4G\\\n",
       "GN2RY8eO4Te/+Q1ee+0134ll9uzZ+MlPfoK33377RwXY+vXroSgKMjMz0adPH791RUVFfs9MRo4c\\\n",
       "iVOnTiE4ONivXU5ODsaOHYslS5Zg8+bNtY571qxZWLlype8q4fXXX8fSpUvx8MMPY9SoUVi7dq1v\\\n",
       "ksGDDz6IGTNm4M0338SGDRtq9Ldz506sXr0aM2bM8C1LT0/Hk08+id/97nc4ePBgrVcjXhaLBVOn\\\n",
       "ToVWq8XOnTuRnJzsW5ebm4vRo0djzpw5OHz4MPR6PY4fP45Dhw5hzJgx2LRpk19fiqKguLi4zn1V\\\n",
       "deTIEWzdurVBbb1++ctfokuXLg1uf/XqVXzwwQdwu90oKirCl19+iXPnzuEXv/gFxo0b16A+Dh06\\\n",
       "hB9++AEdO3ZESkrKbY2X2i4GGN2RgIAALF++3O9bcXJyMoYMGYJ9+/ahtLS0RrjUR6VS+fquLjw8\\\n",
       "3O91ZGRkrX307dsXI0aMwO7du+F0OmvMdgsMDMTLL7/sFyppaWlYunQpSkpKsHz5cr9tHnvsMcye\\\n",
       "PRtHjx6tdX9du3bFtGnT/JY9+uijGDx4MLKzs5GdnY0hQ4bUWfNHH32EoqIirFy50i+8ACApKQm/\\\n",
       "/vWv8Ze//AW7d+9GamrqLd8jSZJqvE91OXr0KFatWtWgtl7Dhw+/rQC7du2a3z5UKhWeffZZLFy4\\\n",
       "sEHbm0wmzJo1CwDw6quv8gqMfBhgdEcSEhIQFBRUY7n3OYbFYrntAEtLS0NGRgZGjx6NCRMmYMSI\\\n",
       "ERg4cGCdJ83PPvsM77//PnJycmAymeByufzWm0wmdOjQoca4AwMD/ZZ524SGhiI2NtZvnVqtRmRk\\\n",
       "JK5cuVLrGIYOHeoLlaqGDRuG7OxsHDly5JYBlp2dDQA4fvw4VqxYUWP96dOnAQCnTp1CamoqkpKS\\\n",
       "0LdvX2zevBkXLlzA2LFjMXjwYPTv3x8Gg6HO/VQ3efJkTJ48ucHtf4x+/frBbDZDlmVcuXIFmZmZ\\\n",
       "WLlyJbKysvCvf/3rlmFrNpsxceJEnD17Fn/4wx8wfvz4Jh0riYUBRnckJCSk1uXeb8myLN92nw8/\\\n",
       "/DA2b96Md955B5s2bcI//vEPAEBKSgrmz5+PRx991Nf2r3/9KxYsWIDQ0FCMGjUKsbGxMBgMkCQJ\\\n",
       "W7duxbFjx2C322vso7ZQ9d6arCtw1Wp1jXD0ioqKqnW59wqxpKTkFhV7bo0CwIcffnjLdmVlZb6x\\\n",
       "bNmyBa+99hq2bNmCJUuWAPBckU2YMAFLly5FRETELftqbmq1GrGxsZg9ezY6dOiA//qv/8KyZcvw\\\n",
       "xhtv1Nq+uLgYEyZMQE5ODp555hm8/PLLzTxiau0YYNQqjR49GqNHj4bNZsO3336LnTt3Yt26dfjN\\\n",
       "b36DzMxMDB8+HC6XCytWrEB0dDT27NlT4yrr0KFDzTbeGzdu1Lq8oKAAQN1B7+Vdv3v3bvTt27dB\\\n",
       "+wwNDcWyZcuwbNky5OfnY//+/fjwww+xYcMGXLx4ERkZGfX20RzPwGrjnYyyd+/eWtcXFBRg/Pjx\\\n",
       "OH78OObNm4dFixbd0f6obWKAUatmNBoxfPhwDB8+HPHx8Xj22Wexbds2DB8+HCaTCRaLBSNHjqwR\\\n",
       "XlarFYcPH262cX799ddwu901biPu378fAGqdCVnVwIEDkZGRgQMHDjQ4wKqKj49HfHw80tLS0Ldv\\\n",
       "X3z11VewWCxo167dLbdrjmdgtfHeiq06Icfr6tWrGD9+PHJzc/HSSy9h7ty5d7Qvarv4OzBqdXbv\\\n",
       "3o3y8vIay69fvw4Avmc8kZGRCAgIwPfffw+r1epr53Q6sWDBAphMpuYZMDy/Z1q3bp3fsvT0dGRn\\\n",
       "ZyMxMbHeafRTpkxBaGgoVq9ejYMHD9ZYrygKDhw4AIfDAQDIz8+v9fdQVqsVZWVl0Gg0tYZDdZMn\\\n",
       "T4bZbL6tv4ZOz8/Ozq719q3VasULL7wAAEhNTfVbd+nSJYwbNw65ubl49dVXGV50S7wCo1Zn0aJF\\\n",
       "uHDhAn7yk58gLi4OBoMBx48fxxdffIHw8HA8+eSTADyz2WbNmoU33ngDw4YNw9ixY+F0OpGVlYXi\\\n",
       "4mKMGDGi2X7Q+9Of/hSLFi3Czp070aNHD9/vwIxGI955551bTqEHgLCwMKxfvx5TpkzBQw89hJEj\\\n",
       "RyI5ORlarRaXL1/GN998g0uXLiE/Px86nQ7Hjh3DlClT0Lt3b6SkpCAmJgZmsxmfffYZiouLMWfO\\\n",
       "nBqTVJrb0qVLceLECQwbNgydOnWCwWDAlStXsGPHDpSUlGDQoEGYN2+e3zZjx47FhQsXkJKSAovF\\\n",
       "UuuElnHjxtV7RUt3BwYYtTpz587F1q1b8f333/sCqGPHjnjqqacwe/ZsdO7c2dd24cKFiIiIwIcf\\\n",
       "fogPPvgAISEheOCBB7Bo0aJaT35N5b777sPzzz+P5cuX429/+xsAYNSoUXjppZcafEtw5MiR2Ldv\\\n",
       "H95991188cUXOHjwIDQaDaKjozFw4EAsXrzY96ysX79+mDt3Lvbu3Ytdu3ahuLgY4eHh6N69O159\\\n",
       "9dVWMVtv5syZSE9PR05ODr766ivYbDaEhoaif//+mDBhAiZPnlzjKvHChQsAgBMnTtT5v7gRFxfH\\\n",
       "ACMAgGQ2m5X6mxFRbTZs2IA5c+Zg/vz5vttiRNQ8+AyMiIiExAAjIiIh8RkYNbnz589j48aNDWrb\\\n",
       "GL8xIqK7A5+BUZPLysrCI4880qC2mZmZrfZ/RZ2IWhcGGBERCYnPwIiISEgMMCIiEhIDrFJeXl5L\\\n",
       "D6HF3K213611A3dv7Xdr3UDbrJ0BRkREQmKAERGRkBhgREQkJAYYEREJiQFGRERCYoAREZGQGGBE\\\n",
       "RCQkBhgREQmJAUZEREJigBERkZAYYEREJCQGGBERCYkBRkREQmKAERGRkBhgREQkJAYYEREJiQFG\\\n",
       "RERCYoAREZGQGGBERCQkBhgREQmJAUZEREJigBERkZAYYEREJCQGGBERCYkBRkREQmKAERGRkBhg\\\n",
       "REQkJAYYEREJSTKbzUpLD6K6vLy8lh4CERE1gsTExCbru1UGWEvIy8tr0je6Nbtba79b6wbu3trv\\\n",
       "1rqBtlk7byESEZGQGGBERCQkBhgREQmJAUZEREJigBERkZAYYEREJCQGGBERCYkBRkREQmKAERGR\\\n",
       "kBhgREQkJAYYEREJiQFGRERCYoAREZGQGGBERCQkBhgREQmJAUZEREJigBERkZAYYEREJCQGGBER\\\n",
       "CYkBRkREQmKAERGRkBhgREQkJAYYEREJiQFGRERCYoAREZGQGGBERCQkBhgREQmJAUZEREJigBER\\\n",
       "kZAYYEREJCQGGBERCYkBRkREQmKAERGRkBhgREQkJAYYEREJiQFGRERCYoAREZGQGGBERCQkBhgR\\\n",
       "EQmJAUZEREJigBERkZAks9mstPQgqsvLy2vpIRARUSNITExssr5bZYC1hLy8vCZ9o1uzu7X2u7Vu\\\n",
       "4O6t/W6tG2ibtfMWIhERCYkBRkREQmKAERGRkBhgREQkJAYYEREJiQFGRERCYoAREZGQGGBERCQk\\\n",
       "BhgREQmJAUZEREJigBERkZAYYEREJCQGGBERCYkBRkREQmKAERGRkBhgREQkJAYYEREJiQFGRERC\\\n",
       "YoAREZGQGGBERCQkBhgREQmJAUZEREJigBERkZAYYEREJCQGGBERCYkBRkREQmKAERGRkBhgREQk\\\n",
       "JAYYEREJiQFGRERCYoAREZGQGGBERCQkBhgREQmJAUZEREJigN0BU4V8W8tben91tTM7b2877+s8\\\n",
       "i9PvdV3LGzrOqv1UbVvX8lv16R1DbX3U9s+GjrGucdS2PM/irLVdXcvr67eu9Ydu2Gt9z2r7HLz/\\\n",
       "XtdnXtc+qm7b3Md9a8b3omWpFyxY8EpLD6I1KCoqQkRERIPbZ1+349N8G8L1KkQa1b7lJ4qd+OhM\\\n",
       "ObQS0DlI02jju9P93Wr7jXlWhAQG1Lp99e28r7Nv2PHeiTLkl7qQY3Ki2O7GZ5cq8NWVCqw7WYZr\\\n",
       "5TK+KXT6xlXfOL39XrbKWH+qHAeu29E5SIOCCjc+OlOOy1YXPj5jwxeX7YjQq9A5SFNnTR+fLsfq\\\n",
       "w6VQS0DPcJ2vnXeMp8xO7L3mwLUSG/ZbtA0eo3ecbx+z+sbn3e+JYifeOWb1jW/HpQos+7YU3xQ6\\\n",
       "kdjuZrvM8zYsPGjB7it2xAWpffu52a8DnYPU1fotxabT5dh6oQJHilx+6//0nQWvfFOCbRcq8EOx\\\n",
       "C/HBGpwtcWFFTgn+X145LpV5Ph+tBJQ4FXx0phynzE58daUCncKCahwLfz5cit1X7IgP1tR6nHnf\\\n",
       "u+Y67hvb7f53fivNfQ64U41Ze2vBAKt0Ox9u9nU7vrxihwLglNmFcIPnAD5R7ERGvg0KgHOlMnSq\\\n",
       "xjmA73R/9W1fXl6Ba7KuxvbVt7tc5sJ3JieOFjnw2cUKVMgKckxOlDoUfFPgwCWrjKxrdlTICr4p\\\n",
       "dEJSFJTJwJUyF7JvOOocp3c/F8tkZJ63oaBChsWp4LDJiZPFTlidCv73fAUulblQ7lJwvkzG9XIZ\\\n",
       "x4pdNWr6+HQ51p8qgwLgcJET50tdyLfKuGGTseNSBSwOBd8XOlFid+Nrk4wgvQ43Kty4Uibfcoze\\\n",
       "cX54qgznSmUU2t24WOpCbGXIrjtZhpPFniDfecmG3VcdKHO5caXMjXyrjO7tNPj6hgOvHy5FYYWM\\\n",
       "ggo3TluciAvS4HKZjPV55ThX4kJhhRsXy2TEBqk9/f5gxcECJ05bnLhWLsPscOOGzY3YIDX+9oMV\\\n",
       "60+Vw+p047rNDZNdxvEiJ7Ku2nG02AWzXcYRkwtuBbholfH1DQcsDgUHrjkgu1woljV+x8Jfjltx\\\n",
       "rsSFYrsbZ0pcvhDzHicXy2QcuOaACsDVcneTH/dNobFO4s19DmgMbTHAJLPZrLT0IFqDvLw8JCYm\\\n",
       "1tvOVCFj7ckyuKu8axKAxHYa5Fk8J1QvlQRMTw5EhEFdvZsGu9P9NWT7IlMRwiPC/bavvp3N5cZ3\\\n",
       "hU4EaCT8YHZBdrthdQIaFeByA+E6CUVOBRrJ8zpIK0GjkpASqoHVpaB/ey2MGlWNcXr3Y3W6cfCG\\\n",
       "A1fKPLdejBoJNhdg1HhGbHO5AQAxAWpIkqeGgVE6BFT2KQHoEKDCJ2dtUCrH7HQruGZz495QDaxO\\\n",
       "xffaoAYqZCBUciA4wIgIgwpFdjf6tdf6+qv+XpoqZLxzzIpvChy+/iEBEXpV5XrP+MpdbpwukQEo\\\n",
       "CNaqoJY8DaOMKlidCsor6wAASZLwQIweBg1woth1s18AEQZPv9dsMi5ZXbA64euzU6AaQVoVDpsc\\\n",
       "cLgV2KvcrdKqAEkC9CoJTrdnG61KQpcgNbSewUAjSbDZbBgeF4IAjQqJ7TQ4bHLgu0KnbwySBNzX\\\n",
       "XofeEVrkWVwoc7nxfeV6SQL6V75XTXXcN5WG/nd+K819DmgsjVF7a8MrsEoN/XYSoFEhXK/CKbPL\\\n",
       "b7nJ7vZ7LQH4ebwRXYLv7NvXne6vIdvbbDYEBBj9tq++nVYlwaiWcLXcDY0KqJAlqCQFDtkTMipJ\\\n",
       "gkqC77VWJSHCoIICCUmhGrTTq2sdp3c/50pkBGoklDgUlLsUeM/zLjfgqjxTRBhUMGhUSAnVIq1b\\\n",
       "IMx2/+9eVqcCo1ry1aaWJCS206DYofhea1RAiUNBhEEFtVuGVquFTVaQ1E6D0DrG6B1nlFGNC1YZ\\\n",
       "hRVV3juXApvr5ji0aqlyO8k3bgAoc3kCtOonNiBKh2d6BaNvex0ulLpQaK/Zr1qSoFNLqJAV6FQq\\\n",
       "RAeoYFCrICuecVqdCiQJcCue8DKoAUVBlZOrhA5GFUL0atwbqkWUUY0iuxudtQ5EhwT4jgXv5+t9\\\n",
       "7zyfmcr32ru+yO5G93Y3P8+mOu6bSmNchTT3OaCxtMUrMAZYpdv5cCONaoQbah7AXt4DNyVM2yhj\\\n",
       "u9P91bd9RUU5Jt0bUWP76tsFalUwVoaMRgU43BLC9RLciuebvVqSEK5Xwa14witQo0JS6M1nKXWN\\\n",
       "07ufS2UyQnQ3Q6yqCIMKgVoVkttpMO3eIAzvoK+1pkCtyneiTQrVIC5Y43di1qk8oeZ0Ay6XC1qd\\\n",
       "Fknt6h+jd5yxQWpcLPMPMR8JSG6nwdw+IegZrsVhk7NGHd6GA6J0+GOfYKSEaSv71eBitRDz0qkk\\\n",
       "JIfpEBuohrNKdwEaFTQSUObyXLEaNCoY1J4vEp4vABI6BqgQYVT7agzSqjAmzogCixVGY0CN9y5A\\\n",
       "LaG9Ue33TMfLu23tNTX+cd8UGusk3tzngMbQFgOsdXw1qCYvL6/V71cLINimRn55zYmc8QFuaAtl\\\n",
       "5BU23tjudH+33l6BtjC/1u2rb6cGoHdJsDklhADQK4DdLaFC9nz7D1Q8txFVTkAPBepyBUXl9Y/T\\\n",
       "ux9TuQphkFDsVsE7kcugBlROBXoo6AoZ2sJC5BXWXZMaQCcJUJcDReWVY3ZKMDslhGoVtJcVWFwS\\\n",
       "bJCgd5Y3eIzecXZV1DjnUsPslPzWhWpvji8ZQHedFsXlalSfkBahUzBAVw5tocm3Hy2ArlDjnLP2\\\n",
       "fgfoPJ18Ueq/PgBAiMpzZQkAFU7PyVNSJOgkNwIUF/TOm59DfIAbyQ4ZF4xq5JuKatTXNcANKEC+\\\n",
       "qfbjLNkh40IzHvdNobHOL819DmgMLXFubcrblq0ywFriPu3t3h8+UexEqdWGcGPNdaUAnO0b99vX\\\n",
       "ne7vVtufLzLB2T6+1u2rb1dgk2F3uOCGGyV2BQESIKsArUqBDKBMklCuABFaCXaNCnLAzaubW43T\\\n",
       "ux8ZMorLnZBVMrSV5wUZgFurgl2rwllo4GwfhJQwbZ01FdhkXLa4EFi57wKbDLvTBaMGsAMoVKtg\\\n",
       "17gBpw12bUCDx+gd59nCMtg1zsrnczfZJfjGd6bEhVOOUr86vEoUCd84gjCqfbBvPyeKnThbYIVd\\\n",
       "66rZL4BvHJ57g3at22+9qUJGidsNLQCNSoJOCzjcChRFgR0qlEsqGLVqX42lAE7qtDhvu4bwiPAa\\\n",
       "9Z21yYAkoX1EzZOyd9tSo7PZjvvG1pjPgZr7HHCn+AysDbudy+uqM43qUnVm0p260/3Vt72tvAIX\\\n",
       "Hdoa21ffrsAmI9fseaBvqlDgcLtRbFegkjzPahxuxffaIcP3vMmokRBYeRavbZze/dywyfi+0InC\\\n",
       "Wn5DY3N5bluWOBVcLHXB4Qb2XrXXqKnAJiPX4gIUz8SKClnBhTIZ3oZlLs8MO40KkNwytBotTHY3\\\n",
       "jOpbj9E7Tu9sw7oU2t3IumrH1gsVsDhquc1YqersRO9sw5OV466uzOXGD8VOXCpzQ6/23FIEPOF1\\\n",
       "pVyGrAA2GZAVBQr8J3WUOgGNBJTLgFEtocylYMelCqhkJ8KD/M+83veu0Ob2+8yqrt9xqQIGdc11\\\n",
       "Xo153DeFxrqN1tzngMbQFm8h8ofMt8lU4Znq7f84HujeToOqN34UeH7zc6c/aLzT/f3Y7atvZ3O5\\\n",
       "ccriQqBWgsmuQFbcsLk8IWVzeW7T2eSbr2UFKLIrCNZKOGVx+WYR1rWfMpcbx4tvhpdRIwGQYNRI\\\n",
       "vtmLpgo3nLKCY8VOrDlWirKqM/oAxASocKpKCDjdCr4tdCJII/leF9k9gVpkV+B9lBOh92xXXscY\\\n",
       "veP855ly5Fb9BbDkeTbnnTEIAOWVsykvl7kgV5lIEWVU+2Y4et/xbwsc+OtxKz7ItfpC18vbr1NR\\\n",
       "cMMmw+byzHAssLnhdCvQqyUUVLihAJWzDT3/rJABNzyTLjzvioKCCjdsTs/7e7zYM5PwXLkKNpfb\\\n",
       "dyx4P1/vGE5ZXKhwKb7jpLxyvaLA93k25XHfmjX3OYDqxiuwSrczC1EreX7jAdx8WHt/R0ONh7qj\\\n",
       "OuqRGHpntxDudH8N2d5ms8EYYPTbvvp2OpWE+2P0MGhUkKCgwOZGqE4FlQTcG6pFsF6FGKMaZS4F\\\n",
       "oToV3JDQJ0yDXu11eCBGj7Iqz7pr28+lMjc0KgkWhxuBWgmhejUSQ7VIbqdBXJAaJQ7PSduoUaFr\\\n",
       "Oy3+o7MB3gscb03/0dkItSThsMkTMmqVhLGxBsQEamDUSDA7FMQFaaCWJMQHqVHucKBHe88ssQdi\\\n",
       "DCirMjmh+nsZoPFMDrlQ6oLZofgmbPy+VzCGx+h9Ezu0KgnhOgmSJFWe4DwTNpYPaodeEf4TO1JC\\\n",
       "NZiV4rkdet4qw1w5gSM5TOvr97JVRrEDsMue9yfSqEb/SD3m9QmGUSPhRLELsqLArXh+RnBfex06\\\n",
       "BqhR4gJUkmfmYr/2OnQP1SJUr0a4QQ2z3Y1ojROd2gX4joXoADXyLC7fGLqGaPCb5EDfcXKuRIYk\\\n",
       "STDb3bgnWI0Ig7pJj/um0lizEJvzHNBY2uIVGAOs0u18uJ2DNNCpgPNW2W+mkXdmUp7FhVEd9Rgc\\\n",
       "rW+Usd3p/urb/vC1EoxLCKuxffXtRnUyQKfyXGn1j9ShsMKNMXEGdAnRYEycEUaNhB5hWpgdCibE\\\n",
       "G9E+QI1RHfVIjTPecpze/RQ73HiosxF22XMy/l3PYPSP1OFyuYyfdtJDkiSE6FT4VWIAHokPqLWm\\\n",
       "nuFaaCQJR4uc+FViAJ7qEQydynNrb0ycESoJGBCpQ5BOhQEGK9QBQQ0ao3ecEQYVLpbJ6BCgwrR7\\\n",
       "g6rMIlRXzqJU4dnewbgnRINTZhk9I7S+2YZJoVpEGFQ4UuREfLAGf+gTgsHRenQO0qC93tuvGtOS\\\n",
       "A/1mJxbYZARoVIgJUCMlTOdbPzLGgBKHGyfNLtwTosGgKD3m9Q3BwEgdrpbLcCsSxt9jROcgDR6O\\\n",
       "M2J4jB7XbTIGROpgt5X5zTyNNKoRH6zBmRIXwvQqPNUjqMZx4t1Wo5aa5bhvCo11Em/uc0BjaIsB\\\n",
       "xh8yV/oxDzhNFXKtP1Csa/mdutP91dXu0Ik8DEypu/bq23lf51mcSGyn9b2ua3lDx1m1HwB+PyKu\\\n",
       "bfmt+vSOoba+vf8sungW4bFdb2uM3jbVx1Hb8jyLE+F6VY12dS2vr1+v6usP3bCja4jGb52pQkaR\\\n",
       "3V3jc/D+e12feV1jqLptcx/3jamxJzKI9F60xUkcDLBKbfHDbai7tfa7tW7g7q39bq0baJu1cxIH\\\n",
       "EREJiQFGRERCYoAREZGQGGBERCQkBhgREQmJAUZEREJigBERkZAYYEREJCQGGBERCYkBRkREQmKA\\\n",
       "ERGRkBhgREQkJAYYEREJiQFGRERCYoAREZGQGGBERCQkBhgREQmJAUZEREJigBERkZAYYEREJCQG\\\n",
       "GBERCYkBRkREQmKAERGRkBhgREQkJAYYEREJiQFGRERCYoAREZGQGGBERCQkBhgREQmJAUZEREJi\\\n",
       "gBERkZAYYEREJCQGGBERCYkBRkREQmKAERGRkCSz2ay09CCqy8vLa+khEBFRI0hMTGyyvltlgLWE\\\n",
       "vLy8Jn2jW7O7tfa7tW7g7q39bq0baJu18xYiEREJiQFGRERCYoAREZGQGGBERCQkBhgREQmJAUZE\\\n",
       "REJigBERkZAYYEREJCQGGBERCYkBRkREQmKAERGRkBhgREQkJAYYEREJiQFGRERCYoAREZGQGGBE\\\n",
       "RCQkBhgREQmJAUZEREJigBERkZAYYEREJCQGGBERCYkBRkREQmKAERGRkBhgREQkJAYYEREJiQFG\\\n",
       "RERCYoAREZGQGGBERCQkBhgQVK+FAAANKklEQVQREQmJAUZEREJigBERkZAYYEREJCQGGBERCYkB\\\n",
       "RkREQmKAERGRkBhgREQkJAYYEREJiQFGRERCYoAREZGQGGBERCQkyWw2Ky09iOry8vJaeghERNQI\\\n",
       "EhMTm6zvVhlgLSEvL69J3+jW7G6t/W6tG7h7a79b6wbaZu28hUhEREJigBERkZAYYEREJCQGGBER\\\n",
       "CYkBRkREQmKAERGRkBhgREQkJAYYEREJiQFGRERCYoAREZGQGGBERCQkBhgREQmJAUZEREJigBER\\\n",
       "kZAYYEREJCQGGBERCYkBRkREQmKAERGRkBhgREQkJAYYEREJiQFGRERCYoAREZGQGGBERCQkBhgR\\\n",
       "EQmJAUZEREJigBERkZAYYEREJCQGGBERCYkBRkREQpLMZrPS0oMgIiK6XbwCIyIiITHAiIhISAww\\\n",
       "IiISEgOMiIiEJGyAXbt2Db/97W+RkJCA6OhoDB48GHv37gUAOJ1OLF68GMOGDUPHjh2RlJSE6dOn\\\n",
       "4+LFi3592O12/PGPf0TXrl3RsWNH/OIXv8Dly5f92ly8eBGTJk1Cx44d0bVrVzz//PNwOBx+bfbu\\\n",
       "3Yv7778f0dHR6NOnD95///0Wq726Z555BqGhoXjnnXf8lotYe0PqPn36NKZMmYK4uDjExMRg5MiR\\\n",
       "yM3NFbpuoP7arVYr/vjHPyIlJQUdOnTAgAEDsGbNGr8+RKy9V69eCA0NrfGXlpbma7N27Vr07t0b\\\n",
       "0dHRuP/++7F///42X/frr7+OUaNGITY2FgkJCZg0aRJOnDjh14eiKFixYgWSk5PRoUMHjBs3Dj/8\\\n",
       "8INfG7PZjJkzZyIuLg5xcXGYOXMmzGazX5vjx49j7Nix6NChA+69916sWrUKitI65v4JGWBmsxmp\\\n",
       "qalQFAX//Oc/kZ2djf/+7/9GZGQkAKC8vByHDx/GvHnzsGfPHmzcuBGXL1/GE088AZfL5evnhRde\\\n",
       "QGZmJtatW4dt27ahtLQUkyZNgizLAABZljFp0iRYrVZs27YN69atQ0ZGBhYuXOjrIz8/H2lpaRg0\\\n",
       "aBC++uor/OEPf8Dzzz+P9PT0Fqm9qvT0dHz33XeIiYmpsU602htSd35+PlJTU9GlSxdkZGTgwIED\\\n",
       "WLRoEQIDA4Wtu6G1L1y4EDt27MBf//pXZGdnY+7cuViyZAk++ugjoWvftWsXcnNzfX979uyBJEkY\\\n",
       "P348AODTTz/FggULMHfuXHz11VcYNGgQJk6c6PdltS3WvXfvXkybNg2fffYZMjIyoNFoMH78eBQX\\\n",
       "F/v6eOutt7BmzRqsWrUKX375JSIjIzFhwgSUlpb62kyfPh1HjhzBv/71L3zyySc4cuQIZs2a5Vtf\\\n",
       "UlKCCRMmICoqCl9++SVWrlyJd955B++++26T1H27hJxGv3TpUuzbtw+fffZZg7c5efIkhgwZgn37\\\n",
       "9qFHjx6wWCzo1q0b1qxZ4/tWc+nSJfTq1QuffPIJRo8ejc8//xxpaWk4evQoOnfuDAD4+OOP8fvf\\\n",
       "/x55eXkICQnB4sWLkZmZie+++863r6effhonT57E559/3riFo+G1X7hwAampqdiyZQueeOIJzJw5\\\n",
       "E08//TQACFl7Q+qePn06JEnC3//+91rXi1g30LDahw4dikceeQQvvviib9nYsWPRo0cPrF69Wtja\\\n",
       "q/vzn/+Mt99+GydPnkRAQABGjx6NHj164O233/a16d+/Px599FEsXry4zdZdndVqRVxcHDZs2IAx\\\n",
       "Y8ZAURQkJydjxowZmDdvHgDAZrMhMTERy5Ytw9SpU5Gbm4vBgwdj+/btGDJkCADgwIEDGDNmDA4d\\\n",
       "OoTExESsW7cOr7zyCk6dOgWj0QgAWL16Nd5//32cOHECkiQ1ee23IuQV2NatW3Hfffdh6tSp6Nat\\\n",
       "G4YPH46//e1vt7ys9X7rCA0NBQDk5OTA6XTiwQcf9LXp3LkzkpKSkJ2dDQA4ePAgkpKSfAc1AIwe\\\n",
       "PRp2ux05OTm+NlX78Lb5/vvv4XQ6G6fgKhpSu8vlwvTp0zFv3jwkJSXV6EPE2uur2+12Y/v27UhK\\\n",
       "SsLjjz+OhIQEjBo1Cp9++qnQdTekdgAYMmQItm/fjkuXLgEAsrOzcezYMYwePVro2qtSFAUffvgh\\\n",
       "Jk2ahICAADgcDuTk5NQYz4MPPuirqS3WXRur1Qq32+07v50/fx7Xr1/3G7PRaMSwYcP86g4KCsLg\\\n",
       "wYN9bYYMGYLAwEC/NkOHDvWFF+Cp++rVqzh//nyj13q7hAyw/Px8rFu3DvHx8di8eTN++9vfYsmS\\\n",
       "JXV+83Y4HFi0aBF+9rOfoVOnTgCAGzduQK1WIyIiwq9tZGQkbty44WtT/dZcREQE1Gr1LdtERkbC\\\n",
       "5XLBZDI1Sr1VNaT2FStWICwsDNOmTau1DxFrr6/ugoICWK1W37OBf//733j88ccxY8YMbN++Xdi6\\\n",
       "G1I7AKxatQq9evVCz5490b59e4wbNw6vvPIKfvaznwlde1W7du3C+fPn8atf/QoAYDKZIMtyreOp\\\n",
       "Ot62VndtFixYgF69emHQoEEAgOvXr/vGWFX1uiMiIvyuoiRJQvv27eut27uupWlaegA/htvtRr9+\\\n",
       "/bB48WIAQJ8+fXD27FmsXbsWM2fO9Gvrcrkwc+ZMWCwWbNq0qd6+FUWp8YHW5lZtvN+Mm+Lyur7a\\\n",
       "9+7di40bNyIrK+u2+27NtddXt9vtBuC5bfa73/0OANC7d2/k5ORg7dq1vhN5bVpz3UDDjvf33nsP\\\n",
       "2dnZ2LRpE2JjY7F//3689NJLiIuLw09/+tM6+27ttVf1j3/8A/3790fv3r3rHJt3PPWNpS3U7fXi\\\n",
       "iy/i66+/xvbt26FWq/3W1ffe1Db2+to0V90NIeQVWHR0dI1bY927d/fdPvFyuVyYNm0ajh8/jvT0\\\n",
       "dISHh/vWRUVFQZblGt+eCgsLfd8woqKianzLqP6tr7Y2hYWF0Gg0fvtrLPXVnpWVhWvXriEpKQkR\\\n",
       "ERGIiIjAxYsXsXjxYqSkpPjGLFrt9dUdEREBjUZzyzYi1g3UX7vNZsPSpUuxZMkSjBkzBj179sTM\\\n",
       "mTPx2GOP+Wafilq7V0FBAbZt24Ynn3zSt6z6VVLV8VQdb1uru6oXXngBmzdvRkZGBuLj433Lo6Oj\\\n",
       "AdS8Sqped2Fhod+taEVRYDKZ6q0bqHl11xKEDLAhQ4bg9OnTfstOnz6N2NhY32un04mpU6fi+PHj\\\n",
       "yMzM9H2gXn379oVWq8WuXbt8yy5fvux7sAkAgwYNQm5urt+U2127dkGv16Nv376+Nrt37/bre9eu\\\n",
       "XejXrx+0Wm2j1FtVfbVPnz4d+/btQ1ZWlu8vJiYGs2fP9s2YErH2+urW6XTo378/8vLy6mwjYt1A\\\n",
       "/bU7nU44nc4a377VarXvylTU2r02bNgAvV6Pxx57zLdMp9Ohb9++fjV5x+OtqS3W7TV//nx88skn\\\n",
       "yMjIQPfu3f3WdenSBdHR0X51V1RU4MCBA351W61WHDx40Nfm4MGDKCsr82tz4MABVFRU+Nrs2rUL\\\n",
       "MTEx6NKlS6PW+mOoFyxY8EpLD+J2de7cGatWrYJKpUKHDh2wZ88eLF++HM899xzuu+8+uFwuPPnk\\\n",
       "k/juu++wfv16BAcHo6ysDGVlZVCr1dBqtTAYDLh27Rr+/ve/o2fPnrBYLHjuuecQEhKCJUuWQKVS\\\n",
       "IT4+HpmZmfjyyy/Ro0cPnDx5EvPmzcPEiRPxyCOPAADuuecevPnmmygoKEBsbCy2bduG1157DcuX\\\n",
       "L0dycnKz1x4YGIjIyEi/v/feew/3338/xowZAwBC1l5f3QAQFhaGlStXIioqCiEhIcjIyMBbb72F\\\n",
       "P/3pT+jWrZuQdTekdr1ej6ysLN8kFkVRsHXrVrz++uuYNWsWBgwYIGztgOeqYM6cOUhNTfVNI/cK\\\n",
       "Dg7GihUr0KFDBxgMBqxevRr79+/Hu+++i3bt2rXZuufNm4ePPvoIH3zwATp37uw7vwGeYJckCbIs\\\n",
       "44033kC3bt0gyzIWLlyI69ev480334Rer0f79u3xzTff4JNPPkHv3r1x+fJlPPfcc+jfv79vKn1C\\\n",
       "QgL+53/+B0ePHkViYiIOHDiAl19+Gc8++6zf5I8WYzabFRH/Pv74Y6VHjx6KXq9XEhISlJUrVyrF\\\n",
       "xcWK2WxWDh8+rACo9W/NmjW+Pq5du6bMmDFDCQsLU4xGo5KamqocO3bMbz9Hjx5VUlNTFaPRqISF\\\n",
       "hSkzZsxQrl+/7tfmf//3f5XevXsrOp1OiYuLU15//fUWq722v9jYWGXZsmV+y0SsvSF1r1mzRklI\\\n",
       "SFAMBoOSkpKirF27Vvi6G1J7bm6u8stf/lKJiYlRDAaDkpiYqCxbtsyvjai1Z2RkKACUL774otb1\\\n",
       "f/7zn5XY2FhFp9Mpffr0UbZu3domPvNb1V3X+W3+/Pm+NsXFxcr8+fOV6OhoRa/XK8OGDVP279/v\\\n",
       "18+5c+eUtLQ0JTg4WAkODlbS0tKU/Px8vzb79u1Thg4dquj1eiU6OlpZsGDBLc83zfkn5O/AiIiI\\\n",
       "hHwGRkRExAAjIiIhMcCIiEhIDDAiIhISA4yIiIT0/wG4uiZ6rCuVKgAAAABJRU5ErkJggg==\\\n",
       "\"\n",
       "  frames[7] = \"data:image/png;base64,iVBORw0KGgoAAAANSUhEUgAAAbAAAAEgCAYAAADVKCZpAAAABHNCSVQICAgIfAhkiAAAAAlwSFlz\\\n",
       "AAALEgAACxIB0t1+/AAAADl0RVh0U29mdHdhcmUAbWF0cGxvdGxpYiB2ZXJzaW9uIDMuMC4yLCBo\\\n",
       "dHRwOi8vbWF0cGxvdGxpYi5vcmcvOIA7rQAAIABJREFUeJzt3Xl8FfW9//HXzJwlJxsJIYQAYQ8g\\\n",
       "u6AsFkXEK4W6L3Cv4rUWQa9WW6tV3Kqgt+ClWut2ayveqj9crtoKXC22KpuAaFVUUDCAIKJsIQlk\\\n",
       "OznnzPz+mJxDThYIZR14Px+PPDCzfj9zZuZ9ZuY70SgtLXUQERHxGPNoN0BEROSfoQATERFPUoCJ\\\n",
       "iIgnKcBERMSTFGAiIuJJCjAREfEkBZiIiHiSAkxERDxJASYiIp6kABMREU9SgImIiCcpwERExJMU\\\n",
       "YCIi4kkKMJEjbPr06WRlZbFkyZKj3RQRT1OAichhFYvFeO655xgzZgwdO3akTZs29O/fn6uvvpp1\\\n",
       "69btc17HcbjgggvIysoiKyuL6urqI9Rq8QLf0W6AiBy/ysvLufzyy1m8eDE9evRg3LhxpKWl8f33\\\n",
       "3/P++++zbt06unXr1uT8//3f/817771HSkqKwksaUICJyGFz8803s3jxYm6//XamTJmCYRhJ4yOR\\\n",
       "SJPzfvnll0ybNo2bbrqJV199lc2bNx/u5orH6Bai/FM2bdpEVlYWP/rRjyguLuZnP/sZPXr0oHXr\\\n",
       "1gwdOpTnnnvuoJa/ZMkSxo8fT+/evWndujXdunXjzDPP5K677sJx9v5PxL///ntmzJjBOeecQ/fu\\\n",
       "3cnNzaVnz55MnDiRL7/8cp/t3r59OzfccAOFhYW0bduWc845h6VLlwLulcOdd95Jnz59aN26NUOG\\\n",
       "DOH1119vsLzZs2eTlZXF9OnT+eCDD7jgggsoKCigoKCASy+9lJUrVx5Q3Rs2bODGG29MrLdr165c\\\n",
       "ccUVjS6nrKyMBx98kGHDhlFQUEC7du3o168fEyZMOCaer3366ae88sorDBs2jDvuuKNBeAH4/f5G\\\n",
       "562pqWHy5Ml06dKFO+6443A3VTxKV2ByUMrKyhg9ejSBQIDzzz+fcDjMnDlzuOmmmzBNkwkTJhzw\\\n",
       "Mv/2t78xfvx4MjIyGDNmDO3ataO0tJT169fz1FNPMXXqVHw+d9ddtmwZv/vd7zj99NM5//zzSU1N\\\n",
       "Zf369cyZM4e//vWvzJ8/n379+jXZ7uzsbC677DK+++475syZwyWXXMLf/vY3fv7zn1NZWcnYsWPZ\\\n",
       "s2cPr732GldffTXt2rXj1FNPbbC8jz76iN/+9reMHDmSSZMmsX79eubNm8fSpUt5/fXXGTJkyH7r\\\n",
       "XrRoEVdccQXV1dWMHj2arl278v333zNv3jzefvttXnjhBUaNGgW4z4YuvfRSPvzwQwYNGsSECRMI\\\n",
       "BAJ8//33LFu2jEWLFnH66acf8LY/lF555RUAJkyYQGlpKfPnz+e7776jZcuWjBgxgs6dOzc5769/\\\n",
       "/WvWrFnDO++8QyAQOFJNFo9RgMlBWbVqFT/+8Y956KGHsCwLgOuvv54f/OAHPProo/9UgD333HM4\\\n",
       "jsO8efPo379/0rhdu3YlwgvgjDPO4KuvviIjIyNpupUrVzJ27FimTp3Ka6+91mi7r732WmbMmJG4\\\n",
       "Mnj44YeZNm0a5557LiNHjuTpp59OXCGcddZZTJo0iUceeYTZs2c3WN7bb7/NzJkzmTRpUmLYnDlz\\\n",
       "uOqqq/jpT3/KBx980OgVSFxZWRlXX301fr+ft99+m549eybGrV27llGjRnHDDTfw6aefEgwGWb16\\\n",
       "NR9++CFjxozhxRdfTFqW4ziUlJQ0ua66PvvsM954441mTRt3+eWX07Fjx/1O9/HHHwNQXFzMgAED\\\n",
       "KC0tTYwzTZOJEycyY8aMxH4Tt2zZMh599FGmTJnS6JcPkTgFmByU1NRUHnjggaSTUM+ePRk6dChL\\\n",
       "ly5lz549DcJlf0zTTCy7vpYtWyb9npub2+gyBgwYwOmnn87ChQuJRCINblWlpaXxq1/9KilUxo0b\\\n",
       "x7Rp09i9ezcPPPBA0jwXX3wx119/PZ9//nmj6+vSpQsTJ05MGnbBBRcwZMgQVqxYwYoVKxg6dGiT\\\n",
       "Nb/00kvs2rWLGTNmJIUXQI8ePfj3f/93nnzySRYuXMjo0aP3uY0Mw2iwnZry+eef8+CDDzZr2rjh\\\n",
       "w4c3K8B27twJwNSpUznnnHO47777aNu2LR9//DE333wzf/zjH8nOzubOO+9MzLN7926uu+46+vfv\\\n",
       "zy9+8YsDapeceBRgclC6du1Kenp6g+Ht2rUD3CuLAw2wcePGMXfuXEaNGsVFF13E6aefzqmnntrk\\\n",
       "SfOtt97imWeeYeXKlRQXFxONRpPGFxcX06ZNmwbtTktLSxoWnyYrK4uCgoKkcZZlkZuby3fffddo\\\n",
       "G4YNG5YIlbpOO+00VqxYwWeffbbPAFuxYgUAq1evZvr06Q3Gx7ubf/XVV4wePZoePXowYMAAXnvt\\\n",
       "Nb755hvGjh3LkCFDGDhwICkpKU2up74rrriCK664otnTH4hYLAZAhw4dePbZZxO3AkeMGMGzzz7L\\\n",
       "iBEjePLJJ7n11lsT42677Ta2b9/OK6+8knSlLdIY7SFyUDIzMxsdHr8ii5/EDsS5557La6+9xmOP\\\n",
       "PcaLL77Is88+C0CvXr24/fbbueCCCxLT/v73v2fKlClkZWUxcuRICgoKSElJwTAM3njjDVatWkU4\\\n",
       "HG6wjsZCNX7CbCpwLctqEI5xrVu3bnR4/Apx9+7d+6jYvTUK8Pzzz+9zuoqKikRbXn/9dR566CFe\\\n",
       "f/11pk6dCrhXZBdddBHTpk0jJydnn8s63LKysgA4++yzGzzH6tu3Lx07duTrr79m7dq19O3bl7/+\\\n",
       "9a+89NJL3H///fTo0eNoNFk8RgEmx6RRo0YxatQoqqqq+Oijj3j77beZNWsWP/7xj5k3bx7Dhw8n\\\n",
       "Go0yffp08vLyWLRoUYOrrA8//PCItXf79u2NDt+xYwfQdNDHxccvXLiQAQMGNGudWVlZ3H///dx/\\\n",
       "//1s3LiRZcuW8fzzzzN79mw2b97M3Llz97uMw/kMrFu3bnz00Ue0aNGiyfYDife74j0t77nnHu65\\\n",
       "555G54l/xosXL9bzMVGAybEtFAoxfPhwhg8fTqdOnfj5z3/Om2++yfDhwykuLqasrIwzzjijQXiV\\\n",
       "l5fz6aefHrF2vv/++9i23eA24rJlywD2e7I99dRTmTt3LsuXL292gNXVqVMnOnXqxLhx4xgwYACL\\\n",
       "Fy+mrKysyfCIO5zPwM4880xefvll1qxZ02BcOBxm/fr1gHuLEaB///5ceeWVjS7rL3/5S+KlaMuy\\\n",
       "mv2MT45vCjA55ixcuJDBgwc36KCwbds2gMQzntzcXFJTU/nkk08oLy9PPIuLRCJMmTKF4uLiI9bm\\\n",
       "9evXM2vWrAa9EFesWEFhYeF+u9FPmDCBhx56iJkzZzJo0CAGDx6cNN5xHN5//30GDRpEIBBg48aN\\\n",
       "VFZW0qtXr6TpysvLqaiowOfzNesZ0uF8Bnb++eczbdo0/vrXv7J8+XKGDRuWGDdz5kx2797N6aef\\\n",
       "Tl5eHgBjx45l7NixjS5r4cKFlJeX8/DDDx/QMz45vinA5Jhz991388033/CDH/yADh06kJKSwurV\\\n",
       "q3nnnXdo2bIlV111FeD2Vrz22mv57W9/y2mnncbYsWOJRCIsWbKEkpISTj/99CP2Qu/ZZ5/N3Xff\\\n",
       "zdtvv03v3r0T74GFQiEee+yxfXahB8jOzua5555jwoQJnHPOOZxxxhn07NkTv9/Pli1b+Mc//sG3\\\n",
       "337Lxo0bCQQCrFq1igkTJtCvXz969epFfn4+paWlvPXWW5SUlHDDDTc06KRypKWlpfHkk08yfvx4\\\n",
       "zj//fM4991zatWvHRx99xPLly8nNzeWRRx45qm0Ub1OAyTHnlltu4Y033uCTTz5JBFDbtm35j//4\\\n",
       "D66//nrat2+fmPauu+4iJyeH559/nj/96U9kZmZy5plncvfddzfam+9wGTRoELfddhsPPPAAf/jD\\\n",
       "HwAYOXIk99xzT7NvCZ5xxhksXbqUxx9/nHfeeYcPPvgAn89HXl4ep556Kvfee2/iWdnJJ5/MLbfc\\\n",
       "wnvvvceCBQsoKSmhZcuWdO/enV//+tdceOGFh63WAzFy5EjeeecdZs6cyeLFi9m9ezd5eXn85Cc/\\\n",
       "4Ze//CX5+flHu4niYUZpaamz/8lEpDGzZ8/mhhtu4Pbbb9efPBI5wvS3EEVExJMUYCIi4kl6BiaH\\\n",
       "3aZNm3jhhReaNW1z3zESEdEzMDnslixZwnnnndesaefNm3fU/4q6iHiDAkxERDxJz8BERMSTFGAi\\\n",
       "IuJJCrBaRUVFR7sJR82JWvuJWjecuLWfqHXD8Vm7AkxERDxJASYiIp6kABMREU9SgImIiCcpwERE\\\n",
       "xJMUYCIi4kkKMBER8SQFmIiIeJICTEREPEkBJiIinqQAExERT1KAiYiIJynARETEkxRgIiLiSQow\\\n",
       "ERHxJAWYiIh4kgJMREQ8SQEmIiKepAATERFPUoCJiIgnKcBERMSTFGAiIuJJCjAREfEkBZiIiHiS\\\n",
       "AkxERDxJASYiIp6kABMREU9SgImIiCcZpaWlztFuRH1FRUVHuwkiInIIFBYWHrZlH5MBdjQUFRUd\\\n",
       "1g19LDtRaz9R64YTt/YTtW44PmvXLUQREfEkBZiIiHiSAkxERDxJASYiIp6kABMREU9SgImIiCcp\\\n",
       "wERExJMUYCIi4kkKMBER8SQFmIiIeJICTEREPEkBJiIinqQAExERT1KAiYiIJynARETEkxRgIiLi\\\n",
       "SQowERHxJAWYiIh4kgJMREQ8SQEmIiKepAATERFPUoCJiIgnKcBERMSTFGAiIuJJCjAREfEkBZiI\\\n",
       "iHiSAkxERDxJASYiIp6kABMREU9SgImIiCcpwERExJMUYCIi4kkKMBER8SQFmIiIeJICTEREPEkB\\\n",
       "JiIinqQAExERT1KAiYiIJynARETEkxRgIiLiSQowERHxJKO0tNQ52o2or6io6Gg3QUREDoHCwsLD\\\n",
       "tuxjMsCOhqKiosO6oY9lJ2rtJ2rdcOLWfqLWDcdn7bqFKCIinqQAExERT1KAiYiIJynARETEkxRg\\\n",
       "IiLiSQowERHxJAWYiIh4kgJMREQ8SQEmIiKepAATERFPUoCJiIgnKcBERMSTFGAiIuJJCjAREfEk\\\n",
       "BZiIiHiSAkxERDxJASYiIp6kABMREU9SgImIiCcpwERExJMUYCIi4kkKMBER8SQFmIiIeJICTERE\\\n",
       "PEkBJiIinqQAExERT1KAiYiIJynARETEkxRgIiLiSQowERHxJAWYiIh4kgJMREQ8SQEmIiKepAAT\\\n",
       "ERFPUoAdhOLq2AENP1zrKyqLNDquuDqWNLypaUoj+15X/fnivxeVRZJ+rzu8/roba09j4+I/dZdd\\\n",
       "d1h8eGPz1f29ftvqtqnu9HW3XWPL2Vdb66v/OdRdZ912f7g93GAbNrXd6tff2LaPL6+xbdVUTZ/v\\\n",
       "3rv8uutqqg2N/dvYdjmY7dXU8g/0eDqSx+WRPgdIMt/RboBXrdgWZuH3Yc7rGKJXtj8x/IuSCPM2\\\n",
       "VXFmfpAhecHDvr6X11Xy5OpyCtIt7hyYmRj3RUmEZ9ZUEI45TChMBWgw/4ptYV7ZUEVpqR87J5xo\\\n",
       "b90a6s8Xb4fPhIVbwgzLC2CZBr2y/XxREiFmO7y1uZqsoElhCx+XdUllSF6wtj3lhGMwoTA1adus\\\n",
       "2Bbm/xVVUhK2MYDicIzqGFzaJcSG3TG2VUbZFXb4tiJG0DS4rncaP+mZXtv+SrZV2mQFTYa3CfDe\\\n",
       "1hq+2RNlT8Tm3I4hIg7EbIe3t4TJ8BukWAYABekWgUqLpV+UUJBuMb5bKou+CxOOOQxvE+DDHZHE\\\n",
       "tmusrUELftIzPbEtX15XyVNfltM21eLGPumsLonw7NpKWoVMqqMO5RGHWwdk8FVZhKe/rKBzhsXZ\\\n",
       "7VJY8F2YizqHSPMZPLm6gnS/wUnZfn7SM409NTavbKhiVzjG1soY26psemX5GZDrZ+GWMEPzAizb\\\n",
       "WsOa0ggF6T7ap1kYwK6wzXeVMaK2Q4d0Hydl+zg1d29NMcdhweYgS6pLaJNmcV7HEHtqbJ76soJV\\\n",
       "uyK0SjHple3nsi4hMgIm8zZV0Sndx8byKLkpJjuq7Wbv93u3l8FPeqbV2V4VPPVFOe3SfPy0T3pi\\\n",
       "P4vvR/HlHOjxtL/jsmvMpHC/S2meI30OkIaM0tJS52g34lhQVFREYWHzdu0V28K8+10YAAM4v1Mo\\\n",
       "ceDN3VhFfIOe1fbQ7MBNre/ldZU8vnoPpWEbMOif4+fOgZkAzFpTwZoS91t6ug9ape49wZ3fyT1h\\\n",
       "vby+krWlUaqqqhiQn8H4rqlkBMxEDVvKoziGkZivc4bFhj0xVu2q4bPiCCmWQXXMoXOGDxv3cn5N\\\n",
       "aYSoDVEH2oRMhucHGdI6wAfba1hTFgXHXc6V3dMYkhdkxbYwz39Vwae7ImyrsqmK2NhAigWGYZLh\\\n",
       "g7Iah/Kog+NAwIK2qRY/7JBCRcThwx01lIZtUiwD24GI7VBa4+A3wW8atAmZbK2yqYk5VMccLANC\\\n",
       "PoOgabC7JkqK38LAIGgZtAwaOEBF1CFkGWT4TTpl+vj32hCLt/XrPTEwoGcLHxNPSufz4gi//6Kc\\\n",
       "ndUxwKCFHypjUBG1KatxMIDMgAEYhKMONg4RG/wGdMzwUR1zqIw6RGy3jXkhix5ZfvwmbNwTZVN5\\\n",
       "jKqouxzLcOvKSTHZVmVTHXNwANuGFB+YBtTEIGqDYYDPgFYhk3Sfid+Ckmqbkhoby3HANBmQ46dj\\\n",
       "ho/vKqJ8XhKlImID0CZk0S/HT5rfJGDC2tIoaX6DiohD5wyL9um+/e73K7aFea6oko27owD0zPYz\\\n",
       "sWcanxfX8N9flFNc7QAOBek+Omf6CJrwVVmU7i185IYsumRYfL0n1uzjqTnH5a7iXVzaN/+gj8sj\\\n",
       "fQ44FA7kHOcVCrBazf1wi6tjPL2mArvOVjOAwhY+isqi1N2YpgHX9EwjJ8X6p9vV1PrapJq8uK6S\\\n",
       "7yr23qowDINeWT4ClkFxtXsiitgOW6ts8lNNBrcOkOozqYrabNoTY2ftNFVVVYRSQ7RKMemU7iPF\\\n",
       "Z1AVtfl4pxuAJ7fyYwAf74yQ6jP4sjRKzLYpj4DPdE+WLQMGO2tsYjbEHAiYYBoGrUMmlgFZQROf\\\n",
       "YdS2E07JDXBFYSqziypZvi3Mt+UxSmts4ndejNqaHAfc05zLb7rLDlhusJaE3SuKPTU2EQdsxz3J\\\n",
       "2467jKjjnsTt2mXZ8d8Nd4DPdNdkO5DqMzANiNiQ4Tdol2YRsAwG5fqZUJjG7KJK/rGjBifeGAPS\\\n",
       "fQYb98SojO7d3rvCDqbhBnrYdtdr4rYB9rYPA9J87n/XxNxwNg13ep/ptsV23ECN1c7sAJYJhgMR\\\n",
       "Z+8wo842os7vBu4yQ5a73qra7evYDkGfgWEYpFoOlTGDqO0Qc/a2sUXAoEXAokXA3UZbq2zahEwC\\\n",
       "lsHAVn5SfWaT+/3FnUP8v6IKPtoR2bu9gIyAwde7o1RG3ZbHHCiPOOSGTHKCJn7TAANaBk1KwjYD\\\n",
       "W/kJ+czEcps6npp7XO4q3kWrVi0P6rg80ueAQ+V4DDBrypQp9x3tRhwLdu3aRU5Ozn6nS/WZtAya\\\n",
       "fFUaTRpeHLaTfo9/K+uYcXB3aZtaX3nEIc1nsLvG/fYOkJNi4mBQFd17CFmmQWELPx3TLVoE3YPI\\\n",
       "b7pXGvE2R6NR/D4/BekWLYJmYppUn0mroEmLoIXfNAhZBt9X2vhMqI4ZmIZDTQxCPjesrNqTv2WQ\\\n",
       "uNIByAyYpFh7H7f2zPZzZfc0emb5aR2y2FJhs7vGpsaGqO0QtZNDK749fYZ7ks/wm/Rt6ccyjNq2\\\n",
       "uHVahjtPtM6J3We6//pN98RvGu6/aT6wbYcYRmI8gO0YhHyQl2qR4jPp2cLHld3TE239pnxv8APU\\\n",
       "2ODgUFX78ViGQVbQTJy0DfYGl1k7IH7iC1qQ7jcIWiYtgwaGAVHbINVvYJkQjrnLNuKBXFu/r7YW\\\n",
       "uzbcTfaGVfyn7u/B2nlCPiPx2aeYDhgmqT7AcMPLrd+dJ80PKZZFZsAgxTLd/SjTR9iG7i18iX2p\\\n",
       "qf2+Z5afvJDFN3ui7KwzTU3MbVt8HzUNyEmxSPMZSftIVdShR9be9ezveGrucVldXcn4k3IO6rg8\\\n",
       "0ueAQ6W55zgvUYDVOpAPNzdk0TKl4Q4cV/eWwqHQ1PrS/CaZATfEUn0mab56fXJqb3P9tE8GA3MD\\\n",
       "SfOn+U1ClkFx2CYaidInN0RuyKo7K//WLTVpvjS/Sag2NH0m1NjubTfbcYPKMtxbWzYGAdP9yUlJ\\\n",
       "blf8NlJ82+SGLArSLbZW2ZRHbCI2RJ29VwKG4Z7k4ifuDL/JsLwA/XICSW3JqN0W8fltxw0ln+kG\\\n",
       "koNBmt8kL2QmTorYNk5t8LqPxtxp81Mt0vxm4hZh/bZurkgOsYDpBmlVDFqlmAzLC5IXsthWZWM7\\\n",
       "7q0/p7aO+MYNWu5txYBpMKR1gJOy/VRE3FuntuO2yawNNNNwrw5TLIOQzyBgGcQcg1SfG0YxZ++X\\\n",
       "BtPcG1wm7nbz14ZXwDTIT7Xo1sJHaXWEViFf7RWru46YQ2JdqT6LnBTD/ewM6NHCR8cMH2M6hBJf\\\n",
       "mOqrv9+728vH5nohltheUYdWKRaDWwfIT7WSAqBHli+xPzb3eGrOcTk0tZzTOufucznNcaTPAYfC\\\n",
       "8Rhgx8ZXg3qKioqO+fX6gYwqi42VDTtydkq18e+MUbTz0LWtqfVZQPcA7KgxKK0yksZl+R26EMO/\\\n",
       "021I/fktIBgxCPrBqixjV2XDGurPZwHBqEFVxCATCDoQtg2qY+7JN81x8FlQEXPv25kRh6pInfY4\\\n",
       "Mfw7dyRtGz/QxbH4GosSTKoMgwi1Vy61J+cADn4DcqwYrWJhdhXvbUv8CUNpxCAFg6raqypsMAwb\\\n",
       "v3tXihDQzueeJDeETfwmGI5NxDGIxsBnOoRwMCNRguzddo22NWpRGtm7vU0gE8jGwaqsohWQY5lU\\\n",
       "RUwCuJdKUcdI3NILGGDEbDIth1axMFTWfo4YbKgxqY7VBlHtl4MM0ybNcqiIuds6APgcCBgGMWPv\\\n",
       "Ldf4ZWsM91arHwccAyNmYwHZ2HS1HKpCBmG7JvHZxdeVYjikm4AdS3x2WX4Hq9IhA5ueNTG+OYD9\\\n",
       "3g90weLrSCPby4BsarAq3R0vGDEojRiJ9cX3xwM5nvZ3XHbLdQ7Z+eVInwMOhaNxbj2cty2PyQA7\\\n",
       "GvdpD/T+8BclEfaUV9Ey1HDcHiDS6tB++2pqfTuqYnxV+6wqNZQcYGEDNuAj0srt5VV//h1VMcKR\\\n",
       "KFWVVcRSM5OuwOI11J9vR1WMcE0UG5vdYYdUA2Im+E2HGFBhGJTG3KsOvwm2f+8VWBjYYPiJtEpr\\\n",
       "0Gtrw84KSghTjU2NYyduu2G4J+MaDKIOFMdMdloBumf5E22piNoYGDh+h+qITRSbaO36HcMkYjhE\\\n",
       "HDfYtkTd5z4x0yYSiVJd+yaJZblXaVWA7bcI+83EtmusrWFfhFCdo6ci6m6PAAax1AAlYZviWA2O\\\n",
       "URuQBolbgTZQ40CKZbLbMdhpBcgOmny1M0Jl1E5szxrbqb0V6bDHNim33VuHWFATda/qahyHaO2V\\\n",
       "U+1FZOK5YY0NjmXgN8CxTGKmQQkm62MmG6uqyEwJEDPdDi/uuhyqHQPHdm8f2373CixsQCzVx56Q\\\n",
       "xZqAnz2hSLP3+y9KImzYUU7YH224vaptAljEUt3pwxF3mjDu+uL744EcT/s7LtdVbGfMgG77XU5z\\\n",
       "HOlzwMHSM7Dj2IFcXtfvadSYr0qjtEwxk0Lhn9XU+nZUxfhkZ4Sd1TEqo+6ttICZHGI7wzafFkdY\\\n",
       "UxIh1W8mzbu2tldgNBqlLGYR8rm32eKWbq3hkx01ifl2VMVYW+oGRnG1Q41tUxJ2MA0HyzCosR12\\\n",
       "VtvU2G7HiniPuLrt2llts7kiRkG6RW7I4ouSCLPWVPDxjjDfV9qU1diE671CE79N5jgQcxy2V9lE\\\n",
       "bIdtVXaiLWU1NiVhu7Y3nztf/BlROOaGR01tD8U9Edt9bhVziDpG4vlS/JZddcwhaBnsjjhs3hOl\\\n",
       "IN2X1NZ47864eBvAfR75TXmMr8qihGNuW2pqO3LUXgzV1uH++Ez4tsLm2/Iou2r2bs+YQ+1zNfe/\\\n",
       "K6NuHRHb/XF7S7r/beCGvFOnZrvOdosHp2lASdhhU3kM24E90b23Dqui7nriyzcMh6htJD674rBN\\\n",
       "ddRh8fdhUqzk/aSuuvv9FyURZn1Znuh9mry93A+pMup+jjuqY0n7bnG1nbQ/Nud4as5x+eWuatpl\\\n",
       "px/0cXmkzwGHwvF4C1EvMh+g4uoY8zYl77gG7oPtutHhAPM2VR30C41NrS8/1WR1SaS267ZrV9gh\\\n",
       "w+8+d4qLxBw+2lHDqpJIoqdcVfwEUm+h8ZNUfJq1pRHWlkWpjNpURW2+KnO7UheHHWKOTVWU2mcZ\\\n",
       "7u28iqhT25XdPWFWRSFouZ1KonW6oq0tjfC/6yspKnP/XbWrhu1VNnsibkeOeJgkrirY2zkjYkN5\\\n",
       "xGZlcYQ9ETc4Yo5DRcSmoja8LGPvM6D4CT5iu2FaE4NoDHZHIOLsff4Vtd1nQf7aenZU2URiDmvL\\\n",
       "ory8viLR1rV13/o23E4Y8aABtxfilooYFVG3M0o8vOKdORxnb/tqbDc4yiM2WypsKiK1IRhxO8f4\\\n",
       "TbdN8e1pO26I1dgQiZF4Tmizt+NG/Kfu7zW181dHHfZE3G1UETWwHcftDeg4OBiJziUObmBGbPcz\\\n",
       "jtiOux/tjFATc/iqLEpV1N7nfl9UFuHl9RWJL0lxGYF4JyN3rpgD31XEatu1t+dLyxQzsZ66y93X\\\n",
       "i8PNOi4d46CPyyN9DpCm6Qqs1oH0QvQbuO8Csfdh7Yi2KQ0e6o5sG6Qw6+BuITS1vn9pHyJgGny2\\\n",
       "K0J1zD0h9M/xc/egFgzPDyY6GliGQbtUk/YZfnJS3Pe5LumSSv8cP1urYhRX20SjUfq0CnF1j7RE\\\n",
       "pw2faWABLYIWOSkWAdNgRH6QFJ+JgcOOKpusgIlpwElZfjKCJm1TLfZEbHyGgYP7Dtbp+UEu65JK\\\n",
       "xCbxIL9zhsUlXVLdjhiWwbflMXZHHDe8HAfLhHQ/hHwmrVPc50YxZ2+nhLapFhd3CZGbYrEr7L7j\\\n",
       "lRU0yfCbpPrcE37823uXDIu9RHEuAAATE0lEQVRobWg41Pb8Cxhk+U1sxyattodkVtAkP9UkM+B2\\\n",
       "E88MmIR87ntgl3be29Zv9kQprXESHWRu7p9J10wfX5REqYw6WIZJu1TT3U61vTJ9JmSnuO3xGe7v\\\n",
       "hgEppvseWLxjhmXUvj+XanFyqwBdMt17blW173r5TLf9IcsgP81KXImZtWmV6qt9f469QRkwIS/V\\\n",
       "pFWK2+nAwr0SDRhgmCYn5/gZlBsk029QGnG/DFiG25HllNwAnTJ95Ke6ryu0TbOIOe7nl5Ni7XO/\\\n",
       "75cTINUy2FQeq31P0e3Ac3O/DLpm+lhdEqEq6ra9sIWfvjkB2qa6n2ePFj46Zfg4Mz9IRZ0+Evs6\\\n",
       "npp7XFZVVTG2a9ZBHZdH+hxwqByPV2AKsFoH8uG2T/cRMGFTeaxBr6uWKSZFZVFGHsIXGJtaX5+W\\\n",
       "ftJ8Jqt2Reme5Uv8JY54b7lvK2JkBkyu7ZVO/xx/0vzt031kBUy2V9uEYlX8e++WDMkLJtVwQadQ\\\n",
       "0nwj26UQqO1tNzA3wM5qmzEdUuiY6fZOC/ncEN1RbdM508fA3ADjuqYyukOIgnQf35ZHyQyYiZeY\\\n",
       "47XlpJhsr7LJCZp0zvCRGTBI91tM7JlGdtCiZdCgZdDCAbIDFv/RO51b+meSFTApq7HJ8Jt0a+Hn\\\n",
       "37qlYhoGqbW99f6tWypdWvjp19LPrhqHzpnuC7P5qRYDcwOcnFJBiZPCSdl+buqbQY3tdun+166p\\\n",
       "GIYbYlfW+Usc8bZurojRJtVM9FDs09JPyHLfjyts4eOeQS3onOljfVmMntl+clMsAqbJfae2oFuW\\\n",
       "j1W7opyU7ePywjS2Vtlc2T2Nf2mfwprSGAXpPk5pHeSmvhn0a+mnpMYhL9Ukw+8+uzs1N8j5nUPs\\\n",
       "rLa5sHPIvRUYsSnM8tM/J0DnDB/ZQRPThDSf+1c9huUFuKRLCMMwKEj30T3Lx5byMOd3SqNXSz9X\\\n",
       "FKZxam6AHdXue3hdMn0Mbh3kqu5pDM8PsqUyxoj8FFL9BqfkBvBZRrP2+/bpPloF49vLSvQ+7dPS\\\n",
       "/TLwZUmE7i383DYgg/45fnaGbcZ0CFEVcxjZNsjoDqEDOp6ac1z2DZZzTuHB90I80ueAQ+F4DDC9\\\n",
       "yFzrn3nAWVwda/KlysPx4mJTyy0qi9AyaDYYF791ER/e2PzF1TE2bNjAqb0KGwxvar7470VlEQpb\\\n",
       "+BO/1x3esvZ9svrz1R9Wf1zcrrCdWHbdYeB+Y29svngb6s9fv02J5W3eAK07JbZd3fY1p631x9X/\\\n",
       "HOquM94ecP8WYpdMX9I2rD993W1ft/748utu+w27o4mrtfrbqu7y6rb7zx8VcfGgwgafc3wd9dtQ\\\n",
       "9/M90P2+udurqeUf6PG0r3bs2rzhkHZkONLngINxPHbiUIDVOh4/3OY6UWs/UeuGE7f2E7VuOD5r\\\n",
       "VycOERHxJAWYiIh4kgJMREQ8SQEmIiKepAATERFPUoCJiIgnKcBERMSTFGAiIuJJCjAREfEkBZiI\\\n",
       "iHiSAkxERDxJASYiIp6kABMREU9SgImIiCcpwERExJMUYCIi4kkKMBER8SQFmIiIeJICTEREPEkB\\\n",
       "JiIinqQAExERT1KAiYiIJynARETEkxRgIiLiSQowERHxJAWYiIh4kgJMREQ8SQEmIiKepAATERFP\\\n",
       "UoCJiIgnKcBERMSTFGAiIuJJCjAREfEkBZiIiHiSAkxERDzJKC0tdY52I+orKio62k0QEZFDoLCw\\\n",
       "8LAt+5gMsKOhqKjosG7oY9mJWvuJWjecuLWfqHXD8Vm7biGKiIgnKcBERMSTFGAiIuJJCjAREfEk\\\n",
       "BZiIiHiSAkxERDxJASYiIp6kABMREU9SgImIiCcpwERExJMUYCIi4kkKMBER8SQFmIiIeJICTERE\\\n",
       "PEkBJiIinqQAExERT1KAiYiIJynARETEkxRgIiLiSQowERHxJAWYiIh4kgJMREQ8SQEmIiKepAAT\\\n",
       "ERFPUoCJiIgnKcBERMSTFGAiIuJJCjAREfEkBZiIiHiSAkxERDxJASYiIp6kABMREU9SgImIiCcp\\\n",
       "wERExJMUYCIi4kkKMBER8SQFmIiIeJICTEREPEkBJiIinqQAExERTzJKS0udo92I+oqKio52E0RE\\\n",
       "5BAoLCw8bMs+JgPsaCgqKjqsG/pYdqLWfqLWDSdu7Sdq3XB81q5biCIi4kkKMBER8SQFmIiIeJIC\\\n",
       "TEREPEkBJiIinqQAExERT1KAiYiIJynARETEkxRgIiLiSQowERHxJAWYiIh4kgJMREQ8SQEmIiKe\\\n",
       "pAATERFPUoCJiIgnKcBERMSTFGAiIuJJCjAREfEkBZiIiHiSAkxERDxJASYiIp6kABMREU9SgImI\\\n",
       "iCcpwERExJMUYCIi4kkKMBER8SQFmIiIeJICTEREPEkBJiIinmSUlpY6R7sRIiIiB0pXYCIi4kkK\\\n",
       "MBER8SQFmIiIeJICTEREPMmzAbZ161auu+46unbtSl5eHkOGDOG9994DIBKJcO+993LaaafRtm1b\\\n",
       "evTowTXXXMPmzZuTlhEOh/nlL39Jly5daNu2Lf/6r//Kli1bkqbZvHkz48ePp23btnTp0oXbbruN\\\n",
       "mpqapGnee+89RowYQV5eHv379+eZZ545arXX97Of/YysrCwee+yxpOFerL05da9bt44JEybQoUMH\\\n",
       "8vPzOeOMM1i7dq2n64b9115eXs4vf/lLevXqRZs2bTjllFN44oknkpbhxdr79u1LVlZWg59x48Yl\\\n",
       "pnn66afp168feXl5jBgxgmXLlh33dT/88MOMHDmSgoICunbtyvjx4/niiy+SluE4DtOnT6dnz560\\\n",
       "adOGH/3oR3z55ZdJ05SWljJ58mQ6dOhAhw4dmDx5MqWlpUnTrF69mrFjx9KmTRtOOukkHnzwQRzn\\\n",
       "2Oj758kAKy0tZfTo0TiOw//+7/+yYsUK/uu//ovc3FwAKisr+fTTT7n11ltZtGgRL7zwAlu2bOHS\\\n",
       "Sy8lGo0mlnPHHXcwb948Zs2axZtvvsmePXsYP348sVgMgFgsxvjx4ykvL+fNN99k1qxZzJ07l7vu\\\n",
       "uiuxjI0bNzJu3DgGDx7M4sWL+cUvfsFtt93GnDlzjkrtdc2ZM4ePP/6Y/Pz8BuO8Vntz6t64cSOj\\\n",
       "R4+mY8eOzJ07l+XLl3P33XeTlpbm2bqbW/tdd93F3/72N37/+9+zYsUKbrnlFqZOncpLL73k6doX\\\n",
       "LFjA2rVrEz+LFi3CMAwuvPBCAP785z8zZcoUbrnlFhYvXszgwYO57LLLkr6sHo91v/fee0ycOJG3\\\n",
       "3nqLuXPn4vP5uPDCCykpKUks43e/+x1PPPEEDz74IO+++y65ublcdNFF7NmzJzHNNddcw2effcYr\\\n",
       "r7zCq6++ymeffca1116bGL97924uuugiWrduzbvvvsuMGTN47LHHePzxxw9L3QfKk93op02bxtKl\\\n",
       "S3nrrbeaPc+aNWsYOnQoS5cupXfv3pSVldGtWzeeeOKJxLeab7/9lr59+/Lqq68yatQo/v73vzNu\\\n",
       "3Dg+//xz2rdvD8DLL7/MTTfdRFFREZmZmdx7773MmzePjz/+OLGuG2+8kTVr1vD3v//90BZO82v/\\\n",
       "5ptvGD16NK+//jqXXnopkydP5sYbbwTwZO3Nqfuaa67BMAz++Mc/Njrei3VD82ofNmwY5513Hnfe\\\n",
       "eWdi2NixY+nduzczZ870bO31/eY3v+HRRx9lzZo1pKamMmrUKHr37s2jjz6amGbgwIFccMEF3Hvv\\\n",
       "vcdt3fWVl5fToUMHZs+ezZgxY3Ach549ezJp0iRuvfVWAKqqqigsLOT+++/n6quvZu3atQwZMoT5\\\n",
       "8+czdOhQAJYvX86YMWP48MMPKSwsZNasWdx333189dVXhEIhAGbOnMkzzzzDF198gWEYh732ffHk\\\n",
       "Fdgbb7zBoEGDuPrqq+nWrRvDhw/nD3/4wz4va+PfOrKysgBYuXIlkUiEs846KzFN+/bt6dGjBytW\\\n",
       "rADggw8+oEePHomdGmDUqFGEw2FWrlyZmKbuMuLTfPLJJ0QikUNTcB3NqT0ajXLNNddw66230qNH\\\n",
       "jwbL8GLt+6vbtm3mz59Pjx49uOSSS+jatSsjR47kz3/+s6frbk7tAEOHDmX+/Pl8++23AKxYsYJV\\\n",
       "q1YxatQoT9del+M4PP/884wfP57U1FRqampYuXJlg/acddZZiZqOx7obU15ejm3bifPbpk2b2LZt\\\n",
       "W1KbQ6EQp512WlLd6enpDBkyJDHN0KFDSUtLS5pm2LBhifACt+7vv/+eTZs2HfJaD5QnA2zjxo3M\\\n",
       "mjWLTp068dprr3HdddcxderUJr9519TUcPfdd/PDH/6Qdu3aAbB9+3YsyyInJydp2tzcXLZv356Y\\\n",
       "pv6tuZycHCzL2uc0ubm5RKNRiouLD0m9dTWn9unTp5Odnc3EiRMbXYYXa99f3Tt27KC8vDzxbOAv\\\n",
       "f/kLl1xyCZMmTWL+/Pmerbs5tQM8+OCD9O3blz59+tCqVSt+9KMfcd999/HDH/7Q07XXtWDBAjZt\\\n",
       "2sSVV14JQHFxMbFYrNH21G3v8VZ3Y6ZMmULfvn0ZPHgwANu2bUu0sa76defk5CRdRRmGQatWrfZb\\\n",
       "d3zc0eY72g34Z9i2zcknn8y9994LQP/+/dmwYQNPP/00kydPTpo2Go0yefJkysrKePHFF/e7bMdx\\\n",
       "GnygjdnXNPFvxofj8np/tb/33nu88MILLFmy5ICXfSzXvr+6bdsG3NtmP/3pTwHo168fK1eu5Omn\\\n",
       "n06cyBtzLNcNzdvfn3rqKVasWMGLL75IQUEBy5Yt45577qFDhw6cffbZTS77WK+9rmeffZaBAwfS\\\n",
       "r1+/JtsWb8/+2nI81B1355138v777zN//nwsy0oat79t01jb9zfNkaq7OTx5BZaXl9fg1lj37t0T\\\n",
       "t0/iotEoEydOZPXq1cyZM4eWLVsmxrVu3ZpYLNbg29POnTsT3zBat27d4FtG/W99jU2zc+dOfD5f\\\n",
       "0voOlf3VvmTJErZu3UqPHj3IyckhJyeHzZs3c++999KrV69Em71W+/7qzsnJwefz7XMaL9YN+6+9\\\n",
       "qqqKadOmMXXqVMaMGUOfPn2YPHkyF198caL3qVdrj9uxYwdvvvkmV111VWJY/aukuu2p297jre66\\\n",
       "7rjjDl577TXmzp1Lp06dEsPz8vKAhldJ9eveuXNn0q1ox3EoLi7eb93Q8OruaPBkgA0dOpR169Yl\\\n",
       "DVu3bh0FBQWJ3yORCFdffTWrV69m3rx5iQ80bsCAAfj9fhYsWJAYtmXLlsSDTYDBgwezdu3apC63\\\n",
       "CxYsIBgMMmDAgMQ0CxcuTFr2ggULOPnkk/H7/Yek3rr2V/s111zD0qVLWbJkSeInPz+f66+/PtFj\\\n",
       "you176/uQCDAwIEDKSoqanIaL9YN+689EokQiUQafPu2LCtxZerV2uNmz55NMBjk4osvTgwLBAIM\\\n",
       "GDAgqaZ4e+I1HY91x91+++28+uqrzJ07l+7duyeN69ixI3l5eUl1V1dXs3z58qS6y8vL+eCDDxLT\\\n",
       "fPDBB1RUVCRNs3z5cqqrqxPTLFiwgPz8fDp27HhIa/1nWFOmTLnvaDfiQLVv354HH3wQ0zRp06YN\\\n",
       "ixYt4oEHHuDmm29m0KBBRKNRrrrqKj7++GOee+45MjIyqKiooKKiAsuy8Pv9pKSksHXrVv74xz/S\\\n",
       "p08fysrKuPnmm8nMzGTq1KmYpkmnTp2YN28e7777Lr1792bNmjXceuutXHbZZZx33nkAdO7cmUce\\\n",
       "eYQdO3ZQUFDAm2++yUMPPcQDDzxAz549j3jtaWlp5ObmJv089dRTjBgxgjFjxgB4svb91Q2QnZ3N\\\n",
       "jBkzaN26NZmZmcydO5ff/e53/Od//ifdunXzZN3NqT0YDLJkyZJEJxbHcXjjjTd4+OGHufbaaznl\\\n",
       "lFM8Wzu4VwU33HADo0ePTnQjj8vIyGD69Om0adOGlJQUZs6cybJly3j88cdp0aLFcVv3rbfeyksv\\\n",
       "vcSf/vQn2rdvnzi/gRvshmEQi8X47W9/S7du3YjFYtx1111s27aNRx55hGAwSKtWrfjHP/7Bq6++\\\n",
       "Sr9+/diyZQs333wzAwcOTHSl79q1K//zP//D559/TmFhIcuXL+dXv/oVP//5z5M6fxw1paWljhd/\\\n",
       "Xn75Zad3795OMBh0unbt6syYMcMpKSlxSktLnU8//dQBGv154oknEsvYunWrM2nSJCc7O9sJhULO\\\n",
       "6NGjnVWrViWt5/PPP3dGjx7thEIhJzs725k0aZKzbdu2pGn+7//+z+nXr58TCAScDh06OA8//PBR\\\n",
       "q72xn4KCAuf+++9PGubF2ptT9xNPPOF07drVSUlJcXr16uU8/fTTnq+7ObWvXbvWufzyy538/Hwn\\\n",
       "JSXFKSwsdO6///6kabxa+9y5cx3Aeeeddxod/5vf/MYpKChwAoGA079/f+eNN944Lj7zfdXd1Pnt\\\n",
       "9ttvT0xTUlLi3H777U5eXp4TDAad0047zVm2bFnScr7++mtn3LhxTkZGhpORkeGMGzfO2bhxY9I0\\\n",
       "S5cudYYNG+YEg0EnLy/PmTJlyj7PN0fyx5PvgYmIiHjyGZiIiIgCTEREPEkBJiIinqQAExERT1KA\\\n",
       "iYiIJ/1/lvP5G9/2YLkAAAAASUVORK5CYII=\\\n",
       "\"\n",
       "  frames[8] = \"data:image/png;base64,iVBORw0KGgoAAAANSUhEUgAAAbAAAAEgCAYAAADVKCZpAAAABHNCSVQICAgIfAhkiAAAAAlwSFlz\\\n",
       "AAALEgAACxIB0t1+/AAAADl0RVh0U29mdHdhcmUAbWF0cGxvdGxpYiB2ZXJzaW9uIDMuMC4yLCBo\\\n",
       "dHRwOi8vbWF0cGxvdGxpYi5vcmcvOIA7rQAAIABJREFUeJzt3Xl8VPW9//HXOWeWzGQhIYQAEkBi\\\n",
       "CIIsYhVQBBGvFNyrQlvpVX8s7rZeaUWlxa0XqFWr1ttNbKuXalvtFag8tEUWERBwQRYVoggiKktI\\\n",
       "QtbJLOf3x8lMMkmAIGBy4P18PPLAzJzl+zlz5rzn+z3fiUZpaamNiIiIy5it3QAREZGvQwEmIiKu\\\n",
       "pAATERFXUoCJiIgrKcBERMSVFGAiIuJKCjAREXElBZiIiLiSAkxERFxJASYiIq6kABMREVdSgImI\\\n",
       "iCspwERExJUUYCLHyMyZM8nMzGT58uWt3RSR45ICTESOSDgc5je/+Q0333wzw4YNIycnh8zMTJ55\\\n",
       "5pkDrrNhwwZmzZrFmDFjOPXUU8nJyaGwsJAJEyawYsWKA663e/du7rvvPs4++2zy8vLo3r0755xz\\\n",
       "DjNnzqS4uPhYlCdtmKe1GyAi7lZZWcndd98NQMeOHcnNzeXzzz8/6Dp33HEHb7/9Nv369WPMmDFk\\\n",
       "ZGSwefNmFi5cyD//+U9+8YtfMGXKlKR1tm/fzgUXXMCePXsYOnQoI0eOJBKJ8OabbzJ79mzmzp3L\\\n",
       "4sWL6dix4zGrVdoWBZiIHJFgMMjf//53+vXrR6dOnZg5cyazZ88+6DpXXXUVv/nNbygoKEh6fNmy\\\n",
       "ZVx55ZVMnz6dyy67jNzc3MRzTz75JHv27GHq1KlMnz49ab1Jkybx4osv8sc//pG77rrr6BUnbZqG\\\n",
       "EOWgtm/fTmZmJhdddBHFxcX88Ic/pLCwkI4dOzJkyBCeffbZI9r+8uXLGT9+PH379qVjx46ccsop\\\n",
       "nHfeedx7773Ydv3/LPzLL79k1qxZXHjhhfTq1YucnBx69+7NxIkT+fDDDw/a7t27d3PLLbdQUFBA\\\n",
       "ly5duPDCCxPDVBUVFdxzzz2cdtppdOzYkcGDB/Pyyy832d7cuXPJzMxk5syZrFmzhssuu4y8vDzy\\\n",
       "8vK46qqrWLdu3WHVvXXrVm677bbEfvPz87nmmmua3U5ZWRmzZ89m6NCh5OXlcdJJJ9G/f38mTJjQ\\\n",
       "Ju6v+Xw+/uM//oNOnTq1eJ0bb7yxSXgBjBgxgnPPPZfa2lreeuutpOe2bdsGwNixY5usd9FFFwGw\\\n",
       "d+/ew2i5uJ0CTFqkrKyM0aNHs3btWi699FK++93v8uWXX3L77bfzv//7v19rm//617+49NJLWbVq\\\n",
       "FcOGDePWW2/l0ksvpV27dvzud78jGo0mll25ciWPP/44mZmZXHrppdx0002cccYZzJs3j1GjRrF+\\\n",
       "/fqDtvvDDz/k6quv5sILL2Tt2rVceeWVrF+/nksvvZTFixczduxYrrzySj799FOuv/561q5d2+z2\\\n",
       "3nnnHS6++GJSUlKYPHky559/PosXL2bMmDGsXr26RXUvW7aM4cOH8/zzzzNgwABuvPFGzj//fF5/\\\n",
       "/XVGjx7N66+/nljWtm2uuuoqZs6cSTAYZMKECUyaNIkhQ4awbt06li1bdhhH3B18Ph8AHk/yAFHv\\\n",
       "3r0BWLhwYZN1XnnlFQBGjhx5jFsnbYmGEKVFNm7cyHXXXccjjzyCZVkA3HzzzZxzzjk88cQTTJgw\\\n",
       "4bC3+eyzz2LbNgsWLGDAgAFJz+3bty/pAjZ8+HC2bNlCenp60nLr1q1j7Nix3H///bz00kvNtvuG\\\n",
       "G25g1qxZGIYBwKOPPsoDDzzAxRdfzMiRI3n66afxer0AnH/++UyePJlf/epXzJ07t8n2Fi1axMMP\\\n",
       "P8zkyZMTj82bN49rr72WW2+9lTVr1iT205yysjKuv/56vF4vixYtSlyUATZv3syoUaO45ZZbeP/9\\\n",
       "9/H7/WzatIm1a9cyZswYnn/++aRt2bZNSUnJAffV0Pr16xMX+Zb6/ve/T/fu3Q9rnSP12WefsXTp\\\n",
       "UoLBIOecc07Scz/84Q957bXX+OUvf8mKFSs444wziEQiLF++nG3btjFjxoxme2dy/FKASYsEg0Ee\\\n",
       "euihRHiB84l4yJAhrFixgvLy8ibhciimaSa23Vj79u2Tfs/JyWl2GwMHDuTcc89l6dKlhMPhRBDF\\\n",
       "paam8rOf/SwpVMaNG8cDDzzA/v37eeihh5LW+c53vsPNN9/Mhg0bmt1fz549mThxYtJjl112GYMH\\\n",
       "D2b16tWsXr2aIUOGHLDmF154gX379jFr1qyk8AIoLCzkP//zP/mf//kfli5dyujRow96jAzDaHKc\\\n",
       "DmTDhg2HvC/V2LBhw77RAKuurmbixImEQiEeeOABMjMzk57Pyclh0aJF3H777cybN49Vq1Ylnrv6\\\n",
       "6qu5/PLLv7G2StugAJMWyc/PJy0trcnjJ510EuD0LA43wMaNG8f8+fMZNWoUV1xxBeeeey5nnnnm\\\n",
       "AS+ar732Gs888wzr1q2juLiYSCSS9HxxcXGT+zD5+fmkpqYmPRZfJjMzk7y8vKTnLMsiJyeHL774\\\n",
       "otk2DB06NBEqDZ199tmsXr2a9evXHzTA4sOMmzZtYubMmU2e//jjjwHYsmULo0ePprCwkIEDB/LS\\\n",
       "Sy/x2WefMXbsWAYPHsygQYNISUk54H4au+aaa7jmmmtavPw3rba2luuuu461a9dy9dVXc9tttzVZ\\\n",
       "Zvv27VxzzTVUVFTwwgsvMGTIECKRCEuWLOHuu+9m0aJFvPbaa/Tq1asVKpDWoACTFsnIyGj28XiP\\\n",
       "rOH9qpa6+OKLeemll3jyySd5/vnn+fOf/wxAnz59uOuuu7jssssSy/72t79l2rRpZGZmMnLkSPLy\\\n",
       "8khJScEwDF555RU2btxIKBRqso/mQjU+NHmgwLUsq0k4xh1oina8h7h///6DVOwMjQI899xzB12u\\\n",
       "srIy0ZaXX36ZRx55hJdffpn7778fcHpkV1xxBQ888ADZ2dkH3VZbV1NTww9+8AP+/e9/c9VVV/Hb\\\n",
       "3/622WHYm266iY0bN/LGG2/Qv3//xONXX301gUCACRMmMHPmTP74xz9+k82XVqQAk1Y1atQoRo0a\\\n",
       "RXV1Ne+88w6LFi1izpw5XHfddSxYsIBhw4YRiUSYOXMmubm5LFu2rEkv60ATLo6F3bt3N/v4nj17\\\n",
       "gAMHfVz8+aVLlzJw4MAW7TMzM5MHH3yQBx98kG3btrFy5Uqee+455s6dy44dO5g/f/4ht9FW74FV\\\n",
       "VVXxve99j2XLlvG9732Pp556qtkebnl5OStXriQzMzMpvOKGDx8OcNizQcXdFGDSJgQCAYYNG8aw\\\n",
       "YcPo0aMHP/rRj1i4cCHDhg2juLiYsrIyhg8f3iS8KioqeP/997+xdr711lvEYrEmF9mVK1cCNHtx\\\n",
       "bejMM89k/vz5rFq1qsUB1lCPHj3o0aMH48aNY+DAgbzxxhuUlZXRrl27g67XFu+B7d+/n/Hjx7Nq\\\n",
       "1Squv/56Hn300QNOgAmHw4DzeodCIfx+f9Lz8enzjR+X45um0UurWbp0KVVVVU0e37VrF0DiHk9O\\\n",
       "Tg7BYJD33nuPioqKxHLhcJhp06Z9o39C6JNPPmHOnDlJj82bN4/Vq1dTUFDA4MGDD7r+hAkTyMzM\\\n",
       "5OGHH2bNmjVNnrdtm1WrVlFbWws433364IMPmixXUVFBZWUlHo+nyXTz5lxzzTWUlpYe1s+55557\\\n",
       "yO1+XaWlpVxxxRWsWrWKm266iccee+ygszfbt29PYWEhkUikSRBHIhF+/vOfA/U9MTkxqAcmrWb6\\\n",
       "9Ol89tlnnHPOOXTr1o2UlBQ2bdrE66+/Tvv27bn22msBZ7biDTfcwGOPPcbZZ5/N2LFjCYfDLF++\\\n",
       "nJKSEs4999xv7Au9F1xwAdOnT2fRokX07duXTz75hAULFhAIBHjyyScPehEGyMrK4tlnn2XChAlc\\\n",
       "eOGFDB8+nN69e+P1etm5cydvv/02n3/+Odu2bcPn87Fx40YmTJhA//796dOnD507d6a0tJTXXnuN\\\n",
       "kpISbrnlliaTVFrDY489xpYtWwASMziff/75xPBur169uOOOOxLLT5gwgXfeeYeTTjqJjIyMZie0\\\n",
       "DBs2LClEZ8+ezbhx43j00UdZsmQJgwcPJhqNsnTpUoqKiujWrRtTp049lmVKG6MAk1Zz55138sor\\\n",
       "r/Dee+8lAqhLly7cdNNN3HzzzXTt2jWx7L333kt2djbPPfccf/rTn8jIyOC8885j+vTpzV78jpUz\\\n",
       "zjiDn/zkJzz00EP8/ve/B5wvz/70pz9t8ZDg8OHDWbFiBb/+9a95/fXXWbNmDR6Ph9zcXM4880xm\\\n",
       "zJiRuFd2+umnc+edd/Lmm2+yZMkSSkpKaN++Pb169eK///u/28zU8UWLFjX5I7xr165NBNg555yT\\\n",
       "FGDbt28HYOfOnQcd2mwYYOeddx6LFy/miSeeYOXKlcyZMwfLsujevTu33347d9xxB1lZWUezLGnj\\\n",
       "jNLSUvvQi4mc2ObOncstt9zCXXfdlfjDtSLSunQPTEREXEkBJiIirqR7YHLUbN++nb/85S8tWrY1\\\n",
       "/s6eiBxfdA9Mjprly5dzySWXtGjZBQsWHNNp2iJy/FOAiYiIK+kemIiIuJICTEREXEkBVqeoqKi1\\\n",
       "m9BqTtTaT9S64cSt/UStG47P2hVgIiLiSgowERFxJQWYiIi4kgJMRERcSQEmIiKupAATERFXUoCJ\\\n",
       "iIgrKcBERMSVFGAiIuJKCjAREXElBZiIiLiSAkxERFxJASYiIq6kABMREVdSgImIiCspwERExJUU\\\n",
       "YCIi4koKMBERcSUFmIiIuJICTEREXEkBJiIirqQAExERV1KAiYiIKynARETElRRgIiLiSgowERFx\\\n",
       "JQWYiIi4kgJMRERcySgtLbVbuxGNFRUVtXYTRETkKCgoKDhm226TAdYaioqKjumBbstO1NpP1Lrh\\\n",
       "xK39RK0bjs/aNYQoIiKupAATERFXUoCJiIgrKcBERMSVFGAiIuJKCjAREXElBZiIiLiSAkxERFxJ\\\n",
       "ASYiIq6kABMREVdSgImIiCspwERExJUUYCIi4koKMBERcSUFmIiIuJICTEREXEkBJiIirqQAExER\\\n",
       "V1KAiYiIKynARETElRRgIiLiSgowERFxJQWYiIi4kgJMRERcSQEmIiKupAATERFXUoCJiIgrKcBE\\\n",
       "RMSVFGAiIuJKCjAREXElBZiIiLiSAkxERFxJASYiIq6kABMREVdSgImIiCspwERExJUUYCIi4koK\\\n",
       "MBERcSUFmIiIuJICTEREXEkBJiIirmSUlpbard2IxoqKilq7CSIichQUFBQcs223yQBrDUVFRcf0\\\n",
       "QLdlJ2rtJ2rdcOLWfqLWDcdn7RpCFBERV1KAiYiIKynARETElRRgIiLiSgowERFxJQWYiIi4kgJM\\\n",
       "RERcSQEmIiKupAATERFXUoCJiIgrKcBERMSVFGAiIuJKCjAREXElBZiIiLiSAkxERFxJASYiIq6k\\\n",
       "ABMREVdSgImIiCspwERExJUUYCIi4koKMBERcSUFmIiIuJICTEREXEkBJiIirqQAExERV1KAiYiI\\\n",
       "KynARETElRRgIiLiSgowERFxJQWYiIi4kgJMRERcSQEmIiKupAATERFXUoCJiIgreVq7AW5WXBMF\\\n",
       "IDvFatHjx2pf+0Ix2vvNQ7ajuCba7DKl4eTnGq5XVBamvb/5zznx/Tb8vaCdN2md+DYaPt64PWt3\\\n",
       "h+iZ4WmybaDJ9reXR7igayCxbrz++OPxfWzdH6FnhifRxq37I2TWbau932RfKEZpGP6xtZJ+2T4K\\\n",
       "2nkpromydX+EMzv6WfR5Nad38DU5Jgc6BvE6G25/e3mE0zv42Lo/wo6KCCO6pJCdYvHnzeVc3D3I\\\n",
       "vlCMDcW1jOiS4rQnFCPTbybae2ZHf+LYxI9HaSiWaN8FXQOs3R0CSCxTGorRM8PDe3tr6Z7uSbSl\\\n",
       "oJ036Thv2A/t62pqeKwaiq8LJI5PYw3PpwOdXw3PjYaPN9x2w/Ubb6fx44f7fOO2HE0H29fRfP9L\\\n",
       "8xRgX9PqXSH+t6gKv2Xw/3qn0ifLeRN+UBLmmY8qCEVhQkGQwbn+o7gv+H+905L2NfPd/XxYEqZ3\\\n",
       "lpd7BmU0akcloajNhIIgAEu/DHFJ90BimdW7Qvx9azUf7/aRt28/N/VNo7w2xt+3VgM27f0mr+0I\\\n",
       "keqFTkEP4WiM2hikeg2Ka2J8WRklJ2CR5TcpDzsXz0EdvLy7N0ym36SgnYcsv8lbu2rJb+dhfXGY\\\n",
       "LkGL205LI91nsmB7NdvLI7y+M0SngElemgcDKA5F+bLKubh1CVq09xvsC9l8UBKmJgoju1QwoIOf\\\n",
       "HmkW/9xezaqvaqmMwpkdyikLQ1U4RkltjNyASU0MsGFvKIrPNEixDNK8BmCwp9JPSbiUTL/Bzael\\\n",
       "8cYXIT4qjXBS0GTL/ig90iweGZpJus/kN5sqKA1FAYPamI3PhH0hm32hGKdmeTklw8PL26oIRSEn\\\n",
       "xaBof4TqCHRIMdlbEyMSg1OzPAQ98O7eCPe/vZ8YUB6GLB94TJPy2hipXpMsv8H+sM2p7Sw+LIuS\\\n",
       "4TWoithUhmMYhknnoMGOyhg9Usv4tCJGzLbpHLSoCNtURW1STCgL2wQs6J7uwTQMOvgNNpRE6Bgw\\\n",
       "idnw2X4/PXcWYxk2n5bHyPIbRG2oitjYNgQ8Bll+g301Nike+G5+Kl9URdhREcVngtcySfUYiXP8\\\n",
       "g5IwC7ZXc15nf+Kcj5+3n+x3Xrc7+qdzSfdA4rxdX1xLisfkhj6p9M3ysvTLEH2yvHxQEk5sJ77d\\\n",
       "nBSTPTUxeqRZbKuIJs7j+PM90jxsq4gklmt4nsffDwu2V5MfNSk44ndk/fuy8Xuq4b4aHgs5NozS\\\n",
       "0lK7tRvRFhQVFVFQ0LJTe/WuEM8WVbFtfwSA3lleJvZOBWDOhxV8VBYBG05Ot/hBr9QjOolX7wrx\\\n",
       "3JZKPi2PggG923mYeGoaAP/97n7W7A5RE7VJsUzO6ujjnkEZTjs+quSjEqdHkOaBDkEPXVMtDODS\\\n",
       "HgHKa2P89ZMq1u6uZU9lLZ3SfeQGLIIeg93VMXZXRymuiREDwjEbE/BaBgYQjjmP2QA2WCbYNnhM\\\n",
       "qI2BzwAMg4AFhmHgMaCkNobfNEj1mpycZtI9w8snZbW8vy9CJAYxG7wmWIazjWjdWWkZzk8oCk58\\\n",
       "OL/3SLcwDNhRHiUUAzv+HJDcj0j+3aj7cR63E79ZOPuP2hC2nbF1rwl5aRb5GR52VUf5ojJKOGZj\\\n",
       "YBCO2URsMA3wGAYR2yYag4jt/ByJhnWYhtOmeEvjmzabqbPh8zRYLl6XUbdOzAYTmxhG4ljYDdZt\\\n",
       "eIwMwGs5r2mG3yQcswlHwWMadEk1OS3Ly7mdU/i0PJJY//wuzvn+3JZKVu6qZW9NjIAHuqR6uLpn\\\n",
       "gJVf1bJqV4jysI3HgPYpJn2yvHRNtdhSFqFXOw85AYue6RaflkfZURll2/4IqV6DyohNYTsPHQMW\\\n",
       "fdt72bQvzO7qKJtLI6R5oCICPTI85KVaXNqjPuTmb6vGBvYV7+Oqfp2POFhW7wqx+ItQ4hg1t6/4\\\n",
       "sWgrIXY41zi3UIDVaemLW1wT5YmN5byzJ4zd4MhlpzjDU8XxqylgGPCtHB+3nZb2tYYTimuiPLmx\\\n",
       "grf31Nbvy4Bsv0ltzGZDcZjycCzxRLrPoF+WF5/l9JDACZqvqmN0DjoBF/SYVEdibC+P8mWV09MJ\\\n",
       "h8OYHg+hqE2KZZBiwe4am1DUJlZ3ZbPjV0fDuQA2vFja1F9w4xc+rwERnC5+lLqbrQakeiCGQTuv\\\n",
       "wb5am9qInbjgN7yIHopRt80jGxSqD7DmWHU7SvVA0GNSGY4RikEs5tRqUx8kjQOm7Tt47Q0ZDX68\\\n",
       "plOv3zJI90K61yTTX39uAdREY1RH4O09IT4uiyb25TWd/6qN2tQ2SF/bhjSfQY80y9mG4QxfloRi\\\n",
       "nJrp4cPSCLVRm6+qonQKWngtI/F8e79JcU0scZ53Cpj4LIPTO3hJ9TijAEVl9eG6r3gfHTq0Z1Lv\\\n",
       "1K89xFdcE+Xpjyqd90aDY9R4X+B8ADmSfR1Nx2OAaQjxMGWnWIzPT6Witr6nBSQCo6HCTC/j8oNf\\\n",
       "++TNTrEYlx+kPGwnelPY9fvKCZiJYZ+AB3JSTMrDdV2IOl7L4IwcH+19RuICE/CYZKfY7A3FyE4x\\\n",
       "2BVxejU5KSaVEefiEvSAbRtEbZuo7TwfsSEac/67YYh5jLpAMcCOOcFtG86n9qjthFmsrocWtSHo\\\n",
       "MWifYhL02OyojGLV9VrsmBNIBwqBpF6B6WwzZh+b0IjXluGBTkGLyohNqtfEF7OpidpE6npbdoPj\\\n",
       "0FbDy6Rp2B6OeK83/vp5Tef8sAznnOqb5U2cWwYwPt8ZjYjaUBWu4YsqZ6/xz1oNe3oes+589Nef\\\n",
       "n9iwryZGYaaH9ikWvdrBlrIIZ+T42F0dSzwP9e8Fr2VwRgcve2pi9GrnIegxsXHWS6rFsLmke+CI\\\n",
       "AiU7xeKS7oGknlaz+4Ij3pccnDVt2rT7WrsRbcG+ffvIzs5u0bI5AYu8NA87yiPsDTUNLqgfVmw4\\\n",
       "Nv51OPuy2FEZZW+jkIzf0wlYBu39FqnxC0Bc3ZDjraelMyjHx5bS+jdYqtckYDn3WuxImIwUH+18\\\n",
       "Jh4TqiM2lmHU9SoNPHXdJ7NuOK9u05gG+Ky6ob+64b80r+H0yIz4xcn57B7wgI1zkeoUNEn1mAQ9\\\n",
       "Jt3TLcojNnW3pbAbBZKBE5B+y9mfWdcjskynPfHl48NujfsUJk2H3pKXafqbhRPCGV5nOKqdz8Jr\\\n",
       "OvfOMn3xXoITYvFXpOFx8dS1s6VBYdWtf7A+UbxdHhP8Zst7fJ661yF+DY0P0zofQA7cAzPr2hQ/\\\n",
       "5j7L2U7QY5DiMfCZBh1SLE7v4CUnYCXaGB9Ki5+3e0M2paEo5eEG2zac42saTg/unE4+emV6ndGL\\\n",
       "OoWZnsR207wmY7oFiNXdm2vyYdGAwnYeuqd7GNMtQNUBxnANYEiwgrNPzjnEUTu0nIBF+xQz6T3V\\\n",
       "eF/xY9FWHM41zi3aZA+sqKioze/XC/TE4tOwRWk4+UKQ6bXpaUfx7t1D0d4jb5cX6GlbfBppuq8s\\\n",
       "r02voM2eWoPS6mbaQRTvXqcR6dUW26rqQ84C/GGDzikA1ZRWG86FK+ZsJ9W28VhQiUFJ1Kg7WWxq\\\n",
       "bCPxqdybuIli4zXBU3dfqNZ2rsheO+Zc1Ot6KimAGbapDjvty/fZVPsMvgyZRKIGEZKHBs26dvqw\\\n",
       "8VrOhddnQHUUsI3E8/EeRrwnFL9fFr8Qh+36ZSwDahM9p/qLndFwHSDTY2OGQ1SHneOcOOYeqKk1\\\n",
       "qQHCtnMADLv+OykmkO6xqYhAyDYOGjIGzj3K2lhdD8lu2guNh5fPBMuwSbWgNAZRjCb3wRry1K1n\\\n",
       "AmmmTaUNpmEkPihEbbvJ8Gd8X8TXrb9hiGFCmhlL/J5FLVZVFfuqnId6BGN490YT53zivPVYFGNS\\\n",
       "Fa0/Pz2GMxEm24rSIRqCKudcLA0bZHptrCo7abu9a6N8Vm1RXGXijxhJ74P48unUL9fwPI/rEYxx\\\n",
       "So591K4vXpq+pxruq+GxaCta49p6LIct22SAtcY47eGOD39QEmbrngpC3giBRkcxBGw1vIQ7HHkP\\\n",
       "LLGvvZWEPOEm+yqJ2HxRZRPwGAQDyQEWMmArHsIdnEkf5RXVtA/UP7+nOkooHGFfeTUpKSkEAwaV\\\n",
       "kRjRqHORqjQMyqK2M2HDiF/wDOy6C2CsbgjNNADDIGJDimlQU3dzwDIgbJhOeBg2YdugBoOY1+mB\\\n",
       "hYBPovBpbcSZFIFzQW14UY7hXNBrMaiJOhfZgAF2XfcrFk2+D9ZwKM+mftJCrMH24vcu7EZ9Hrvh\\\n",
       "MkBpxCAz6CHVY1ISsbFxJnBUR2yqiVKLnTgWtlG/XaNu3fjki4OxcSYeGEb9xJXG68QDORQD0zSI\\\n",
       "RCHczHKNNewbVMSMxOSUmA1h26m94bGK/xv/EAH1kz98llNjRczEMp3efwkW0WB9D6wcCHcIJM2E\\\n",
       "3bq3ki8iNYSIYVn1LY7YzvlSHDXZa/nI8puEws57KQREg56k7X7k81IeCBMlSqg2+T0XMpzlywNW\\\n",
       "YrmG53lcOfBx5W7GDDzlEEeuZT4oCTd5TzXcV8Nj0RYcj/fANImjzuG8uB+UhJNmGx7I0RhG/KAk\\\n",
       "nDSjsKHKSIyvqmKJe2Cdg80PI3YMWLT3GXQI1I/F76mOsrksQmU4xq6KWjweD6keZ5YXQG3MpjJM\\\n",
       "s/fATKNhCDjPGXX7it8DM+qGG+Prxu+BWQaJYcSaiHMPLHYE98AiR3QP7MCDdvHeWIa3/h5YfPZl\\\n",
       "43tg0HRGYFvS/D2wlk/iiPdaG94DS/MefBgRnJmwK76svwcWF7WdmayN74F1aHSvKD6MuKc6ypYy\\\n",
       "Z4r87uoDHGkDOtZNoY/PYmxOyb5irhvU9YiDpfFswwM0qU0NIx6PAaa/xHGYimui/PWTSjY3Cq/s\\\n",
       "FNO5Z9TgmrC5NMzfPqn62l+gLK6J8rdPqthc2iC8DGdf6T6DPdUxqiLOxaE6AntqYqR7jcSMSIBw\\\n",
       "1OadPbVsLAnXLQvVkZgzcytqU1xj1w0nOevHbGeoqirihFi4btZdbd2/zfUUInW9sfg9oajtDKnV\\\n",
       "xpx/wzHnQh+umwBSHbXZVxPj86oY4WjdFPlDhFd8f/FeVW3s2E3giO/LAMoj8EVVlHAMKsMxysM2\\\n",
       "oYhTS+PZmC2Lg29ePD4OdXwPxMZ5TWujzgUjHHPOj6htUxWJsanBuWUDf/2kkj9truS9vaEG4WXg\\\n",
       "NQ08ZvLU/XAMykIxdtfEEtvAcKbWbymLsK/GCa/auvM4XHfQ26eYGEb97N9w1OadvWFqozZbyiJU\\\n",
       "RZyh617tPEmvi20bLNhefURfai6uibJge3J4NbsvOOJ9ycFpEkedlt7gDHpMgpbB9ooopXU3nXtn\\\n",
       "ebm9XzrDOvuTJnacnG5xZc8gBZlf7xNY0ONMtPisPEJp3U2b3u083N4vnRFdUvi4LMKu6qgzdGeZ\\\n",
       "fCvHx/Qz2jntqJv0YRkGJwVNuqZ7yU5xvgd2Zc8gA7KdGVv7amJUhaPkpnro1c5Lj3QPhuFcZKKx\\\n",
       "uu9+GU6oBb3OhBGP6TxmmfUTLCwDZ1jHgIAFHsuZKh/wmmR4DWptm6BlkOa16N3OYkAHPz7DZk8o\\\n",
       "lujt+C1nskHiXpThfNr3m/XtXAoPAAAS10lEQVRhFZ8k0TPDuYleFbYTgWpQPyZuNPhpfKFJntjh\\\n",
       "XHIsnP0Y1H3/Cmff3dMt+mf7MAyoidpYBqRYRmKCg9ei7pjUfxo80t5YwzrikzvqW+qI96oar9eY\\\n",
       "ifPaxe9ZGnULxftLTSe1JB8jE2f4MGBBh4CJ13K+9+a3DDoFLU7P9nF5j2Ci5w5wYdcU+mR5+bIy\\\n",
       "SnEoRlXEOTe6pnmYfGoqlmGwuzpKbcx5LXMCJgOzfRRmetkXilHYzkOPdA/ndfYTioFhGJTX2nRJ\\\n",
       "tYjiTNg4uW7CBjgTO0pCNicFTaK2QY8MDx1SnO+BjeiSkjTZorq6mrH5mV/7PQnO+9Jr4Hw3k/qe\\\n",
       "VuN9AYzs4j+ifR1Nx+MkDgVYncN5cbumeejgN9lR6XwvJT5MGJ+d+HlFhAyfecRfYo7vKzslvi+T\\\n",
       "iaemJfbVO8vLp/ujVEdsBnTwJf4SR3wG2OeVUTJ8Jjf0SWNAtpftFdHEkEbXNA+ZPpOysI0ZrqEg\\\n",
       "O8jUgRn0b+9ld02MHukW53Tys7fGJi/NCZyTgia5QYveWc6fKLKAU9p5OTXLS4eAE7YXdvVTE4WT\\\n",
       "MzwM7eRncK6PyojNsLqLUUE7D1MHZnBO3e+dghZfVsU4Od1iYAcfJ6d7yPQbmIZBO59JYaaXvlke\\\n",
       "slMsKsLON80uOMnH+V0DjM1LIWrbFFfHsDEY2tFLht8i3eMEbI90i3SfSXufSQybDK/z/aEuqaYz\\\n",
       "XBWNEIqZtPcb/NfAdKI2dV+UtdgfscnP8PD4OVlcmBfgs4ooHVJMuqV56RR0vtyc6bfwWQZn5fr5\\\n",
       "dl6AL6ujBD0mBRkWlZEYtg25AZNQ1Onl9sny0CPdZFd1jCyfE9jhGGT7IcNnYts2WX6TrqkmHsvg\\\n",
       "zA4eqqLQJWgS9BhYhk3QY5Kf4fyFkd4ZFtXRuqBNs/CZBpYJmV7n/lu61xmGyw1a9M3yUBGxOTnD\\\n",
       "IidgUh2OcGqWn5NSTWqi0CXVpJ3PxG8ZBD1OL75HujP7MjvFZNKp6eQGnZmjJ6dbnJzhpWuqhx/0\\\n",
       "SmV0twDtU0yKyiKMrPvibvy8La2166bdm/xX/3QmFKTSO8vL9vIoVeEY2SnOX2a5rEeAvaEYY7oF\\\n",
       "qI7ajOziT2x3V3WUb+X4aOc3GdHZT8R2AmNYJz/tU0x2VkUZ0TmFgNf5EOc1jaShu/iMwaKyCP38\\\n",
       "FVxYcOSzELumefCZJL2nGu9rZBv6EjMcnwGme2B1vs748PHytxC3bt1Kz549T7y/hbhzGztSupyQ\\\n",
       "fwtx2aatjOjbEzix/hbivh1bj+p9IDf9LcTj8R6YAqzO8fjittSJWvuJWjecuLWfqHXD8Vm7JnGI\\\n",
       "iIgrKcBERMSVFGAiIuJKCjAREXElBZiIiLiSAkxERFxJASYiIq6kABMREVdSgImIiCspwERExJUU\\\n",
       "YCIi4koKMBERcSUFmIiIuJICTEREXEkBJiIirqQAExERV1KAiYiIKynARETElRRgIiLiSgowERFx\\\n",
       "JQWYiIi4kgJMRERcSQEmIiKupAATERFXUoCJiIgrKcBERMSVFGAiIuJKCjAREXElBZiIiLiSAkxE\\\n",
       "RFxJASYiIq6kABMREVdSgImIiCspwERExJUUYCIi4kpGaWmp3dqNaKyoqKi1myAiIkdBQUHBMdt2\\\n",
       "mwyw1lBUVHRMD3RbdqLWfqLWDSdu7Sdq3XB81q4hRBERcSUFmIiIuJICTEREXEkBJiIirqQAExER\\\n",
       "V1KAiYiIKynARETElRRgIiLiSgowERFxJQWYiIi4kgJMRERcSQEmIiKupAATERFXUoCJiIgrKcBE\\\n",
       "RMSVFGAiIuJKCjAREXElBZiIiLiSAkxERFxJASYiIq6kABMREVdSgImIiCspwERExJUUYCIi4koK\\\n",
       "MBERcSUFmIiIuJICTEREXEkBJiIirqQAExERV1KAiYiIKynARETElRRgIiLiSgowERFxJQWYiIi4\\\n",
       "kgJMRERcSQEmIiKupAATERFXUoCJiIgrKcBERMSVFGAiIuJKRmlpqd3ajWisqKiotZsgIiJHQUFB\\\n",
       "wTHbdpsMsNZQVFR0TA90W3ai1n6i1g0nbu0nat1wfNauIUQREXElBZiIiLiSAkxERFxJASYiIq6k\\\n",
       "ABMREVdSgImIiCspwERExJUUYCIi4koKMBERcSUFmIiIuJICTEREXEkBJiIirqQAExERV1KAiYiI\\\n",
       "KynARETElRRgIiLiSgowERFxJQWYiIi4kgJMRERcSQEmIiKupAATERFXUoCJiIgrKcBERMSVFGAi\\\n",
       "IuJKCjAREXElBZiIiLiSAkxERFxJASYiIq6kABMREVcySktL7dZuhIiIyOFSD0xERFxJASYiIq6k\\\n",
       "ABMREVdSgImIiCu5NsC++uorbrzxRvLz88nNzWXw4MG8+eabAITDYWbMmMHZZ59Nly5dKCwsZNKk\\\n",
       "SezYsSNpG6FQiB//+Mf07NmTLl268N3vfpedO3cmLbNjxw7Gjx9Ply5d6NmzJz/5yU+ora1NWubN\\\n",
       "N99kxIgR5ObmMmDAAJ555plWq72xH/7wh2RmZvLkk08mPe7G2ltS98cff8yECRPo1q0bnTt3Zvjw\\\n",
       "4WzevNnVdcOha6+oqODHP/4xffr0oVOnTnzrW9/iqaeeStqGG2vv168fmZmZTX7GjRuXWObpp5+m\\\n",
       "f//+5ObmMmLECFauXHnc1/3oo48ycuRI8vLyyM/PZ/z48XzwwQdJ27Btm5kzZ9K7d286derERRdd\\\n",
       "xIcffpi0TGlpKVOmTKFbt25069aNKVOmUFpamrTMpk2bGDt2LJ06deLUU09l9uzZ2HbbmPvnygAr\\\n",
       "LS1l9OjR2LbN3/72N1avXs0vfvELcnJyAKiqquL9999n6tSpLFu2jL/85S/s3LmTq666ikgkktjO\\\n",
       "3XffzYIFC5gzZw4LFy6kvLyc8ePHE41GAYhGo4wfP56KigoWLlzInDlzmD9/Pvfee29iG9u2bWPc\\\n",
       "uHGcddZZvPHGG/zXf/0XP/nJT5g3b16r1N7QvHnzePfdd+ncuXOT59xWe0vq3rZtG6NHj6Z79+7M\\\n",
       "nz+fVatWMX36dFJTU11bd0trv/fee/nXv/7Fb3/7W1avXs2dd97J/fffzwsvvODq2pcsWcLmzZsT\\\n",
       "P8uWLcMwDC6//HIA/vGPfzBt2jTuvPNO3njjDc466yyuvvrqpA+rx2Pdb775JhMnTuS1115j/vz5\\\n",
       "eDweLr/8ckpKShLbePzxx3nqqaeYPXs2ixcvJicnhyuuuILy8vLEMpMmTWL9+vX8/e9/58UXX2T9\\\n",
       "+vXccMMNief379/PFVdcQceOHVm8eDGzZs3iySef5Ne//vUxqftwuXIa/QMPPMCKFSt47bXXWrzO\\\n",
       "Rx99xJAhQ1ixYgV9+/alrKyMU045haeeeirxqebzzz+nX79+vPjii4waNYp///vfjBs3jg0bNtC1\\\n",
       "a1cA/vrXv3L77bdTVFRERkYGM2bMYMGCBbz77ruJfd1222189NFH/Pvf/z66hdPy2j/77DNGjx7N\\\n",
       "yy+/zFVXXcWUKVO47bbbAFxZe0vqnjRpEoZh8Ic//KHZ591YN7Ss9qFDh3LJJZdwzz33JB4bO3Ys\\\n",
       "ffv25eGHH3Zt7Y398pe/5IknnuCjjz4iGAwyatQo+vbtyxNPPJFYZtCgQVx22WXMmDHjuK27sYqK\\\n",
       "Crp168bcuXMZM2YMtm3Tu3dvJk+ezNSpUwGorq6moKCABx98kOuvv57NmzczePBgXn31VYYMGQLA\\\n",
       "qlWrGDNmDGvXrqWgoIA5c+Zw3333sWXLFgKBAAAPP/wwzzzzDB988AGGYRzz2g/GlT2wV155hTPO\\\n",
       "OIPrr7+eU045hWHDhvH73//+oN3a+KeOzMxMANatW0c4HOb8889PLNO1a1cKCwtZvXo1AGvWrKGw\\\n",
       "sDBxUgOMGjWKUCjEunXrEss03EZ8mffee49wOHx0Cm6gJbVHIhEmTZrE1KlTKSwsbLINN9Z+qLpj\\\n",
       "sRivvvoqhYWFXHnlleTn5zNy5Ej+8Y9/uLrultQOMGTIEF599VU+//xzAFavXs3GjRsZNWqUq2tv\\\n",
       "yLZtnnvuOcaPH08wGKS2tpZ169Y1ac/555+fqOl4rLs5FRUVxGKxxPVt+/bt7Nq1K6nNgUCAs88+\\\n",
       "O6nutLQ0Bg8enFhmyJAhpKamJi0zdOjQRHiBU/eXX37J9u3bj3qth8uVAbZt2zbmzJlDjx49eOml\\\n",
       "l7jxxhu5//77D/jJu7a2lunTp/Ptb3+bk046CYDdu3djWRbZ2dlJy+bk5LB79+7EMo2H5rKzs7Es\\\n",
       "66DL5OTkEIlEKC4uPir1NtSS2mfOnElWVhYTJ05sdhturP1Qde/Zs4eKiorEvYH/+7//48orr2Ty\\\n",
       "5Mm8+uqrrq27JbUDzJ49m379+nHaaafRoUMHLrroIu677z6+/e1vu7r2hpYsWcL27dv5wQ9+AEBx\\\n",
       "cTHRaLTZ9jRs7/FWd3OmTZtGv379OOusswDYtWtXoo0NNa47Ozs7qRdlGAYdOnQ4ZN3x51qbp7Ub\\\n",
       "8HXEYjFOP/10ZsyYAcCAAQPYunUrTz/9NFOmTElaNhKJMGXKFMrKynj++ecPuW3btpu8oM052DLx\\\n",
       "T8bHont9qNrffPNN/vKXv7B8+fLD3nZbrv1QdcdiMcAZNrv11lsB6N+/P+vWrePpp59OXMib05br\\\n",
       "hpad77/73e9YvXo1zz//PHl5eaxcuZKf/vSndOvWjQsuuOCA227rtTf05z//mUGDBtG/f/8Dti3e\\\n",
       "nkO15XioO+6ee+7hrbfe4tVXX8WyrKTnDnVsmmv7oZb5pupuCVf2wHJzc5sMjfXq1SsxfBIXiUSY\\\n",
       "OHEimzZtYt68ebRv3z7xXMeOHYlGo00+Pe3duzfxCaNjx45NPmU0/tTX3DJ79+7F4/Ek7e9oOVTt\\\n",
       "y5cv56uvvqKwsJDs7Gyys7PZsWMHM2bMoE+fPok2u632Q9WdnZ2Nx+M56DJurBsOXXt1dTUPPPAA\\\n",
       "999/P2PGjOG0005jypQpfOc730nMPnVr7XF79uxh4cKFXHvttYnHGveSGranYXuPt7obuvvuu3np\\\n",
       "pZeYP38+PXr0SDyem5sLNO0lNa577969SUPRtm1TXFx8yLqhae+uNbgywIYMGcLHH3+c9NjHH39M\\\n",
       "Xl5e4vdwOMz111/Ppk2bWLBgQeIFjRs4cCBer5clS5YkHtu5c2fixibAWWedxebNm5Om3C5ZsgS/\\\n",
       "38/AgQMTyyxdujRp20uWLOH000/H6/UelXobOlTtkyZNYsWKFSxfvjzx07lzZ26++ebEjCk31n6o\\\n",
       "un0+H4MGDaKoqOiAy7ixbjh07eFwmHA43OTTt2VZiZ6pW2uPmzt3Ln6/n+985zuJx3w+HwMHDkyq\\\n",
       "Kd6eeE3HY91xd911Fy+++CLz58+nV69eSc91796d3NzcpLprampYtWpVUt0VFRWsWbMmscyaNWuo\\\n",
       "rKxMWmbVqlXU1NQkllmyZAmdO3eme/fuR7XWr8OaNm3afa3diMPVtWtXZs+ejWmadOrUiWXLlvHQ\\\n",
       "Qw9xxx13cMYZZxCJRLj22mt59913efbZZ0lPT6eyspLKykosy8Lr9ZKSksJXX33FH/7wB0477TTK\\\n",
       "ysq44447yMjI4P7778c0TXr06MGCBQtYvHgxffv25aOPPmLq1KlcffXVXHLJJQCcfPLJ/OpXv2LP\\\n",
       "nj3k5eWxcOFCHnnkER566CF69+79jdeemppKTk5O0s/vfvc7RowYwZgxYwBcWfuh6gbIyspi1qxZ\\\n",
       "dOzYkYyMDObPn8/jjz/Oz3/+c0455RRX1t2S2v1+P8uXL09MYrFtm1deeYVHH32UG264gW9961uu\\\n",
       "rR2cXsEtt9zC6NGjE9PI49LT05k5cyadOnUiJSWFhx9+mJUrV/LrX/+adu3aHbd1T506lRdeeIE/\\\n",
       "/elPdO3aNXF9AyfYDcMgGo3y2GOPccoppxCNRrn33nvZtWsXv/rVr/D7/XTo0IG3336bF198kf79\\\n",
       "+7Nz507uuOMOBg0alJhKn5+fzx//+Ec2bNhAQUEBq1at4mc/+xk/+tGPkiZ/tJrS0lLbjT9//etf\\\n",
       "7b59+9p+v9/Oz8+3Z82aZZeUlNilpaX2+++/bwPN/jz11FOJbXz11Vf25MmT7aysLDsQCNijR4+2\\\n",
       "N27cmLSfDRs22KNHj7YDgYCdlZVlT5482d61a1fSMv/85z/t/v372z6fz+7WrZv96KOPtlrtzf3k\\\n",
       "5eXZDz74YNJjbqy9JXU/9dRTdn5+vp2SkmL36dPHfvrpp11fd0tq37x5s/3973/f7ty5s52SkmIX\\\n",
       "FBTYDz74YNIybq19/vz5NmC//vrrzT7/y1/+0s7Ly7N9Pp89YMAA+5VXXjkuXvOD1X2g69tdd92V\\\n",
       "WKakpMS+66677NzcXNvv99tnn322vXLlyqTtfPrpp/a4cePs9PR0Oz093R43bpy9bdu2pGVWrFhh\\\n",
       "Dx061Pb7/XZubq49bdq0g15vvskfV34PTERExJX3wERERBRgIiLiSgowERFxJQWYiIi4kgJMRERc\\\n",
       "6f8DHnFm7uss/msAAAAASUVORK5CYII=\\\n",
       "\"\n",
       "\n",
       "\n",
       "    /* set a timeout to make sure all the above elements are created before\n",
       "       the object is initialized. */\n",
       "    setTimeout(function() {\n",
       "        anim3e426e2a597d441890304b4998051e71 = new Animation(frames, img_id, slider_id, 500.0,\n",
       "                                 loop_select_id);\n",
       "    }, 0);\n",
       "  })()\n",
       "</script>\n"
      ],
      "text/plain": [
       "<IPython.core.display.HTML object>"
      ]
     },
     "execution_count": 33,
     "metadata": {},
     "output_type": "execute_result"
    }
   ],
   "source": [
    "#: display animation\n",
    "HTML(anim.to_jshtml())"
   ]
  },
  {
   "cell_type": "markdown",
   "metadata": {
    "slideshow": {
     "slide_type": "slide"
    }
   },
   "source": [
    "## Visualize the distribution\n",
    "\n",
    "- We can plot the distribution of the sample median with a histogram.\n",
    "- This is an approximation using 128 samples.\n",
    "- Sample median is usually in [62,000, 70,000]."
   ]
  },
  {
   "cell_type": "code",
   "execution_count": 34,
   "metadata": {},
   "outputs": [
    {
     "data": {
      "image/png": "[encoded data removed]",
      "text/plain": [
       "<Figure size 432x288 with 1 Axes>"
      ]
     },
     "metadata": {},
     "output_type": "display_data"
    }
   ],
   "source": [
    "#: plot a histogram\n",
    "Table().with_column('Sample Medians', sample_medians).hist(bins=15, unit='$')\n",
    "\n",
    "# show each sample median as an 'x'\n",
    "plt.scatter(sample_medians, np.zeros_like(sample_medians), marker='x', s=80, alpha=.5).set_zorder(2)"
   ]
  },
  {
   "cell_type": "markdown",
   "metadata": {
    "slideshow": {
     "slide_type": "slide"
    }
   },
   "source": [
    "## The problem\n",
    "\n",
    "- Drawing new samples like this is costly (why not just do a census?)\n",
    "- Often, we can't ask for new samples from the population.\n",
    "- The bootstrap:\n",
    "    - the sample itself looks like the distribution.\n",
    "    - so re-sampling from the sample is like drawing from the distribution."
   ]
  },
  {
   "cell_type": "code",
   "execution_count": 35,
   "metadata": {},
   "outputs": [],
   "source": [
    "#: a trick to plot the sample and the distribution side-by-side\n",
    "bins=np.arange(10_000, 300_000, 10_000)\n",
    "labels = ['Population']*population.num_rows + ['Sample']*sample.num_rows\n",
    "together = population.append(sample).with_column('Labels', labels)"
   ]
  },
  {
   "cell_type": "code",
   "execution_count": 36,
   "metadata": {},
   "outputs": [
    {
     "data": {
      "image/png": "[encoded data removed]",
      "text/plain": [
       "<Figure size 432x288 with 1 Axes>"
      ]
     },
     "metadata": {},
     "output_type": "display_data"
    }
   ],
   "source": [
    "#: plot\n",
    "together.hist('Total Pay', group='Labels', bins=bins)"
   ]
  },
  {
   "cell_type": "markdown",
   "metadata": {
    "slideshow": {
     "slide_type": "slide"
    }
   },
   "source": [
    "## The bootstrap\n",
    "\n",
    "- We have a sample of 500 salaries, we want another.\n",
    "- Can't draw from the population.\n",
    "- But the original sample looks like the population.\n",
    "- So we re-sample the sample."
   ]
  },
  {
   "cell_type": "markdown",
   "metadata": {
    "slideshow": {
     "slide_type": "slide"
    }
   },
   "source": [
    "## Discussion question\n",
    "\n",
    "Which of these effectively resamples the sample, simulating the drawing of a new sample of 500 people?\n",
    "\n",
    "- A) `np.random.choice(sample, 500, replace=True)`\n",
    "- B) `np.random.choice(sample, 500, replace=False)`\n",
    "- C) `sample.sample(with_replacement=True)`\n",
    "- D) `sample.sample(with_replacement=False)`"
   ]
  },
  {
   "cell_type": "markdown",
   "metadata": {
    "slideshow": {
     "slide_type": "slide"
    }
   },
   "source": [
    "## Answer\n",
    "\n",
    "- If we sample without replacement, we're just shuffling.\n",
    "- So we sample *with* replacement to get something new."
   ]
  },
  {
   "cell_type": "markdown",
   "metadata": {
    "slideshow": {
     "slide_type": "slide"
    }
   },
   "source": [
    "## Running the bootstrap\n",
    "\n",
    "- Now we can simulate new samples by bootstrapping\n",
    "- I.e., we sample with replacement from our original sample"
   ]
  },
  {
   "cell_type": "code",
   "execution_count": 39,
   "metadata": {},
   "outputs": [],
   "source": [
    "n_resamples = 5000\n",
    "\n",
    "boot_medians = make_array()\n",
    "for i in range(n_resamples):\n",
    "    # perform bootstrap resampling\n",
    "    resample = sample.sample(500, with_replacement=True)\n",
    "    \n",
    "    # compute the median\n",
    "    median = np.median(resample.column('Total Pay'))\n",
    "    \n",
    "    # tack it on to our list of medians\n",
    "    boot_medians = np.append(boot_medians, median)"
   ]
  },
  {
   "cell_type": "markdown",
   "metadata": {
    "slideshow": {
     "slide_type": "slide"
    }
   },
   "source": [
    "## Bootstrap distribution of the sample median\n",
    "\n",
    "- Bulk of the time, the sample median is typically in [60,000, 70,000].\n",
    "- Similar to what we found before.\n",
    "- The population median (red dot) is near the middle."
   ]
  },
  {
   "cell_type": "code",
   "execution_count": 41,
   "metadata": {},
   "outputs": [
    {
     "data": {
      "image/png": "[encoded data removed]",
      "text/plain": [
       "<Figure size 432x288 with 1 Axes>"
      ]
     },
     "metadata": {},
     "output_type": "display_data"
    }
   ],
   "source": [
    "#: visualize\n",
    "Table().with_column('Bootstrap Medians', boot_medians).hist(unit='$')\n",
    "plt.scatter(population_median, 0, color='red', s=80).set_zorder(2)"
   ]
  },
  {
   "cell_type": "markdown",
   "metadata": {
    "slideshow": {
     "slide_type": "slide"
    }
   },
   "source": [
    "## Bootstrap rules of thumb\n",
    "\n",
    "- The bootstrap is an awesome tool:\n",
    "    - We used just one sample to get the (approximate) distribution of the sample median.\n",
    "- But it has limitations:\n",
    "    - Not good for sensitive statistics, like maximum.\n",
    "    - Requires sample to be good approximation of population.\n",
    "    - Works best when population is roughly bell-shaped.\n",
    "    - Can be slow (recommend 10,000+ bootstrap samples)"
   ]
  },
  {
   "cell_type": "code",
   "execution_count": null,
   "metadata": {},
   "outputs": [],
   "source": []
  }
 ],
 "metadata": {
  "celltoolbar": "Slideshow",
  "kernelspec": {
   "display_name": "Python 3",
   "language": "python",
   "name": "python3"
  },
  "language_info": {
   "codemirror_mode": {
    "name": "ipython",
    "version": 3
   },
   "file_extension": ".py",
   "mimetype": "text/x-python",
   "name": "python",
   "nbconvert_exporter": "python",
   "pygments_lexer": "ipython3",
   "version": "3.7.1"
  },
  "livereveal": {
   "scroll": true,
   "transition": "none"
  }
 },
 "nbformat": 4,
 "nbformat_minor": 2
}
