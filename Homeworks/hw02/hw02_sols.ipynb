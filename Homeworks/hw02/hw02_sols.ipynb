{
 "cells": [
  {
   "cell_type": "markdown",
   "metadata": {},
   "source": [
    "# Homework 2: Arrays and Tables, Due Sunday, October 13, at 11:59pm"
   ]
  },
  {
   "cell_type": "markdown",
   "metadata": {},
   "source": [
    "**Reading**: Textbook chapters [4](http://www.inferentialthinking.com/chapters/04/data-types.html) and [5](http://www.inferentialthinking.com/chapters/05/tables.html).\n",
    "\n",
    "Directly sharing answers is not okay, but discussing problems with the course staff or with other students is encouraged. \n",
    "\n",
    "You should start early so that you have time to get help if you're stuck."
   ]
  },
  {
   "cell_type": "markdown",
   "metadata": {},
   "source": [
    "Please complete this notebook by filling in the cells provided. Before you begin, execute the following cell to load the provided tests. Each time you start your server, you will need to execute this cell again to load the tests."
   ]
  },
  {
   "cell_type": "code",
   "execution_count": 2,
   "metadata": {},
   "outputs": [],
   "source": [
    "# Don't change this cell; just run it. \n",
    "\n",
    "import numpy as np\n",
    "from datascience import *\n",
    "\n",
    "# from client.api.notebook import Notebook\n",
    "# ok = Notebook('hw02.ok')\n",
    "# _ = ok.auth(inline=True)"
   ]
  },
  {
   "cell_type": "markdown",
   "metadata": {},
   "source": [
    "**Important**: The `ok` tests don't always tell you that your answer is correct. More often, they help catch careless mistakes. It's up to you to ensure that your answer is correct. If you're not sure, ask someone (not for the answer, but for some guidance about your approach)."
   ]
  },
  {
   "cell_type": "markdown",
   "metadata": {},
   "source": [
    "Once you're finished, you must do two things:\n",
    "\n",
    "### a. Turn into OK\n",
    "Select \"Save and Checkpoint\" in the File menu and then execute the `submit` cell below. The result will contain a link that you can use to check that your assignment has been submitted successfully. If you submit more than once before the deadline, we will only grade your final submission."
   ]
  },
  {
   "cell_type": "code",
   "execution_count": 2,
   "metadata": {},
   "outputs": [],
   "source": [
    "# _ = ok.submit()"
   ]
  },
  {
   "cell_type": "markdown",
   "metadata": {},
   "source": [
    "### b. Turn PDF into Gradescope\n",
    "Select File > Download As > PDF via LaTeX in the File menu. Turn in this PDF file into the respective assignement at https://gradescope.com/.\n",
    "<br>\n",
    "If you submit more than once before the deadline, we will only grade your final submission"
   ]
  },
  {
   "cell_type": "markdown",
   "metadata": {},
   "source": [
    "## 1. Studying the Survivors\n"
   ]
  },
  {
   "cell_type": "markdown",
   "metadata": {},
   "source": [
    "The Reverend Henry Whitehead was skeptical of John Snow’s conclusion about the Broad Street pump. After the Broad Street cholera epidemic ended, Whitehead set about trying to prove Snow wrong.  (The history of the event is detailed [here](http://www.ncbi.nlm.nih.gov/pmc/articles/PMC1034367/pdf/medhist00183-0026.pdf).)\n",
    "\n",
    "He realized that Snow had focused his analysis almost entirely on those who had died. Whitehead, therefore, investigated the drinking habits of people in the Broad Street area who had not died in the outbreak.\n",
    "\n",
    "What is the main reason it was important to study this group?\n",
    "\n",
    "1) Through considering the survivors, Whitehead could have identified a cure for cholera.\n",
    "\n",
    "2) Survivors could provide additional information about what else could have caused the cholera, potentially unearthing another cause.\n",
    "\n",
    "3) If Whitehead had found that many people had drunk water from the Broad Street pump and not caught cholera, that would have been evidence against Snow's hypothesis."
   ]
  },
  {
   "cell_type": "code",
   "execution_count": 3,
   "metadata": {},
   "outputs": [],
   "source": [
    "# Set survivor_answer to 1, 2, or 3\n",
    "survivor_answer = 3"
   ]
  },
  {
   "cell_type": "code",
   "execution_count": 4,
   "metadata": {},
   "outputs": [],
   "source": [
    "# _ = ok.grade('q1_1')"
   ]
  },
  {
   "cell_type": "markdown",
   "metadata": {},
   "source": [
    "**Note:** Whitehead ended up finding further proof that the Broad Street pump played the central role in spreading the disease to the people who lived near it. Eventually, he became one of Snow’s greatest defenders."
   ]
  },
  {
   "cell_type": "markdown",
   "metadata": {},
   "source": [
    "## 2. Creating Arrays\n"
   ]
  },
  {
   "cell_type": "markdown",
   "metadata": {},
   "source": [
    "**Question 1.** Make an array called `weird_numbers` containing the following numbers (in the given order):\n",
    "\n",
    "1. The mathematical constant $\\pi$.\n",
    "2. The square root of 2.\n",
    "3. The logarithm of 15, in base 3.\n",
    "4. 25 degrees, in radians.\n",
    "\n",
    "*Hint:* Take a look at the functions and constants in the `math` module."
   ]
  },
  {
   "cell_type": "code",
   "execution_count": 5,
   "metadata": {},
   "outputs": [
    {
     "data": {
      "text/plain": [
       "array([3.14159265, 1.41421356, 2.46497352, 0.43633231])"
      ]
     },
     "execution_count": 5,
     "metadata": {},
     "output_type": "execute_result"
    }
   ],
   "source": [
    "import math\n",
    "weird_numbers = make_array(math.pi, math.sqrt(2), math.log(15, 3), math.radians(25))\n",
    "weird_numbers"
   ]
  },
  {
   "cell_type": "code",
   "execution_count": 6,
   "metadata": {},
   "outputs": [],
   "source": [
    "# _ = ok.grade('q2_1')"
   ]
  },
  {
   "cell_type": "markdown",
   "metadata": {},
   "source": [
    "**Question 2.** Make an array called `words` containing the following three strings:\n",
    "* That is so sad \n",
    "* Alexa \n",
    "* play Despacito"
   ]
  },
  {
   "cell_type": "code",
   "execution_count": 3,
   "metadata": {},
   "outputs": [],
   "source": [
    "words = make_array('That is so sad', 'Alexa', 'play Despacito')"
   ]
  },
  {
   "cell_type": "code",
   "execution_count": 8,
   "metadata": {},
   "outputs": [],
   "source": [
    "# _ = ok.grade('q2_2')"
   ]
  },
  {
   "cell_type": "markdown",
   "metadata": {
    "collapsed": true
   },
   "source": [
    "Strings have a method called `join`.  `join` takes one argument, an array of strings. It returns a single string. Specifically, the value of `a_string.join(an_array)` is a single string that's the concatenation (\"putting together\") of all the strings in `an_array`, **except** `a_string` is inserted in between each string.\n",
    "\n",
    "**Question 3.** Use the array `words` and the method `join` to make two strings:\n",
    "\n",
    "1. \"That is so sad, Alexa, play Despacito\" (call this one `with_commas`)\n",
    "2. \"That is so sad Alexa play Despacito\" (call this one `with_spaces`)\n",
    "\n",
    "*Hint:* If you're not sure what `join` does, first try just calling, for example, `\"foo\".join(numbers)` ."
   ]
  },
  {
   "cell_type": "code",
   "execution_count": 7,
   "metadata": {},
   "outputs": [],
   "source": [
    "with_commas = ', '.join(words)\n",
    "with_spaces = ' '.join(words)"
   ]
  },
  {
   "cell_type": "code",
   "execution_count": 10,
   "metadata": {},
   "outputs": [],
   "source": [
    "# _ = ok.grade('q2_3')"
   ]
  },
  {
   "cell_type": "markdown",
   "metadata": {},
   "source": [
    "## 3. Indexing Arrays\n"
   ]
  },
  {
   "cell_type": "markdown",
   "metadata": {},
   "source": [
    "These exercises give you practice accessing individual elements of arrays.  In Python (and in many programming languages), elements are accessed by *index*, so the first element is the element at index 0.  "
   ]
  },
  {
   "cell_type": "markdown",
   "metadata": {},
   "source": [
    "**Question 1.** The cell below creates an array of strings. What is the index of the third element in the array?"
   ]
  },
  {
   "cell_type": "code",
   "execution_count": 11,
   "metadata": {},
   "outputs": [],
   "source": [
    "some_strings = make_array('first', 'second', 'third', 'fourth', 'fifth', 'last')\n",
    "\n",
    "index_of_third = 2"
   ]
  },
  {
   "cell_type": "code",
   "execution_count": 12,
   "metadata": {},
   "outputs": [],
   "source": [
    "# _ = ok.grade('q3_1')"
   ]
  },
  {
   "cell_type": "markdown",
   "metadata": {},
   "source": [
    "**Question 2.** Using an array method, assign the last element of `some_strings` to `last_element`."
   ]
  },
  {
   "cell_type": "code",
   "execution_count": 13,
   "metadata": {},
   "outputs": [
    {
     "data": {
      "text/plain": [
       "'last'"
      ]
     },
     "execution_count": 13,
     "metadata": {},
     "output_type": "execute_result"
    }
   ],
   "source": [
    "last_element = some_strings.item(-1)\n",
    "last_element"
   ]
  },
  {
   "cell_type": "code",
   "execution_count": 14,
   "metadata": {},
   "outputs": [],
   "source": [
    "# _ = ok.grade('q3_2')"
   ]
  },
  {
   "cell_type": "markdown",
   "metadata": {},
   "source": [
    "**Question 3.** Suppose you have an array with 187 elements. Assign the index of the middle element to `mid_index` below."
   ]
  },
  {
   "cell_type": "code",
   "execution_count": 15,
   "metadata": {},
   "outputs": [],
   "source": [
    "mid_index = 93"
   ]
  },
  {
   "cell_type": "code",
   "execution_count": 16,
   "metadata": {},
   "outputs": [],
   "source": [
    "# _ = ok.grade('q3_3')"
   ]
  },
  {
   "cell_type": "markdown",
   "metadata": {},
   "source": [
    "The following cell loads data about presidents into a table and prints out the data. "
   ]
  },
  {
   "cell_type": "code",
   "execution_count": 8,
   "metadata": {},
   "outputs": [
    {
     "data": {
      "text/html": [
       "<table border=\"1\" class=\"dataframe\">\n",
       "    <thead>\n",
       "        <tr>\n",
       "            <th>Name</th> <th>Birth</th> <th>Death</th> <th>Birth Year</th> <th>Birth Days (since 1 CE)</th> <th>Days since January 1 at Birth</th> <th>Death Year</th> <th>Death Days (since 1 CE)</th> <th>Days since January 1 at Death</th> <th>Life Years</th> <th>Life Days</th>\n",
       "        </tr>\n",
       "    </thead>\n",
       "    <tbody>\n",
       "        <tr>\n",
       "            <td>George Washington     </td> <td>1732-02-22</td> <td>1799-12-14</td> <td>1732      </td> <td>632286                 </td> <td>53                           </td> <td>1799      </td> <td>657053                 </td> <td>348                          </td> <td>67        </td> <td>24767    </td>\n",
       "        </tr>\n",
       "        <tr>\n",
       "            <td>John Adams            </td> <td>1735-10-30</td> <td>1826-07-04</td> <td>1735      </td> <td>633632                 </td> <td>303                          </td> <td>1826      </td> <td>666751                 </td> <td>185                          </td> <td>90        </td> <td>33119    </td>\n",
       "        </tr>\n",
       "        <tr>\n",
       "            <td>Thomas Jefferson      </td> <td>1743-04-13</td> <td>1826-07-04</td> <td>1743      </td> <td>636354                 </td> <td>103                          </td> <td>1826      </td> <td>666751                 </td> <td>185                          </td> <td>83        </td> <td>30397    </td>\n",
       "        </tr>\n",
       "        <tr>\n",
       "            <td>James Madison         </td> <td>1751-03-16</td> <td>1836-06-28</td> <td>1751      </td> <td>639248                 </td> <td>75                           </td> <td>1836      </td> <td>670398                 </td> <td>180                          </td> <td>85        </td> <td>31150    </td>\n",
       "        </tr>\n",
       "        <tr>\n",
       "            <td>James Monroe          </td> <td>1758-04-28</td> <td>1831-07-04</td> <td>1758      </td> <td>641848                 </td> <td>118                          </td> <td>1831      </td> <td>668577                 </td> <td>185                          </td> <td>73        </td> <td>26729    </td>\n",
       "        </tr>\n",
       "        <tr>\n",
       "            <td>Andrew Jackson        </td> <td>1767-03-15</td> <td>1845-06-08</td> <td>1767      </td> <td>645091                 </td> <td>74                           </td> <td>1845      </td> <td>673665                 </td> <td>159                          </td> <td>78        </td> <td>28574    </td>\n",
       "        </tr>\n",
       "        <tr>\n",
       "            <td>John Quincy Adams     </td> <td>1767-07-11</td> <td>1848-02-23</td> <td>1767      </td> <td>645209                 </td> <td>192                          </td> <td>1848      </td> <td>674655                 </td> <td>54                           </td> <td>80        </td> <td>29446    </td>\n",
       "        </tr>\n",
       "        <tr>\n",
       "            <td>William Henry Harrison</td> <td>1773-02-09</td> <td>1841-04-04</td> <td>1773      </td> <td>647249                 </td> <td>40                           </td> <td>1841      </td> <td>672139                 </td> <td>94                           </td> <td>68        </td> <td>24890    </td>\n",
       "        </tr>\n",
       "        <tr>\n",
       "            <td>Martin Van Buren      </td> <td>1782-12-05</td> <td>1862-07-24</td> <td>1782      </td> <td>650835                 </td> <td>339                          </td> <td>1862      </td> <td>679920                 </td> <td>205                          </td> <td>79        </td> <td>29085    </td>\n",
       "        </tr>\n",
       "        <tr>\n",
       "            <td>Zachary Taylor        </td> <td>1784-11-24</td> <td>1850-07-09</td> <td>1784      </td> <td>651555                 </td> <td>329                          </td> <td>1850      </td> <td>675522                 </td> <td>190                          </td> <td>65        </td> <td>23967    </td>\n",
       "        </tr>\n",
       "    </tbody>\n",
       "</table>\n",
       "<p>... (28 rows omitted)</p>"
      ],
      "text/plain": [
       "Name                   | Birth      | Death      | Birth Year | Birth Days (since 1 CE) | Days since January 1 at Birth | Death Year | Death Days (since 1 CE) | Days since January 1 at Death | Life Years | Life Days\n",
       "George Washington      | 1732-02-22 | 1799-12-14 | 1732       | 632286                  | 53                            | 1799       | 657053                  | 348                           | 67         | 24767\n",
       "John Adams             | 1735-10-30 | 1826-07-04 | 1735       | 633632                  | 303                           | 1826       | 666751                  | 185                           | 90         | 33119\n",
       "Thomas Jefferson       | 1743-04-13 | 1826-07-04 | 1743       | 636354                  | 103                           | 1826       | 666751                  | 185                           | 83         | 30397\n",
       "James Madison          | 1751-03-16 | 1836-06-28 | 1751       | 639248                  | 75                            | 1836       | 670398                  | 180                           | 85         | 31150\n",
       "James Monroe           | 1758-04-28 | 1831-07-04 | 1758       | 641848                  | 118                           | 1831       | 668577                  | 185                           | 73         | 26729\n",
       "Andrew Jackson         | 1767-03-15 | 1845-06-08 | 1767       | 645091                  | 74                            | 1845       | 673665                  | 159                           | 78         | 28574\n",
       "John Quincy Adams      | 1767-07-11 | 1848-02-23 | 1767       | 645209                  | 192                           | 1848       | 674655                  | 54                            | 80         | 29446\n",
       "William Henry Harrison | 1773-02-09 | 1841-04-04 | 1773       | 647249                  | 40                            | 1841       | 672139                  | 94                            | 68         | 24890\n",
       "Martin Van Buren       | 1782-12-05 | 1862-07-24 | 1782       | 650835                  | 339                           | 1862       | 679920                  | 205                           | 79         | 29085\n",
       "Zachary Taylor         | 1784-11-24 | 1850-07-09 | 1784       | 651555                  | 329                           | 1850       | 675522                  | 190                           | 65         | 23967\n",
       "... (28 rows omitted)"
      ]
     },
     "execution_count": 8,
     "metadata": {},
     "output_type": "execute_result"
    }
   ],
   "source": [
    "president_data = Table.read_table(\"president_births.csv\")\n",
    "president_data"
   ]
  },
  {
   "cell_type": "markdown",
   "metadata": {},
   "source": [
    "More often, you don't know the number of elements in an array, its *length*.  (For example, it might be a large dataset you found on the Internet.)  The function `len` takes a single argument, an array, and returns the `len`gth of that array (an integer).\n",
    "\n",
    "**Question 4.** The cell below loads an array called `president_death_years`. Assign the 7th from last element of death year to `death_year`. "
   ]
  },
  {
   "cell_type": "code",
   "execution_count": 10,
   "metadata": {},
   "outputs": [
    {
     "data": {
      "text/plain": [
       "1972"
      ]
     },
     "execution_count": 10,
     "metadata": {},
     "output_type": "execute_result"
    }
   ],
   "source": [
    "president_death_years = Table.read_table(\"president_births.csv\").column('Death Year')\n",
    "death_year = president_death_years.item(-7)\n",
    "death_year"
   ]
  },
  {
   "cell_type": "code",
   "execution_count": 19,
   "metadata": {},
   "outputs": [],
   "source": [
    "# _ = ok.grade('q3_4')"
   ]
  },
  {
   "cell_type": "markdown",
   "metadata": {},
   "source": [
    "## 4. Basic Array Arithmetic\n"
   ]
  },
  {
   "cell_type": "markdown",
   "metadata": {},
   "source": [
    "The following table contains six siblings and their weekly allowance from their parents:\n",
    "\n",
    "|Sibling|Weekly allowance (\\$)|Weekly expense (\\$)|\n",
    "|---|---|---|\n",
    "|Sarah|2|2|\n",
    "|Dave|4|0.5|\n",
    "|John|5|2|\n",
    "|Ashley|9|3|\n",
    "|June|7|1.5|\n",
    "|Rob|3|1|\n",
    "\n",
    "**Question 1.** Load the allowances in an array called `allowances`."
   ]
  },
  {
   "cell_type": "code",
   "execution_count": 20,
   "metadata": {},
   "outputs": [],
   "source": [
    "allowances = make_array(2, 4, 5, 9, 7, 3)"
   ]
  },
  {
   "cell_type": "code",
   "execution_count": 21,
   "metadata": {},
   "outputs": [],
   "source": [
    "# _ = ok.grade('q4_1')"
   ]
  },
  {
   "cell_type": "markdown",
   "metadata": {},
   "source": [
    "**Question 2.** If every sibling is given a raise of $4/week by their parents, how much money does each sibling make per week? Update the allowances in the array `new_allowances_constant`."
   ]
  },
  {
   "cell_type": "code",
   "execution_count": 21,
   "metadata": {},
   "outputs": [],
   "source": [
    "new_allowances_constant = allowances + 4"
   ]
  },
  {
   "cell_type": "code",
   "execution_count": 23,
   "metadata": {},
   "outputs": [],
   "source": [
    "# _ = ok.grade('q4_2')"
   ]
  },
  {
   "cell_type": "markdown",
   "metadata": {},
   "source": [
    "**Question 3.** If instead, the parents decided to give each sibling a 20% raise, how much money does each sibling make per week? Update the allowances in the array `new_allowances_percent`."
   ]
  },
  {
   "cell_type": "code",
   "execution_count": 16,
   "metadata": {},
   "outputs": [],
   "source": [
    "new_allowances_percent = allowances * 1.2"
   ]
  },
  {
   "cell_type": "code",
   "execution_count": 25,
   "metadata": {},
   "outputs": [],
   "source": [
    "# _ = ok.grade('q4_3')"
   ]
  },
  {
   "cell_type": "markdown",
   "metadata": {},
   "source": [
    "**Question 4.** Calculate how much each sibling receives per day for allowance in dollars (be sure to round each allowance to the nearest cent!). Assign your answer to the name `allowances_by_day`."
   ]
  },
  {
   "cell_type": "code",
   "execution_count": 18,
   "metadata": {},
   "outputs": [],
   "source": [
    "allowances_by_day = np.round(allowances / 7, 2)"
   ]
  },
  {
   "cell_type": "code",
   "execution_count": 27,
   "metadata": {},
   "outputs": [],
   "source": [
    "# _ = ok.grade('q4_4')"
   ]
  },
  {
   "cell_type": "markdown",
   "metadata": {},
   "source": [
    "**Question 5.** Load the weekly expenses into the array `expenses`. Calculate the amount of remaining money after each sibling spends a portion of their allowance on expenses, assigning the amounts to the variable `remaining`."
   ]
  },
  {
   "cell_type": "code",
   "execution_count": 22,
   "metadata": {},
   "outputs": [
    {
     "data": {
      "text/plain": [
       "array([0. , 3.5, 3. , 6. , 5.5, 2. ])"
      ]
     },
     "execution_count": 22,
     "metadata": {},
     "output_type": "execute_result"
    }
   ],
   "source": [
    "expenses = make_array(2, .5, 2, 3, 1.5, 1)\n",
    "remaining = allowances - expenses\n",
    "remaining"
   ]
  },
  {
   "cell_type": "code",
   "execution_count": 29,
   "metadata": {},
   "outputs": [],
   "source": [
    "# _ = ok.grade('q4_5')"
   ]
  },
  {
   "cell_type": "markdown",
   "metadata": {},
   "source": [
    "## 5. Shark Attacks"
   ]
  },
  {
   "cell_type": "markdown",
   "metadata": {},
   "source": [
    "**Question 1.** The first line assigns `sharks` to an array containing the number of shark attacks between 1930 and 2017. What's the smallest and largest number of shark attacks in a given year? What is the average number of attacks between 1930 and 2017 `(round to an integer)`. What is the total number of shark attacks between 1930 and 2017?"
   ]
  },
  {
   "cell_type": "code",
   "execution_count": 11,
   "metadata": {},
   "outputs": [],
   "source": [
    "sharks = Table.read_table('sharks.csv').column('Attacks')\n",
    "\n",
    "smallest = min(sharks)\n",
    "largest = max(sharks)\n",
    "average = int(round(np.mean(sharks)))\n",
    "total = sum(sharks)"
   ]
  },
  {
   "cell_type": "code",
   "execution_count": 31,
   "metadata": {},
   "outputs": [],
   "source": [
    "# _ = ok.grade('q5_1')"
   ]
  },
  {
   "cell_type": "markdown",
   "metadata": {},
   "source": [
    "**Question 2.** What is the largest decrease in attacks experienced between consecutive years? \n",
    "\n",
    "*Hint*: You'll need an array arithmetic function [mentioned in the textbook](https://ucsd-dsc10.gitbooks.io/textbook/content/chapters/04/4/arrays.html#Functions-on-Arrays)."
   ]
  },
  {
   "cell_type": "code",
   "execution_count": 22,
   "metadata": {},
   "outputs": [
    {
     "data": {
      "text/plain": [
       "-25"
      ]
     },
     "execution_count": 22,
     "metadata": {},
     "output_type": "execute_result"
    }
   ],
   "source": [
    "biggest_increase = min(np.diff(sharks))\n",
    "biggest_increase"
   ]
  },
  {
   "cell_type": "code",
   "execution_count": 33,
   "metadata": {},
   "outputs": [],
   "source": [
    "# _ = ok.grade('q5_2')"
   ]
  },
  {
   "cell_type": "markdown",
   "metadata": {},
   "source": [
    "**Question 3.** What percentage of shark attacks, during the 88 years recorded in the array, occured in the last 44 years?"
   ]
  },
  {
   "cell_type": "code",
   "execution_count": 16,
   "metadata": {},
   "outputs": [
    {
     "data": {
      "text/plain": [
       "0.645870825834833"
      ]
     },
     "execution_count": 16,
     "metadata": {},
     "output_type": "execute_result"
    }
   ],
   "source": [
    "pct_in_last_44_years = sum(sharks[44:]) / total\n",
    "pct_in_last_44_years"
   ]
  },
  {
   "cell_type": "code",
   "execution_count": 35,
   "metadata": {},
   "outputs": [],
   "source": [
    "# _ = ok.grade('q5_3')"
   ]
  },
  {
   "cell_type": "markdown",
   "metadata": {},
   "source": [
    "**Question 4.** Suppose there were 30,000 beachgoers in 1930 and the number of beachgoers increased by 10% year-after-year. Create an array called `beachgoers` that contains the number of beachgoers in each year between 1930 and 2017. If any beachgoer is equally likely to be attacked by a shark, how dangerous was the *least* dangerous year for shark attacks? Assign the *percent* (**between 0 and 100**) chance of being attacked by a shark to the variable `danger`.\n",
    "\n",
    "*Hint*: To calculate `beachgoers`, you may find the function `np.ones`, that creates an array containing only ones to be useful. For example `np.ones(5)` evaluates to  `array([1., 1., 1., 1., 1.])`."
   ]
  },
  {
   "cell_type": "code",
   "execution_count": 17,
   "metadata": {},
   "outputs": [
    {
     "data": {
      "text/plain": [
       "0.00011356749457852553"
      ]
     },
     "execution_count": 17,
     "metadata": {},
     "output_type": "execute_result"
    }
   ],
   "source": [
    "beachgoers = 30000 * (1.10 ** np.arange(88))\n",
    "danger = min(sharks / beachgoers) * 100\n",
    "danger"
   ]
  },
  {
   "cell_type": "code",
   "execution_count": 37,
   "metadata": {},
   "outputs": [],
   "source": [
    "# _ = ok.grade('q5_4')"
   ]
  },
  {
   "cell_type": "markdown",
   "metadata": {},
   "source": [
    "## 6. Tables\n"
   ]
  },
  {
   "cell_type": "markdown",
   "metadata": {},
   "source": [
    "**Question 1.** Suppose you have 3 quarters, 4 dimes, 2 nickels, and 4 pennies in your pocket. Create a table, named `coins`, with two columns: `Coin Type` and `Quantity` that contains the inventory of your pocket."
   ]
  },
  {
   "cell_type": "code",
   "execution_count": 18,
   "metadata": {},
   "outputs": [],
   "source": [
    "coins = Table().with_columns(\n",
    "    'Coin Type', make_array('Quarter', 'Dime', 'Nickel', 'Penny'),\n",
    "    'Quantity', make_array(3, 4, 2, 4)\n",
    ")"
   ]
  },
  {
   "cell_type": "code",
   "execution_count": 19,
   "metadata": {},
   "outputs": [],
   "source": [
    "# _ = ok.grade('q6_1')"
   ]
  },
  {
   "cell_type": "markdown",
   "metadata": {},
   "source": [
    "**Question 2.** The file `inventory.csv` contains information about the inventory at a fruit stand at the end of the day.  Each row represents the contents of one box of fruit. Load it as a table named `inventory`."
   ]
  },
  {
   "cell_type": "code",
   "execution_count": 21,
   "metadata": {},
   "outputs": [
    {
     "data": {
      "text/html": [
       "<table border=\"1\" class=\"dataframe\">\n",
       "    <thead>\n",
       "        <tr>\n",
       "            <th>box ID</th> <th>fruit name</th> <th>price per item ($)</th> <th>start count</th> <th>sold count</th>\n",
       "        </tr>\n",
       "    </thead>\n",
       "    <tbody>\n",
       "        <tr>\n",
       "            <td>53686 </td> <td>kiwi      </td> <td>2                 </td> <td>45         </td> <td>30        </td>\n",
       "        </tr>\n",
       "        <tr>\n",
       "            <td>57181 </td> <td>strawberry</td> <td>3                 </td> <td>12         </td> <td>9         </td>\n",
       "        </tr>\n",
       "        <tr>\n",
       "            <td>25274 </td> <td>apple     </td> <td>1.5               </td> <td>20         </td> <td>19        </td>\n",
       "        </tr>\n",
       "        <tr>\n",
       "            <td>48800 </td> <td>orange    </td> <td>1                 </td> <td>35         </td> <td>30        </td>\n",
       "        </tr>\n",
       "        <tr>\n",
       "            <td>26187 </td> <td>strawberry</td> <td>3                 </td> <td>25         </td> <td>25        </td>\n",
       "        </tr>\n",
       "        <tr>\n",
       "            <td>57930 </td> <td>grape     </td> <td>0.5               </td> <td>17         </td> <td>17        </td>\n",
       "        </tr>\n",
       "        <tr>\n",
       "            <td>52357 </td> <td>strawberry</td> <td>3                 </td> <td>10         </td> <td>3         </td>\n",
       "        </tr>\n",
       "        <tr>\n",
       "            <td>43566 </td> <td>peach     </td> <td>4.5               </td> <td>40         </td> <td>20        </td>\n",
       "        </tr>\n",
       "    </tbody>\n",
       "</table>"
      ],
      "text/plain": [
       "box ID | fruit name | price per item ($) | start count | sold count\n",
       "53686  | kiwi       | 2                  | 45          | 30\n",
       "57181  | strawberry | 3                  | 12          | 9\n",
       "25274  | apple      | 1.5                | 20          | 19\n",
       "48800  | orange     | 1                  | 35          | 30\n",
       "26187  | strawberry | 3                  | 25          | 25\n",
       "57930  | grape      | 0.5                | 17          | 17\n",
       "52357  | strawberry | 3                  | 10          | 3\n",
       "43566  | peach      | 4.5                | 40          | 20"
      ]
     },
     "execution_count": 21,
     "metadata": {},
     "output_type": "execute_result"
    }
   ],
   "source": [
    "inventory = Table.read_table('inventory.csv')\n",
    "inventory"
   ]
  },
  {
   "cell_type": "code",
   "execution_count": 41,
   "metadata": {},
   "outputs": [],
   "source": [
    "# _ = ok.grade('q6_2')"
   ]
  },
  {
   "cell_type": "markdown",
   "metadata": {},
   "source": [
    "**Question 3.** Does each box at the fruit stand contain a different fruit?"
   ]
  },
  {
   "cell_type": "code",
   "execution_count": 42,
   "metadata": {},
   "outputs": [
    {
     "data": {
      "text/plain": [
       "'No'"
      ]
     },
     "execution_count": 42,
     "metadata": {},
     "output_type": "execute_result"
    }
   ],
   "source": [
    "# Set all_different to \"Yes\" if each box contains a different fruit or to \"No\" if multiple boxes contain the same fruit\n",
    "all_different = 'No'\n",
    "all_different"
   ]
  },
  {
   "cell_type": "code",
   "execution_count": 43,
   "metadata": {},
   "outputs": [],
   "source": [
    "# _ = ok.grade('q6_3')"
   ]
  },
  {
   "cell_type": "markdown",
   "metadata": {},
   "source": [
    "**Question 4.** How many pieces of fruit did the store sell in total that day? "
   ]
  },
  {
   "cell_type": "code",
   "execution_count": 23,
   "metadata": {},
   "outputs": [
    {
     "data": {
      "text/plain": [
       "153"
      ]
     },
     "execution_count": 23,
     "metadata": {},
     "output_type": "execute_result"
    }
   ],
   "source": [
    "total_fruit_sold = sum(inventory.column('sold count'))\n",
    "total_fruit_sold"
   ]
  },
  {
   "cell_type": "code",
   "execution_count": 45,
   "metadata": {},
   "outputs": [],
   "source": [
    "# _ = ok.grade('q6_4')"
   ]
  },
  {
   "cell_type": "markdown",
   "metadata": {},
   "source": [
    "**Question 5.** What was the store's total revenue (the total price of all fruits sold) on that day?"
   ]
  },
  {
   "cell_type": "code",
   "execution_count": 24,
   "metadata": {},
   "outputs": [
    {
     "data": {
      "text/plain": [
       "328.0"
      ]
     },
     "execution_count": 24,
     "metadata": {},
     "output_type": "execute_result"
    }
   ],
   "source": [
    "total_revenue = sum(inventory.column(2) * inventory.column(4))\n",
    "total_revenue"
   ]
  },
  {
   "cell_type": "code",
   "execution_count": 47,
   "metadata": {},
   "outputs": [],
   "source": [
    "# _ = ok.grade('q6_5')"
   ]
  },
  {
   "cell_type": "markdown",
   "metadata": {},
   "source": [
    "**Question 6.** What was the stores's total revenue from strawberry sales that day?"
   ]
  },
  {
   "cell_type": "code",
   "execution_count": 26,
   "metadata": {},
   "outputs": [
    {
     "data": {
      "text/plain": [
       "111.0"
      ]
     },
     "execution_count": 26,
     "metadata": {},
     "output_type": "execute_result"
    }
   ],
   "source": [
    "strawberries = inventory.where('fruit name', 'strawberry')\n",
    "revenue_from_strawberries = sum(strawberries.column(2) * strawberries.column(4))\n",
    "revenue_from_strawberries"
   ]
  },
  {
   "cell_type": "code",
   "execution_count": 49,
   "metadata": {},
   "outputs": [],
   "source": [
    "# _ = ok.grade('q6_6')"
   ]
  },
  {
   "cell_type": "markdown",
   "metadata": {},
   "source": [
    "**Question 7.** Create a table with a new column, called `remaining ($)` that indicates the total remaining value of the fruit still in each box at the end of the day. Assign this table the name `with_remaining`."
   ]
  },
  {
   "cell_type": "code",
   "execution_count": 27,
   "metadata": {},
   "outputs": [
    {
     "data": {
      "text/html": [
       "<table border=\"1\" class=\"dataframe\">\n",
       "    <thead>\n",
       "        <tr>\n",
       "            <th>box ID</th> <th>fruit name</th> <th>price per item ($)</th> <th>start count</th> <th>sold count</th> <th>remaining ($)</th>\n",
       "        </tr>\n",
       "    </thead>\n",
       "    <tbody>\n",
       "        <tr>\n",
       "            <td>53686 </td> <td>kiwi      </td> <td>2                 </td> <td>45         </td> <td>30        </td> <td>30           </td>\n",
       "        </tr>\n",
       "        <tr>\n",
       "            <td>57181 </td> <td>strawberry</td> <td>3                 </td> <td>12         </td> <td>9         </td> <td>9            </td>\n",
       "        </tr>\n",
       "        <tr>\n",
       "            <td>25274 </td> <td>apple     </td> <td>1.5               </td> <td>20         </td> <td>19        </td> <td>1.5          </td>\n",
       "        </tr>\n",
       "        <tr>\n",
       "            <td>48800 </td> <td>orange    </td> <td>1                 </td> <td>35         </td> <td>30        </td> <td>5            </td>\n",
       "        </tr>\n",
       "        <tr>\n",
       "            <td>26187 </td> <td>strawberry</td> <td>3                 </td> <td>25         </td> <td>25        </td> <td>0            </td>\n",
       "        </tr>\n",
       "        <tr>\n",
       "            <td>57930 </td> <td>grape     </td> <td>0.5               </td> <td>17         </td> <td>17        </td> <td>0            </td>\n",
       "        </tr>\n",
       "        <tr>\n",
       "            <td>52357 </td> <td>strawberry</td> <td>3                 </td> <td>10         </td> <td>3         </td> <td>21           </td>\n",
       "        </tr>\n",
       "        <tr>\n",
       "            <td>43566 </td> <td>peach     </td> <td>4.5               </td> <td>40         </td> <td>20        </td> <td>90           </td>\n",
       "        </tr>\n",
       "    </tbody>\n",
       "</table>"
      ],
      "text/plain": [
       "box ID | fruit name | price per item ($) | start count | sold count | remaining ($)\n",
       "53686  | kiwi       | 2                  | 45          | 30         | 30\n",
       "57181  | strawberry | 3                  | 12          | 9          | 9\n",
       "25274  | apple      | 1.5                | 20          | 19         | 1.5\n",
       "48800  | orange     | 1                  | 35          | 30         | 5\n",
       "26187  | strawberry | 3                  | 25          | 25         | 0\n",
       "57930  | grape      | 0.5                | 17          | 17         | 0\n",
       "52357  | strawberry | 3                  | 10          | 3          | 21\n",
       "43566  | peach      | 4.5                | 40          | 20         | 90"
      ]
     },
     "execution_count": 27,
     "metadata": {},
     "output_type": "execute_result"
    }
   ],
   "source": [
    "with_remaining = inventory.with_column('remaining ($)', inventory.column(2) * (inventory.column(3) - inventory.column(4)))\n",
    "with_remaining"
   ]
  },
  {
   "cell_type": "code",
   "execution_count": null,
   "metadata": {},
   "outputs": [],
   "source": [
    "# _ = ok.grade('q6_7')"
   ]
  },
  {
   "cell_type": "markdown",
   "metadata": {},
   "source": [
    "**Question 8.** Create a table with a new column, called `favorites` that indicates whether a fruit is one of the most favorite kinds by `True` or `False`. If the total remaining value of the fruit still in each box at the end of the day is **less then 5 dollars**, then this fruit in a particular box is one of the most favorite. Assign this table the name `with_favorites`."
   ]
  },
  {
   "cell_type": "code",
   "execution_count": 32,
   "metadata": {},
   "outputs": [
    {
     "data": {
      "text/html": [
       "<table border=\"1\" class=\"dataframe\">\n",
       "    <thead>\n",
       "        <tr>\n",
       "            <th>box ID</th> <th>fruit name</th> <th>price per item ($)</th> <th>start count</th> <th>sold count</th> <th>favorites</th>\n",
       "        </tr>\n",
       "    </thead>\n",
       "    <tbody>\n",
       "        <tr>\n",
       "            <td>53686 </td> <td>kiwi      </td> <td>2                 </td> <td>45         </td> <td>30        </td> <td>False    </td>\n",
       "        </tr>\n",
       "        <tr>\n",
       "            <td>57181 </td> <td>strawberry</td> <td>3                 </td> <td>12         </td> <td>9         </td> <td>False    </td>\n",
       "        </tr>\n",
       "        <tr>\n",
       "            <td>25274 </td> <td>apple     </td> <td>1.5               </td> <td>20         </td> <td>19        </td> <td>True     </td>\n",
       "        </tr>\n",
       "        <tr>\n",
       "            <td>48800 </td> <td>orange    </td> <td>1                 </td> <td>35         </td> <td>30        </td> <td>False    </td>\n",
       "        </tr>\n",
       "        <tr>\n",
       "            <td>26187 </td> <td>strawberry</td> <td>3                 </td> <td>25         </td> <td>25        </td> <td>True     </td>\n",
       "        </tr>\n",
       "        <tr>\n",
       "            <td>57930 </td> <td>grape     </td> <td>0.5               </td> <td>17         </td> <td>17        </td> <td>True     </td>\n",
       "        </tr>\n",
       "        <tr>\n",
       "            <td>52357 </td> <td>strawberry</td> <td>3                 </td> <td>10         </td> <td>3         </td> <td>False    </td>\n",
       "        </tr>\n",
       "        <tr>\n",
       "            <td>43566 </td> <td>peach     </td> <td>4.5               </td> <td>40         </td> <td>20        </td> <td>False    </td>\n",
       "        </tr>\n",
       "    </tbody>\n",
       "</table>"
      ],
      "text/plain": [
       "box ID | fruit name | price per item ($) | start count | sold count | favorites\n",
       "53686  | kiwi       | 2                  | 45          | 30         | False\n",
       "57181  | strawberry | 3                  | 12          | 9          | False\n",
       "25274  | apple      | 1.5                | 20          | 19         | True\n",
       "48800  | orange     | 1                  | 35          | 30         | False\n",
       "26187  | strawberry | 3                  | 25          | 25         | True\n",
       "57930  | grape      | 0.5                | 17          | 17         | True\n",
       "52357  | strawberry | 3                  | 10          | 3          | False\n",
       "43566  | peach      | 4.5                | 40          | 20         | False"
      ]
     },
     "execution_count": 32,
     "metadata": {},
     "output_type": "execute_result"
    }
   ],
   "source": [
    "favorites = with_remaining[5] < 5\n",
    "with_favorites = inventory.with_column('favorites', favorites)\n",
    "with_favorites"
   ]
  },
  {
   "cell_type": "code",
   "execution_count": 51,
   "metadata": {},
   "outputs": [],
   "source": [
    "# _ = ok.grade('q6_8')"
   ]
  },
  {
   "cell_type": "code",
   "execution_count": 52,
   "metadata": {},
   "outputs": [],
   "source": [
    "# For your convenience, you can run this cell to run all the tests at once!\n",
    "# import os\n",
    "# _ = [hw02.grade(q[:-3]) for q in os.listdir(\"tests\") if q.startswith('q')]"
   ]
  },
  {
   "cell_type": "code",
   "execution_count": 53,
   "metadata": {},
   "outputs": [],
   "source": [
    "# _ = ok.submit()"
   ]
  },
  {
   "cell_type": "markdown",
   "metadata": {},
   "source": [
    "## Don't forget to submit to both OK and Gradescope!"
   ]
  }
 ],
 "metadata": {
  "kernelspec": {
   "display_name": "Python 3",
   "language": "python",
   "name": "python3"
  },
  "language_info": {
   "codemirror_mode": {
    "name": "ipython",
    "version": 3
   },
   "file_extension": ".py",
   "mimetype": "text/x-python",
   "name": "python",
   "nbconvert_exporter": "python",
   "pygments_lexer": "ipython3",
   "version": "3.7.0"
  }
 },
 "nbformat": 4,
 "nbformat_minor": 1
}
