{
 "cells": [
  {
   "cell_type": "markdown",
   "metadata": {},
   "source": [
    "# Homework 7: Percentiles, Bootstrap, A/B Testing\n",
    "## Due Sunday March 10th, 11:59pm\n",
    "\n",
    "Directly sharing answers is not okay, but discussing problems with the course staff or with other students is encouraged. \n",
    "\n",
    "You should start early so that you have time to get help if you're stuck."
   ]
  },
  {
   "cell_type": "code",
   "execution_count": 1,
   "metadata": {},
   "outputs": [],
   "source": [
    "#:\n",
    "import math\n",
    "import numpy as np\n",
    "from datascience import *\n",
    "import matplotlib.pyplot as plt\n",
    "plt.style.use('fivethirtyeight')\n",
    "%matplotlib inline\n",
    "\n",
    "from client.api.notebook import Notebook\n",
    "ok = Notebook('hw07.ok')\n",
    "_ = ok.auth(inline=True)"
   ]
  },
  {
   "cell_type": "markdown",
   "metadata": {},
   "source": [
    "**Important**: The `ok` tests don't usually tell you that your answer is correct. More often, they help catch careless mistakes. It's up to you to ensure that your answer is correct. If you're not sure, ask someone (not for the answer, but for some guidance about your approach)."
   ]
  },
  {
   "cell_type": "markdown",
   "metadata": {},
   "source": [
    "Once you're finished, you must do two things:\n",
    "\n",
    "### a. Turn into OK\n",
    "Select \"Save and Checkpoint\" in the File menu and then run the submission cell at the end of the notebook. The result will contain a link that you can use to check that your assignment has been submitted successfully. If you submit more than once before the deadline, we'll only grade your final submission."
   ]
  },
  {
   "cell_type": "markdown",
   "metadata": {},
   "source": [
    "### b. Turn PDF into Gradescope\n",
    "Select File > Download As > PDF via LaTeX in the File menu. Turn in this PDF file into the respective assignement at https://gradescope.com/.\n",
    "<br>\n",
    "If you submit more than once before the deadline, we will only grade your final submission"
   ]
  },
  {
   "cell_type": "markdown",
   "metadata": {},
   "source": [
    "## 1. Percentiles"
   ]
  },
  {
   "cell_type": "markdown",
   "metadata": {},
   "source": [
    "**The General Definition**\n",
    "\n",
    "> Let $p$ be a number between 0 and 100. The $p$th percentile of a collection is the smallest value in the collection that is *at least as large* as $p$% of all the values. "
   ]
  },
  {
   "cell_type": "markdown",
   "metadata": {},
   "source": [
    "<img src=\"percentile_example.jpg\" width=60%>"
   ]
  },
  {
   "cell_type": "markdown",
   "metadata": {},
   "source": [
    "By this definition, any percentile between 0 and 100 can be computed for any collection of values and is always an element of the collection. Suppose there are $n$ elements in the collection. To find the $p$th percentile:\n",
    "\n",
    "1. Sort the collection in increasing order.\n",
    "2. Find $p$% of $n$: $\\frac p{100}*n$. Call that $h$. If $h$ is an integer, define $k = h$. Otherwise, let $k$ be the smallest integer greater than $h$.\n",
    "3. Take the $k$th element of the sorted collection."
   ]
  },
  {
   "cell_type": "markdown",
   "metadata": {},
   "source": [
    "**Question 1.** Assign the number of elements in `values` to the variable `n`. Define `k` as above -- your answer should be an integer. Assign the 65th percentile of the array `values` to `sixty_fifth_percentile`. You must use the variables provided for you when solving this problem. For this problem only, you may *not* use `percentile()`.\n",
    "\n",
    "*Hint:* Using `math.ceil()` will round up a number to the next nearest whole number. `math` has already been imported for you."
   ]
  },
  {
   "cell_type": "code",
   "execution_count": 2,
   "metadata": {},
   "outputs": [],
   "source": [
    "#: don't change the values in this array!\n",
    "values = make_array(34, 65, 103, 73, 84, 32, 45, 87, 99, 54)\n",
    "values.sort()  # This line sorts the array\n",
    "values"
   ]
  },
  {
   "cell_type": "code",
   "execution_count": 3,
   "metadata": {},
   "outputs": [],
   "source": [
    "n = ...\n",
    "n"
   ]
  },
  {
   "cell_type": "code",
   "execution_count": 4,
   "metadata": {},
   "outputs": [],
   "source": [
    "k = ...\n",
    "k"
   ]
  },
  {
   "cell_type": "code",
   "execution_count": 5,
   "metadata": {},
   "outputs": [],
   "source": [
    "sixty_fifth_percentile = ...\n",
    "sixty_fifth_percentile"
   ]
  },
  {
   "cell_type": "code",
   "execution_count": 6,
   "metadata": {},
   "outputs": [],
   "source": [
    "_ = ok.grade('q1_1')"
   ]
  },
  {
   "cell_type": "markdown",
   "metadata": {},
   "source": [
    "**Question 2.** The table `nfl_players` contains one row for each player in the National Football League (NFL). The columns include each player's `Number`, `Name`, `Position`, `Age`, `Height` (in inches), `Weight` (in pounds), `College`, and `Team`. Plot a histogram showing each player's weight. Use the bins provided.\n",
    "\n",
    "*Source: http://espn.com and https://www.pro-football-reference.com/players/salary.htm on 2/1/2018.*"
   ]
  },
  {
   "cell_type": "code",
   "execution_count": 7,
   "metadata": {},
   "outputs": [],
   "source": [
    "#: read in the table\n",
    "nfl_players = Table().read_table('nfl_players.csv')\n",
    "nfl_bins = np.arange(140, 370, 5)"
   ]
  },
  {
   "cell_type": "code",
   "execution_count": 8,
   "metadata": {},
   "outputs": [],
   "source": [
    "# plot your histogram here\n"
   ]
  },
  {
   "cell_type": "markdown",
   "metadata": {},
   "source": [
    "**Question 3.** Find the absolute difference between the 95th percentile of the weights of both place kickers (PK) and offensive tackles (OT) in the NFL and assign it to `absolute_difference`. You may use `percentile()`."
   ]
  },
  {
   "cell_type": "code",
   "execution_count": 9,
   "metadata": {},
   "outputs": [],
   "source": [
    "absolute_difference = ...\n",
    "absolute_difference"
   ]
  },
  {
   "cell_type": "code",
   "execution_count": 10,
   "metadata": {
    "scrolled": true
   },
   "outputs": [],
   "source": [
    "_ = ok.grade('q1_3')"
   ]
  },
  {
   "cell_type": "markdown",
   "metadata": {},
   "source": [
    "**Question 4.** In an array `quarterback_quartiles` put the values for the first, second, and third quartiles (in that order) of the heights of all quarterbacks (QB) in the NFL. Make sure your values are in the correct order. You may use `percentile()`."
   ]
  },
  {
   "cell_type": "code",
   "execution_count": 11,
   "metadata": {},
   "outputs": [],
   "source": [
    "quarterback_quartiles = ...\n",
    "quarterback_quartiles"
   ]
  },
  {
   "cell_type": "code",
   "execution_count": 12,
   "metadata": {},
   "outputs": [],
   "source": [
    "_ = ok.grade('q1_4')"
   ]
  },
  {
   "cell_type": "markdown",
   "metadata": {},
   "source": [
    "**Question 5.** Find the the weights of the lightest players at each position. Assign the 50th percentile of these weights to `fiftieth_percentile`. You may use `percentile()`."
   ]
  },
  {
   "cell_type": "code",
   "execution_count": 13,
   "metadata": {},
   "outputs": [],
   "source": [
    "fiftieth_percentile = ...\n",
    "fiftieth_percentile"
   ]
  },
  {
   "cell_type": "code",
   "execution_count": 14,
   "metadata": {},
   "outputs": [],
   "source": [
    "_ = ok.grade('q1_5')"
   ]
  },
  {
   "cell_type": "markdown",
   "metadata": {},
   "source": [
    "**Question 6.** Shaun surveyed his class to find the total number of siblings each of his classmates has. You can see his findings below in the table `siblings`. For instance, 2 people have 0 siblings, 4 have 1 sibling, and so on. If one of his classmates, Jake, has some number of siblings that falls in the 75th percentile of Shaun's data, how many siblings does Jake have? Assign your answer to the value `jake_siblings`. You may use `percentile()`."
   ]
  },
  {
   "cell_type": "code",
   "execution_count": 15,
   "metadata": {},
   "outputs": [],
   "source": [
    "#: load the data\n",
    "siblings = Table().read_table('siblings.csv')\n",
    "siblings"
   ]
  },
  {
   "cell_type": "code",
   "execution_count": 16,
   "metadata": {},
   "outputs": [],
   "source": [
    "jake_siblings = ...\n",
    "jake_siblings"
   ]
  },
  {
   "cell_type": "code",
   "execution_count": 17,
   "metadata": {},
   "outputs": [],
   "source": [
    "_ = ok.grade('q1_6')"
   ]
  },
  {
   "cell_type": "markdown",
   "metadata": {},
   "source": [
    "## 2. Thanksgiving Dinner"
   ]
  },
  {
   "cell_type": "markdown",
   "metadata": {},
   "source": [
    "Suppose you're hosting a Thanksgiving dinner and are responsible for cooking a delicious turkey. When you get home from the grocery store, you notice that the turkey you purchased is a bit on the smaller side. You wonder whether turkeys have always been this small. You decide to investigate.\n",
    "\n",
    "Ideally, you would want to figure out the exact mean weight of all turkeys that were sold for Thanksgiving this year. However, around [46 million turkeys](http://extension.illinois.edu/turkey/turkey_facts.cfm) across the world are consumed each Thanksgiving. Thus, it's simply not feasible to obtain the mean weight of *all* turkeys (i.e. the mean weight of the population)."
   ]
  },
  {
   "cell_type": "markdown",
   "metadata": {},
   "source": [
    "**Question 1.** Complete the statement below by filling in the blanks."
   ]
  },
  {
   "cell_type": "markdown",
   "metadata": {},
   "source": [
    "<hr style=\"color:Maroon;background-color:Maroon;border:0 none; height: 3px;\">\n",
    "\n",
    "Therefore, you want to collect a sample of turkeys to obtain a `______` statistic to estimate the `__________` parameter.\n",
    "\n",
    "<hr style=\"color:Maroon;background-color:Maroon;border:0 none; height: 3px;\">"
   ]
  },
  {
   "cell_type": "markdown",
   "metadata": {},
   "source": [
    "You head back to the grocery store and record the weights of all whole turkeys that are in stock. While you're at it, you also decide to record the weights of all whole chickens that are in stock. When you arrive back home, you decide to use this data as your sample."
   ]
  },
  {
   "cell_type": "markdown",
   "metadata": {},
   "source": [
    "**Question 2.** Your data is recorded in a CSV file called `stock.csv`. Read this file into a table named `stock`."
   ]
  },
  {
   "cell_type": "code",
   "execution_count": 18,
   "metadata": {},
   "outputs": [],
   "source": [
    "stock = ...\n",
    "stock"
   ]
  },
  {
   "cell_type": "code",
   "execution_count": 19,
   "metadata": {},
   "outputs": [],
   "source": [
    "_ = ok.grade('q2_2')"
   ]
  },
  {
   "cell_type": "markdown",
   "metadata": {},
   "source": [
    "**Question 3.** For now, you only care about the weights of the turkeys. Create a new table with the rows of `stock` where the value of `Fowl` is \"Turkey\". Assign this new table to `turkeys`."
   ]
  },
  {
   "cell_type": "code",
   "execution_count": 20,
   "metadata": {},
   "outputs": [],
   "source": [
    "turkeys = ...\n",
    "turkeys"
   ]
  },
  {
   "cell_type": "code",
   "execution_count": 21,
   "metadata": {},
   "outputs": [],
   "source": [
    "_ = ok.grade('q2_3')"
   ]
  },
  {
   "cell_type": "markdown",
   "metadata": {},
   "source": [
    "**Question 4.** Calculate the mean weight of `turkeys` and assign it to `turkey_mean`. "
   ]
  },
  {
   "cell_type": "code",
   "execution_count": 22,
   "metadata": {},
   "outputs": [],
   "source": [
    "turkey_mean = ...\n",
    "turkey_mean"
   ]
  },
  {
   "cell_type": "code",
   "execution_count": 23,
   "metadata": {},
   "outputs": [],
   "source": [
    "_ = ok.grade('q2_4')"
   ]
  },
  {
   "cell_type": "markdown",
   "metadata": {},
   "source": [
    "You're done! Or are you? You have a single point estimate for the true mean turkey weight. However, you don't know how uncertain your estimate is and you don't know how much these estimates could vary. In other words, you don't have a sense of how good your estimate is. You may have gotten a particular statistic for one sample, but a completely different one for another.\n",
    "\n",
    "This is where the idea of resampling via the [bootstrap](https://ucsd-ets.github.io/dsc10-fa18-textbook/chapters/13/2/Bootstrap) comes in. Let's assume that our original sample resembles the population fairly well. We can then resample from our original sample to produce even more estimates, which we can then use to produce an interval estimate for the true mean weight of all turkeys."
   ]
  },
  {
   "cell_type": "markdown",
   "metadata": {},
   "source": [
    "**Question 5.** Fill out the following code to produce 5,000 bootstrapped estimates for the  *mean* weight of turkeys. Store your 5,000 estimates in the `turkey_means` array."
   ]
  },
  {
   "cell_type": "code",
   "execution_count": 24,
   "metadata": {},
   "outputs": [],
   "source": [
    "# turkey_means = ...\n",
    "# for ... in ...:\n",
    "#     resample = ...\n",
    "#     resample_mean = ...\n",
    "#     turkey_means = ...   \n"
   ]
  },
  {
   "cell_type": "code",
   "execution_count": 25,
   "metadata": {},
   "outputs": [],
   "source": [
    "#: This cell displays a histogram of turkey_means\n",
    "Table().with_column('Estimated Mean', turkey_means).hist()"
   ]
  },
  {
   "cell_type": "code",
   "execution_count": 26,
   "metadata": {},
   "outputs": [],
   "source": [
    "_ = ok.grade('q2_5')"
   ]
  },
  {
   "cell_type": "markdown",
   "metadata": {},
   "source": [
    "**Question 6.** Using the array `means`, compute an approximate 95% confidence interval for the true mean weight of turkeys. (Compute the lower and upper ends of the interval, named `lower_bound` and `upper_bound`, respectively.)\n",
    "\n",
    "*Hint:* Use `percentile()`."
   ]
  },
  {
   "cell_type": "code",
   "execution_count": 27,
   "metadata": {},
   "outputs": [],
   "source": [
    "lower_bound = ...\n",
    "lower_bound"
   ]
  },
  {
   "cell_type": "code",
   "execution_count": 28,
   "metadata": {},
   "outputs": [],
   "source": [
    "upper_bound = ...\n",
    "upper_bound"
   ]
  },
  {
   "cell_type": "code",
   "execution_count": 29,
   "metadata": {},
   "outputs": [],
   "source": [
    "#: the confidence interval\n",
    "print(\"Bootstrapped 95% confidence interval for the true mean weight of turkeys: [{:f}, {:f}]\".format(lower_bound, upper_bound))"
   ]
  },
  {
   "cell_type": "code",
   "execution_count": 30,
   "metadata": {},
   "outputs": [],
   "source": [
    "_ = ok.grade('q2_6')"
   ]
  },
  {
   "cell_type": "markdown",
   "metadata": {},
   "source": [
    "**Question 7.** Which of the following would make the histogram narrower? Assign either 1 or 2 to `q2_7`.\n",
    "1. Starting with a larger original sample size.\n",
    "2. Increasing the number of resamples (repetitions of bootstrap)."
   ]
  },
  {
   "cell_type": "code",
   "execution_count": 31,
   "metadata": {},
   "outputs": [],
   "source": [
    "q2_7 = ...\n",
    "q2_7"
   ]
  },
  {
   "cell_type": "code",
   "execution_count": 32,
   "metadata": {},
   "outputs": [],
   "source": [
    "_ = ok.grade('q2_7')"
   ]
  },
  {
   "cell_type": "markdown",
   "metadata": {},
   "source": [
    "**Question 8.** Suppose you want to find the weight of the heaviest turkey (maximum weight out of the entire population). Would your bootstrap procedure be effective in estimating the weight of the heaviest turkey? Explain your answer below."
   ]
  },
  {
   "cell_type": "markdown",
   "metadata": {},
   "source": [
    "<hr style=\"color:Maroon;background-color:Maroon;border:0 none; height: 3px;\">\n",
    "\n",
    "<br><br>\n",
    "\n",
    "<hr style=\"color:Maroon;background-color:Maroon;border:0 none; height: 3px;\">"
   ]
  },
  {
   "cell_type": "markdown",
   "metadata": {},
   "source": [
    "**Question 9.** Suppose you're wondering how heavy the average turkey is compared to the average chicken. Using the same bootstrap procedure, compute an approximate 95% confidence interval for the true mean difference in weight between turkeys and chickens. Store your 5,000 estimates in the `difference_means` array. Use the original `stock` table for this.\n",
    "\n",
    "$$\\text{mean difference} := \\text{mean weight of turkey} - \\text{mean weight of chicken}$$"
   ]
  },
  {
   "cell_type": "code",
   "execution_count": 33,
   "metadata": {},
   "outputs": [],
   "source": [
    "# You may need to add lines for additional code!\n",
    "# difference_means = ...\n",
    "# for ... in ...:\n",
    "#     resample = ...\n",
    "#     resample_mean = ...\n",
    "#     difference_means = ...\n"
   ]
  },
  {
   "cell_type": "code",
   "execution_count": 34,
   "metadata": {},
   "outputs": [],
   "source": [
    "#: This cell displays a histogram of difference_means\n",
    "Table().with_column('Estimated Mean Difference', difference_means).hist()"
   ]
  },
  {
   "cell_type": "code",
   "execution_count": 35,
   "metadata": {},
   "outputs": [],
   "source": [
    "_ = ok.grade('q2_9')"
   ]
  },
  {
   "cell_type": "markdown",
   "metadata": {},
   "source": [
    "**Question 10.** Compute the 95% confidence interval for the mean difference in weights of turkeys and chickens. Assign the left and right endpoints to `left_endpoint` and `right_endpoint` respectively. "
   ]
  },
  {
   "cell_type": "code",
   "execution_count": 36,
   "metadata": {},
   "outputs": [],
   "source": [
    "left_endpoint = ...\n",
    "left_endpoint"
   ]
  },
  {
   "cell_type": "code",
   "execution_count": 37,
   "metadata": {},
   "outputs": [],
   "source": [
    "right_endpoint = ...\n",
    "right_endpoint"
   ]
  },
  {
   "cell_type": "code",
   "execution_count": 38,
   "metadata": {},
   "outputs": [],
   "source": [
    "#: the confidence interval\n",
    "print(\"Bootstrapped 95% confidence interval for the mean difference in weights of turkeys and chickens: [{:f}, {:f}]\".format(left_endpoint, right_endpoint))"
   ]
  },
  {
   "cell_type": "code",
   "execution_count": 39,
   "metadata": {},
   "outputs": [],
   "source": [
    "_ = ok.grade('q2_10')"
   ]
  },
  {
   "cell_type": "markdown",
   "metadata": {},
   "source": [
    "**Question 11:** Based on your histogram and confidence interval, would you say with high probability that the mean turkey is heavier than the mean chicken? Explain your answer."
   ]
  },
  {
   "cell_type": "markdown",
   "metadata": {},
   "source": [
    "<hr style=\"color:Maroon;background-color:Maroon;border:0 none; height: 3px;\">\n",
    "\n",
    "<br>\n",
    "<br>\n",
    "\n",
    "<hr style=\"color:Maroon;background-color:Maroon;border:0 none; height: 3px;\">"
   ]
  },
  {
   "cell_type": "markdown",
   "metadata": {},
   "source": [
    "**Question 12.** Would changing the units of weight from pounds to kilograms change your conclusion? Assign a boolean (`True` if it would and `False` otherwise) to the name `q2_12`."
   ]
  },
  {
   "cell_type": "code",
   "execution_count": 40,
   "metadata": {},
   "outputs": [],
   "source": [
    "q2_12 = ...\n",
    "q2_12"
   ]
  },
  {
   "cell_type": "code",
   "execution_count": 41,
   "metadata": {},
   "outputs": [],
   "source": [
    "_ = ok.grade('q2_12')"
   ]
  },
  {
   "cell_type": "markdown",
   "metadata": {},
   "source": [
    "## 3. DSC 10 == Easy?"
   ]
  },
  {
   "cell_type": "markdown",
   "metadata": {},
   "source": [
    "[Here](https://oneclass.com/blog/university-of-california-san-diego/76492-10-of-the-easiest-classes-at-ucsd.en.html) is a questionable article claiming that DSC 10 is the easiest class at UCSD. Suppose you're a toiling DSC 10 student who knows from experience that this claim is not true. To refute this claim, you decide to use A/B testing to show that DSC 10 is in fact more difficult than some of the other classes further down this list, in particular, POLI 5D (Data Analytics for the Social Sciences).\n",
    "\n",
    "Let's make the assumption that the easier class is the class that is associated with higher grades received. You decide to test the following hypothesis:\n",
    "\n",
    "**Null hypothesis:** Grades received from DSC 10 and POLI 5D come from the same distribution.  \n",
    "**Alternative hypothesis:** Grades received from DSC 10 are typically lower than those from POLI 5D.\n",
    "\n",
    "To find evidence against the article's claim, you turn to the [Course and Professor Evaluations (CAPE)](http://www.cape.ucsd.edu) for historical grades data.\n",
    "\n",
    "There are a few assumptions we will need to make:\n",
    "- We will disregard P/NP grades, i.e., we will only look at letter grades.\n",
    "- Grades are only shown as unsigned letter grades (e.g. no A+ or A-, only A). Thus, the granularity of our analysis is limited to unsigned letter grades."
   ]
  },
  {
   "cell_type": "markdown",
   "metadata": {},
   "source": [
    "Below are the grades given for DSC 10 in Spring 2018:\n",
    "\n",
    "<img src=\"dsc10_cape.png\" width=100%>\n",
    "\n",
    "Below are the grades given for POLI 5D in Winter 2017:\n",
    "\n",
    "<img src=\"poli5d_cape.png\" width=100%>"
   ]
  },
  {
   "cell_type": "markdown",
   "metadata": {},
   "source": [
    "The following cell converts each table into a list of letter grades."
   ]
  },
  {
   "cell_type": "code",
   "execution_count": 42,
   "metadata": {},
   "outputs": [],
   "source": [
    "#: Just run this cell; do not change it\n",
    "dsc10_grades  = 33*['A'] + 46*['B'] + 13*['C'] + 2*['D'] + 8*['F']\n",
    "poli5d_grades = 32*['A'] + 16*['B'] +  9*['C'] + 3*['D'] + 0*['F']\n",
    "print(dsc10_grades)\n",
    "print(poli5d_grades)"
   ]
  },
  {
   "cell_type": "markdown",
   "metadata": {},
   "source": [
    "**Question 1.** Create a new table called `dsc10` with two columns: `Course` and `Letter Grade`. `Course` will contain the string \"DSC 10\" for all rows and `Letter Grade` will contain the grades from `dsc10_grades`.\n",
    "\n",
    "*Hint:* Use list multiplication: `3 * ['element'] = ['element', 'element', 'element']`."
   ]
  },
  {
   "cell_type": "code",
   "execution_count": 43,
   "metadata": {},
   "outputs": [],
   "source": [
    "dsc10 = ...\n",
    "dsc10"
   ]
  },
  {
   "cell_type": "code",
   "execution_count": 44,
   "metadata": {},
   "outputs": [],
   "source": [
    "_ = ok.grade('q3_1')"
   ]
  },
  {
   "cell_type": "markdown",
   "metadata": {},
   "source": [
    "**Question 2.** Similarly, create a new table called `poli5d` with two columns: `Course` and `Letter Grade`. `Course` will contain the string \"POLI 5D\" for all rows and `Letter Grade` will contain the grades from `poli5d_grades`."
   ]
  },
  {
   "cell_type": "code",
   "execution_count": 45,
   "metadata": {},
   "outputs": [],
   "source": [
    "poli5d = ...\n",
    "poli5d"
   ]
  },
  {
   "cell_type": "code",
   "execution_count": 46,
   "metadata": {},
   "outputs": [],
   "source": [
    "_ = ok.grade('q3_2')"
   ]
  },
  {
   "cell_type": "markdown",
   "metadata": {},
   "source": [
    "**Question 3.** Create a new table `letter_grades` and append to it both the `poli5d` table and the `dsc10` table.\n",
    "\n",
    "*Hint:* `original_tbl.append(new_tbl)` appends `new_tbl` to `old_tbl`, but `old_table` must have all of the columns of `new_tbl`. Try using `letter_grades = Table(['Course', 'Letter Grade'])` to create an empty table with the necessary columns.\n",
    "\n",
    "*Warning*: You should be able to run the cell below twice and get the same number of rows each time! If not, you might not be creating a *new* table."
   ]
  },
  {
   "cell_type": "code",
   "execution_count": 47,
   "metadata": {
    "scrolled": true
   },
   "outputs": [],
   "source": [
    "letter_grades = ...\n",
    "letter_grades"
   ]
  },
  {
   "cell_type": "code",
   "execution_count": 48,
   "metadata": {},
   "outputs": [],
   "source": [
    "_ = ok.grade('q3_3')"
   ]
  },
  {
   "cell_type": "markdown",
   "metadata": {},
   "source": [
    "Note that `letter_grades` now consists of all 102 rows for DSC 10 followed by all 60 rows for POLI 5D (or *vice versa*, depending on your particular solution). In other words, the `Course` column is not randomly shuffled; all rows for DSC 10 come before all rows for POLI 5D. In your upcoming permutation test, you will shuffle the `Letter Grade` column but will keep `Course` in the same order. "
   ]
  },
  {
   "cell_type": "markdown",
   "metadata": {},
   "source": [
    "**Question 4.** Is it a problem that the `Course` column will never be shuffled in your permutation test? Explain your answer below."
   ]
  },
  {
   "cell_type": "markdown",
   "metadata": {},
   "source": [
    "<hr style=\"color:Maroon;background-color:Maroon;border:0 none; height: 3px;\">\n",
    "\n",
    "<br><br>\n",
    "\n",
    "<hr style=\"color:Maroon;background-color:Maroon;border:0 none; height: 3px;\">"
   ]
  },
  {
   "cell_type": "markdown",
   "metadata": {},
   "source": [
    "There is one last thing we need to take care of before we can start our permutation test. As mentioned earlier, grades are only shown as letter grades, not numerical grades. However, working with numerical grades rather than letter grades will allow us to use the permutation test more effectively. This is because we can take the mean of numerical grades while we cannot with letter grades.\n",
    "\n",
    "Therefore, we will map the letter grades in our data set to placeholder numerical grades according to the following mapping:\n",
    "\n",
    "Letter Grade | Placeholder Numerical Grade\n",
    "--|--\n",
    "A | 4.0\n",
    "B | 3.0\n",
    "C | 2.0\n",
    "D | 1.0\n",
    "F | 0.0\n",
    "\n",
    "Note that these placeholder numerical grades are just approximations of the actual numerical grades received. For example, a student under the \"A\" category may have actually received an A-, which corresponds to 3.7 grade points, rather than a 4.0. Nevertheless, we will make do with what we have."
   ]
  },
  {
   "cell_type": "markdown",
   "metadata": {},
   "source": [
    "**Question 5.** Define a function `letter_to_numerical` that takes in a letter grade as a string as input, and returns the corresponding placeholder numerical grade according to the mapping above."
   ]
  },
  {
   "cell_type": "code",
   "execution_count": 49,
   "metadata": {},
   "outputs": [],
   "source": [
    "# write your function here\n"
   ]
  },
  {
   "cell_type": "code",
   "execution_count": 50,
   "metadata": {},
   "outputs": [],
   "source": [
    "_ = ok.grade('q3_5')"
   ]
  },
  {
   "cell_type": "markdown",
   "metadata": {},
   "source": [
    "**Question 6.** Using your function `letter_to_numerical`, create a new table `numerical_grades` with two columns: `Course` and `Numerical Grade`. `Course` will contain the same values as in the `letter_grades` table and `Numerical Grade` will contain corresponding placeholder numerical grades."
   ]
  },
  {
   "cell_type": "code",
   "execution_count": 51,
   "metadata": {},
   "outputs": [],
   "source": [
    "numerical_grades = ...\n",
    "numerical_grades"
   ]
  },
  {
   "cell_type": "code",
   "execution_count": 52,
   "metadata": {},
   "outputs": [],
   "source": [
    "_ = ok.grade('q3_6')"
   ]
  },
  {
   "cell_type": "markdown",
   "metadata": {},
   "source": [
    "**Question 7.** Run the below cell to display a histogram of `numerical_grades`. Why are there gaps in-between the bars? Explain your answer below."
   ]
  },
  {
   "cell_type": "code",
   "execution_count": 53,
   "metadata": {},
   "outputs": [],
   "source": [
    "#: Just run this cell; do not change it\n",
    "numerical_grades.hist('Numerical Grade', unit='Numerical Grade', group='Course', bins=np.arange(-.25,4.75,.5))"
   ]
  },
  {
   "cell_type": "markdown",
   "metadata": {},
   "source": [
    "<hr style=\"color:Maroon;background-color:Maroon;border:0 none; height: 3px;\">\n",
    "\n",
    "<br><br>\n",
    "\n",
    "<hr style=\"color:Maroon;background-color:Maroon;border:0 none; height: 3px;\">"
   ]
  },
  {
   "cell_type": "markdown",
   "metadata": {},
   "source": [
    "**Question 8.** Using `letter_grades`, calculate the difference between the mean DSC 10 grade and the mean POLI 5D grade. Assign your answer to `observed_difference`.\n",
    "\n",
    "$$\\text{mean difference} := \\text{mean DSC 10 grade} - \\text{mean POLI 5D grade}$$"
   ]
  },
  {
   "cell_type": "code",
   "execution_count": 54,
   "metadata": {},
   "outputs": [],
   "source": [
    "observed_difference = ...\n",
    "observed_difference"
   ]
  },
  {
   "cell_type": "code",
   "execution_count": 55,
   "metadata": {},
   "outputs": [],
   "source": [
    "_ = ok.grade('q3_8')"
   ]
  },
  {
   "cell_type": "markdown",
   "metadata": {},
   "source": [
    "**Question 9.** Interpret in words the number you obtained for `observed_difference`. Explain your answer below. Be as specific as possible."
   ]
  },
  {
   "cell_type": "markdown",
   "metadata": {},
   "source": [
    "<hr style=\"color:Maroon;background-color:Maroon;border:0 none; height: 3px;\">\n",
    "\n",
    "<br><br>\n",
    "\n",
    "<hr style=\"color:Maroon;background-color:Maroon;border:0 none; height: 3px;\">"
   ]
  },
  {
   "cell_type": "markdown",
   "metadata": {},
   "source": [
    "**Question 10.** Use a permutation test to calculate 5,000 differences using random permutations of the data. Store your 5,000 differences in the `differences` array."
   ]
  },
  {
   "cell_type": "code",
   "execution_count": 56,
   "metadata": {},
   "outputs": [],
   "source": [
    "# differences = ...\n",
    "# for ... in ...:\n",
    "#     shuffled = ...\n",
    "#     difference = ...\n",
    "#     differences = ...\n"
   ]
  },
  {
   "cell_type": "code",
   "execution_count": 57,
   "metadata": {},
   "outputs": [],
   "source": [
    "_ = ok.grade('q3_10')"
   ]
  },
  {
   "cell_type": "markdown",
   "metadata": {},
   "source": [
    "**Question 11.** Which of the follow choices best describes the purpose of the permutation test with regards to A/B testing? Assign either 1, 2, or 3 to `q3_11`.\n",
    "1. The permutation test generates a null distribution which we can use in testing our hypothesis.\n",
    "2. The permutation test mitigates noise in our data by generating new permutations of the data.\n",
    "3. The permutation test is a special case of the bootstrap and allows us to produce interval estimates."
   ]
  },
  {
   "cell_type": "code",
   "execution_count": 58,
   "metadata": {},
   "outputs": [],
   "source": [
    "q3_11 = ...\n",
    "q3_11"
   ]
  },
  {
   "cell_type": "markdown",
   "metadata": {},
   "source": [
    "The following cell plots your observed difference and a histogram of your null distribution produced under your permutation tests."
   ]
  },
  {
   "cell_type": "code",
   "execution_count": 59,
   "metadata": {},
   "outputs": [],
   "source": [
    "#: Just run this cell; do not change it\n",
    "Table().with_column('Difference in Mean', differences).hist()\n",
    "plt.scatter(observed_difference, 0, color='red', s=40);"
   ]
  },
  {
   "cell_type": "code",
   "execution_count": 60,
   "metadata": {},
   "outputs": [],
   "source": [
    "_ = ok.grade('q3_11')"
   ]
  },
  {
   "cell_type": "markdown",
   "metadata": {},
   "source": [
    "**Question 12.** Compute a p-value for the hypothesis. That is, under the null hypothesis, compute the probability that we would have obtained a difference equal to or lower than `observed_difference` by chance alone. Assign your answer to `p_val`."
   ]
  },
  {
   "cell_type": "code",
   "execution_count": 61,
   "metadata": {},
   "outputs": [],
   "source": [
    "p_val = ...\n",
    "p_val"
   ]
  },
  {
   "cell_type": "code",
   "execution_count": 62,
   "metadata": {},
   "outputs": [],
   "source": [
    "_ = ok.grade('q3_12')"
   ]
  },
  {
   "cell_type": "markdown",
   "metadata": {},
   "source": [
    "**Question 13.** Do you reject or fail to reject the null hypothesis at the 0.05 significance level? What conclusion can you make with regards to DSC 10 and POLI 5D? Explain your answer below. Be as specific as possible."
   ]
  },
  {
   "cell_type": "markdown",
   "metadata": {},
   "source": [
    "<hr style=\"color:Maroon;background-color:Maroon;border:0 none; height: 3px;\">\n",
    "\n",
    "<br><br>\n",
    "\n",
    "<hr style=\"color:Maroon;background-color:Maroon;border:0 none; height: 3px;\">"
   ]
  },
  {
   "cell_type": "markdown",
   "metadata": {},
   "source": [
    "**Question 14.** Suppose you are interested in two values, value $A$ and value $B$. Suppose your null hypothesis is as follows:\n",
    "\n",
    "**Null hypothesis:** In the population, value $A$ is equal to value $B$.\n",
    "\n",
    "Suppose your observed difference (value $A$ $-$ value $B$) lies in the far left tail of the null distribution.\n",
    "\n",
    "Which alternative hypothesis will most likely result in a p-value that is NOT significant (a p-value NOT less than 0.05)? Assign either 1, 2, or 3 to `q3_14`.\n",
    "\n",
    "1. **Alternative hypothesis:** There is a difference between value $A$ and value $B$.\n",
    "2. **Alternative hypothesis:** Value $A$ is greater than value $B$.\n",
    "3. **Alternative hypothesis:** Value $B$ is greater than value $A$."
   ]
  },
  {
   "cell_type": "code",
   "execution_count": 63,
   "metadata": {},
   "outputs": [],
   "source": [
    "q3_14 = ...\n",
    "q3_14"
   ]
  },
  {
   "cell_type": "code",
   "execution_count": 64,
   "metadata": {},
   "outputs": [],
   "source": [
    "_ = ok.grade('q3_14')"
   ]
  },
  {
   "cell_type": "markdown",
   "metadata": {},
   "source": [
    "To submit:\n",
    "\n",
    "1. Select `Kernel -> Restart & Run All` to ensure that you have executed all cells, including the test cells.\n",
    "3. Read through the notebook to make sure everything is fine and all tests passed.\n",
    "4. Submit using the cell below.\n",
    "5. Save PDF and submit to gradescope"
   ]
  },
  {
   "cell_type": "code",
   "execution_count": 65,
   "metadata": {},
   "outputs": [],
   "source": [
    "#: Run all tests at once\n",
    "import os\n",
    "_ = [ok.grade(q[:-3]) for q in os.listdir('tests') if q.startswith('q')]"
   ]
  },
  {
   "cell_type": "markdown",
   "metadata": {},
   "source": [
    "## Before submitting, select \"Kernel\" -> \"Restart & Run All\" from the menu!\n",
    "\n",
    "Then make sure that all of your cells ran without error."
   ]
  },
  {
   "cell_type": "code",
   "execution_count": 66,
   "metadata": {},
   "outputs": [],
   "source": [
    "#: Submit your notebook\n",
    "_ = ok.submit()"
   ]
  },
  {
   "cell_type": "markdown",
   "metadata": {},
   "source": [
    "## Don't forget to submit to both OK and Gradescope!"
   ]
  }
 ],
 "metadata": {
  "kernelspec": {
   "display_name": "Python 3",
   "language": "python",
   "name": "python3"
  },
  "language_info": {
   "codemirror_mode": {
    "name": "ipython",
    "version": 3
   },
   "file_extension": ".py",
   "mimetype": "text/x-python",
   "name": "python",
   "nbconvert_exporter": "python",
   "pygments_lexer": "ipython3",
   "version": "3.7.0"
  }
 },
 "nbformat": 4,
 "nbformat_minor": 2
}
