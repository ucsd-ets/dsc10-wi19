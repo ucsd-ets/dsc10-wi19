{
 "cells": [
  {
   "cell_type": "markdown",
   "metadata": {},
   "source": [
    "# Homework 5: Group, Join, Conditionals, Iteration, Randomness. \n",
    "## Due Sunday February 17th, 11:59pm\n",
    "\n",
    "Directly sharing answers is not okay, but discussing problems with the course staff or with other students is encouraged. \n",
    "\n",
    "You should start early so that you have time to get help if you're stuck."
   ]
  },
  {
   "cell_type": "code",
   "execution_count": null,
   "metadata": {},
   "outputs": [],
   "source": [
    "# Don't change this cell; just run it. \n",
    "\n",
    "import numpy as np\n",
    "from datascience import *\n",
    "\n",
    "%matplotlib inline\n",
    "import matplotlib.pyplot as plt\n",
    "plt.style.use('fivethirtyeight')\n",
    "\n",
    "from client.api.notebook import Notebook\n",
    "ok = Notebook('hw05.ok')\n",
    "_ = ok.auth(inline=True)"
   ]
  },
  {
   "cell_type": "markdown",
   "metadata": {},
   "source": [
    "**Important**: The `ok` tests don't usually tell you that your answer is correct. More often, they help catch careless mistakes. It's up to you to ensure that your answer is correct. If you're not sure, ask someone (not for the answer, but for some guidance about your approach)."
   ]
  },
  {
   "cell_type": "markdown",
   "metadata": {},
   "source": [
    "Once you're finished, you must do one thing:\n",
    "\n",
    "### a. Turn into OK\n",
    "Select \"Save and Checkpoint\" in the File menu and then execute the `submit` cell below. The result will contain a link that you can use to check that your assignment has been submitted successfully. If you submit more than once before the deadline, we will only grade your final submission."
   ]
  },
  {
   "cell_type": "code",
   "execution_count": null,
   "metadata": {},
   "outputs": [],
   "source": [
    "_ = ok.submit()"
   ]
  },
  {
   "cell_type": "markdown",
   "metadata": {},
   "source": [
    "## 1. Planes, Trains, & Automobiles"
   ]
  },
  {
   "cell_type": "markdown",
   "metadata": {},
   "source": [
    "<img src=\"san_diego_airport.jpg\" width=60%>"
   ]
  },
  {
   "cell_type": "markdown",
   "metadata": {},
   "source": [
    "With the holiday season upon us, many of you will be traveling to see family, friends, and relatives. How you arrive at your destination is going to depend on how far you need to travel, how fast you need to get there, and how much it will cost you to take your preferred method of transportation. \n",
    "\n",
    "3.2 billion passengers went through the world's top 100 airports in 2011, 998 million of them in Europe and another 989 million in North America.\n",
    "\n",
    "Below is a table ranking the largest airports in the world by passenger number. Here is an explanation of its columns:\n",
    "\n",
    "> **RANK:** The airport's rank in the world based on number of passengers.\n",
    "\n",
    "> **REG:** The region the respective airport falls into.\n",
    "\n",
    "> **CODE:** The *International Air Transport Association* assigns each airport its own three-letter location identifier.\n",
    "\n",
    "> **Passengers 2016:** The number of people who commuted through that respective airport in 2016.\n",
    "\n",
    "> **Passengers 2017:** The number of people who commuted through that respective airport in 2017."
   ]
  },
  {
   "cell_type": "markdown",
   "metadata": {},
   "source": [
    "**Question 1.** The data is in a CSV file called `airports.csv`. Read this file into a table `airports`."
   ]
  },
  {
   "cell_type": "code",
   "execution_count": null,
   "metadata": {},
   "outputs": [],
   "source": [
    "airports = ...\n",
    "airports"
   ]
  },
  {
   "cell_type": "code",
   "execution_count": null,
   "metadata": {},
   "outputs": [],
   "source": [
    "_ = ok.grade('q1_1')"
   ]
  },
  {
   "cell_type": "markdown",
   "metadata": {},
   "source": [
    "**Question 2.** The world's very biggest airports saw a big increase in passengers. However, the biggest increases came in a few new global powerhouses. To find the amount of increase, add a new column to the table `airports` called `% Change`. This new column should contain the percent increase in the number of passengers that traveled through each respective airport from 2016 to 2017.\n",
    "\n",
    "*Note:* These values should not be left as proportions. (should be 0 ~ 100)"
   ]
  },
  {
   "cell_type": "code",
   "execution_count": null,
   "metadata": {},
   "outputs": [],
   "source": [
    "updated_airports = ...\n",
    "updated_airports"
   ]
  },
  {
   "cell_type": "code",
   "execution_count": null,
   "metadata": {},
   "outputs": [],
   "source": [
    "_ = ok.grade('q1_2')"
   ]
  },
  {
   "cell_type": "markdown",
   "metadata": {},
   "source": [
    "**Question 3.** At the moment, the only two ways for us to identify these airports is through their *International Air Transport Association (IATA)* code and their three-letter region code. The location of some airports, like Atlanta's Hartsfield–Jackson Atlanta International Airport, are easy to to identify given their IATA code: ATL. Other airports, such as Toronto's Pearson International Airport, are not so easy to identify. Any guesses as to what Toronto's IATA code may be?\n",
    "\n",
    "Given that most of you will be traveling domestically, let's make airports located in the USA a little easier to identify. You are given a new table `airport_identifiers` that contains the columns **IATA_CODE**, **AIRPORT**, **CITY**, **STATE**, **COUNTRY**, **LATITUDE**, and **LONGITUDE**. Join this table with `airports` and assign your new table to `united_states_airports`."
   ]
  },
  {
   "cell_type": "code",
   "execution_count": null,
   "metadata": {},
   "outputs": [],
   "source": [
    "airport_identifiers = Table.read_table('airport_identifiers.csv')\n",
    "airport_identifiers"
   ]
  },
  {
   "cell_type": "code",
   "execution_count": null,
   "metadata": {},
   "outputs": [],
   "source": [
    "united_states_airports = ...\n",
    "united_states_airports"
   ]
  },
  {
   "cell_type": "code",
   "execution_count": null,
   "metadata": {},
   "outputs": [],
   "source": [
    "_ = ok.grade('q1_3')"
   ]
  },
  {
   "cell_type": "markdown",
   "metadata": {},
   "source": [
    "Run the following line of code to see where some of the busiest airports in the United States are located.\n",
    "\n",
    "*Note:* This map may not compile for those of you with a newer version of the `datascience` package. Don't worry, you will not be deducted any points if you are unable to produce the visualization."
   ]
  },
  {
   "cell_type": "code",
   "execution_count": null,
   "metadata": {
    "scrolled": true
   },
   "outputs": [],
   "source": [
    "Marker.map_table(united_states_airports.select('LATITUDE', 'LONGITUDE', 'AIRPORT'))"
   ]
  },
  {
   "cell_type": "markdown",
   "metadata": {},
   "source": [
    "**Question 4.** Of the top 100 aiports in the world in 2011, what percentage of them are located in the United States? Use table methods to compute this percentage."
   ]
  },
  {
   "cell_type": "code",
   "execution_count": null,
   "metadata": {},
   "outputs": [],
   "source": [
    "american_airports = ...\n",
    "american_airports"
   ]
  },
  {
   "cell_type": "code",
   "execution_count": null,
   "metadata": {},
   "outputs": [],
   "source": [
    "_ = ok.grade('q1_4')"
   ]
  },
  {
   "cell_type": "markdown",
   "metadata": {},
   "source": [
    "**Question 5.** Lastly, let's say you want to visit the *state with the most airports* so that you can see the most sights during your time away from school. However, you don't want to start your journey by landing at any random airport. Instead, you would like to land at the *least crowded airport in that state* to start your journey. The only information you have to tell how busy an airport is is how many passengers commuted through that location in 2017. Using the information in `united_states_airports`, decide which airport you'll be landing at.\n",
    "\n",
    "*Note:* Your answer should be the full name of the airport, not the IATA code."
   ]
  },
  {
   "cell_type": "code",
   "execution_count": null,
   "metadata": {},
   "outputs": [],
   "source": [
    "destination = ...\n",
    "destination"
   ]
  },
  {
   "cell_type": "code",
   "execution_count": null,
   "metadata": {},
   "outputs": [],
   "source": [
    "_ = ok.grade('q1_5')"
   ]
  },
  {
   "cell_type": "markdown",
   "metadata": {},
   "source": [
    "## 2. Thank You For Flying With Us!"
   ]
  },
  {
   "cell_type": "markdown",
   "metadata": {},
   "source": [
    "Before you can fly anywhere you must decide which airline you are going to use to get there! There are a number of factors that go into a person's decision of what airline to fly with. People may have reward program memberships, they may find a good deal ahead of time, or an airline may be the only one that has service to your preffered destination.\n",
    "\n",
    "Instead of considering a large number of factors, we are only going to consider three: comfort, price, and customer service. Let us also assume that you value these attributes in the following order from most important to least important:\n",
    "\n",
    "> **1.** Comfort (1 = Low Comfort Level, 10 = High Comfort Level)\n",
    "\n",
    "> **2.** Price (1 = Cheap, 10 = Expensive)\n",
    "\n",
    "> **3.** Customer Service (1 = Poor, 10 = Excellent)\n",
    "\n",
    "**Question 1.** Define a function called `flight_finder` that takes four arguments: `table`, `comfort_score`, `price_score`, and `customer_service_score`. Your function should return a list of airlines that meet the following requirements:\n",
    "\n",
    "> **1.** If there is at least one airline that has a comfort score greater than or equal to `comfort_score`, return a list of those airlines.\n",
    "\n",
    "> **2.** If your comfort score is not met, return a list of airlines that have a price score less than or equal to `price_score`.\n",
    "\n",
    "> **3.** If both your comfort score and price score are not met, return a list of airlines that have a customer service score greater than or equal to `customer_service_score`.\n",
    "\n",
    "> **4.** If none of your accomodations are met, return `\"Out of luck!\"`.\n",
    "\n",
    "*Hint:* You can use `list()` to convert an array to a list."
   ]
  },
  {
   "cell_type": "code",
   "execution_count": null,
   "metadata": {},
   "outputs": [],
   "source": [
    "airlines = Table.read_table('airlines.csv')\n",
    "airlines"
   ]
  },
  {
   "cell_type": "code",
   "execution_count": null,
   "metadata": {},
   "outputs": [],
   "source": [
    "# Define your function here\n",
    "\n",
    "# Test cases\n",
    "flight_finder(airlines, 10, 0, 9.5) # Should return ['Hawaiian Airlines Inc.'] \n",
    "flight_finder(airlines, 8, 9, 1) # Should return ['JetBlue Airways']\n",
    "flight_finder(airlines, 10, 2, 4) # Should return ['Spirit Air Lines', 'Atlantic Southeast Airlines']"
   ]
  },
  {
   "cell_type": "code",
   "execution_count": null,
   "metadata": {},
   "outputs": [],
   "source": [
    "_ = ok.grade('q2_1')"
   ]
  },
  {
   "cell_type": "markdown",
   "metadata": {},
   "source": [
    "## 3. Missing Your Connection"
   ]
  },
  {
   "cell_type": "markdown",
   "metadata": {},
   "source": [
    "Recently, the server at the San Diego International Airport crashed. Now, the database of airlines is jumbled up and you need to help put it back in order. In this problem, you will reconstruct the names of various airlines. Use a `for` loop to combine a list of first halves of airlines and a list of second halves of airlines into a new list called `completed_quotes`.\n",
    "\n",
    "When combining the two halves, you should: \n",
    "* Capitalize the first letter of the airline.\n",
    "* Insert a space a between the first half and the second half of the airline.\n",
    "\n",
    "For example, given the list `[“united”, “american”]` and  `[“Air Lines Inc.\", “Airlines Inc.”]`, you should create the list `[“United Air Lines Inc.”, “American Airlines Inc.”]`.\n",
    "\n",
    "**Hint:** *To capitalize the first letter of a string `s`, use the string method `upper()` on the character at index 0, then append the characters from index 1 until the end, like this :* `s[0].upper() + s[1:]`"
   ]
  },
  {
   "cell_type": "code",
   "execution_count": null,
   "metadata": {},
   "outputs": [],
   "source": [
    "first_half = ['uS', 'frontier', 'jetBlue', 'skywest', 'alaska', 'spirit', 'southwest']\n",
    "second_half = ['Airways Inc.', 'Airlines Inc.', 'Airways', 'Airlines Inc.', 'Airlines Inc.', 'Air Lines', 'Airlines Co.']\n",
    "\n",
    "completed_quotes = []\n",
    "\n",
    "# Write your for loop here\n",
    "\n",
    "completed_quotes"
   ]
  },
  {
   "cell_type": "code",
   "execution_count": null,
   "metadata": {},
   "outputs": [],
   "source": [
    "_ = ok.grade('q3_1')"
   ]
  },
  {
   "cell_type": "markdown",
   "metadata": {},
   "source": [
    "## 4. Flight Delays"
   ]
  },
  {
   "cell_type": "markdown",
   "metadata": {
    "collapsed": true
   },
   "source": [
    "One problem you will run into when traveling via air during the holiday season (and all year round for that matter) is the issue of flight delays.\n",
    "\n",
    "The table `delays` contains information on the flight delays for each airline at each U.S. airport in July of 2014. The columns include:\n",
    "* The carrier (**Carrier**)\n",
    "* Airport city/state (**City**/**State**)\n",
    "* Airport code (**AirportCode**)\n",
    "* Airport name (**Airtport**)\n",
    "* Total number of flights (**Flights**)\n",
    "* The number of delayed flights (**Delayed**)\n",
    "* The number of cancelled flights (**Cancelled**) \n",
    "* The number of diverted flights (**Diverted**)\n",
    "* The number of on-time flights (**On-time**)"
   ]
  },
  {
   "cell_type": "code",
   "execution_count": null,
   "metadata": {},
   "outputs": [],
   "source": [
    "delays = Table.read_table('delays.csv')\n",
    "delays"
   ]
  },
  {
   "cell_type": "markdown",
   "metadata": {},
   "source": [
    "**Question 1.** The IATA is interested in determining which airlines experience the most interruptions. Calculate the total number of delays, cancellations, and diversions associated with each of the airlines, and save a table of these results in a variable called `airline_delays`. Your table should have four columns, containing, from left to right:\n",
    "* The airline. (**Carrier**)\n",
    "* The total number of delayed flights for each airline. (**Delayed**)\n",
    "* The total number of cancelled flights for each airline. (**Cancelled**)\n",
    "* The total number of diverted flights for each airline. (**Diverted**)\n",
    "\n",
    "Also, be sure to strip the string `sum` from the title of each of your columns."
   ]
  },
  {
   "cell_type": "code",
   "execution_count": null,
   "metadata": {},
   "outputs": [],
   "source": [
    "airline_delays = ...\n",
    "airline_delays"
   ]
  },
  {
   "cell_type": "code",
   "execution_count": null,
   "metadata": {},
   "outputs": [],
   "source": [
    "_ = ok.grade('q4_1')"
   ]
  },
  {
   "cell_type": "markdown",
   "metadata": {},
   "source": [
    "**Question 2.** When we sort the table above we see that `Southwest` had the most delayed flights in July of 2014. However, `Southwest` is a very popular airline which means that they operate a large number of aircrafts on a daily basis. Instead of focusing on the total number of delayed flights per airline, let's add a new column to the table `airline_delays` and call it `% Delayed`. This column should contain the percentage of flights, compared to the total number of flights for that airline, that were delayed in July of 2014. "
   ]
  },
  {
   "cell_type": "code",
   "execution_count": null,
   "metadata": {},
   "outputs": [],
   "source": [
    "airline_delays = ...\n",
    "airline_delays"
   ]
  },
  {
   "cell_type": "code",
   "execution_count": null,
   "metadata": {},
   "outputs": [],
   "source": [
    "_ = ok.grade('q4_2')"
   ]
  },
  {
   "cell_type": "markdown",
   "metadata": {},
   "source": [
    "**Question 3.** Most airlines have a city that they are headquartered in, otherwise known as their `Main Hub`. For example, Delta is headquarted in Atlanta, GA, JetBlue calls New York City its home, and American Airlines resides in Dallas/Ft. Worth. What the IATA wants you to figure out is which airport had the fifth most on-time flights in July of 2014. Furthermore, which airline contributed the most of number on-time flights to that location? Two variables have been provided for you to assign your answers.\n",
    "\n",
    "*Note:* We want the name of the airport, not the IATA code."
   ]
  },
  {
   "cell_type": "code",
   "execution_count": null,
   "metadata": {},
   "outputs": [],
   "source": [
    "on_time_airport = ...\n",
    "on_time_airline = ...\n",
    "\n",
    "print(\"The airport with the fifth most on-time flights in July, 2014 was \" + on_time_airport + \n",
    "      \" and the largest number of on-time flights to that airport came from \" + on_time_airline + \".\")"
   ]
  },
  {
   "cell_type": "code",
   "execution_count": null,
   "metadata": {},
   "outputs": [],
   "source": [
    "_ = ok.grade('q4_3')"
   ]
  },
  {
   "cell_type": "markdown",
   "metadata": {},
   "source": [
    "## 5. Yahtzee "
   ]
  },
  {
   "cell_type": "markdown",
   "metadata": {},
   "source": [
    "In the dice game Yahtzee, players roll and reroll dice, trying to meet certain objectives. A player rolls five dice on the first roll, and after looking at the results, *can choose to* reroll any number of them on the second roll. Similarly, after looking at the results of the second roll, the player can choose to reroll any number of those for the third roll. After the third roll, no more rolling is allowed.\n",
    "\n",
    "One objective in Yahtzee is to roll as many 6's as possible. The standard strategy is as follows:\n",
    "* Roll all five dice.\n",
    "* Keep any that are 6's. Reroll all other dice.\n",
    "* Keep any that are 6's. Reroll all other dice.\n",
    "The number of 6's at the end of this process determined the player's score. "
   ]
  },
  {
   "cell_type": "markdown",
   "metadata": {},
   "source": [
    "**Question 1.** Create an array called `my_dice` that contains the results of a first Yahtzee roll (that is, five random numbers between 1 and 6)."
   ]
  },
  {
   "cell_type": "code",
   "execution_count": null,
   "metadata": {},
   "outputs": [],
   "source": [
    "my_dice = ...\n",
    "my_dice"
   ]
  },
  {
   "cell_type": "code",
   "execution_count": null,
   "metadata": {},
   "outputs": [],
   "source": [
    "_ = ok.grade('q5_1')"
   ]
  },
  {
   "cell_type": "markdown",
   "metadata": {},
   "source": [
    "**Question 2.** Define a function called `reroll()` that takes one Yahtzee roll, `roll` as its input and returns the updated roll as its ouput. The function should not change the contents of `roll`, but, rather, should output an updated copy of `roll` after one additional turn. Your function should implement the standard strategy for rolling 6's, that is, keep all dice that were a 6 and reroll all other dice.\n",
    "\n",
    "**Hint** *You can test out your function by repeatedly rerolling. Since you are keeping all the 6's you ever roll, eventually you should get all 6's by repeatedly rerolling.*"
   ]
  },
  {
   "cell_type": "code",
   "execution_count": null,
   "metadata": {},
   "outputs": [],
   "source": [
    "def reroll(roll):\n",
    "    ..."
   ]
  },
  {
   "cell_type": "markdown",
   "metadata": {},
   "source": [
    "Now, practice taking a complete turn at Yahtzee, and see how many 6's you can get! Re-run the code cell from question 5.1 to roll new dice. Then use your `reroll()` function twice, and calculate the number of 6's you have at the end of your turn. "
   ]
  },
  {
   "cell_type": "code",
   "execution_count": null,
   "metadata": {},
   "outputs": [],
   "source": [
    "# Practice taking a turn here. How many 6's did you get?\n",
    "second_roll = ...\n",
    "third_roll = ...\n",
    "third_roll"
   ]
  },
  {
   "cell_type": "markdown",
   "metadata": {},
   "source": [
    "**Question 3.** Now, use a `for` loop to help you take 100,000 turns at Yahtzee. On each turn, you should roll the dice, reroll them twice, and calculate the number of 6's you have at the end of your turn. Create an array called `sixes` that contains the number of 6's you had at the end of each turn. This array should have 100,000 entries.\n",
    "\n",
    "**Hint** Try taking 10 turns with a `for` loop. Once you are sure you have that figured out, change it to 100,000 turns. It will take a little while (about a minute) for Python to perform the calculations when you are doing 100,000 turns."
   ]
  },
  {
   "cell_type": "code",
   "execution_count": null,
   "metadata": {},
   "outputs": [],
   "source": [
    "sixes = ...\n",
    "\n",
    "# Write your for loop here"
   ]
  },
  {
   "cell_type": "code",
   "execution_count": null,
   "metadata": {},
   "outputs": [],
   "source": [
    "_ = ok.grade('q5_3')"
   ]
  },
  {
   "cell_type": "markdown",
   "metadata": {},
   "source": [
    "**Question 4.** Use the data you have collected to approximate the number of 6's would you expect to get in one turn using this strategy. Store your result in a variable called `expected_sixes.` \n",
    "\n",
    "Note that this does not need to be a whole number. For example, if you collected data by repeatedly flipping three coins, you would say that the expected number of heads you see is about 1.5.\n",
    "\n",
    "**Hint** *How many sixes, on average, are you left with?*"
   ]
  },
  {
   "cell_type": "code",
   "execution_count": null,
   "metadata": {},
   "outputs": [],
   "source": [
    "expected_sixes = ...\n",
    "expected_sixes"
   ]
  },
  {
   "cell_type": "code",
   "execution_count": null,
   "metadata": {},
   "outputs": [],
   "source": [
    "_ = ok.grade('q5_4')"
   ]
  },
  {
   "cell_type": "markdown",
   "metadata": {},
   "source": [
    "**Question 5.** Use the data you have collected to approximate the most commonly rolled number of 6's when taking a single turn using this strategy. Store your result in a variable called `most_common_sixes.`\n",
    "\n",
    "Note that this does need to be a whole number, because it is not very common at all to roll a non-integer number of sixes in a single turn of Yahtzee."
   ]
  },
  {
   "cell_type": "code",
   "execution_count": null,
   "metadata": {},
   "outputs": [],
   "source": [
    "most_common_sixes = ...\n",
    "most_common_sixes"
   ]
  },
  {
   "cell_type": "code",
   "execution_count": null,
   "metadata": {},
   "outputs": [],
   "source": [
    "_ = ok.grade('q5_5')"
   ]
  },
  {
   "cell_type": "markdown",
   "metadata": {},
   "source": [
    "\n",
    "To submit:\n",
    "\n",
    "1. Select `Run All` from the `Cell` menu to ensure that you have executed all cells, including the test cells.\n",
    "2. Read through the notebook to make sure everything is fine.\n",
    "3. Submit using the cell below.\n"
   ]
  },
  {
   "cell_type": "code",
   "execution_count": null,
   "metadata": {},
   "outputs": [],
   "source": [
    "# For your convenience, you can run this cell to run all the tests at once!\n",
    "import os\n",
    "_ = [ok.grade(q[:-3]) for q in os.listdir('tests') if q.startswith('q')]"
   ]
  },
  {
   "cell_type": "code",
   "execution_count": null,
   "metadata": {},
   "outputs": [],
   "source": [
    "_ = ok.submit()"
   ]
  },
  {
   "cell_type": "markdown",
   "metadata": {},
   "source": [
    "## Don't forget to submit to OK!"
   ]
  }
 ],
 "metadata": {
  "kernelspec": {
   "display_name": "Python 3",
   "language": "python",
   "name": "python3"
  },
  "language_info": {
   "codemirror_mode": {
    "name": "ipython",
    "version": 3
   },
   "file_extension": ".py",
   "mimetype": "text/x-python",
   "name": "python",
   "nbconvert_exporter": "python",
   "pygments_lexer": "ipython3",
   "version": "3.7.0"
  }
 },
 "nbformat": 4,
 "nbformat_minor": 2
}
