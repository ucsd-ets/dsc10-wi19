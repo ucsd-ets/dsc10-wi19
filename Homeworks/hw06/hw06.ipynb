{
 "cells": [
  {
   "cell_type": "markdown",
   "metadata": {},
   "source": [
    "# Homework 6: Probability and Hypothesis Testing\n",
    "## Due Sunday November 18th, 11:59pm\n",
    "\n",
    "Directly sharing answers is not okay, but discussing problems with the course staff or with other students is encouraged. \n",
    "\n",
    "You should start early so that you have time to get help if you're stuck."
   ]
  },
  {
   "cell_type": "code",
   "execution_count": 1,
   "metadata": {},
   "outputs": [],
   "source": [
    "#: Don't change this cell; just run it. \n",
    "\n",
    "import numpy as np\n",
    "from datascience import *\n",
    "\n",
    "%matplotlib inline\n",
    "import matplotlib.pyplot as plt\n",
    "plt.style.use('fivethirtyeight')\n",
    "\n",
    "from client.api.notebook import Notebook\n",
    "ok = Notebook('hw06.ok')\n",
    "_ = ok.auth(inline=True)"
   ]
  },
  {
   "cell_type": "markdown",
   "metadata": {},
   "source": [
    "**Important**: The `ok` tests don't usually tell you that your answer is correct. More often, they help catch careless mistakes. It's up to you to ensure that your answer is correct. If you're not sure, ask someone (not for the answer, but for some guidance about your approach)."
   ]
  },
  {
   "cell_type": "markdown",
   "metadata": {},
   "source": [
    "Once you're finished, you must do two things:\n",
    "\n",
    "### a. Turn into OK\n",
    "Select \"Save and Checkpoint\" in the File menu and then execute the `submit` cell below. The result will contain a link that you can use to check that your assignment has been submitted successfully. If you submit more than once before the deadline, we will only grade your final submission."
   ]
  },
  {
   "cell_type": "code",
   "execution_count": null,
   "metadata": {},
   "outputs": [],
   "source": [
    "#: turn in your notebook\n",
    "_ = ok.submit()"
   ]
  },
  {
   "cell_type": "markdown",
   "metadata": {},
   "source": [
    "### b. Turn PDF into Gradescope\n",
    "Select File > Download As > PDF via LaTeX in the File menu. Turn in this PDF file into the respective assignement at https://gradescope.com/.\n",
    "<br>\n",
    "If you submit more than once before the deadline, we will only grade your final submission"
   ]
  },
  {
   "cell_type": "markdown",
   "metadata": {},
   "source": [
    "## 1. Numbers in a Slot Machine"
   ]
  },
  {
   "cell_type": "markdown",
   "metadata": {},
   "source": [
    "You are in front of a slot machine with three slots. Each slot in the slot machine has 10 possible outcomes: the numbers from 0-9. When you press the \"Spin\" button on the slot machine, each of the three slots spins independently and stops at a number. Assume that the slot machine always picks a number randomly. "
   ]
  },
  {
   "cell_type": "markdown",
   "metadata": {},
   "source": [
    "**Question 1.** Suppose you win the jackpot if you are lucky enough to encounter the following sequence of spins, in order:\n",
    "\n",
    "> **Spin 1:** You see a 777 in the slot machine.\n",
    "\n",
    "> **Spin 2:** You see a 999 in the slot machine.\n",
    "\n",
    "What is the probability that you win the jackpot if you press the \"Spin\" button three times? Assign your answer to `jackpot_chance`."
   ]
  },
  {
   "cell_type": "code",
   "execution_count": 2,
   "metadata": {},
   "outputs": [],
   "source": [
    "jackpot_chance = ...\n",
    "jackpot_chance"
   ]
  },
  {
   "cell_type": "code",
   "execution_count": 3,
   "metadata": {},
   "outputs": [],
   "source": [
    "#: grade 1.1\n",
    "_ = ok.grade('q1_1')"
   ]
  },
  {
   "cell_type": "markdown",
   "metadata": {},
   "source": [
    "**Question 2.** What is the probability that you see a number greater than 650 when you press \"Spin\" once? Assign your answer to `greater_than_650`."
   ]
  },
  {
   "cell_type": "code",
   "execution_count": 4,
   "metadata": {},
   "outputs": [],
   "source": [
    "greater_than_650 = ...\n",
    "greater_than_650"
   ]
  },
  {
   "cell_type": "code",
   "execution_count": 5,
   "metadata": {},
   "outputs": [],
   "source": [
    "#: grade 1.2\n",
    "_ = ok.grade('q1_2')"
   ]
  },
  {
   "cell_type": "markdown",
   "metadata": {},
   "source": [
    "**Question 3.** Write a function called `simulate_one_spin`. It should take **no arguments**, and it should return a random number that is equally-likely to come up in the slot-machine. Note that since it is a number, the leading zeros are ignored. For example, if the slot number spits out 009, then the corresponding return value of your function should be 9."
   ]
  },
  {
   "cell_type": "code",
   "execution_count": 6,
   "metadata": {},
   "outputs": [],
   "source": [
    "# Place your answer here. It may contain several lines of code.\n"
   ]
  },
  {
   "cell_type": "code",
   "execution_count": 7,
   "metadata": {},
   "outputs": [],
   "source": [
    "#: grade 1.3\n",
    "_ = ok.grade('q1_3')"
   ]
  },
  {
   "cell_type": "markdown",
   "metadata": {},
   "source": [
    "**Question 4.** Call the function `simulate_one_spin` 100,000 times. What proportion of times does the slot machine output 999? Assign your answer to `proportion_999`. Your solution may take more than one line."
   ]
  },
  {
   "cell_type": "code",
   "execution_count": 8,
   "metadata": {},
   "outputs": [],
   "source": [
    "proportion_999 = ...\n",
    "proportion_999"
   ]
  },
  {
   "cell_type": "code",
   "execution_count": 9,
   "metadata": {},
   "outputs": [],
   "source": [
    "#: grade 1.4\n",
    "_ = ok.grade('q1_4')"
   ]
  },
  {
   "cell_type": "markdown",
   "metadata": {},
   "source": [
    "**Question 5.** Compute the probability that at least one of the slots in the slot machine (out of the three) gives out a 4. You can write it as an expression which can be evaluated by Python. Assign your answer to `at_least_one_4`."
   ]
  },
  {
   "cell_type": "code",
   "execution_count": 10,
   "metadata": {},
   "outputs": [],
   "source": [
    "at_least_one_4 = ...\n",
    "at_least_one_4"
   ]
  },
  {
   "cell_type": "code",
   "execution_count": 11,
   "metadata": {},
   "outputs": [],
   "source": [
    "#: grade 1.5\n",
    "_ = ok.grade('q1_5')"
   ]
  },
  {
   "cell_type": "markdown",
   "metadata": {},
   "source": [
    "## 2. Apples and Oranges"
   ]
  },
  {
   "cell_type": "markdown",
   "metadata": {},
   "source": [
    "Suppose you are given a huge farm that yields apples and oranges."
   ]
  },
  {
   "cell_type": "code",
   "execution_count": 12,
   "metadata": {},
   "outputs": [],
   "source": [
    "#: Don't change this cell, just run it\n",
    "apples = ['Apple' for _  in range(700)]\n",
    "oranges = ['Orange' for _ in range(300)]\n",
    "farm_table = Table().with_column(\n",
    "    'Fruit Type', apples + oranges\n",
    ")\n",
    "farm_table"
   ]
  },
  {
   "cell_type": "markdown",
   "metadata": {},
   "source": [
    "**Question 1.** Because you like apples more, you're interested in the proportion of apples in the farm. Calculate the true proportion of apples in the farm. Store it in the variable `apples_true_prop`."
   ]
  },
  {
   "cell_type": "code",
   "execution_count": 13,
   "metadata": {},
   "outputs": [],
   "source": [
    "apples_true_prop = ...\n",
    "apples_true_prop"
   ]
  },
  {
   "cell_type": "code",
   "execution_count": 14,
   "metadata": {},
   "outputs": [],
   "source": [
    "#: grade 2.1\n",
    "_ = ok.grade('q2_1')"
   ]
  },
  {
   "cell_type": "markdown",
   "metadata": {},
   "source": [
    "**Question 2.** Which of the following would create a representative sample of fruits and why? Explain your answer.\n",
    "\n",
    "1. `farm_table.take(np.arange(150))`\n",
    "2. `farm_table.sample(150)`"
   ]
  },
  {
   "cell_type": "markdown",
   "metadata": {},
   "source": [
    "<hr style=\"color:Maroon;background-color:Maroon;border:0 none; height: 3px;\">\n",
    "\n",
    "*Write your answer here.*\n",
    "\n",
    "<hr style=\"color:Maroon;background-color:Maroon;border:0 none; height: 3px;\">"
   ]
  },
  {
   "cell_type": "markdown",
   "metadata": {},
   "source": [
    "**Question 3.** Let's say we have a fruit basket that can contain at most 150 fruits. We pick 150 fruits (without replacement) from the farm and place it in our fruit basket using the sampling you chose in question 2 above. Write a function called `pick_150_fruits` that simulates this. Specifically, the function should take no arguments and should return an array of 150 fruits selected as per your choice in question 2."
   ]
  },
  {
   "cell_type": "code",
   "execution_count": 15,
   "metadata": {},
   "outputs": [],
   "source": [
    "# Place your answer here. It may contain several lines of code.\n"
   ]
  },
  {
   "cell_type": "code",
   "execution_count": 16,
   "metadata": {},
   "outputs": [],
   "source": [
    "#: grade 2.3\n",
    "_ = ok.grade('q2_3')"
   ]
  },
  {
   "cell_type": "markdown",
   "metadata": {},
   "source": [
    "**Question 4.** As we mentioned, we're interested in knowing the true proportion of apples in the farm. But we can pick only 150 fruits at a time in our fruit basket. Hence, we simulate this experiment in 500 trials. For each trial, we decide to calculate the proportion of apples in our basket. Simulate the experiment and store the *array* of proportions in the variable `apples_empirical_props`."
   ]
  },
  {
   "cell_type": "code",
   "execution_count": 17,
   "metadata": {},
   "outputs": [],
   "source": [
    "# Place your answer here. It may contain several lines of code.\n"
   ]
  },
  {
   "cell_type": "code",
   "execution_count": 18,
   "metadata": {},
   "outputs": [],
   "source": [
    "#: grade 2.4\n",
    "_ = ok.grade('q2_4')"
   ]
  },
  {
   "cell_type": "markdown",
   "metadata": {},
   "source": [
    "**Question 5.** Now, compute the average of `apples_empirical_props`. You claim that this average is a good estimate of the proportion of apples in the farm. Store your proportion in `apples_claim_prop`."
   ]
  },
  {
   "cell_type": "code",
   "execution_count": 19,
   "metadata": {},
   "outputs": [],
   "source": [
    "apples_claim_prop = ...\n",
    "apples_claim_prop"
   ]
  },
  {
   "cell_type": "code",
   "execution_count": 20,
   "metadata": {},
   "outputs": [],
   "source": [
    "#: grade 2.5\n",
    "_ = ok.grade('q2_5')"
   ]
  },
  {
   "cell_type": "markdown",
   "metadata": {},
   "source": [
    "**Question 6.**  How far away is your claim from the true proportion of apples. Compute the absolute difference between the two and store it in the variable `error`. Remember that you calculated the true proportion of apples in Question 1."
   ]
  },
  {
   "cell_type": "code",
   "execution_count": 21,
   "metadata": {},
   "outputs": [],
   "source": [
    "error = ...\n",
    "error"
   ]
  },
  {
   "cell_type": "code",
   "execution_count": 22,
   "metadata": {},
   "outputs": [],
   "source": [
    "#: grade 2.6\n",
    "_ = ok.grade('q2_6')"
   ]
  },
  {
   "cell_type": "markdown",
   "metadata": {},
   "source": [
    "## 3. Broken Phones"
   ]
  },
  {
   "cell_type": "markdown",
   "metadata": {},
   "source": [
    "A phone manufacturing company claims that it produces phones that are 99% non-faulty. In other words, only 1% of the phones that they manufacture have some fault in them. They open a retail shop in the friendly neighbourhood of La Jolla. Because the phones are cheap and nice, 100 UCSD students have bought phones at this shop. However, it is soon discovered that four of the students had faulty phones. You're angry and argue that the company's claim is wrong. But the company is adament that they are right. You decide to investigate."
   ]
  },
  {
   "cell_type": "markdown",
   "metadata": {},
   "source": [
    "**Question 1.** Assign `null_probabilities` to a two-item *array* such that the first element contains the chance of a phone being non-faulty and the second element contains the chance that the phone is faulty under the **null hypothesis**."
   ]
  },
  {
   "cell_type": "code",
   "execution_count": 23,
   "metadata": {},
   "outputs": [],
   "source": [
    "null_probabilities = ...\n",
    "null_probabilities"
   ]
  },
  {
   "cell_type": "code",
   "execution_count": 24,
   "metadata": {},
   "outputs": [],
   "source": [
    "#: grade 3.1\n",
    "_ = ok.grade('q3_1')"
   ]
  },
  {
   "cell_type": "markdown",
   "metadata": {},
   "source": [
    "**Question 2.** Simulate the buying of 100 phones 5,000 times, using the proportions that you assigned to `null_probabilities`. Create an *array* `simulations` with the number of faulty phones in each simulation.\n",
    "\n",
    "Note that the number of faulty phones in a simulation of sample size $x$ is the proportion of faulty phones in the simulation multiplied by $x$.\n",
    "\n",
    "*Hint:* Use `sample_proportions()`."
   ]
  },
  {
   "cell_type": "code",
   "execution_count": 25,
   "metadata": {},
   "outputs": [],
   "source": [
    "# Place your answer here. It may contain several lines of code.\n"
   ]
  },
  {
   "cell_type": "code",
   "execution_count": 26,
   "metadata": {},
   "outputs": [],
   "source": [
    "#: Consider the resulting histogram of the fault_statistics array\n",
    "Table().with_column(\"Faulty Statistic\", simulations).hist(bins=np.arange(8))"
   ]
  },
  {
   "cell_type": "code",
   "execution_count": 27,
   "metadata": {},
   "outputs": [],
   "source": [
    "#: grade 3.2\n",
    "_ = ok.grade('q3_2')"
   ]
  },
  {
   "cell_type": "markdown",
   "metadata": {},
   "source": [
    "**Question 3.** Using the results of your simulation, calculate an estimate of the p-value, i.e., the probability of observing four or more faulty phones under the null hypothesis. Assign your answer to `p_value_3_3`"
   ]
  },
  {
   "cell_type": "code",
   "execution_count": 28,
   "metadata": {},
   "outputs": [],
   "source": [
    "p_value_3_3 = ...\n",
    "p_value_3_3"
   ]
  },
  {
   "cell_type": "code",
   "execution_count": 29,
   "metadata": {},
   "outputs": [],
   "source": [
    "#: grade 3.3\n",
    "_ = ok.grade('q3_3')"
   ]
  },
  {
   "cell_type": "markdown",
   "metadata": {},
   "source": [
    "**Question 4.** Given the results of your above experiment, do you reject the null hypothesis? Explain why."
   ]
  },
  {
   "cell_type": "markdown",
   "metadata": {},
   "source": [
    "<hr style=\"color:Maroon;background-color:Maroon;border:0 none; height: 3px;\">\n",
    "\n",
    "*Write your answer here.*\n",
    "\n",
    "<hr style=\"color:Maroon;background-color:Maroon;border:0 none; height: 3px;\">"
   ]
  },
  {
   "cell_type": "markdown",
   "metadata": {},
   "source": [
    "## 4. Bias towards customers"
   ]
  },
  {
   "cell_type": "markdown",
   "metadata": {},
   "source": [
    "The insurance company LivLife10 classifies its customers into 3 categories - low-income, mid-income and high-income. The company claims that it treats all of its customers equally and makes no compromises on the quality of the products that it provides. You know that the company has 10,000 customers, 40% of which are low-income customers, 30% mid-income and 30% high-income customers. However, over the past year, 60% of the complaints that the company has received are from low-income customers, 30% from mid-income customers and 10% from high-income customers. "
   ]
  },
  {
   "cell_type": "code",
   "execution_count": 30,
   "metadata": {},
   "outputs": [],
   "source": [
    "#: Don't change the below three lines\n",
    "type_of_customers = [\"low-income\", \"mid-income\", \"high-income\"]\n",
    "proportion_of_customers = np.array([0.4, 0.3, 0.3])\n",
    "proportion_of_complaints = np.array([0.6, 0.3, 0.1])\n",
    "\n",
    "insurance_customers = Table().with_columns(\n",
    "                        \"Type of Customers\", type_of_customers,\n",
    "                        \"Proportion of Customers\", proportion_of_customers,\n",
    "                        \"Proportion of Complaints\", proportion_of_complaints)\n",
    "insurance_customers"
   ]
  },
  {
   "cell_type": "markdown",
   "metadata": {},
   "source": [
    "You have a suspicion that the insurance company is biased towards its high-income customers. That is, the insurance company is providing a better product to the high-income customers than to others. A better product is one that generates lesser complaints. You decide to test your idea. Your null hypothesis is:\n",
    "\n",
    "**Null hypothesis**: The complaints are drawn from the population according to the proportion of customers which are low-, mid-, and high-income."
   ]
  },
  {
   "cell_type": "markdown",
   "metadata": {},
   "source": [
    "**Question 1.** What is the expected proportion of complaints that should be heard from the high-income customers under the null hypothesis? Assign your answer to `complaints_proportion_null`."
   ]
  },
  {
   "cell_type": "code",
   "execution_count": 31,
   "metadata": {},
   "outputs": [],
   "source": [
    "complaints_proportion_null = ...\n",
    "complaints_proportion_null"
   ]
  },
  {
   "cell_type": "code",
   "execution_count": 32,
   "metadata": {},
   "outputs": [],
   "source": [
    "#: grade 4.1\n",
    "_ = ok.grade('q4_1')"
   ]
  },
  {
   "cell_type": "markdown",
   "metadata": {},
   "source": [
    "**Question 2.** You wish to check the bias in the insurance company towards different categories of customers. However, there are three categories of customers: high-, mid-, and low-income. Which among the following do you think is **not** a reasonable choice of test statistic for your hypothesis. You may include more than one answer. Append all your choices in a *list* called `unreasonable_test_statistics`. For example, if you think statistics 1, 2, and 3 are unreasonable, you should have `unreasonable_test_statistics = [1,2,3]`\n",
    "\n",
    "1. Average of the absolute difference between proportion of customers and proportion of corresponding complaints\n",
    "2. The total number of complaints that the company has received in the past year\n",
    "3. The absolute difference between the sum of proportion of customers and the sum of proportion of corresponding complaints\n",
    "4. The total variation distance between the probability distribution of customers and the distribution of complaints\n",
    "5. Sum of the absolute difference between proportion of customers and proportion of corresponding complaints\n",
    "6. Average of the sum of the proportion of customers and the proportion of corresponding complaints"
   ]
  },
  {
   "cell_type": "code",
   "execution_count": 33,
   "metadata": {},
   "outputs": [],
   "source": [
    "unreasonable_test_statistics = ...\n",
    "unreasonable_test_statistics"
   ]
  },
  {
   "cell_type": "code",
   "execution_count": 34,
   "metadata": {},
   "outputs": [],
   "source": [
    "#: grade 4.2\n",
    "_ = ok.grade('q4_2')"
   ]
  },
  {
   "cell_type": "markdown",
   "metadata": {},
   "source": [
    "**Question 3.** Say you went ahead with the total variation distance as your test statistic\n",
    "\n",
    "Write a function called `total_variation_distance` that takes in two probability distributions as arrays and calculates the total variation distance between them."
   ]
  },
  {
   "cell_type": "code",
   "execution_count": 35,
   "metadata": {},
   "outputs": [],
   "source": [
    "# Place your answer here. It may contain several lines of code.\n"
   ]
  },
  {
   "cell_type": "code",
   "execution_count": 36,
   "metadata": {},
   "outputs": [],
   "source": [
    "#: Use the below code to test your function\n",
    "total_variation_distance(np.array([1,0,0]), np.array([0,0,1]))  # Output should be 1.0"
   ]
  },
  {
   "cell_type": "code",
   "execution_count": 37,
   "metadata": {},
   "outputs": [],
   "source": [
    "#: grade 4.3\n",
    "_ = ok.grade('q4_3')"
   ]
  },
  {
   "cell_type": "markdown",
   "metadata": {},
   "source": [
    "**Question 4.** Write a simulation which computes the TVD statistic 5000 times on data generated under the null hypothesis. Save the simulated statistics in an *array* called `empirical_tvds`.\n",
    "\n",
    "*Hint:* Use `sample_proportions`."
   ]
  },
  {
   "cell_type": "code",
   "execution_count": 38,
   "metadata": {},
   "outputs": [],
   "source": [
    "# Place your answer here. It may contain several lines of code.\n"
   ]
  },
  {
   "cell_type": "code",
   "execution_count": 39,
   "metadata": {},
   "outputs": [],
   "source": [
    "#: grade 4.4\n",
    "_ = ok.grade('q4_4')"
   ]
  },
  {
   "cell_type": "markdown",
   "metadata": {},
   "source": [
    "**Question 5.** Calculate the total variation distance in the actual scenario, that is, the observed scenario. Save the result in `observed_tvd`."
   ]
  },
  {
   "cell_type": "code",
   "execution_count": 40,
   "metadata": {},
   "outputs": [],
   "source": [
    "observed_tvd = ...\n",
    "observed_tvd"
   ]
  },
  {
   "cell_type": "markdown",
   "metadata": {},
   "source": [
    "Let us plot a histogram of `empirical_tvds` and compare that to our `observed_tvd`"
   ]
  },
  {
   "cell_type": "code",
   "execution_count": 41,
   "metadata": {},
   "outputs": [],
   "source": [
    "#: Visualize\n",
    "Table().with_column(\"Empirical TVDs\", empirical_tvds).hist()\n",
    "plt.scatter(observed_tvd, 0, color='red', s=30)"
   ]
  },
  {
   "cell_type": "code",
   "execution_count": 42,
   "metadata": {},
   "outputs": [],
   "source": [
    "#: grade 4.5\n",
    "_ = ok.grade('q4_5')"
   ]
  },
  {
   "cell_type": "markdown",
   "metadata": {},
   "source": [
    "**Question 6.** Recall that the null hypothesis was that the complaints are drawn from the population according to the proportion of customers which where low-, mid-, and high-income.\n",
    "Looking at the histogram above, do you think it is likely that the null hypothesis is true? Write your answer in the variable `insurance_claim_true`. The value of the boolean variable should be `True` if you agree that the null hypothesis is true, and `False` otherwise."
   ]
  },
  {
   "cell_type": "code",
   "execution_count": 43,
   "metadata": {},
   "outputs": [],
   "source": [
    "insurance_claim_true = ...\n",
    "insurance_claim_true"
   ]
  },
  {
   "cell_type": "code",
   "execution_count": 44,
   "metadata": {},
   "outputs": [],
   "source": [
    "#: grade 4.6\n",
    "_ = ok.grade('q4_6')"
   ]
  },
  {
   "cell_type": "markdown",
   "metadata": {},
   "source": [
    "**Question 7.** Does rejecting the null hypothesis in this case prove (or otherwise highly suggest) that the company is biased in its treatment of customers? Why or why not?"
   ]
  },
  {
   "cell_type": "markdown",
   "metadata": {},
   "source": [
    "<hr style=\"color:Maroon;background-color:Maroon;border:0 none; height: 3px;\">\n",
    "\n",
    "*Write your answer here.*\n",
    "\n",
    "<hr style=\"color:Maroon;background-color:Maroon;border:0 none; height: 3px;\">"
   ]
  },
  {
   "cell_type": "markdown",
   "metadata": {},
   "source": [
    "## 5. Loaded Die"
   ]
  },
  {
   "cell_type": "markdown",
   "metadata": {},
   "source": [
    "... And we are back to rolling dice! A loaded die is one that is unfair, i.e., does not have equal probability for each of the outcomes 1–6 (inclusive)."
   ]
  },
  {
   "cell_type": "markdown",
   "metadata": {},
   "source": [
    "**Question 1.** Your friend Aby has a model that says that the die is loaded in a way such that the probability of \"1\" coming up is 0.5 and all the other values have the same probabilities. \n",
    "\n",
    "Write down Aby's model's distribution as an *array*. It should contain 6 elements, each describing the probability of seeing the corresponding face of the die, and it should sum to 1."
   ]
  },
  {
   "cell_type": "code",
   "execution_count": 45,
   "metadata": {},
   "outputs": [],
   "source": [
    "aby_hypothesis_model_distribution = ...\n",
    "aby_hypothesis_model_distribution"
   ]
  },
  {
   "cell_type": "code",
   "execution_count": 46,
   "metadata": {},
   "outputs": [],
   "source": [
    "#: grade 5.1\n",
    "_ = ok.grade('q5_1')"
   ]
  },
  {
   "cell_type": "markdown",
   "metadata": {},
   "source": [
    "**Question 2.** Say we want to test Aby's model. In particular, we wish to test if the probability of \"1\" coming up is 0.5. We roll the die 10 times and we got \"1\" a whopping 8 times. We claim that Aby's model is wrong. In order to substantiate our claim, we run a simulation of the die-roll.\n",
    "\n",
    "Write a simulation and run it 5000 times, maintaining an array `differences` which keeps track of the absolute difference between number of '1's that were seen and the expected number (5) in each simulation."
   ]
  },
  {
   "cell_type": "code",
   "execution_count": 47,
   "metadata": {},
   "outputs": [],
   "source": [
    "# Place your answer here. It may contain several lines of code.\n"
   ]
  },
  {
   "cell_type": "code",
   "execution_count": 48,
   "metadata": {},
   "outputs": [],
   "source": [
    "#: Visualize with a histogram\n",
    "Table().with_column(\"Difference\", differences).hist(bins=np.arange(8))"
   ]
  },
  {
   "cell_type": "code",
   "execution_count": 49,
   "metadata": {},
   "outputs": [],
   "source": [
    "#: grade 5.2\n",
    "_ = ok.grade('q5_2')"
   ]
  },
  {
   "cell_type": "markdown",
   "metadata": {},
   "source": [
    "**Question 3.** Recall that we saw the die come up \"1\" eight times. Set the variable `null_hypothesis_boolean` below to `True` if you think Aby's model is plausible or `False` if it should be rejected."
   ]
  },
  {
   "cell_type": "code",
   "execution_count": 50,
   "metadata": {},
   "outputs": [],
   "source": [
    "null_hypothesis_boolean = ...\n",
    "null_hypothesis_boolean"
   ]
  },
  {
   "cell_type": "code",
   "execution_count": 51,
   "metadata": {},
   "outputs": [],
   "source": [
    "#: grade 5.3\n",
    "_ = ok.grade('q5_3')"
   ]
  },
  {
   "cell_type": "markdown",
   "metadata": {},
   "source": [
    "**Question 4.** Now, we check the p-value of our claim. That is, compute the proportion of times in our simulation that we saw a difference of 3 or more between the number of '1's and the expected number of '1's. Assign your result to `p_value_5_4`"
   ]
  },
  {
   "cell_type": "code",
   "execution_count": 52,
   "metadata": {},
   "outputs": [],
   "source": [
    "p_value_5_4 = ...\n",
    "p_value_5_4"
   ]
  },
  {
   "cell_type": "code",
   "execution_count": 53,
   "metadata": {},
   "outputs": [],
   "source": [
    "#: grade 5.4\n",
    "_ = ok.grade('q5_4')"
   ]
  },
  {
   "cell_type": "markdown",
   "metadata": {},
   "source": [
    "To submit:\n",
    "\n",
    "1. Select `Run All` from the `Cell` menu to ensure that you have executed all cells, including the test cells.\n",
    "3. Read through the notebook to make sure everything is fine.\n",
    "4. Submit using the cell below.\n",
    "5. Save PDF and submit to gradescope"
   ]
  },
  {
   "cell_type": "code",
   "execution_count": 54,
   "metadata": {},
   "outputs": [],
   "source": [
    "#: For your convenience, you can run this cell to run all the tests at once!\n",
    "import os\n",
    "_ = [ok.grade(q[:-3]) for q in os.listdir('tests') if q.startswith('q')]"
   ]
  },
  {
   "cell_type": "markdown",
   "metadata": {},
   "source": [
    "## Before submitting, select \"Kernel\" -> \"Restart & Run All\" from the menu!\n",
    "\n",
    "Then make sure that all of your cells ran without error."
   ]
  },
  {
   "cell_type": "code",
   "execution_count": null,
   "metadata": {},
   "outputs": [],
   "source": [
    "#: submit your notebook\n",
    "_ = ok.submit()"
   ]
  },
  {
   "cell_type": "markdown",
   "metadata": {},
   "source": [
    "## Don't forget to submit to both OK and Gradescope!"
   ]
  }
 ],
 "metadata": {
  "kernelspec": {
   "display_name": "Python 3",
   "language": "python",
   "name": "python3"
  },
  "language_info": {
   "codemirror_mode": {
    "name": "ipython",
    "version": 3
   },
   "file_extension": ".py",
   "mimetype": "text/x-python",
   "name": "python",
   "nbconvert_exporter": "python",
   "pygments_lexer": "ipython3",
   "version": "3.7.0"
  }
 },
 "nbformat": 4,
 "nbformat_minor": 2
}
