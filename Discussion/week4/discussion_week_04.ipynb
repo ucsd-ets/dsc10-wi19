{
 "cells": [
  {
   "cell_type": "markdown",
   "metadata": {},
   "source": [
    "# What have we learned so far?\n",
    "---\n",
    "\n",
    "1. Python\n",
    "  - Assigning variables\n",
    "  - Working with data types\n",
    "  - Calling functions\n",
    "  - Defining functions\n",
    "  - If... elif... else...\n",
    "  - For i in np.arange...\n",
    "2. Arrays\n",
    "  - Creating arrays (same type!)\n",
    "  - Operations between arrays (add, mult)\n",
    "  - Adding elements to arrays (using np.append)\n",
    "3. Tables\n",
    "  - Reading tables\n",
    "  - Creating new tables\n",
    "  - Grabbing data from columns\n",
    "  - Creating a copy with additional columns\n",
    "  - Creating a copy with only certain columns\n",
    "  - Creating a copy with only certain rows\n",
    "  - Creating a copy with rows grouped on a column and a collection function\n",
    "  - Creating a pivot table on two columns and a collection function\n",
    "  - Applying a function that takes the elements in a column(s) as parameters\n",
    "4. Plots\n",
    "  - Creating bar charts from 'category' and 'y' columns\n",
    "  - Creating scatter plots and line plots from 'x' and 'y' columns\n",
    "  - Creating histograms to count occurrences/density"
   ]
  },
  {
   "cell_type": "markdown",
   "metadata": {},
   "source": [
    "---\n",
    "\n",
    "So... that's a lot of stuff when you write it out, but you'll be getting a cheat-sheet with the syntax of any functions we've used.  All you need to know is what they do and what they're useful for."
   ]
  },
  {
   "cell_type": "markdown",
   "metadata": {},
   "source": [
    "# Before we begin: Any questions about recent things in class?\n",
    "---\n",
    "\n",
    "We don't necessarily need to get through this entire notebook, you can treat it more as a practice test that we're doing together.\n",
    "\n",
    "What's most important is that we're all solid on the information covered in lecture, that way we can figure out how to apply it to various datasets and find answers to questions!\n",
    "\n",
    "Anything and everything that you're unclear about, ask about it now!  No need to be shy, there are definitely others worried about the same thing."
   ]
  },
  {
   "cell_type": "code",
   "execution_count": null,
   "metadata": {},
   "outputs": [],
   "source": []
  },
  {
   "cell_type": "code",
   "execution_count": null,
   "metadata": {},
   "outputs": [],
   "source": []
  },
  {
   "cell_type": "code",
   "execution_count": null,
   "metadata": {},
   "outputs": [],
   "source": []
  },
  {
   "cell_type": "markdown",
   "metadata": {},
   "source": [
    "# Tonight's Dataset:\n",
    "---\n",
    "\n",
    "From kaggle user Randi H Griffin:\n",
    ">This is a historical dataset on the modern Olympic Games, including all the Games from Athens 1896 to Rio 2016. I scraped this data from www.sports-reference.com in May 2018. The R code I used to scrape and wrangle the data is on GitHub. I recommend checking my kernel before starting your own analysis.\n",
    ">\n",
    ">Note that the Winter and Summer Games were held in the same year up until 1992. After that, they staggered them such that Winter Games occur on a four year cycle starting with 1994, then Summer in 1996, then Winter in 1998, and so on. A common mistake people make when analyzing this data is to assume that the Summer and Winter Games have always been staggered.\n",
    "Content\n",
    ">\n",
    ">The file athlete_events.csv contains 271116 rows and 15 columns. Each row corresponds to an individual athlete competing in an individual Olympic event (athlete-events). The columns are:\n",
    ">\n",
    ">1. ID - Unique number for each athlete  \n",
    ">2. Name - Athlete's name  \n",
    ">3. Sex - M or F  \n",
    ">4. Age - Integer  \n",
    ">5. Height - In centimeters  \n",
    ">6. Weight - In kilograms  \n",
    ">7. Team - Team name  \n",
    ">8. NOC - National Olympic Committee 3-letter code  \n",
    ">9. Games - Year and season  \n",
    ">10. Year - Integer  \n",
    ">11. Season - Summer or Winter  \n",
    ">12. City - Host city  \n",
    ">13. Sport - Sport  \n",
    ">14. Event - Event  \n",
    ">15. Medal - Gold, Silver, Bronze, or NA  \n"
   ]
  },
  {
   "cell_type": "markdown",
   "metadata": {},
   "source": [
    "# Getting the data\n",
    "---\n",
    "\n",
    "It's in a file called `athlete_events.csv`"
   ]
  },
  {
   "cell_type": "code",
   "execution_count": 2,
   "metadata": {},
   "outputs": [],
   "source": [
    "from datascience import *\n",
    "import numpy as np\n",
    "%matplotlib inline"
   ]
  },
  {
   "cell_type": "code",
   "execution_count": 3,
   "metadata": {},
   "outputs": [],
   "source": [
    "data = Table.read_table(\"athlete_events.csv\")"
   ]
  },
  {
   "cell_type": "code",
   "execution_count": 4,
   "metadata": {},
   "outputs": [
    {
     "data": {
      "text/html": [
       "<table border=\"1\" class=\"dataframe\">\n",
       "    <thead>\n",
       "        <tr>\n",
       "            <th>ID</th> <th>Name</th> <th>Sex</th> <th>Age</th> <th>Height</th> <th>Weight</th> <th>Team</th> <th>NOC</th> <th>Games</th> <th>Year</th> <th>Season</th> <th>City</th> <th>Sport</th> <th>Event</th> <th>Medal</th>\n",
       "        </tr>\n",
       "    </thead>\n",
       "    <tbody>\n",
       "        <tr>\n",
       "            <td>1   </td> <td>A Dijiang               </td> <td>M   </td> <td>24  </td> <td>180   </td> <td>80    </td> <td>China         </td> <td>CHN </td> <td>1992 Summer</td> <td>1992</td> <td>Summer</td> <td>Barcelona  </td> <td>Basketball   </td> <td>Basketball Men's Basketball       </td> <td>nan  </td>\n",
       "        </tr>\n",
       "        <tr>\n",
       "            <td>2   </td> <td>A Lamusi                </td> <td>M   </td> <td>23  </td> <td>170   </td> <td>60    </td> <td>China         </td> <td>CHN </td> <td>2012 Summer</td> <td>2012</td> <td>Summer</td> <td>London     </td> <td>Judo         </td> <td>Judo Men's Extra-Lightweight      </td> <td>nan  </td>\n",
       "        </tr>\n",
       "        <tr>\n",
       "            <td>3   </td> <td>Gunnar Nielsen Aaby     </td> <td>M   </td> <td>24  </td> <td>nan   </td> <td>nan   </td> <td>Denmark       </td> <td>DEN </td> <td>1920 Summer</td> <td>1920</td> <td>Summer</td> <td>Antwerpen  </td> <td>Football     </td> <td>Football Men's Football           </td> <td>nan  </td>\n",
       "        </tr>\n",
       "        <tr>\n",
       "            <td>4   </td> <td>Edgar Lindenau Aabye    </td> <td>M   </td> <td>34  </td> <td>nan   </td> <td>nan   </td> <td>Denmark/Sweden</td> <td>DEN </td> <td>1900 Summer</td> <td>1900</td> <td>Summer</td> <td>Paris      </td> <td>Tug-Of-War   </td> <td>Tug-Of-War Men's Tug-Of-War       </td> <td>Gold </td>\n",
       "        </tr>\n",
       "        <tr>\n",
       "            <td>5   </td> <td>Christine Jacoba Aaftink</td> <td>F   </td> <td>21  </td> <td>185   </td> <td>82    </td> <td>Netherlands   </td> <td>NED </td> <td>1988 Winter</td> <td>1988</td> <td>Winter</td> <td>Calgary    </td> <td>Speed Skating</td> <td>Speed Skating Women's 500 metres  </td> <td>nan  </td>\n",
       "        </tr>\n",
       "        <tr>\n",
       "            <td>5   </td> <td>Christine Jacoba Aaftink</td> <td>F   </td> <td>21  </td> <td>185   </td> <td>82    </td> <td>Netherlands   </td> <td>NED </td> <td>1988 Winter</td> <td>1988</td> <td>Winter</td> <td>Calgary    </td> <td>Speed Skating</td> <td>Speed Skating Women's 1,000 metres</td> <td>nan  </td>\n",
       "        </tr>\n",
       "        <tr>\n",
       "            <td>5   </td> <td>Christine Jacoba Aaftink</td> <td>F   </td> <td>25  </td> <td>185   </td> <td>82    </td> <td>Netherlands   </td> <td>NED </td> <td>1992 Winter</td> <td>1992</td> <td>Winter</td> <td>Albertville</td> <td>Speed Skating</td> <td>Speed Skating Women's 500 metres  </td> <td>nan  </td>\n",
       "        </tr>\n",
       "        <tr>\n",
       "            <td>5   </td> <td>Christine Jacoba Aaftink</td> <td>F   </td> <td>25  </td> <td>185   </td> <td>82    </td> <td>Netherlands   </td> <td>NED </td> <td>1992 Winter</td> <td>1992</td> <td>Winter</td> <td>Albertville</td> <td>Speed Skating</td> <td>Speed Skating Women's 1,000 metres</td> <td>nan  </td>\n",
       "        </tr>\n",
       "        <tr>\n",
       "            <td>5   </td> <td>Christine Jacoba Aaftink</td> <td>F   </td> <td>27  </td> <td>185   </td> <td>82    </td> <td>Netherlands   </td> <td>NED </td> <td>1994 Winter</td> <td>1994</td> <td>Winter</td> <td>Lillehammer</td> <td>Speed Skating</td> <td>Speed Skating Women's 500 metres  </td> <td>nan  </td>\n",
       "        </tr>\n",
       "        <tr>\n",
       "            <td>5   </td> <td>Christine Jacoba Aaftink</td> <td>F   </td> <td>27  </td> <td>185   </td> <td>82    </td> <td>Netherlands   </td> <td>NED </td> <td>1994 Winter</td> <td>1994</td> <td>Winter</td> <td>Lillehammer</td> <td>Speed Skating</td> <td>Speed Skating Women's 1,000 metres</td> <td>nan  </td>\n",
       "        </tr>\n",
       "    </tbody>\n",
       "</table>\n",
       "<p>... (271106 rows omitted)</p>"
      ],
      "text/plain": [
       "ID   | Name                     | Sex  | Age  | Height | Weight | Team           | NOC  | Games       | Year | Season | City        | Sport         | Event                              | Medal\n",
       "1    | A Dijiang                | M    | 24   | 180    | 80     | China          | CHN  | 1992 Summer | 1992 | Summer | Barcelona   | Basketball    | Basketball Men's Basketball        | nan\n",
       "2    | A Lamusi                 | M    | 23   | 170    | 60     | China          | CHN  | 2012 Summer | 2012 | Summer | London      | Judo          | Judo Men's Extra-Lightweight       | nan\n",
       "3    | Gunnar Nielsen Aaby      | M    | 24   | nan    | nan    | Denmark        | DEN  | 1920 Summer | 1920 | Summer | Antwerpen   | Football      | Football Men's Football            | nan\n",
       "4    | Edgar Lindenau Aabye     | M    | 34   | nan    | nan    | Denmark/Sweden | DEN  | 1900 Summer | 1900 | Summer | Paris       | Tug-Of-War    | Tug-Of-War Men's Tug-Of-War        | Gold\n",
       "5    | Christine Jacoba Aaftink | F    | 21   | 185    | 82     | Netherlands    | NED  | 1988 Winter | 1988 | Winter | Calgary     | Speed Skating | Speed Skating Women's 500 metres   | nan\n",
       "5    | Christine Jacoba Aaftink | F    | 21   | 185    | 82     | Netherlands    | NED  | 1988 Winter | 1988 | Winter | Calgary     | Speed Skating | Speed Skating Women's 1,000 metres | nan\n",
       "5    | Christine Jacoba Aaftink | F    | 25   | 185    | 82     | Netherlands    | NED  | 1992 Winter | 1992 | Winter | Albertville | Speed Skating | Speed Skating Women's 500 metres   | nan\n",
       "5    | Christine Jacoba Aaftink | F    | 25   | 185    | 82     | Netherlands    | NED  | 1992 Winter | 1992 | Winter | Albertville | Speed Skating | Speed Skating Women's 1,000 metres | nan\n",
       "5    | Christine Jacoba Aaftink | F    | 27   | 185    | 82     | Netherlands    | NED  | 1994 Winter | 1994 | Winter | Lillehammer | Speed Skating | Speed Skating Women's 500 metres   | nan\n",
       "5    | Christine Jacoba Aaftink | F    | 27   | 185    | 82     | Netherlands    | NED  | 1994 Winter | 1994 | Winter | Lillehammer | Speed Skating | Speed Skating Women's 1,000 metres | nan\n",
       "... (271106 rows omitted)"
      ]
     },
     "execution_count": 4,
     "metadata": {},
     "output_type": "execute_result"
    }
   ],
   "source": [
    "data"
   ]
  },
  {
   "cell_type": "markdown",
   "metadata": {},
   "source": [
    "I think it might be annoying to have the non-staggered years prior to 1992.  So let's look at only years after 1992."
   ]
  },
  {
   "cell_type": "code",
   "execution_count": 7,
   "metadata": {},
   "outputs": [],
   "source": [
    "data = data.where(\"Year\", are.above(1992))"
   ]
  },
  {
   "cell_type": "code",
   "execution_count": 8,
   "metadata": {},
   "outputs": [
    {
     "data": {
      "text/html": [
       "<table border=\"1\" class=\"dataframe\">\n",
       "    <thead>\n",
       "        <tr>\n",
       "            <th>ID</th> <th>Name</th> <th>Sex</th> <th>Age</th> <th>Height</th> <th>Weight</th> <th>Team</th> <th>NOC</th> <th>Games</th> <th>Year</th> <th>Season</th> <th>City</th> <th>Sport</th> <th>Event</th> <th>Medal</th>\n",
       "        </tr>\n",
       "    </thead>\n",
       "    <tbody>\n",
       "        <tr>\n",
       "            <td>2   </td> <td>A Lamusi                </td> <td>M   </td> <td>23  </td> <td>170   </td> <td>60    </td> <td>China        </td> <td>CHN </td> <td>2012 Summer</td> <td>2012</td> <td>Summer</td> <td>London     </td> <td>Judo                </td> <td>Judo Men's Extra-Lightweight                       </td> <td>nan  </td>\n",
       "        </tr>\n",
       "        <tr>\n",
       "            <td>5   </td> <td>Christine Jacoba Aaftink</td> <td>F   </td> <td>27  </td> <td>185   </td> <td>82    </td> <td>Netherlands  </td> <td>NED </td> <td>1994 Winter</td> <td>1994</td> <td>Winter</td> <td>Lillehammer</td> <td>Speed Skating       </td> <td>Speed Skating Women's 500 metres                   </td> <td>nan  </td>\n",
       "        </tr>\n",
       "        <tr>\n",
       "            <td>5   </td> <td>Christine Jacoba Aaftink</td> <td>F   </td> <td>27  </td> <td>185   </td> <td>82    </td> <td>Netherlands  </td> <td>NED </td> <td>1994 Winter</td> <td>1994</td> <td>Winter</td> <td>Lillehammer</td> <td>Speed Skating       </td> <td>Speed Skating Women's 1,000 metres                 </td> <td>nan  </td>\n",
       "        </tr>\n",
       "        <tr>\n",
       "            <td>6   </td> <td>Per Knut Aaland         </td> <td>M   </td> <td>33  </td> <td>188   </td> <td>75    </td> <td>United States</td> <td>USA </td> <td>1994 Winter</td> <td>1994</td> <td>Winter</td> <td>Lillehammer</td> <td>Cross Country Skiing</td> <td>Cross Country Skiing Men's 10 kilometres           </td> <td>nan  </td>\n",
       "        </tr>\n",
       "        <tr>\n",
       "            <td>6   </td> <td>Per Knut Aaland         </td> <td>M   </td> <td>33  </td> <td>188   </td> <td>75    </td> <td>United States</td> <td>USA </td> <td>1994 Winter</td> <td>1994</td> <td>Winter</td> <td>Lillehammer</td> <td>Cross Country Skiing</td> <td>Cross Country Skiing Men's 30 kilometres           </td> <td>nan  </td>\n",
       "        </tr>\n",
       "        <tr>\n",
       "            <td>6   </td> <td>Per Knut Aaland         </td> <td>M   </td> <td>33  </td> <td>188   </td> <td>75    </td> <td>United States</td> <td>USA </td> <td>1994 Winter</td> <td>1994</td> <td>Winter</td> <td>Lillehammer</td> <td>Cross Country Skiing</td> <td>Cross Country Skiing Men's 10/15 kilometres Pursuit</td> <td>nan  </td>\n",
       "        </tr>\n",
       "        <tr>\n",
       "            <td>6   </td> <td>Per Knut Aaland         </td> <td>M   </td> <td>33  </td> <td>188   </td> <td>75    </td> <td>United States</td> <td>USA </td> <td>1994 Winter</td> <td>1994</td> <td>Winter</td> <td>Lillehammer</td> <td>Cross Country Skiing</td> <td>Cross Country Skiing Men's 4 x 10 kilometres Relay </td> <td>nan  </td>\n",
       "        </tr>\n",
       "        <tr>\n",
       "            <td>7   </td> <td>John Aalberg            </td> <td>M   </td> <td>33  </td> <td>183   </td> <td>72    </td> <td>United States</td> <td>USA </td> <td>1994 Winter</td> <td>1994</td> <td>Winter</td> <td>Lillehammer</td> <td>Cross Country Skiing</td> <td>Cross Country Skiing Men's 10 kilometres           </td> <td>nan  </td>\n",
       "        </tr>\n",
       "        <tr>\n",
       "            <td>7   </td> <td>John Aalberg            </td> <td>M   </td> <td>33  </td> <td>183   </td> <td>72    </td> <td>United States</td> <td>USA </td> <td>1994 Winter</td> <td>1994</td> <td>Winter</td> <td>Lillehammer</td> <td>Cross Country Skiing</td> <td>Cross Country Skiing Men's 30 kilometres           </td> <td>nan  </td>\n",
       "        </tr>\n",
       "        <tr>\n",
       "            <td>7   </td> <td>John Aalberg            </td> <td>M   </td> <td>33  </td> <td>183   </td> <td>72    </td> <td>United States</td> <td>USA </td> <td>1994 Winter</td> <td>1994</td> <td>Winter</td> <td>Lillehammer</td> <td>Cross Country Skiing</td> <td>Cross Country Skiing Men's 10/15 kilometres Pursuit</td> <td>nan  </td>\n",
       "        </tr>\n",
       "    </tbody>\n",
       "</table>\n",
       "<p>... (105793 rows omitted)</p>"
      ],
      "text/plain": [
       "ID   | Name                     | Sex  | Age  | Height | Weight | Team          | NOC  | Games       | Year | Season | City        | Sport                | Event                                               | Medal\n",
       "2    | A Lamusi                 | M    | 23   | 170    | 60     | China         | CHN  | 2012 Summer | 2012 | Summer | London      | Judo                 | Judo Men's Extra-Lightweight                        | nan\n",
       "5    | Christine Jacoba Aaftink | F    | 27   | 185    | 82     | Netherlands   | NED  | 1994 Winter | 1994 | Winter | Lillehammer | Speed Skating        | Speed Skating Women's 500 metres                    | nan\n",
       "5    | Christine Jacoba Aaftink | F    | 27   | 185    | 82     | Netherlands   | NED  | 1994 Winter | 1994 | Winter | Lillehammer | Speed Skating        | Speed Skating Women's 1,000 metres                  | nan\n",
       "6    | Per Knut Aaland          | M    | 33   | 188    | 75     | United States | USA  | 1994 Winter | 1994 | Winter | Lillehammer | Cross Country Skiing | Cross Country Skiing Men's 10 kilometres            | nan\n",
       "6    | Per Knut Aaland          | M    | 33   | 188    | 75     | United States | USA  | 1994 Winter | 1994 | Winter | Lillehammer | Cross Country Skiing | Cross Country Skiing Men's 30 kilometres            | nan\n",
       "6    | Per Knut Aaland          | M    | 33   | 188    | 75     | United States | USA  | 1994 Winter | 1994 | Winter | Lillehammer | Cross Country Skiing | Cross Country Skiing Men's 10/15 kilometres Pursuit | nan\n",
       "6    | Per Knut Aaland          | M    | 33   | 188    | 75     | United States | USA  | 1994 Winter | 1994 | Winter | Lillehammer | Cross Country Skiing | Cross Country Skiing Men's 4 x 10 kilometres Relay  | nan\n",
       "7    | John Aalberg             | M    | 33   | 183    | 72     | United States | USA  | 1994 Winter | 1994 | Winter | Lillehammer | Cross Country Skiing | Cross Country Skiing Men's 10 kilometres            | nan\n",
       "7    | John Aalberg             | M    | 33   | 183    | 72     | United States | USA  | 1994 Winter | 1994 | Winter | Lillehammer | Cross Country Skiing | Cross Country Skiing Men's 30 kilometres            | nan\n",
       "7    | John Aalberg             | M    | 33   | 183    | 72     | United States | USA  | 1994 Winter | 1994 | Winter | Lillehammer | Cross Country Skiing | Cross Country Skiing Men's 10/15 kilometres Pursuit | nan\n",
       "... (105793 rows omitted)"
      ]
     },
     "execution_count": 8,
     "metadata": {},
     "output_type": "execute_result"
    }
   ],
   "source": [
    "data"
   ]
  },
  {
   "cell_type": "markdown",
   "metadata": {},
   "source": [
    "Alright.  We got rid of a lot data (and notice that we got rid of many of Christine Jacoba Aaftink's games), but it should be more manageable now.\n",
    "\n",
    "Also, while we're at it, let's ignore rows with \"mismatched\" values.  You don't *need* to know how this next code block works, but feel free to follow along."
   ]
  },
  {
   "cell_type": "code",
   "execution_count": 9,
   "metadata": {},
   "outputs": [
    {
     "data": {
      "text/html": [
       "<table border=\"1\" class=\"dataframe\">\n",
       "    <thead>\n",
       "        <tr>\n",
       "            <th>ID</th> <th>Name</th> <th>Sex</th> <th>Age</th> <th>Height</th> <th>Weight</th> <th>Team</th> <th>NOC</th> <th>Games</th> <th>Year</th> <th>Season</th> <th>City</th> <th>Sport</th> <th>Event</th> <th>Medal</th>\n",
       "        </tr>\n",
       "    </thead>\n",
       "    <tbody>\n",
       "        <tr>\n",
       "            <td>[14130]</td> <td>['Grayson Hugh Bourne']</td> <td>['M']</td> <td>[ nan]</td> <td>[ nan] </td> <td>[ nan]</td> <td>['Great Britain']</td> <td>['GBR']</td> <td>['1996 Summer']</td> <td>[1996]</td> <td>['Summer']</td> <td>['Atlanta']</td> <td>['Canoeing']  </td> <td>[\"Canoeing Men's Kayak Doubles, 1,000 metres\"]</td> <td>['nan']</td>\n",
       "        </tr>\n",
       "        <tr>\n",
       "            <td>[19504]</td> <td>['Cha Yong-Hwa']       </td> <td>['F']</td> <td>[ nan]</td> <td>[ 145.]</td> <td>[ 39.]</td> <td>['North Korea']  </td> <td>['PRK']</td> <td>['2008 Summer']</td> <td>[2008]</td> <td>['Summer']</td> <td>['Beijing']</td> <td>['Gymnastics']</td> <td>[\"Gymnastics Women's Individual All-Around\"]  </td> <td>['nan']</td>\n",
       "        </tr>\n",
       "        <tr>\n",
       "            <td>[19504]</td> <td>['Cha Yong-Hwa']       </td> <td>['F']</td> <td>[ nan]</td> <td>[ 145.]</td> <td>[ 39.]</td> <td>['North Korea']  </td> <td>['PRK']</td> <td>['2008 Summer']</td> <td>[2008]</td> <td>['Summer']</td> <td>['Beijing']</td> <td>['Gymnastics']</td> <td>[\"Gymnastics Women's Uneven Bars\"]            </td> <td>['nan']</td>\n",
       "        </tr>\n",
       "    </tbody>\n",
       "</table>"
      ],
      "text/plain": [
       "<IPython.core.display.HTML object>"
      ]
     },
     "metadata": {},
     "output_type": "display_data"
    },
    {
     "name": "stdout",
     "output_type": "stream",
     "text": [
      "We're getting rid of rows like these!\n"
     ]
    }
   ],
   "source": [
    "nans = np.argwhere(np.isnan(data.column(\"Age\")))\n",
    "data.take(nans[:3]).show() # This line is just to show us what these mismatched rows look like\n",
    "print(\"We're getting rid of rows like these!\")\n",
    "data = data.exclude(nans.flatten())"
   ]
  },
  {
   "cell_type": "markdown",
   "metadata": {},
   "source": [
    "# Repeat Participants vs One-Timers\n",
    "---\n",
    "\n",
    "Who showed up multiple times?  Who only showed up once?\n",
    "\n",
    "Can we get a table of just those people and their data?"
   ]
  },
  {
   "cell_type": "code",
   "execution_count": 10,
   "metadata": {},
   "outputs": [
    {
     "data": {
      "text/html": [
       "<table border=\"1\" class=\"dataframe\">\n",
       "    <thead>\n",
       "        <tr>\n",
       "            <th>Name</th> <th>count</th>\n",
       "        </tr>\n",
       "    </thead>\n",
       "    <tbody>\n",
       "        <tr>\n",
       "            <td>  Gabrielle Marie \"Gabby\" Adcock (White-)</td> <td>1    </td>\n",
       "        </tr>\n",
       "        <tr>\n",
       "            <td> Th Anh                                  </td> <td>1    </td>\n",
       "        </tr>\n",
       "        <tr>\n",
       "            <td> Th Ngn Thng                             </td> <td>7    </td>\n",
       "        </tr>\n",
       "        <tr>\n",
       "            <td>A Lamusi                                 </td> <td>1    </td>\n",
       "        </tr>\n",
       "        <tr>\n",
       "            <td>A. J. Tyronne Benildus \"Benny\" Fernando  </td> <td>1    </td>\n",
       "        </tr>\n",
       "        <tr>\n",
       "            <td>A. Joshua \"Josh\" West                    </td> <td>2    </td>\n",
       "        </tr>\n",
       "        <tr>\n",
       "            <td>Aa Bela Joaquim                          </td> <td>1    </td>\n",
       "        </tr>\n",
       "        <tr>\n",
       "            <td>Aadam Ismaeel Khamis                     </td> <td>1    </td>\n",
       "        </tr>\n",
       "        <tr>\n",
       "            <td>Aadjijatmiko Finarsih H.                 </td> <td>1    </td>\n",
       "        </tr>\n",
       "        <tr>\n",
       "            <td>Aagje Vanwalleghem                       </td> <td>5    </td>\n",
       "        </tr>\n",
       "    </tbody>\n",
       "</table>\n",
       "<p>... (53940 rows omitted)</p>"
      ],
      "text/plain": [
       "Name                                      | count\n",
       "  Gabrielle Marie \"Gabby\" Adcock (White-) | 1\n",
       " Th Anh                                   | 1\n",
       " Th Ngn Thng                              | 7\n",
       "A Lamusi                                  | 1\n",
       "A. J. Tyronne Benildus \"Benny\" Fernando   | 1\n",
       "A. Joshua \"Josh\" West                     | 2\n",
       "Aa Bela Joaquim                           | 1\n",
       "Aadam Ismaeel Khamis                      | 1\n",
       "Aadjijatmiko Finarsih H.                  | 1\n",
       "Aagje Vanwalleghem                        | 5\n",
       "... (53940 rows omitted)"
      ]
     },
     "execution_count": 10,
     "metadata": {},
     "output_type": "execute_result"
    }
   ],
   "source": [
    "# Let's get how many times each person was in the dataset\n",
    "counts = data.group(\"Name\")\n",
    "counts"
   ]
  },
  {
   "cell_type": "markdown",
   "metadata": {},
   "source": [
    "How do add that counts column to our table of full data?  *Hint: Something you learned on Tuesday.*"
   ]
  },
  {
   "cell_type": "code",
   "execution_count": 11,
   "metadata": {},
   "outputs": [
    {
     "data": {
      "text/html": [
       "<table border=\"1\" class=\"dataframe\">\n",
       "    <thead>\n",
       "        <tr>\n",
       "            <th>Name</th> <th>ID</th> <th>Sex</th> <th>Age</th> <th>Height</th> <th>Weight</th> <th>Team</th> <th>NOC</th> <th>Games</th> <th>Year</th> <th>Season</th> <th>City</th> <th>Sport</th> <th>Event</th> <th>Medal</th> <th>count</th>\n",
       "        </tr>\n",
       "    </thead>\n",
       "    <tbody>\n",
       "        <tr>\n",
       "            <td>A Lamusi                </td> <td>2   </td> <td>M   </td> <td>23  </td> <td>170   </td> <td>60    </td> <td>China        </td> <td>CHN </td> <td>2012 Summer</td> <td>2012</td> <td>Summer</td> <td>London     </td> <td>Judo                </td> <td>Judo Men's Extra-Lightweight                       </td> <td>nan  </td> <td>1    </td>\n",
       "        </tr>\n",
       "        <tr>\n",
       "            <td>Christine Jacoba Aaftink</td> <td>5   </td> <td>F   </td> <td>27  </td> <td>185   </td> <td>82    </td> <td>Netherlands  </td> <td>NED </td> <td>1994 Winter</td> <td>1994</td> <td>Winter</td> <td>Lillehammer</td> <td>Speed Skating       </td> <td>Speed Skating Women's 500 metres                   </td> <td>nan  </td> <td>2    </td>\n",
       "        </tr>\n",
       "        <tr>\n",
       "            <td>Christine Jacoba Aaftink</td> <td>5   </td> <td>F   </td> <td>27  </td> <td>185   </td> <td>82    </td> <td>Netherlands  </td> <td>NED </td> <td>1994 Winter</td> <td>1994</td> <td>Winter</td> <td>Lillehammer</td> <td>Speed Skating       </td> <td>Speed Skating Women's 1,000 metres                 </td> <td>nan  </td> <td>2    </td>\n",
       "        </tr>\n",
       "        <tr>\n",
       "            <td>Per Knut Aaland         </td> <td>6   </td> <td>M   </td> <td>33  </td> <td>188   </td> <td>75    </td> <td>United States</td> <td>USA </td> <td>1994 Winter</td> <td>1994</td> <td>Winter</td> <td>Lillehammer</td> <td>Cross Country Skiing</td> <td>Cross Country Skiing Men's 10 kilometres           </td> <td>nan  </td> <td>4    </td>\n",
       "        </tr>\n",
       "        <tr>\n",
       "            <td>Per Knut Aaland         </td> <td>6   </td> <td>M   </td> <td>33  </td> <td>188   </td> <td>75    </td> <td>United States</td> <td>USA </td> <td>1994 Winter</td> <td>1994</td> <td>Winter</td> <td>Lillehammer</td> <td>Cross Country Skiing</td> <td>Cross Country Skiing Men's 30 kilometres           </td> <td>nan  </td> <td>4    </td>\n",
       "        </tr>\n",
       "        <tr>\n",
       "            <td>Per Knut Aaland         </td> <td>6   </td> <td>M   </td> <td>33  </td> <td>188   </td> <td>75    </td> <td>United States</td> <td>USA </td> <td>1994 Winter</td> <td>1994</td> <td>Winter</td> <td>Lillehammer</td> <td>Cross Country Skiing</td> <td>Cross Country Skiing Men's 10/15 kilometres Pursuit</td> <td>nan  </td> <td>4    </td>\n",
       "        </tr>\n",
       "        <tr>\n",
       "            <td>Per Knut Aaland         </td> <td>6   </td> <td>M   </td> <td>33  </td> <td>188   </td> <td>75    </td> <td>United States</td> <td>USA </td> <td>1994 Winter</td> <td>1994</td> <td>Winter</td> <td>Lillehammer</td> <td>Cross Country Skiing</td> <td>Cross Country Skiing Men's 4 x 10 kilometres Relay </td> <td>nan  </td> <td>4    </td>\n",
       "        </tr>\n",
       "        <tr>\n",
       "            <td>John Aalberg            </td> <td>7   </td> <td>M   </td> <td>33  </td> <td>183   </td> <td>72    </td> <td>United States</td> <td>USA </td> <td>1994 Winter</td> <td>1994</td> <td>Winter</td> <td>Lillehammer</td> <td>Cross Country Skiing</td> <td>Cross Country Skiing Men's 10 kilometres           </td> <td>nan  </td> <td>4    </td>\n",
       "        </tr>\n",
       "        <tr>\n",
       "            <td>John Aalberg            </td> <td>7   </td> <td>M   </td> <td>33  </td> <td>183   </td> <td>72    </td> <td>United States</td> <td>USA </td> <td>1994 Winter</td> <td>1994</td> <td>Winter</td> <td>Lillehammer</td> <td>Cross Country Skiing</td> <td>Cross Country Skiing Men's 30 kilometres           </td> <td>nan  </td> <td>4    </td>\n",
       "        </tr>\n",
       "        <tr>\n",
       "            <td>John Aalberg            </td> <td>7   </td> <td>M   </td> <td>33  </td> <td>183   </td> <td>72    </td> <td>United States</td> <td>USA </td> <td>1994 Winter</td> <td>1994</td> <td>Winter</td> <td>Lillehammer</td> <td>Cross Country Skiing</td> <td>Cross Country Skiing Men's 10/15 kilometres Pursuit</td> <td>nan  </td> <td>4    </td>\n",
       "        </tr>\n",
       "    </tbody>\n",
       "</table>\n",
       "<p>... (105778 rows omitted)</p>"
      ],
      "text/plain": [
       "Name                     | ID   | Sex  | Age  | Height | Weight | Team          | NOC  | Games       | Year | Season | City        | Sport                | Event                                               | Medal | count\n",
       "A Lamusi                 | 2    | M    | 23   | 170    | 60     | China         | CHN  | 2012 Summer | 2012 | Summer | London      | Judo                 | Judo Men's Extra-Lightweight                        | nan   | 1\n",
       "Christine Jacoba Aaftink | 5    | F    | 27   | 185    | 82     | Netherlands   | NED  | 1994 Winter | 1994 | Winter | Lillehammer | Speed Skating        | Speed Skating Women's 500 metres                    | nan   | 2\n",
       "Christine Jacoba Aaftink | 5    | F    | 27   | 185    | 82     | Netherlands   | NED  | 1994 Winter | 1994 | Winter | Lillehammer | Speed Skating        | Speed Skating Women's 1,000 metres                  | nan   | 2\n",
       "Per Knut Aaland          | 6    | M    | 33   | 188    | 75     | United States | USA  | 1994 Winter | 1994 | Winter | Lillehammer | Cross Country Skiing | Cross Country Skiing Men's 10 kilometres            | nan   | 4\n",
       "Per Knut Aaland          | 6    | M    | 33   | 188    | 75     | United States | USA  | 1994 Winter | 1994 | Winter | Lillehammer | Cross Country Skiing | Cross Country Skiing Men's 30 kilometres            | nan   | 4\n",
       "Per Knut Aaland          | 6    | M    | 33   | 188    | 75     | United States | USA  | 1994 Winter | 1994 | Winter | Lillehammer | Cross Country Skiing | Cross Country Skiing Men's 10/15 kilometres Pursuit | nan   | 4\n",
       "Per Knut Aaland          | 6    | M    | 33   | 188    | 75     | United States | USA  | 1994 Winter | 1994 | Winter | Lillehammer | Cross Country Skiing | Cross Country Skiing Men's 4 x 10 kilometres Relay  | nan   | 4\n",
       "John Aalberg             | 7    | M    | 33   | 183    | 72     | United States | USA  | 1994 Winter | 1994 | Winter | Lillehammer | Cross Country Skiing | Cross Country Skiing Men's 10 kilometres            | nan   | 4\n",
       "John Aalberg             | 7    | M    | 33   | 183    | 72     | United States | USA  | 1994 Winter | 1994 | Winter | Lillehammer | Cross Country Skiing | Cross Country Skiing Men's 30 kilometres            | nan   | 4\n",
       "John Aalberg             | 7    | M    | 33   | 183    | 72     | United States | USA  | 1994 Winter | 1994 | Winter | Lillehammer | Cross Country Skiing | Cross Country Skiing Men's 10/15 kilometres Pursuit | nan   | 4\n",
       "... (105778 rows omitted)"
      ]
     },
     "execution_count": 11,
     "metadata": {},
     "output_type": "execute_result"
    }
   ],
   "source": [
    "# How to get just the names that have count > 1?\n",
    "# We can join counts to our original dataset!\n",
    "\n",
    "data_with_counts = data.join(\"Name\", counts, \"Name\")\n",
    "data_with_counts.sort(\"ID\")"
   ]
  },
  {
   "cell_type": "markdown",
   "metadata": {},
   "source": [
    "And now we want just the data of people who were repeat participants."
   ]
  },
  {
   "cell_type": "code",
   "execution_count": 12,
   "metadata": {},
   "outputs": [
    {
     "data": {
      "text/html": [
       "<table border=\"1\" class=\"dataframe\">\n",
       "    <thead>\n",
       "        <tr>\n",
       "            <th>Name</th> <th>ID</th> <th>Sex</th> <th>Age</th> <th>Height</th> <th>Weight</th> <th>Team</th> <th>NOC</th> <th>Games</th> <th>Year</th> <th>Season</th> <th>City</th> <th>Sport</th> <th>Event</th> <th>Medal</th> <th>count</th>\n",
       "        </tr>\n",
       "    </thead>\n",
       "    <tbody>\n",
       "        <tr>\n",
       "            <td> Th Ngn Thng         </td> <td>29843 </td> <td>F   </td> <td>19  </td> <td>147   </td> <td>47    </td> <td>Vietnam      </td> <td>VIE </td> <td>2008 Summer</td> <td>2008</td> <td>Summer</td> <td>Beijing</td> <td>Gymnastics</td> <td>Gymnastics Women's Individual All-Around</td> <td>nan   </td> <td>7    </td>\n",
       "        </tr>\n",
       "        <tr>\n",
       "            <td> Th Ngn Thng         </td> <td>29843 </td> <td>F   </td> <td>19  </td> <td>147   </td> <td>47    </td> <td>Vietnam      </td> <td>VIE </td> <td>2008 Summer</td> <td>2008</td> <td>Summer</td> <td>Beijing</td> <td>Gymnastics</td> <td>Gymnastics Women's Floor Exercise       </td> <td>nan   </td> <td>7    </td>\n",
       "        </tr>\n",
       "        <tr>\n",
       "            <td> Th Ngn Thng         </td> <td>29843 </td> <td>F   </td> <td>19  </td> <td>147   </td> <td>47    </td> <td>Vietnam      </td> <td>VIE </td> <td>2008 Summer</td> <td>2008</td> <td>Summer</td> <td>Beijing</td> <td>Gymnastics</td> <td>Gymnastics Women's Horse Vault          </td> <td>nan   </td> <td>7    </td>\n",
       "        </tr>\n",
       "        <tr>\n",
       "            <td> Th Ngn Thng         </td> <td>29843 </td> <td>F   </td> <td>19  </td> <td>147   </td> <td>47    </td> <td>Vietnam      </td> <td>VIE </td> <td>2008 Summer</td> <td>2008</td> <td>Summer</td> <td>Beijing</td> <td>Gymnastics</td> <td>Gymnastics Women's Uneven Bars          </td> <td>nan   </td> <td>7    </td>\n",
       "        </tr>\n",
       "        <tr>\n",
       "            <td> Th Ngn Thng         </td> <td>29843 </td> <td>F   </td> <td>19  </td> <td>147   </td> <td>47    </td> <td>Vietnam      </td> <td>VIE </td> <td>2008 Summer</td> <td>2008</td> <td>Summer</td> <td>Beijing</td> <td>Gymnastics</td> <td>Gymnastics Women's Balance Beam         </td> <td>nan   </td> <td>7    </td>\n",
       "        </tr>\n",
       "        <tr>\n",
       "            <td> Th Ngn Thng         </td> <td>29843 </td> <td>F   </td> <td>23  </td> <td>147   </td> <td>47    </td> <td>Vietnam      </td> <td>VIE </td> <td>2012 Summer</td> <td>2012</td> <td>Summer</td> <td>London </td> <td>Gymnastics</td> <td>Gymnastics Women's Uneven Bars          </td> <td>nan   </td> <td>7    </td>\n",
       "        </tr>\n",
       "        <tr>\n",
       "            <td> Th Ngn Thng         </td> <td>29843 </td> <td>F   </td> <td>23  </td> <td>147   </td> <td>47    </td> <td>Vietnam      </td> <td>VIE </td> <td>2012 Summer</td> <td>2012</td> <td>Summer</td> <td>London </td> <td>Gymnastics</td> <td>Gymnastics Women's Balance Beam         </td> <td>nan   </td> <td>7    </td>\n",
       "        </tr>\n",
       "        <tr>\n",
       "            <td>A. Joshua \"Josh\" West</td> <td>129771</td> <td>M   </td> <td>27  </td> <td>207   </td> <td>105   </td> <td>Great Britain</td> <td>GBR </td> <td>2004 Summer</td> <td>2004</td> <td>Summer</td> <td>Athina </td> <td>Rowing    </td> <td>Rowing Men's Coxed Eights               </td> <td>nan   </td> <td>2    </td>\n",
       "        </tr>\n",
       "        <tr>\n",
       "            <td>A. Joshua \"Josh\" West</td> <td>129771</td> <td>M   </td> <td>31  </td> <td>207   </td> <td>105   </td> <td>Great Britain</td> <td>GBR </td> <td>2008 Summer</td> <td>2008</td> <td>Summer</td> <td>Beijing</td> <td>Rowing    </td> <td>Rowing Men's Coxed Eights               </td> <td>Silver</td> <td>2    </td>\n",
       "        </tr>\n",
       "        <tr>\n",
       "            <td>Aagje Vanwalleghem   </td> <td>125174</td> <td>F   </td> <td>16  </td> <td>155   </td> <td>43    </td> <td>Belgium      </td> <td>BEL </td> <td>2004 Summer</td> <td>2004</td> <td>Summer</td> <td>Athina </td> <td>Gymnastics</td> <td>Gymnastics Women's Individual All-Around</td> <td>nan   </td> <td>5    </td>\n",
       "        </tr>\n",
       "    </tbody>\n",
       "</table>\n",
       "<p>... (74702 rows omitted)</p>"
      ],
      "text/plain": [
       "Name                  | ID     | Sex  | Age  | Height | Weight | Team          | NOC  | Games       | Year | Season | City    | Sport      | Event                                    | Medal  | count\n",
       " Th Ngn Thng          | 29843  | F    | 19   | 147    | 47     | Vietnam       | VIE  | 2008 Summer | 2008 | Summer | Beijing | Gymnastics | Gymnastics Women's Individual All-Around | nan    | 7\n",
       " Th Ngn Thng          | 29843  | F    | 19   | 147    | 47     | Vietnam       | VIE  | 2008 Summer | 2008 | Summer | Beijing | Gymnastics | Gymnastics Women's Floor Exercise        | nan    | 7\n",
       " Th Ngn Thng          | 29843  | F    | 19   | 147    | 47     | Vietnam       | VIE  | 2008 Summer | 2008 | Summer | Beijing | Gymnastics | Gymnastics Women's Horse Vault           | nan    | 7\n",
       " Th Ngn Thng          | 29843  | F    | 19   | 147    | 47     | Vietnam       | VIE  | 2008 Summer | 2008 | Summer | Beijing | Gymnastics | Gymnastics Women's Uneven Bars           | nan    | 7\n",
       " Th Ngn Thng          | 29843  | F    | 19   | 147    | 47     | Vietnam       | VIE  | 2008 Summer | 2008 | Summer | Beijing | Gymnastics | Gymnastics Women's Balance Beam          | nan    | 7\n",
       " Th Ngn Thng          | 29843  | F    | 23   | 147    | 47     | Vietnam       | VIE  | 2012 Summer | 2012 | Summer | London  | Gymnastics | Gymnastics Women's Uneven Bars           | nan    | 7\n",
       " Th Ngn Thng          | 29843  | F    | 23   | 147    | 47     | Vietnam       | VIE  | 2012 Summer | 2012 | Summer | London  | Gymnastics | Gymnastics Women's Balance Beam          | nan    | 7\n",
       "A. Joshua \"Josh\" West | 129771 | M    | 27   | 207    | 105    | Great Britain | GBR  | 2004 Summer | 2004 | Summer | Athina  | Rowing     | Rowing Men's Coxed Eights                | nan    | 2\n",
       "A. Joshua \"Josh\" West | 129771 | M    | 31   | 207    | 105    | Great Britain | GBR  | 2008 Summer | 2008 | Summer | Beijing | Rowing     | Rowing Men's Coxed Eights                | Silver | 2\n",
       "Aagje Vanwalleghem    | 125174 | F    | 16   | 155    | 43     | Belgium       | BEL  | 2004 Summer | 2004 | Summer | Athina  | Gymnastics | Gymnastics Women's Individual All-Around | nan    | 5\n",
       "... (74702 rows omitted)"
      ]
     },
     "execution_count": 12,
     "metadata": {},
     "output_type": "execute_result"
    }
   ],
   "source": [
    "# Now as simple as .where(\"count\", are.above(1))\n",
    "\n",
    "data_with_counts.where(\"count\", are.above(1))"
   ]
  },
  {
   "cell_type": "markdown",
   "metadata": {},
   "source": [
    "# Beginning Age --> Repeat or One-Timer?\n",
    "---\n",
    "\n",
    "Can we tell if you'll participate in the Olympics again based on your age?"
   ]
  },
  {
   "cell_type": "code",
   "execution_count": 13,
   "metadata": {},
   "outputs": [
    {
     "data": {
      "text/html": [
       "<table border=\"1\" class=\"dataframe\">\n",
       "    <thead>\n",
       "        <tr>\n",
       "            <th>Name</th> <th>ID</th> <th>Sex</th> <th>Age</th> <th>Height</th> <th>Weight</th> <th>Team</th> <th>NOC</th> <th>Games</th> <th>Year</th> <th>Season</th> <th>City</th> <th>Sport</th> <th>Event</th> <th>Medal</th> <th>count</th>\n",
       "        </tr>\n",
       "    </thead>\n",
       "    <tbody>\n",
       "        <tr>\n",
       "            <td>Christine Jacoba Aaftink</td> <td>5   </td> <td>F   </td> <td>27  </td> <td>185   </td> <td>82    </td> <td>Netherlands  </td> <td>NED </td> <td>1994 Winter</td> <td>1994</td> <td>Winter</td> <td>Lillehammer</td> <td>Speed Skating       </td> <td>Speed Skating Women's 500 metres                   </td> <td>nan  </td> <td>2    </td>\n",
       "        </tr>\n",
       "        <tr>\n",
       "            <td>Christine Jacoba Aaftink</td> <td>5   </td> <td>F   </td> <td>27  </td> <td>185   </td> <td>82    </td> <td>Netherlands  </td> <td>NED </td> <td>1994 Winter</td> <td>1994</td> <td>Winter</td> <td>Lillehammer</td> <td>Speed Skating       </td> <td>Speed Skating Women's 1,000 metres                 </td> <td>nan  </td> <td>2    </td>\n",
       "        </tr>\n",
       "        <tr>\n",
       "            <td>Per Knut Aaland         </td> <td>6   </td> <td>M   </td> <td>33  </td> <td>188   </td> <td>75    </td> <td>United States</td> <td>USA </td> <td>1994 Winter</td> <td>1994</td> <td>Winter</td> <td>Lillehammer</td> <td>Cross Country Skiing</td> <td>Cross Country Skiing Men's 10 kilometres           </td> <td>nan  </td> <td>4    </td>\n",
       "        </tr>\n",
       "        <tr>\n",
       "            <td>Per Knut Aaland         </td> <td>6   </td> <td>M   </td> <td>33  </td> <td>188   </td> <td>75    </td> <td>United States</td> <td>USA </td> <td>1994 Winter</td> <td>1994</td> <td>Winter</td> <td>Lillehammer</td> <td>Cross Country Skiing</td> <td>Cross Country Skiing Men's 30 kilometres           </td> <td>nan  </td> <td>4    </td>\n",
       "        </tr>\n",
       "        <tr>\n",
       "            <td>Per Knut Aaland         </td> <td>6   </td> <td>M   </td> <td>33  </td> <td>188   </td> <td>75    </td> <td>United States</td> <td>USA </td> <td>1994 Winter</td> <td>1994</td> <td>Winter</td> <td>Lillehammer</td> <td>Cross Country Skiing</td> <td>Cross Country Skiing Men's 10/15 kilometres Pursuit</td> <td>nan  </td> <td>4    </td>\n",
       "        </tr>\n",
       "        <tr>\n",
       "            <td>Per Knut Aaland         </td> <td>6   </td> <td>M   </td> <td>33  </td> <td>188   </td> <td>75    </td> <td>United States</td> <td>USA </td> <td>1994 Winter</td> <td>1994</td> <td>Winter</td> <td>Lillehammer</td> <td>Cross Country Skiing</td> <td>Cross Country Skiing Men's 4 x 10 kilometres Relay </td> <td>nan  </td> <td>4    </td>\n",
       "        </tr>\n",
       "        <tr>\n",
       "            <td>John Aalberg            </td> <td>7   </td> <td>M   </td> <td>33  </td> <td>183   </td> <td>72    </td> <td>United States</td> <td>USA </td> <td>1994 Winter</td> <td>1994</td> <td>Winter</td> <td>Lillehammer</td> <td>Cross Country Skiing</td> <td>Cross Country Skiing Men's 10 kilometres           </td> <td>nan  </td> <td>4    </td>\n",
       "        </tr>\n",
       "        <tr>\n",
       "            <td>John Aalberg            </td> <td>7   </td> <td>M   </td> <td>33  </td> <td>183   </td> <td>72    </td> <td>United States</td> <td>USA </td> <td>1994 Winter</td> <td>1994</td> <td>Winter</td> <td>Lillehammer</td> <td>Cross Country Skiing</td> <td>Cross Country Skiing Men's 30 kilometres           </td> <td>nan  </td> <td>4    </td>\n",
       "        </tr>\n",
       "        <tr>\n",
       "            <td>John Aalberg            </td> <td>7   </td> <td>M   </td> <td>33  </td> <td>183   </td> <td>72    </td> <td>United States</td> <td>USA </td> <td>1994 Winter</td> <td>1994</td> <td>Winter</td> <td>Lillehammer</td> <td>Cross Country Skiing</td> <td>Cross Country Skiing Men's 10/15 kilometres Pursuit</td> <td>nan  </td> <td>4    </td>\n",
       "        </tr>\n",
       "        <tr>\n",
       "            <td>John Aalberg            </td> <td>7   </td> <td>M   </td> <td>33  </td> <td>183   </td> <td>72    </td> <td>United States</td> <td>USA </td> <td>1994 Winter</td> <td>1994</td> <td>Winter</td> <td>Lillehammer</td> <td>Cross Country Skiing</td> <td>Cross Country Skiing Men's 4 x 10 kilometres Relay </td> <td>nan  </td> <td>4    </td>\n",
       "        </tr>\n",
       "    </tbody>\n",
       "</table>\n",
       "<p>... (74702 rows omitted)</p>"
      ],
      "text/plain": [
       "Name                     | ID   | Sex  | Age  | Height | Weight | Team          | NOC  | Games       | Year | Season | City        | Sport                | Event                                               | Medal | count\n",
       "Christine Jacoba Aaftink | 5    | F    | 27   | 185    | 82     | Netherlands   | NED  | 1994 Winter | 1994 | Winter | Lillehammer | Speed Skating        | Speed Skating Women's 500 metres                    | nan   | 2\n",
       "Christine Jacoba Aaftink | 5    | F    | 27   | 185    | 82     | Netherlands   | NED  | 1994 Winter | 1994 | Winter | Lillehammer | Speed Skating        | Speed Skating Women's 1,000 metres                  | nan   | 2\n",
       "Per Knut Aaland          | 6    | M    | 33   | 188    | 75     | United States | USA  | 1994 Winter | 1994 | Winter | Lillehammer | Cross Country Skiing | Cross Country Skiing Men's 10 kilometres            | nan   | 4\n",
       "Per Knut Aaland          | 6    | M    | 33   | 188    | 75     | United States | USA  | 1994 Winter | 1994 | Winter | Lillehammer | Cross Country Skiing | Cross Country Skiing Men's 30 kilometres            | nan   | 4\n",
       "Per Knut Aaland          | 6    | M    | 33   | 188    | 75     | United States | USA  | 1994 Winter | 1994 | Winter | Lillehammer | Cross Country Skiing | Cross Country Skiing Men's 10/15 kilometres Pursuit | nan   | 4\n",
       "Per Knut Aaland          | 6    | M    | 33   | 188    | 75     | United States | USA  | 1994 Winter | 1994 | Winter | Lillehammer | Cross Country Skiing | Cross Country Skiing Men's 4 x 10 kilometres Relay  | nan   | 4\n",
       "John Aalberg             | 7    | M    | 33   | 183    | 72     | United States | USA  | 1994 Winter | 1994 | Winter | Lillehammer | Cross Country Skiing | Cross Country Skiing Men's 10 kilometres            | nan   | 4\n",
       "John Aalberg             | 7    | M    | 33   | 183    | 72     | United States | USA  | 1994 Winter | 1994 | Winter | Lillehammer | Cross Country Skiing | Cross Country Skiing Men's 30 kilometres            | nan   | 4\n",
       "John Aalberg             | 7    | M    | 33   | 183    | 72     | United States | USA  | 1994 Winter | 1994 | Winter | Lillehammer | Cross Country Skiing | Cross Country Skiing Men's 10/15 kilometres Pursuit | nan   | 4\n",
       "John Aalberg             | 7    | M    | 33   | 183    | 72     | United States | USA  | 1994 Winter | 1994 | Winter | Lillehammer | Cross Country Skiing | Cross Country Skiing Men's 4 x 10 kilometres Relay  | nan   | 4\n",
       "... (74702 rows omitted)"
      ]
     },
     "execution_count": 13,
     "metadata": {},
     "output_type": "execute_result"
    }
   ],
   "source": [
    "# If someone showed up multiple times they were probability pretty young at their first match, right?\n",
    "# Let's find the avg min age of these repeat participants, and compare it to avg age of one-time participants\n",
    "\n",
    "repeats = data_with_counts.where(\"count\", are.above(1))\n",
    "onetimes = data_with_counts.where(\"count\", 1)\n",
    "\n",
    "repeats.sort(\"ID\")"
   ]
  },
  {
   "cell_type": "code",
   "execution_count": 14,
   "metadata": {},
   "outputs": [
    {
     "data": {
      "text/html": [
       "<table border=\"1\" class=\"dataframe\">\n",
       "    <thead>\n",
       "        <tr>\n",
       "            <th>Name</th> <th>Age min</th>\n",
       "        </tr>\n",
       "    </thead>\n",
       "    <tbody>\n",
       "        <tr>\n",
       "            <td> Th Ngn Thng          </td> <td>19     </td>\n",
       "        </tr>\n",
       "        <tr>\n",
       "            <td>A. Joshua \"Josh\" West </td> <td>27     </td>\n",
       "        </tr>\n",
       "        <tr>\n",
       "            <td>Aagje Vanwalleghem    </td> <td>16     </td>\n",
       "        </tr>\n",
       "        <tr>\n",
       "            <td>Aarn Sarmiento Padilla</td> <td>21     </td>\n",
       "        </tr>\n",
       "        <tr>\n",
       "            <td>Aaron Arthur Cook     </td> <td>17     </td>\n",
       "        </tr>\n",
       "        <tr>\n",
       "            <td>Aaron Brown           </td> <td>20     </td>\n",
       "        </tr>\n",
       "        <tr>\n",
       "            <td>Aaron Gate            </td> <td>21     </td>\n",
       "        </tr>\n",
       "        <tr>\n",
       "            <td>Aaron J. \"AJ\" Bear    </td> <td>25     </td>\n",
       "        </tr>\n",
       "        <tr>\n",
       "            <td>Aaron John McIntosh   </td> <td>24     </td>\n",
       "        </tr>\n",
       "        <tr>\n",
       "            <td>Aaron March           </td> <td>23     </td>\n",
       "        </tr>\n",
       "    </tbody>\n",
       "</table>\n",
       "<p>... (22864 rows omitted)</p>"
      ],
      "text/plain": [
       "Name                   | Age min\n",
       " Th Ngn Thng           | 19\n",
       "A. Joshua \"Josh\" West  | 27\n",
       "Aagje Vanwalleghem     | 16\n",
       "Aarn Sarmiento Padilla | 21\n",
       "Aaron Arthur Cook      | 17\n",
       "Aaron Brown            | 20\n",
       "Aaron Gate             | 21\n",
       "Aaron J. \"AJ\" Bear     | 25\n",
       "Aaron John McIntosh    | 24\n",
       "Aaron March            | 23\n",
       "... (22864 rows omitted)"
      ]
     },
     "execution_count": 14,
     "metadata": {},
     "output_type": "execute_result"
    }
   ],
   "source": [
    "# How will we take avg of min ages for all participants?\n",
    "# Well, by grouping of course!\n",
    "# Let's only select the columns we need\n",
    "min_ages_repeats = repeats.select(\"Name\", \"Age\").group(\"Name\", min)\n",
    "\n",
    "# Why don't we need to do any of that here?\n",
    "ages_onetimes = onetimes.select(\"Name\", \"Age\")\n",
    "\n",
    "min_ages_repeats"
   ]
  },
  {
   "cell_type": "code",
   "execution_count": 15,
   "metadata": {},
   "outputs": [
    {
     "name": "stdout",
     "output_type": "stream",
     "text": [
      "Average Beginning Age of Repeat Participants: 23.7112442074\n",
      "Average Age of One-Time Participants: 25.1096344446\n"
     ]
    }
   ],
   "source": [
    "# Now as simple as comparing the means of the Age columns in the two tables\n",
    "avg_min_age_repeats = np.mean(min_ages_repeats.column(\"Age min\"))\n",
    "avg_ages_onetimes = np.mean(ages_onetimes.column(\"Age\"))\n",
    "\n",
    "print(\"Average Beginning Age of Repeat Participants:\", avg_min_age_repeats)\n",
    "print(\"Average Age of One-Time Participants:\", avg_ages_onetimes)"
   ]
  },
  {
   "cell_type": "markdown",
   "metadata": {},
   "source": [
    "# Age distributions\n",
    "---"
   ]
  },
  {
   "cell_type": "code",
   "execution_count": 16,
   "metadata": {},
   "outputs": [
    {
     "data": {
      "image/png": "[encoded data removed]",
      "text/plain": [
       "<matplotlib.figure.Figure at 0x1a32904278>"
      ]
     },
     "metadata": {
      "needs_background": "light"
     },
     "output_type": "display_data"
    }
   ],
   "source": [
    "# Hmm... not as different as I would have expected.\n",
    "\n",
    "# Let's plot the ditributions to look into this further\n",
    "\n",
    "min_ages_repeats.hist(\"Age min\",bins=np.arange(10,61,5))"
   ]
  },
  {
   "cell_type": "code",
   "execution_count": 17,
   "metadata": {},
   "outputs": [
    {
     "data": {
      "image/png": "[encoded data removed]",
      "text/plain": [
       "<matplotlib.figure.Figure at 0x1a329282b0>"
      ]
     },
     "metadata": {
      "needs_background": "light"
     },
     "output_type": "display_data"
    }
   ],
   "source": [
    "ages_onetimes.hist(\"Age\",bins=np.arange(10,61,5))"
   ]
  },
  {
   "cell_type": "code",
   "execution_count": 14,
   "metadata": {
    "collapsed": true
   },
   "outputs": [
    {
     "ename": "ValueError",
     "evalue": "Column length mismatch. New column does not have the same number of rows as table.",
     "output_type": "error",
     "traceback": [
      "\u001b[0;31m---------------------------------------------------------------------------\u001b[0m",
      "\u001b[0;31mValueError\u001b[0m                                Traceback (most recent call last)",
      "\u001b[0;32m<ipython-input-14-2a10b9a00012>\u001b[0m in \u001b[0;36m<module>\u001b[0;34m()\u001b[0m\n\u001b[1;32m      3\u001b[0m ages = Table().with_columns(\n\u001b[1;32m      4\u001b[0m     \u001b[0;34m\"Repeats\"\u001b[0m\u001b[0;34m,\u001b[0m \u001b[0mmin_ages_repeats\u001b[0m\u001b[0;34m.\u001b[0m\u001b[0mcolumn\u001b[0m\u001b[0;34m(\u001b[0m\u001b[0;34m\"Age min\"\u001b[0m\u001b[0;34m)\u001b[0m\u001b[0;34m,\u001b[0m\u001b[0;34m\u001b[0m\u001b[0m\n\u001b[0;32m----> 5\u001b[0;31m     \u001b[0;34m\"Onetimes\"\u001b[0m\u001b[0;34m,\u001b[0m \u001b[0mages_onetimes\u001b[0m\u001b[0;34m.\u001b[0m\u001b[0mcolumn\u001b[0m\u001b[0;34m(\u001b[0m\u001b[0;34m\"Age\"\u001b[0m\u001b[0;34m)\u001b[0m\u001b[0;34m\u001b[0m\u001b[0m\n\u001b[0m\u001b[1;32m      6\u001b[0m )\n",
      "\u001b[0;32m/anaconda3/lib/python3.6/site-packages/datascience/tables.py\u001b[0m in \u001b[0;36mwith_columns\u001b[0;34m(self, *labels_and_values)\u001b[0m\n\u001b[1;32m   1681\u001b[0m         \u001b[0;32mfor\u001b[0m \u001b[0mi\u001b[0m \u001b[0;32min\u001b[0m \u001b[0mrange\u001b[0m\u001b[0;34m(\u001b[0m\u001b[0;36m0\u001b[0m\u001b[0;34m,\u001b[0m \u001b[0mlen\u001b[0m\u001b[0;34m(\u001b[0m\u001b[0mlabels_and_values\u001b[0m\u001b[0;34m)\u001b[0m\u001b[0;34m,\u001b[0m \u001b[0;36m2\u001b[0m\u001b[0;34m)\u001b[0m\u001b[0;34m:\u001b[0m\u001b[0;34m\u001b[0m\u001b[0m\n\u001b[1;32m   1682\u001b[0m             \u001b[0mlabel\u001b[0m\u001b[0;34m,\u001b[0m \u001b[0mvalues\u001b[0m \u001b[0;34m=\u001b[0m \u001b[0mlabels_and_values\u001b[0m\u001b[0;34m[\u001b[0m\u001b[0mi\u001b[0m\u001b[0;34m]\u001b[0m\u001b[0;34m,\u001b[0m \u001b[0mlabels_and_values\u001b[0m\u001b[0;34m[\u001b[0m\u001b[0mi\u001b[0m\u001b[0;34m+\u001b[0m\u001b[0;36m1\u001b[0m\u001b[0;34m]\u001b[0m\u001b[0;34m\u001b[0m\u001b[0m\n\u001b[0;32m-> 1683\u001b[0;31m             \u001b[0mself\u001b[0m \u001b[0;34m=\u001b[0m \u001b[0mself\u001b[0m\u001b[0;34m.\u001b[0m\u001b[0mwith_column\u001b[0m\u001b[0;34m(\u001b[0m\u001b[0mlabel\u001b[0m\u001b[0;34m,\u001b[0m \u001b[0mvalues\u001b[0m\u001b[0;34m)\u001b[0m\u001b[0;34m\u001b[0m\u001b[0m\n\u001b[0m\u001b[1;32m   1684\u001b[0m         \u001b[0;32mreturn\u001b[0m \u001b[0mself\u001b[0m\u001b[0;34m\u001b[0m\u001b[0m\n\u001b[1;32m   1685\u001b[0m \u001b[0;34m\u001b[0m\u001b[0m\n",
      "\u001b[0;32m/anaconda3/lib/python3.6/site-packages/datascience/tables.py\u001b[0m in \u001b[0;36mwith_column\u001b[0;34m(self, label, values, *rest)\u001b[0m\n\u001b[1;32m   1604\u001b[0m \u001b[0;34m\u001b[0m\u001b[0m\n\u001b[1;32m   1605\u001b[0m         \u001b[0mnew_table\u001b[0m \u001b[0;34m=\u001b[0m \u001b[0mself\u001b[0m\u001b[0;34m.\u001b[0m\u001b[0mcopy\u001b[0m\u001b[0;34m(\u001b[0m\u001b[0;34m)\u001b[0m\u001b[0;34m\u001b[0m\u001b[0m\n\u001b[0;32m-> 1606\u001b[0;31m         \u001b[0mnew_table\u001b[0m\u001b[0;34m.\u001b[0m\u001b[0mappend_column\u001b[0m\u001b[0;34m(\u001b[0m\u001b[0mlabel\u001b[0m\u001b[0;34m,\u001b[0m \u001b[0mvalues\u001b[0m\u001b[0;34m)\u001b[0m\u001b[0;34m\u001b[0m\u001b[0m\n\u001b[0m\u001b[1;32m   1607\u001b[0m         \u001b[0;32mreturn\u001b[0m \u001b[0mnew_table\u001b[0m\u001b[0;34m\u001b[0m\u001b[0m\n\u001b[1;32m   1608\u001b[0m \u001b[0;34m\u001b[0m\u001b[0m\n",
      "\u001b[0;32m/anaconda3/lib/python3.6/site-packages/datascience/tables.py\u001b[0m in \u001b[0;36mappend_column\u001b[0;34m(self, label, values)\u001b[0m\n\u001b[1;32m    484\u001b[0m \u001b[0;34m\u001b[0m\u001b[0m\n\u001b[1;32m    485\u001b[0m         \u001b[0;32mif\u001b[0m \u001b[0mself\u001b[0m\u001b[0;34m.\u001b[0m\u001b[0mnum_rows\u001b[0m \u001b[0;34m!=\u001b[0m \u001b[0;36m0\u001b[0m \u001b[0;32mand\u001b[0m \u001b[0mlen\u001b[0m\u001b[0;34m(\u001b[0m\u001b[0mvalues\u001b[0m\u001b[0;34m)\u001b[0m \u001b[0;34m!=\u001b[0m \u001b[0mself\u001b[0m\u001b[0;34m.\u001b[0m\u001b[0mnum_rows\u001b[0m\u001b[0;34m:\u001b[0m\u001b[0;34m\u001b[0m\u001b[0m\n\u001b[0;32m--> 486\u001b[0;31m             raise ValueError('Column length mismatch. New column does not have '\n\u001b[0m\u001b[1;32m    487\u001b[0m                              'the same number of rows as table.')\n\u001b[1;32m    488\u001b[0m         \u001b[0;32melse\u001b[0m\u001b[0;34m:\u001b[0m\u001b[0;34m\u001b[0m\u001b[0m\n",
      "\u001b[0;31mValueError\u001b[0m: Column length mismatch. New column does not have the same number of rows as table."
     ]
    }
   ],
   "source": [
    "# I want to overlay these, so let's put them in the same table\n",
    "\n",
    "ages = Table().with_columns(\n",
    "    \"Repeats\", min_ages_repeats.column(\"Age min\"),\n",
    "    \"Onetimes\", ages_onetimes.column(\"Age\")\n",
    ")"
   ]
  },
  {
   "cell_type": "markdown",
   "metadata": {},
   "source": [
    "There's another way to do it, you don't need to worry about matplotlib, but we will focus on the histograms.\n",
    "\n",
    "So, pay attention here, this is important!"
   ]
  },
  {
   "cell_type": "code",
   "execution_count": 15,
   "metadata": {},
   "outputs": [],
   "source": [
    "# Don't worry about these next code blocks, just focus on the histograms they create\n",
    "import matplotlib.pyplot as plt"
   ]
  },
  {
   "cell_type": "code",
   "execution_count": 30,
   "metadata": {},
   "outputs": [
    {
     "data": {
      "text/plain": [
       "([array([  5.07148166e-04,   3.09360381e-02,   9.66641892e-02,\n",
       "           5.32680453e-02,   1.30721812e-02,   3.26148734e-03,\n",
       "           1.45149303e-03,   5.42123902e-04,   2.01110480e-04,\n",
       "           5.24636034e-05,   4.37196695e-05]),\n",
       "  array([  2.63869224e-04,   1.80139014e-02,   8.13360793e-02,\n",
       "           6.83421290e-02,   2.45655812e-02,   5.43184451e-03,\n",
       "           1.40301197e-03,   4.69815935e-04,   1.28716695e-04,\n",
       "           3.21791736e-05,   1.28716695e-05])],\n",
       " array([10, 15, 20, 25, 30, 35, 40, 45, 50, 55, 60, 65]),\n",
       " <a list of 2 Lists of Patches objects>)"
      ]
     },
     "execution_count": 30,
     "metadata": {},
     "output_type": "execute_result"
    },
    {
     "data": {
      "image/png": "[encoded data removed]",
      "text/plain": [
       "<matplotlib.figure.Figure at 0x1a2e483390>"
      ]
     },
     "metadata": {
      "needs_background": "light"
     },
     "output_type": "display_data"
    }
   ],
   "source": [
    "plt.hist(\n",
    "    [min_ages_repeats.column(\"Age min\"), ages_onetimes.column(\"Age\")],\n",
    "    bins=np.arange(10, 70, 5),\n",
    "    normed=True,\n",
    "    histtype=\"stepfilled\", alpha=0.6\n",
    ")"
   ]
  },
  {
   "cell_type": "code",
   "execution_count": 31,
   "metadata": {},
   "outputs": [
    {
     "data": {
      "text/plain": [
       "([array([  5.80000000e+01,   3.53800000e+03,   1.10550000e+04,\n",
       "           6.09200000e+03,   1.49500000e+03,   3.73000000e+02,\n",
       "           1.66000000e+02,   6.20000000e+01,   2.30000000e+01,\n",
       "           6.00000000e+00,   5.00000000e+00]),\n",
       "  array([  4.10000000e+01,   2.79900000e+03,   1.26380000e+04,\n",
       "           1.06190000e+04,   3.81700000e+03,   8.44000000e+02,\n",
       "           2.18000000e+02,   7.30000000e+01,   2.00000000e+01,\n",
       "           5.00000000e+00,   2.00000000e+00])],\n",
       " array([10, 15, 20, 25, 30, 35, 40, 45, 50, 55, 60, 65]),\n",
       " <a list of 2 Lists of Patches objects>)"
      ]
     },
     "execution_count": 31,
     "metadata": {},
     "output_type": "execute_result"
    },
    {
     "data": {
      "image/png": "[encoded data removed]",
      "text/plain": [
       "<matplotlib.figure.Figure at 0x1a2ac35160>"
      ]
     },
     "metadata": {
      "needs_background": "light"
     },
     "output_type": "display_data"
    }
   ],
   "source": [
    "# What if we were to change normed to false?\n",
    "plt.hist(\n",
    "    [min_ages_repeats.column(\"Age min\"), ages_onetimes.column(\"Age\")],\n",
    "    bins=np.arange(10, 70, 5),\n",
    "    normed=False,\n",
    "    histtype=\"stepfilled\", alpha=0.6\n",
    ")"
   ]
  },
  {
   "cell_type": "markdown",
   "metadata": {},
   "source": [
    "Gah!\n",
    "\n",
    "Why are these two histograms so different?  Shouldn't we expect the same shape?"
   ]
  },
  {
   "cell_type": "code",
   "execution_count": 33,
   "metadata": {},
   "outputs": [
    {
     "data": {
      "text/plain": [
       "\"\\n\\nDifferent 'population' sizes!  The number of repeats != the number of one-timers.\\n\\n\\n\""
      ]
     },
     "execution_count": 33,
     "metadata": {},
     "output_type": "execute_result"
    }
   ],
   "source": [
    "# They're different because:\n",
    "\n",
    "\"\"\"\n",
    "\n",
    "Different 'population' sizes!  The number of repeats != the number of one-timers.\n",
    "\n",
    "\n",
    "\"\"\""
   ]
  },
  {
   "cell_type": "markdown",
   "metadata": {},
   "source": [
    "# Misleading arguments\n",
    "---\n",
    "\n",
    "Let's create a misleading argument, together.\n",
    "\n",
    "Due to the difference between the normed and count histogram, we can come up with something supported by normed but disproven by count!"
   ]
  },
  {
   "cell_type": "code",
   "execution_count": 34,
   "metadata": {},
   "outputs": [
    {
     "data": {
      "text/plain": [
       "\"\\n\\nIf you're in your early 20's, then you're almost 25% more likely to become a repeat participant.\\n\\n\\n\""
      ]
     },
     "execution_count": 34,
     "metadata": {},
     "output_type": "execute_result"
    }
   ],
   "source": [
    "# How about:\n",
    "\n",
    "\"\"\"\n",
    "\n",
    "If you're in your early 20's, then you're almost 25% more likely to become a repeat participant.\n",
    "\n",
    "\n",
    "\"\"\"\n",
    "\n",
    "# With normed, we see that one-timers between 20-25 are at 0.08,\n",
    "# whereas repeats between 20-25 are at 0.10.\n",
    "\n",
    "# We get the 25% from 0.10 / 0.08 = 1.25."
   ]
  },
  {
   "cell_type": "markdown",
   "metadata": {},
   "source": [
    "What percent of repeats/one-timers are 20-25?\n",
    "\n",
    "Let's recall the axis label *\"percent per unit\"*\n",
    "\n",
    "**Unit = Bin Size**\n",
    "\n",
    "Then, there's some math\n",
    "$$\"percent\\ per\\ unit\"=\\frac{percent}{bin\\_size}$$\n",
    "\n",
    "$$\"percent\\ per\\ unit\" *\\ bin\\_size=percent$$"
   ]
  },
  {
   "cell_type": "code",
   "execution_count": 37,
   "metadata": {},
   "outputs": [
    {
     "data": {
      "text/plain": [
       "50.0"
      ]
     },
     "execution_count": 37,
     "metadata": {},
     "output_type": "execute_result"
    }
   ],
   "source": [
    "# So, the percent of repeats that were 20-25 at their first game is:\n",
    "\n",
    "0.1 * 5 * 100 # Don't forget, this is a percent so we should multiply by 100"
   ]
  },
  {
   "cell_type": "code",
   "execution_count": 38,
   "metadata": {},
   "outputs": [
    {
     "data": {
      "text/plain": [
       "40.0"
      ]
     },
     "execution_count": 38,
     "metadata": {},
     "output_type": "execute_result"
    }
   ],
   "source": [
    "# And the percent of one-timers that were 20-25 is:\n",
    "\n",
    "0.08 * 5 * 100 # Again, multiply by 100"
   ]
  },
  {
   "cell_type": "markdown",
   "metadata": {},
   "source": [
    "But what are those percents out of?"
   ]
  },
  {
   "cell_type": "code",
   "execution_count": 39,
   "metadata": {},
   "outputs": [
    {
     "data": {
      "text/plain": [
       "'\\nHowever many one-timers there have been.\\n'"
      ]
     },
     "execution_count": 39,
     "metadata": {},
     "output_type": "execute_result"
    }
   ],
   "source": [
    "# The percent of repeats is out of:\n",
    "\"\"\"\n",
    "However many repeats there have been.\n",
    "\"\"\"\n",
    "\n",
    "# The percent of one-timers is out of:\n",
    "\"\"\"\n",
    "However many one-timers there have been.\n",
    "\"\"\""
   ]
  },
  {
   "cell_type": "markdown",
   "metadata": {},
   "source": [
    "So how would we find the *number* of repeats between 20-25 at their first game versus the *number* of one-tiemrs between 20-25?"
   ]
  },
  {
   "cell_type": "code",
   "execution_count": 41,
   "metadata": {},
   "outputs": [
    {
     "data": {
      "text/plain": [
       "'\\nMultiply proportion by the \"population size\".\\n'"
      ]
     },
     "execution_count": 41,
     "metadata": {},
     "output_type": "execute_result"
    }
   ],
   "source": [
    "# To turn percent into a count we:\n",
    "\"\"\"\n",
    "Multiply proportion by the \"population size\".\n",
    "\"\"\""
   ]
  },
  {
   "cell_type": "code",
   "execution_count": 43,
   "metadata": {},
   "outputs": [
    {
     "name": "stdout",
     "output_type": "stream",
     "text": [
      "11437.0 12430.400000000001\n"
     ]
    }
   ],
   "source": [
    "# Some code to get the \"population sizes\" of `min_ages_repeats` and `ages_onetimes`\n",
    "# and multiply by the proportion\n",
    "num_repeats_2025 = min_ages_repeats.num_rows * 0.5\n",
    "num_onetimes_2025 = ages_onetimes.num_rows * 0.4\n",
    "\n",
    "print(num_repeats_2025, num_onetimes_2025)"
   ]
  },
  {
   "cell_type": "markdown",
   "metadata": {},
   "source": [
    "Let's take a look at our count histogram again."
   ]
  },
  {
   "cell_type": "code",
   "execution_count": 44,
   "metadata": {},
   "outputs": [
    {
     "data": {
      "text/plain": [
       "([array([  5.80000000e+01,   3.53800000e+03,   1.10550000e+04,\n",
       "           6.09200000e+03,   1.49500000e+03,   3.73000000e+02,\n",
       "           1.66000000e+02,   6.20000000e+01,   2.30000000e+01,\n",
       "           6.00000000e+00,   5.00000000e+00]),\n",
       "  array([  4.10000000e+01,   2.79900000e+03,   1.26380000e+04,\n",
       "           1.06190000e+04,   3.81700000e+03,   8.44000000e+02,\n",
       "           2.18000000e+02,   7.30000000e+01,   2.00000000e+01,\n",
       "           5.00000000e+00,   2.00000000e+00])],\n",
       " array([10, 15, 20, 25, 30, 35, 40, 45, 50, 55, 60, 65]),\n",
       " <a list of 2 Lists of Patches objects>)"
      ]
     },
     "execution_count": 44,
     "metadata": {},
     "output_type": "execute_result"
    },
    {
     "data": {
      "image/png": "[encoded data removed]",
      "text/plain": [
       "<matplotlib.figure.Figure at 0x1a102292b0>"
      ]
     },
     "metadata": {
      "needs_background": "light"
     },
     "output_type": "display_data"
    }
   ],
   "source": [
    "plt.hist(\n",
    "    [min_ages_repeats.column(\"Age min\"), ages_onetimes.column(\"Age\")],\n",
    "    bins=np.arange(10, 70, 5),\n",
    "    normed=False,\n",
    "    histtype=\"stepfilled\", alpha=0.6\n",
    ")"
   ]
  },
  {
   "cell_type": "markdown",
   "metadata": {},
   "source": [
    "So, if you're 20-25, are you more likely to be a repeat or a one-timer?\n",
    "\n",
    "How do you know this, and why might it be the case?"
   ]
  },
  {
   "cell_type": "code",
   "execution_count": 45,
   "metadata": {},
   "outputs": [
    {
     "data": {
      "text/plain": [
       "'\\n\\n\\n\\n'"
      ]
     },
     "execution_count": 45,
     "metadata": {},
     "output_type": "execute_result"
    }
   ],
   "source": [
    "# Our answer goes here\n",
    "\"\"\"\n",
    "\n",
    "\n",
    "\n",
    "\"\"\""
   ]
  },
  {
   "cell_type": "markdown",
   "metadata": {},
   "source": [
    "# Let's assign points to each country\n",
    "---\n",
    "\n",
    "Let's say we're assigning points to each country based on the number of Golds, Silvers, and Bronzes they've won.\n",
    "\n",
    "Medals are with the following amount of points:\n",
    "\n",
    "<pre>\n",
    "  Gold    +5 pts\n",
    "  Silver  +3 pts\n",
    "  Bronze  +2 pts\n",
    "  nan     -1 pts\n",
    "</pre>"
   ]
  },
  {
   "cell_type": "code",
   "execution_count": 46,
   "metadata": {},
   "outputs": [],
   "source": [
    "# How are we going to do this?\n",
    "\n",
    "# A custom function and apply, of course!"
   ]
  },
  {
   "cell_type": "code",
   "execution_count": 60,
   "metadata": {},
   "outputs": [],
   "source": [
    "def medal_to_points(medal):\n",
    "    if medal == \"Gold\":\n",
    "        return 5\n",
    "    elif medal == \"Silver\":\n",
    "        return 3\n",
    "    elif medal == \"Bronze\":\n",
    "        return 2\n",
    "    else:\n",
    "        return -1"
   ]
  },
  {
   "cell_type": "markdown",
   "metadata": {},
   "source": [
    "Okay, now we need to apply that function to our table.\n",
    "\n",
    "What does `apply` return again?  And how will we use what it returns?"
   ]
  },
  {
   "cell_type": "code",
   "execution_count": 61,
   "metadata": {},
   "outputs": [
    {
     "data": {
      "text/html": [
       "<table border=\"1\" class=\"dataframe\">\n",
       "    <thead>\n",
       "        <tr>\n",
       "            <th>ID</th> <th>Name</th> <th>Sex</th> <th>Age</th> <th>Height</th> <th>Weight</th> <th>Team</th> <th>NOC</th> <th>Games</th> <th>Year</th> <th>Season</th> <th>City</th> <th>Sport</th> <th>Event</th> <th>Medal</th> <th>Points</th>\n",
       "        </tr>\n",
       "    </thead>\n",
       "    <tbody>\n",
       "        <tr>\n",
       "            <td>869  </td> <td>  Gabrielle Marie \"Gabby\" Adcock (White-)</td> <td>F   </td> <td>25  </td> <td>167   </td> <td>nan   </td> <td>Great Britain</td> <td>GBR </td> <td>2016 Summer</td> <td>2016</td> <td>Summer</td> <td>Rio de Janeiro</td> <td>Badminton </td> <td>Badminton Mixed Doubles                 </td> <td>nan  </td> <td>-1    </td>\n",
       "        </tr>\n",
       "    </tbody>\n",
       "        <tr>\n",
       "            <td>29842</td> <td> Th Anh                                  </td> <td>F   </td> <td>20  </td> <td>165   </td> <td>58    </td> <td>Vietnam      </td> <td>VIE </td> <td>2016 Summer</td> <td>2016</td> <td>Summer</td> <td>Rio de Janeiro</td> <td>Fencing   </td> <td>Fencing Women's Foil, Individual        </td> <td>nan  </td> <td>-1    </td>\n",
       "        </tr>\n",
       "    </tbody>\n",
       "        <tr>\n",
       "            <td>29843</td> <td> Th Ngn Thng                             </td> <td>F   </td> <td>19  </td> <td>147   </td> <td>47    </td> <td>Vietnam      </td> <td>VIE </td> <td>2008 Summer</td> <td>2008</td> <td>Summer</td> <td>Beijing       </td> <td>Gymnastics</td> <td>Gymnastics Women's Individual All-Around</td> <td>nan  </td> <td>-1    </td>\n",
       "        </tr>\n",
       "    </tbody>\n",
       "        <tr>\n",
       "            <td>29843</td> <td> Th Ngn Thng                             </td> <td>F   </td> <td>19  </td> <td>147   </td> <td>47    </td> <td>Vietnam      </td> <td>VIE </td> <td>2008 Summer</td> <td>2008</td> <td>Summer</td> <td>Beijing       </td> <td>Gymnastics</td> <td>Gymnastics Women's Floor Exercise       </td> <td>nan  </td> <td>-1    </td>\n",
       "        </tr>\n",
       "    </tbody>\n",
       "        <tr>\n",
       "            <td>29843</td> <td> Th Ngn Thng                             </td> <td>F   </td> <td>19  </td> <td>147   </td> <td>47    </td> <td>Vietnam      </td> <td>VIE </td> <td>2008 Summer</td> <td>2008</td> <td>Summer</td> <td>Beijing       </td> <td>Gymnastics</td> <td>Gymnastics Women's Horse Vault          </td> <td>nan  </td> <td>-1    </td>\n",
       "        </tr>\n",
       "    </tbody>\n",
       "        <tr>\n",
       "            <td>29843</td> <td> Th Ngn Thng                             </td> <td>F   </td> <td>19  </td> <td>147   </td> <td>47    </td> <td>Vietnam      </td> <td>VIE </td> <td>2008 Summer</td> <td>2008</td> <td>Summer</td> <td>Beijing       </td> <td>Gymnastics</td> <td>Gymnastics Women's Uneven Bars          </td> <td>nan  </td> <td>-1    </td>\n",
       "        </tr>\n",
       "    </tbody>\n",
       "        <tr>\n",
       "            <td>29843</td> <td> Th Ngn Thng                             </td> <td>F   </td> <td>19  </td> <td>147   </td> <td>47    </td> <td>Vietnam      </td> <td>VIE </td> <td>2008 Summer</td> <td>2008</td> <td>Summer</td> <td>Beijing       </td> <td>Gymnastics</td> <td>Gymnastics Women's Balance Beam         </td> <td>nan  </td> <td>-1    </td>\n",
       "        </tr>\n",
       "    </tbody>\n",
       "        <tr>\n",
       "            <td>29843</td> <td> Th Ngn Thng                             </td> <td>F   </td> <td>23  </td> <td>147   </td> <td>47    </td> <td>Vietnam      </td> <td>VIE </td> <td>2012 Summer</td> <td>2012</td> <td>Summer</td> <td>London        </td> <td>Gymnastics</td> <td>Gymnastics Women's Uneven Bars          </td> <td>nan  </td> <td>-1    </td>\n",
       "        </tr>\n",
       "    </tbody>\n",
       "        <tr>\n",
       "            <td>29843</td> <td> Th Ngn Thng                             </td> <td>F   </td> <td>23  </td> <td>147   </td> <td>47    </td> <td>Vietnam      </td> <td>VIE </td> <td>2012 Summer</td> <td>2012</td> <td>Summer</td> <td>London        </td> <td>Gymnastics</td> <td>Gymnastics Women's Balance Beam         </td> <td>nan  </td> <td>-1    </td>\n",
       "        </tr>\n",
       "    </tbody>\n",
       "        <tr>\n",
       "            <td>2    </td> <td>A Lamusi                                 </td> <td>M   </td> <td>23  </td> <td>170   </td> <td>60    </td> <td>China        </td> <td>CHN </td> <td>2012 Summer</td> <td>2012</td> <td>Summer</td> <td>London        </td> <td>Judo      </td> <td>Judo Men's Extra-Lightweight            </td> <td>nan  </td> <td>-1    </td>\n",
       "        </tr>\n",
       "    </tbody>\n",
       "</table>\n",
       "<p>... (105778 rows omitted)</p"
      ],
      "text/plain": [
       "ID    | Name                                      | Sex  | Age  | Height | Weight | Team          | NOC  | Games       | Year | Season | City           | Sport      | Event                                    | Medal | Points\n",
       "869   |   Gabrielle Marie \"Gabby\" Adcock (White-) | F    | 25   | 167    | nan    | Great Britain | GBR  | 2016 Summer | 2016 | Summer | Rio de Janeiro | Badminton  | Badminton Mixed Doubles                  | nan   | -1\n",
       "29842 |  Th Anh                                   | F    | 20   | 165    | 58     | Vietnam       | VIE  | 2016 Summer | 2016 | Summer | Rio de Janeiro | Fencing    | Fencing Women's Foil, Individual         | nan   | -1\n",
       "29843 |  Th Ngn Thng                              | F    | 19   | 147    | 47     | Vietnam       | VIE  | 2008 Summer | 2008 | Summer | Beijing        | Gymnastics | Gymnastics Women's Individual All-Around | nan   | -1\n",
       "29843 |  Th Ngn Thng                              | F    | 19   | 147    | 47     | Vietnam       | VIE  | 2008 Summer | 2008 | Summer | Beijing        | Gymnastics | Gymnastics Women's Floor Exercise        | nan   | -1\n",
       "29843 |  Th Ngn Thng                              | F    | 19   | 147    | 47     | Vietnam       | VIE  | 2008 Summer | 2008 | Summer | Beijing        | Gymnastics | Gymnastics Women's Horse Vault           | nan   | -1\n",
       "29843 |  Th Ngn Thng                              | F    | 19   | 147    | 47     | Vietnam       | VIE  | 2008 Summer | 2008 | Summer | Beijing        | Gymnastics | Gymnastics Women's Uneven Bars           | nan   | -1\n",
       "29843 |  Th Ngn Thng                              | F    | 19   | 147    | 47     | Vietnam       | VIE  | 2008 Summer | 2008 | Summer | Beijing        | Gymnastics | Gymnastics Women's Balance Beam          | nan   | -1\n",
       "29843 |  Th Ngn Thng                              | F    | 23   | 147    | 47     | Vietnam       | VIE  | 2012 Summer | 2012 | Summer | London         | Gymnastics | Gymnastics Women's Uneven Bars           | nan   | -1\n",
       "29843 |  Th Ngn Thng                              | F    | 23   | 147    | 47     | Vietnam       | VIE  | 2012 Summer | 2012 | Summer | London         | Gymnastics | Gymnastics Women's Balance Beam          | nan   | -1\n",
       "2     | A Lamusi                                  | M    | 23   | 170    | 60     | China         | CHN  | 2012 Summer | 2012 | Summer | London         | Judo       | Judo Men's Extra-Lightweight             | nan   | -1\n",
       "... (105778 rows omitted)"
      ]
     },
     "execution_count": 61,
     "metadata": {},
     "output_type": "execute_result"
    }
   ],
   "source": [
    "data_with_points = data.with_column(\n",
    "    \"Points\", data.apply(medal_to_points, \"Medal\")\n",
    ")\n",
    "data_with_points.sort(\"Name\")"
   ]
  },
  {
   "cell_type": "markdown",
   "metadata": {},
   "source": [
    "If we only care about the country and the points, do we need to work with this entire table?"
   ]
  },
  {
   "cell_type": "code",
   "execution_count": 62,
   "metadata": {},
   "outputs": [],
   "source": [
    "# Select relevant columns\n",
    "country_points = data_with_points.select(\"Team\", \"Points\")"
   ]
  },
  {
   "cell_type": "markdown",
   "metadata": {},
   "source": [
    "Now, how do we find the total amount of points scored by each country?"
   ]
  },
  {
   "cell_type": "code",
   "execution_count": 63,
   "metadata": {},
   "outputs": [
    {
     "data": {
      "text/html": [
       "<table border=\"1\" class=\"dataframe\">\n",
       "    <thead>\n",
       "        <tr>\n",
       "            <th>Team</th> <th>Points</th>\n",
       "        </tr>\n",
       "    </thead>\n",
       "    <tbody>\n",
       "        <tr>\n",
       "            <td>United States  </td> <td>2654  </td>\n",
       "        </tr>\n",
       "    </tbody>\n",
       "        <tr>\n",
       "            <td>China-1        </td> <td>144   </td>\n",
       "        </tr>\n",
       "    </tbody>\n",
       "        <tr>\n",
       "            <td>Netherlands    </td> <td>115   </td>\n",
       "        </tr>\n",
       "    </tbody>\n",
       "        <tr>\n",
       "            <td>United States-1</td> <td>110   </td>\n",
       "        </tr>\n",
       "    </tbody>\n",
       "        <tr>\n",
       "            <td>Germany-1      </td> <td>110   </td>\n",
       "        </tr>\n",
       "    </tbody>\n",
       "        <tr>\n",
       "            <td>Cuba           </td> <td>95    </td>\n",
       "        </tr>\n",
       "    </tbody>\n",
       "        <tr>\n",
       "            <td>Russia-1       </td> <td>94    </td>\n",
       "        </tr>\n",
       "    </tbody>\n",
       "        <tr>\n",
       "            <td>Jamaica        </td> <td>91    </td>\n",
       "        </tr>\n",
       "    </tbody>\n",
       "        <tr>\n",
       "            <td>Russia         </td> <td>79    </td>\n",
       "        </tr>\n",
       "    </tbody>\n",
       "        <tr>\n",
       "            <td>Brazil-1       </td> <td>62    </td>\n",
       "        </tr>\n",
       "    </tbody>\n",
       "</table>\n",
       "<p>... (332 rows omitted)</p"
      ],
      "text/plain": [
       "Team            | Points\n",
       "United States   | 2654\n",
       "China-1         | 144\n",
       "Netherlands     | 115\n",
       "United States-1 | 110\n",
       "Germany-1       | 110\n",
       "Cuba            | 95\n",
       "Russia-1        | 94\n",
       "Jamaica         | 91\n",
       "Russia          | 79\n",
       "Brazil-1        | 62\n",
       "... (332 rows omitted)"
      ]
     },
     "execution_count": 63,
     "metadata": {},
     "output_type": "execute_result"
    }
   ],
   "source": [
    "# Group by country\n",
    "scores = country_points.group(\"Team\", sum)\n",
    "scores = scores.relabeled(\"Points sum\", \"Points\")\n",
    "\n",
    "scores.sort(\"Points\", descending=True)\n",
    "\n",
    "# We may need to change \"Team\" to \"NOC\""
   ]
  },
  {
   "cell_type": "markdown",
   "metadata": {},
   "source": [
    "We may need to change \"Team\" to \"NOC\"... why is that?"
   ]
  },
  {
   "cell_type": "markdown",
   "metadata": {},
   "source": [
    "Cool!  Look's like we're at the top :)\n",
    "\n",
    "What happens if we change our function to weight the medals differently?"
   ]
  },
  {
   "cell_type": "markdown",
   "metadata": {},
   "source": [
    "# What are the points of the top 5 countries over time?\n",
    "---\n",
    "\n",
    "This one might be a doozy, so let's work through it together.\n",
    "\n",
    "First, let's start by choosing 5 countries and only working with their data.  This will make things a bit more manageable.  Just as we found out before, we should use NOC."
   ]
  },
  {
   "cell_type": "code",
   "execution_count": 65,
   "metadata": {},
   "outputs": [],
   "source": [
    "included_countries = [\"USA\", \"CHN\", \"RUS\", \"GBR\", \"GER\"]"
   ]
  },
  {
   "cell_type": "markdown",
   "metadata": {},
   "source": [
    "We have already added points to the entire dataset based on the Medal placement, so let's just get our countries from that `data_with_points` table."
   ]
  },
  {
   "cell_type": "code",
   "execution_count": 71,
   "metadata": {},
   "outputs": [
    {
     "ename": "SyntaxError",
     "evalue": "invalid syntax (<ipython-input-71-34c531ae9a51>, line 2)",
     "output_type": "error",
     "traceback": [
      "\u001b[0;36m  File \u001b[0;32m\"<ipython-input-71-34c531ae9a51>\"\u001b[0;36m, line \u001b[0;32m2\u001b[0m\n\u001b[0;31m    countries = data_with_points.where(\"NOC\", are.in(included_countries))\u001b[0m\n\u001b[0m                                                   ^\u001b[0m\n\u001b[0;31mSyntaxError\u001b[0m\u001b[0;31m:\u001b[0m invalid syntax\n"
     ]
    }
   ],
   "source": [
    "# We might be tempted to use where,\n",
    "countries = data_with_points.where(\"NOC\", are.in(included_countries))\n",
    "# But such a predicate does not exist."
   ]
  },
  {
   "cell_type": "code",
   "execution_count": 72,
   "metadata": {},
   "outputs": [
    {
     "data": {
      "text/html": [
       "<table border=\"1\" class=\"dataframe\">\n",
       "    <thead>\n",
       "        <tr>\n",
       "            <th>NOC</th> <th>ID</th> <th>Name</th> <th>Sex</th> <th>Age</th> <th>Height</th> <th>Weight</th> <th>Team</th> <th>Games</th> <th>Year</th> <th>Season</th> <th>City</th> <th>Sport</th> <th>Event</th> <th>Medal</th> <th>Points</th>\n",
       "        </tr>\n",
       "    </thead>\n",
       "    <tbody>\n",
       "        <tr>\n",
       "            <td>CHN </td> <td>2   </td> <td>A Lamusi     </td> <td>M   </td> <td>23  </td> <td>170   </td> <td>60    </td> <td>China</td> <td>2012 Summer</td> <td>2012</td> <td>Summer</td> <td>London        </td> <td>Judo                     </td> <td>Judo Men's Extra-Lightweight                      </td> <td>nan   </td> <td>-1    </td>\n",
       "        </tr>\n",
       "    </tbody>\n",
       "        <tr>\n",
       "            <td>CHN </td> <td>602 </td> <td>Abudoureheman</td> <td>M   </td> <td>22  </td> <td>182   </td> <td>75    </td> <td>China</td> <td>2000 Summer</td> <td>2000</td> <td>Summer</td> <td>Sydney        </td> <td>Boxing                   </td> <td>Boxing Men's Middleweight                         </td> <td>nan   </td> <td>-1    </td>\n",
       "        </tr>\n",
       "    </tbody>\n",
       "        <tr>\n",
       "            <td>CHN </td> <td>1463</td> <td>Ai Linuer    </td> <td>M   </td> <td>25  </td> <td>160   </td> <td>62    </td> <td>China</td> <td>2004 Summer</td> <td>2004</td> <td>Summer</td> <td>Athina        </td> <td>Wrestling                </td> <td>Wrestling Men's Lightweight, Greco-Roman          </td> <td>nan   </td> <td>-1    </td>\n",
       "        </tr>\n",
       "    </tbody>\n",
       "        <tr>\n",
       "            <td>CHN </td> <td>1464</td> <td>Ai Yanhan    </td> <td>F   </td> <td>14  </td> <td>168   </td> <td>54    </td> <td>China</td> <td>2016 Summer</td> <td>2016</td> <td>Summer</td> <td>Rio de Janeiro</td> <td>Swimming                 </td> <td>Swimming Women's 200 metres Freestyle             </td> <td>nan   </td> <td>-1    </td>\n",
       "        </tr>\n",
       "    </tbody>\n",
       "        <tr>\n",
       "            <td>CHN </td> <td>1464</td> <td>Ai Yanhan    </td> <td>F   </td> <td>14  </td> <td>168   </td> <td>54    </td> <td>China</td> <td>2016 Summer</td> <td>2016</td> <td>Summer</td> <td>Rio de Janeiro</td> <td>Swimming                 </td> <td>Swimming Women's 4 x 200 metres Freestyle Relay   </td> <td>nan   </td> <td>-1    </td>\n",
       "        </tr>\n",
       "    </tbody>\n",
       "        <tr>\n",
       "            <td>CHN </td> <td>3605</td> <td>An Weijiang  </td> <td>M   </td> <td>22  </td> <td>178   </td> <td>72    </td> <td>China</td> <td>2006 Winter</td> <td>2006</td> <td>Winter</td> <td>Torino        </td> <td>Speed Skating            </td> <td>Speed Skating Men's 500 metres                    </td> <td>nan   </td> <td>-1    </td>\n",
       "        </tr>\n",
       "    </tbody>\n",
       "        <tr>\n",
       "            <td>CHN </td> <td>3605</td> <td>An Weijiang  </td> <td>M   </td> <td>22  </td> <td>178   </td> <td>72    </td> <td>China</td> <td>2006 Winter</td> <td>2006</td> <td>Winter</td> <td>Torino        </td> <td>Speed Skating            </td> <td>Speed Skating Men's 1,000 metres                  </td> <td>nan   </td> <td>-1    </td>\n",
       "        </tr>\n",
       "    </tbody>\n",
       "        <tr>\n",
       "            <td>CHN </td> <td>3610</td> <td>An Yulong    </td> <td>M   </td> <td>19  </td> <td>173   </td> <td>70    </td> <td>China</td> <td>1998 Winter</td> <td>1998</td> <td>Winter</td> <td>Nagano        </td> <td>Short Track Speed Skating</td> <td>Short Track Speed Skating Men's 500 metres        </td> <td>Silver</td> <td>3     </td>\n",
       "        </tr>\n",
       "    </tbody>\n",
       "        <tr>\n",
       "            <td>CHN </td> <td>3610</td> <td>An Yulong    </td> <td>M   </td> <td>19  </td> <td>173   </td> <td>70    </td> <td>China</td> <td>1998 Winter</td> <td>1998</td> <td>Winter</td> <td>Nagano        </td> <td>Short Track Speed Skating</td> <td>Short Track Speed Skating Men's 1,000 metres      </td> <td>nan   </td> <td>-1    </td>\n",
       "        </tr>\n",
       "    </tbody>\n",
       "        <tr>\n",
       "            <td>CHN </td> <td>3610</td> <td>An Yulong    </td> <td>M   </td> <td>19  </td> <td>173   </td> <td>70    </td> <td>China</td> <td>1998 Winter</td> <td>1998</td> <td>Winter</td> <td>Nagano        </td> <td>Short Track Speed Skating</td> <td>Short Track Speed Skating Men's 5,000 metres Relay</td> <td>Bronze</td> <td>2     </td>\n",
       "        </tr>\n",
       "    </tbody>\n",
       "</table>\n",
       "<p>... (22883 rows omitted)</p"
      ],
      "text/plain": [
       "NOC  | ID   | Name          | Sex  | Age  | Height | Weight | Team  | Games       | Year | Season | City           | Sport                     | Event                                              | Medal  | Points\n",
       "CHN  | 2    | A Lamusi      | M    | 23   | 170    | 60     | China | 2012 Summer | 2012 | Summer | London         | Judo                      | Judo Men's Extra-Lightweight                       | nan    | -1\n",
       "CHN  | 602  | Abudoureheman | M    | 22   | 182    | 75     | China | 2000 Summer | 2000 | Summer | Sydney         | Boxing                    | Boxing Men's Middleweight                          | nan    | -1\n",
       "CHN  | 1463 | Ai Linuer     | M    | 25   | 160    | 62     | China | 2004 Summer | 2004 | Summer | Athina         | Wrestling                 | Wrestling Men's Lightweight, Greco-Roman           | nan    | -1\n",
       "CHN  | 1464 | Ai Yanhan     | F    | 14   | 168    | 54     | China | 2016 Summer | 2016 | Summer | Rio de Janeiro | Swimming                  | Swimming Women's 200 metres Freestyle              | nan    | -1\n",
       "CHN  | 1464 | Ai Yanhan     | F    | 14   | 168    | 54     | China | 2016 Summer | 2016 | Summer | Rio de Janeiro | Swimming                  | Swimming Women's 4 x 200 metres Freestyle Relay    | nan    | -1\n",
       "CHN  | 3605 | An Weijiang   | M    | 22   | 178    | 72     | China | 2006 Winter | 2006 | Winter | Torino         | Speed Skating             | Speed Skating Men's 500 metres                     | nan    | -1\n",
       "CHN  | 3605 | An Weijiang   | M    | 22   | 178    | 72     | China | 2006 Winter | 2006 | Winter | Torino         | Speed Skating             | Speed Skating Men's 1,000 metres                   | nan    | -1\n",
       "CHN  | 3610 | An Yulong     | M    | 19   | 173    | 70     | China | 1998 Winter | 1998 | Winter | Nagano         | Short Track Speed Skating | Short Track Speed Skating Men's 500 metres         | Silver | 3\n",
       "CHN  | 3610 | An Yulong     | M    | 19   | 173    | 70     | China | 1998 Winter | 1998 | Winter | Nagano         | Short Track Speed Skating | Short Track Speed Skating Men's 1,000 metres       | nan    | -1\n",
       "CHN  | 3610 | An Yulong     | M    | 19   | 173    | 70     | China | 1998 Winter | 1998 | Winter | Nagano         | Short Track Speed Skating | Short Track Speed Skating Men's 5,000 metres Relay | Bronze | 2\n",
       "... (22883 rows omitted)"
      ]
     },
     "execution_count": 72,
     "metadata": {},
     "output_type": "execute_result"
    }
   ],
   "source": [
    "# We ran into this before... we can use what instead?\n",
    "inc_countries = Table().with_column(\"NOC\", included_countries)\n",
    "\n",
    "countries = data_with_points.join(\"NOC\", inc_countries, \"NOC\")\n",
    "\n",
    "countries"
   ]
  },
  {
   "cell_type": "markdown",
   "metadata": {},
   "source": [
    "Since our data is time-specific, we should make sure that we're keeping it sorted by date."
   ]
  },
  {
   "cell_type": "code",
   "execution_count": 74,
   "metadata": {},
   "outputs": [
    {
     "data": {
      "text/html": [
       "<table border=\"1\" class=\"dataframe\">\n",
       "    <thead>\n",
       "        <tr>\n",
       "            <th>NOC</th> <th>ID</th> <th>Name</th> <th>Sex</th> <th>Age</th> <th>Height</th> <th>Weight</th> <th>Team</th> <th>Games</th> <th>Year</th> <th>Season</th> <th>City</th> <th>Sport</th> <th>Event</th> <th>Medal</th> <th>Points</th>\n",
       "        </tr>\n",
       "    </thead>\n",
       "    <tbody>\n",
       "        <tr>\n",
       "            <td>CHN </td> <td>20240</td> <td>Chen Lu  </td> <td>F   </td> <td>17  </td> <td>162   </td> <td>52    </td> <td>China</td> <td>1994 Winter</td> <td>1994</td> <td>Winter</td> <td>Lillehammer</td> <td>Figure Skating           </td> <td>Figure Skating Women's Singles                    </td> <td>Bronze</td> <td>2     </td>\n",
       "        </tr>\n",
       "    </tbody>\n",
       "        <tr>\n",
       "            <td>CHN </td> <td>54754</td> <td>Ji Xiaoou</td> <td>F   </td> <td>13  </td> <td>158   </td> <td>58    </td> <td>China</td> <td>1994 Winter</td> <td>1994</td> <td>Winter</td> <td>Lillehammer</td> <td>Freestyle Skiing         </td> <td>Freestyle Skiing Women's Aerials                  </td> <td>nan   </td> <td>-1    </td>\n",
       "        </tr>\n",
       "    </tbody>\n",
       "        <tr>\n",
       "            <td>CHN </td> <td>54878</td> <td>Jin Hua  </td> <td>F   </td> <td>21  </td> <td>166   </td> <td>60    </td> <td>China</td> <td>1994 Winter</td> <td>1994</td> <td>Winter</td> <td>Lillehammer</td> <td>Speed Skating            </td> <td>Speed Skating Women's 500 metres                  </td> <td>nan   </td> <td>-1    </td>\n",
       "        </tr>\n",
       "    </tbody>\n",
       "        <tr>\n",
       "            <td>CHN </td> <td>54878</td> <td>Jin Hua  </td> <td>F   </td> <td>21  </td> <td>166   </td> <td>60    </td> <td>China</td> <td>1994 Winter</td> <td>1994</td> <td>Winter</td> <td>Lillehammer</td> <td>Speed Skating            </td> <td>Speed Skating Women's 1,000 metres                </td> <td>nan   </td> <td>-1    </td>\n",
       "        </tr>\n",
       "    </tbody>\n",
       "        <tr>\n",
       "            <td>CHN </td> <td>69393</td> <td>Li Jiajun</td> <td>M   </td> <td>18  </td> <td>174   </td> <td>76    </td> <td>China</td> <td>1994 Winter</td> <td>1994</td> <td>Winter</td> <td>Lillehammer</td> <td>Short Track Speed Skating</td> <td>Short Track Speed Skating Men's 500 metres        </td> <td>nan   </td> <td>-1    </td>\n",
       "        </tr>\n",
       "    </tbody>\n",
       "        <tr>\n",
       "            <td>CHN </td> <td>69393</td> <td>Li Jiajun</td> <td>M   </td> <td>18  </td> <td>174   </td> <td>76    </td> <td>China</td> <td>1994 Winter</td> <td>1994</td> <td>Winter</td> <td>Lillehammer</td> <td>Short Track Speed Skating</td> <td>Short Track Speed Skating Men's 1,000 metres      </td> <td>nan   </td> <td>-1    </td>\n",
       "        </tr>\n",
       "    </tbody>\n",
       "        <tr>\n",
       "            <td>CHN </td> <td>69393</td> <td>Li Jiajun</td> <td>M   </td> <td>18  </td> <td>174   </td> <td>76    </td> <td>China</td> <td>1994 Winter</td> <td>1994</td> <td>Winter</td> <td>Lillehammer</td> <td>Short Track Speed Skating</td> <td>Short Track Speed Skating Men's 5,000 metres Relay</td> <td>nan   </td> <td>-1    </td>\n",
       "        </tr>\n",
       "    </tbody>\n",
       "        <tr>\n",
       "            <td>CHN </td> <td>69436</td> <td>Li Lianli</td> <td>M   </td> <td>19  </td> <td>174   </td> <td>77    </td> <td>China</td> <td>1994 Winter</td> <td>1994</td> <td>Winter</td> <td>Lillehammer</td> <td>Short Track Speed Skating</td> <td>Short Track Speed Skating Men's 500 metres        </td> <td>nan   </td> <td>-1    </td>\n",
       "        </tr>\n",
       "    </tbody>\n",
       "        <tr>\n",
       "            <td>CHN </td> <td>69436</td> <td>Li Lianli</td> <td>M   </td> <td>19  </td> <td>174   </td> <td>77    </td> <td>China</td> <td>1994 Winter</td> <td>1994</td> <td>Winter</td> <td>Lillehammer</td> <td>Short Track Speed Skating</td> <td>Short Track Speed Skating Men's 1,000 metres      </td> <td>nan   </td> <td>-1    </td>\n",
       "        </tr>\n",
       "    </tbody>\n",
       "        <tr>\n",
       "            <td>CHN </td> <td>69436</td> <td>Li Lianli</td> <td>M   </td> <td>19  </td> <td>174   </td> <td>77    </td> <td>China</td> <td>1994 Winter</td> <td>1994</td> <td>Winter</td> <td>Lillehammer</td> <td>Short Track Speed Skating</td> <td>Short Track Speed Skating Men's 5,000 metres Relay</td> <td>nan   </td> <td>-1    </td>\n",
       "        </tr>\n",
       "    </tbody>\n",
       "</table>\n",
       "<p>... (22883 rows omitted)</p"
      ],
      "text/plain": [
       "NOC  | ID    | Name      | Sex  | Age  | Height | Weight | Team  | Games       | Year | Season | City        | Sport                     | Event                                              | Medal  | Points\n",
       "CHN  | 20240 | Chen Lu   | F    | 17   | 162    | 52     | China | 1994 Winter | 1994 | Winter | Lillehammer | Figure Skating            | Figure Skating Women's Singles                     | Bronze | 2\n",
       "CHN  | 54754 | Ji Xiaoou | F    | 13   | 158    | 58     | China | 1994 Winter | 1994 | Winter | Lillehammer | Freestyle Skiing          | Freestyle Skiing Women's Aerials                   | nan    | -1\n",
       "CHN  | 54878 | Jin Hua   | F    | 21   | 166    | 60     | China | 1994 Winter | 1994 | Winter | Lillehammer | Speed Skating             | Speed Skating Women's 500 metres                   | nan    | -1\n",
       "CHN  | 54878 | Jin Hua   | F    | 21   | 166    | 60     | China | 1994 Winter | 1994 | Winter | Lillehammer | Speed Skating             | Speed Skating Women's 1,000 metres                 | nan    | -1\n",
       "CHN  | 69393 | Li Jiajun | M    | 18   | 174    | 76     | China | 1994 Winter | 1994 | Winter | Lillehammer | Short Track Speed Skating | Short Track Speed Skating Men's 500 metres         | nan    | -1\n",
       "CHN  | 69393 | Li Jiajun | M    | 18   | 174    | 76     | China | 1994 Winter | 1994 | Winter | Lillehammer | Short Track Speed Skating | Short Track Speed Skating Men's 1,000 metres       | nan    | -1\n",
       "CHN  | 69393 | Li Jiajun | M    | 18   | 174    | 76     | China | 1994 Winter | 1994 | Winter | Lillehammer | Short Track Speed Skating | Short Track Speed Skating Men's 5,000 metres Relay | nan    | -1\n",
       "CHN  | 69436 | Li Lianli | M    | 19   | 174    | 77     | China | 1994 Winter | 1994 | Winter | Lillehammer | Short Track Speed Skating | Short Track Speed Skating Men's 500 metres         | nan    | -1\n",
       "CHN  | 69436 | Li Lianli | M    | 19   | 174    | 77     | China | 1994 Winter | 1994 | Winter | Lillehammer | Short Track Speed Skating | Short Track Speed Skating Men's 1,000 metres       | nan    | -1\n",
       "CHN  | 69436 | Li Lianli | M    | 19   | 174    | 77     | China | 1994 Winter | 1994 | Winter | Lillehammer | Short Track Speed Skating | Short Track Speed Skating Men's 5,000 metres Relay | nan    | -1\n",
       "... (22883 rows omitted)"
      ]
     },
     "execution_count": 74,
     "metadata": {},
     "output_type": "execute_result"
    }
   ],
   "source": [
    "countries = countries.sort(\"Year\")\n",
    "countries"
   ]
  },
  {
   "cell_type": "markdown",
   "metadata": {},
   "source": [
    "We should also limit our data to just what we want."
   ]
  },
  {
   "cell_type": "code",
   "execution_count": 87,
   "metadata": {},
   "outputs": [
    {
     "data": {
      "text/html": [
       "<table border=\"1\" class=\"dataframe\">\n",
       "    <thead>\n",
       "        <tr>\n",
       "            <th>Year</th> <th>NOC</th> <th>Points</th>\n",
       "        </tr>\n",
       "    </thead>\n",
       "    <tbody>\n",
       "        <tr>\n",
       "            <td>1994</td> <td>CHN </td> <td>2     </td>\n",
       "        </tr>\n",
       "    </tbody>\n",
       "        <tr>\n",
       "            <td>1994</td> <td>CHN </td> <td>-1    </td>\n",
       "        </tr>\n",
       "    </tbody>\n",
       "        <tr>\n",
       "            <td>1994</td> <td>CHN </td> <td>-1    </td>\n",
       "        </tr>\n",
       "    </tbody>\n",
       "        <tr>\n",
       "            <td>1994</td> <td>CHN </td> <td>-1    </td>\n",
       "        </tr>\n",
       "    </tbody>\n",
       "        <tr>\n",
       "            <td>1994</td> <td>CHN </td> <td>-1    </td>\n",
       "        </tr>\n",
       "    </tbody>\n",
       "        <tr>\n",
       "            <td>1994</td> <td>CHN </td> <td>-1    </td>\n",
       "        </tr>\n",
       "    </tbody>\n",
       "        <tr>\n",
       "            <td>1994</td> <td>CHN </td> <td>-1    </td>\n",
       "        </tr>\n",
       "    </tbody>\n",
       "        <tr>\n",
       "            <td>1994</td> <td>CHN </td> <td>-1    </td>\n",
       "        </tr>\n",
       "    </tbody>\n",
       "        <tr>\n",
       "            <td>1994</td> <td>CHN </td> <td>-1    </td>\n",
       "        </tr>\n",
       "    </tbody>\n",
       "        <tr>\n",
       "            <td>1994</td> <td>CHN </td> <td>-1    </td>\n",
       "        </tr>\n",
       "    </tbody>\n",
       "</table>\n",
       "<p>... (22883 rows omitted)</p"
      ],
      "text/plain": [
       "Year | NOC  | Points\n",
       "1994 | CHN  | 2\n",
       "1994 | CHN  | -1\n",
       "1994 | CHN  | -1\n",
       "1994 | CHN  | -1\n",
       "1994 | CHN  | -1\n",
       "1994 | CHN  | -1\n",
       "1994 | CHN  | -1\n",
       "1994 | CHN  | -1\n",
       "1994 | CHN  | -1\n",
       "1994 | CHN  | -1\n",
       "... (22883 rows omitted)"
      ]
     },
     "execution_count": 87,
     "metadata": {},
     "output_type": "execute_result"
    }
   ],
   "source": [
    "countries = countries.select(\"Year\", \"NOC\", \"Points\")\n",
    "countries"
   ]
  },
  {
   "cell_type": "markdown",
   "metadata": {},
   "source": [
    "Now we get to try out a handy-dandy new method that we learned recently: `.groups`.\n",
    "\n",
    "This takes multiple column names and gives us every unique row of Col_1 and Col_2.\n",
    "\n",
    "For example, let's try out `.groups` on a simple table first."
   ]
  },
  {
   "cell_type": "code",
   "execution_count": 88,
   "metadata": {},
   "outputs": [
    {
     "data": {
      "text/html": [
       "<table border=\"1\" class=\"dataframe\">\n",
       "    <thead>\n",
       "        <tr>\n",
       "            <th>Alph</th> <th>Numb</th> <th>Data</th>\n",
       "        </tr>\n",
       "    </thead>\n",
       "    <tbody>\n",
       "        <tr>\n",
       "            <td>A   </td> <td>1   </td> <td>5.8 </td>\n",
       "        </tr>\n",
       "    </tbody>\n",
       "        <tr>\n",
       "            <td>A   </td> <td>2   </td> <td>2.6 </td>\n",
       "        </tr>\n",
       "    </tbody>\n",
       "        <tr>\n",
       "            <td>A   </td> <td>3   </td> <td>4.4 </td>\n",
       "        </tr>\n",
       "    </tbody>\n",
       "        <tr>\n",
       "            <td>B   </td> <td>4   </td> <td>9.8 </td>\n",
       "        </tr>\n",
       "    </tbody>\n",
       "        <tr>\n",
       "            <td>B   </td> <td>4   </td> <td>10.2</td>\n",
       "        </tr>\n",
       "    </tbody>\n",
       "        <tr>\n",
       "            <td>C   </td> <td>1   </td> <td>4.3 </td>\n",
       "        </tr>\n",
       "    </tbody>\n",
       "</table>"
      ],
      "text/plain": [
       "Alph | Numb | Data\n",
       "A    | 1    | 5.8\n",
       "A    | 2    | 2.6\n",
       "A    | 3    | 4.4\n",
       "B    | 4    | 9.8\n",
       "B    | 4    | 10.2\n",
       "C    | 1    | 4.3"
      ]
     },
     "execution_count": 88,
     "metadata": {},
     "output_type": "execute_result"
    }
   ],
   "source": [
    "tbl = Table().with_columns(\n",
    "    \"Alph\", [\"A\", \"A\", \"A\", \"B\", \"B\", \"C\"],\n",
    "    \"Numb\", [1, 2, 3, 4, 4, 1],\n",
    "    \"Data\", [5.8, 2.6, 4.4, 9.8, 10.2, 4.3]\n",
    ")\n",
    "\n",
    "tbl"
   ]
  },
  {
   "cell_type": "code",
   "execution_count": 89,
   "metadata": {},
   "outputs": [
    {
     "data": {
      "text/html": [
       "<table border=\"1\" class=\"dataframe\">\n",
       "    <thead>\n",
       "        <tr>\n",
       "            <th>Alph</th> <th>Numb</th> <th>count</th>\n",
       "        </tr>\n",
       "    </thead>\n",
       "    <tbody>\n",
       "        <tr>\n",
       "            <td>A   </td> <td>1   </td> <td>1    </td>\n",
       "        </tr>\n",
       "    </tbody>\n",
       "        <tr>\n",
       "            <td>A   </td> <td>2   </td> <td>1    </td>\n",
       "        </tr>\n",
       "    </tbody>\n",
       "        <tr>\n",
       "            <td>A   </td> <td>3   </td> <td>1    </td>\n",
       "        </tr>\n",
       "    </tbody>\n",
       "        <tr>\n",
       "            <td>B   </td> <td>4   </td> <td>2    </td>\n",
       "        </tr>\n",
       "    </tbody>\n",
       "        <tr>\n",
       "            <td>C   </td> <td>1   </td> <td>1    </td>\n",
       "        </tr>\n",
       "    </tbody>\n",
       "</table>"
      ],
      "text/plain": [
       "Alph | Numb | count\n",
       "A    | 1    | 1\n",
       "A    | 2    | 1\n",
       "A    | 3    | 1\n",
       "B    | 4    | 2\n",
       "C    | 1    | 1"
      ]
     },
     "execution_count": 89,
     "metadata": {},
     "output_type": "execute_result"
    }
   ],
   "source": [
    "tbl.groups([\"Alph\", \"Numb\"])"
   ]
  },
  {
   "cell_type": "markdown",
   "metadata": {},
   "source": [
    "Alrighty, back to our Olympics data!\n",
    "\n",
    "For every year we want every NOC.  So, the columns that we pass into `.groups` should probably be those.\n",
    "\n",
    "For every year and NOC we probably want the total amount of points that country got that year.  What collection function should we use?"
   ]
  },
  {
   "cell_type": "code",
   "execution_count": 100,
   "metadata": {},
   "outputs": [
    {
     "data": {
      "text/html": [
       "<table border=\"1\" class=\"dataframe\">\n",
       "    <thead>\n",
       "        <tr>\n",
       "            <th>Year</th> <th>NOC</th> <th>Points sum</th>\n",
       "        </tr>\n",
       "    </thead>\n",
       "    <tbody>\n",
       "        <tr>\n",
       "            <td>1994</td> <td>CHN </td> <td>-33       </td>\n",
       "        </tr>\n",
       "    </tbody>\n",
       "        <tr>\n",
       "            <td>1994</td> <td>GBR </td> <td>-42       </td>\n",
       "        </tr>\n",
       "    </tbody>\n",
       "        <tr>\n",
       "            <td>1994</td> <td>GER </td> <td>0         </td>\n",
       "        </tr>\n",
       "    </tbody>\n",
       "        <tr>\n",
       "            <td>1994</td> <td>RUS </td> <td>-30       </td>\n",
       "        </tr>\n",
       "    </tbody>\n",
       "        <tr>\n",
       "            <td>1994</td> <td>USA </td> <td>-154      </td>\n",
       "        </tr>\n",
       "    </tbody>\n",
       "        <tr>\n",
       "            <td>1996</td> <td>CHN </td> <td>7         </td>\n",
       "        </tr>\n",
       "    </tbody>\n",
       "        <tr>\n",
       "            <td>1996</td> <td>GBR </td> <td>-291      </td>\n",
       "        </tr>\n",
       "    </tbody>\n",
       "        <tr>\n",
       "            <td>1996</td> <td>GER </td> <td>-93       </td>\n",
       "        </tr>\n",
       "    </tbody>\n",
       "        <tr>\n",
       "            <td>1996</td> <td>RUS </td> <td>-54       </td>\n",
       "        </tr>\n",
       "    </tbody>\n",
       "        <tr>\n",
       "            <td>1996</td> <td>USA </td> <td>463       </td>\n",
       "        </tr>\n",
       "    </tbody>\n",
       "</table>\n",
       "<p>... (50 rows omitted)</p"
      ],
      "text/plain": [
       "Year | NOC  | Points sum\n",
       "1994 | CHN  | -33\n",
       "1994 | GBR  | -42\n",
       "1994 | GER  | 0\n",
       "1994 | RUS  | -30\n",
       "1994 | USA  | -154\n",
       "1996 | CHN  | 7\n",
       "1996 | GBR  | -291\n",
       "1996 | GER  | -93\n",
       "1996 | RUS  | -54\n",
       "1996 | USA  | 463\n",
       "... (50 rows omitted)"
      ]
     },
     "execution_count": 100,
     "metadata": {},
     "output_type": "execute_result"
    }
   ],
   "source": [
    "points = countries.groups([\"Year\", \"NOC\"], sum)\n",
    "points"
   ]
  },
  {
   "cell_type": "markdown",
   "metadata": {},
   "source": [
    "What is a better way to view this table?"
   ]
  },
  {
   "cell_type": "code",
   "execution_count": 110,
   "metadata": {},
   "outputs": [
    {
     "data": {
      "text/html": [
       "<table border=\"1\" class=\"dataframe\">\n",
       "    <thead>\n",
       "        <tr>\n",
       "            <th>Year</th> <th>CHN</th> <th>GBR</th> <th>GER</th> <th>RUS</th> <th>USA</th>\n",
       "        </tr>\n",
       "    </thead>\n",
       "    <tbody>\n",
       "        <tr>\n",
       "            <td>1994</td> <td>-33 </td> <td>-42 </td> <td>0   </td> <td>-30 </td> <td>-154</td>\n",
       "        </tr>\n",
       "    </tbody>\n",
       "        <tr>\n",
       "            <td>1996</td> <td>7   </td> <td>-291</td> <td>-93 </td> <td>-54 </td> <td>463 </td>\n",
       "        </tr>\n",
       "    </tbody>\n",
       "        <tr>\n",
       "            <td>1998</td> <td>-37 </td> <td>-33 </td> <td>-7  </td> <td>33  </td> <td>-103</td>\n",
       "        </tr>\n",
       "    </tbody>\n",
       "        <tr>\n",
       "            <td>2000</td> <td>-37 </td> <td>-167</td> <td>-97 </td> <td>224 </td> <td>413 </td>\n",
       "        </tr>\n",
       "    </tbody>\n",
       "        <tr>\n",
       "            <td>2002</td> <td>-49 </td> <td>-37 </td> <td>25  </td> <td>-103</td> <td>30  </td>\n",
       "        </tr>\n",
       "    </tbody>\n",
       "        <tr>\n",
       "            <td>2004</td> <td>-53 </td> <td>-113</td> <td>23  </td> <td>164 </td> <td>489 </td>\n",
       "        </tr>\n",
       "    </tbody>\n",
       "        <tr>\n",
       "            <td>2006</td> <td>-96 </td> <td>-50 </td> <td>-7  </td> <td>-100</td> <td>-131</td>\n",
       "        </tr>\n",
       "    </tbody>\n",
       "        <tr>\n",
       "            <td>2008</td> <td>97  </td> <td>-59 </td> <td>-119</td> <td>1   </td> <td>679 </td>\n",
       "        </tr>\n",
       "    </tbody>\n",
       "        <tr>\n",
       "            <td>2010</td> <td>-40 </td> <td>-72 </td> <td>-28 </td> <td>-181</td> <td>49  </td>\n",
       "        </tr>\n",
       "    </tbody>\n",
       "        <tr>\n",
       "            <td>2012</td> <td>104 </td> <td>-132</td> <td>-66 </td> <td>60  </td> <td>547 </td>\n",
       "        </tr>\n",
       "    </tbody>\n",
       "</table>\n",
       "<p>... (2 rows omitted)</p"
      ],
      "text/plain": [
       "Year | CHN  | GBR  | GER  | RUS  | USA\n",
       "1994 | -33  | -42  | 0    | -30  | -154\n",
       "1996 | 7    | -291 | -93  | -54  | 463\n",
       "1998 | -37  | -33  | -7   | 33   | -103\n",
       "2000 | -37  | -167 | -97  | 224  | 413\n",
       "2002 | -49  | -37  | 25   | -103 | 30\n",
       "2004 | -53  | -113 | 23   | 164  | 489\n",
       "2006 | -96  | -50  | -7   | -100 | -131\n",
       "2008 | 97   | -59  | -119 | 1    | 679\n",
       "2010 | -40  | -72  | -28  | -181 | 49\n",
       "2012 | 104  | -132 | -66  | 60   | 547\n",
       "... (2 rows omitted)"
      ]
     },
     "execution_count": 110,
     "metadata": {},
     "output_type": "execute_result"
    }
   ],
   "source": [
    "# What if we want a \"Year\" column, and then a column for every NOC?\n",
    "\n",
    "# Then, we want the values to be the total points for that year for that NOC.\n",
    "\n",
    "# Does this layout sound familiar to something?\n",
    "points = countries.pivot(\"NOC\", \"Year\", \"Points\", sum)\n",
    "points"
   ]
  },
  {
   "cell_type": "markdown",
   "metadata": {},
   "source": [
    "Now, how do we get the total points *so far* of each country?  Let's move outside of the table for now, and work with numpy a bit."
   ]
  },
  {
   "cell_type": "code",
   "execution_count": 111,
   "metadata": {},
   "outputs": [
    {
     "data": {
      "text/plain": [
       "array([ -33,  -26,  -63, -100, -149, -202, -298, -201, -241, -137, -197,\n",
       "       -189])"
      ]
     },
     "execution_count": 111,
     "metadata": {},
     "output_type": "execute_result"
    }
   ],
   "source": [
    "# Let's get the total points so far for each year for China.\n",
    "np.cumsum(points.column(\"CHN\"))"
   ]
  },
  {
   "cell_type": "markdown",
   "metadata": {},
   "source": [
    "So, let's replace each column in our table with the cumulative sum data like we just calculated!"
   ]
  },
  {
   "cell_type": "code",
   "execution_count": 112,
   "metadata": {},
   "outputs": [],
   "source": [
    "chn = np.cumsum(points.column(\"CHN\"))\n",
    "usa = np.cumsum(points.column(\"USA\"))\n",
    "rus = np.cumsum(points.column(\"RUS\"))\n",
    "gbr = np.cumsum(points.column(\"GBR\"))\n",
    "ger = np.cumsum(points.column(\"GER\"))"
   ]
  },
  {
   "cell_type": "code",
   "execution_count": 113,
   "metadata": {},
   "outputs": [
    {
     "data": {
      "text/html": [
       "<table border=\"1\" class=\"dataframe\">\n",
       "    <thead>\n",
       "        <tr>\n",
       "            <th>Year</th> <th>CHN</th> <th>GBR</th> <th>GER</th> <th>RUS</th> <th>USA</th>\n",
       "        </tr>\n",
       "    </thead>\n",
       "    <tbody>\n",
       "        <tr>\n",
       "            <td>1994</td> <td>-33 </td> <td>-42 </td> <td>0   </td> <td>-30 </td> <td>-154</td>\n",
       "        </tr>\n",
       "    </tbody>\n",
       "        <tr>\n",
       "            <td>1996</td> <td>-26 </td> <td>-333</td> <td>-93 </td> <td>-84 </td> <td>309 </td>\n",
       "        </tr>\n",
       "    </tbody>\n",
       "        <tr>\n",
       "            <td>1998</td> <td>-63 </td> <td>-366</td> <td>-100</td> <td>-51 </td> <td>206 </td>\n",
       "        </tr>\n",
       "    </tbody>\n",
       "        <tr>\n",
       "            <td>2000</td> <td>-100</td> <td>-533</td> <td>-197</td> <td>173 </td> <td>619 </td>\n",
       "        </tr>\n",
       "    </tbody>\n",
       "        <tr>\n",
       "            <td>2002</td> <td>-149</td> <td>-570</td> <td>-172</td> <td>70  </td> <td>649 </td>\n",
       "        </tr>\n",
       "    </tbody>\n",
       "        <tr>\n",
       "            <td>2004</td> <td>-202</td> <td>-683</td> <td>-149</td> <td>234 </td> <td>1138</td>\n",
       "        </tr>\n",
       "    </tbody>\n",
       "        <tr>\n",
       "            <td>2006</td> <td>-298</td> <td>-733</td> <td>-156</td> <td>134 </td> <td>1007</td>\n",
       "        </tr>\n",
       "    </tbody>\n",
       "        <tr>\n",
       "            <td>2008</td> <td>-201</td> <td>-792</td> <td>-275</td> <td>135 </td> <td>1686</td>\n",
       "        </tr>\n",
       "    </tbody>\n",
       "        <tr>\n",
       "            <td>2010</td> <td>-241</td> <td>-864</td> <td>-303</td> <td>-46 </td> <td>1735</td>\n",
       "        </tr>\n",
       "    </tbody>\n",
       "        <tr>\n",
       "            <td>2012</td> <td>-137</td> <td>-996</td> <td>-369</td> <td>14  </td> <td>2282</td>\n",
       "        </tr>\n",
       "    </tbody>\n",
       "</table>\n",
       "<p>... (2 rows omitted)</p"
      ],
      "text/plain": [
       "Year | CHN  | GBR  | GER  | RUS  | USA\n",
       "1994 | -33  | -42  | 0    | -30  | -154\n",
       "1996 | -26  | -333 | -93  | -84  | 309\n",
       "1998 | -63  | -366 | -100 | -51  | 206\n",
       "2000 | -100 | -533 | -197 | 173  | 619\n",
       "2002 | -149 | -570 | -172 | 70   | 649\n",
       "2004 | -202 | -683 | -149 | 234  | 1138\n",
       "2006 | -298 | -733 | -156 | 134  | 1007\n",
       "2008 | -201 | -792 | -275 | 135  | 1686\n",
       "2010 | -241 | -864 | -303 | -46  | 1735\n",
       "2012 | -137 | -996 | -369 | 14   | 2282\n",
       "... (2 rows omitted)"
      ]
     },
     "execution_count": 113,
     "metadata": {},
     "output_type": "execute_result"
    }
   ],
   "source": [
    "points = points.with_columns([\n",
    "    \"CHN\", chn,\n",
    "    \"USA\", usa,\n",
    "    \"RUS\", rus,\n",
    "    \"GBR\", gbr,\n",
    "    \"GER\", ger\n",
    "])\n",
    "\n",
    "points"
   ]
  },
  {
   "cell_type": "markdown",
   "metadata": {},
   "source": [
    "And finally, we plot!  We want to plot cumulative score for each country over time.\n",
    "\n",
    "What type of plot would work best here—for time-based data?"
   ]
  },
  {
   "cell_type": "code",
   "execution_count": 114,
   "metadata": {},
   "outputs": [
    {
     "data": {
      "image/png": "[encoded data removed]",
      "text/plain": [
       "<matplotlib.figure.Figure at 0x1a15daab38>"
      ]
     },
     "metadata": {
      "needs_background": "light"
     },
     "output_type": "display_data"
    }
   ],
   "source": [
    "points.plot(\"Year\")"
   ]
  },
  {
   "cell_type": "markdown",
   "metadata": {},
   "source": [
    "# This will be posted online.  Best of luck on the midterm!"
   ]
  },
  {
   "cell_type": "code",
   "execution_count": null,
   "metadata": {},
   "outputs": [],
   "source": []
  }
 ],
 "metadata": {
  "kernelspec": {
   "display_name": "Python 3",
   "language": "python",
   "name": "python3"
  },
  "language_info": {
   "codemirror_mode": {
    "name": "ipython",
    "version": 3
   },
   "file_extension": ".py",
   "mimetype": "text/x-python",
   "name": "python",
   "nbconvert_exporter": "python",
   "pygments_lexer": "ipython3",
   "version": "3.6.8"
  }
 },
 "nbformat": 4,
 "nbformat_minor": 2
}
