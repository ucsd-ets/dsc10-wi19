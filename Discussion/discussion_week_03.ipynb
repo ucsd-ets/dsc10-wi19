{
 "cells": [
  {
   "cell_type": "code",
   "execution_count": 1,
   "metadata": {
    "collapsed": true
   },
   "outputs": [],
   "source": [
    "from datascience import *\n",
    "import numpy as np\n",
    "%matplotlib inline"
   ]
  },
  {
   "cell_type": "markdown",
   "metadata": {},
   "source": [
    "# Getting the data\n",
    "---\n",
    "\n",
    "This data was compiled from a number of queries from the NOAA (National Oceanic and Atmospheric Administration) website.\n",
    "\n",
    "NOAA National Centers for Environmental information, Climate at a Glance: Regional Time Series, published October 2018, retrieved on October 18, 2018 from https://www.ncdc.noaa.gov/cag/"
   ]
  },
  {
   "cell_type": "code",
   "execution_count": 3,
   "metadata": {},
   "outputs": [
    {
     "data": {
      "text/html": [
       "<table border=\"1\" class=\"dataframe\">\n",
       "    <thead>\n",
       "        <tr>\n",
       "            <th>Year</th> <th>Month</th> <th>Region</th> <th>Average Temperature</th>\n",
       "        </tr>\n",
       "    </thead>\n",
       "    <tbody>\n",
       "        <tr>\n",
       "            <td>2000</td> <td>1    </td> <td>Northeast Climate Region</td> <td>21.4               </td>\n",
       "        </tr>\n",
       "    </tbody>\n",
       "        <tr>\n",
       "            <td>2000</td> <td>2    </td> <td>Northeast Climate Region</td> <td>27.2               </td>\n",
       "        </tr>\n",
       "    </tbody>\n",
       "        <tr>\n",
       "            <td>2000</td> <td>3    </td> <td>Northeast Climate Region</td> <td>39.1               </td>\n",
       "        </tr>\n",
       "    </tbody>\n",
       "        <tr>\n",
       "            <td>2000</td> <td>4    </td> <td>Northeast Climate Region</td> <td>44.2               </td>\n",
       "        </tr>\n",
       "    </tbody>\n",
       "        <tr>\n",
       "            <td>2000</td> <td>5    </td> <td>Northeast Climate Region</td> <td>56.6               </td>\n",
       "        </tr>\n",
       "    </tbody>\n",
       "        <tr>\n",
       "            <td>2000</td> <td>6    </td> <td>Northeast Climate Region</td> <td>64.5               </td>\n",
       "        </tr>\n",
       "    </tbody>\n",
       "        <tr>\n",
       "            <td>2000</td> <td>7    </td> <td>Northeast Climate Region</td> <td>65.8               </td>\n",
       "        </tr>\n",
       "    </tbody>\n",
       "        <tr>\n",
       "            <td>2000</td> <td>8    </td> <td>Northeast Climate Region</td> <td>66.2               </td>\n",
       "        </tr>\n",
       "    </tbody>\n",
       "        <tr>\n",
       "            <td>2000</td> <td>9    </td> <td>Northeast Climate Region</td> <td>58.9               </td>\n",
       "        </tr>\n",
       "    </tbody>\n",
       "        <tr>\n",
       "            <td>2000</td> <td>10   </td> <td>Northeast Climate Region</td> <td>49.5               </td>\n",
       "        </tr>\n",
       "    </tbody>\n",
       "</table>\n",
       "<p>... (2015 rows omitted)</p"
      ],
      "text/plain": [
       "Year | Month | Region                   | Average Temperature\n",
       "2000 | 1     | Northeast Climate Region | 21.4\n",
       "2000 | 2     | Northeast Climate Region | 27.2\n",
       "2000 | 3     | Northeast Climate Region | 39.1\n",
       "2000 | 4     | Northeast Climate Region | 44.2\n",
       "2000 | 5     | Northeast Climate Region | 56.6\n",
       "2000 | 6     | Northeast Climate Region | 64.5\n",
       "2000 | 7     | Northeast Climate Region | 65.8\n",
       "2000 | 8     | Northeast Climate Region | 66.2\n",
       "2000 | 9     | Northeast Climate Region | 58.9\n",
       "2000 | 10    | Northeast Climate Region | 49.5\n",
       "... (2015 rows omitted)"
      ]
     },
     "execution_count": 3,
     "metadata": {},
     "output_type": "execute_result"
    }
   ],
   "source": [
    "temps = Table.read_table(\"temperatures.csv\")\n",
    "temps"
   ]
  },
  {
   "cell_type": "markdown",
   "metadata": {},
   "source": [
    "It contains a `Year` (2000 to 2018), `Month` (1 to 12), `Region` (a climate region), and `Average Temperature` (the average temperature for that year/month/region in degrees Farenheit)."
   ]
  },
  {
   "cell_type": "markdown",
   "metadata": {},
   "source": [
    "# Let's go over some basics of `where`, `group`, columns on this dataset\n",
    "---\n",
    "\n",
    "By getting familiar with our dataset, it should be easier for us to answer questions we have a bit later."
   ]
  },
  {
   "cell_type": "markdown",
   "metadata": {},
   "source": [
    "Recall the syntax of the following functions:\n",
    "\n",
    "`table.where ( column_label, are.predicate( value ) ) => copy of table with only rows satisfying condition`\n",
    "\n",
    "`table.group ( column_label, method ) => copy of table with only unique rows from column_label and values calculated by the method, default is count`\n",
    "\n",
    "`table.column ( column_label ) => an array of the column specified`\n",
    "\n",
    "`table.with_column ( column_label, array_values ) => copy of table with a new column named column_label and values from the array_values`"
   ]
  },
  {
   "cell_type": "code",
   "execution_count": 4,
   "metadata": {
    "collapsed": true
   },
   "outputs": [
    {
     "name": "stdout",
     "output_type": "stream",
     "text": [
      "Help on function group in module datascience.tables:\n",
      "\n",
      "group(self, column_or_label, collect=None)\n",
      "    Group rows by unique values in a column; count or aggregate others.\n",
      "    \n",
      "    Args:\n",
      "        ``column_or_label``: values to group (column label or index, or array)\n",
      "    \n",
      "        ``collect``: a function applied to values in other columns for each group\n",
      "    \n",
      "    Returns:\n",
      "        A Table with each row corresponding to a unique value in ``column_or_label``,\n",
      "        where the first column contains the unique values from ``column_or_label``, and the\n",
      "        second contains counts for each of the unique values. If ``collect`` is\n",
      "        provided, a Table is returned with all original columns, each containing values\n",
      "        calculated by first grouping rows according to ``column_or_label``, then applying\n",
      "        ``collect`` to each set of grouped values in the other columns.\n",
      "    \n",
      "    Note:\n",
      "        The grouped column will appear first in the result table. If ``collect`` does not\n",
      "        accept arguments with one of the column types, that column will be empty in the resulting\n",
      "        table.\n",
      "    \n",
      "    >>> marbles = Table().with_columns(\n",
      "    ...    \"Color\", make_array(\"Red\", \"Green\", \"Blue\", \"Red\", \"Green\", \"Green\"),\n",
      "    ...    \"Shape\", make_array(\"Round\", \"Rectangular\", \"Rectangular\", \"Round\", \"Rectangular\", \"Round\"),\n",
      "    ...    \"Amount\", make_array(4, 6, 12, 7, 9, 2),\n",
      "    ...    \"Price\", make_array(1.30, 1.30, 2.00, 1.75, 1.40, 1.00))\n",
      "    >>> marbles\n",
      "    Color | Shape       | Amount | Price\n",
      "    Red   | Round       | 4      | 1.3\n",
      "    Green | Rectangular | 6      | 1.3\n",
      "    Blue  | Rectangular | 12     | 2\n",
      "    Red   | Round       | 7      | 1.75\n",
      "    Green | Rectangular | 9      | 1.4\n",
      "    Green | Round       | 2      | 1\n",
      "    >>> marbles.group(\"Color\") # just gives counts\n",
      "    Color | count\n",
      "    Blue  | 1\n",
      "    Green | 3\n",
      "    Red   | 2\n",
      "    >>> marbles.group(\"Color\", max) # takes the max of each grouping, in each column\n",
      "    Color | Shape max   | Amount max | Price max\n",
      "    Blue  | Rectangular | 12         | 2\n",
      "    Green | Round       | 9          | 1.4\n",
      "    Red   | Round       | 7          | 1.75\n",
      "    >>> marbles.group(\"Shape\", sum) # sum doesn't make sense for strings\n",
      "    Shape       | Color sum | Amount sum | Price sum\n",
      "    Rectangular |           | 27         | 4.7\n",
      "    Round       |           | 13         | 4.05\n",
      "\n"
     ]
    }
   ],
   "source": [
    "# If we need any more information, we can always use help\n",
    "help(Table.group)"
   ]
  },
  {
   "cell_type": "code",
   "execution_count": 5,
   "metadata": {},
   "outputs": [
    {
     "data": {
      "text/plain": [
       "array(['Northeast Climate Region',\n",
       "       'Northern Rockies and Plains Climate Region',\n",
       "       'Northwest Climate Region', 'Ohio Valley Climate Region',\n",
       "       'South Climate Region', 'Southeast Climate Region',\n",
       "       'Southwest Climate Region', 'Upper Midwest Climate Region',\n",
       "       'West Climate Region'],\n",
       "      dtype='<U42')"
      ]
     },
     "execution_count": 5,
     "metadata": {},
     "output_type": "execute_result"
    }
   ],
   "source": [
    "# As a helping hand to get started, let's find out what regions we have\n",
    "np.unique(temps.column(\"Region\"))"
   ]
  },
  {
   "cell_type": "code",
   "execution_count": 8,
   "metadata": {},
   "outputs": [
    {
     "name": "stdout",
     "output_type": "stream",
     "text": [
      "Northeast Climate Region\n",
      "Northern Rockies and Plains Climate Region\n",
      "Northwest Climate Region\n",
      "Ohio Valley Climate Region\n",
      "South Climate Region\n",
      "Southeast Climate Region\n",
      "Southwest Climate Region\n",
      "Upper Midwest Climate Region\n",
      "West Climate Region\n"
     ]
    }
   ],
   "source": [
    "region_names = np.unique(temps.column(\"Region\"))\n",
    "for region in region_names:\n",
    "    print(region)"
   ]
  },
  {
   "cell_type": "markdown",
   "metadata": {},
   "source": [
    "# Play around with the dataset using `where`, `group`, etc\n",
    "---"
   ]
  },
  {
   "cell_type": "code",
   "execution_count": 9,
   "metadata": {
    "collapsed": true
   },
   "outputs": [],
   "source": [
    "# Maybe find the data for just one region"
   ]
  },
  {
   "cell_type": "code",
   "execution_count": 10,
   "metadata": {
    "collapsed": true
   },
   "outputs": [],
   "source": [
    "# Maybe find the average temperature for each region"
   ]
  },
  {
   "cell_type": "code",
   "execution_count": 11,
   "metadata": {
    "collapsed": true
   },
   "outputs": [],
   "source": [
    "# Maybe find the average temperature for each year"
   ]
  },
  {
   "cell_type": "code",
   "execution_count": 12,
   "metadata": {
    "collapsed": true
   },
   "outputs": [],
   "source": [
    "# Maybe find the average temperature for each year for just one region"
   ]
  },
  {
   "cell_type": "code",
   "execution_count": 13,
   "metadata": {
    "collapsed": true
   },
   "outputs": [],
   "source": [
    "# Maybe find the average temperature for each month"
   ]
  },
  {
   "cell_type": "code",
   "execution_count": 14,
   "metadata": {
    "collapsed": true
   },
   "outputs": [],
   "source": [
    "# Maybe find the average temperature for any region containing \"North\" versus containing \"South\""
   ]
  },
  {
   "cell_type": "markdown",
   "metadata": {},
   "source": [
    "# Let's look at trends over time\n",
    "---\n",
    "What's a good way to represent this data?\n",
    "\n",
    "How does temperature change over the course of a year?  What about two years?\n",
    "\n",
    "How does temperature change over the course of 18 years?"
   ]
  },
  {
   "cell_type": "code",
   "execution_count": 15,
   "metadata": {
    "collapsed": true
   },
   "outputs": [],
   "source": [
    "\n",
    "\n",
    "\n",
    "\n",
    "\n",
    "\n",
    "\n",
    "\n",
    "\n",
    "\n",
    "\n",
    "\n",
    "\n",
    "\n",
    "\n",
    "\n",
    "\n",
    "\n",
    "\n",
    "\n",
    "\n",
    "\n",
    "\n",
    "\n",
    "# Maybe a line plot :) "
   ]
  },
  {
   "cell_type": "code",
   "execution_count": 16,
   "metadata": {
    "collapsed": true
   },
   "outputs": [],
   "source": [
    "# Plot against month for a given year"
   ]
  },
  {
   "cell_type": "code",
   "execution_count": 17,
   "metadata": {
    "collapsed": true
   },
   "outputs": [],
   "source": [
    "# Plot against month for a range of two years"
   ]
  },
  {
   "cell_type": "code",
   "execution_count": 18,
   "metadata": {
    "collapsed": true
   },
   "outputs": [],
   "source": [
    "\n",
    "\n",
    "\n",
    "\n",
    "\n",
    "\n",
    "\n",
    "\n",
    "\n",
    "\n",
    "\n",
    "\n",
    "\n",
    "\n",
    "\n",
    "\n",
    "\n",
    "\n",
    "\n",
    "\n",
    "\n",
    "# Uh oh!\n",
    "# We need some way to distinguish the months in one year from another year"
   ]
  },
  {
   "cell_type": "code",
   "execution_count": 19,
   "metadata": {
    "collapsed": true
   },
   "outputs": [],
   "source": [
    "\n",
    "\n",
    "\n",
    "\n",
    "\n",
    "\n",
    "\n",
    "\n",
    "\n",
    "\n",
    "\n",
    "\n",
    "\n",
    "\n",
    "\n",
    "\n",
    "\n",
    "\n",
    "\n",
    "# Maybe give apply a shot"
   ]
  },
  {
   "cell_type": "markdown",
   "metadata": {},
   "source": [
    "# Recall the syntax of `apply`\n",
    "---\n",
    "\n",
    "`table.apply ( method, column_name, column_name, ... ) => returns an array of the method applied to the values in the specified columns`"
   ]
  },
  {
   "cell_type": "code",
   "execution_count": 20,
   "metadata": {
    "collapsed": true
   },
   "outputs": [
    {
     "name": "stdout",
     "output_type": "stream",
     "text": [
      "Help on function apply in module datascience.tables:\n",
      "\n",
      "apply(self, fn, *column_or_columns)\n",
      "    Apply ``fn`` to each element or elements of ``column_or_columns``.\n",
      "    If no ``column_or_columns`` provided, `fn`` is applied to each row.\n",
      "    \n",
      "    Args:\n",
      "        ``fn`` (function) -- The function to apply.\n",
      "        ``column_or_columns``: Columns containing the arguments to ``fn``\n",
      "            as either column labels (``str``) or column indices (``int``).\n",
      "            The number of columns must match the number of arguments\n",
      "            that ``fn`` expects.\n",
      "    \n",
      "    Raises:\n",
      "        ``ValueError`` -- if  ``column_label`` is not an existing\n",
      "            column in the table.\n",
      "        ``TypeError`` -- if insufficent number of ``column_label`` passed\n",
      "            to ``fn``.\n",
      "    \n",
      "    Returns:\n",
      "        An array consisting of results of applying ``fn`` to elements\n",
      "        specified by ``column_label`` in each row.\n",
      "    \n",
      "    >>> t = Table().with_columns(\n",
      "    ...     'letter', make_array('a', 'b', 'c', 'z'),\n",
      "    ...     'count',  make_array(9, 3, 3, 1),\n",
      "    ...     'points', make_array(1, 2, 2, 10))\n",
      "    >>> t\n",
      "    letter | count | points\n",
      "    a      | 9     | 1\n",
      "    b      | 3     | 2\n",
      "    c      | 3     | 2\n",
      "    z      | 1     | 10\n",
      "    >>> t.apply(lambda x: x - 1, 'points')\n",
      "    array([0, 1, 1, 9])\n",
      "    >>> t.apply(lambda x, y: x * y, 'count', 'points')\n",
      "    array([ 9,  6,  6, 10])\n",
      "    >>> t.apply(lambda x: x - 1, 'count', 'points')\n",
      "    Traceback (most recent call last):\n",
      "        ...\n",
      "    TypeError: <lambda>() takes 1 positional argument but 2 were given\n",
      "    >>> t.apply(lambda x: x - 1, 'counts')\n",
      "    Traceback (most recent call last):\n",
      "        ...\n",
      "    ValueError: The column \"counts\" is not in the table. The table contains these columns: letter, count, points\n",
      "    \n",
      "    Whole rows are passed to the function if no columns are specified.\n",
      "    \n",
      "    >>> t.apply(lambda row: row[1] * 2)\n",
      "    array([18,  6,  6,  2])\n",
      "\n"
     ]
    }
   ],
   "source": [
    "help(Table.apply)"
   ]
  },
  {
   "cell_type": "code",
   "execution_count": 22,
   "metadata": {
    "collapsed": true
   },
   "outputs": [],
   "source": [
    "# Let's write a function to turn a year and month into a datetime that python can understand\n",
    "\n",
    "import datetime\n",
    "\n",
    "def make_date_from_year_month(year, month):\n",
    "    return datetime.date(year, month, 1)"
   ]
  },
  {
   "cell_type": "code",
   "execution_count": 23,
   "metadata": {},
   "outputs": [
    {
     "data": {
      "text/plain": [
       "array([datetime.date(2000, 1, 1), datetime.date(2000, 2, 1),\n",
       "       datetime.date(2000, 3, 1), ..., datetime.date(2018, 7, 1),\n",
       "       datetime.date(2018, 8, 1), datetime.date(2018, 9, 1)], dtype=object)"
      ]
     },
     "execution_count": 23,
     "metadata": {},
     "output_type": "execute_result"
    }
   ],
   "source": [
    "# Apply our function, what do we get?\n",
    "temps.apply(make_date_from_year_month, \"Year\", \"Month\")"
   ]
  },
  {
   "cell_type": "code",
   "execution_count": 24,
   "metadata": {},
   "outputs": [
    {
     "data": {
      "text/html": [
       "<table border=\"1\" class=\"dataframe\">\n",
       "    <thead>\n",
       "        <tr>\n",
       "            <th>Year</th> <th>Month</th> <th>Region</th> <th>Average Temperature</th> <th>Date</th>\n",
       "        </tr>\n",
       "    </thead>\n",
       "    <tbody>\n",
       "        <tr>\n",
       "            <td>2000</td> <td>1    </td> <td>Northeast Climate Region</td> <td>21.4               </td> <td>2000-01-01</td>\n",
       "        </tr>\n",
       "    </tbody>\n",
       "        <tr>\n",
       "            <td>2000</td> <td>2    </td> <td>Northeast Climate Region</td> <td>27.2               </td> <td>2000-02-01</td>\n",
       "        </tr>\n",
       "    </tbody>\n",
       "        <tr>\n",
       "            <td>2000</td> <td>3    </td> <td>Northeast Climate Region</td> <td>39.1               </td> <td>2000-03-01</td>\n",
       "        </tr>\n",
       "    </tbody>\n",
       "        <tr>\n",
       "            <td>2000</td> <td>4    </td> <td>Northeast Climate Region</td> <td>44.2               </td> <td>2000-04-01</td>\n",
       "        </tr>\n",
       "    </tbody>\n",
       "        <tr>\n",
       "            <td>2000</td> <td>5    </td> <td>Northeast Climate Region</td> <td>56.6               </td> <td>2000-05-01</td>\n",
       "        </tr>\n",
       "    </tbody>\n",
       "        <tr>\n",
       "            <td>2000</td> <td>6    </td> <td>Northeast Climate Region</td> <td>64.5               </td> <td>2000-06-01</td>\n",
       "        </tr>\n",
       "    </tbody>\n",
       "        <tr>\n",
       "            <td>2000</td> <td>7    </td> <td>Northeast Climate Region</td> <td>65.8               </td> <td>2000-07-01</td>\n",
       "        </tr>\n",
       "    </tbody>\n",
       "        <tr>\n",
       "            <td>2000</td> <td>8    </td> <td>Northeast Climate Region</td> <td>66.2               </td> <td>2000-08-01</td>\n",
       "        </tr>\n",
       "    </tbody>\n",
       "        <tr>\n",
       "            <td>2000</td> <td>9    </td> <td>Northeast Climate Region</td> <td>58.9               </td> <td>2000-09-01</td>\n",
       "        </tr>\n",
       "    </tbody>\n",
       "        <tr>\n",
       "            <td>2000</td> <td>10   </td> <td>Northeast Climate Region</td> <td>49.5               </td> <td>2000-10-01</td>\n",
       "        </tr>\n",
       "    </tbody>\n",
       "</table>\n",
       "<p>... (2015 rows omitted)</p"
      ],
      "text/plain": [
       "Year | Month | Region                   | Average Temperature | Date\n",
       "2000 | 1     | Northeast Climate Region | 21.4                | 2000-01-01\n",
       "2000 | 2     | Northeast Climate Region | 27.2                | 2000-02-01\n",
       "2000 | 3     | Northeast Climate Region | 39.1                | 2000-03-01\n",
       "2000 | 4     | Northeast Climate Region | 44.2                | 2000-04-01\n",
       "2000 | 5     | Northeast Climate Region | 56.6                | 2000-05-01\n",
       "2000 | 6     | Northeast Climate Region | 64.5                | 2000-06-01\n",
       "2000 | 7     | Northeast Climate Region | 65.8                | 2000-07-01\n",
       "2000 | 8     | Northeast Climate Region | 66.2                | 2000-08-01\n",
       "2000 | 9     | Northeast Climate Region | 58.9                | 2000-09-01\n",
       "2000 | 10    | Northeast Climate Region | 49.5                | 2000-10-01\n",
       "... (2015 rows omitted)"
      ]
     },
     "execution_count": 24,
     "metadata": {},
     "output_type": "execute_result"
    }
   ],
   "source": [
    "# Okay, what can we do with that?\n",
    "temps_with_date = temps.with_column(\"Date\", temps.apply(make_date_from_year_month, \"Year\", \"Month\"))\n",
    "temps_with_date"
   ]
  },
  {
   "cell_type": "markdown",
   "metadata": {},
   "source": [
    "# Let's finally plot monthly temperatures over multiple years\n",
    "---"
   ]
  },
  {
   "cell_type": "code",
   "execution_count": 27,
   "metadata": {
    "scrolled": true
   },
   "outputs": [
    {
     "data": {
      "image/png": "[encoded data removed]",
      "text/plain": [
       "<matplotlib.figure.Figure at 0x1a16a1f710>"
      ]
     },
     "metadata": {
      "needs_background": "light"
     },
     "output_type": "display_data"
    }
   ],
   "source": [
    "start_date = datetime.date(2016, 1, 1)\n",
    "end_date = datetime.date(2018, 1, 1)\n",
    "\n",
    "temps_with_date.where(\n",
    "    \"Region\", are.containing(\"West\")\n",
    ").where(\n",
    "    \"Date\", are.between(start_date, end_date)\n",
    ").plot(\"Date\", \"Average Temperature\")"
   ]
  },
  {
   "cell_type": "code",
   "execution_count": 28,
   "metadata": {
    "collapsed": true
   },
   "outputs": [],
   "source": [
    "# Let's change the start date to look at the temperature from 2000 to 2018"
   ]
  },
  {
   "cell_type": "markdown",
   "metadata": {},
   "source": [
    "# Alright, what about annual average temperature over time\n",
    "---"
   ]
  },
  {
   "cell_type": "code",
   "execution_count": 29,
   "metadata": {},
   "outputs": [
    {
     "data": {
      "image/png": "[encoded data removed]",
      "text/plain": [
       "<matplotlib.figure.Figure at 0x1a16a2cf28>"
      ]
     },
     "metadata": {
      "needs_background": "light"
     },
     "output_type": "display_data"
    }
   ],
   "source": [
    "temps.group(\"Year\", np.mean).plot(\"Year\", \"Average Temperature mean\")"
   ]
  },
  {
   "cell_type": "markdown",
   "metadata": {},
   "source": [
    "What if I just wanted to look at West Climate Region?"
   ]
  },
  {
   "cell_type": "code",
   "execution_count": 30,
   "metadata": {},
   "outputs": [
    {
     "data": {
      "image/png": "[encoded data removed]",
      "text/plain": [
       "<matplotlib.figure.Figure at 0x1a1e0a39e8>"
      ]
     },
     "metadata": {
      "needs_background": "light"
     },
     "output_type": "display_data"
    }
   ],
   "source": [
    "temps.where(\"Region\", are.containing(\"West\")).group(\"Year\", np.mean).plot(\"Year\", \"Average Temperature mean\")"
   ]
  },
  {
   "cell_type": "code",
   "execution_count": 31,
   "metadata": {
    "collapsed": true
   },
   "outputs": [],
   "source": [
    "# Is there anything weird?\n",
    "\n",
    "# Why?"
   ]
  },
  {
   "cell_type": "markdown",
   "metadata": {},
   "source": [
    "# What does the distribution of ___ look like?\n",
    "---"
   ]
  },
  {
   "cell_type": "code",
   "execution_count": 32,
   "metadata": {},
   "outputs": [
    {
     "data": {
      "image/png": "[encoded data removed]",
      "text/plain": [
       "<matplotlib.figure.Figure at 0x1a1e10b9e8>"
      ]
     },
     "metadata": {
      "needs_background": "light"
     },
     "output_type": "display_data"
    }
   ],
   "source": [
    "temps.group(\"Year\", np.mean).hist(3, normed=False, bins=np.arange(50, 57, 0.5))"
   ]
  },
  {
   "cell_type": "code",
   "execution_count": 35,
   "metadata": {
    "collapsed": true
   },
   "outputs": [],
   "source": [
    "# We can change \"Year\" and np.mean to a bunch of different stuff\n",
    "\n",
    "# Make sure that we allow default bins if we don't fully know what we're working with\n",
    "\n",
    "# Let's use normed=False to get counts instead of density--a little easier to understand"
   ]
  },
  {
   "cell_type": "markdown",
   "metadata": {},
   "source": [
    "How many years had an average temperature greater than 54°F, using counts?"
   ]
  },
  {
   "cell_type": "code",
   "execution_count": 36,
   "metadata": {},
   "outputs": [
    {
     "data": {
      "text/plain": [
       "3"
      ]
     },
     "execution_count": 36,
     "metadata": {},
     "output_type": "execute_result"
    }
   ],
   "source": [
    "# How many years had an avg temp of > 54\n",
    "\n",
    "# This IS just the sum of 2 + 1\n",
    "3"
   ]
  },
  {
   "cell_type": "code",
   "execution_count": 37,
   "metadata": {},
   "outputs": [
    {
     "data": {
      "image/png": "[encoded data removed]",
      "text/plain": [
       "<matplotlib.figure.Figure at 0x1a1e31d0f0>"
      ]
     },
     "metadata": {
      "needs_background": "light"
     },
     "output_type": "display_data"
    }
   ],
   "source": [
    "# Let's try the distribution of annual average temperatures\n",
    "temps.group(\"Year\", np.mean).hist(3, normed=True, bins=np.arange(50, 57, 0.5))"
   ]
  },
  {
   "cell_type": "markdown",
   "metadata": {},
   "source": [
    "How many years had an average temperature greater than 54°F, using density?"
   ]
  },
  {
   "cell_type": "code",
   "execution_count": 38,
   "metadata": {},
   "outputs": [
    {
     "data": {
      "text/plain": [
       "19"
      ]
     },
     "execution_count": 38,
     "metadata": {},
     "output_type": "execute_result"
    }
   ],
   "source": [
    "# We need to know how many years we have\n",
    "temps.group(\"Year\", np.mean).num_rows"
   ]
  },
  {
   "cell_type": "code",
   "execution_count": 39,
   "metadata": {},
   "outputs": [
    {
     "data": {
      "text/plain": [
       "2.85"
      ]
     },
     "execution_count": 39,
     "metadata": {},
     "output_type": "execute_result"
    }
   ],
   "source": [
    "# We have 19 years\n",
    "# How many years had an avg temp of > 54\n",
    "\n",
    "# This ISN\"T 20% + 10%\n",
    "\n",
    "# This IS 20% * bin_size + 10% * bin_size\n",
    "# 20% * 0.5 + 10% * 0.5\n",
    "19 * 0.15"
   ]
  },
  {
   "cell_type": "markdown",
   "metadata": {},
   "source": [
    "# We want to compare annual average temperature accross multiple regions\n",
    "---\n",
    "\n",
    "There's an easy way and a hard way to go about this.\n",
    "\n",
    "The way that we're most comfortable with starting is actually much more challenging... let's do it anyways"
   ]
  },
  {
   "cell_type": "code",
   "execution_count": 40,
   "metadata": {
    "collapsed": true
   },
   "outputs": [],
   "source": [
    "# I want to compare Northeast to West\n",
    "\n",
    "# What should my logic be to compare Annual Avg Temps for Northeast to those of West?\n",
    "\n",
    "\n",
    "\n",
    "\n",
    "\n",
    "\n",
    "\n",
    "\n",
    "\n",
    "\n",
    "\n",
    "\n",
    "\n",
    "\n",
    "\n",
    "\n",
    "\n",
    "\n",
    "\n",
    "\n",
    "\n",
    "\n",
    "\n",
    "\n",
    "\n",
    "\n",
    "\n",
    "\n",
    "\n",
    "# We've done this before for one region:\n",
    "\n",
    "# Get data for just that region, then group by year"
   ]
  },
  {
   "cell_type": "code",
   "execution_count": 41,
   "metadata": {},
   "outputs": [
    {
     "data": {
      "text/html": [
       "<table border=\"1\" class=\"dataframe\">\n",
       "    <thead>\n",
       "        <tr>\n",
       "            <th>Year</th> <th>Month</th> <th>Region</th> <th>Average Temperature</th>\n",
       "        </tr>\n",
       "    </thead>\n",
       "    <tbody>\n",
       "        <tr>\n",
       "            <td>2000</td> <td>1    </td> <td>Northeast Climate Region</td> <td>21.4               </td>\n",
       "        </tr>\n",
       "    </tbody>\n",
       "        <tr>\n",
       "            <td>2000</td> <td>2    </td> <td>Northeast Climate Region</td> <td>27.2               </td>\n",
       "        </tr>\n",
       "    </tbody>\n",
       "        <tr>\n",
       "            <td>2000</td> <td>3    </td> <td>Northeast Climate Region</td> <td>39.1               </td>\n",
       "        </tr>\n",
       "    </tbody>\n",
       "        <tr>\n",
       "            <td>2000</td> <td>4    </td> <td>Northeast Climate Region</td> <td>44.2               </td>\n",
       "        </tr>\n",
       "    </tbody>\n",
       "        <tr>\n",
       "            <td>2000</td> <td>5    </td> <td>Northeast Climate Region</td> <td>56.6               </td>\n",
       "        </tr>\n",
       "    </tbody>\n",
       "        <tr>\n",
       "            <td>2000</td> <td>6    </td> <td>Northeast Climate Region</td> <td>64.5               </td>\n",
       "        </tr>\n",
       "    </tbody>\n",
       "        <tr>\n",
       "            <td>2000</td> <td>7    </td> <td>Northeast Climate Region</td> <td>65.8               </td>\n",
       "        </tr>\n",
       "    </tbody>\n",
       "        <tr>\n",
       "            <td>2000</td> <td>8    </td> <td>Northeast Climate Region</td> <td>66.2               </td>\n",
       "        </tr>\n",
       "    </tbody>\n",
       "        <tr>\n",
       "            <td>2000</td> <td>9    </td> <td>Northeast Climate Region</td> <td>58.9               </td>\n",
       "        </tr>\n",
       "    </tbody>\n",
       "        <tr>\n",
       "            <td>2000</td> <td>10   </td> <td>Northeast Climate Region</td> <td>49.5               </td>\n",
       "        </tr>\n",
       "    </tbody>\n",
       "</table>\n",
       "<p>... (215 rows omitted)</p"
      ],
      "text/plain": [
       "Year | Month | Region                   | Average Temperature\n",
       "2000 | 1     | Northeast Climate Region | 21.4\n",
       "2000 | 2     | Northeast Climate Region | 27.2\n",
       "2000 | 3     | Northeast Climate Region | 39.1\n",
       "2000 | 4     | Northeast Climate Region | 44.2\n",
       "2000 | 5     | Northeast Climate Region | 56.6\n",
       "2000 | 6     | Northeast Climate Region | 64.5\n",
       "2000 | 7     | Northeast Climate Region | 65.8\n",
       "2000 | 8     | Northeast Climate Region | 66.2\n",
       "2000 | 9     | Northeast Climate Region | 58.9\n",
       "2000 | 10    | Northeast Climate Region | 49.5\n",
       "... (215 rows omitted)"
      ]
     },
     "execution_count": 41,
     "metadata": {},
     "output_type": "execute_result"
    }
   ],
   "source": [
    "# Grab data for just northeast\n",
    "northeast_data = temps.where(\"Region\", are.containing(\"Northeast\"))\n",
    "northeast_data"
   ]
  },
  {
   "cell_type": "code",
   "execution_count": 42,
   "metadata": {
    "collapsed": true
   },
   "outputs": [],
   "source": [
    "# Grab data for just west\n",
    "west_data = temps.where(\"Region\", are.containing(\"West\"))"
   ]
  },
  {
   "cell_type": "code",
   "execution_count": 43,
   "metadata": {
    "collapsed": true
   },
   "outputs": [],
   "source": [
    "# Group both by year\n",
    "northeast_years = northeast_data.group(\"Year\", np.mean)\n",
    "west_years = west_data.group(\"Year\", np.mean)"
   ]
  },
  {
   "cell_type": "markdown",
   "metadata": {},
   "source": [
    "But now I have two separate tables.  We've only learned how to plot from one table so far.\n",
    "\n",
    "We can use matplotlib to circumvent that (don't worry, you don't need to know how to do this)"
   ]
  },
  {
   "cell_type": "code",
   "execution_count": 44,
   "metadata": {},
   "outputs": [
    {
     "data": {
      "image/png": "[encoded data removed]",
      "text/plain": [
       "<matplotlib.figure.Figure at 0x1a1e475a90>"
      ]
     },
     "metadata": {
      "needs_background": "light"
     },
     "output_type": "display_data"
    }
   ],
   "source": [
    "# Don't worry about this code too much.\n",
    "import matplotlib.pyplot as plt\n",
    "\n",
    "plt.hist(\n",
    "    [northeast_years.column(\"Average Temperature mean\"), west_years.column(\"Average Temperature mean\")],\n",
    "    histtype='stepfilled'\n",
    ")\n",
    "plt.show()"
   ]
  },
  {
   "cell_type": "markdown",
   "metadata": {},
   "source": [
    "Or we can create a new table, add our columns to it, and then plot"
   ]
  },
  {
   "cell_type": "code",
   "execution_count": 45,
   "metadata": {
    "collapsed": true
   },
   "outputs": [],
   "source": [
    "# Create a new table with a column for Northeast and a column for West, and rows for every year\n",
    "northeast_vs_west = Table().with_columns(\n",
    "    \"Northeast\", northeast_years.column(\"Average Temperature mean\"),\n",
    "    \"West\", west_years.column(\"Average Temperature mean\")\n",
    ")"
   ]
  },
  {
   "cell_type": "code",
   "execution_count": 46,
   "metadata": {},
   "outputs": [
    {
     "data": {
      "image/png": "[encoded data removed]",
      "text/plain": [
       "<matplotlib.figure.Figure at 0x1a1e519b70>"
      ]
     },
     "metadata": {
      "needs_background": "light"
     },
     "output_type": "display_data"
    }
   ],
   "source": [
    "# We can histogram this table normally\n",
    "northeast_vs_west.hist()"
   ]
  },
  {
   "cell_type": "markdown",
   "metadata": {},
   "source": [
    "# There's an easier way\n",
    "---\n",
    "\n",
    "Using `table.pivot` we can essentially perform `.where`, `.group`, and `.column` for every region at once.\n",
    "\n",
    "Let's delve into [the documentation](http://data8.org/datascience/_autosummary/datascience.tables.Table.pivot.html) to find out how to use this method."
   ]
  },
  {
   "cell_type": "code",
   "execution_count": 51,
   "metadata": {},
   "outputs": [
    {
     "data": {
      "text/html": [
       "<table border=\"1\" class=\"dataframe\">\n",
       "    <thead>\n",
       "        <tr>\n",
       "            <th>Year</th> <th>Northeast Climate Region</th> <th>Northern Rockies and Plains Climate Region</th> <th>Northwest Climate Region</th> <th>Ohio Valley Climate Region</th> <th>South Climate Region</th> <th>Southeast Climate Region</th> <th>Southwest Climate Region</th> <th>Upper Midwest Climate Region</th> <th>West Climate Region</th>\n",
       "        </tr>\n",
       "    </thead>\n",
       "    <tbody>\n",
       "        <tr>\n",
       "            <td>2000</td> <td>46.0333                 </td> <td>44.0417                                   </td> <td>45.9333                 </td> <td>53.8083                   </td> <td>63.4667             </td> <td>62.6667                 </td> <td>53.9667                 </td> <td>44.5167                     </td> <td>55.7667            </td>\n",
       "        </tr>\n",
       "    </tbody>\n",
       "        <tr>\n",
       "            <td>2001</td> <td>47.7167                 </td> <td>44.9333                                   </td> <td>46.325                  </td> <td>54.775                    </td> <td>63.1583             </td> <td>63.15                   </td> <td>53.5667                 </td> <td>45.7417                     </td> <td>56.0083            </td>\n",
       "        </tr>\n",
       "    </tbody>\n",
       "        <tr>\n",
       "            <td>2002</td> <td>47.7083                 </td> <td>43.55                                     </td> <td>45.9                    </td> <td>54.7917                   </td> <td>62.525              </td> <td>63.65                   </td> <td>53.1                    </td> <td>45.0333                     </td> <td>55.5417            </td>\n",
       "        </tr>\n",
       "    </tbody>\n",
       "        <tr>\n",
       "            <td>2003</td> <td>45.6083                 </td> <td>44.4                                      </td> <td>47.5583                 </td> <td>53.3083                   </td> <td>62.65               </td> <td>62.6167                 </td> <td>54.1833                 </td> <td>43.8667                     </td> <td>56.475             </td>\n",
       "        </tr>\n",
       "    </tbody>\n",
       "        <tr>\n",
       "            <td>2004</td> <td>46.275                  </td> <td>44.1083                                   </td> <td>47                      </td> <td>54.2                      </td> <td>62.7833             </td> <td>63.1667                 </td> <td>52.5583                 </td> <td>44.1167                     </td> <td>55.55              </td>\n",
       "        </tr>\n",
       "    </tbody>\n",
       "        <tr>\n",
       "            <td>2005</td> <td>47.1333                 </td> <td>44.8833                                   </td> <td>46.225                  </td> <td>54.925                    </td> <td>63.5                </td> <td>63.1667                 </td> <td>53.4417                 </td> <td>45.65                       </td> <td>55.3333            </td>\n",
       "        </tr>\n",
       "    </tbody>\n",
       "        <tr>\n",
       "            <td>2006</td> <td>48.6833                 </td> <td>45.7583                                   </td> <td>46.5583                 </td> <td>55.3417                   </td> <td>64.3667             </td> <td>63.7833                 </td> <td>53.35                   </td> <td>46.7                        </td> <td>55.4083            </td>\n",
       "        </tr>\n",
       "    </tbody>\n",
       "        <tr>\n",
       "            <td>2007</td> <td>46.7167                 </td> <td>44.9833                                   </td> <td>46.5083                 </td> <td>55.3417                   </td> <td>62.7583             </td> <td>64.1667                 </td> <td>53.3833                 </td> <td>45.1833                     </td> <td>55.8833            </td>\n",
       "        </tr>\n",
       "    </tbody>\n",
       "        <tr>\n",
       "            <td>2008</td> <td>46.85                   </td> <td>42.3833                                   </td> <td>45.075                  </td> <td>53.025                    </td> <td>62.4167             </td> <td>62.9417                 </td> <td>52.3083                 </td> <td>42.4333                     </td> <td>55.4333            </td>\n",
       "        </tr>\n",
       "    </tbody>\n",
       "        <tr>\n",
       "            <td>2009</td> <td>46.125                  </td> <td>42.1833                                   </td> <td>45.525                  </td> <td>53.2417                   </td> <td>62.575              </td> <td>62.8167                 </td> <td>52.7333                 </td> <td>42.9083                     </td> <td>55.35              </td>\n",
       "        </tr>\n",
       "    </tbody>\n",
       "</table>\n",
       "<p>... (9 rows omitted)</p"
      ],
      "text/plain": [
       "Year | Northeast Climate Region | Northern Rockies and Plains Climate Region | Northwest Climate Region | Ohio Valley Climate Region | South Climate Region | Southeast Climate Region | Southwest Climate Region | Upper Midwest Climate Region | West Climate Region\n",
       "2000 | 46.0333                  | 44.0417                                    | 45.9333                  | 53.8083                    | 63.4667              | 62.6667                  | 53.9667                  | 44.5167                      | 55.7667\n",
       "2001 | 47.7167                  | 44.9333                                    | 46.325                   | 54.775                     | 63.1583              | 63.15                    | 53.5667                  | 45.7417                      | 56.0083\n",
       "2002 | 47.7083                  | 43.55                                      | 45.9                     | 54.7917                    | 62.525               | 63.65                    | 53.1                     | 45.0333                      | 55.5417\n",
       "2003 | 45.6083                  | 44.4                                       | 47.5583                  | 53.3083                    | 62.65                | 62.6167                  | 54.1833                  | 43.8667                      | 56.475\n",
       "2004 | 46.275                   | 44.1083                                    | 47                       | 54.2                       | 62.7833              | 63.1667                  | 52.5583                  | 44.1167                      | 55.55\n",
       "2005 | 47.1333                  | 44.8833                                    | 46.225                   | 54.925                     | 63.5                 | 63.1667                  | 53.4417                  | 45.65                        | 55.3333\n",
       "2006 | 48.6833                  | 45.7583                                    | 46.5583                  | 55.3417                    | 64.3667              | 63.7833                  | 53.35                    | 46.7                         | 55.4083\n",
       "2007 | 46.7167                  | 44.9833                                    | 46.5083                  | 55.3417                    | 62.7583              | 64.1667                  | 53.3833                  | 45.1833                      | 55.8833\n",
       "2008 | 46.85                    | 42.3833                                    | 45.075                   | 53.025                     | 62.4167              | 62.9417                  | 52.3083                  | 42.4333                      | 55.4333\n",
       "2009 | 46.125                   | 42.1833                                    | 45.525                   | 53.2417                    | 62.575               | 62.8167                  | 52.7333                  | 42.9083                      | 55.35\n",
       "... (9 rows omitted)"
      ]
     },
     "execution_count": 51,
     "metadata": {},
     "output_type": "execute_result"
    }
   ],
   "source": [
    "# Before we use the method, we should think clearly about what we want to achieve\n",
    "all_year_avgs = temps.pivot(\"Region\", \"Year\", values=\"Average Temperature\", collect=np.mean)\n",
    "all_year_avgs"
   ]
  },
  {
   "cell_type": "code",
   "execution_count": 52,
   "metadata": {},
   "outputs": [
    {
     "data": {
      "image/png": "[encoded data removed]",
      "text/plain": [
       "<matplotlib.figure.Figure at 0x1a1e9c5e80>"
      ]
     },
     "metadata": {
      "needs_background": "light"
     },
     "output_type": "display_data"
    }
   ],
   "source": [
    "# Now let's compare West Climate Region to Northeast Climate Region\n",
    "all_year_avgs.hist(\"West Climate Region\", \"Northeast Climate Region\")"
   ]
  },
  {
   "cell_type": "code",
   "execution_count": 50,
   "metadata": {},
   "outputs": [
    {
     "data": {
      "image/png": "[encoded data removed]",
      "text/plain": [
       "<matplotlib.figure.Figure at 0x1a1e532438>"
      ]
     },
     "metadata": {
      "needs_background": "light"
     },
     "output_type": "display_data"
    }
   ],
   "source": [
    "# We can even compare every region this way\n",
    "all_year_avgs.hist(np.arange(1, 10))"
   ]
  },
  {
   "cell_type": "markdown",
   "metadata": {},
   "source": [
    "# Let's finish with some knowledge about histograms\n",
    "---\n",
    "\n",
    "We might have some questions about these histograms, and we should figure out the answers!\n",
    "\n",
    "Q. What do histograms measure?\n",
    "\n",
    "Q. Why the histograms for some regions taller than others?\n",
    "\n",
    "Q. What do we know is true for every region's histogram?\n",
    "\n",
    "Q. If we change to density (`normed=False`) then does our previous answer change?\n",
    "\n",
    "Q. How do we calculate the number of occurrences of a certain bin using counts (`normed=False`)?\n",
    "\n",
    "Q. How do we calculate the number of occurrences of a certain bin using density?"
   ]
  }
 ],
 "metadata": {
  "kernelspec": {
   "display_name": "Python 2",
   "language": "python",
   "name": "python2"
  },
  "language_info": {
   "codemirror_mode": {
    "name": "ipython",
    "version": 2
   },
   "file_extension": ".py",
   "mimetype": "text/x-python",
   "name": "python",
   "nbconvert_exporter": "python",
   "pygments_lexer": "ipython2",
   "version": "2.7.13"
  }
 },
 "nbformat": 4,
 "nbformat_minor": 2
}
