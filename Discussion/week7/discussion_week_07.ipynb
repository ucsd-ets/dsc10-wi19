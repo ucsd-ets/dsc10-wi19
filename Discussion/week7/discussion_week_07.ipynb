{
 "cells": [
  {
   "cell_type": "markdown",
   "metadata": {},
   "source": [
    "# Hypothesis Testing, A/B Testing\n",
    "---\n",
    "\n",
    "Tonight we'll be conducting our own A/B test and extracting useful business insights!"
   ]
  },
  {
   "cell_type": "code",
   "execution_count": 2,
   "metadata": {},
   "outputs": [],
   "source": [
    "from datascience import *\n",
    "import numpy as np\n",
    "import matplotlib.pyplot as plt\n",
    "%matplotlib inline"
   ]
  },
  {
   "cell_type": "markdown",
   "metadata": {},
   "source": [
    "You've just been hired as the Chief Data Scientist for CALPIRG.  You're being tasked with helping the UX (user experience) team tweak your website to try to get more people to pledge to Save the Bees™.  Here are the two strategies the team has come up with:\n",
    "1. Have a pledge button and call-to-action on just the main page of the site\n",
    "2. Have a popup with the pledge button and call-to-action whenever you visit the site\n",
    "\n",
    "As a data scientist, it is your job to see which method is more effective at driving pledges (we'll simply call them \"clicks\").  It is also your job to create a compelling argument to convince CALPIRG to act in accordance to your findings.\n",
    "\n",
    "Ready?  Let's begin."
   ]
  },
  {
   "cell_type": "markdown",
   "metadata": {},
   "source": [
    "# Step 0: Why do we do hypothesis testing?\n",
    "---\n",
    "\n",
    "Simply comparing the average of the two groups has a lot of room for error.\n",
    "\n",
    "Have you ever heard of a difference being \"*statistically significant*\"?  We don't just want to see if there's a difference—we want to know if that difference is caused by something, or if it's even a significant difference in the first place!\n",
    "\n",
    "We're able to determine if something is significant or not by hypothesis testing.\n",
    "\n",
    "Hypothesis testing helps with the following:\n",
    "* Figuring out the differences between two measurements when we're looking at a **sample** instead of the population\n",
    "* Figuring out if a difference could have happened by random chance\n",
    "* Establishing **causation** if we conducted an experiment"
   ]
  },
  {
   "cell_type": "code",
   "execution_count": 2,
   "metadata": {
    "collapsed": true
   },
   "outputs": [],
   "source": [
    "# That last point is very important"
   ]
  },
  {
   "cell_type": "markdown",
   "metadata": {},
   "source": [
    "# Step 1: Choosing our hypotheses\n",
    "---\n",
    "\n",
    "Recall, when conducting a hypothesis test we generate two hypotheses:\n",
    "\n",
    "### The Null Hypothesis (H<sub>0</sub>):\n",
    "States that nothing really changed.  Technically, it states that both of the samples came from the same population.\n",
    "\n",
    "### The Alternative Hypothesis (H<sub>1</sub>):\n",
    "States that there is a difference between the two distributions from which the samples were taken."
   ]
  },
  {
   "cell_type": "code",
   "execution_count": 3,
   "metadata": {
    "collapsed": true
   },
   "outputs": [],
   "source": [
    "# Alright, let's create our two hypotheses together"
   ]
  },
  {
   "cell_type": "markdown",
   "metadata": {},
   "source": [
    "```\n",
    "Null: Visitors that see a popup on every page will not express different click rates than visitors that only saw the pledge on the main page.\n",
    "\n",
    "Alt:  Visitors that see a popup on every page will express a higher click rate than visitors that only saw the pledge on the main page.\n",
    "```"
   ]
  },
  {
   "cell_type": "code",
   "execution_count": 4,
   "metadata": {
    "collapsed": true
   },
   "outputs": [],
   "source": [
    "# It's important to be specific when working with statistics."
   ]
  },
  {
   "cell_type": "code",
   "execution_count": 5,
   "metadata": {
    "collapsed": true
   },
   "outputs": [],
   "source": [
    "# Let's create two more hypotheses:"
   ]
  },
  {
   "cell_type": "markdown",
   "metadata": {},
   "source": [
    "```\n",
    "Let c := the average click rate of visitors before the experiment (theoretically the same as control)\n",
    "\n",
    "H_0: c_popup = c_control\n",
    "H_1: c_popup < c_control\n",
    "\n",
    "or\n",
    "\n",
    "H_0: c_popup = c_control\n",
    "H_1: c_popup ≠ c_control\n",
    "```"
   ]
  },
  {
   "cell_type": "markdown",
   "metadata": {},
   "source": [
    "# Step 2: Setting up the experiment\n",
    "---\n",
    "\n",
    "Now we need to figure out how to test this (and how to measure the results).\n",
    "\n",
    "Since we are scientists, after all, it is important that we follow some rules when conducting experiements:\n",
    "- The experiment must be controlled\n",
    "- The experiment must have a treatment and control group\n",
    "- The experiment must not be harmful\n",
    "- The experiment must produce results that can evaluate a hypothesis\n",
    "- The results must be reproducible (the experiment must be able to be repeated)\n",
    "\n",
    "Well, I hope we're not harming anyone by showing them a few popups.  As for fulfilling the rest of the requirements, what do you think is a good way to create our experiment?"
   ]
  },
  {
   "cell_type": "markdown",
   "metadata": {},
   "source": [
    "```\n",
    "Randomly assign some fixed proportion of visitors to be in group B (treatment) and receive popups when they visit the site.  The rest are in group A (control) and see the pledge only on the main page.\n",
    "\n",
    "For every visitor, we record which group they were in and whether or not they clicked pledge during their session.\n",
    "```"
   ]
  },
  {
   "cell_type": "markdown",
   "metadata": {},
   "source": [
    "Our experiment is a Random Controlled Trial (RCT), as opposed to an Observational Study.  What does this mean we can conclude from the results of the experiment?"
   ]
  },
  {
   "cell_type": "markdown",
   "metadata": {},
   "source": [
    "```\n",
    "We'll have the opportunity to conclude causation!\n",
    "```"
   ]
  },
  {
   "cell_type": "markdown",
   "metadata": {},
   "source": [
    "# Step 3: Execute the experiment\n",
    "---\n",
    "\n",
    "Now we implement this experiment in the code for the website.  We need to make sure to record the results!\n",
    "\n",
    "We received 1000 visitors over the last week, and kept track of which group they were in and whether they pledged.\n",
    "\n",
    "`0 = Did not pledge; 1 = Pledged`"
   ]
  },
  {
   "cell_type": "code",
   "execution_count": 6,
   "metadata": {
    "collapsed": true
   },
   "outputs": [],
   "source": [
    "data = Table.read_table(\"popup-test.csv\")"
   ]
  },
  {
   "cell_type": "code",
   "execution_count": 7,
   "metadata": {},
   "outputs": [
    {
     "data": {
      "text/html": [
       "<table border=\"1\" class=\"dataframe\">\n",
       "    <thead>\n",
       "        <tr>\n",
       "            <th>Group</th> <th>Click</th>\n",
       "        </tr>\n",
       "    </thead>\n",
       "    <tbody>\n",
       "        <tr>\n",
       "            <td>Control  </td> <td>0    </td>\n",
       "        </tr>\n",
       "    </tbody>\n",
       "        <tr>\n",
       "            <td>Control  </td> <td>0    </td>\n",
       "        </tr>\n",
       "    </tbody>\n",
       "        <tr>\n",
       "            <td>Control  </td> <td>0    </td>\n",
       "        </tr>\n",
       "    </tbody>\n",
       "        <tr>\n",
       "            <td>Treatment</td> <td>0    </td>\n",
       "        </tr>\n",
       "    </tbody>\n",
       "        <tr>\n",
       "            <td>Treatment</td> <td>1    </td>\n",
       "        </tr>\n",
       "    </tbody>\n",
       "        <tr>\n",
       "            <td>Control  </td> <td>0    </td>\n",
       "        </tr>\n",
       "    </tbody>\n",
       "        <tr>\n",
       "            <td>Control  </td> <td>1    </td>\n",
       "        </tr>\n",
       "    </tbody>\n",
       "        <tr>\n",
       "            <td>Treatment</td> <td>0    </td>\n",
       "        </tr>\n",
       "    </tbody>\n",
       "        <tr>\n",
       "            <td>Control  </td> <td>0    </td>\n",
       "        </tr>\n",
       "    </tbody>\n",
       "        <tr>\n",
       "            <td>Control  </td> <td>0    </td>\n",
       "        </tr>\n",
       "    </tbody>\n",
       "</table>\n",
       "<p>... (990 rows omitted)</p"
      ],
      "text/plain": [
       "Group     | Click\n",
       "Control   | 0\n",
       "Control   | 0\n",
       "Control   | 0\n",
       "Treatment | 0\n",
       "Treatment | 1\n",
       "Control   | 0\n",
       "Control   | 1\n",
       "Treatment | 0\n",
       "Control   | 0\n",
       "Control   | 0\n",
       "... (990 rows omitted)"
      ]
     },
     "execution_count": 7,
     "metadata": {},
     "output_type": "execute_result"
    }
   ],
   "source": [
    "data"
   ]
  },
  {
   "cell_type": "code",
   "execution_count": 8,
   "metadata": {
    "collapsed": true
   },
   "outputs": [],
   "source": [
    "# Is this the population?"
   ]
  },
  {
   "cell_type": "markdown",
   "metadata": {},
   "source": [
    "```\n",
    "No, it is a sample of the population.\n",
    "```"
   ]
  },
  {
   "cell_type": "markdown",
   "metadata": {},
   "source": [
    "# Step 4: Test the null hypothesis\n",
    "---\n",
    "\n",
    "Let's establish something thing before we go any further:\n",
    "- What is the statistic we are trying to test for?"
   ]
  },
  {
   "cell_type": "code",
   "execution_count": 9,
   "metadata": {
    "collapsed": true
   },
   "outputs": [],
   "source": [
    "# What are we looking at between treatment and control?"
   ]
  },
  {
   "cell_type": "markdown",
   "metadata": {},
   "source": [
    "```\n",
    "Looking for the difference in click rate (proportion pledged).\n",
    "Let's be specific: difference = {control click rate} - {treatment click rate}\n",
    "```"
   ]
  },
  {
   "cell_type": "code",
   "execution_count": 10,
   "metadata": {},
   "outputs": [
    {
     "data": {
      "text/html": [
       "<table border=\"1\" class=\"dataframe\">\n",
       "    <thead>\n",
       "        <tr>\n",
       "            <th>Group</th> <th>Click sum</th>\n",
       "        </tr>\n",
       "    </thead>\n",
       "    <tbody>\n",
       "        <tr>\n",
       "            <td>Control  </td> <td>185      </td>\n",
       "        </tr>\n",
       "    </tbody>\n",
       "        <tr>\n",
       "            <td>Treatment</td> <td>170      </td>\n",
       "        </tr>\n",
       "    </tbody>\n",
       "</table>"
      ],
      "text/plain": [
       "Group     | Click sum\n",
       "Control   | 185\n",
       "Treatment | 170"
      ]
     },
     "execution_count": 10,
     "metadata": {},
     "output_type": "execute_result"
    }
   ],
   "source": [
    "# Let's find that difference from our sample above\n",
    "clicks = data.group(\"Group\", sum)\n",
    "clicks"
   ]
  },
  {
   "cell_type": "code",
   "execution_count": 11,
   "metadata": {},
   "outputs": [
    {
     "data": {
      "text/html": [
       "<table border=\"1\" class=\"dataframe\">\n",
       "    <thead>\n",
       "        <tr>\n",
       "            <th>Group</th> <th>count</th>\n",
       "        </tr>\n",
       "    </thead>\n",
       "    <tbody>\n",
       "        <tr>\n",
       "            <td>Control  </td> <td>476  </td>\n",
       "        </tr>\n",
       "    </tbody>\n",
       "        <tr>\n",
       "            <td>Treatment</td> <td>524  </td>\n",
       "        </tr>\n",
       "    </tbody>\n",
       "</table>"
      ],
      "text/plain": [
       "Group     | count\n",
       "Control   | 476\n",
       "Treatment | 524"
      ]
     },
     "execution_count": 11,
     "metadata": {},
     "output_type": "execute_result"
    }
   ],
   "source": [
    "groups = data.group(\"Group\")\n",
    "groups"
   ]
  },
  {
   "cell_type": "code",
   "execution_count": 12,
   "metadata": {},
   "outputs": [
    {
     "data": {
      "text/html": [
       "<table border=\"1\" class=\"dataframe\">\n",
       "    <thead>\n",
       "        <tr>\n",
       "            <th>Group</th> <th>Rate</th>\n",
       "        </tr>\n",
       "    </thead>\n",
       "    <tbody>\n",
       "        <tr>\n",
       "            <td>Control  </td> <td>0.388655</td>\n",
       "        </tr>\n",
       "    </tbody>\n",
       "        <tr>\n",
       "            <td>Treatment</td> <td>0.324427</td>\n",
       "        </tr>\n",
       "    </tbody>\n",
       "</table>"
      ],
      "text/plain": [
       "Group     | Rate\n",
       "Control   | 0.388655\n",
       "Treatment | 0.324427"
      ]
     },
     "execution_count": 12,
     "metadata": {},
     "output_type": "execute_result"
    }
   ],
   "source": [
    "click_rates = Table().with_columns(\n",
    "    \"Group\", [\"Control\", \"Treatment\"],\n",
    "    \"Rate\", clicks.column(\"Click sum\") / groups.column(\"count\")\n",
    ")\n",
    "click_rates"
   ]
  },
  {
   "cell_type": "code",
   "execution_count": 13,
   "metadata": {},
   "outputs": [
    {
     "data": {
      "text/plain": [
       "0.06422798126884344"
      ]
     },
     "execution_count": 13,
     "metadata": {},
     "output_type": "execute_result"
    }
   ],
   "source": [
    "rates = click_rates.column(\"Rate\")\n",
    "observed_diff = rates.item(0) - rates.item(1)\n",
    "observed_diff"
   ]
  },
  {
   "cell_type": "code",
   "execution_count": 14,
   "metadata": {
    "collapsed": true
   },
   "outputs": [],
   "source": [
    "# Does that seem like a big difference?"
   ]
  },
  {
   "cell_type": "markdown",
   "metadata": {},
   "source": [
    "```\n",
    "...\n",
    "```"
   ]
  },
  {
   "cell_type": "markdown",
   "metadata": {},
   "source": [
    "Now we are trying to figure out how likely it is to observe that distance or greater."
   ]
  },
  {
   "cell_type": "code",
   "execution_count": 15,
   "metadata": {
    "collapsed": true
   },
   "outputs": [],
   "source": [
    "# Why \"that distance or greater\"?  Why not \"that distance\"?"
   ]
  },
  {
   "cell_type": "markdown",
   "metadata": {},
   "source": [
    "```\n",
    "The probability of getting exactly that distance is really, really slim.\n",
    "\n",
    "Also, if we're trying to say that it's unlikely we'd get a distance of 6%, then wouldn't we also say it's increasingly unlikely to get a distance greater than 6%?\n",
    "```"
   ]
  },
  {
   "cell_type": "markdown",
   "metadata": {},
   "source": [
    "### A bit more detail into testing the null hypothesis\n",
    "\n",
    "What is the null hypothesis?\n",
    "\n",
    "> The popup has no effect.  The click rate for visitors who get the popup and for visitors who don't come **from the same population**.\n",
    "\n",
    "Recall, when we run a hypothesis test we are **trying to prove the null hypothesis**.  How would we do that?"
   ]
  },
  {
   "cell_type": "markdown",
   "metadata": {},
   "source": [
    "```\n",
    "We want to show that it is reasonable for us to find the observed difference when the distribution behind visitors with and without the popup is the same distribution.\n",
    "```"
   ]
  },
  {
   "cell_type": "markdown",
   "metadata": {},
   "source": [
    "### Permutation test\n",
    "All we have is a sample.  We have no other knowledge of our population.\n",
    "\n",
    "So... how are we going to try and prove the null hypothesis?"
   ]
  },
  {
   "cell_type": "markdown",
   "metadata": {},
   "source": [
    "```\n",
    "We want to say that no matter how the groups are assigned, it is still reasonable for us to find the observed difference.\n",
    "```"
   ]
  },
  {
   "cell_type": "code",
   "execution_count": 16,
   "metadata": {
    "collapsed": true
   },
   "outputs": [],
   "source": [
    "# Let's conduct the permutation test\n",
    "trials = 1000\n",
    "differences = make_array()\n",
    "\n",
    "for i in range(trials):\n",
    "    # We choose one of the columns, either the Group or the Click, to shuffle\n",
    "    shuffled_groups = data.sample(with_replacement=False).column(\"Group\")\n",
    "    \n",
    "    # Then we match it back up with our other column\n",
    "    shuffled_data = Table().with_columns(\n",
    "        \"Group\", shuffled_groups,\n",
    "        \"Click\", data.column(\"Click\")\n",
    "    )\n",
    "    \n",
    "    # Now, we see what differences we get after shuffling\n",
    "    click_rates = (\n",
    "        shuffled_data.group(\"Group\", sum).column(\"Click sum\")\n",
    "        / shuffled_data.group(\"Group\").column(\"count\")\n",
    "    )\n",
    "    \n",
    "    difference = click_rates.item(0) - click_rates.item(1)\n",
    "    \n",
    "    differences = np.append(differences, difference)"
   ]
  },
  {
   "cell_type": "code",
   "execution_count": 19,
   "metadata": {},
   "outputs": [
    {
     "data": {
      "text/plain": [
       "<matplotlib.lines.Line2D at 0x1a11a3c4e0>"
      ]
     },
     "execution_count": 19,
     "metadata": {},
     "output_type": "execute_result"
    },
    {
     "data": {
      "image/png": "[encoded data removed]",
      "text/plain": [
       "<matplotlib.figure.Figure at 0x1a11a3c438>"
      ]
     },
     "metadata": {
      "needs_background": "light"
     },
     "output_type": "display_data"
    }
   ],
   "source": [
    "# Let's visualize the distribution of differences\n",
    "Table().with_column(\"Difference\", differences).hist()\n",
    "\n",
    "# Where does our observed difference land?\n",
    "plt.axvline(observed_diff, c='r')"
   ]
  },
  {
   "cell_type": "code",
   "execution_count": 20,
   "metadata": {
    "collapsed": true
   },
   "outputs": [],
   "source": [
    "# Wow, that's more different than 6% would lead you to believe!"
   ]
  },
  {
   "cell_type": "code",
   "execution_count": 21,
   "metadata": {},
   "outputs": [
    {
     "data": {
      "text/plain": [
       "0.018"
      ]
     },
     "execution_count": 21,
     "metadata": {},
     "output_type": "execute_result"
    }
   ],
   "source": [
    "# What's the chance of a difference geq the observed difference occurring?\n",
    "np.count_nonzero(differences >= observed_diff) / len(differences)"
   ]
  },
  {
   "cell_type": "markdown",
   "metadata": {},
   "source": [
    "### Another type of test\n",
    "Let's say that we know the average click rate for visitors is 0.4.  Then, we can test the null hypothesis by simulation as opposed to permutation."
   ]
  },
  {
   "cell_type": "code",
   "execution_count": 23,
   "metadata": {
    "collapsed": true
   },
   "outputs": [],
   "source": [
    "trials = 1000\n",
    "visitors = 1000\n",
    "differences = []\n",
    "\n",
    "for i in range(trials):\n",
    "    d = {\"Control\": {\"visitors\": 0, \"clicks\": 0}, \"Treatment\": {\"visitors\": 0, \"clicks\": 0}}\n",
    "    \n",
    "    for visitor in range(visitors):\n",
    "        # 50% chance of being in treatment\n",
    "        group = np.random.choice([\"Treatment\", \"Control\"])\n",
    "\n",
    "        # 40% chance of clicking\n",
    "        click = np.random.choice([1, 0], p=[0.4, 0.6])\n",
    "        \n",
    "        d[group][\"visitors\"] += 1\n",
    "        d[group][\"clicks\"] += click\n",
    "        \n",
    "    rate_control = d[\"Control\"][\"clicks\"] / d[\"Control\"][\"visitors\"]\n",
    "    rate_treatment = d[\"Treatment\"][\"clicks\"] / d[\"Treatment\"][\"visitors\"]\n",
    "    difference = rate_control - rate_treatment\n",
    "    \n",
    "    differences.append(difference)"
   ]
  },
  {
   "cell_type": "code",
   "execution_count": 24,
   "metadata": {},
   "outputs": [
    {
     "data": {
      "text/plain": [
       "<matplotlib.lines.Line2D at 0x1a18e0ea58>"
      ]
     },
     "execution_count": 24,
     "metadata": {},
     "output_type": "execute_result"
    },
    {
     "data": {
      "image/png": "[encoded data removed]",
      "text/plain": [
       "<matplotlib.figure.Figure at 0x1a18e0ea90>"
      ]
     },
     "metadata": {
      "needs_background": "light"
     },
     "output_type": "display_data"
    }
   ],
   "source": [
    "# Visualize again\n",
    "Table().with_column(\"Difference\", differences).hist()\n",
    "plt.axvline(observed_diff, c='r')"
   ]
  },
  {
   "cell_type": "code",
   "execution_count": 25,
   "metadata": {},
   "outputs": [
    {
     "data": {
      "text/plain": [
       "0.022"
      ]
     },
     "execution_count": 25,
     "metadata": {},
     "output_type": "execute_result"
    }
   ],
   "source": [
    "np.count_nonzero(np.array(differences) >= observed_diff) / len(differences)"
   ]
  },
  {
   "cell_type": "markdown",
   "metadata": {},
   "source": [
    "# Step 5: Interpret the results\n",
    "---\n",
    "\n",
    "In order to interpret the results, and figure out whether or not the observed difference was statistically significant, we need to set a significance level, **<code>&alpha;</code>**.\n",
    "\n",
    "The significance level is defined as the probability of making a \"Type I Error\" in which we reject the null hypothesis when it is actually true.  Meaning, if we set $\\alpha = 0.05$ then we have 5% chance of mistakenly rejecting the null hypothesis.\n",
    "\n",
    "\n",
    "From our experiment, we calculate a **<code>p-value</code>**.\n",
    "\n",
    "The p-value is the defined as the probability of observing a difference greater than or equal to the observed difference if the null hypothesis were to be true."
   ]
  },
  {
   "cell_type": "code",
   "execution_count": 28,
   "metadata": {
    "collapsed": true
   },
   "outputs": [],
   "source": [
    "# What is the p-value of our experiment above?\n",
    "# (based on the permutation test)"
   ]
  },
  {
   "cell_type": "code",
   "execution_count": 29,
   "metadata": {},
   "outputs": [
    {
     "data": {
      "text/plain": [
       "0.018"
      ]
     },
     "execution_count": 29,
     "metadata": {},
     "output_type": "execute_result"
    }
   ],
   "source": [
    "0.018"
   ]
  },
  {
   "cell_type": "markdown",
   "metadata": {},
   "source": [
    "If the p-value is less than or equal to the significance level, then we reject the null hypothesis and support the alternative hypothesis."
   ]
  },
  {
   "cell_type": "code",
   "execution_count": 31,
   "metadata": {
    "collapsed": true
   },
   "outputs": [],
   "source": [
    "# Since this is an experiment, what does supporting the alternative hypothesis imply?"
   ]
  },
  {
   "cell_type": "markdown",
   "metadata": {},
   "source": [
    "```\n",
    "It implies causation — the popup likely was the cause of the difference in click rate.\n",
    "```"
   ]
  },
  {
   "cell_type": "code",
   "execution_count": 30,
   "metadata": {
    "collapsed": true
   },
   "outputs": [],
   "source": [
    "# If the p-value is greater than the null hypothesis, then we..."
   ]
  },
  {
   "cell_type": "markdown",
   "metadata": {},
   "source": [
    "```\n",
    "If p > 𝛼, then we **fail to reject** the null hypothesis.\n",
    "```"
   ]
  },
  {
   "cell_type": "markdown",
   "metadata": {},
   "source": [
    "So, now it's time to prepare our presentation to CALPIRG:\n",
    "\n",
    "---"
   ]
  },
  {
   "cell_type": "markdown",
   "metadata": {},
   "source": [
    "In order to get more people to pledge while visiting the website, we should:\n",
    "...\n",
    "\n",
    "We concluded this from\n",
    "...\n",
    "in which we assigned\n",
    "...\n",
    "We collected\n",
    "...\n",
    "and saw\n",
    "...\n",
    "\n",
    "We proposed two hypotheses:\n",
    "...\n",
    "After running a\n",
    "...\n",
    "we discovered that the observed difference\n",
    "...\n",
    "\n",
    "So, we\n",
    "...\n",
    "because our p-value\n",
    "...\n",
    "And, therefore\n",
    "...\n",
    "\n",
    "In conclusion,\n",
    "..."
   ]
  },
  {
   "cell_type": "code",
   "execution_count": null,
   "metadata": {
    "collapsed": true
   },
   "outputs": [],
   "source": []
  }
 ],
 "metadata": {
  "kernelspec": {
   "display_name": "Python 3",
   "language": "python",
   "name": "python3"
  },
  "language_info": {
   "codemirror_mode": {
    "name": "ipython",
    "version": 3
   },
   "file_extension": ".py",
   "mimetype": "text/x-python",
   "name": "python",
   "nbconvert_exporter": "python",
   "pygments_lexer": "ipython3",
   "version": "3.6.8"
  }
 },
 "nbformat": 4,
 "nbformat_minor": 2
}
