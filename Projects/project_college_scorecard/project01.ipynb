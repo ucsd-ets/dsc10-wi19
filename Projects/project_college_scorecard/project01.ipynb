{
 "cells": [
  {
   "cell_type": "markdown",
   "metadata": {},
   "source": [
    "# Project 1: The College Scorecard. Due Sunday, February 3rd at 11:59pm\n",
    "Before you begin, execute the following cell to load the provided tests."
   ]
  },
  {
   "cell_type": "code",
   "execution_count": null,
   "metadata": {},
   "outputs": [],
   "source": [
    "from datascience import *\n",
    "\n",
    "import matplotlib.pyplot as plots\n",
    "%matplotlib inline\n",
    "plots.style.use('fivethirtyeight')\n",
    "\n",
    "import numpy as np\n",
    "\n",
    "from client.api.notebook import Notebook\n",
    "ok = Notebook('project01.ok')\n",
    "_ = ok.auth(inline=True)"
   ]
  },
  {
   "cell_type": "markdown",
   "metadata": {},
   "source": [
    "In this project, you'll explore the [college scorecard data](https://collegescorecard.ed.gov/data/), which began as an initiative to focus college ranking on financial considerations in addition to academic considerations. This dataset was last updated September 28, 2018. The project will build an understanding of \n",
    "* the US college landscape, \n",
    "* the cost of colleges in relation to students' future earnings and debt,\n",
    "* and school's SAT scores in relation to gradution rates and student profiles.\n",
    "\n",
    "The datasets in this project consist of real-world data, cleaned slighty for ease of use. As such, there are occasional anomalies that you'll have to look out for and handle specially. You are encouraged to ask your own questions and try to answer them using these datasets!\n",
    "\n",
    "### Logistics\n",
    "\n",
    "**Deadline.** This project is due at **11:59pm on Sunday 2/3**. It's much better to be early than late, so start working now.\n",
    "\n",
    "**Free Response Questions**: The free response questions and plots for the project are **optional** and ungraded, meaning you do **not** need to submit a PDF of this notebook to Gradescope. These questions tend to be open-ended. However, these questions will be very good practice for the free-response exam questions, so do give them a good effort. Solutions will be posted after the project deadline.\n",
    "\n",
    "**Partners.** You may work with one other partner; only one of you is required to submit the project. On okpy.org, the person who submits should also designate their partner so that both of you receive credit.\n",
    "\n",
    "**Rules.** Don't share your code with anybody but your partner. You are welcome to discuss questions with other students, but don't share the answers or code. The experience of solving the problems in this project will prepare you for exams (and life). If someone asks you for the answer, resist! Instead, you can demonstrate how you would solve a similar problem.\n",
    "\n",
    "**Support.** You are not alone! Come to office hours, post on Piazza, and talk to your classmates. If you want to ask about the details of your solution to a problem, make a private Piazza post and the staff will respond. If you're ever feeling overwhelmed or don't know how to make progress, send a private Piazza post to instructors for help.\n",
    "\n",
    "**Tests.** The tests that are given are not comprehensive and passing the tests for a question does not mean that you answered the question correctly. Tests usually only check that your table has the correct column labels. However, more tests will be applied to verify the correctness of your submission in order to assign your final score, so be careful and check your work!\n",
    "\n",
    "**Advice.** Develop your answers incrementally. To perform a complicated table manipulation, break it up into steps, perform each step on a different line, give a new name to each result, and check that each intermediate result is what you expect. You can add any additional names or functions you want to the provided cells. Make sure that you are using distinct and meaningful variable names throughout the notebook. Along that line, DO NOT reuse the variable names that we use when we grade your answers, otherwise there is the chance that our tests will grade against a variable that's not what you intened (especially if you run the notebook out of order!).\n",
    "\n",
    "You never have to use just one line in this project or any others. Use intermediate variables and multiple lines as much as you would like!"
   ]
  },
  {
   "cell_type": "markdown",
   "metadata": {},
   "source": [
    "## 1. Basic Analysis: Understanding the US college landscape\n",
    "\n",
    "```\n",
    "UNITID                 Unit ID for institution\n",
    "INSTNM                 Institution name\n",
    "CITY                   City\n",
    "STABBR                 State postcode\n",
    "PREDDEG                Predominant undergraduate degree awarded\n",
    "                           1 Predominantly certificate-degree granting\n",
    "                           2 Predominantly associate's-degree granting\n",
    "                           3 Predominantly bachelor's-degree granting\n",
    "CONTROL                Control of institution\n",
    "RELAFFIL               Religous affiliation of the institution\n",
    "DISTANCEONLY           Flag for distance-education-only education\n",
    "UGDS                   Enrollment of undergraduate certificate/degree-seeking students\n",
    "UGDS_NRA               Total share of enrollment of undergraduate degree-seeking students who are non-resident aliens\n",
    "PCTPELL                Percentage of undergraduates who receive a Pell Grant\n",
    "PCTFLOAN               Percent of all undergraduate students receiving a federal student loan\n",
    "```\n",
    "\n",
    "### Goals of the section\n",
    "\n",
    "This section attempts to understand the landscape of US college populations. You will explore the meaning and makeup of the fields listed above.\n",
    "\n",
    "First, load the school information found in the file `data/csc_basic.csv` into a Table called `schools`."
   ]
  },
  {
   "cell_type": "code",
   "execution_count": null,
   "metadata": {},
   "outputs": [],
   "source": [
    "schools = ...\n",
    "schools"
   ]
  },
  {
   "cell_type": "markdown",
   "metadata": {},
   "source": [
    "**Question 1.** What is the maximum number of undergraduate students at any school across the entire US? Assign your answer to the name `max_students`."
   ]
  },
  {
   "cell_type": "code",
   "execution_count": null,
   "metadata": {},
   "outputs": [],
   "source": [
    "max_students = ...\n",
    "max_students"
   ]
  },
  {
   "cell_type": "code",
   "execution_count": null,
   "metadata": {},
   "outputs": [],
   "source": [
    "_ = ok.grade('q1_1')"
   ]
  },
  {
   "cell_type": "markdown",
   "metadata": {},
   "source": [
    "### Institutions by type of degree awarded"
   ]
  },
  {
   "cell_type": "markdown",
   "metadata": {},
   "source": [
    "The field `PREDDEG` describes the \"predominant undergraduate degree awarded\" from the listed institution. An explanation of the values for `PREDDEG` are given in the field descriptions at the top of the section. Create tables `bachelors`, `associates`, `certificates` containing schools whose primary degree awarded are bachelor degrees, associate degrees, and certificates respectively."
   ]
  },
  {
   "cell_type": "code",
   "execution_count": null,
   "metadata": {},
   "outputs": [],
   "source": [
    "bachelors = ...\n",
    "associates = ...\n",
    "certificate = ..."
   ]
  },
  {
   "cell_type": "markdown",
   "metadata": {},
   "source": [
    "To understand the profiles of colleges that primarily award these degrees, we'll calculate statistics on each of the tables above.\n",
    "\n",
    "**Question 2.** Create three arrays, each of which has size 3:\n",
    "1. An array called `number_of_students` of the total number of students in each bachelor, associate, certificate degree granting school types (in that order).\n",
    "2. An array called `pct_type` containing the percentage of schools that grant each degree type (bachelor, associate, certificate) (in that order).\n",
    "3. An array called `min_size` containing the minimum size of the undergraduate population at colleges of bachelor, associate, certificate degree granting types (in that order)."
   ]
  },
  {
   "cell_type": "code",
   "execution_count": null,
   "metadata": {},
   "outputs": [],
   "source": [
    "number_of_students = ...\n",
    "pct_type = ...\n",
    "min_size = ..."
   ]
  },
  {
   "cell_type": "code",
   "execution_count": null,
   "metadata": {},
   "outputs": [],
   "source": [
    "_ = ok.grade('q1_2')"
   ]
  },
  {
   "cell_type": "markdown",
   "metadata": {},
   "source": [
    "**Question 3.** Display these statistics in a table named `basic_stats`, with columns \"School Type\", \"Number of Students\", \"Percentage of Colleges\", and \"Minimum Size\""
   ]
  },
  {
   "cell_type": "code",
   "execution_count": null,
   "metadata": {},
   "outputs": [],
   "source": [
    "basic_stats = ...\n",
    "basic_stats"
   ]
  },
  {
   "cell_type": "code",
   "execution_count": null,
   "metadata": {},
   "outputs": [],
   "source": [
    "_ = ok.grade('q1_3')"
   ]
  },
  {
   "cell_type": "markdown",
   "metadata": {},
   "source": [
    "**Optional:** What do you think the \"typical\" US school looks like? Is it an institution that primarily grants bachelors degrees, associate degrees, or certificates? What is the appropriate definition of 'individual unit of analysis' when studying colleges -- school or student?"
   ]
  },
  {
   "cell_type": "markdown",
   "metadata": {},
   "source": [
    "<hr style=\"color:Maroon;background-color:Maroon;border:0 none; height: 3px;\">\n",
    "\n",
    "*Write your (optional) answer here, replacing this text.*\n",
    "\n",
    "<hr style=\"color:Maroon;background-color:Maroon;border:0 none; height: 3px;\">"
   ]
  },
  {
   "cell_type": "markdown",
   "metadata": {},
   "source": [
    "### Understanding institution type"
   ]
  },
  {
   "cell_type": "markdown",
   "metadata": {},
   "source": [
    "**Question 4.** The field `CONTROL` describes whether a school is for-profit/non-profit and/or private/public, but the dataset description doesn't tell us what the particular values in this column mean. Nevertheless, we can find this out on our own by exploring the table. Match the names below with the appropriate value of `CONTROL` (If a corresponding value doesn't exist, don't assign the variable a value).\n",
    "\n",
    "*Hint: Use `np.unique` to find the unique values of `CONTROL`, then use table methods to explore the table.*"
   ]
  },
  {
   "cell_type": "code",
   "execution_count": null,
   "metadata": {},
   "outputs": [],
   "source": [
    "for_profit_and_public = ...\n",
    "for_profit_and_private = ...\n",
    "non_profit_and_public = ...\n",
    "non_profit_and_private = ..."
   ]
  },
  {
   "cell_type": "code",
   "execution_count": null,
   "metadata": {},
   "outputs": [],
   "source": [
    "_ = ok.grade('q1_4')"
   ]
  },
  {
   "cell_type": "markdown",
   "metadata": {},
   "source": [
    "**Question 5.** Answer the following questions about the `CONTROL` field:\n",
    "* Which control-type educates the least amount of students? Assign the answer to the variable `control_that_educates_the_least`.\n",
    "* Which control-type has the lowest average school size? Assign the answer to the variable `control_smallest_average_size`.\n",
    "* What is the name of the largest non-profit and public university? Assign the answer to the variable `name_largest_non_profit_and_public`."
   ]
  },
  {
   "cell_type": "code",
   "execution_count": null,
   "metadata": {},
   "outputs": [],
   "source": [
    "control_that_educates_the_least = ...\n",
    "control_smallest_average_size = ...\n",
    "name_largest_non_profit_and_public = ..."
   ]
  },
  {
   "cell_type": "code",
   "execution_count": null,
   "metadata": {},
   "outputs": [],
   "source": [
    "_ = ok.grade('q1_5')"
   ]
  },
  {
   "cell_type": "markdown",
   "metadata": {},
   "source": [
    "US Colleges educate a large number of foreign students. The column `UGDS_NRA` contains, for each institution, the total share of enrollment of undergraduate degree-seeking students who are non-resident aliens.\n",
    "\n",
    "**Question 6.** Which private, non-profit, predominantly bachelor degree granting institution has the largest population of non-resident alien undergraduate students? Which has the second largest population? Assign your answers to the names `largest_ugds_nra` and `second_largest_ugds_nra`, being sure to use the institution name **exactly** as found in the table."
   ]
  },
  {
   "cell_type": "code",
   "execution_count": null,
   "metadata": {},
   "outputs": [],
   "source": [
    "largest_ugds_nra = ...\n",
    "second_largest_ugds_nra = ..."
   ]
  },
  {
   "cell_type": "code",
   "execution_count": null,
   "metadata": {},
   "outputs": [],
   "source": [
    "_ = ok.grade('q1_6')"
   ]
  },
  {
   "cell_type": "markdown",
   "metadata": {},
   "source": [
    "### US College Geography"
   ]
  },
  {
   "cell_type": "markdown",
   "metadata": {},
   "source": [
    "The field `STABBR` contains the state or region of each institution. Some interesting questions you might want to explore before tackling the below questions are: What are the possible values of `STABBR`? How many values are there? Are there surprising values?"
   ]
  },
  {
   "cell_type": "markdown",
   "metadata": {},
   "source": [
    "**Question 7.** Which state has the *fourth* highest number of college students among all US States? How many total students are attending schools in that state?"
   ]
  },
  {
   "cell_type": "code",
   "execution_count": null,
   "metadata": {},
   "outputs": [],
   "source": [
    "state_with_fourth_most_students = ...\n",
    "number_of_students_in_state = ..."
   ]
  },
  {
   "cell_type": "code",
   "execution_count": null,
   "metadata": {},
   "outputs": [],
   "source": [
    "_ = ok.grade('q1_7')"
   ]
  },
  {
   "cell_type": "markdown",
   "metadata": {},
   "source": [
    "**Optional:** Plot the number of students by state in a bar chart"
   ]
  },
  {
   "cell_type": "code",
   "execution_count": null,
   "metadata": {},
   "outputs": [],
   "source": [
    "# Optional: Plot the bar chart"
   ]
  },
  {
   "cell_type": "markdown",
   "metadata": {},
   "source": [
    "Unsurprisingly, populous states have more colleges. The file `data/population-2017.csv` contains state population estimates for 2017 from the census bureau. Using these estimates, calculate the number of college students per capita of each state. Specifically, answer the following:\n",
    "\n",
    "**Question 8.** Create a table named `state_stats` consisting of columns `STATE`, `POP`, and `PER_CAPITA`, containing:\n",
    "* the values of `STABBR`,\n",
    "* the population of each value of `STABBR`,\n",
    "* the number of undergraduate students per capita for each value of `STABBR`.\n",
    "    \n",
    "*Remark*: Use the simplifying assumption that students are contained in the census estimate. Is this assumption reasonable?\n",
    "\n",
    "*Hint*: If you're struggling, refer to the census example from lecture that calculated the female:male ratio by age."
   ]
  },
  {
   "cell_type": "code",
   "execution_count": null,
   "metadata": {},
   "outputs": [],
   "source": [
    "state_stats = ..."
   ]
  },
  {
   "cell_type": "code",
   "execution_count": null,
   "metadata": {},
   "outputs": [],
   "source": [
    "_ = ok.grade('q1_8')"
   ]
  },
  {
   "cell_type": "markdown",
   "metadata": {},
   "source": [
    "**Question 9.** Among the states with over 500,000 residents, which has the most college students per capita? What percentage of that state's population are college students? (Your answer should be between 0-100%)"
   ]
  },
  {
   "cell_type": "code",
   "execution_count": null,
   "metadata": {},
   "outputs": [],
   "source": [
    "most_per_capita_state = ...\n",
    "most_per_capita_pct = ..."
   ]
  },
  {
   "cell_type": "code",
   "execution_count": null,
   "metadata": {},
   "outputs": [],
   "source": [
    "_ = ok.grade('q1_9')"
   ]
  },
  {
   "cell_type": "markdown",
   "metadata": {},
   "source": [
    "## 2. Cost of college: tuition, student debt, and future earning\n",
    "\n",
    "```\n",
    "NPT4                   Average net price for Title IV institutions\n",
    "NPT41                  Average net price for $0-$30,000 family income\n",
    "NPT42                  Average net price for $30,001-$48,000 family income\n",
    "NPT43                  Average net price for $48,001-$75,000 family income\n",
    "NPT44                  Average net price for $75,001-$110,000 family income\n",
    "NPT45                  Average net price for $110,000+ family income\n",
    "MD_EARN_WNE_P10        Median earnings of students working and not enrolled 10 years after entry\n",
    "GT_25K_P6              Share of students earning over $25,000/year (threshold earnings) 6 years after entry\n",
    "GRAD_DEBT_MDN_SUPP     Median debt of completers, suppressed for n=30\n",
    "RPY_3YR_RT_SUPP        3-year repayment rate, suppressed for n=30\n",
    "```\n",
    "\n",
    "### Goals of the section\n",
    "\n",
    "One of the goals of creating the college scorecard was to add elements of schools' value to school rankings. This section looks at the cost of college for the typical student, as well as financial implications of graduating from college. A few comments on the new fields (with descriptions given above):\n",
    "* `NPT4` columns include the net price students pay to go to college (including cost-of-living).\n",
    "* `NPT41,NPT42,NPT43,NPT44,NPT45` describe the cost of college for the given income quintile to which the student (or her family) belongs.\n",
    "* `MD_EARN_WNE_P10` lists the median earning of students 10 years after entry. The effect of measuring earnings 10 years after entry gives approximation of what someone will make throughout their life.\n",
    "* These columns have a value of `-1` if the entry was not recorded. Don't forget to exclude these values if required!\n",
    "\n",
    "General questions to ask:\n",
    "1. What is the cost of college versus a student's future earnings? Where should you go for a \"good deal\"?\n",
    "2. How much of a problem is the \"student loan default epidemic\". Can we conclude that certain colleges are complicit?"
   ]
  },
  {
   "cell_type": "markdown",
   "metadata": {},
   "source": [
    "Read in the financials data into a table called `financials`. "
   ]
  },
  {
   "cell_type": "code",
   "execution_count": null,
   "metadata": {},
   "outputs": [],
   "source": [
    "financials = ...\n",
    "financials"
   ]
  },
  {
   "cell_type": "markdown",
   "metadata": {},
   "source": [
    "**Question 1.** What are the mean values for \"median debt\" of completers across all possible values of `PREDDEG` and `CONTROL`?\n",
    "\n",
    "*Remark 1*: For example, assign to `median_debt_preddeg_2` the average value of `GRAD_DEBT_MDN_SUPP` for schools with `PREDDEG` equal to 2."
   ]
  },
  {
   "cell_type": "code",
   "execution_count": null,
   "metadata": {},
   "outputs": [],
   "source": [
    "median_debt_preddeg_1 = ...\n",
    "median_debt_preddeg_2 = ...\n",
    "median_debt_preddeg_3 = ...\n",
    "\n",
    "median_debt_control_1 = ...\n",
    "median_debt_control_2 = ...\n",
    "median_debt_control_3 = ..."
   ]
  },
  {
   "cell_type": "code",
   "execution_count": null,
   "metadata": {},
   "outputs": [],
   "source": [
    "_ = ok.grade('q2_1')"
   ]
  },
  {
   "cell_type": "markdown",
   "metadata": {},
   "source": [
    "**Optional:** Plot the previous values in a bar chart with one-liners (*hint*: use `group(col, np.mean)` to calculate all the means at once)."
   ]
  },
  {
   "cell_type": "markdown",
   "metadata": {},
   "source": [
    "<hr style=\"color:Maroon;background-color:Maroon;border:0 none; height: 3px;\">\n",
    "\n",
    "*Write your (optional) answer here, replacing this text.*\n",
    "\n",
    "<hr style=\"color:Maroon;background-color:Maroon;border:0 none; height: 3px;\">"
   ]
  },
  {
   "cell_type": "markdown",
   "metadata": {},
   "source": [
    "### Cost of college vs. future earnings\n",
    "\n",
    "Different colleges cater to different economic segments of the population. On the one had, there exist low-cost trade schools consisting of 1-year certificate programs targeting low earning occupations. On the other hand, there are very expensive 4-year universities that train students intending to work in high-earning fields. The following question attempts to balance the cost of college with their students' future earning."
   ]
  },
  {
   "cell_type": "markdown",
   "metadata": {},
   "source": [
    "Create a column called `cost_to_earning` computed by dividing the values in `NPT4` by the values in `MD_EARN_WNE_P10`. A reasonable expectation someone might have is that the yearly cost of attending college should be less than their yearly earnings -- call schools that fail to meet this requirement *expensive schools*.\n",
    "\n",
    "**Question 2.** Among expensive schools, what percentage are for-profit? public? private non-profit? (Give your answer as a percentage between 0-100, rounded to the nearest percent).\n",
    "\n",
    "*Remark*: Don't forget to filter out -1 values!"
   ]
  },
  {
   "cell_type": "code",
   "execution_count": null,
   "metadata": {},
   "outputs": [],
   "source": [
    "expensive_for_profit_pct = ...\n",
    "expensive_public_pct = ...\n",
    "expensive_private_pct = ..."
   ]
  },
  {
   "cell_type": "code",
   "execution_count": null,
   "metadata": {},
   "outputs": [],
   "source": [
    "_ = ok.grade('q2_2')"
   ]
  },
  {
   "cell_type": "markdown",
   "metadata": {},
   "source": [
    "The scatterplot function takes two optional arguments that help provide a lot more context than a plain scatterplot. Given a table `tbl` with numeric columns `c1`,`c2` to be plotted, you can control the size and color of the dots in the plot using the `sizes` and `colors` keyword arguments. The `alpha` keyword is a float between 0 and 1 that controls the opacity of the dots. See the code sample below for usage."
   ]
  },
  {
   "cell_type": "code",
   "execution_count": null,
   "metadata": {},
   "outputs": [],
   "source": [
    "tbl = Table().with_columns(\n",
    "    'c1', np.random.randn(500),\n",
    "    'c2', np.random.randn(500),\n",
    "    'size_col', np.random.randint(0,10000,500),\n",
    "    'color_col', np.random.choice(['label_1', 'label_2', 'label_3'], 500)\n",
    ")\n",
    "tbl"
   ]
  },
  {
   "cell_type": "code",
   "execution_count": null,
   "metadata": {},
   "outputs": [],
   "source": [
    "tbl.scatter('c1', 'c2', sizes='size_col', colors='color_col', alpha=0.5)"
   ]
  },
  {
   "cell_type": "markdown",
   "metadata": {},
   "source": [
    "**Optional:** Plot scatterplots of `NPT4` against `MD_EARN_WNE_P10`, making the size of the dots proportional to the size of the school (`UGDS`) and using the values of either `PREDDEG` or `CONTROL` to color the dots. Be sure to filter out negative values of `NPT4` and `MD_EARN_WNE_P10`.\n",
    "\n",
    "* What do the different quadrants of the plot reflect about a school's value?\n",
    "* What can you say about the value of schools for different values of `PREDDEG`? of different values of `CONTROL`? Investigate interesting outliers.\n",
    "* What do these scatterplots say about different types of public schools? (you may want to filter the plot to display only public schools)."
   ]
  },
  {
   "cell_type": "code",
   "execution_count": null,
   "metadata": {},
   "outputs": [],
   "source": [
    "# Plot the scatterplots"
   ]
  },
  {
   "cell_type": "markdown",
   "metadata": {},
   "source": [
    "<hr style=\"color:Maroon;background-color:Maroon;border:0 none; height: 3px;\">\n",
    "\n",
    "*Write your (optional) answer here, replacing this text.*\n",
    "\n",
    "<hr style=\"color:Maroon;background-color:Maroon;border:0 none; height: 3px;\">"
   ]
  },
  {
   "cell_type": "markdown",
   "metadata": {},
   "source": [
    "### Future earnings"
   ]
  },
  {
   "cell_type": "markdown",
   "metadata": {},
   "source": [
    "**Question 3.** Which school located in San Diego, CA has the highest median earning? By how many dollars does the school exceed the second place school?"
   ]
  },
  {
   "cell_type": "code",
   "execution_count": null,
   "metadata": {},
   "outputs": [],
   "source": [
    "sd_school_with_highest_earning = ...\n",
    "amt_exceeding_second_place = ..."
   ]
  },
  {
   "cell_type": "code",
   "execution_count": null,
   "metadata": {},
   "outputs": [],
   "source": [
    "_ = ok.grade('q2_3')"
   ]
  },
  {
   "cell_type": "markdown",
   "metadata": {},
   "source": [
    "**Optional:** Is the difference between the median incomes surprising? Why are the numbers as close as they are? Can you surmise why the the repayment rate differs between the schools?"
   ]
  },
  {
   "cell_type": "markdown",
   "metadata": {},
   "source": [
    "<hr style=\"color:Maroon;background-color:Maroon;border:0 none; height: 3px;\">\n",
    "\n",
    "*Write your (optional) answer here, replacing this text.*\n",
    "\n",
    "<hr style=\"color:Maroon;background-color:Maroon;border:0 none; height: 3px;\">"
   ]
  },
  {
   "cell_type": "markdown",
   "metadata": {},
   "source": [
    "### Optional: Federal loan defaults: are for-profit colleges to blame?\n",
    "\n",
    "Much has been made of the high-default rates of for-profit colleges. Governmental investigations have painted a picture of for-profit colleges existing primarily to siphon off federal student loan money, leaving the students with few learned skills and future bad credit from loan default."
   ]
  },
  {
   "cell_type": "code",
   "execution_count": null,
   "metadata": {},
   "outputs": [],
   "source": [
    "# Before answering the questions in this section, you might want to do the following to \n",
    "# get a better feeling for the data:\n",
    "\n",
    "# Create columns for total amount of defaults / total amount loaned (these are approximate!).\n",
    "# What's the total amount of student debt defaulted on? Whats the total default rate?\n",
    "# Calculate group(CONTROL, np.sum) to sum total defaults/amt loaned by CONTROL. \n",
    "# What's the total $ by default per control? What's the default rate by CONTROL?"
   ]
  },
  {
   "cell_type": "code",
   "execution_count": null,
   "metadata": {},
   "outputs": [],
   "source": [
    "# Plot pct_loan by default rate scatter plots -- understand the quadrants and look into outliers."
   ]
  },
  {
   "cell_type": "markdown",
   "metadata": {},
   "source": [
    "### Growth in cost of college across income quintiles\n",
    "\n",
    "The file `data/csc_cost_growths.csv` contains information on the price of school across the different income quintiles. Colleges with a large difference between cost of attendence for students with varying income is indicative of a school's ability to offer support to students of need (as well as the size of the school's endowment).\n",
    "\n",
    "First, load the data into a table called `growth`."
   ]
  },
  {
   "cell_type": "code",
   "execution_count": null,
   "metadata": {},
   "outputs": [],
   "source": [
    "growth = ...\n",
    "growth"
   ]
  },
  {
   "cell_type": "markdown",
   "metadata": {},
   "source": [
    "**Question 4** Next, create a new table `growth_with_discount` that contains an additional column called `pct_discount` that gives the percent discount given to an average student in the first quintile versus the fifth quintile. Assign the name of an institution in CA that gives the biggest discount to the name `biggest_discount_ca_school`.\n",
    "* The answer should be a percentage between 0-100.\n",
    "* Filter out negative numbers in the given columns!"
   ]
  },
  {
   "cell_type": "code",
   "execution_count": null,
   "metadata": {},
   "outputs": [],
   "source": [
    "growth_with_discount = ...\n",
    "growth_with_discount"
   ]
  },
  {
   "cell_type": "code",
   "execution_count": null,
   "metadata": {},
   "outputs": [],
   "source": [
    "biggest_discount_ca_school = ...\n",
    "biggest_discount_ca_school"
   ]
  },
  {
   "cell_type": "code",
   "execution_count": null,
   "metadata": {},
   "outputs": [],
   "source": [
    "_ = ok.grade('q2_4')"
   ]
  },
  {
   "cell_type": "markdown",
   "metadata": {},
   "source": [
    "**Optional:** plot a histogram of `pct_discount`. Who are the schools with large difference in price, compared to the majority of schools?"
   ]
  },
  {
   "cell_type": "code",
   "execution_count": null,
   "metadata": {},
   "outputs": [],
   "source": [
    "# Optional: Plot the histogram"
   ]
  },
  {
   "cell_type": "markdown",
   "metadata": {},
   "source": [
    "<hr style=\"color:Maroon;background-color:Maroon;border:0 none; height: 3px;\">\n",
    "\n",
    "*Write your (optional) answer here, replacing this text.*\n",
    "\n",
    "<hr style=\"color:Maroon;background-color:Maroon;border:0 none; height: 3px;\">"
   ]
  },
  {
   "cell_type": "markdown",
   "metadata": {},
   "source": [
    "## 3. SAT scores and graduation rates"
   ]
  },
  {
   "cell_type": "markdown",
   "metadata": {},
   "source": [
    "```\n",
    "SATMID                 Midpoint of SAT scores at the institution\n",
    "SAT_AVG                Average SAT equivalent score of students admitted\n",
    "C150_4_POOLED_SUPP     Completion rate for first-time, full-time students at four-year institutions\n",
    "```\n",
    "\n",
    "The file `data/csc_sat_scores.csv` contains information on the school's SAT scores (admitted and attending students), as well as school's graduation rates (finishing in 6 years). This data includes *only* schools that predominantly award bachelor degrees.\n",
    "\n",
    "### Goals of the section:\n",
    "\n",
    "* Understand the gap between the SAT scores of who a school admits versus the students attending the school.\n",
    "* Understand the association between completion rates and the SAT scores of their students.\n",
    "\n",
    "Load the SAT data into a table called `sat`"
   ]
  },
  {
   "cell_type": "code",
   "execution_count": null,
   "metadata": {},
   "outputs": [],
   "source": [
    "sat = ...\n",
    "sat"
   ]
  },
  {
   "cell_type": "markdown",
   "metadata": {},
   "source": [
    "Create a column in the table `sat` called `SAT_DIFF` that consists of the absolute difference between the average SAT score of admitted students and the midpoint SAT score of enrolled students.\n",
    "\n",
    "**Question 1.** What is the min value of `SAT_DIFF`? What is the min value of `SAT_DIFF` among schools with greater than a 1400 midpoint of SAT scores?"
   ]
  },
  {
   "cell_type": "code",
   "execution_count": null,
   "metadata": {},
   "outputs": [],
   "source": [
    "# Change the difference to absolute difference\n",
    "# Then change the average value to min value\n",
    "sat = ...\n",
    "min_sat_diff = ...\n",
    "min_sat_diff_above_1400 = ..."
   ]
  },
  {
   "cell_type": "code",
   "execution_count": null,
   "metadata": {},
   "outputs": [],
   "source": [
    "_ = ok.grade('q3_1')"
   ]
  },
  {
   "cell_type": "markdown",
   "metadata": {},
   "source": [
    "**Optional:** Plot a scatterplot of `SATMID` against `SAT_DIFF`. Which schools have the largest/smallest absolute difference in `SAT_DIFF`? "
   ]
  },
  {
   "cell_type": "code",
   "execution_count": null,
   "metadata": {},
   "outputs": [],
   "source": [
    "# Optional: Plot the scatterplot\n"
   ]
  },
  {
   "cell_type": "markdown",
   "metadata": {},
   "source": [
    "<hr style=\"color:Maroon;background-color:Maroon;border:0 none; height: 3px;\">\n",
    "\n",
    "*Write your (optional) answer here, replacing this text.*\n",
    "\n",
    "<hr style=\"color:Maroon;background-color:Maroon;border:0 none; height: 3px;\">"
   ]
  },
  {
   "cell_type": "markdown",
   "metadata": {},
   "source": [
    "### Completion rates and SAT scores\n",
    "\n",
    "Plot a scatterplot of `SATMID` against `C150_4_POOLED_SUPP`. Notice the following two observations:\n",
    "* There is a positive association between `SATMID` and `C150_4_POOLED_SUPP`.\n",
    "* The variation in graduation rates is smaller for *higher* SAT scores and larger for *lower* SAT scores."
   ]
  },
  {
   "cell_type": "code",
   "execution_count": null,
   "metadata": {},
   "outputs": [],
   "source": [
    "# Plot the scatterplot\n"
   ]
  },
  {
   "cell_type": "markdown",
   "metadata": {},
   "source": [
    "**Optional:** Why might this association exist? Do you think it is a causal association? If no, identify possible confounders."
   ]
  },
  {
   "cell_type": "markdown",
   "metadata": {},
   "source": [
    "<hr style=\"color:Maroon;background-color:Maroon;border:0 none; height: 3px;\">\n",
    "\n",
    "*Write your (optional) answer here, replacing this text.*\n",
    "\n",
    "<hr style=\"color:Maroon;background-color:Maroon;border:0 none; height: 3px;\">"
   ]
  },
  {
   "cell_type": "markdown",
   "metadata": {},
   "source": [
    "This question attempts to identify differences in schools with different completion rates that have similar average SAT scores. \n",
    "\n",
    "**Question 2.** Compute the mean and standard deviation of the completion rates of schools with average SAT scores between or equal to, 1000 and 1200. Call these amounts `m` and `s` respectively.\n",
    "\n",
    "*Hint*: numpy has a standard deviation function, `np.std`."
   ]
  },
  {
   "cell_type": "code",
   "execution_count": null,
   "metadata": {},
   "outputs": [],
   "source": [
    "m = ...\n",
    "s = ..."
   ]
  },
  {
   "cell_type": "code",
   "execution_count": null,
   "metadata": {},
   "outputs": [],
   "source": [
    "_ = ok.grade('q3_2')"
   ]
  },
  {
   "cell_type": "markdown",
   "metadata": {},
   "source": [
    "**Question 3.** In this question, consider only schools with an average SAT score bewteen 900 and 1200. Calculate the following ratios and assign them to the variables below:\n",
    "1. What is the ratio of private-to-public schools among schools with completion rates above `m + s` (i.e. high completion rates)?\n",
    "2. What is the ratio of private-to-public schools among schools with completion rates below `m - s` (i.e. low completion rates)?"
   ]
  },
  {
   "cell_type": "code",
   "execution_count": null,
   "metadata": {},
   "outputs": [],
   "source": [
    "ratio_high_completion = ...\n",
    "ratio_low_completion = ..."
   ]
  },
  {
   "cell_type": "code",
   "execution_count": null,
   "metadata": {},
   "outputs": [],
   "source": [
    "_ = ok.grade('q3_3')"
   ]
  },
  {
   "cell_type": "markdown",
   "metadata": {},
   "source": [
    "**Optional:** If you had an SAT score between 1000 and 1200, would you rather go to a private school or a public school? (All other factors aside). Do you think this link is casual? What are possible confounders? Can you think of any other possible conditions to analyze to adjust for those confounders?"
   ]
  },
  {
   "cell_type": "markdown",
   "metadata": {},
   "source": [
    "<hr style=\"color:Maroon;background-color:Maroon;border:0 none; height: 3px;\">\n",
    "\n",
    "*Write your (optional) answer here, replacing this text.*\n",
    "\n",
    "<hr style=\"color:Maroon;background-color:Maroon;border:0 none; height: 3px;\">"
   ]
  },
  {
   "cell_type": "markdown",
   "metadata": {},
   "source": [
    "### SAT Scores and student financials\n",
    "\n",
    "There has been extensive research on the correlation between student SAT scores and family income. Wealthy families can afford expensive SAT preparation services, while success at the SAT is affected by test-taking strategies as well academic preparation. Hence, while a school's average SAT score is often used as a measure of academic quality, it is confounded by the economic makeup of the school's student-body.\n",
    "\n",
    "[Federal Pell grants](https://studentaid.ed.gov/sa/types/grants-scholarships/pell) are need-based grants (not loans) available to undergraduate students. The percentage of a school's student-body receiving Pell grants (`PCTPELL`) gives a glimpse at the economic backgrounds of the student-body.\n",
    "\n",
    "Below, display a scatterplot of `SATMID` against `PCTPELL`."
   ]
  },
  {
   "cell_type": "code",
   "execution_count": null,
   "metadata": {},
   "outputs": [],
   "source": [
    "# Plot the scatterplot\n"
   ]
  },
  {
   "cell_type": "markdown",
   "metadata": {},
   "source": [
    "**Question 4.** Among schools with average SAT scores above 1200, which school has the smallest proportion of Pell grants? Assign the institution name to the variable `smallest_pell_grants` below."
   ]
  },
  {
   "cell_type": "code",
   "execution_count": null,
   "metadata": {},
   "outputs": [],
   "source": [
    "smallest_pell_grants = ..."
   ]
  },
  {
   "cell_type": "code",
   "execution_count": null,
   "metadata": {},
   "outputs": [],
   "source": [
    "_ = ok.grade('q3_4')"
   ]
  },
  {
   "cell_type": "markdown",
   "metadata": {},
   "source": [
    "**You're finished!** Congratulations on mastering data visualization and table manipulation. Time to submit."
   ]
  },
  {
   "cell_type": "code",
   "execution_count": null,
   "metadata": {},
   "outputs": [],
   "source": [
    "# For your convenience, you can run this cell to run all the tests at once!\n",
    "import os\n",
    "_ = [ok.grade(q[:-3]) for q in os.listdir(\"tests\") if q.startswith('q')]"
   ]
  },
  {
   "cell_type": "code",
   "execution_count": null,
   "metadata": {},
   "outputs": [],
   "source": [
    "_ = ok.submit()"
   ]
  },
  {
   "cell_type": "markdown",
   "metadata": {},
   "source": [
    "## No submission to Gradescope this week!\n",
    "\n",
    "As mentioned in the instructions, the short answer questions are optional and ungraded, so you don't need to submit a PDF of this notebook to Gradescope. However, doing the short answer questions is excellent practice for the midterm, and we will post solutions to them immediate after the project's due date."
   ]
  }
 ],
 "metadata": {
  "kernelspec": {
   "display_name": "Python 3",
   "language": "python",
   "name": "python3"
  },
  "language_info": {
   "codemirror_mode": {
    "name": "ipython",
    "version": 3
   },
   "file_extension": ".py",
   "mimetype": "text/x-python",
   "name": "python",
   "nbconvert_exporter": "python",
   "pygments_lexer": "ipython3",
   "version": "3.6.8"
  }
 },
 "nbformat": 4,
 "nbformat_minor": 2
}
